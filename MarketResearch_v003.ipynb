{
  "nbformat": 4,
  "nbformat_minor": 0,
  "metadata": {
    "colab": {
      "name": "MarketResearch_v003.ipynb",
      "provenance": [],
      "collapsed_sections": [],
      "history_visible": true,
      "authorship_tag": "ABX9TyMp3CSwghUW4hbHTSdXCGb/",
      "include_colab_link": true
    },
    "kernelspec": {
      "name": "python3",
      "display_name": "Python 3"
    },
    "language_info": {
      "name": "python"
    }
  },
  "cells": [
    {
      "cell_type": "markdown",
      "metadata": {
        "id": "view-in-github",
        "colab_type": "text"
      },
      "source": [
        "<a href=\"https://colab.research.google.com/github/kappandrew2/DataPreProcessing/blob/main/MarketResearch_v003.ipynb\" target=\"_parent\"><img src=\"https://colab.research.google.com/assets/colab-badge.svg\" alt=\"Open In Colab\"/></a>"
      ]
    },
    {
      "cell_type": "markdown",
      "metadata": {
        "id": "1mSu-6RRLTR1"
      },
      "source": [
        "#Model Purpose\n",
        "\n",
        "Utilize historical value and time attributes to predict the next day's gain or loss value\n",
        "\n",
        "!Dataset Notes: The dataset for this data solution must come from the following web sit and contain a large historical sample of data. For example:\n",
        "\n",
        "Begin Date = 12/01/2007 (Be mindful that the last 35 periods (in this case, days) will get chopped off of the bottom of the dataset during data preprocessing)\n",
        "\n",
        "End Date = Today's current value (to be run an hour before market close)\n",
        "\n",
        "Ticker = SPY\n",
        "\n",
        "Train Set = all data except last 60 periods (rows)\n",
        "\n",
        "Prediction Set = all data from -90 periods (days) to current\n",
        "\n",
        "https://www.wsj.com/market-data/quotes/index/SPX/historical-prices\n"
      ]
    },
    {
      "cell_type": "code",
      "metadata": {
        "id": "lx9d2QEa6mXf"
      },
      "source": [
        "import numpy as np\n",
        "import matplotlib.pyplot as plt\n",
        "import pandas as pd\n",
        "import datetime\n",
        "from sklearn.model_selection import train_test_split\n",
        "from datetime import date, datetime, timedelta\n",
        "from pandas._libs.tslibs.timestamps import Timestamp\n",
        "from scipy.sparse import csr_matrix\n"
      ],
      "execution_count": 15,
      "outputs": []
    },
    {
      "cell_type": "markdown",
      "metadata": {
        "id": "6mLzKv5BGUUZ"
      },
      "source": [
        "#Connect to drive and import data set\n",
        "\n",
        "Using google drive\n",
        "\n",
        "Importing historical prices for ticker \"SPY\""
      ]
    },
    {
      "cell_type": "code",
      "metadata": {
        "colab": {
          "base_uri": "https://localhost:8080/"
        },
        "id": "LAo4DboL6vQh",
        "outputId": "7c9b0887-f590-43b0-c4f7-56c07b56dc57"
      },
      "source": [
        "#Create CSV from data export\n",
        "#https://www.wsj.com/market-data/quotes/index/SPX/historical-prices\n",
        "\n",
        "from google.colab import drive\n",
        "drive.mount('/content/drive', force_remount=True)\n",
        "\n",
        "dataset1 = pd.read_csv('/content/drive/MyDrive/Colab Notebooks/HistoricalPricesSPY.csv')\n",
        "\n",
        "dataset2 = pd.read_csv('/content/drive/MyDrive/Colab Notebooks/HistoricalPricesSH.csv')\n",
        "\n",
        "print(dataset1)"
      ],
      "execution_count": 10,
      "outputs": [
        {
          "output_type": "stream",
          "text": [
            "Mounted at /content/drive\n",
            "          Date    Open      High     Low     Close     Volume\n",
            "0     08/05/21  440.22  441.8500  439.88  441.7600   38573200\n",
            "1     08/04/21  439.78  441.1243  438.73  438.9800   46732207\n",
            "2     08/03/21  438.44  441.2800  436.10  441.1500   58053898\n",
            "3     08/02/21  440.34  440.9300  437.21  437.5900   58783301\n",
            "4     07/30/21  437.91  440.0600  437.77  438.5100   68951203\n",
            "...        ...     ...       ...     ...       ...        ...\n",
            "1403  01/08/16  195.19  195.8500  191.58  191.9230  209817203\n",
            "1404  01/07/16  195.33  197.4400  193.59  194.0500  213436094\n",
            "1405  01/06/16  198.34  200.0600  197.60  198.8200  152112609\n",
            "1406  01/05/16  201.40  201.9000  200.05  201.3600  110845797\n",
            "1407  01/04/16  200.49  201.0300  198.59  201.0192  222353500\n",
            "\n",
            "[1408 rows x 6 columns]\n"
          ],
          "name": "stdout"
        }
      ]
    },
    {
      "cell_type": "markdown",
      "metadata": {
        "id": "ZWGjihLGGnuD"
      },
      "source": [
        "#Modifiy dataset Content and Headers\n",
        "\n",
        "Remove contents not required for this exercise\n",
        "\n",
        "Renaming columns to remove leading white space\n",
        "\n",
        "Narrowing the dataset can be done via drop or select, both options are available (comment out the one not in use)"
      ]
    },
    {
      "cell_type": "code",
      "metadata": {
        "id": "4_0Dq0yU7GHg"
      },
      "source": [
        "#Reduce dataframe columns\n",
        "dataset1.rename({' Close': 'Close'}, axis=1, inplace = True)\n",
        "dataset1 = dataset1[['Close', 'Date']]\n",
        "#Reduce Dataframe columns\n",
        "dataset2.rename({' Close': 'Close'}, axis=1, inplace = True)\n",
        "dataset2 = dataset2[['Close', 'Date']]\n",
        "\n",
        "#Set data types\n",
        "dataset1['Date'] = pd.to_datetime(dataset1['Date'])\n",
        "#Set data types\n",
        "dataset2['Date'] = pd.to_datetime(dataset2['Date'])\n",
        "\n",
        "#Create date attributes\n",
        "dataset1['DOW'] = dataset1['Date'].dt.dayofweek\n",
        "dataset1['Month'] = dataset1['Date'].dt.month\n",
        "dataset1['Quarter'] = dataset1['Date'].dt.quarter\n",
        "#Create date attributes\n",
        "dataset2['DOW'] = dataset2['Date'].dt.dayofweek\n",
        "dataset2['Month'] = dataset2['Date'].dt.month\n",
        "dataset2['Quarter'] = dataset2['Date'].dt.quarter\n",
        "\n",
        "#Date to sparse matrix\n",
        "from sklearn.preprocessing import OneHotEncoder\n",
        "ohe = OneHotEncoder(drop='first')\n",
        "#Encode Time Variables\n",
        "dow1 = ohe.fit_transform(dataset1.DOW.values.reshape(-1,1)).toarray()\n",
        "DOW1 = pd.DataFrame(dow1, columns = ['Tu', 'We', 'Th', 'Fr'])\n",
        "month1 = ohe.fit_transform(dataset1.Month.values.reshape(-1,1)).toarray()\n",
        "MONTH1 = pd.DataFrame(month1, columns = ['Feb', 'Mar', 'Apr', 'May', 'Jun', 'Jul', 'Aug', 'Sep', 'Oct', 'Nov', 'Dec'])\n",
        "q1 = ohe.fit_transform(dataset1.Quarter.values.reshape(-1,1)).toarray()\n",
        "Q1 = pd.DataFrame(q1, columns = ['Q2', 'Q3', 'Q4'])\n",
        "dataset1 = pd.concat([dataset1, DOW1, MONTH1, Q1], axis=1)\n",
        "#Encode Time Variables\n",
        "dow2 = ohe.fit_transform(dataset2.DOW.values.reshape(-1,1)).toarray()\n",
        "DOW2 = pd.DataFrame(dow2, columns = ['Tu', 'We', 'Th', 'Fr'])\n",
        "month2 = ohe.fit_transform(dataset2.Month.values.reshape(-1,1)).toarray()\n",
        "MONTH2 = pd.DataFrame(month2, columns = ['Feb', 'Mar', 'Apr', 'May', 'Jun', 'Jul', 'Aug', 'Sep', 'Oct', 'Nov', 'Dec'])\n",
        "q2 = ohe.fit_transform(dataset2.Quarter.values.reshape(-1,1)).toarray()\n",
        "Q2 = pd.DataFrame(q2, columns = ['Q2', 'Q3', 'Q4'])\n",
        "dataset2 = pd.concat([dataset2, DOW2, MONTH2, Q2], axis=1)\n",
        "\n",
        "#Gain_loss_interval\n",
        "dataset1['gain_loss_0'] = dataset1['Close'].diff(-1)\n",
        "dataset1['gain_loss_1'] = dataset1['Close'].diff(-2)\n",
        "dataset1['gain_loss_2'] = dataset1['Close'].diff(-3)\n",
        "#Gain_loss_interval\n",
        "dataset2['gain_loss_0'] = dataset2['Close'].diff(-1)\n",
        "dataset2['gain_loss_1'] = dataset2['Close'].diff(-2)\n",
        "dataset2['gain_loss_2'] = dataset2['Close'].diff(-3)\n",
        "\n",
        "#Gain_loss_history\n",
        "dataset1['prior_day_1'] = dataset1['gain_loss_0']\n",
        "dataset1['prior_day_1'] = dataset1['prior_day_1'].shift(periods=-1, fill_value=0)\n",
        "dataset1['prior_day_2'] = dataset1['gain_loss_0']\n",
        "dataset1['prior_day_2'] = dataset1['prior_day_2'].shift(periods=-2, fill_value=0)\n",
        "#Gain_loss_history\n",
        "dataset2['prior_day_1'] = dataset2['gain_loss_0']\n",
        "dataset2['prior_day_1'] = dataset2['prior_day_1'].shift(periods=-1, fill_value=0)\n",
        "dataset2['prior_day_2'] = dataset2['gain_loss_0']\n",
        "dataset2['prior_day_2'] = dataset2['prior_day_2'].shift(periods=-2, fill_value=0)\n",
        "\n",
        "#Rolling means\n",
        "rolling_prior_day1 = dataset1['gain_loss_0']\n",
        "rolling_prior_day_5_1 = rolling_prior_day1[::-1].rolling(5).mean()[::-1]\n",
        "rolling_prior_day_10_1 = rolling_prior_day1[::-1].rolling(10).mean()[::-1]\n",
        "rolling_prior_day_5_1.rename('rolling_prior_day_5', inplace = True)\n",
        "rolling_prior_day_10_1.rename('rolling_prior_day_10', inplace = True)\n",
        "dataset = pd.concat([dataset1, rolling_prior_day_10_1, rolling_prior_day_10_1], axis = 1)\n",
        "#Rolling means\n",
        "rolling_prior_day2 = dataset2['gain_loss_0']\n",
        "rolling_prior_day_5_2 = rolling_prior_day2[::-1].rolling(5).mean()[::-1]\n",
        "rolling_prior_day_10_2 = rolling_prior_day2[::-1].rolling(10).mean()[::-1]\n",
        "rolling_prior_day_5_2.rename('rolling_prior_day_5', inplace = True)\n",
        "rolling_prior_day_10_2.rename('rolling_prior_day_10', inplace = True)\n",
        "dataset = pd.concat([dataset2, rolling_prior_day_10_2, rolling_prior_day_10_2], axis = 1)\n",
        "\n",
        "#Remove NaN rows\n",
        "dataset1.dropna(inplace = True)\n",
        "#Remove NaN rows\n",
        "dataset2.dropna(inplace = True)\n",
        "\n",
        "#add dependant variable (requires shifted down one row)\n",
        "y1 = pd.DataFrame(dataset1['gain_loss_0']).reset_index(drop = True)\n",
        "y1.loc[-1] = [0]\n",
        "y1.index = y1.index + 1\n",
        "y1 = y1.sort_index()\n",
        "y1.drop(y1.tail(1).index, inplace = True)\n",
        "y1.rename(columns={'gain_loss_0': 'y'}, inplace=True)\n",
        "y_df1 = pd.DataFrame(y1, columns=['y'])\n",
        "dataset_final1 = pd.concat([dataset1, y_df1], axis=1)\n",
        "#add dependant variable (requires shifted down one row)\n",
        "y2 = pd.DataFrame(dataset2['gain_loss_0']).reset_index(drop = True)\n",
        "y2.loc[-1] = [0]\n",
        "y2.index = y2.index + 1\n",
        "y2 = y2.sort_index()\n",
        "y2.drop(y2.tail(1).index, inplace = True)\n",
        "y2.rename(columns={'gain_loss_0': 'y'}, inplace=True)\n",
        "y_df2 = pd.DataFrame(y2, columns=['y'])\n",
        "dataset_final2 = pd.concat([dataset2, y_df2], axis=1)\n",
        "\n",
        "#drop NaN on final datase\n",
        "dataset_final1.dropna(inplace = True)\n",
        "#drop NaN on final datase\n",
        "dataset_final2.dropna(inplace = True)"
      ],
      "execution_count": 83,
      "outputs": []
    },
    {
      "cell_type": "code",
      "metadata": {
        "colab": {
          "base_uri": "https://localhost:8080/"
        },
        "id": "wE9kCh_CNjtW",
        "outputId": "c6799f24-7b5d-4811-f537-345d5cfb13a6"
      },
      "source": [
        "print(dataset_final1)"
      ],
      "execution_count": 88,
      "outputs": [
        {
          "output_type": "stream",
          "text": [
            "         Close       Date  DOW  ...  prior_day_1  prior_day_2       y\n",
            "0     441.7600 2021-08-05    3  ...      -2.1700       3.5600  0.0000\n",
            "1     438.9800 2021-08-04    2  ...       3.5600      -0.9200  2.7800\n",
            "2     441.1500 2021-08-03    1  ...      -0.9200      -2.1400 -2.1700\n",
            "3     437.5900 2021-08-02    0  ...      -2.1400       1.8200  3.5600\n",
            "4     438.5100 2021-07-30    4  ...       1.8200      -0.1800 -0.9200\n",
            "...        ...        ...  ...  ...          ...          ...     ...\n",
            "1367  199.0000 2016-03-02    2  ...       4.5500      -1.5292  0.7750\n",
            "1368  198.1100 2016-03-01    1  ...      -1.5292      -0.4508  0.8900\n",
            "1369  193.5600 2016-02-29    0  ...      -0.4508       2.3400  4.5500\n",
            "1370  195.0892 2016-02-26    4  ...       2.3400       0.8800 -1.5292\n",
            "1371  195.5400 2016-02-25    3  ...       0.8800      -2.4600 -0.4508\n",
            "\n",
            "[1372 rows x 29 columns]\n"
          ],
          "name": "stdout"
        }
      ]
    },
    {
      "cell_type": "code",
      "metadata": {
        "id": "QNy65PILDpa-"
      },
      "source": [
        "from sklearn.preprocessing import OneHotEncoder\n",
        "ohe = OneHotEncoder(drop='first')\n",
        "#Encode Time Variables\n",
        "dow1 = ohe.fit_transform(dataset1.DOW.values.reshape(-1,1)).toarray()\n",
        "DOW1 = pd.DataFrame(dow1, columns = ['Tu', 'We', 'Th', 'Fr'])\n",
        "month1 = ohe.fit_transform(dataset1.Month.values.reshape(-1,1)).toarray()\n",
        "MONTH1 = pd.DataFrame(month1, columns = ['Feb', 'Mar', 'Apr', 'May', 'Jun', 'Jul', 'Aug', 'Sep', 'Oct', 'Nov', 'Dec'])\n",
        "q1 = ohe.fit_transform(dataset1.Quarter.values.reshape(-1,1)).toarray()\n",
        "Q1 = pd.DataFrame(q1, columns = ['Q2', 'Q3', 'Q4'])\n",
        "\n",
        "\n",
        "#ct = ColumnTransformer(transformers=[('encoder', OneHotEncoder(), [0])], remainder='passthrough')\n",
        "#DOW_matrix1 = ct.fit_transform(dataset_final1['DOW'].values)"
      ],
      "execution_count": 79,
      "outputs": []
    },
    {
      "cell_type": "code",
      "metadata": {
        "colab": {
          "base_uri": "https://localhost:8080/"
        },
        "id": "W0x3GbFiFxZa",
        "outputId": "10cb1a6f-7c2b-4610-b59a-4d28d6419420"
      },
      "source": [
        "list(dataset.columns)"
      ],
      "execution_count": 77,
      "outputs": [
        {
          "output_type": "execute_result",
          "data": {
            "text/plain": [
              "pandas.core.frame.DataFrame"
            ]
          },
          "metadata": {
            "tags": []
          },
          "execution_count": 77
        }
      ]
    },
    {
      "cell_type": "markdown",
      "metadata": {
        "id": "RiHaMfDUTEMj"
      },
      "source": [
        "#Create a correlation matrix\n",
        "\n",
        "Evaluate the effectiveness of each attribute in relation to y and yb"
      ]
    },
    {
      "cell_type": "code",
      "metadata": {
        "colab": {
          "base_uri": "https://localhost:8080/"
        },
        "id": "63qL6jw_TOvu",
        "outputId": "3b42e4f3-42a7-4fe5-f350-e42c4320dc31"
      },
      "source": [
        "corr_mx = dataset_final2.corr()\n",
        "\n",
        "print(corr_mx)"
      ],
      "execution_count": 41,
      "outputs": [
        {
          "output_type": "stream",
          "text": [
            "                Close       DOW     Month  ...  prior_day_1  prior_day_2         y\n",
            "Close        1.000000  0.005948 -0.002592  ...    -0.004028    -0.001291 -0.031498\n",
            "DOW          0.005948  1.000000 -0.012790  ...     0.011404    -0.030397  0.035855\n",
            "Month       -0.002592 -0.012790  1.000000  ...     0.018764     0.019157  0.011121\n",
            "Quarter     -0.012090 -0.015046  0.969448  ...     0.009550     0.007940  0.003289\n",
            "gain_loss_0  0.011465  0.016036  0.014259  ...    -0.246938     0.144737 -0.251513\n",
            "gain_loss_1  0.006049  0.022356  0.026911  ...     0.614488    -0.079228 -0.089834\n",
            "gain_loss_2  0.004025 -0.002013  0.034319  ...     0.336084     0.595209 -0.088736\n",
            "prior_day_1 -0.004028  0.011404  0.018764  ...     1.000000    -0.241639  0.140930\n",
            "prior_day_2 -0.001291 -0.030397  0.019157  ...    -0.241639     1.000000 -0.024763\n",
            "y           -0.031498  0.035855  0.011121  ...     0.140930    -0.024763  1.000000\n",
            "\n",
            "[10 rows x 10 columns]\n"
          ],
          "name": "stdout"
        }
      ]
    },
    {
      "cell_type": "code",
      "metadata": {
        "id": "m1otAGWgW_KD"
      },
      "source": [
        "# Export to view expected results...\n",
        "\n",
        "corr_mx.to_csv('/content/drive/MyDrive/Colab Notebooks/correlation_matrix.csv')"
      ],
      "execution_count": null,
      "outputs": []
    },
    {
      "cell_type": "markdown",
      "metadata": {
        "id": "rifSXtgbhYYt"
      },
      "source": [
        "#Create dataset splitting variable (Train and Pred)\n",
        "\n",
        "Date variables based on today date are required to prevent \"hardcoding\" dates into the model\n",
        "\n",
        "The date_var variable will represent the most current date in the dataset. This allows the solution to be run for any timeframe.\n",
        "\n",
        "The following code can replace the current date_var logic in the case the current method causes issues. Note, this method requires adjustment when back testing \n",
        "\n",
        "date_var = pd.to_datetime(date.today()) \n",
        "\n",
        "use train/pred_minus_days to tune the model for longer or shorter periods of time. Allow for a 30 day overlap where pred will have 30 days"
      ]
    },
    {
      "cell_type": "code",
      "metadata": {
        "colab": {
          "base_uri": "https://localhost:8080/"
        },
        "id": "iF1y7B2r7cVv",
        "outputId": "9932267a-4323-47c4-e10b-fe82e043dc00"
      },
      "source": [
        "train_minus_days = 90\n",
        "pred_minus_days = 90\n",
        "\n",
        "date_var = dataset_final['Date'].max()\n",
        "train_begin_date = dataset_final['Date'].min()\n",
        "train_end_date = (date_var - pd.to_timedelta(train_minus_days, unit='d'))\n",
        "pred_begin_date = (date_var - pd.to_timedelta(pred_minus_days, unit='d'))\n",
        "pred_end_date = date_var\n",
        "\n",
        "train_begin_date = train_begin_date.to_pydatetime()\n",
        "train_end_date = train_end_date.to_pydatetime()\n",
        "pred_begin_date = pred_begin_date.to_pydatetime()\n",
        "pred_end_date = pred_end_date.to_pydatetime()\n",
        "\n",
        "#train_begin_date = pd.DataFrame([train_begin_date], columns=['train_begin_date'])\n",
        "#train_end_date = pd.DataFrame([train_end_date], columns=['train_end_date'])\n",
        "#pred_begin_date = pd.DataFrame([pred_begin_date], columns=['pred_begin_date'])\n",
        "#pred_end_date = pd.DataFrame([pred_end_date], columns=['pred_end_date'])\n",
        "\n",
        "print(train_begin_date)\n",
        "print(train_end_date)\n",
        "print(pred_begin_date)\n",
        "print(pred_end_date)"
      ],
      "execution_count": null,
      "outputs": [
        {
          "output_type": "stream",
          "text": [
            "2016-02-17 00:00:00\n",
            "2021-05-07 00:00:00\n",
            "2021-05-07 00:00:00\n",
            "2021-08-05 00:00:00\n"
          ],
          "name": "stdout"
        }
      ]
    },
    {
      "cell_type": "markdown",
      "metadata": {
        "id": "IzgziXsl-SBz"
      },
      "source": [
        "#Split between training and predict data sets\n",
        "\n",
        "The top last 90 periods (rows) will generate the pred data set.\n",
        "\n",
        "All but the top 60 periods (rows) will generate the training data set.\n",
        "\n",
        "The 30 day overlap can provide a measure of the model's degredation over time\n",
        "\n",
        "!Note - The market is closed on weekends and holidays. The count of days in each set will NOT equal the amount of days between begin and end dates."
      ]
    },
    {
      "cell_type": "code",
      "metadata": {
        "colab": {
          "base_uri": "https://localhost:8080/"
        },
        "id": "nOHf760CShq3",
        "outputId": "ef14e78a-2eeb-43f6-9671-c3ce7f942b42"
      },
      "source": [
        "#split text and train datasets\n",
        "predset = dataset_final[(dataset_final['Date'] >= pred_begin_date) & \n",
        "                        (dataset_final['Date'] <= pred_end_date)]\n",
        "trainset = dataset_final[(dataset_final['Date'] >= train_begin_date) & \n",
        "                         (dataset_final['Date'] <= train_end_date)]\n",
        "type(predset)"
      ],
      "execution_count": null,
      "outputs": [
        {
          "output_type": "execute_result",
          "data": {
            "text/plain": [
              "pandas.core.frame.DataFrame"
            ]
          },
          "metadata": {
            "tags": []
          },
          "execution_count": 44
        }
      ]
    },
    {
      "cell_type": "code",
      "metadata": {
        "colab": {
          "base_uri": "https://localhost:8080/"
        },
        "id": "cTZ65w52bsBZ",
        "outputId": "0fec901e-eae8-4aaa-88f4-b8a2be1b741f"
      },
      "source": [
        "list(dataset.columns)"
      ],
      "execution_count": null,
      "outputs": [
        {
          "output_type": "execute_result",
          "data": {
            "text/plain": [
              "['Close',\n",
              " 'Date',\n",
              " 'DOW',\n",
              " 'DOY',\n",
              " 'Week',\n",
              " 'Month',\n",
              " 'Quarter',\n",
              " 'gain_loss-0',\n",
              " 'gain_loss-1',\n",
              " 'gain_loss-2',\n",
              " 'gain_loss-3',\n",
              " 'gain_loss-4',\n",
              " 'gain_loss-0b',\n",
              " 'gain_loss-1b',\n",
              " 'gain_loss-2b',\n",
              " 'gain_loss-3b',\n",
              " 'gain_loss-4b',\n",
              " 'gain_loss-total_b',\n",
              " 'prior_day_0',\n",
              " 'prior_day-1',\n",
              " 'prior_day-2',\n",
              " 'prior_day-3',\n",
              " 'prior_day-4',\n",
              " 'prior_day_0b',\n",
              " 'prior_day-1b',\n",
              " 'prior_day-2b',\n",
              " 'prior_day-3b',\n",
              " 'prior_day-4b',\n",
              " 'prior_day-total_b',\n",
              " 'rolling_close_3',\n",
              " 'rolling_close_6',\n",
              " 'rolling_close_9',\n",
              " 'rolling_close_12',\n",
              " 'rolling_close_15',\n",
              " 'rolling_close_18',\n",
              " 'rolling_close_21',\n",
              " 'rolling_close_3b',\n",
              " 'rolling_close_6b',\n",
              " 'rolling_close_9b',\n",
              " 'rolling_close_12b',\n",
              " 'rolling_close_15b',\n",
              " 'rolling_close_18b',\n",
              " 'rolling_close_21b',\n",
              " 'rolling_close_total_b']"
            ]
          },
          "metadata": {
            "tags": []
          },
          "execution_count": 45
        }
      ]
    },
    {
      "cell_type": "markdown",
      "metadata": {
        "id": "50h5EJr9_DZW"
      },
      "source": [
        "#Convert dataset into X and y and refine column membership\n",
        "\n",
        "This process separates the dependant and independant variables\n",
        "\n",
        "X should not contain the y or yb attributes\n",
        "\n",
        "for X, \"Date\" should be removed since it is a time-series value; date attributes will represent time\n",
        "\n",
        "for X, \"Close\" should be removed due to its relationship to the indepenant variable\n",
        "\n",
        "Two models will come out of this model, one for continuous variable y and binary value yb"
      ]
    },
    {
      "cell_type": "code",
      "metadata": {
        "colab": {
          "base_uri": "https://localhost:8080/"
        },
        "id": "Z0cZJQK3ILwd",
        "outputId": "a49e2e93-003d-4b77-b481-a3d159fc1f1c"
      },
      "source": [
        "XX = trainset\n",
        "XX.drop(XX.tail(31).index, inplace = True)\n",
        "\n",
        "X = XX[['gain_loss-0','prior_day_0', 'Quarter', 'prior_day-1', 'prior_day-4', 'prior_day-total_b', 'rolling_close_3', 'rolling_close_6', 'rolling_close_9', 'rolling_close_12', 'gain_loss-3', 'prior_day-3']].copy().values\n",
        "Xb = XX[['gain_loss-0b', 'prior_day_0b', 'Quarter', 'gain_loss-2b', 'gain_loss-3b', 'prior_day-1b', 'prior_day-2b', 'prior_day-3b', 'rolling_close_9b', 'rolling_close_12b', 'rolling_close_21b', 'gain_loss-4b', 'rolling_close_15b', 'rolling_close_12b']].copy().values\n",
        "\n",
        "\n",
        "#This set was working good\n",
        "#X = XX[['Quarter', 'prior_day-1', 'prior_day-4', 'prior_day-total_b', ]].copy().values\n",
        "#Xb = XX[['Quarter', 'gain_loss-2b', 'gain_loss-3b', 'prior_day-1b', 'prior_day-2b', 'prior_day-3b', 'rolling_close_9b', 'rolling_close_12b', 'rolling_close_21b']].copy().values\n",
        "\n",
        "#Use the folloing rows to generate the datasets using drop\n",
        "#X = XX.drop(['y', 'yb', 'Close', 'Date','Week', 'DOW', 'Month', 'Quarter', 'gain_loss-0b', 'gain_loss-1b', 'gain_loss-2b', 'gain_loss-3b', 'gain_loss-4b', 'prior_day_0b', 'prior_day-1b', 'prior_day-2b', 'prior_day-3b', 'prior_day-4b', 'rolling_close_3b', 'rolling_close_6b', 'rolling_close_9b', 'rolling_close_12b', 'rolling_close_15b', 'rolling_close_18b', 'rolling_close_21b'], axis = 1)\n",
        "#Xb = XX.drop(['y', 'yb', 'Close', 'Date','Week', 'gain_loss-0', 'gain_loss-1', 'gain_loss-2', 'gain_loss-3', 'gain_loss-4', 'gain_loss-total_b', 'prior_day_0', 'prior_day-1', 'prior_day-2', 'prior_day-3', 'prior_day-4', 'prior_day-total_b', 'rolling_close_3', 'rolling_close_6', 'rolling_close_9', 'rolling_close_12', 'rolling_close_15', 'rolling_close_18', 'rolling_close_21', 'rolling_close_total_b'], axis = 1)\n",
        "\n",
        "X_all = XX.drop(['y', 'yb', 'Close', 'Date','Week'], axis = 1)\n",
        "y = trainset['y'].values\n",
        "yb = trainset['yb'].values\n",
        "print(X)\n",
        "print(\"-------------------------\")\n",
        "print(y)\n",
        "print(\"-------------------------\")\n",
        "print(yb)"
      ],
      "execution_count": null,
      "outputs": [
        {
          "output_type": "stream",
          "text": [
            "[[ 3.05        3.05        2.         ...  4.64833333  3.92\n",
            "  -2.58      ]\n",
            " [ 3.32        3.32        2.         ...  2.1025      1.77\n",
            "   0.9       ]\n",
            " [ 0.13        0.13        2.         ... -0.6425     -4.31\n",
            "  -2.76      ]\n",
            " ...\n",
            " [-2.0608     -2.0608      2.         ... -0.5774     -1.8308\n",
            "  -0.5       ]\n",
            " [-0.67       -0.67        2.         ...  1.44666667  1.1292\n",
            "   0.8992    ]\n",
            " [ 1.4         1.4         2.         ...  2.35916667  3.68\n",
            "   1.8808    ]]\n",
            "-------------------------\n",
            "[-4.18    3.05    3.32   ...  2.2308 -2.0608 -0.67  ]\n",
            "-------------------------\n",
            "[0 1 1 ... 1 0 0]\n"
          ],
          "name": "stdout"
        },
        {
          "output_type": "stream",
          "text": [
            "/usr/local/lib/python3.7/dist-packages/pandas/core/frame.py:4174: SettingWithCopyWarning: \n",
            "A value is trying to be set on a copy of a slice from a DataFrame\n",
            "\n",
            "See the caveats in the documentation: https://pandas.pydata.org/pandas-docs/stable/user_guide/indexing.html#returning-a-view-versus-a-copy\n",
            "  errors=errors,\n"
          ],
          "name": "stderr"
        }
      ]
    },
    {
      "cell_type": "code",
      "metadata": {
        "colab": {
          "base_uri": "https://localhost:8080/"
        },
        "id": "wQNhBiAEN_fx",
        "outputId": "deb7bf33-a3c5-433e-ae00-3605bce4ee10"
      },
      "source": [
        "#Validation of row counts\n",
        "\n",
        "f = len(X)\n",
        "g = len(y)\n",
        "h = len(yb)\n",
        "\n",
        "print(f, g, h)"
      ],
      "execution_count": null,
      "outputs": [
        {
          "output_type": "stream",
          "text": [
            "1285 1285 1285\n"
          ],
          "name": "stdout"
        }
      ]
    },
    {
      "cell_type": "markdown",
      "metadata": {
        "id": "BgGLmBg2CCjH"
      },
      "source": [
        "#Train the models\n",
        "\n",
        "The model can be extended to use any regression or classificaiton model.\n",
        "\n",
        "Current model inventory:\n",
        "\n",
        "1) Random Forest"
      ]
    },
    {
      "cell_type": "code",
      "metadata": {
        "colab": {
          "base_uri": "https://localhost:8080/"
        },
        "id": "w4xd8XMCH3M2",
        "outputId": "79e1d7d9-4067-4bff-f309-acde4a33520b"
      },
      "source": [
        "from sklearn.ensemble import RandomForestRegressor\n",
        "\n",
        "regressor = RandomForestRegressor(n_estimators = 100, random_state = 0)\n",
        "\n",
        "regressor.fit(X, y)\n",
        "\n",
        "regressor_b = RandomForestRegressor(n_estimators = 100, random_state = 0)\n",
        "\n",
        "regressor_b.fit(Xb, yb)\n",
        "\n",
        "regressor_all = RandomForestRegressor(n_estimators = 100, random_state = 0)\n",
        "\n",
        "regressor_all.fit(X_all, y)\n",
        "\n",
        "regressor_all_b = RandomForestRegressor(n_estimators = 100, random_state = 0)\n",
        "\n",
        "regressor_all_b.fit(X_all, yb)\n"
      ],
      "execution_count": null,
      "outputs": [
        {
          "output_type": "execute_result",
          "data": {
            "text/plain": [
              "RandomForestRegressor(bootstrap=True, ccp_alpha=0.0, criterion='mse',\n",
              "                      max_depth=None, max_features='auto', max_leaf_nodes=None,\n",
              "                      max_samples=None, min_impurity_decrease=0.0,\n",
              "                      min_impurity_split=None, min_samples_leaf=1,\n",
              "                      min_samples_split=2, min_weight_fraction_leaf=0.0,\n",
              "                      n_estimators=100, n_jobs=None, oob_score=False,\n",
              "                      random_state=0, verbose=0, warm_start=False)"
            ]
          },
          "metadata": {
            "tags": []
          },
          "execution_count": 48
        }
      ]
    },
    {
      "cell_type": "markdown",
      "metadata": {
        "id": "lMP2XIlOCUTS"
      },
      "source": [
        "#Create predict dataset\n",
        "\n",
        "The predict dataset should match the process used to generate the training dataset"
      ]
    },
    {
      "cell_type": "code",
      "metadata": {
        "colab": {
          "base_uri": "https://localhost:8080/"
        },
        "id": "G0BNR3t8Um8v",
        "outputId": "8817bce0-0df3-4198-ace0-1e38ad3947cf"
      },
      "source": [
        "#Prepare predict set\n",
        "Xpred = predset\n",
        "\n",
        "X_pred = Xpred[['gain_loss-0','prior_day_0', 'Quarter', 'prior_day-1', 'prior_day-4', 'prior_day-total_b', 'rolling_close_3', 'rolling_close_6', 'rolling_close_9', 'rolling_close_12', 'gain_loss-3', 'prior_day-3']].copy().values\n",
        "Xb_pred = Xpred[['gain_loss-0b', 'prior_day_0b', 'Quarter', 'gain_loss-2b', 'gain_loss-3b', 'prior_day-1b', 'prior_day-2b', 'prior_day-3b', 'rolling_close_9b', 'rolling_close_12b', 'rolling_close_21b', 'gain_loss-4b', 'rolling_close_15b', 'rolling_close_12b']].copy().values\n",
        "\n",
        "\n",
        "#This model was working well\n",
        "#X_pred = Xpred[['Quarter', 'prior_day-1', 'prior_day-4', 'prior_day-total_b', ]].copy().values\n",
        "#Xb_pred = Xpred[['Quarter', 'gain_loss-2b', 'gain_loss-3b', 'prior_day-1b', 'prior_day-2b', 'prior_day-3b', 'rolling_close_9b', 'rolling_close_12b', 'rolling_close_21b']].copy().values\n",
        "\n",
        "#X_pred = Xpred[['Close', 'Quarter', 'gain_loss-2b', 'gain_loss-3b', 'prior_day-1', 'prior_day-4', 'prior_day-1b', 'prior_day-2b', 'prior_day-3b', 'prior_day-total_b', 'rolling_close_9b', 'rolling_close_12b', 'rolling_close_21b']].copy().values\n",
        "#Xb_pred = Xpred[['Close', 'Quarter', 'gain_loss-2b', 'gain_loss-3b', 'prior_day-1', 'prior_day-4', 'prior_day-1b', 'prior_day-2b', 'prior_day-3b', 'prior_day-total_b', 'rolling_close_9b', 'rolling_close_12b', 'rolling_close_21b']].copy().values\n",
        "\n",
        "#use the folloing rows to generate datasets using drop\n",
        "#X_pred = Xpred.drop(['y', 'yb', 'Close', 'Date','Week', 'DOW', 'Month', 'Quarter', 'gain_loss-0b', 'gain_loss-1b', 'gain_loss-2b', 'gain_loss-3b', 'gain_loss-4b', 'prior_day_0b', 'prior_day-1b', 'prior_day-2b', 'prior_day-3b', 'prior_day-4b', 'rolling_close_3b', 'rolling_close_6b', 'rolling_close_9b', 'rolling_close_12b', 'rolling_close_15b', 'rolling_close_18b', 'rolling_close_21b'], axis = 1)\n",
        "#Xb_pred = Xpred.drop(['y', 'yb', 'Close', 'Date','Week', 'gain_loss-0', 'gain_loss-1', 'gain_loss-2', 'gain_loss-3', 'gain_loss-4', 'gain_loss-total_b', 'prior_day_0', 'prior_day-1', 'prior_day-2', 'prior_day-3', 'prior_day-4', 'prior_day-total_b', 'rolling_close_3', 'rolling_close_6', 'rolling_close_9', 'rolling_close_12', 'rolling_close_15', 'rolling_close_18', 'rolling_close_21', 'rolling_close_total_b'], axis = 1)\n",
        "\n",
        "X_all_pred = Xpred.drop(['y', 'yb', 'Close', 'Date','Week'], axis = 1)\n",
        "y_actual = predset['y'].values\n",
        "yb_actual = predset['yb'].values\n",
        "print(Xpred)\n",
        "print(\"-------------------------\")\n",
        "print(y_actual)\n",
        "print(\"-------------------------\")\n",
        "print(yb_actual)"
      ],
      "execution_count": null,
      "outputs": [
        {
          "output_type": "stream",
          "text": [
            "     Close       Date  DOW  ...  rolling_prior_day_30     y  yb\n",
            "0   441.76 2021-08-05    3  ...              0.638667  0.00   0\n",
            "1   438.98 2021-08-04    2  ...              0.529000  2.78   1\n",
            "2   441.15 2021-08-03    1  ...              0.676333 -2.17   0\n",
            "3   437.59 2021-08-02    0  ...              0.755667  3.56   1\n",
            "4   438.51 2021-07-30    4  ...              0.551333 -0.92   0\n",
            "..     ...        ...  ...  ...                   ...   ...  ..\n",
            "58  410.28 2021-05-13    3  ...              0.465000  6.30   1\n",
            "59  405.41 2021-05-12    2  ...              0.356000  4.87   1\n",
            "60  414.21 2021-05-11    1  ...              0.614333 -8.80   0\n",
            "61  417.94 2021-05-10    0  ...              0.732000 -3.73   0\n",
            "62  422.12 2021-05-07    4  ...              1.080667 -4.18   0\n",
            "\n",
            "[63 rows x 52 columns]\n",
            "-------------------------\n",
            "[ 0.    2.78 -2.17  3.56 -0.92 -2.14  1.82 -0.18 -2.01  1.08  4.48  0.91\n",
            "  3.49  6.09 -6.37 -3.41 -1.49  0.65 -1.49  1.56  4.6  -3.54  1.53 -0.79\n",
            "  3.29  2.37  0.36  0.23  0.86  1.51  2.5  -0.51  2.25  5.94 -7.05 -0.14\n",
            " -2.37 -0.78  0.95  0.7   1.96 -0.63  0.09 -0.41  3.83 -1.56  0.66 -0.37\n",
            "  0.75  0.22  0.83 -0.93  4.23 -0.34  4.42 -1.08 -3.58 -1.06  6.3   4.87\n",
            " -8.8  -3.73 -4.18]\n",
            "-------------------------\n",
            "[0 1 0 1 0 0 1 0 0 1 1 1 1 1 0 0 0 1 0 1 1 0 1 0 1 1 1 1 1 1 1 0 1 1 0 0 0\n",
            " 0 1 1 1 0 1 0 1 0 1 0 1 1 1 0 1 0 1 0 0 0 1 1 0 0 0]\n"
          ],
          "name": "stdout"
        }
      ]
    },
    {
      "cell_type": "code",
      "metadata": {
        "id": "j2GHt6_yClWW",
        "colab": {
          "base_uri": "https://localhost:8080/"
        },
        "outputId": "55575411-6876-48c5-a993-0bfa3bb3ab7c"
      },
      "source": [
        "i = len(Xpred)\n",
        "j = len(y_actual)\n",
        "k = len(yb_actual)\n",
        "\n",
        "print(i, j, k)"
      ],
      "execution_count": null,
      "outputs": [
        {
          "output_type": "stream",
          "text": [
            "63 63 63\n"
          ],
          "name": "stdout"
        }
      ]
    },
    {
      "cell_type": "markdown",
      "metadata": {
        "id": "agrPLswhEQYf"
      },
      "source": [
        "#Generate predictions\n",
        "\n",
        "Predictions are made for both continuous and binary"
      ]
    },
    {
      "cell_type": "code",
      "metadata": {
        "id": "sJYXf1mKU9t2",
        "colab": {
          "base_uri": "https://localhost:8080/"
        },
        "outputId": "4418cb87-e77c-4a95-b7b3-861bc37afbf1"
      },
      "source": [
        "y_pred = regressor.predict(X_pred)\n",
        "\n",
        "yb_pred = regressor_b.predict(Xb_pred)\n",
        "\n",
        "y_all_pred = regressor_all.predict(X_all_pred)\n",
        "\n",
        "y_all_pred_b = regressor_all_b.predict(X_all_pred)\n",
        "\n",
        "np_array = np.concatenate((y_pred.reshape(len(y_pred),1), \n",
        "                           yb_pred.reshape(len(yb_pred),1),\n",
        "                           y_all_pred.reshape(len(y_all_pred),1),\n",
        "                           y_all_pred_b.reshape(len(y_all_pred_b),1),\n",
        "                           y_actual.reshape(len(y_actual),1),\n",
        "                           yb_actual.reshape(len(yb_actual),1),\n",
        "                           ), axis = 1)\n",
        "\n",
        "results = pd.DataFrame(np_array, columns = ['y_pred', 'yb_pred', 'y_all_pred', 'y_all_pred_b', 'y_actual', 'yb_actual'])\n",
        "\n",
        "sp500_pred = results.head(5)\n",
        "\n",
        "print(results)\n"
      ],
      "execution_count": null,
      "outputs": [
        {
          "output_type": "stream",
          "text": [
            "      y_pred   yb_pred  y_all_pred  y_all_pred_b  y_actual  yb_actual\n",
            "0   0.388300  0.398777   -0.163792          0.56      0.00        0.0\n",
            "1   0.805666  0.373131   -0.047942          0.66      2.78        1.0\n",
            "2   0.010803  0.809550   -0.280000          0.44     -2.17        0.0\n",
            "3   0.979833  0.225000    0.469116          0.61      3.56        1.0\n",
            "4   0.199616  0.449333    0.406950          0.60     -0.92        0.0\n",
            "..       ...       ...         ...           ...       ...        ...\n",
            "58 -1.101403  0.522111   -0.949297          0.51      6.30        1.0\n",
            "59  1.408796  0.664977    1.883689          0.83      4.87        1.0\n",
            "60 -0.141289  0.938718   -0.405392          0.60     -8.80        0.0\n",
            "61 -0.013000  0.866474   -0.469814          0.65     -3.73        0.0\n",
            "62 -2.912592  0.394610   -2.689384          0.23     -4.18        0.0\n",
            "\n",
            "[63 rows x 6 columns]\n"
          ],
          "name": "stdout"
        }
      ]
    },
    {
      "cell_type": "markdown",
      "metadata": {
        "id": "o-3X7j0LFdm3"
      },
      "source": [
        "#Create buy/sell indicator/strategy based on pred\n",
        "\n",
        "1 = Buy next day\n",
        "\n",
        "0 = Sell next day\n",
        "\n",
        "yb_pred_num is a number that can help tune the model. Any number above .5 is less resk adverse (creates more risk)"
      ]
    },
    {
      "cell_type": "code",
      "metadata": {
        "id": "UGmNBoUvD3ee",
        "colab": {
          "base_uri": "https://localhost:8080/"
        },
        "outputId": "a3b13372-f0d7-4fbe-b9ec-75f5f562f1c5"
      },
      "source": [
        "yb_pred_num = 0.30\n",
        "yb_pred_num_low = .25\n",
        "yb_pred_num_high = .75\n",
        "\n",
        "results['y_pred_arg'] = np.where(results['y_pred'] > 0, 1, 0)\n",
        "results['yb_pred_arg'] = np.where((results['yb_pred'] > yb_pred_num_low) & (results['yb_pred'] < yb_pred_num_high), 1, 0)\n",
        "results['y_all_pred_arg'] = np.where(results['y_all_pred'] > 0, 1, 0)\n",
        "results['y_all_b_pred_arg'] = np.where((results['y_all_pred_b'] > yb_pred_num_low) & (results['y_all_pred_b'] < yb_pred_num_high), 1, 0)\n",
        "results['y_actual_arg'] = np.where(results['y_actual'] > 0, 1, 0)\n",
        "results['yb_acutal_arg'] = np.where(results['yb_actual'] > 0, 1, 0)\n",
        "results['votes'] = results['y_pred_arg'] + results['yb_pred_arg'] + results['y_all_pred_arg'] + results['y_all_b_pred_arg']\n",
        "\n",
        "print(results)"
      ],
      "execution_count": null,
      "outputs": [
        {
          "output_type": "stream",
          "text": [
            "      y_pred   yb_pred  y_all_pred  ...  y_actual_arg  yb_acutal_arg  votes\n",
            "0   0.388300  0.398777   -0.163792  ...             0              0      3\n",
            "1   0.805666  0.373131   -0.047942  ...             1              1      3\n",
            "2   0.010803  0.809550   -0.280000  ...             0              0      2\n",
            "3   0.979833  0.225000    0.469116  ...             1              1      3\n",
            "4   0.199616  0.449333    0.406950  ...             0              0      4\n",
            "..       ...       ...         ...  ...           ...            ...    ...\n",
            "58 -1.101403  0.522111   -0.949297  ...             1              1      2\n",
            "59  1.408796  0.664977    1.883689  ...             1              1      3\n",
            "60 -0.141289  0.938718   -0.405392  ...             0              0      1\n",
            "61 -0.013000  0.866474   -0.469814  ...             0              0      1\n",
            "62 -2.912592  0.394610   -2.689384  ...             0              0      1\n",
            "\n",
            "[63 rows x 13 columns]\n"
          ],
          "name": "stdout"
        }
      ]
    },
    {
      "cell_type": "markdown",
      "metadata": {
        "id": "pqw05ZTyYTRO"
      },
      "source": [
        "#Add in 'short' ticker for same period\n",
        "\n",
        "A short ticker is one that behavies opposite of the selected ticker in this evaluation.\n",
        "\n",
        "The concept of having a short ticker is to trade \"into\" it when trading \"out\" of the primary ticker\n",
        "\n",
        "Note! - This section is not broke out; use hashtag notes as a reference"
      ]
    },
    {
      "cell_type": "code",
      "metadata": {
        "id": "ZfuqoqhppYlx",
        "colab": {
          "base_uri": "https://localhost:8080/"
        },
        "outputId": "190702af-2e74-4fff-95bb-5cd1d449561e"
      },
      "source": [
        "#import dataset\n",
        "dataset_short = pd.read_csv('/content/drive/MyDrive/Colab Notebooks/HistoricalPricesSH.csv')\n",
        "#rename values with leading white spaces\n",
        "dataset_short.rename({' Close': 'Close'}, axis=1, inplace = True)\n",
        "#create gain loss value for short\n",
        "dataset_short['gain_loss_short-0'] = dataset_short['Close'].diff(-1)\n",
        "#select out values needed for model\n",
        "dataset_short = dataset_short[['Close', 'Date', 'gain_loss_short-0']]\n",
        "#convert date to datetype\n",
        "dataset_short['Date'] = pd.to_datetime(dataset_short['Date'])\n",
        "#select out mating dates to pred dataset\n",
        "pred_short = dataset_short[(dataset_short['Date'] >= pred_begin_date) & \n",
        "                         (dataset_short['Date'] <= pred_end_date)]\n",
        "#move rows down by one\n",
        "y_short = pd.DataFrame(pred_short['gain_loss_short-0']).reset_index(drop = True)\n",
        "y_short.loc[-1] = [0]\n",
        "y_short.index = y_short.index + 1\n",
        "y_short = y_short.sort_index()\n",
        "y_short.drop(y_short.tail(1).index, inplace = True)\n",
        "y_short.rename(columns={'gain_loss_short-0': 'y_short'}, inplace=True)\n",
        "y_short_df = pd.DataFrame(y_short, columns=['y_short'])\n",
        "#add short to results\n",
        "results = pd.concat([results,\n",
        "                    y_short_df],\n",
        "                    axis = 1)\n",
        "#verfity y_short and y_actual are both 0 at row\n",
        "print(results)"
      ],
      "execution_count": null,
      "outputs": [
        {
          "output_type": "stream",
          "text": [
            "      y_pred   yb_pred  y_all_pred  ...  yb_acutal_arg  votes  y_short\n",
            "0   0.388300  0.398777   -0.163792  ...              0      3     0.00\n",
            "1   0.805666  0.373131   -0.047942  ...              1      3    -0.10\n",
            "2   0.010803  0.809550   -0.280000  ...              0      2     0.07\n",
            "3   0.979833  0.225000    0.469116  ...              1      3    -0.13\n",
            "4   0.199616  0.449333    0.406950  ...              0      4     0.04\n",
            "..       ...       ...         ...  ...            ...    ...      ...\n",
            "58 -1.101403  0.522111   -0.949297  ...              1      2    -0.27\n",
            "59  1.408796  0.664977    1.883689  ...              1      3    -0.20\n",
            "60 -0.141289  0.938718   -0.405392  ...              0      1     0.36\n",
            "61 -0.013000  0.866474   -0.469814  ...              0      1     0.13\n",
            "62 -2.912592  0.394610   -2.689384  ...              0      1     0.16\n",
            "\n",
            "[63 rows x 14 columns]\n"
          ],
          "name": "stdout"
        }
      ]
    },
    {
      "cell_type": "code",
      "metadata": {
        "id": "jKAzSnKvr7Tx",
        "colab": {
          "base_uri": "https://localhost:8080/"
        },
        "outputId": "6e58782f-8071-417c-d96a-608139273034"
      },
      "source": [
        "type(results)"
      ],
      "execution_count": null,
      "outputs": [
        {
          "output_type": "execute_result",
          "data": {
            "text/plain": [
              "pandas.core.frame.DataFrame"
            ]
          },
          "metadata": {
            "tags": []
          },
          "execution_count": 54
        }
      ]
    },
    {
      "cell_type": "markdown",
      "metadata": {
        "id": "BnXmpVbUKsKD"
      },
      "source": [
        "#Model Performance\n",
        "\n",
        "To account accurately the top row of the \"results\" dataset must be removed\n",
        "\n",
        "Model performanced is based on the buy-sell relationship between the \"..._arg\" columns\n",
        "\n",
        "Each model is measured as well as a various combination of the models."
      ]
    },
    {
      "cell_type": "code",
      "metadata": {
        "id": "x1sxZIZRJrCl"
      },
      "source": [
        "#Removed these to test the model without short\n",
        "\n",
        "results['y_buy'] = np.where(results['y_pred_arg'] >= 1, results['y_actual'], 0) #results['y_short'])\n",
        "results['yb_buy'] = np.where(results['yb_pred_arg'] >= 1, results['yb_actual'], 0) #results['y_short'])\n",
        "results['yall_buy'] = np.where(results['y_all_pred_arg'] >= 1, results['y_actual'], 0) #results['y_short'])\n",
        "results['yallb_buy'] = np.where(results['y_all_b_pred_arg'] >= 1, results['yb_actual'], 0) #results['y_short'])\n",
        "results['yvote_buy'] = np.where(results['votes']  >= 2, results['y_actual'], 0) # results['y_short'])\n"
      ],
      "execution_count": null,
      "outputs": []
    },
    {
      "cell_type": "markdown",
      "metadata": {
        "id": "5teAplemSXTI"
      },
      "source": [
        "The following section should be turned into a loop"
      ]
    },
    {
      "cell_type": "code",
      "metadata": {
        "id": "vdgmrVfZNHlO"
      },
      "source": [
        "performance_all = results\n",
        "performance_all = performance_all[1:] #Remove top row since we do not have actual value\n",
        "performance_all = performance_all.sum(axis = 0)\n",
        "#print(performance_all)"
      ],
      "execution_count": null,
      "outputs": []
    },
    {
      "cell_type": "code",
      "metadata": {
        "id": "ZyAs4dBWO1jH"
      },
      "source": [
        "performance_30 = results.head(31)\n",
        "performance_30 = performance_30[1:] #Remove top row since we do not have actual value\n",
        "performance_30 = performance_30.sum(axis = 0)\n",
        "#print(performance_30)"
      ],
      "execution_count": null,
      "outputs": []
    },
    {
      "cell_type": "code",
      "metadata": {
        "id": "0RtKpD35Qe6L"
      },
      "source": [
        "performance_60 = results.head(61)\n",
        "performance_60 = performance_60[1:] #Remove top row since we do not have actual value\n",
        "performance_60 = performance_60.sum(axis = 0)\n",
        "#print(performance_60)"
      ],
      "execution_count": null,
      "outputs": []
    },
    {
      "cell_type": "code",
      "metadata": {
        "id": "anaaRxMQR6SG"
      },
      "source": [
        "performance_15 = results.head(16)\n",
        "performance_15 = performance_15[1:] #Remove top row since we do not have actual value\n",
        "performance_15 = performance_15.sum(axis = 0)\n",
        "#print(performance_15)"
      ],
      "execution_count": null,
      "outputs": []
    },
    {
      "cell_type": "code",
      "metadata": {
        "id": "d9sQut9GR6dU"
      },
      "source": [
        "performance_45 = results.head(46)\n",
        "performance_45 = performance_45[1:] #Remove top row since we do not have actual value\n",
        "performance_45 = performance_45.sum(axis = 0)\n",
        "#print(performance_45)"
      ],
      "execution_count": null,
      "outputs": []
    },
    {
      "cell_type": "code",
      "metadata": {
        "id": "q8UcXA7hR6mH"
      },
      "source": [
        "performance_5 = results.head(6)\n",
        "performance_5 = performance_5[1:] #Remove top row since we do not have actual value\n",
        "performance_5 = performance_5.sum(axis = 0)\n",
        "#print(performance_5)"
      ],
      "execution_count": null,
      "outputs": []
    },
    {
      "cell_type": "code",
      "metadata": {
        "id": "wzYnbajGUsll"
      },
      "source": [
        "performance_10 = results.head(11)\n",
        "performance_10 = performance_10[1:] #Remove top row since we do not have actual value\n",
        "performance_10 = performance_10.sum(axis = 0)\n",
        "#print(performance_10)"
      ],
      "execution_count": null,
      "outputs": []
    },
    {
      "cell_type": "code",
      "metadata": {
        "id": "mhX2q3QOUtFB"
      },
      "source": [
        "performance_20 = results.head(21)\n",
        "performance_20 = performance_20[1:] #Remove top row since we do not have actual value\n",
        "performance_20 = performance_20.sum(axis = 0)\n",
        "#print(performance_20)"
      ],
      "execution_count": null,
      "outputs": []
    },
    {
      "cell_type": "code",
      "metadata": {
        "id": "ki_EiwXnUtP8"
      },
      "source": [
        "performance_25 = results.head(26)\n",
        "performance_25 = performance_25[1:] #Remove top row since we do not have actual value\n",
        "performance_25 = performance_25.sum(axis = 0)\n",
        "#print(performance_25)"
      ],
      "execution_count": null,
      "outputs": []
    },
    {
      "cell_type": "code",
      "metadata": {
        "id": "ldmAemGnUtZF"
      },
      "source": [
        "performance_35 = results.head(36)\n",
        "performance_35 = performance_35[1:] #Remove top row since we do not have actual value\n",
        "performance_35 = performance_35.sum(axis = 0)\n",
        "#print(performance_35)"
      ],
      "execution_count": null,
      "outputs": []
    },
    {
      "cell_type": "code",
      "metadata": {
        "id": "QMWxREU1VhJX"
      },
      "source": [
        "performance_40 = results.head(41)\n",
        "performance_40 = performance_40[1:] #Remove top row since we do not have actual value\n",
        "performance_40 = performance_40.sum(axis = 0)\n",
        "#print(performance_40)"
      ],
      "execution_count": null,
      "outputs": []
    },
    {
      "cell_type": "code",
      "metadata": {
        "id": "3EnuMXwrV18-"
      },
      "source": [
        "performance_50 = results.head(51)\n",
        "performance_50 = performance_50[1:] #Remove top row since we do not have actual value\n",
        "performance_50 = performance_50.sum(axis = 0)\n",
        "#print(performance_50)"
      ],
      "execution_count": null,
      "outputs": []
    },
    {
      "cell_type": "code",
      "metadata": {
        "id": "cap9bS6NV2Yq"
      },
      "source": [
        "performance_55 = results.head(56)\n",
        "performance_55 = performance_55[1:] #Remove top row since we do not have actual value\n",
        "performance_55 = performance_55.sum(axis = 0)\n",
        "#print(performance_55)"
      ],
      "execution_count": null,
      "outputs": []
    },
    {
      "cell_type": "code",
      "metadata": {
        "id": "EwQ017VqQ6Uy",
        "colab": {
          "base_uri": "https://localhost:8080/"
        },
        "outputId": "6d40624c-4354-475c-fcf3-25fbdc24e622"
      },
      "source": [
        "performance = pd.concat([performance_5,\n",
        "                         performance_10,\n",
        "                         performance_15, \n",
        "                         performance_20,\n",
        "                         performance_25,\n",
        "                         performance_30,\n",
        "                         performance_35,\n",
        "                         performance_40, \n",
        "                         performance_45,\n",
        "                         performance_50,\n",
        "                         performance_55,\n",
        "                         performance_60, \n",
        "                         performance_all], axis=1)\n",
        "\n",
        "print(performance)"
      ],
      "execution_count": null,
      "outputs": [
        {
          "output_type": "stream",
          "text": [
            "                         0          1   ...          11          12\n",
            "y_pred             0.826518   4.337808  ...   14.883352   11.957760\n",
            "yb_pred            2.818320   5.481475  ...   32.600880   33.861965\n",
            "y_all_pred        -0.288476   3.492004  ...    7.721439    4.562241\n",
            "y_all_pred_b       2.790000   5.930000  ...   33.330000   34.210000\n",
            "y_actual           1.110000   6.300000  ...   27.550000   19.640000\n",
            "yb_actual          2.000000   5.000000  ...   34.000000   34.000000\n",
            "y_pred_arg         4.000000   9.000000  ...   38.000000   38.000000\n",
            "yb_pred_arg        2.000000   7.000000  ...   46.000000   47.000000\n",
            "y_all_pred_arg     2.000000   7.000000  ...   32.000000   32.000000\n",
            "y_all_b_pred_arg   5.000000  10.000000  ...   56.000000   57.000000\n",
            "y_actual_arg       2.000000   5.000000  ...   34.000000   34.000000\n",
            "yb_acutal_arg      2.000000   5.000000  ...   34.000000   34.000000\n",
            "votes             13.000000  33.000000  ...  172.000000  174.000000\n",
            "y_short           -0.050000  -0.240000  ...   -1.120000   -0.830000\n",
            "y_buy              3.250000   8.440000  ...   38.790000   38.790000\n",
            "yb_buy             1.000000   4.000000  ...   29.000000   29.000000\n",
            "yall_buy           2.640000   7.830000  ...   15.820000   15.820000\n",
            "yallb_buy          2.000000   5.000000  ...   30.000000   30.000000\n",
            "yvote_buy          3.250000   8.440000  ...   48.410000   48.410000\n",
            "\n",
            "[19 rows x 13 columns]\n"
          ],
          "name": "stdout"
        }
      ]
    },
    {
      "cell_type": "code",
      "metadata": {
        "colab": {
          "base_uri": "https://localhost:8080/"
        },
        "id": "qseaZv6wKf-z",
        "outputId": "76396fe3-c77b-48a3-9798-88de5644101f"
      },
      "source": [
        "print(sp500_pred)"
      ],
      "execution_count": null,
      "outputs": [
        {
          "output_type": "stream",
          "text": [
            "     y_pred   yb_pred  y_all_pred  y_all_pred_b  y_actual  yb_actual\n",
            "0  0.388300  0.398777   -0.163792          0.56      0.00        0.0\n",
            "1  0.805666  0.373131   -0.047942          0.66      2.78        1.0\n",
            "2  0.010803  0.809550   -0.280000          0.44     -2.17        0.0\n",
            "3  0.979833  0.225000    0.469116          0.61      3.56        1.0\n",
            "4  0.199616  0.449333    0.406950          0.60     -0.92        0.0\n"
          ],
          "name": "stdout"
        }
      ]
    },
    {
      "cell_type": "code",
      "metadata": {
        "id": "bKau_JXi94r3",
        "colab": {
          "base_uri": "https://localhost:8080/"
        },
        "outputId": "2152ab67-33c9-4e62-be69-78eb3230770a"
      },
      "source": [
        "df1 = performance.T\n",
        "print(df1)"
      ],
      "execution_count": null,
      "outputs": [
        {
          "output_type": "stream",
          "text": [
            "       y_pred    yb_pred  y_all_pred  ...  yall_buy  yallb_buy  yvote_buy\n",
            "0    0.826518   2.818320   -0.288476  ...      2.64        2.0       3.25\n",
            "1    4.337808   5.481475    3.492004  ...      7.83        5.0       8.44\n",
            "2    1.734761   8.107114    0.411648  ...      8.74        7.0      18.93\n",
            "3    4.274217  11.005688    3.243354  ...     11.92       10.0      22.76\n",
            "4    2.541817  13.493055    1.559062  ...     13.45       13.0      25.62\n",
            "5    4.368962  15.898051    3.729421  ...     17.69       17.0      31.08\n",
            "6    4.759714  17.770428    2.019739  ...     10.13       19.0      31.71\n",
            "7    7.259031  20.893399    3.235863  ...     13.04       22.0      32.17\n",
            "8    8.247621  23.371771    3.413871  ...     10.94       24.0      33.49\n",
            "9   10.485839  26.006464    5.678361  ...     13.18       27.0      35.58\n",
            "10  12.171140  29.252729    6.328070  ...     15.59       29.0      41.88\n",
            "11  14.883352  32.600880    7.721439  ...     15.82       30.0      48.41\n",
            "12  11.957760  33.861965    4.562241  ...     15.82       30.0      48.41\n",
            "\n",
            "[13 rows x 19 columns]\n"
          ],
          "name": "stdout"
        }
      ]
    },
    {
      "cell_type": "code",
      "metadata": {
        "id": "ptcaYXPj-FvH",
        "colab": {
          "base_uri": "https://localhost:8080/",
          "height": 283
        },
        "outputId": "d3fa8ec4-7f68-43f5-b2e1-c465dfa8b2d9"
      },
      "source": [
        "plt.plot(df1['y_actual'], color='black')\n",
        "plt.plot(df1['y_buy'], color='blue')\n",
        "plt.plot(df1['yb_buy'], color='red')\n",
        "plt.plot(df1['yall_buy'], color='green')\n",
        "plt.plot(df1['yallb_buy'], color='orange')\n",
        "plt.plot(df1['yvote_buy'], color='brown')"
      ],
      "execution_count": null,
      "outputs": [
        {
          "output_type": "execute_result",
          "data": {
            "text/plain": [
              "[<matplotlib.lines.Line2D at 0x7fbfaa864210>]"
            ]
          },
          "metadata": {
            "tags": []
          },
          "execution_count": 72
        },
        {
          "output_type": "display_data",
          "data": {
            "image/png": "[encoded data removed]",
            "text/plain": [
              "<Figure size 432x288 with 1 Axes>"
            ]
          },
          "metadata": {
            "tags": [],
            "needs_background": "light"
          }
        }
      ]
    },
    {
      "cell_type": "code",
      "metadata": {
        "colab": {
          "base_uri": "https://localhost:8080/",
          "height": 283
        },
        "id": "7Ond72uoKLyP",
        "outputId": "9b37f491-8cb9-4c14-9f3b-a6f949cf68c0"
      },
      "source": [
        "plt.plot(df1['y_actual'], color='black')\n",
        "plt.plot(df1['y_buy'], color='blue')\n"
      ],
      "execution_count": null,
      "outputs": [
        {
          "output_type": "execute_result",
          "data": {
            "text/plain": [
              "[<matplotlib.lines.Line2D at 0x7fbfaa336f10>]"
            ]
          },
          "metadata": {
            "tags": []
          },
          "execution_count": 73
        },
        {
          "output_type": "display_data",
          "data": {
            "image/png": "[encoded data removed]",
            "text/plain": [
              "<Figure size 432x288 with 1 Axes>"
            ]
          },
          "metadata": {
            "tags": [],
            "needs_background": "light"
          }
        }
      ]
    },
    {
      "cell_type": "code",
      "metadata": {
        "colab": {
          "base_uri": "https://localhost:8080/",
          "height": 282
        },
        "id": "YnlwI9UrKL5-",
        "outputId": "8c5da234-1fc0-4a1f-c187-1f335cded347"
      },
      "source": [
        "plt.plot(df1['y_actual'], color='black')\n",
        "plt.plot(df1['yb_buy'], color='red')"
      ],
      "execution_count": null,
      "outputs": [
        {
          "output_type": "execute_result",
          "data": {
            "text/plain": [
              "[<matplotlib.lines.Line2D at 0x7fbfaa808a90>]"
            ]
          },
          "metadata": {
            "tags": []
          },
          "execution_count": 74
        },
        {
          "output_type": "display_data",
          "data": {
            "image/png": "[encoded data removed]",
            "text/plain": [
              "<Figure size 432x288 with 1 Axes>"
            ]
          },
          "metadata": {
            "tags": [],
            "needs_background": "light"
          }
        }
      ]
    },
    {
      "cell_type": "code",
      "metadata": {
        "colab": {
          "base_uri": "https://localhost:8080/",
          "height": 282
        },
        "id": "EebffbV5KL_t",
        "outputId": "66acaab7-51eb-4a8a-b151-a20cfbfeaecc"
      },
      "source": [
        "plt.plot(df1['y_actual'], color='black')\n",
        "plt.plot(df1['yall_buy'], color='green')"
      ],
      "execution_count": null,
      "outputs": [
        {
          "output_type": "execute_result",
          "data": {
            "text/plain": [
              "[<matplotlib.lines.Line2D at 0x7fbfaa298110>]"
            ]
          },
          "metadata": {
            "tags": []
          },
          "execution_count": 75
        },
        {
          "output_type": "display_data",
          "data": {
            "image/png": "[encoded data removed]",
            "text/plain": [
              "<Figure size 432x288 with 1 Axes>"
            ]
          },
          "metadata": {
            "tags": [],
            "needs_background": "light"
          }
        }
      ]
    },
    {
      "cell_type": "code",
      "metadata": {
        "colab": {
          "base_uri": "https://localhost:8080/",
          "height": 282
        },
        "id": "x2yvMNTWKMD3",
        "outputId": "70eade06-704a-4f86-bb3c-d9467a2fcdaa"
      },
      "source": [
        "plt.plot(df1['y_actual'], color='black')\n",
        "plt.plot(df1['yallb_buy'], color='orange')"
      ],
      "execution_count": null,
      "outputs": [
        {
          "output_type": "execute_result",
          "data": {
            "text/plain": [
              "[<matplotlib.lines.Line2D at 0x7fbfaa20e150>]"
            ]
          },
          "metadata": {
            "tags": []
          },
          "execution_count": 76
        },
        {
          "output_type": "display_data",
          "data": {
            "image/png": "[encoded data removed]",
            "text/plain": [
              "<Figure size 432x288 with 1 Axes>"
            ]
          },
          "metadata": {
            "tags": [],
            "needs_background": "light"
          }
        }
      ]
    },
    {
      "cell_type": "code",
      "metadata": {
        "colab": {
          "base_uri": "https://localhost:8080/",
          "height": 283
        },
        "id": "TcxkVMi1KWHm",
        "outputId": "744efd41-a14f-43be-dc4b-0443ecbf8983"
      },
      "source": [
        "plt.plot(df1['y_actual'], color='black')\n",
        "plt.plot(df1['yvote_buy'], color='brown')"
      ],
      "execution_count": null,
      "outputs": [
        {
          "output_type": "execute_result",
          "data": {
            "text/plain": [
              "[<matplotlib.lines.Line2D at 0x7fbfaa176ad0>]"
            ]
          },
          "metadata": {
            "tags": []
          },
          "execution_count": 77
        },
        {
          "output_type": "display_data",
          "data": {
            "image/png": "[encoded data removed]",
            "text/plain": [
              "<Figure size 432x288 with 1 Axes>"
            ]
          },
          "metadata": {
            "tags": [],
            "needs_background": "light"
          }
        }
      ]
    },
    {
      "cell_type": "code",
      "metadata": {
        "id": "-N1HSPFzYmaf"
      },
      "source": [
        "#results.to_csv('/content/drive/MyDrive/Colab Notebooks/results_sky_hibs_20160101-20210803_.csv')\n",
        "#performance.to_csv('/content/drive/MyDrive/Colab Notebooks/performance_sky_hibs_20190101-20210803_.csv')"
      ],
      "execution_count": null,
      "outputs": []
    }
  ]
}