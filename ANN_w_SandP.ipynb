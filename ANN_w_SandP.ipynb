{
  "nbformat": 4,
  "nbformat_minor": 0,
  "metadata": {
    "colab": {
      "name": "ANN_w_SandP.ipynb",
      "provenance": [],
      "collapsed_sections": [],
      "authorship_tag": "ABX9TyOJobrJ/4E54IqM7teDUNFn",
      "include_colab_link": true
    },
    "kernelspec": {
      "name": "python3",
      "display_name": "Python 3"
    },
    "language_info": {
      "name": "python"
    }
  },
  "cells": [
    {
      "cell_type": "markdown",
      "metadata": {
        "id": "view-in-github",
        "colab_type": "text"
      },
      "source": [
        "<a href=\"https://colab.research.google.com/github/kappandrew2/DataPreProcessing/blob/main/ANN_w_SandP.ipynb\" target=\"_parent\"><img src=\"https://colab.research.google.com/assets/colab-badge.svg\" alt=\"Open In Colab\"/></a>"
      ]
    },
    {
      "cell_type": "code",
      "metadata": {
        "id": "DxsJeRwx3buY"
      },
      "source": [
        "#Load libraries\n",
        "import numpy as np\n",
        "import pandas as pd\n",
        "import tensorflow as tf"
      ],
      "execution_count": 125,
      "outputs": []
    },
    {
      "cell_type": "code",
      "metadata": {
        "colab": {
          "base_uri": "https://localhost:8080/"
        },
        "id": "C2r-jB2o3gJY",
        "outputId": "f97f5a8c-cb7c-4f6d-851e-54b0b3191a89"
      },
      "source": [
        "#Get data\n",
        "from google.colab import drive\n",
        "drive.mount('/content/drive', force_remount=True)\n",
        "\n",
        "dataset1 = pd.read_csv('/content/drive/MyDrive/Colab Notebooks/HistoricalPricesSPY.csv')\n",
        "\n",
        "dataset2 = pd.read_csv('/content/drive/MyDrive/Colab Notebooks/HistoricalPricesSH.csv')\n"
      ],
      "execution_count": 126,
      "outputs": [
        {
          "output_type": "stream",
          "text": [
            "Mounted at /content/drive\n"
          ],
          "name": "stdout"
        }
      ]
    },
    {
      "cell_type": "code",
      "metadata": {
        "id": "s9P7MxAK333N"
      },
      "source": [
        "#Reduce dataframe columns\n",
        "dataset1.rename({' Close': 'Close'}, axis=1, inplace = True)\n",
        "dataset1 = dataset1[['Close', 'Date']]\n",
        "#Reduce Dataframe columns\n",
        "dataset2.rename({' Close': 'Close'}, axis=1, inplace = True)\n",
        "dataset2 = dataset2[['Close', 'Date']]\n",
        "\n",
        "#Set data types\n",
        "dataset1['Date'] = pd.to_datetime(dataset1['Date'])\n",
        "#Set data types\n",
        "dataset2['Date'] = pd.to_datetime(dataset2['Date'])\n",
        "\n",
        "#Create date attributes\n",
        "dataset1['DOW'] = dataset1['Date'].dt.dayofweek\n",
        "dataset1['Month'] = dataset1['Date'].dt.month\n",
        "dataset1['Quarter'] = dataset1['Date'].dt.quarter\n",
        "#Create date attributes\n",
        "dataset2['DOW'] = dataset2['Date'].dt.dayofweek\n",
        "dataset2['Month'] = dataset2['Date'].dt.month\n",
        "dataset2['Quarter'] = dataset2['Date'].dt.quarter\n",
        "\n",
        "#Date to sparse matrix\n",
        "from sklearn.preprocessing import OneHotEncoder\n",
        "ohe = OneHotEncoder(drop='first')\n",
        "#Encode Time Variables\n",
        "dow1 = ohe.fit_transform(dataset1.DOW.values.reshape(-1,1)).toarray()\n",
        "DOW1 = pd.DataFrame(dow1, columns = ['Tu', 'We', 'Th', 'Fr'])\n",
        "month1 = ohe.fit_transform(dataset1.Month.values.reshape(-1,1)).toarray()\n",
        "MONTH1 = pd.DataFrame(month1, columns = ['Feb', 'Mar', 'Apr', 'May', 'Jun', 'Jul', 'Aug', 'Sep', 'Oct', 'Nov', 'Dec'])\n",
        "q1 = ohe.fit_transform(dataset1.Quarter.values.reshape(-1,1)).toarray()\n",
        "Q1 = pd.DataFrame(q1, columns = ['Q2', 'Q3', 'Q4'])\n",
        "dataset1 = pd.concat([dataset1, DOW1, MONTH1, Q1], axis=1)\n",
        "#Encode Time Variables\n",
        "dow2 = ohe.fit_transform(dataset2.DOW.values.reshape(-1,1)).toarray()\n",
        "DOW2 = pd.DataFrame(dow2, columns = ['Tu', 'We', 'Th', 'Fr'])\n",
        "month2 = ohe.fit_transform(dataset2.Month.values.reshape(-1,1)).toarray()\n",
        "MONTH2 = pd.DataFrame(month2, columns = ['Feb', 'Mar', 'Apr', 'May', 'Jun', 'Jul', 'Aug', 'Sep', 'Oct', 'Nov', 'Dec'])\n",
        "q2 = ohe.fit_transform(dataset2.Quarter.values.reshape(-1,1)).toarray()\n",
        "Q2 = pd.DataFrame(q2, columns = ['Q2', 'Q3', 'Q4'])\n",
        "dataset2 = pd.concat([dataset2, DOW2, MONTH2, Q2], axis=1)\n",
        "\n",
        "#Gain_loss_interval\n",
        "dataset1['gain_loss_0'] = dataset1['Close'].diff(-1)\n",
        "dataset1['gain_loss_1'] = dataset1['Close'].diff(-2)\n",
        "dataset1['gain_loss_2'] = dataset1['Close'].diff(-3)\n",
        "#Gain_loss_interval\n",
        "dataset2['gain_loss_0'] = dataset2['Close'].diff(-1)\n",
        "dataset2['gain_loss_1'] = dataset2['Close'].diff(-2)\n",
        "dataset2['gain_loss_2'] = dataset2['Close'].diff(-3)\n",
        "\n",
        "#Gain_loss_history\n",
        "dataset1['prior_day_1'] = dataset1['gain_loss_0']\n",
        "dataset1['prior_day_1'] = dataset1['prior_day_1'].shift(periods=-1, fill_value=0)\n",
        "dataset1['prior_day_2'] = dataset1['gain_loss_0']\n",
        "dataset1['prior_day_2'] = dataset1['prior_day_2'].shift(periods=-2, fill_value=0)\n",
        "#Gain_loss_history\n",
        "dataset2['prior_day_1'] = dataset2['gain_loss_0']\n",
        "dataset2['prior_day_1'] = dataset2['prior_day_1'].shift(periods=-1, fill_value=0)\n",
        "dataset2['prior_day_2'] = dataset2['gain_loss_0']\n",
        "dataset2['prior_day_2'] = dataset2['prior_day_2'].shift(periods=-2, fill_value=0)\n",
        "\n",
        "#Rolling means\n",
        "rolling_prior_day1 = dataset1['gain_loss_0']\n",
        "rolling_prior_day_5_1 = rolling_prior_day1[::-1].rolling(10).mean()[::-1]\n",
        "rolling_prior_day_10_1 = rolling_prior_day1[::-1].rolling(30).mean()[::-1]\n",
        "rolling_prior_day_5_1.rename('rolling_prior_day_10', inplace = True)\n",
        "rolling_prior_day_10_1.rename('rolling_prior_day_30', inplace = True)\n",
        "dataset = pd.concat([dataset1, rolling_prior_day_10_1, rolling_prior_day_10_1], axis = 1)\n",
        "#Rolling means\n",
        "rolling_prior_day2 = dataset2['gain_loss_0']\n",
        "rolling_prior_day_5_2 = rolling_prior_day2[::-1].rolling(10).mean()[::-1]\n",
        "rolling_prior_day_10_2 = rolling_prior_day2[::-1].rolling(30).mean()[::-1]\n",
        "rolling_prior_day_5_2.rename('rolling_prior_day_10', inplace = True)\n",
        "rolling_prior_day_10_2.rename('rolling_prior_day_30', inplace = True)\n",
        "dataset = pd.concat([dataset2, rolling_prior_day_10_2, rolling_prior_day_10_2], axis = 1)\n",
        "\n",
        "#Remove NaN rows\n",
        "dataset1.dropna(inplace = True)\n",
        "#Remove NaN rows\n",
        "dataset2.dropna(inplace = True)\n",
        "\n",
        "#add dependant variable (requires shifted down one row)\n",
        "y1 = pd.DataFrame(dataset1['gain_loss_0']).reset_index(drop = True)\n",
        "y1['y'] = np.where(y1['gain_loss_0'] > 0, 1, 0)\n",
        "y1 = pd.DataFrame(y1['y']).reset_index(drop = True)\n",
        "y1.loc[-1] = [0]\n",
        "y1.index = y1.index + 1\n",
        "y1 = y1.sort_index()\n",
        "y1.drop(y1.tail(1).index, inplace = True)\n",
        "y_df1 = pd.DataFrame(y1, columns=['y'])\n",
        "dataset_final1 = pd.concat([dataset1, y_df1], axis=1)\n",
        "#add dependant variable (requires shifted down one row)\n",
        "y2 = pd.DataFrame(dataset2['gain_loss_0']).reset_index(drop = True)\n",
        "y2['y'] = np.where(y2['gain_loss_0'] > 0, 1, 0)\n",
        "y2 = pd.DataFrame(y2['y']).reset_index(drop = True)\n",
        "y2.loc[-1] = [0]\n",
        "y2.index = y2.index + 1\n",
        "y2 = y2.sort_index()\n",
        "y2.drop(y2.tail(1).index, inplace = True)\n",
        "y_df2 = pd.DataFrame(y2, columns=['y'])\n",
        "dataset_final2 = pd.concat([dataset2, y_df2], axis=1)\n",
        "\n",
        "#drop NaN on final datase\n",
        "dataset_final1.dropna(inplace = True)\n",
        "#drop NaN on final datase\n",
        "dataset_final2.dropna(inplace = True)\n",
        "\n",
        "#add prefix to all columns\n",
        "dataset_final1.columns = [str(col) + '_1' for col in dataset_final1.columns]\n",
        "#add prefix to all columns\n",
        "dataset_final2.columns = [str(col) + '_2' for col in dataset_final2.columns]\n",
        "\n",
        "#Concatenate the dataset\n",
        "dataset_final = pd.concat([dataset_final1, dataset_final2], axis=1)"
      ],
      "execution_count": 127,
      "outputs": []
    },
    {
      "cell_type": "code",
      "metadata": {
        "colab": {
          "base_uri": "https://localhost:8080/"
        },
        "id": "3MPsJIU28U9V",
        "outputId": "692199e9-6a23-4ee8-ffc7-6c1d18aa8d96"
      },
      "source": [
        "#identify columns for data model\n",
        "selection_value = .05\n",
        "corr_mxa = dataset_final.corr()\n",
        "corr_mxb = corr_mxa[corr_mxa['y_1'].abs()>selection_value]\n",
        "corr_mxb = corr_mxb.T.columns.values\n",
        "add_back = 'Date_1'\n",
        "corr_mxb = np.concatenate((corr_mxb, add_back), axis=None)\n",
        "\n",
        "#add needed attributes back into the model\n",
        "dataset_final = dataset_final[corr_mxb]\n",
        "dataset_final['Date_1'] = pd.to_datetime(dataset_final['Date_1'])\n",
        "dataset_final['Close_1'] = dataset_final1['Close_1']\n",
        "dataset_final['Close_2'] = dataset_final2['Close_2']\n",
        "print(dataset_final)"
      ],
      "execution_count": 128,
      "outputs": [
        {
          "output_type": "stream",
          "text": [
            "      Mar_1  gain_loss_0_1  y_1  Mar_2  ...  y_2     Date_1 Close_1  Close_2\n",
            "0       0.0           0.55    0    0.0  ...    0 2021-08-10  442.68    14.86\n",
            "1       0.0          -0.36    1    0.0  ...    0 2021-08-09  442.13    14.88\n",
            "2       0.0           0.73    0    0.0  ...    1 2021-08-06  442.49    14.86\n",
            "3       0.0           2.78    1    0.0  ...    0 2021-08-05  441.76    14.88\n",
            "4       0.0          -2.17    1    0.0  ...    0 2021-08-04  438.98    14.98\n",
            "...     ...            ...  ...    ...  ...  ...        ...     ...      ...\n",
            "1151    0.0          -0.57    1    0.0  ...    0 2017-01-12  226.53    36.07\n",
            "1152    0.0           0.64    0    0.0  ...    1 2017-01-11  227.10    35.98\n",
            "1153    0.0           0.00    1    0.0  ...    0 2017-01-10  226.46    36.07\n",
            "1154    0.0          -0.75    0    0.0  ...    1 2017-01-09  226.46    36.06\n",
            "1155    0.0           0.81    0    0.0  ...    1 2017-01-06  227.21    35.94\n",
            "\n",
            "[1156 rows x 9 columns]\n"
          ],
          "name": "stdout"
        }
      ]
    },
    {
      "cell_type": "code",
      "metadata": {
        "colab": {
          "base_uri": "https://localhost:8080/"
        },
        "id": "axNzsfx54CAp",
        "outputId": "cf7a15f8-083d-42bd-f9c1-da333746e2a1"
      },
      "source": [
        "#split data between test and train\n",
        "train_minus_days = 150\n",
        "pred_minus_days = 120\n",
        "\n",
        "date_var = dataset_final['Date_1'].max()\n",
        "train_begin_date = dataset_final['Date_1'].min()\n",
        "train_end_date = (date_var - pd.to_timedelta(train_minus_days, unit='d'))\n",
        "pred_begin_date = (date_var - pd.to_timedelta(pred_minus_days, unit='d'))\n",
        "pred_end_date = date_var\n",
        "\n",
        "train_begin_date = train_begin_date.to_pydatetime()\n",
        "train_end_date = train_end_date.to_pydatetime()\n",
        "pred_begin_date = pred_begin_date.to_pydatetime()\n",
        "pred_end_date = pred_end_date.to_pydatetime()\n",
        "\n",
        "\n",
        "print(train_begin_date)\n",
        "print(train_end_date)\n",
        "print(pred_begin_date)\n",
        "print(pred_end_date)"
      ],
      "execution_count": 129,
      "outputs": [
        {
          "output_type": "stream",
          "text": [
            "2017-01-06 00:00:00\n",
            "2021-03-13 00:00:00\n",
            "2021-04-12 00:00:00\n",
            "2021-08-10 00:00:00\n"
          ],
          "name": "stdout"
        }
      ]
    },
    {
      "cell_type": "code",
      "metadata": {
        "colab": {
          "base_uri": "https://localhost:8080/"
        },
        "id": "1ggR0hgC4p2V",
        "outputId": "3bff2556-779f-4cd8-b6ce-3cf2c690dbd3"
      },
      "source": [
        "#split text and train datasets\n",
        "predset = dataset_final[(dataset_final['Date_1'] >= pred_begin_date) & \n",
        "                        (dataset_final['Date_1'] <= pred_end_date)]\n",
        "trainset = dataset_final[(dataset_final['Date_1'] >= train_begin_date) & \n",
        "                         (dataset_final['Date_1'] <= train_end_date)]\n",
        "type(predset)\n"
      ],
      "execution_count": 130,
      "outputs": [
        {
          "output_type": "execute_result",
          "data": {
            "text/plain": [
              "pandas.core.frame.DataFrame"
            ]
          },
          "metadata": {
            "tags": []
          },
          "execution_count": 130
        }
      ]
    },
    {
      "cell_type": "code",
      "metadata": {
        "colab": {
          "base_uri": "https://localhost:8080/"
        },
        "id": "KpC7k_q_4353",
        "outputId": "dd9bc22c-7eaf-4240-cb19-2356c62a3640"
      },
      "source": [
        "#Create train set\n",
        "XX = trainset\n",
        "XX.drop(XX.tail(31).index, inplace = True)\n",
        "X = XX.drop(['y_1', 'y_2', 'Date_1', 'Close_1', 'Close_2'], axis=1)\n",
        "y_1 = trainset['y_1'].values\n",
        "y_2 = trainset['y_2'].values"
      ],
      "execution_count": 131,
      "outputs": [
        {
          "output_type": "stream",
          "text": [
            "/usr/local/lib/python3.7/dist-packages/pandas/core/frame.py:4174: SettingWithCopyWarning: \n",
            "A value is trying to be set on a copy of a slice from a DataFrame\n",
            "\n",
            "See the caveats in the documentation: https://pandas.pydata.org/pandas-docs/stable/user_guide/indexing.html#returning-a-view-versus-a-copy\n",
            "  errors=errors,\n"
          ],
          "name": "stderr"
        }
      ]
    },
    {
      "cell_type": "code",
      "metadata": {
        "id": "I047ssLo5Ehz"
      },
      "source": [
        "#Create predict set\n",
        "Xpred = predset\n",
        "X_pred = Xpred.drop(['y_1', 'y_2', 'Date_1', 'Close_1', 'Close_2'], axis=1)\n",
        "y_actual = predset['y_1'].values\n",
        "yb_actual = predset['y_2'].values"
      ],
      "execution_count": 132,
      "outputs": []
    },
    {
      "cell_type": "code",
      "metadata": {
        "id": "eYgQ6uex5UcP"
      },
      "source": [
        "#feature scaling\n",
        "from sklearn.preprocessing import StandardScaler\n",
        "sc = StandardScaler()\n",
        "X_train = sc.fit_transform(X)\n",
        "X_test = sc.transform(X_pred)"
      ],
      "execution_count": 133,
      "outputs": []
    },
    {
      "cell_type": "code",
      "metadata": {
        "id": "U9ppXyBA61Lq"
      },
      "source": [
        "#Building the ANN\n",
        "ann = tf.keras.models.Sequential()\n",
        "ann.add(tf.keras.layers.Dense(units=10, activation='relu'))\n",
        "ann.add(tf.keras.layers.Dense(units=10, activation='relu'))\n",
        "ann.add(tf.keras.layers.Dense(units=1, activation='sigmoid'))\n",
        "ann.compile(optimizer = 'adam', loss = 'binary_crossentropy', metrics = ['accuracy'])"
      ],
      "execution_count": 134,
      "outputs": []
    },
    {
      "cell_type": "code",
      "metadata": {
        "colab": {
          "base_uri": "https://localhost:8080/"
        },
        "id": "N-aFKwJN7bb4",
        "outputId": "3be33282-16c0-420e-e0d2-dd2cea61833d"
      },
      "source": [
        "#Training the ANN\n",
        "ann.fit(X_train, y_1, batch_size = 10, epochs = 100)"
      ],
      "execution_count": 135,
      "outputs": [
        {
          "output_type": "stream",
          "text": [
            "Epoch 1/100\n",
            "103/103 [==============================] - 0s 1ms/step - loss: 0.6999 - accuracy: 0.4976\n",
            "Epoch 2/100\n",
            "103/103 [==============================] - 0s 937us/step - loss: 0.6910 - accuracy: 0.5642\n",
            "Epoch 3/100\n",
            "103/103 [==============================] - 0s 1ms/step - loss: 0.6869 - accuracy: 0.5651\n",
            "Epoch 4/100\n",
            "103/103 [==============================] - 0s 1ms/step - loss: 0.6846 - accuracy: 0.5632\n",
            "Epoch 5/100\n",
            "103/103 [==============================] - 0s 1ms/step - loss: 0.6830 - accuracy: 0.5690\n",
            "Epoch 6/100\n",
            "103/103 [==============================] - 0s 1ms/step - loss: 0.6811 - accuracy: 0.5720\n",
            "Epoch 7/100\n",
            "103/103 [==============================] - 0s 988us/step - loss: 0.6802 - accuracy: 0.5769\n",
            "Epoch 8/100\n",
            "103/103 [==============================] - 0s 1ms/step - loss: 0.6802 - accuracy: 0.5779\n",
            "Epoch 9/100\n",
            "103/103 [==============================] - 0s 1ms/step - loss: 0.6797 - accuracy: 0.5769\n",
            "Epoch 10/100\n",
            "103/103 [==============================] - 0s 1ms/step - loss: 0.6799 - accuracy: 0.5759\n",
            "Epoch 11/100\n",
            "103/103 [==============================] - 0s 1ms/step - loss: 0.6796 - accuracy: 0.5759\n",
            "Epoch 12/100\n",
            "103/103 [==============================] - 0s 927us/step - loss: 0.6792 - accuracy: 0.5769\n",
            "Epoch 13/100\n",
            "103/103 [==============================] - 0s 1ms/step - loss: 0.6792 - accuracy: 0.5739\n",
            "Epoch 14/100\n",
            "103/103 [==============================] - 0s 1ms/step - loss: 0.6792 - accuracy: 0.5749\n",
            "Epoch 15/100\n",
            "103/103 [==============================] - 0s 953us/step - loss: 0.6788 - accuracy: 0.5779\n",
            "Epoch 16/100\n",
            "103/103 [==============================] - 0s 1ms/step - loss: 0.6787 - accuracy: 0.5759\n",
            "Epoch 17/100\n",
            "103/103 [==============================] - 0s 929us/step - loss: 0.6789 - accuracy: 0.5759\n",
            "Epoch 18/100\n",
            "103/103 [==============================] - 0s 1ms/step - loss: 0.6789 - accuracy: 0.5769\n",
            "Epoch 19/100\n",
            "103/103 [==============================] - 0s 931us/step - loss: 0.6789 - accuracy: 0.5759\n",
            "Epoch 20/100\n",
            "103/103 [==============================] - 0s 1ms/step - loss: 0.6790 - accuracy: 0.5798\n",
            "Epoch 21/100\n",
            "103/103 [==============================] - 0s 963us/step - loss: 0.6788 - accuracy: 0.5828\n",
            "Epoch 22/100\n",
            "103/103 [==============================] - 0s 1ms/step - loss: 0.6784 - accuracy: 0.5769\n",
            "Epoch 23/100\n",
            "103/103 [==============================] - 0s 922us/step - loss: 0.6784 - accuracy: 0.5828\n",
            "Epoch 24/100\n",
            "103/103 [==============================] - 0s 1ms/step - loss: 0.6785 - accuracy: 0.5779\n",
            "Epoch 25/100\n",
            "103/103 [==============================] - 0s 1ms/step - loss: 0.6785 - accuracy: 0.5798\n",
            "Epoch 26/100\n",
            "103/103 [==============================] - 0s 1ms/step - loss: 0.6783 - accuracy: 0.5808\n",
            "Epoch 27/100\n",
            "103/103 [==============================] - 0s 1ms/step - loss: 0.6780 - accuracy: 0.5788\n",
            "Epoch 28/100\n",
            "103/103 [==============================] - 0s 975us/step - loss: 0.6780 - accuracy: 0.5788\n",
            "Epoch 29/100\n",
            "103/103 [==============================] - 0s 955us/step - loss: 0.6782 - accuracy: 0.5798\n",
            "Epoch 30/100\n",
            "103/103 [==============================] - 0s 1ms/step - loss: 0.6780 - accuracy: 0.5788\n",
            "Epoch 31/100\n",
            "103/103 [==============================] - 0s 1ms/step - loss: 0.6781 - accuracy: 0.5779\n",
            "Epoch 32/100\n",
            "103/103 [==============================] - 0s 1ms/step - loss: 0.6778 - accuracy: 0.5798\n",
            "Epoch 33/100\n",
            "103/103 [==============================] - 0s 1ms/step - loss: 0.6780 - accuracy: 0.5798\n",
            "Epoch 34/100\n",
            "103/103 [==============================] - 0s 985us/step - loss: 0.6776 - accuracy: 0.5837\n",
            "Epoch 35/100\n",
            "103/103 [==============================] - 0s 1ms/step - loss: 0.6774 - accuracy: 0.5779\n",
            "Epoch 36/100\n",
            "103/103 [==============================] - 0s 1ms/step - loss: 0.6777 - accuracy: 0.5779\n",
            "Epoch 37/100\n",
            "103/103 [==============================] - 0s 951us/step - loss: 0.6776 - accuracy: 0.5788\n",
            "Epoch 38/100\n",
            "103/103 [==============================] - 0s 1ms/step - loss: 0.6775 - accuracy: 0.5779\n",
            "Epoch 39/100\n",
            "103/103 [==============================] - 0s 972us/step - loss: 0.6775 - accuracy: 0.5769\n",
            "Epoch 40/100\n",
            "103/103 [==============================] - 0s 1ms/step - loss: 0.6778 - accuracy: 0.5798\n",
            "Epoch 41/100\n",
            "103/103 [==============================] - 0s 1ms/step - loss: 0.6773 - accuracy: 0.5798\n",
            "Epoch 42/100\n",
            "103/103 [==============================] - 0s 969us/step - loss: 0.6775 - accuracy: 0.5798\n",
            "Epoch 43/100\n",
            "103/103 [==============================] - 0s 1ms/step - loss: 0.6772 - accuracy: 0.5779\n",
            "Epoch 44/100\n",
            "103/103 [==============================] - 0s 971us/step - loss: 0.6774 - accuracy: 0.5769\n",
            "Epoch 45/100\n",
            "103/103 [==============================] - 0s 1ms/step - loss: 0.6774 - accuracy: 0.5847\n",
            "Epoch 46/100\n",
            "103/103 [==============================] - 0s 1ms/step - loss: 0.6769 - accuracy: 0.5759\n",
            "Epoch 47/100\n",
            "103/103 [==============================] - 0s 1ms/step - loss: 0.6769 - accuracy: 0.5837\n",
            "Epoch 48/100\n",
            "103/103 [==============================] - 0s 1ms/step - loss: 0.6775 - accuracy: 0.5749\n",
            "Epoch 49/100\n",
            "103/103 [==============================] - 0s 970us/step - loss: 0.6771 - accuracy: 0.5906\n",
            "Epoch 50/100\n",
            "103/103 [==============================] - 0s 927us/step - loss: 0.6768 - accuracy: 0.5828\n",
            "Epoch 51/100\n",
            "103/103 [==============================] - 0s 967us/step - loss: 0.6772 - accuracy: 0.5788\n",
            "Epoch 52/100\n",
            "103/103 [==============================] - 0s 881us/step - loss: 0.6770 - accuracy: 0.5769\n",
            "Epoch 53/100\n",
            "103/103 [==============================] - 0s 1ms/step - loss: 0.6765 - accuracy: 0.5788\n",
            "Epoch 54/100\n",
            "103/103 [==============================] - 0s 1ms/step - loss: 0.6763 - accuracy: 0.5779\n",
            "Epoch 55/100\n",
            "103/103 [==============================] - 0s 1ms/step - loss: 0.6765 - accuracy: 0.5808\n",
            "Epoch 56/100\n",
            "103/103 [==============================] - 0s 1ms/step - loss: 0.6770 - accuracy: 0.5837\n",
            "Epoch 57/100\n",
            "103/103 [==============================] - 0s 954us/step - loss: 0.6761 - accuracy: 0.5788\n",
            "Epoch 58/100\n",
            "103/103 [==============================] - 0s 961us/step - loss: 0.6761 - accuracy: 0.5759\n",
            "Epoch 59/100\n",
            "103/103 [==============================] - 0s 1ms/step - loss: 0.6762 - accuracy: 0.5818\n",
            "Epoch 60/100\n",
            "103/103 [==============================] - 0s 973us/step - loss: 0.6760 - accuracy: 0.5788\n",
            "Epoch 61/100\n",
            "103/103 [==============================] - 0s 932us/step - loss: 0.6762 - accuracy: 0.5769\n",
            "Epoch 62/100\n",
            "103/103 [==============================] - 0s 968us/step - loss: 0.6764 - accuracy: 0.5798\n",
            "Epoch 63/100\n",
            "103/103 [==============================] - 0s 1ms/step - loss: 0.6757 - accuracy: 0.5779\n",
            "Epoch 64/100\n",
            "103/103 [==============================] - 0s 1ms/step - loss: 0.6760 - accuracy: 0.5837\n",
            "Epoch 65/100\n",
            "103/103 [==============================] - 0s 980us/step - loss: 0.6760 - accuracy: 0.5798\n",
            "Epoch 66/100\n",
            "103/103 [==============================] - 0s 981us/step - loss: 0.6757 - accuracy: 0.5818\n",
            "Epoch 67/100\n",
            "103/103 [==============================] - 0s 1ms/step - loss: 0.6756 - accuracy: 0.5847\n",
            "Epoch 68/100\n",
            "103/103 [==============================] - 0s 1000us/step - loss: 0.6758 - accuracy: 0.5798\n",
            "Epoch 69/100\n",
            "103/103 [==============================] - 0s 1ms/step - loss: 0.6755 - accuracy: 0.5769\n",
            "Epoch 70/100\n",
            "103/103 [==============================] - 0s 1ms/step - loss: 0.6755 - accuracy: 0.5847\n",
            "Epoch 71/100\n",
            "103/103 [==============================] - 0s 1ms/step - loss: 0.6764 - accuracy: 0.5857\n",
            "Epoch 72/100\n",
            "103/103 [==============================] - 0s 1ms/step - loss: 0.6754 - accuracy: 0.5828\n",
            "Epoch 73/100\n",
            "103/103 [==============================] - 0s 980us/step - loss: 0.6756 - accuracy: 0.5828\n",
            "Epoch 74/100\n",
            "103/103 [==============================] - 0s 950us/step - loss: 0.6754 - accuracy: 0.5857\n",
            "Epoch 75/100\n",
            "103/103 [==============================] - 0s 975us/step - loss: 0.6750 - accuracy: 0.5847\n",
            "Epoch 76/100\n",
            "103/103 [==============================] - 0s 1ms/step - loss: 0.6755 - accuracy: 0.5818\n",
            "Epoch 77/100\n",
            "103/103 [==============================] - 0s 1ms/step - loss: 0.6755 - accuracy: 0.5808\n",
            "Epoch 78/100\n",
            "103/103 [==============================] - 0s 928us/step - loss: 0.6758 - accuracy: 0.5818\n",
            "Epoch 79/100\n",
            "103/103 [==============================] - 0s 1ms/step - loss: 0.6750 - accuracy: 0.5867\n",
            "Epoch 80/100\n",
            "103/103 [==============================] - 0s 972us/step - loss: 0.6752 - accuracy: 0.5818\n",
            "Epoch 81/100\n",
            "103/103 [==============================] - 0s 1ms/step - loss: 0.6750 - accuracy: 0.5916\n",
            "Epoch 82/100\n",
            "103/103 [==============================] - 0s 1ms/step - loss: 0.6749 - accuracy: 0.5798\n",
            "Epoch 83/100\n",
            "103/103 [==============================] - 0s 957us/step - loss: 0.6750 - accuracy: 0.5837\n",
            "Epoch 84/100\n",
            "103/103 [==============================] - 0s 1ms/step - loss: 0.6752 - accuracy: 0.5808\n",
            "Epoch 85/100\n",
            "103/103 [==============================] - 0s 1ms/step - loss: 0.6752 - accuracy: 0.5828\n",
            "Epoch 86/100\n",
            "103/103 [==============================] - 0s 1ms/step - loss: 0.6747 - accuracy: 0.5828\n",
            "Epoch 87/100\n",
            "103/103 [==============================] - 0s 1ms/step - loss: 0.6747 - accuracy: 0.5857\n",
            "Epoch 88/100\n",
            "103/103 [==============================] - 0s 952us/step - loss: 0.6747 - accuracy: 0.5837\n",
            "Epoch 89/100\n",
            "103/103 [==============================] - 0s 1ms/step - loss: 0.6747 - accuracy: 0.5847\n",
            "Epoch 90/100\n",
            "103/103 [==============================] - 0s 1ms/step - loss: 0.6754 - accuracy: 0.5828\n",
            "Epoch 91/100\n",
            "103/103 [==============================] - 0s 1ms/step - loss: 0.6749 - accuracy: 0.5857\n",
            "Epoch 92/100\n",
            "103/103 [==============================] - 0s 1ms/step - loss: 0.6748 - accuracy: 0.5857\n",
            "Epoch 93/100\n",
            "103/103 [==============================] - 0s 964us/step - loss: 0.6748 - accuracy: 0.5818\n",
            "Epoch 94/100\n",
            "103/103 [==============================] - 0s 1ms/step - loss: 0.6747 - accuracy: 0.5759\n",
            "Epoch 95/100\n",
            "103/103 [==============================] - 0s 1ms/step - loss: 0.6758 - accuracy: 0.5867\n",
            "Epoch 96/100\n",
            "103/103 [==============================] - 0s 1ms/step - loss: 0.6746 - accuracy: 0.5847\n",
            "Epoch 97/100\n",
            "103/103 [==============================] - 0s 1ms/step - loss: 0.6743 - accuracy: 0.5916\n",
            "Epoch 98/100\n",
            "103/103 [==============================] - 0s 1ms/step - loss: 0.6744 - accuracy: 0.5896\n",
            "Epoch 99/100\n",
            "103/103 [==============================] - 0s 980us/step - loss: 0.6742 - accuracy: 0.5837\n",
            "Epoch 100/100\n",
            "103/103 [==============================] - 0s 954us/step - loss: 0.6738 - accuracy: 0.5916\n"
          ],
          "name": "stdout"
        },
        {
          "output_type": "execute_result",
          "data": {
            "text/plain": [
              "<tensorflow.python.keras.callbacks.History at 0x7f863d21e5d0>"
            ]
          },
          "metadata": {
            "tags": []
          },
          "execution_count": 135
        }
      ]
    },
    {
      "cell_type": "code",
      "metadata": {
        "id": "qD1s10mo-H8L"
      },
      "source": [
        "y_pred = ann.predict(X_test)\n",
        "y_pred = (y_pred > 0.5789)\n",
        "#print(np.concatenate((y_pred.reshape(len(y_pred),1), y_actual.reshape(len(y_actual),1)),1))"
      ],
      "execution_count": 186,
      "outputs": []
    },
    {
      "cell_type": "code",
      "metadata": {
        "colab": {
          "base_uri": "https://localhost:8080/"
        },
        "id": "B3BAiPlED6Fr",
        "outputId": "e493e181-65fa-479e-96d7-abfadcc2df1a"
      },
      "source": [
        "from sklearn.metrics import confusion_matrix, accuracy_score\n",
        "cm = confusion_matrix(y_actual, y_pred)\n",
        "print(cm)\n",
        "accuracy_score(y_actual, y_pred)"
      ],
      "execution_count": 187,
      "outputs": [
        {
          "output_type": "stream",
          "text": [
            "[[21 17]\n",
            " [19 28]]\n"
          ],
          "name": "stdout"
        },
        {
          "output_type": "execute_result",
          "data": {
            "text/plain": [
              "0.5764705882352941"
            ]
          },
          "metadata": {
            "tags": []
          },
          "execution_count": 187
        }
      ]
    },
    {
      "cell_type": "code",
      "metadata": {
        "colab": {
          "base_uri": "https://localhost:8080/"
        },
        "id": "qrVxM__PHKAX",
        "outputId": "62cff21d-81d3-4b37-99ca-b6555890815f"
      },
      "source": [
        "y_pred"
      ],
      "execution_count": 188,
      "outputs": [
        {
          "output_type": "execute_result",
          "data": {
            "text/plain": [
              "array([[ True],\n",
              "       [ True],\n",
              "       [ True],\n",
              "       [False],\n",
              "       [ True],\n",
              "       [False],\n",
              "       [ True],\n",
              "       [ True],\n",
              "       [False],\n",
              "       [False],\n",
              "       [ True],\n",
              "       [False],\n",
              "       [False],\n",
              "       [False],\n",
              "       [False],\n",
              "       [False],\n",
              "       [ True],\n",
              "       [ True],\n",
              "       [ True],\n",
              "       [ True],\n",
              "       [ True],\n",
              "       [False],\n",
              "       [False],\n",
              "       [ True],\n",
              "       [False],\n",
              "       [ True],\n",
              "       [False],\n",
              "       [False],\n",
              "       [ True],\n",
              "       [ True],\n",
              "       [False],\n",
              "       [False],\n",
              "       [False],\n",
              "       [ True],\n",
              "       [False],\n",
              "       [False],\n",
              "       [ True],\n",
              "       [ True],\n",
              "       [ True],\n",
              "       [ True],\n",
              "       [False],\n",
              "       [ True],\n",
              "       [False],\n",
              "       [ True],\n",
              "       [False],\n",
              "       [ True],\n",
              "       [False],\n",
              "       [ True],\n",
              "       [ True],\n",
              "       [ True],\n",
              "       [ True],\n",
              "       [ True],\n",
              "       [False],\n",
              "       [ True],\n",
              "       [False],\n",
              "       [ True],\n",
              "       [False],\n",
              "       [ True],\n",
              "       [ True],\n",
              "       [ True],\n",
              "       [False],\n",
              "       [False],\n",
              "       [ True],\n",
              "       [ True],\n",
              "       [ True],\n",
              "       [False],\n",
              "       [False],\n",
              "       [ True],\n",
              "       [ True],\n",
              "       [False],\n",
              "       [ True],\n",
              "       [False],\n",
              "       [False],\n",
              "       [False],\n",
              "       [False],\n",
              "       [False],\n",
              "       [ True],\n",
              "       [False],\n",
              "       [ True],\n",
              "       [ True],\n",
              "       [False],\n",
              "       [False],\n",
              "       [ True],\n",
              "       [False],\n",
              "       [ True]])"
            ]
          },
          "metadata": {
            "tags": []
          },
          "execution_count": 188
        }
      ]
    }
  ]
}