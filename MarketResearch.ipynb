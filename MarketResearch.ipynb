{
  "nbformat": 4,
  "nbformat_minor": 0,
  "metadata": {
    "colab": {
      "name": "MarketResearch.ipynb",
      "provenance": [],
      "collapsed_sections": [],
      "history_visible": true,
      "authorship_tag": "ABX9TyM8fn5phi05Ez1NdlKHmR61",
      "include_colab_link": true
    },
    "kernelspec": {
      "name": "python3",
      "display_name": "Python 3"
    },
    "language_info": {
      "name": "python"
    }
  },
  "cells": [
    {
      "cell_type": "markdown",
      "metadata": {
        "id": "view-in-github",
        "colab_type": "text"
      },
      "source": [
        "<a href=\"https://colab.research.google.com/github/kappandrew2/DataPreProcessing/blob/main/MarketResearch.ipynb\" target=\"_parent\"><img src=\"https://colab.research.google.com/assets/colab-badge.svg\" alt=\"Open In Colab\"/></a>"
      ]
    },
    {
      "cell_type": "markdown",
      "metadata": {
        "id": "1mSu-6RRLTR1"
      },
      "source": [
        "#Model Purpose\n",
        "\n",
        "Utilize historical value and time attributes to predict the next day's gain or loss value\n",
        "\n",
        "!Dataset Notes: The dataset for this data solution must come from the following web sit and contain a large historical sample of data. For example:\n",
        "\n",
        "Begin Date = 12/01/2007 (Be mindful that the last 35 periods (in this case, days) will get chopped off of the bottom of the dataset during data preprocessing)\n",
        "\n",
        "End Date = Today's current value (to be run an hour before market close)\n",
        "\n",
        "Ticker = SPY\n",
        "\n",
        "Train Set = all data except last 60 periods (rows)\n",
        "\n",
        "Prediction Set = all data from -90 periods (days) to current\n",
        "\n",
        "https://www.wsj.com/market-data/quotes/index/SPX/historical-prices\n"
      ]
    },
    {
      "cell_type": "code",
      "metadata": {
        "id": "lx9d2QEa6mXf"
      },
      "source": [
        "import numpy as np\n",
        "import matplotlib.pyplot as plt\n",
        "import pandas as pd\n",
        "import datetime\n",
        "from sklearn.model_selection import train_test_split\n",
        "from datetime import date, datetime, timedelta\n",
        "from pandas._libs.tslibs.timestamps import Timestamp"
      ],
      "execution_count": 681,
      "outputs": []
    },
    {
      "cell_type": "markdown",
      "metadata": {
        "id": "6mLzKv5BGUUZ"
      },
      "source": [
        "#Connect to drive and import data set\n",
        "\n",
        "Using google drive\n",
        "\n",
        "Importing historical prices for ticker \"SPY\""
      ]
    },
    {
      "cell_type": "code",
      "metadata": {
        "colab": {
          "base_uri": "https://localhost:8080/"
        },
        "id": "LAo4DboL6vQh",
        "outputId": "5833cc08-76c4-42a1-8555-4f7e16d5b39b"
      },
      "source": [
        "#Create CSV from data export\n",
        "#https://www.wsj.com/market-data/quotes/index/SPX/historical-prices\n",
        "\n",
        "from google.colab import drive\n",
        "drive.mount('/content/drive', force_remount=True)\n",
        "\n",
        "dataset = pd.read_csv('/content/drive/MyDrive/Colab Notebooks/HistoricalPricesSPY.csv')\n",
        "\n",
        "print(dataset)"
      ],
      "execution_count": 682,
      "outputs": [
        {
          "output_type": "stream",
          "text": [
            "Mounted at /content/drive\n",
            "          Date     Open      High     Low   Close     Volume\n",
            "0     07/29/21  439.815  441.8000  439.81  440.65   46716900\n",
            "1     07/28/21  439.680  440.3000  437.31  438.83   52472359\n",
            "2     07/27/21  439.910  439.9400  435.99  439.01   67397133\n",
            "3     07/26/21  439.310  441.0300  439.26  441.02   43719191\n",
            "4     07/23/21  437.520  440.3000  436.79  439.94   63766641\n",
            "...        ...      ...       ...     ...     ...        ...\n",
            "3433  12/07/07  151.420  151.5000  150.55  150.91  148951391\n",
            "3434  12/06/07  148.630  151.2100  148.57  150.94  154487203\n",
            "3435  12/05/07  147.930  149.2000  147.83  148.81  170813406\n",
            "3436  12/04/07  146.660  147.5409  146.31  146.36  136528609\n",
            "3437  12/03/07  148.190  148.4500  147.29  147.68  145852797\n",
            "\n",
            "[3438 rows x 6 columns]\n"
          ],
          "name": "stdout"
        }
      ]
    },
    {
      "cell_type": "markdown",
      "metadata": {
        "id": "ZWGjihLGGnuD"
      },
      "source": [
        "#Modifiy dataset Content and Headers\n",
        "\n",
        "Remove contents not required for this exercise\n",
        "\n",
        "Renaming columns to remove leading white space\n",
        "\n",
        "Narrowing the dataset can be done via drop or select, both options are available (comment out the one not in use)"
      ]
    },
    {
      "cell_type": "code",
      "metadata": {
        "id": "4_0Dq0yU7GHg"
      },
      "source": [
        "dataset.rename({' Close': 'Close'}, axis=1, inplace = True)\n",
        "dataset = dataset[['Close', 'Date']]\n",
        "#dataset = dataset.drop([' Open', ' High', ' Low', ' Volume'], axis = 1)"
      ],
      "execution_count": 683,
      "outputs": []
    },
    {
      "cell_type": "markdown",
      "metadata": {
        "id": "V9Wa2WYcG1Og"
      },
      "source": [
        "#Dataset information validation\n",
        "\n",
        "Validate date frame, column contents and data types"
      ]
    },
    {
      "cell_type": "code",
      "metadata": {
        "colab": {
          "base_uri": "https://localhost:8080/"
        },
        "id": "QjAXsP-j7Ysg",
        "outputId": "3b29a35b-5d11-45a9-ec53-07fa8e56e26b"
      },
      "source": [
        "dataset['Date'] = pd.to_datetime(dataset['Date'])\n",
        "\n",
        "dataset.info()"
      ],
      "execution_count": 684,
      "outputs": [
        {
          "output_type": "stream",
          "text": [
            "<class 'pandas.core.frame.DataFrame'>\n",
            "RangeIndex: 3438 entries, 0 to 3437\n",
            "Data columns (total 2 columns):\n",
            " #   Column  Non-Null Count  Dtype         \n",
            "---  ------  --------------  -----         \n",
            " 0   Close   3438 non-null   float64       \n",
            " 1   Date    3438 non-null   datetime64[ns]\n",
            "dtypes: datetime64[ns](1), float64(1)\n",
            "memory usage: 53.8 KB\n"
          ],
          "name": "stdout"
        }
      ]
    },
    {
      "cell_type": "markdown",
      "metadata": {
        "id": "jQhfTiNaHCIQ"
      },
      "source": [
        "#Change indext to date (for troublshooting)\n",
        "\n",
        "Moving date to the index assists in visually validating processes are working correctly\n",
        "\n",
        "!Note: This should be \"off\" except when troublshooting"
      ]
    },
    {
      "cell_type": "code",
      "metadata": {
        "colab": {
          "base_uri": "https://localhost:8080/"
        },
        "id": "yGn3MhfX4r7n",
        "outputId": "1f667164-fc90-4a82-ba39-0777fb03cc07"
      },
      "source": [
        "#dataset['Date_Index'] = dataset['Date']\n",
        "#dataset.set_index('Date_Index', inplace=True)\n",
        "\n",
        "dataset.info()"
      ],
      "execution_count": 685,
      "outputs": [
        {
          "output_type": "stream",
          "text": [
            "<class 'pandas.core.frame.DataFrame'>\n",
            "RangeIndex: 3438 entries, 0 to 3437\n",
            "Data columns (total 2 columns):\n",
            " #   Column  Non-Null Count  Dtype         \n",
            "---  ------  --------------  -----         \n",
            " 0   Close   3438 non-null   float64       \n",
            " 1   Date    3438 non-null   datetime64[ns]\n",
            "dtypes: datetime64[ns](1), float64(1)\n",
            "memory usage: 53.8 KB\n"
          ],
          "name": "stdout"
        }
      ]
    },
    {
      "cell_type": "markdown",
      "metadata": {
        "id": "5NF3DoJCHWFM"
      },
      "source": [
        "#Create time attributes\n",
        "\n",
        "Time attributes will change date from a continous variable into discrete (a numeric categorical value)"
      ]
    },
    {
      "cell_type": "code",
      "metadata": {
        "colab": {
          "base_uri": "https://localhost:8080/"
        },
        "id": "BTr8otxU7gU5",
        "outputId": "142fd602-7870-4b31-f2d5-8959d27295f2"
      },
      "source": [
        "dataset['DOW'] = dataset['Date'].dt.dayofweek\n",
        "dataset['DOY'] = dataset['Date'].dt.dayofyear\n",
        "dataset['Week'] = dataset['Date'].dt.week\n",
        "dataset['Month'] = dataset['Date'].dt.month\n",
        "dataset['Quarter'] = dataset['Date'].dt.quarter\n",
        "\n",
        "dataset.dtypes"
      ],
      "execution_count": 686,
      "outputs": [
        {
          "output_type": "stream",
          "text": [
            "/usr/local/lib/python3.7/dist-packages/ipykernel_launcher.py:3: FutureWarning: Series.dt.weekofyear and Series.dt.week have been deprecated.  Please use Series.dt.isocalendar().week instead.\n",
            "  This is separate from the ipykernel package so we can avoid doing imports until\n"
          ],
          "name": "stderr"
        },
        {
          "output_type": "execute_result",
          "data": {
            "text/plain": [
              "Close             float64\n",
              "Date       datetime64[ns]\n",
              "DOW                 int64\n",
              "DOY                 int64\n",
              "Week                int64\n",
              "Month               int64\n",
              "Quarter             int64\n",
              "dtype: object"
            ]
          },
          "metadata": {
            "tags": []
          },
          "execution_count": 686
        }
      ]
    },
    {
      "cell_type": "markdown",
      "metadata": {
        "id": "GXUsxdw9H7KW"
      },
      "source": [
        "#Create skip-day gain loss values (and dependant variable #1)\n",
        "\n",
        "!Note: gain-loss-0 will ultimately end up being the dependant variable but also an independant variable (we will create a new column later and shift it down a row)\n",
        "\n",
        "1) Calculate the first day's gain loss by subtracting day -1 from day 0\n",
        "\n",
        "2) Calculate the second day's gain loss by subtracting day -2 from day 0\n",
        "\n",
        "3) Calculate the third day's gain loss by subtracting day -n from day 0\n",
        "\n",
        "!Note: This should be turned into a loop using i=n where n = the rows to be processed (now many previous rows)\n",
        "\n",
        "\n"
      ]
    },
    {
      "cell_type": "code",
      "metadata": {
        "colab": {
          "base_uri": "https://localhost:8080/"
        },
        "id": "ko_KBr4W7rZW",
        "outputId": "aac52b7a-428d-4f34-fab1-d58db814cb7c"
      },
      "source": [
        "dataset['gain_loss-0'] = dataset['Close'].diff(-1)\n",
        "dataset['gain_loss-1'] = dataset['Close'].diff(-2)\n",
        "#dataset['gain_loss-1'] = dataset['gain_loss-1'].shift(periods=-1, fill_value=0) #Removed these to experiment \n",
        "#with switching around the dependant variable rather than the independant variable\n",
        "dataset['gain_loss-2'] = dataset['Close'].diff(-3) \n",
        "#dataset['gain_loss-2'] = dataset['gain_loss-2'].shift(periods=-1, fill_value=0)\n",
        "dataset['gain_loss-3'] = dataset['Close'].diff(-4) \n",
        "#dataset['gain_loss-3'] = dataset['gain_loss-3'].shift(periods=-1, fill_value=0)\n",
        "dataset['gain_loss-4'] = dataset['Close'].diff(-5) \n",
        "#dataset['gain_loss-4'] = dataset['gain_loss-4'].shift(periods=-1, fill_value=0)\n",
        "\n",
        "print(dataset)\n",
        "#dataset.dtypes"
      ],
      "execution_count": 687,
      "outputs": [
        {
          "output_type": "stream",
          "text": [
            "       Close       Date  DOW  ...  gain_loss-2  gain_loss-3  gain_loss-4\n",
            "0     440.65 2021-07-29    3  ...        -0.37         0.71         5.19\n",
            "1     438.83 2021-07-28    2  ...        -1.11         3.37         4.28\n",
            "2     439.01 2021-07-27    1  ...         3.55         4.46         7.95\n",
            "3     441.02 2021-07-26    0  ...         6.47         9.96        16.05\n",
            "4     439.94 2021-07-23    4  ...         8.88        14.97         8.60\n",
            "...      ...        ...  ...  ...          ...          ...          ...\n",
            "3433  150.91 2007-12-07    4  ...         4.55         3.23          NaN\n",
            "3434  150.94 2007-12-06    3  ...         3.26          NaN          NaN\n",
            "3435  148.81 2007-12-05    2  ...          NaN          NaN          NaN\n",
            "3436  146.36 2007-12-04    1  ...          NaN          NaN          NaN\n",
            "3437  147.68 2007-12-03    0  ...          NaN          NaN          NaN\n",
            "\n",
            "[3438 rows x 12 columns]\n"
          ],
          "name": "stdout"
        }
      ]
    },
    {
      "cell_type": "markdown",
      "metadata": {
        "id": "tJLMlPczM8bw"
      },
      "source": [
        "#Create binary version of skip-day gain loss values (and dependant variable #2)\n",
        "\n",
        "!Note: gain-loss-0b will ultimately end up being the dependant variable but also an independant variable (we will create a new column later and shift it down a row)\n",
        "\n",
        "This process changes all gain loss continuous variables into a binary-descrete (dichotomous) variables\n",
        "\n",
        "!Note - This process should be converted into the previous process when that process is converted into a loop"
      ]
    },
    {
      "cell_type": "code",
      "metadata": {
        "colab": {
          "base_uri": "https://localhost:8080/"
        },
        "id": "8rnb0z4P8D79",
        "outputId": "8a8cf210-28db-41db-9fad-61fc15703167"
      },
      "source": [
        "dataset['gain_loss-0b'] = np.where(dataset['gain_loss-0'] > 0, 1, 0)\n",
        "dataset['gain_loss-1b'] = np.where(dataset['gain_loss-1'] > 0, 1, 0)\n",
        "dataset['gain_loss-2b'] = np.where(dataset['gain_loss-2'] > 0, 1, 0)\n",
        "dataset['gain_loss-3b'] = np.where(dataset['gain_loss-3'] > 0, 1, 0)\n",
        "dataset['gain_loss-4b'] = np.where(dataset['gain_loss-4'] > 0, 1, 0)\n",
        "\n",
        "dataset.dtypes"
      ],
      "execution_count": 688,
      "outputs": [
        {
          "output_type": "execute_result",
          "data": {
            "text/plain": [
              "Close                  float64\n",
              "Date            datetime64[ns]\n",
              "DOW                      int64\n",
              "DOY                      int64\n",
              "Week                     int64\n",
              "Month                    int64\n",
              "Quarter                  int64\n",
              "gain_loss-0            float64\n",
              "gain_loss-1            float64\n",
              "gain_loss-2            float64\n",
              "gain_loss-3            float64\n",
              "gain_loss-4            float64\n",
              "gain_loss-0b             int64\n",
              "gain_loss-1b             int64\n",
              "gain_loss-2b             int64\n",
              "gain_loss-3b             int64\n",
              "gain_loss-4b             int64\n",
              "dtype: object"
            ]
          },
          "metadata": {
            "tags": []
          },
          "execution_count": 688
        }
      ]
    },
    {
      "cell_type": "markdown",
      "metadata": {
        "id": "qySpImzmN0ki"
      },
      "source": [
        "#Aggregate the binary skip-day gain loss values\n",
        "\n",
        "This creates a true categorical value from the binary descrete values.\n",
        "\n",
        "The theory is that, having binary values for each period (sparce matrix) and an aggregate (categorical), the values will work together to increase the value of this data\n",
        "\n",
        "!Note = This process should be indluded in the loop mentioned in notes from the above process (future modifications to the data pre-processing procedures)"
      ]
    },
    {
      "cell_type": "code",
      "metadata": {
        "colab": {
          "base_uri": "https://localhost:8080/",
          "height": 626
        },
        "id": "SzyHZx9vFIKb",
        "outputId": "0c04db71-6e56-4631-bd0c-7d1744b8e972"
      },
      "source": [
        "dataset['gain_loss-total_b'] = dataset['gain_loss-0b'] + dataset['gain_loss-1b'] + dataset['gain_loss-2b'] + dataset['gain_loss-3b'] + dataset['gain_loss-4b']\n",
        "\n",
        "dataset.head(-1)"
      ],
      "execution_count": 689,
      "outputs": [
        {
          "output_type": "execute_result",
          "data": {
            "text/html": [
              "<div>\n",
              "<style scoped>\n",
              "    .dataframe tbody tr th:only-of-type {\n",
              "        vertical-align: middle;\n",
              "    }\n",
              "\n",
              "    .dataframe tbody tr th {\n",
              "        vertical-align: top;\n",
              "    }\n",
              "\n",
              "    .dataframe thead th {\n",
              "        text-align: right;\n",
              "    }\n",
              "</style>\n",
              "<table border=\"1\" class=\"dataframe\">\n",
              "  <thead>\n",
              "    <tr style=\"text-align: right;\">\n",
              "      <th></th>\n",
              "      <th>Close</th>\n",
              "      <th>Date</th>\n",
              "      <th>DOW</th>\n",
              "      <th>DOY</th>\n",
              "      <th>Week</th>\n",
              "      <th>Month</th>\n",
              "      <th>Quarter</th>\n",
              "      <th>gain_loss-0</th>\n",
              "      <th>gain_loss-1</th>\n",
              "      <th>gain_loss-2</th>\n",
              "      <th>gain_loss-3</th>\n",
              "      <th>gain_loss-4</th>\n",
              "      <th>gain_loss-0b</th>\n",
              "      <th>gain_loss-1b</th>\n",
              "      <th>gain_loss-2b</th>\n",
              "      <th>gain_loss-3b</th>\n",
              "      <th>gain_loss-4b</th>\n",
              "      <th>gain_loss-total_b</th>\n",
              "    </tr>\n",
              "  </thead>\n",
              "  <tbody>\n",
              "    <tr>\n",
              "      <th>0</th>\n",
              "      <td>440.65</td>\n",
              "      <td>2021-07-29</td>\n",
              "      <td>3</td>\n",
              "      <td>210</td>\n",
              "      <td>30</td>\n",
              "      <td>7</td>\n",
              "      <td>3</td>\n",
              "      <td>1.82</td>\n",
              "      <td>1.64</td>\n",
              "      <td>-0.37</td>\n",
              "      <td>0.71</td>\n",
              "      <td>5.19</td>\n",
              "      <td>1</td>\n",
              "      <td>1</td>\n",
              "      <td>0</td>\n",
              "      <td>1</td>\n",
              "      <td>1</td>\n",
              "      <td>4</td>\n",
              "    </tr>\n",
              "    <tr>\n",
              "      <th>1</th>\n",
              "      <td>438.83</td>\n",
              "      <td>2021-07-28</td>\n",
              "      <td>2</td>\n",
              "      <td>209</td>\n",
              "      <td>30</td>\n",
              "      <td>7</td>\n",
              "      <td>3</td>\n",
              "      <td>-0.18</td>\n",
              "      <td>-2.19</td>\n",
              "      <td>-1.11</td>\n",
              "      <td>3.37</td>\n",
              "      <td>4.28</td>\n",
              "      <td>0</td>\n",
              "      <td>0</td>\n",
              "      <td>0</td>\n",
              "      <td>1</td>\n",
              "      <td>1</td>\n",
              "      <td>2</td>\n",
              "    </tr>\n",
              "    <tr>\n",
              "      <th>2</th>\n",
              "      <td>439.01</td>\n",
              "      <td>2021-07-27</td>\n",
              "      <td>1</td>\n",
              "      <td>208</td>\n",
              "      <td>30</td>\n",
              "      <td>7</td>\n",
              "      <td>3</td>\n",
              "      <td>-2.01</td>\n",
              "      <td>-0.93</td>\n",
              "      <td>3.55</td>\n",
              "      <td>4.46</td>\n",
              "      <td>7.95</td>\n",
              "      <td>0</td>\n",
              "      <td>0</td>\n",
              "      <td>1</td>\n",
              "      <td>1</td>\n",
              "      <td>1</td>\n",
              "      <td>3</td>\n",
              "    </tr>\n",
              "    <tr>\n",
              "      <th>3</th>\n",
              "      <td>441.02</td>\n",
              "      <td>2021-07-26</td>\n",
              "      <td>0</td>\n",
              "      <td>207</td>\n",
              "      <td>30</td>\n",
              "      <td>7</td>\n",
              "      <td>3</td>\n",
              "      <td>1.08</td>\n",
              "      <td>5.56</td>\n",
              "      <td>6.47</td>\n",
              "      <td>9.96</td>\n",
              "      <td>16.05</td>\n",
              "      <td>1</td>\n",
              "      <td>1</td>\n",
              "      <td>1</td>\n",
              "      <td>1</td>\n",
              "      <td>1</td>\n",
              "      <td>5</td>\n",
              "    </tr>\n",
              "    <tr>\n",
              "      <th>4</th>\n",
              "      <td>439.94</td>\n",
              "      <td>2021-07-23</td>\n",
              "      <td>4</td>\n",
              "      <td>204</td>\n",
              "      <td>29</td>\n",
              "      <td>7</td>\n",
              "      <td>3</td>\n",
              "      <td>4.48</td>\n",
              "      <td>5.39</td>\n",
              "      <td>8.88</td>\n",
              "      <td>14.97</td>\n",
              "      <td>8.60</td>\n",
              "      <td>1</td>\n",
              "      <td>1</td>\n",
              "      <td>1</td>\n",
              "      <td>1</td>\n",
              "      <td>1</td>\n",
              "      <td>5</td>\n",
              "    </tr>\n",
              "    <tr>\n",
              "      <th>...</th>\n",
              "      <td>...</td>\n",
              "      <td>...</td>\n",
              "      <td>...</td>\n",
              "      <td>...</td>\n",
              "      <td>...</td>\n",
              "      <td>...</td>\n",
              "      <td>...</td>\n",
              "      <td>...</td>\n",
              "      <td>...</td>\n",
              "      <td>...</td>\n",
              "      <td>...</td>\n",
              "      <td>...</td>\n",
              "      <td>...</td>\n",
              "      <td>...</td>\n",
              "      <td>...</td>\n",
              "      <td>...</td>\n",
              "      <td>...</td>\n",
              "      <td>...</td>\n",
              "    </tr>\n",
              "    <tr>\n",
              "      <th>3432</th>\n",
              "      <td>152.08</td>\n",
              "      <td>2007-12-10</td>\n",
              "      <td>0</td>\n",
              "      <td>344</td>\n",
              "      <td>50</td>\n",
              "      <td>12</td>\n",
              "      <td>4</td>\n",
              "      <td>1.17</td>\n",
              "      <td>1.14</td>\n",
              "      <td>3.27</td>\n",
              "      <td>5.72</td>\n",
              "      <td>4.40</td>\n",
              "      <td>1</td>\n",
              "      <td>1</td>\n",
              "      <td>1</td>\n",
              "      <td>1</td>\n",
              "      <td>1</td>\n",
              "      <td>5</td>\n",
              "    </tr>\n",
              "    <tr>\n",
              "      <th>3433</th>\n",
              "      <td>150.91</td>\n",
              "      <td>2007-12-07</td>\n",
              "      <td>4</td>\n",
              "      <td>341</td>\n",
              "      <td>49</td>\n",
              "      <td>12</td>\n",
              "      <td>4</td>\n",
              "      <td>-0.03</td>\n",
              "      <td>2.10</td>\n",
              "      <td>4.55</td>\n",
              "      <td>3.23</td>\n",
              "      <td>NaN</td>\n",
              "      <td>0</td>\n",
              "      <td>1</td>\n",
              "      <td>1</td>\n",
              "      <td>1</td>\n",
              "      <td>0</td>\n",
              "      <td>3</td>\n",
              "    </tr>\n",
              "    <tr>\n",
              "      <th>3434</th>\n",
              "      <td>150.94</td>\n",
              "      <td>2007-12-06</td>\n",
              "      <td>3</td>\n",
              "      <td>340</td>\n",
              "      <td>49</td>\n",
              "      <td>12</td>\n",
              "      <td>4</td>\n",
              "      <td>2.13</td>\n",
              "      <td>4.58</td>\n",
              "      <td>3.26</td>\n",
              "      <td>NaN</td>\n",
              "      <td>NaN</td>\n",
              "      <td>1</td>\n",
              "      <td>1</td>\n",
              "      <td>1</td>\n",
              "      <td>0</td>\n",
              "      <td>0</td>\n",
              "      <td>3</td>\n",
              "    </tr>\n",
              "    <tr>\n",
              "      <th>3435</th>\n",
              "      <td>148.81</td>\n",
              "      <td>2007-12-05</td>\n",
              "      <td>2</td>\n",
              "      <td>339</td>\n",
              "      <td>49</td>\n",
              "      <td>12</td>\n",
              "      <td>4</td>\n",
              "      <td>2.45</td>\n",
              "      <td>1.13</td>\n",
              "      <td>NaN</td>\n",
              "      <td>NaN</td>\n",
              "      <td>NaN</td>\n",
              "      <td>1</td>\n",
              "      <td>1</td>\n",
              "      <td>0</td>\n",
              "      <td>0</td>\n",
              "      <td>0</td>\n",
              "      <td>2</td>\n",
              "    </tr>\n",
              "    <tr>\n",
              "      <th>3436</th>\n",
              "      <td>146.36</td>\n",
              "      <td>2007-12-04</td>\n",
              "      <td>1</td>\n",
              "      <td>338</td>\n",
              "      <td>49</td>\n",
              "      <td>12</td>\n",
              "      <td>4</td>\n",
              "      <td>-1.32</td>\n",
              "      <td>NaN</td>\n",
              "      <td>NaN</td>\n",
              "      <td>NaN</td>\n",
              "      <td>NaN</td>\n",
              "      <td>0</td>\n",
              "      <td>0</td>\n",
              "      <td>0</td>\n",
              "      <td>0</td>\n",
              "      <td>0</td>\n",
              "      <td>0</td>\n",
              "    </tr>\n",
              "  </tbody>\n",
              "</table>\n",
              "<p>3437 rows × 18 columns</p>\n",
              "</div>"
            ],
            "text/plain": [
              "       Close       Date  DOW  ...  gain_loss-3b  gain_loss-4b  gain_loss-total_b\n",
              "0     440.65 2021-07-29    3  ...             1             1                  4\n",
              "1     438.83 2021-07-28    2  ...             1             1                  2\n",
              "2     439.01 2021-07-27    1  ...             1             1                  3\n",
              "3     441.02 2021-07-26    0  ...             1             1                  5\n",
              "4     439.94 2021-07-23    4  ...             1             1                  5\n",
              "...      ...        ...  ...  ...           ...           ...                ...\n",
              "3432  152.08 2007-12-10    0  ...             1             1                  5\n",
              "3433  150.91 2007-12-07    4  ...             1             0                  3\n",
              "3434  150.94 2007-12-06    3  ...             0             0                  3\n",
              "3435  148.81 2007-12-05    2  ...             0             0                  2\n",
              "3436  146.36 2007-12-04    1  ...             0             0                  0\n",
              "\n",
              "[3437 rows x 18 columns]"
            ]
          },
          "metadata": {
            "tags": []
          },
          "execution_count": 689
        }
      ]
    },
    {
      "cell_type": "markdown",
      "metadata": {
        "id": "2LMh_Hj8PWIq"
      },
      "source": [
        "#Create daily gain loss and denormalize values\n",
        "\n",
        "1) Calculate the first day's gain loss by subtracting day -1 from day 0\n",
        "\n",
        "2) Calculate the second day's gain loss by subtracting day -2 from day -1\n",
        "\n",
        "3) Calculate the third day's gain loss by subtracting day -n from day -n+1\n",
        "\n",
        "This process creates a new column and removes the top rows in accordance with the desired \"lookback\" period - shift over 1 and lift by 1, shift over 2 and lift by 2, shift over n and lift by n\n",
        "\n",
        "!Note: This should be turned into a loop using i=n where n = the rows to be processed (now many previous rows)\n"
      ]
    },
    {
      "cell_type": "code",
      "metadata": {
        "colab": {
          "base_uri": "https://localhost:8080/",
          "height": 326
        },
        "id": "Swk_VFSW9P1P",
        "outputId": "130eaf3e-0095-4057-e9b1-57f932a562eb"
      },
      "source": [
        "dataset['prior_day-0'] = dataset['gain_loss-0']\n",
        "#dataset['prior_day-1'] = dataset['prior_day-1'].shift(periods=-1, fill_value=0)#Removed this to experiment \n",
        "#with switching around the dependant variable rather than the independant variable\n",
        "dataset['prior_day-1'] = dataset['gain_loss-0']\n",
        "dataset['prior_day-1'] = dataset['prior_day-1'].shift(periods=-1, fill_value=0)\n",
        "dataset['prior_day-2'] = dataset['gain_loss-0']\n",
        "dataset['prior_day-2'] = dataset['prior_day-2'].shift(periods=-2, fill_value=0)\n",
        "dataset['prior_day-3'] = dataset['gain_loss-0']\n",
        "dataset['prior_day-3'] = dataset['prior_day-3'].shift(periods=-3, fill_value=0)\n",
        "dataset['prior_day-4'] = dataset['gain_loss-0']\n",
        "dataset['prior_day-4'] = dataset['prior_day-4'].shift(periods=-4, fill_value=0)\n",
        "dataset.head()"
      ],
      "execution_count": 690,
      "outputs": [
        {
          "output_type": "execute_result",
          "data": {
            "text/html": [
              "<div>\n",
              "<style scoped>\n",
              "    .dataframe tbody tr th:only-of-type {\n",
              "        vertical-align: middle;\n",
              "    }\n",
              "\n",
              "    .dataframe tbody tr th {\n",
              "        vertical-align: top;\n",
              "    }\n",
              "\n",
              "    .dataframe thead th {\n",
              "        text-align: right;\n",
              "    }\n",
              "</style>\n",
              "<table border=\"1\" class=\"dataframe\">\n",
              "  <thead>\n",
              "    <tr style=\"text-align: right;\">\n",
              "      <th></th>\n",
              "      <th>Close</th>\n",
              "      <th>Date</th>\n",
              "      <th>DOW</th>\n",
              "      <th>DOY</th>\n",
              "      <th>Week</th>\n",
              "      <th>Month</th>\n",
              "      <th>Quarter</th>\n",
              "      <th>gain_loss-0</th>\n",
              "      <th>gain_loss-1</th>\n",
              "      <th>gain_loss-2</th>\n",
              "      <th>gain_loss-3</th>\n",
              "      <th>gain_loss-4</th>\n",
              "      <th>gain_loss-0b</th>\n",
              "      <th>gain_loss-1b</th>\n",
              "      <th>gain_loss-2b</th>\n",
              "      <th>gain_loss-3b</th>\n",
              "      <th>gain_loss-4b</th>\n",
              "      <th>gain_loss-total_b</th>\n",
              "      <th>prior_day-0</th>\n",
              "      <th>prior_day-1</th>\n",
              "      <th>prior_day-2</th>\n",
              "      <th>prior_day-3</th>\n",
              "      <th>prior_day-4</th>\n",
              "    </tr>\n",
              "  </thead>\n",
              "  <tbody>\n",
              "    <tr>\n",
              "      <th>0</th>\n",
              "      <td>440.65</td>\n",
              "      <td>2021-07-29</td>\n",
              "      <td>3</td>\n",
              "      <td>210</td>\n",
              "      <td>30</td>\n",
              "      <td>7</td>\n",
              "      <td>3</td>\n",
              "      <td>1.82</td>\n",
              "      <td>1.64</td>\n",
              "      <td>-0.37</td>\n",
              "      <td>0.71</td>\n",
              "      <td>5.19</td>\n",
              "      <td>1</td>\n",
              "      <td>1</td>\n",
              "      <td>0</td>\n",
              "      <td>1</td>\n",
              "      <td>1</td>\n",
              "      <td>4</td>\n",
              "      <td>1.82</td>\n",
              "      <td>-0.18</td>\n",
              "      <td>-2.01</td>\n",
              "      <td>1.08</td>\n",
              "      <td>4.48</td>\n",
              "    </tr>\n",
              "    <tr>\n",
              "      <th>1</th>\n",
              "      <td>438.83</td>\n",
              "      <td>2021-07-28</td>\n",
              "      <td>2</td>\n",
              "      <td>209</td>\n",
              "      <td>30</td>\n",
              "      <td>7</td>\n",
              "      <td>3</td>\n",
              "      <td>-0.18</td>\n",
              "      <td>-2.19</td>\n",
              "      <td>-1.11</td>\n",
              "      <td>3.37</td>\n",
              "      <td>4.28</td>\n",
              "      <td>0</td>\n",
              "      <td>0</td>\n",
              "      <td>0</td>\n",
              "      <td>1</td>\n",
              "      <td>1</td>\n",
              "      <td>2</td>\n",
              "      <td>-0.18</td>\n",
              "      <td>-2.01</td>\n",
              "      <td>1.08</td>\n",
              "      <td>4.48</td>\n",
              "      <td>0.91</td>\n",
              "    </tr>\n",
              "    <tr>\n",
              "      <th>2</th>\n",
              "      <td>439.01</td>\n",
              "      <td>2021-07-27</td>\n",
              "      <td>1</td>\n",
              "      <td>208</td>\n",
              "      <td>30</td>\n",
              "      <td>7</td>\n",
              "      <td>3</td>\n",
              "      <td>-2.01</td>\n",
              "      <td>-0.93</td>\n",
              "      <td>3.55</td>\n",
              "      <td>4.46</td>\n",
              "      <td>7.95</td>\n",
              "      <td>0</td>\n",
              "      <td>0</td>\n",
              "      <td>1</td>\n",
              "      <td>1</td>\n",
              "      <td>1</td>\n",
              "      <td>3</td>\n",
              "      <td>-2.01</td>\n",
              "      <td>1.08</td>\n",
              "      <td>4.48</td>\n",
              "      <td>0.91</td>\n",
              "      <td>3.49</td>\n",
              "    </tr>\n",
              "    <tr>\n",
              "      <th>3</th>\n",
              "      <td>441.02</td>\n",
              "      <td>2021-07-26</td>\n",
              "      <td>0</td>\n",
              "      <td>207</td>\n",
              "      <td>30</td>\n",
              "      <td>7</td>\n",
              "      <td>3</td>\n",
              "      <td>1.08</td>\n",
              "      <td>5.56</td>\n",
              "      <td>6.47</td>\n",
              "      <td>9.96</td>\n",
              "      <td>16.05</td>\n",
              "      <td>1</td>\n",
              "      <td>1</td>\n",
              "      <td>1</td>\n",
              "      <td>1</td>\n",
              "      <td>1</td>\n",
              "      <td>5</td>\n",
              "      <td>1.08</td>\n",
              "      <td>4.48</td>\n",
              "      <td>0.91</td>\n",
              "      <td>3.49</td>\n",
              "      <td>6.09</td>\n",
              "    </tr>\n",
              "    <tr>\n",
              "      <th>4</th>\n",
              "      <td>439.94</td>\n",
              "      <td>2021-07-23</td>\n",
              "      <td>4</td>\n",
              "      <td>204</td>\n",
              "      <td>29</td>\n",
              "      <td>7</td>\n",
              "      <td>3</td>\n",
              "      <td>4.48</td>\n",
              "      <td>5.39</td>\n",
              "      <td>8.88</td>\n",
              "      <td>14.97</td>\n",
              "      <td>8.60</td>\n",
              "      <td>1</td>\n",
              "      <td>1</td>\n",
              "      <td>1</td>\n",
              "      <td>1</td>\n",
              "      <td>1</td>\n",
              "      <td>5</td>\n",
              "      <td>4.48</td>\n",
              "      <td>0.91</td>\n",
              "      <td>3.49</td>\n",
              "      <td>6.09</td>\n",
              "      <td>-6.37</td>\n",
              "    </tr>\n",
              "  </tbody>\n",
              "</table>\n",
              "</div>"
            ],
            "text/plain": [
              "    Close       Date  DOW  ...  prior_day-2  prior_day-3  prior_day-4\n",
              "0  440.65 2021-07-29    3  ...        -2.01         1.08         4.48\n",
              "1  438.83 2021-07-28    2  ...         1.08         4.48         0.91\n",
              "2  439.01 2021-07-27    1  ...         4.48         0.91         3.49\n",
              "3  441.02 2021-07-26    0  ...         0.91         3.49         6.09\n",
              "4  439.94 2021-07-23    4  ...         3.49         6.09        -6.37\n",
              "\n",
              "[5 rows x 23 columns]"
            ]
          },
          "metadata": {
            "tags": []
          },
          "execution_count": 690
        }
      ]
    },
    {
      "cell_type": "markdown",
      "metadata": {
        "id": "6Pj-PFciR9O7"
      },
      "source": [
        "#Create binary version of daily gain loss values\n",
        "\n",
        "This process changes all gain loss continuous variables into a binary-descrete (dichotomous) variables\n",
        "\n",
        "!Note - This process should be converted into the previous process when that process is converted into a loop"
      ]
    },
    {
      "cell_type": "code",
      "metadata": {
        "colab": {
          "base_uri": "https://localhost:8080/",
          "height": 326
        },
        "id": "HsobZVYEC0-h",
        "outputId": "dba9b499-e907-4d80-e18a-e3f45f1aa936"
      },
      "source": [
        "dataset['prior_day-0b'] = np.where(dataset['prior_day-0'] > 0, 1, 0)\n",
        "dataset['prior_day-1b'] = np.where(dataset['prior_day-1'] > 0, 1, 0)\n",
        "dataset['prior_day-2b'] = np.where(dataset['prior_day-2'] > 0, 1, 0)\n",
        "dataset['prior_day-3b'] = np.where(dataset['prior_day-3'] > 0, 1, 0)\n",
        "dataset['prior_day-4b'] = np.where(dataset['prior_day-4'] > 0, 1, 0)\n",
        "dataset.head()"
      ],
      "execution_count": 691,
      "outputs": [
        {
          "output_type": "execute_result",
          "data": {
            "text/html": [
              "<div>\n",
              "<style scoped>\n",
              "    .dataframe tbody tr th:only-of-type {\n",
              "        vertical-align: middle;\n",
              "    }\n",
              "\n",
              "    .dataframe tbody tr th {\n",
              "        vertical-align: top;\n",
              "    }\n",
              "\n",
              "    .dataframe thead th {\n",
              "        text-align: right;\n",
              "    }\n",
              "</style>\n",
              "<table border=\"1\" class=\"dataframe\">\n",
              "  <thead>\n",
              "    <tr style=\"text-align: right;\">\n",
              "      <th></th>\n",
              "      <th>Close</th>\n",
              "      <th>Date</th>\n",
              "      <th>DOW</th>\n",
              "      <th>DOY</th>\n",
              "      <th>Week</th>\n",
              "      <th>Month</th>\n",
              "      <th>Quarter</th>\n",
              "      <th>gain_loss-0</th>\n",
              "      <th>gain_loss-1</th>\n",
              "      <th>gain_loss-2</th>\n",
              "      <th>gain_loss-3</th>\n",
              "      <th>gain_loss-4</th>\n",
              "      <th>gain_loss-0b</th>\n",
              "      <th>gain_loss-1b</th>\n",
              "      <th>gain_loss-2b</th>\n",
              "      <th>gain_loss-3b</th>\n",
              "      <th>gain_loss-4b</th>\n",
              "      <th>gain_loss-total_b</th>\n",
              "      <th>prior_day-0</th>\n",
              "      <th>prior_day-1</th>\n",
              "      <th>prior_day-2</th>\n",
              "      <th>prior_day-3</th>\n",
              "      <th>prior_day-4</th>\n",
              "      <th>prior_day-0b</th>\n",
              "      <th>prior_day-1b</th>\n",
              "      <th>prior_day-2b</th>\n",
              "      <th>prior_day-3b</th>\n",
              "      <th>prior_day-4b</th>\n",
              "    </tr>\n",
              "  </thead>\n",
              "  <tbody>\n",
              "    <tr>\n",
              "      <th>0</th>\n",
              "      <td>440.65</td>\n",
              "      <td>2021-07-29</td>\n",
              "      <td>3</td>\n",
              "      <td>210</td>\n",
              "      <td>30</td>\n",
              "      <td>7</td>\n",
              "      <td>3</td>\n",
              "      <td>1.82</td>\n",
              "      <td>1.64</td>\n",
              "      <td>-0.37</td>\n",
              "      <td>0.71</td>\n",
              "      <td>5.19</td>\n",
              "      <td>1</td>\n",
              "      <td>1</td>\n",
              "      <td>0</td>\n",
              "      <td>1</td>\n",
              "      <td>1</td>\n",
              "      <td>4</td>\n",
              "      <td>1.82</td>\n",
              "      <td>-0.18</td>\n",
              "      <td>-2.01</td>\n",
              "      <td>1.08</td>\n",
              "      <td>4.48</td>\n",
              "      <td>1</td>\n",
              "      <td>0</td>\n",
              "      <td>0</td>\n",
              "      <td>1</td>\n",
              "      <td>1</td>\n",
              "    </tr>\n",
              "    <tr>\n",
              "      <th>1</th>\n",
              "      <td>438.83</td>\n",
              "      <td>2021-07-28</td>\n",
              "      <td>2</td>\n",
              "      <td>209</td>\n",
              "      <td>30</td>\n",
              "      <td>7</td>\n",
              "      <td>3</td>\n",
              "      <td>-0.18</td>\n",
              "      <td>-2.19</td>\n",
              "      <td>-1.11</td>\n",
              "      <td>3.37</td>\n",
              "      <td>4.28</td>\n",
              "      <td>0</td>\n",
              "      <td>0</td>\n",
              "      <td>0</td>\n",
              "      <td>1</td>\n",
              "      <td>1</td>\n",
              "      <td>2</td>\n",
              "      <td>-0.18</td>\n",
              "      <td>-2.01</td>\n",
              "      <td>1.08</td>\n",
              "      <td>4.48</td>\n",
              "      <td>0.91</td>\n",
              "      <td>0</td>\n",
              "      <td>0</td>\n",
              "      <td>1</td>\n",
              "      <td>1</td>\n",
              "      <td>1</td>\n",
              "    </tr>\n",
              "    <tr>\n",
              "      <th>2</th>\n",
              "      <td>439.01</td>\n",
              "      <td>2021-07-27</td>\n",
              "      <td>1</td>\n",
              "      <td>208</td>\n",
              "      <td>30</td>\n",
              "      <td>7</td>\n",
              "      <td>3</td>\n",
              "      <td>-2.01</td>\n",
              "      <td>-0.93</td>\n",
              "      <td>3.55</td>\n",
              "      <td>4.46</td>\n",
              "      <td>7.95</td>\n",
              "      <td>0</td>\n",
              "      <td>0</td>\n",
              "      <td>1</td>\n",
              "      <td>1</td>\n",
              "      <td>1</td>\n",
              "      <td>3</td>\n",
              "      <td>-2.01</td>\n",
              "      <td>1.08</td>\n",
              "      <td>4.48</td>\n",
              "      <td>0.91</td>\n",
              "      <td>3.49</td>\n",
              "      <td>0</td>\n",
              "      <td>1</td>\n",
              "      <td>1</td>\n",
              "      <td>1</td>\n",
              "      <td>1</td>\n",
              "    </tr>\n",
              "    <tr>\n",
              "      <th>3</th>\n",
              "      <td>441.02</td>\n",
              "      <td>2021-07-26</td>\n",
              "      <td>0</td>\n",
              "      <td>207</td>\n",
              "      <td>30</td>\n",
              "      <td>7</td>\n",
              "      <td>3</td>\n",
              "      <td>1.08</td>\n",
              "      <td>5.56</td>\n",
              "      <td>6.47</td>\n",
              "      <td>9.96</td>\n",
              "      <td>16.05</td>\n",
              "      <td>1</td>\n",
              "      <td>1</td>\n",
              "      <td>1</td>\n",
              "      <td>1</td>\n",
              "      <td>1</td>\n",
              "      <td>5</td>\n",
              "      <td>1.08</td>\n",
              "      <td>4.48</td>\n",
              "      <td>0.91</td>\n",
              "      <td>3.49</td>\n",
              "      <td>6.09</td>\n",
              "      <td>1</td>\n",
              "      <td>1</td>\n",
              "      <td>1</td>\n",
              "      <td>1</td>\n",
              "      <td>1</td>\n",
              "    </tr>\n",
              "    <tr>\n",
              "      <th>4</th>\n",
              "      <td>439.94</td>\n",
              "      <td>2021-07-23</td>\n",
              "      <td>4</td>\n",
              "      <td>204</td>\n",
              "      <td>29</td>\n",
              "      <td>7</td>\n",
              "      <td>3</td>\n",
              "      <td>4.48</td>\n",
              "      <td>5.39</td>\n",
              "      <td>8.88</td>\n",
              "      <td>14.97</td>\n",
              "      <td>8.60</td>\n",
              "      <td>1</td>\n",
              "      <td>1</td>\n",
              "      <td>1</td>\n",
              "      <td>1</td>\n",
              "      <td>1</td>\n",
              "      <td>5</td>\n",
              "      <td>4.48</td>\n",
              "      <td>0.91</td>\n",
              "      <td>3.49</td>\n",
              "      <td>6.09</td>\n",
              "      <td>-6.37</td>\n",
              "      <td>1</td>\n",
              "      <td>1</td>\n",
              "      <td>1</td>\n",
              "      <td>1</td>\n",
              "      <td>0</td>\n",
              "    </tr>\n",
              "  </tbody>\n",
              "</table>\n",
              "</div>"
            ],
            "text/plain": [
              "    Close       Date  DOW  ...  prior_day-2b  prior_day-3b  prior_day-4b\n",
              "0  440.65 2021-07-29    3  ...             0             1             1\n",
              "1  438.83 2021-07-28    2  ...             1             1             1\n",
              "2  439.01 2021-07-27    1  ...             1             1             1\n",
              "3  441.02 2021-07-26    0  ...             1             1             1\n",
              "4  439.94 2021-07-23    4  ...             1             1             0\n",
              "\n",
              "[5 rows x 28 columns]"
            ]
          },
          "metadata": {
            "tags": []
          },
          "execution_count": 691
        }
      ]
    },
    {
      "cell_type": "markdown",
      "metadata": {
        "id": "exCULdkeSyFf"
      },
      "source": [
        "#Aggregate the binary daily gain loss values\n",
        "\n",
        "This creates a true categorical value from the binary descrete values.\n",
        "\n",
        "The theory is that, having binary values for each period (sparce matrix) and an aggregate (categorical), the values will work together to increase the value of this data\n",
        "\n",
        "!Note = This process should be indluded in the loop mentioned in notes from the above process (future modifications to the data pre-processing procedures)"
      ]
    },
    {
      "cell_type": "code",
      "metadata": {
        "colab": {
          "base_uri": "https://localhost:8080/",
          "height": 326
        },
        "id": "yTrfNFhlEdjr",
        "outputId": "afa945ea-0e46-486b-94a7-195b8cbcc2be"
      },
      "source": [
        "dataset['prior_day-total_b'] = dataset['prior_day-0b'] + dataset['prior_day-1b'] + dataset['prior_day-2b'] + dataset['prior_day-3b'] + dataset['prior_day-4b'] \n",
        "dataset.head(5)"
      ],
      "execution_count": 692,
      "outputs": [
        {
          "output_type": "execute_result",
          "data": {
            "text/html": [
              "<div>\n",
              "<style scoped>\n",
              "    .dataframe tbody tr th:only-of-type {\n",
              "        vertical-align: middle;\n",
              "    }\n",
              "\n",
              "    .dataframe tbody tr th {\n",
              "        vertical-align: top;\n",
              "    }\n",
              "\n",
              "    .dataframe thead th {\n",
              "        text-align: right;\n",
              "    }\n",
              "</style>\n",
              "<table border=\"1\" class=\"dataframe\">\n",
              "  <thead>\n",
              "    <tr style=\"text-align: right;\">\n",
              "      <th></th>\n",
              "      <th>Close</th>\n",
              "      <th>Date</th>\n",
              "      <th>DOW</th>\n",
              "      <th>DOY</th>\n",
              "      <th>Week</th>\n",
              "      <th>Month</th>\n",
              "      <th>Quarter</th>\n",
              "      <th>gain_loss-0</th>\n",
              "      <th>gain_loss-1</th>\n",
              "      <th>gain_loss-2</th>\n",
              "      <th>gain_loss-3</th>\n",
              "      <th>gain_loss-4</th>\n",
              "      <th>gain_loss-0b</th>\n",
              "      <th>gain_loss-1b</th>\n",
              "      <th>gain_loss-2b</th>\n",
              "      <th>gain_loss-3b</th>\n",
              "      <th>gain_loss-4b</th>\n",
              "      <th>gain_loss-total_b</th>\n",
              "      <th>prior_day-0</th>\n",
              "      <th>prior_day-1</th>\n",
              "      <th>prior_day-2</th>\n",
              "      <th>prior_day-3</th>\n",
              "      <th>prior_day-4</th>\n",
              "      <th>prior_day-0b</th>\n",
              "      <th>prior_day-1b</th>\n",
              "      <th>prior_day-2b</th>\n",
              "      <th>prior_day-3b</th>\n",
              "      <th>prior_day-4b</th>\n",
              "      <th>prior_day-total_b</th>\n",
              "    </tr>\n",
              "  </thead>\n",
              "  <tbody>\n",
              "    <tr>\n",
              "      <th>0</th>\n",
              "      <td>440.65</td>\n",
              "      <td>2021-07-29</td>\n",
              "      <td>3</td>\n",
              "      <td>210</td>\n",
              "      <td>30</td>\n",
              "      <td>7</td>\n",
              "      <td>3</td>\n",
              "      <td>1.82</td>\n",
              "      <td>1.64</td>\n",
              "      <td>-0.37</td>\n",
              "      <td>0.71</td>\n",
              "      <td>5.19</td>\n",
              "      <td>1</td>\n",
              "      <td>1</td>\n",
              "      <td>0</td>\n",
              "      <td>1</td>\n",
              "      <td>1</td>\n",
              "      <td>4</td>\n",
              "      <td>1.82</td>\n",
              "      <td>-0.18</td>\n",
              "      <td>-2.01</td>\n",
              "      <td>1.08</td>\n",
              "      <td>4.48</td>\n",
              "      <td>1</td>\n",
              "      <td>0</td>\n",
              "      <td>0</td>\n",
              "      <td>1</td>\n",
              "      <td>1</td>\n",
              "      <td>3</td>\n",
              "    </tr>\n",
              "    <tr>\n",
              "      <th>1</th>\n",
              "      <td>438.83</td>\n",
              "      <td>2021-07-28</td>\n",
              "      <td>2</td>\n",
              "      <td>209</td>\n",
              "      <td>30</td>\n",
              "      <td>7</td>\n",
              "      <td>3</td>\n",
              "      <td>-0.18</td>\n",
              "      <td>-2.19</td>\n",
              "      <td>-1.11</td>\n",
              "      <td>3.37</td>\n",
              "      <td>4.28</td>\n",
              "      <td>0</td>\n",
              "      <td>0</td>\n",
              "      <td>0</td>\n",
              "      <td>1</td>\n",
              "      <td>1</td>\n",
              "      <td>2</td>\n",
              "      <td>-0.18</td>\n",
              "      <td>-2.01</td>\n",
              "      <td>1.08</td>\n",
              "      <td>4.48</td>\n",
              "      <td>0.91</td>\n",
              "      <td>0</td>\n",
              "      <td>0</td>\n",
              "      <td>1</td>\n",
              "      <td>1</td>\n",
              "      <td>1</td>\n",
              "      <td>3</td>\n",
              "    </tr>\n",
              "    <tr>\n",
              "      <th>2</th>\n",
              "      <td>439.01</td>\n",
              "      <td>2021-07-27</td>\n",
              "      <td>1</td>\n",
              "      <td>208</td>\n",
              "      <td>30</td>\n",
              "      <td>7</td>\n",
              "      <td>3</td>\n",
              "      <td>-2.01</td>\n",
              "      <td>-0.93</td>\n",
              "      <td>3.55</td>\n",
              "      <td>4.46</td>\n",
              "      <td>7.95</td>\n",
              "      <td>0</td>\n",
              "      <td>0</td>\n",
              "      <td>1</td>\n",
              "      <td>1</td>\n",
              "      <td>1</td>\n",
              "      <td>3</td>\n",
              "      <td>-2.01</td>\n",
              "      <td>1.08</td>\n",
              "      <td>4.48</td>\n",
              "      <td>0.91</td>\n",
              "      <td>3.49</td>\n",
              "      <td>0</td>\n",
              "      <td>1</td>\n",
              "      <td>1</td>\n",
              "      <td>1</td>\n",
              "      <td>1</td>\n",
              "      <td>4</td>\n",
              "    </tr>\n",
              "    <tr>\n",
              "      <th>3</th>\n",
              "      <td>441.02</td>\n",
              "      <td>2021-07-26</td>\n",
              "      <td>0</td>\n",
              "      <td>207</td>\n",
              "      <td>30</td>\n",
              "      <td>7</td>\n",
              "      <td>3</td>\n",
              "      <td>1.08</td>\n",
              "      <td>5.56</td>\n",
              "      <td>6.47</td>\n",
              "      <td>9.96</td>\n",
              "      <td>16.05</td>\n",
              "      <td>1</td>\n",
              "      <td>1</td>\n",
              "      <td>1</td>\n",
              "      <td>1</td>\n",
              "      <td>1</td>\n",
              "      <td>5</td>\n",
              "      <td>1.08</td>\n",
              "      <td>4.48</td>\n",
              "      <td>0.91</td>\n",
              "      <td>3.49</td>\n",
              "      <td>6.09</td>\n",
              "      <td>1</td>\n",
              "      <td>1</td>\n",
              "      <td>1</td>\n",
              "      <td>1</td>\n",
              "      <td>1</td>\n",
              "      <td>5</td>\n",
              "    </tr>\n",
              "    <tr>\n",
              "      <th>4</th>\n",
              "      <td>439.94</td>\n",
              "      <td>2021-07-23</td>\n",
              "      <td>4</td>\n",
              "      <td>204</td>\n",
              "      <td>29</td>\n",
              "      <td>7</td>\n",
              "      <td>3</td>\n",
              "      <td>4.48</td>\n",
              "      <td>5.39</td>\n",
              "      <td>8.88</td>\n",
              "      <td>14.97</td>\n",
              "      <td>8.60</td>\n",
              "      <td>1</td>\n",
              "      <td>1</td>\n",
              "      <td>1</td>\n",
              "      <td>1</td>\n",
              "      <td>1</td>\n",
              "      <td>5</td>\n",
              "      <td>4.48</td>\n",
              "      <td>0.91</td>\n",
              "      <td>3.49</td>\n",
              "      <td>6.09</td>\n",
              "      <td>-6.37</td>\n",
              "      <td>1</td>\n",
              "      <td>1</td>\n",
              "      <td>1</td>\n",
              "      <td>1</td>\n",
              "      <td>0</td>\n",
              "      <td>4</td>\n",
              "    </tr>\n",
              "  </tbody>\n",
              "</table>\n",
              "</div>"
            ],
            "text/plain": [
              "    Close       Date  DOW  ...  prior_day-3b  prior_day-4b  prior_day-total_b\n",
              "0  440.65 2021-07-29    3  ...             1             1                  3\n",
              "1  438.83 2021-07-28    2  ...             1             1                  3\n",
              "2  439.01 2021-07-27    1  ...             1             1                  4\n",
              "3  441.02 2021-07-26    0  ...             1             1                  5\n",
              "4  439.94 2021-07-23    4  ...             1             0                  4\n",
              "\n",
              "[5 rows x 29 columns]"
            ]
          },
          "metadata": {
            "tags": []
          },
          "execution_count": 692
        }
      ]
    },
    {
      "cell_type": "markdown",
      "metadata": {
        "id": "6zm1v4LebGn_"
      },
      "source": [
        "#Creating Rolling mean attribute values\n",
        "\n",
        "Rolling mean values are based on daily gain loss and represent the trending direction of the prior n mean values (5, 10, 15, n, row mean values)\n",
        "\n",
        "the rolling mean works from the top row down - for exampple the mean of row 1 and 2 would appear on row 2. We need the mean of row 1 and 2 to land on row 1. This requires us to reverse the index of each desired mean column. The process to do this creates pandas value lists\n",
        "\n",
        "!Note: this process can convert into a loop  where n = list of n mean values (as described in the description above)"
      ]
    },
    {
      "cell_type": "code",
      "metadata": {
        "id": "SQhGpsmoGNwh",
        "colab": {
          "base_uri": "https://localhost:8080/"
        },
        "outputId": "68cfff48-9e56-461e-8979-321969bb7dc9"
      },
      "source": [
        "#Rolling averages based on prior day gain loss\n",
        "rolling_prior_day = dataset['prior_day-0']\n",
        "\n",
        "rolling_prior_day_5 = rolling_prior_day[::-1].rolling(5).mean()[::-1]\n",
        "rolling_prior_day_10 = rolling_prior_day[::-1].rolling(10).mean()[::-1]\n",
        "rolling_prior_day_15 = rolling_prior_day[::-1].rolling(15).mean()[::-1]\n",
        "rolling_prior_day_20 = rolling_prior_day[::-1].rolling(20).mean()[::-1]\n",
        "rolling_prior_day_25 = rolling_prior_day[::-1].rolling(25).mean()[::-1]\n",
        "rolling_prior_day_30 = rolling_prior_day[::-1].rolling(30).mean()[::-1]\n",
        "\n",
        "print(rolling_prior_day_10)"
      ],
      "execution_count": 693,
      "outputs": [
        {
          "output_type": "stream",
          "text": [
            "0       0.590\n",
            "1       0.259\n",
            "2       0.342\n",
            "3       0.394\n",
            "4       0.442\n",
            "        ...  \n",
            "3433      NaN\n",
            "3434      NaN\n",
            "3435      NaN\n",
            "3436      NaN\n",
            "3437      NaN\n",
            "Name: prior_day-0, Length: 3438, dtype: float64\n"
          ],
          "name": "stdout"
        }
      ]
    },
    {
      "cell_type": "markdown",
      "metadata": {
        "id": "WXLJAd9yqyVD"
      },
      "source": [
        "#Remove NaN rows\n",
        "\n",
        "Need to remove the NaN rows from bottom of dataset. These will cause errors in the analysis if not removed.\n",
        "\n",
        "Due to this delete, the dataset must contain 35 additional data of history beyond what is desired. This was mentioned in the notation heading of this solution. (due to rolling means and shifts)."
      ]
    },
    {
      "cell_type": "code",
      "metadata": {
        "colab": {
          "base_uri": "https://localhost:8080/",
          "height": 626
        },
        "id": "XLtsuSVwrbfz",
        "outputId": "7c4d2a20-0325-4ffd-c008-3a879b8f4c51"
      },
      "source": [
        "#dataset.dropna(inplace = True)\n",
        "\n",
        "dataset.head(-5)"
      ],
      "execution_count": 694,
      "outputs": [
        {
          "output_type": "execute_result",
          "data": {
            "text/html": [
              "<div>\n",
              "<style scoped>\n",
              "    .dataframe tbody tr th:only-of-type {\n",
              "        vertical-align: middle;\n",
              "    }\n",
              "\n",
              "    .dataframe tbody tr th {\n",
              "        vertical-align: top;\n",
              "    }\n",
              "\n",
              "    .dataframe thead th {\n",
              "        text-align: right;\n",
              "    }\n",
              "</style>\n",
              "<table border=\"1\" class=\"dataframe\">\n",
              "  <thead>\n",
              "    <tr style=\"text-align: right;\">\n",
              "      <th></th>\n",
              "      <th>Close</th>\n",
              "      <th>Date</th>\n",
              "      <th>DOW</th>\n",
              "      <th>DOY</th>\n",
              "      <th>Week</th>\n",
              "      <th>Month</th>\n",
              "      <th>Quarter</th>\n",
              "      <th>gain_loss-0</th>\n",
              "      <th>gain_loss-1</th>\n",
              "      <th>gain_loss-2</th>\n",
              "      <th>gain_loss-3</th>\n",
              "      <th>gain_loss-4</th>\n",
              "      <th>gain_loss-0b</th>\n",
              "      <th>gain_loss-1b</th>\n",
              "      <th>gain_loss-2b</th>\n",
              "      <th>gain_loss-3b</th>\n",
              "      <th>gain_loss-4b</th>\n",
              "      <th>gain_loss-total_b</th>\n",
              "      <th>prior_day-0</th>\n",
              "      <th>prior_day-1</th>\n",
              "      <th>prior_day-2</th>\n",
              "      <th>prior_day-3</th>\n",
              "      <th>prior_day-4</th>\n",
              "      <th>prior_day-0b</th>\n",
              "      <th>prior_day-1b</th>\n",
              "      <th>prior_day-2b</th>\n",
              "      <th>prior_day-3b</th>\n",
              "      <th>prior_day-4b</th>\n",
              "      <th>prior_day-total_b</th>\n",
              "    </tr>\n",
              "  </thead>\n",
              "  <tbody>\n",
              "    <tr>\n",
              "      <th>0</th>\n",
              "      <td>440.65</td>\n",
              "      <td>2021-07-29</td>\n",
              "      <td>3</td>\n",
              "      <td>210</td>\n",
              "      <td>30</td>\n",
              "      <td>7</td>\n",
              "      <td>3</td>\n",
              "      <td>1.82</td>\n",
              "      <td>1.64</td>\n",
              "      <td>-0.37</td>\n",
              "      <td>0.71</td>\n",
              "      <td>5.19</td>\n",
              "      <td>1</td>\n",
              "      <td>1</td>\n",
              "      <td>0</td>\n",
              "      <td>1</td>\n",
              "      <td>1</td>\n",
              "      <td>4</td>\n",
              "      <td>1.82</td>\n",
              "      <td>-0.18</td>\n",
              "      <td>-2.01</td>\n",
              "      <td>1.08</td>\n",
              "      <td>4.48</td>\n",
              "      <td>1</td>\n",
              "      <td>0</td>\n",
              "      <td>0</td>\n",
              "      <td>1</td>\n",
              "      <td>1</td>\n",
              "      <td>3</td>\n",
              "    </tr>\n",
              "    <tr>\n",
              "      <th>1</th>\n",
              "      <td>438.83</td>\n",
              "      <td>2021-07-28</td>\n",
              "      <td>2</td>\n",
              "      <td>209</td>\n",
              "      <td>30</td>\n",
              "      <td>7</td>\n",
              "      <td>3</td>\n",
              "      <td>-0.18</td>\n",
              "      <td>-2.19</td>\n",
              "      <td>-1.11</td>\n",
              "      <td>3.37</td>\n",
              "      <td>4.28</td>\n",
              "      <td>0</td>\n",
              "      <td>0</td>\n",
              "      <td>0</td>\n",
              "      <td>1</td>\n",
              "      <td>1</td>\n",
              "      <td>2</td>\n",
              "      <td>-0.18</td>\n",
              "      <td>-2.01</td>\n",
              "      <td>1.08</td>\n",
              "      <td>4.48</td>\n",
              "      <td>0.91</td>\n",
              "      <td>0</td>\n",
              "      <td>0</td>\n",
              "      <td>1</td>\n",
              "      <td>1</td>\n",
              "      <td>1</td>\n",
              "      <td>3</td>\n",
              "    </tr>\n",
              "    <tr>\n",
              "      <th>2</th>\n",
              "      <td>439.01</td>\n",
              "      <td>2021-07-27</td>\n",
              "      <td>1</td>\n",
              "      <td>208</td>\n",
              "      <td>30</td>\n",
              "      <td>7</td>\n",
              "      <td>3</td>\n",
              "      <td>-2.01</td>\n",
              "      <td>-0.93</td>\n",
              "      <td>3.55</td>\n",
              "      <td>4.46</td>\n",
              "      <td>7.95</td>\n",
              "      <td>0</td>\n",
              "      <td>0</td>\n",
              "      <td>1</td>\n",
              "      <td>1</td>\n",
              "      <td>1</td>\n",
              "      <td>3</td>\n",
              "      <td>-2.01</td>\n",
              "      <td>1.08</td>\n",
              "      <td>4.48</td>\n",
              "      <td>0.91</td>\n",
              "      <td>3.49</td>\n",
              "      <td>0</td>\n",
              "      <td>1</td>\n",
              "      <td>1</td>\n",
              "      <td>1</td>\n",
              "      <td>1</td>\n",
              "      <td>4</td>\n",
              "    </tr>\n",
              "    <tr>\n",
              "      <th>3</th>\n",
              "      <td>441.02</td>\n",
              "      <td>2021-07-26</td>\n",
              "      <td>0</td>\n",
              "      <td>207</td>\n",
              "      <td>30</td>\n",
              "      <td>7</td>\n",
              "      <td>3</td>\n",
              "      <td>1.08</td>\n",
              "      <td>5.56</td>\n",
              "      <td>6.47</td>\n",
              "      <td>9.96</td>\n",
              "      <td>16.05</td>\n",
              "      <td>1</td>\n",
              "      <td>1</td>\n",
              "      <td>1</td>\n",
              "      <td>1</td>\n",
              "      <td>1</td>\n",
              "      <td>5</td>\n",
              "      <td>1.08</td>\n",
              "      <td>4.48</td>\n",
              "      <td>0.91</td>\n",
              "      <td>3.49</td>\n",
              "      <td>6.09</td>\n",
              "      <td>1</td>\n",
              "      <td>1</td>\n",
              "      <td>1</td>\n",
              "      <td>1</td>\n",
              "      <td>1</td>\n",
              "      <td>5</td>\n",
              "    </tr>\n",
              "    <tr>\n",
              "      <th>4</th>\n",
              "      <td>439.94</td>\n",
              "      <td>2021-07-23</td>\n",
              "      <td>4</td>\n",
              "      <td>204</td>\n",
              "      <td>29</td>\n",
              "      <td>7</td>\n",
              "      <td>3</td>\n",
              "      <td>4.48</td>\n",
              "      <td>5.39</td>\n",
              "      <td>8.88</td>\n",
              "      <td>14.97</td>\n",
              "      <td>8.60</td>\n",
              "      <td>1</td>\n",
              "      <td>1</td>\n",
              "      <td>1</td>\n",
              "      <td>1</td>\n",
              "      <td>1</td>\n",
              "      <td>5</td>\n",
              "      <td>4.48</td>\n",
              "      <td>0.91</td>\n",
              "      <td>3.49</td>\n",
              "      <td>6.09</td>\n",
              "      <td>-6.37</td>\n",
              "      <td>1</td>\n",
              "      <td>1</td>\n",
              "      <td>1</td>\n",
              "      <td>1</td>\n",
              "      <td>0</td>\n",
              "      <td>4</td>\n",
              "    </tr>\n",
              "    <tr>\n",
              "      <th>...</th>\n",
              "      <td>...</td>\n",
              "      <td>...</td>\n",
              "      <td>...</td>\n",
              "      <td>...</td>\n",
              "      <td>...</td>\n",
              "      <td>...</td>\n",
              "      <td>...</td>\n",
              "      <td>...</td>\n",
              "      <td>...</td>\n",
              "      <td>...</td>\n",
              "      <td>...</td>\n",
              "      <td>...</td>\n",
              "      <td>...</td>\n",
              "      <td>...</td>\n",
              "      <td>...</td>\n",
              "      <td>...</td>\n",
              "      <td>...</td>\n",
              "      <td>...</td>\n",
              "      <td>...</td>\n",
              "      <td>...</td>\n",
              "      <td>...</td>\n",
              "      <td>...</td>\n",
              "      <td>...</td>\n",
              "      <td>...</td>\n",
              "      <td>...</td>\n",
              "      <td>...</td>\n",
              "      <td>...</td>\n",
              "      <td>...</td>\n",
              "      <td>...</td>\n",
              "    </tr>\n",
              "    <tr>\n",
              "      <th>3428</th>\n",
              "      <td>147.17</td>\n",
              "      <td>2007-12-14</td>\n",
              "      <td>4</td>\n",
              "      <td>348</td>\n",
              "      <td>50</td>\n",
              "      <td>12</td>\n",
              "      <td>4</td>\n",
              "      <td>-1.89</td>\n",
              "      <td>-2.20</td>\n",
              "      <td>-0.74</td>\n",
              "      <td>-4.91</td>\n",
              "      <td>-3.74</td>\n",
              "      <td>0</td>\n",
              "      <td>0</td>\n",
              "      <td>0</td>\n",
              "      <td>0</td>\n",
              "      <td>0</td>\n",
              "      <td>0</td>\n",
              "      <td>-1.89</td>\n",
              "      <td>-0.31</td>\n",
              "      <td>1.46</td>\n",
              "      <td>-4.17</td>\n",
              "      <td>1.17</td>\n",
              "      <td>0</td>\n",
              "      <td>0</td>\n",
              "      <td>1</td>\n",
              "      <td>0</td>\n",
              "      <td>1</td>\n",
              "      <td>2</td>\n",
              "    </tr>\n",
              "    <tr>\n",
              "      <th>3429</th>\n",
              "      <td>149.06</td>\n",
              "      <td>2007-12-13</td>\n",
              "      <td>3</td>\n",
              "      <td>347</td>\n",
              "      <td>50</td>\n",
              "      <td>12</td>\n",
              "      <td>4</td>\n",
              "      <td>-0.31</td>\n",
              "      <td>1.15</td>\n",
              "      <td>-3.02</td>\n",
              "      <td>-1.85</td>\n",
              "      <td>-1.88</td>\n",
              "      <td>0</td>\n",
              "      <td>1</td>\n",
              "      <td>0</td>\n",
              "      <td>0</td>\n",
              "      <td>0</td>\n",
              "      <td>1</td>\n",
              "      <td>-0.31</td>\n",
              "      <td>1.46</td>\n",
              "      <td>-4.17</td>\n",
              "      <td>1.17</td>\n",
              "      <td>-0.03</td>\n",
              "      <td>0</td>\n",
              "      <td>1</td>\n",
              "      <td>0</td>\n",
              "      <td>1</td>\n",
              "      <td>0</td>\n",
              "      <td>2</td>\n",
              "    </tr>\n",
              "    <tr>\n",
              "      <th>3430</th>\n",
              "      <td>149.37</td>\n",
              "      <td>2007-12-12</td>\n",
              "      <td>2</td>\n",
              "      <td>346</td>\n",
              "      <td>50</td>\n",
              "      <td>12</td>\n",
              "      <td>4</td>\n",
              "      <td>1.46</td>\n",
              "      <td>-2.71</td>\n",
              "      <td>-1.54</td>\n",
              "      <td>-1.57</td>\n",
              "      <td>0.56</td>\n",
              "      <td>1</td>\n",
              "      <td>0</td>\n",
              "      <td>0</td>\n",
              "      <td>0</td>\n",
              "      <td>1</td>\n",
              "      <td>2</td>\n",
              "      <td>1.46</td>\n",
              "      <td>-4.17</td>\n",
              "      <td>1.17</td>\n",
              "      <td>-0.03</td>\n",
              "      <td>2.13</td>\n",
              "      <td>1</td>\n",
              "      <td>0</td>\n",
              "      <td>1</td>\n",
              "      <td>0</td>\n",
              "      <td>1</td>\n",
              "      <td>3</td>\n",
              "    </tr>\n",
              "    <tr>\n",
              "      <th>3431</th>\n",
              "      <td>147.91</td>\n",
              "      <td>2007-12-11</td>\n",
              "      <td>1</td>\n",
              "      <td>345</td>\n",
              "      <td>50</td>\n",
              "      <td>12</td>\n",
              "      <td>4</td>\n",
              "      <td>-4.17</td>\n",
              "      <td>-3.00</td>\n",
              "      <td>-3.03</td>\n",
              "      <td>-0.90</td>\n",
              "      <td>1.55</td>\n",
              "      <td>0</td>\n",
              "      <td>0</td>\n",
              "      <td>0</td>\n",
              "      <td>0</td>\n",
              "      <td>1</td>\n",
              "      <td>1</td>\n",
              "      <td>-4.17</td>\n",
              "      <td>1.17</td>\n",
              "      <td>-0.03</td>\n",
              "      <td>2.13</td>\n",
              "      <td>2.45</td>\n",
              "      <td>0</td>\n",
              "      <td>1</td>\n",
              "      <td>0</td>\n",
              "      <td>1</td>\n",
              "      <td>1</td>\n",
              "      <td>3</td>\n",
              "    </tr>\n",
              "    <tr>\n",
              "      <th>3432</th>\n",
              "      <td>152.08</td>\n",
              "      <td>2007-12-10</td>\n",
              "      <td>0</td>\n",
              "      <td>344</td>\n",
              "      <td>50</td>\n",
              "      <td>12</td>\n",
              "      <td>4</td>\n",
              "      <td>1.17</td>\n",
              "      <td>1.14</td>\n",
              "      <td>3.27</td>\n",
              "      <td>5.72</td>\n",
              "      <td>4.40</td>\n",
              "      <td>1</td>\n",
              "      <td>1</td>\n",
              "      <td>1</td>\n",
              "      <td>1</td>\n",
              "      <td>1</td>\n",
              "      <td>5</td>\n",
              "      <td>1.17</td>\n",
              "      <td>-0.03</td>\n",
              "      <td>2.13</td>\n",
              "      <td>2.45</td>\n",
              "      <td>-1.32</td>\n",
              "      <td>1</td>\n",
              "      <td>0</td>\n",
              "      <td>1</td>\n",
              "      <td>1</td>\n",
              "      <td>0</td>\n",
              "      <td>3</td>\n",
              "    </tr>\n",
              "  </tbody>\n",
              "</table>\n",
              "<p>3433 rows × 29 columns</p>\n",
              "</div>"
            ],
            "text/plain": [
              "       Close       Date  DOW  ...  prior_day-3b  prior_day-4b  prior_day-total_b\n",
              "0     440.65 2021-07-29    3  ...             1             1                  3\n",
              "1     438.83 2021-07-28    2  ...             1             1                  3\n",
              "2     439.01 2021-07-27    1  ...             1             1                  4\n",
              "3     441.02 2021-07-26    0  ...             1             1                  5\n",
              "4     439.94 2021-07-23    4  ...             1             0                  4\n",
              "...      ...        ...  ...  ...           ...           ...                ...\n",
              "3428  147.17 2007-12-14    4  ...             0             1                  2\n",
              "3429  149.06 2007-12-13    3  ...             1             0                  2\n",
              "3430  149.37 2007-12-12    2  ...             0             1                  3\n",
              "3431  147.91 2007-12-11    1  ...             1             1                  3\n",
              "3432  152.08 2007-12-10    0  ...             1             0                  3\n",
              "\n",
              "[3433 rows x 29 columns]"
            ]
          },
          "metadata": {
            "tags": []
          },
          "execution_count": 694
        }
      ]
    },
    {
      "cell_type": "markdown",
      "metadata": {
        "id": "Pspu--zThppK"
      },
      "source": [
        "#Create dependant variables (2 dependants)\n",
        "\n",
        "As mentioned earlier, the gain_loss-0 attribute is a dependant variable. It's binary conterpart, gain_loss-0b is also a dependant variable.\n",
        "\n",
        "the dependant variables need shifted down one row. This will adjust all of the independant variable into a position where they are trying to predict the \"day ahead\". Because the data is shifted down one day the last day must be removed.\n",
        "\n",
        "!Note: Due to the organizaiton of this dataset (train and test set being time-based) this adjustment for the dependant variables will create results for next day. \n"
      ]
    },
    {
      "cell_type": "code",
      "metadata": {
        "colab": {
          "base_uri": "https://localhost:8080/"
        },
        "id": "8kbzhhUsjptq",
        "outputId": "3c919a72-e5eb-4b57-817a-3b07c4057e62"
      },
      "source": [
        "y = pd.DataFrame(dataset['gain_loss-0']).reset_index(drop = True)\n",
        "y.loc[-1] = [0]\n",
        "y.index = y.index + 1\n",
        "y = y.sort_index()\n",
        "y.drop(y.tail(1).index, inplace = True)\n",
        "y.rename(columns={'gain_loss-0': 'y'}, inplace=True)\n",
        "y_df = pd.DataFrame(y, columns=['y'])\n",
        "\n",
        "yb = pd.DataFrame(dataset['gain_loss-0b']).reset_index(drop = True)\n",
        "yb.loc[-1] = [0]\n",
        "yb.index = yb.index + 1\n",
        "yb = yb.sort_index()\n",
        "yb.drop(yb.tail(1).index, inplace = True)\n",
        "yb.rename(columns={'gain_loss-0b': 'yb'}, inplace=True)\n",
        "yb_df = pd.DataFrame(yb, columns=['yb'])\n",
        "\n",
        "print(y)\n",
        "print(\"----------------\")\n",
        "print(yb)"
      ],
      "execution_count": 695,
      "outputs": [
        {
          "output_type": "stream",
          "text": [
            "         y\n",
            "0     0.00\n",
            "1     1.82\n",
            "2    -0.18\n",
            "3    -2.01\n",
            "4     1.08\n",
            "...    ...\n",
            "3433  1.17\n",
            "3434 -0.03\n",
            "3435  2.13\n",
            "3436  2.45\n",
            "3437 -1.32\n",
            "\n",
            "[3438 rows x 1 columns]\n",
            "----------------\n",
            "      yb\n",
            "0      0\n",
            "1      1\n",
            "2      0\n",
            "3      0\n",
            "4      1\n",
            "...   ..\n",
            "3433   1\n",
            "3434   0\n",
            "3435   1\n",
            "3436   1\n",
            "3437   0\n",
            "\n",
            "[3438 rows x 1 columns]\n"
          ],
          "name": "stdout"
        }
      ]
    },
    {
      "cell_type": "code",
      "metadata": {
        "colab": {
          "base_uri": "https://localhost:8080/"
        },
        "id": "hq-QdjpnxZwi",
        "outputId": "1c1f2845-d392-4d52-b605-8d2a74648b06"
      },
      "source": [
        "a = len(y.index)\n",
        "b = len(yb.index)\n",
        "c = len(dataset.index)\n",
        "d = len(rolling_prior_day_5.index)\n",
        "a1 = len(y_df.index)\n",
        "b1 = len(yb_df.index)\n",
        "\n",
        "print(a)\n",
        "print(b)\n",
        "print(c)\n",
        "print(d)\n",
        "print(a1)\n",
        "print(b1)"
      ],
      "execution_count": 696,
      "outputs": [
        {
          "output_type": "stream",
          "text": [
            "3438\n",
            "3438\n",
            "3438\n",
            "3438\n",
            "3438\n",
            "3438\n"
          ],
          "name": "stdout"
        }
      ]
    },
    {
      "cell_type": "markdown",
      "metadata": {
        "id": "bb-FeVxGgtux"
      },
      "source": [
        "#Create final dataset and review\n",
        "\n",
        "A concat procedure is necessary to create the final dataset.\n",
        "\n",
        "There should be a total of 37 columns"
      ]
    },
    {
      "cell_type": "code",
      "metadata": {
        "colab": {
          "base_uri": "https://localhost:8080/",
          "height": 626
        },
        "id": "QqUDH3p9EA_v",
        "outputId": "11acb019-4223-46df-c2da-46b961df6a60"
      },
      "source": [
        "dataset_final = pd.concat([dataset,\n",
        "           rolling_prior_day_5, \n",
        "           rolling_prior_day_10, \n",
        "           rolling_prior_day_15, \n",
        "           rolling_prior_day_20, \n",
        "           rolling_prior_day_25, \n",
        "           rolling_prior_day_30,\n",
        "           y_df,\n",
        "           yb_df],\n",
        "           axis = 1)\n",
        "\n",
        "dataset_final.head(-5)"
      ],
      "execution_count": 697,
      "outputs": [
        {
          "output_type": "execute_result",
          "data": {
            "text/html": [
              "<div>\n",
              "<style scoped>\n",
              "    .dataframe tbody tr th:only-of-type {\n",
              "        vertical-align: middle;\n",
              "    }\n",
              "\n",
              "    .dataframe tbody tr th {\n",
              "        vertical-align: top;\n",
              "    }\n",
              "\n",
              "    .dataframe thead th {\n",
              "        text-align: right;\n",
              "    }\n",
              "</style>\n",
              "<table border=\"1\" class=\"dataframe\">\n",
              "  <thead>\n",
              "    <tr style=\"text-align: right;\">\n",
              "      <th></th>\n",
              "      <th>Close</th>\n",
              "      <th>Date</th>\n",
              "      <th>DOW</th>\n",
              "      <th>DOY</th>\n",
              "      <th>Week</th>\n",
              "      <th>Month</th>\n",
              "      <th>Quarter</th>\n",
              "      <th>gain_loss-0</th>\n",
              "      <th>gain_loss-1</th>\n",
              "      <th>gain_loss-2</th>\n",
              "      <th>gain_loss-3</th>\n",
              "      <th>gain_loss-4</th>\n",
              "      <th>gain_loss-0b</th>\n",
              "      <th>gain_loss-1b</th>\n",
              "      <th>gain_loss-2b</th>\n",
              "      <th>gain_loss-3b</th>\n",
              "      <th>gain_loss-4b</th>\n",
              "      <th>gain_loss-total_b</th>\n",
              "      <th>prior_day-0</th>\n",
              "      <th>prior_day-1</th>\n",
              "      <th>prior_day-2</th>\n",
              "      <th>prior_day-3</th>\n",
              "      <th>prior_day-4</th>\n",
              "      <th>prior_day-0b</th>\n",
              "      <th>prior_day-1b</th>\n",
              "      <th>prior_day-2b</th>\n",
              "      <th>prior_day-3b</th>\n",
              "      <th>prior_day-4b</th>\n",
              "      <th>prior_day-total_b</th>\n",
              "      <th>prior_day-0</th>\n",
              "      <th>prior_day-0</th>\n",
              "      <th>prior_day-0</th>\n",
              "      <th>prior_day-0</th>\n",
              "      <th>prior_day-0</th>\n",
              "      <th>prior_day-0</th>\n",
              "      <th>y</th>\n",
              "      <th>yb</th>\n",
              "    </tr>\n",
              "  </thead>\n",
              "  <tbody>\n",
              "    <tr>\n",
              "      <th>0</th>\n",
              "      <td>440.65</td>\n",
              "      <td>2021-07-29</td>\n",
              "      <td>3</td>\n",
              "      <td>210</td>\n",
              "      <td>30</td>\n",
              "      <td>7</td>\n",
              "      <td>3</td>\n",
              "      <td>1.82</td>\n",
              "      <td>1.64</td>\n",
              "      <td>-0.37</td>\n",
              "      <td>0.71</td>\n",
              "      <td>5.19</td>\n",
              "      <td>1</td>\n",
              "      <td>1</td>\n",
              "      <td>0</td>\n",
              "      <td>1</td>\n",
              "      <td>1</td>\n",
              "      <td>4</td>\n",
              "      <td>1.82</td>\n",
              "      <td>-0.18</td>\n",
              "      <td>-2.01</td>\n",
              "      <td>1.08</td>\n",
              "      <td>4.48</td>\n",
              "      <td>1</td>\n",
              "      <td>0</td>\n",
              "      <td>0</td>\n",
              "      <td>1</td>\n",
              "      <td>1</td>\n",
              "      <td>3</td>\n",
              "      <td>1.038</td>\n",
              "      <td>0.590</td>\n",
              "      <td>0.648667</td>\n",
              "      <td>0.6295</td>\n",
              "      <td>0.7220</td>\n",
              "      <td>0.618000</td>\n",
              "      <td>0.00</td>\n",
              "      <td>0</td>\n",
              "    </tr>\n",
              "    <tr>\n",
              "      <th>1</th>\n",
              "      <td>438.83</td>\n",
              "      <td>2021-07-28</td>\n",
              "      <td>2</td>\n",
              "      <td>209</td>\n",
              "      <td>30</td>\n",
              "      <td>7</td>\n",
              "      <td>3</td>\n",
              "      <td>-0.18</td>\n",
              "      <td>-2.19</td>\n",
              "      <td>-1.11</td>\n",
              "      <td>3.37</td>\n",
              "      <td>4.28</td>\n",
              "      <td>0</td>\n",
              "      <td>0</td>\n",
              "      <td>0</td>\n",
              "      <td>1</td>\n",
              "      <td>1</td>\n",
              "      <td>2</td>\n",
              "      <td>-0.18</td>\n",
              "      <td>-2.01</td>\n",
              "      <td>1.08</td>\n",
              "      <td>4.48</td>\n",
              "      <td>0.91</td>\n",
              "      <td>0</td>\n",
              "      <td>0</td>\n",
              "      <td>1</td>\n",
              "      <td>1</td>\n",
              "      <td>1</td>\n",
              "      <td>3</td>\n",
              "      <td>0.856</td>\n",
              "      <td>0.259</td>\n",
              "      <td>0.291333</td>\n",
              "      <td>0.5565</td>\n",
              "      <td>0.6288</td>\n",
              "      <td>0.478333</td>\n",
              "      <td>1.82</td>\n",
              "      <td>1</td>\n",
              "    </tr>\n",
              "    <tr>\n",
              "      <th>2</th>\n",
              "      <td>439.01</td>\n",
              "      <td>2021-07-27</td>\n",
              "      <td>1</td>\n",
              "      <td>208</td>\n",
              "      <td>30</td>\n",
              "      <td>7</td>\n",
              "      <td>3</td>\n",
              "      <td>-2.01</td>\n",
              "      <td>-0.93</td>\n",
              "      <td>3.55</td>\n",
              "      <td>4.46</td>\n",
              "      <td>7.95</td>\n",
              "      <td>0</td>\n",
              "      <td>0</td>\n",
              "      <td>1</td>\n",
              "      <td>1</td>\n",
              "      <td>1</td>\n",
              "      <td>3</td>\n",
              "      <td>-2.01</td>\n",
              "      <td>1.08</td>\n",
              "      <td>4.48</td>\n",
              "      <td>0.91</td>\n",
              "      <td>3.49</td>\n",
              "      <td>0</td>\n",
              "      <td>1</td>\n",
              "      <td>1</td>\n",
              "      <td>1</td>\n",
              "      <td>1</td>\n",
              "      <td>4</td>\n",
              "      <td>1.590</td>\n",
              "      <td>0.342</td>\n",
              "      <td>0.405333</td>\n",
              "      <td>0.5770</td>\n",
              "      <td>0.7260</td>\n",
              "      <td>0.458333</td>\n",
              "      <td>-0.18</td>\n",
              "      <td>0</td>\n",
              "    </tr>\n",
              "    <tr>\n",
              "      <th>3</th>\n",
              "      <td>441.02</td>\n",
              "      <td>2021-07-26</td>\n",
              "      <td>0</td>\n",
              "      <td>207</td>\n",
              "      <td>30</td>\n",
              "      <td>7</td>\n",
              "      <td>3</td>\n",
              "      <td>1.08</td>\n",
              "      <td>5.56</td>\n",
              "      <td>6.47</td>\n",
              "      <td>9.96</td>\n",
              "      <td>16.05</td>\n",
              "      <td>1</td>\n",
              "      <td>1</td>\n",
              "      <td>1</td>\n",
              "      <td>1</td>\n",
              "      <td>1</td>\n",
              "      <td>5</td>\n",
              "      <td>1.08</td>\n",
              "      <td>4.48</td>\n",
              "      <td>0.91</td>\n",
              "      <td>3.49</td>\n",
              "      <td>6.09</td>\n",
              "      <td>1</td>\n",
              "      <td>1</td>\n",
              "      <td>1</td>\n",
              "      <td>1</td>\n",
              "      <td>1</td>\n",
              "      <td>5</td>\n",
              "      <td>3.210</td>\n",
              "      <td>0.394</td>\n",
              "      <td>0.486667</td>\n",
              "      <td>0.7205</td>\n",
              "      <td>1.0440</td>\n",
              "      <td>0.557000</td>\n",
              "      <td>-2.01</td>\n",
              "      <td>0</td>\n",
              "    </tr>\n",
              "    <tr>\n",
              "      <th>4</th>\n",
              "      <td>439.94</td>\n",
              "      <td>2021-07-23</td>\n",
              "      <td>4</td>\n",
              "      <td>204</td>\n",
              "      <td>29</td>\n",
              "      <td>7</td>\n",
              "      <td>3</td>\n",
              "      <td>4.48</td>\n",
              "      <td>5.39</td>\n",
              "      <td>8.88</td>\n",
              "      <td>14.97</td>\n",
              "      <td>8.60</td>\n",
              "      <td>1</td>\n",
              "      <td>1</td>\n",
              "      <td>1</td>\n",
              "      <td>1</td>\n",
              "      <td>1</td>\n",
              "      <td>5</td>\n",
              "      <td>4.48</td>\n",
              "      <td>0.91</td>\n",
              "      <td>3.49</td>\n",
              "      <td>6.09</td>\n",
              "      <td>-6.37</td>\n",
              "      <td>1</td>\n",
              "      <td>1</td>\n",
              "      <td>1</td>\n",
              "      <td>1</td>\n",
              "      <td>0</td>\n",
              "      <td>4</td>\n",
              "      <td>1.720</td>\n",
              "      <td>0.442</td>\n",
              "      <td>0.634000</td>\n",
              "      <td>0.7420</td>\n",
              "      <td>0.7188</td>\n",
              "      <td>0.544333</td>\n",
              "      <td>1.08</td>\n",
              "      <td>1</td>\n",
              "    </tr>\n",
              "    <tr>\n",
              "      <th>...</th>\n",
              "      <td>...</td>\n",
              "      <td>...</td>\n",
              "      <td>...</td>\n",
              "      <td>...</td>\n",
              "      <td>...</td>\n",
              "      <td>...</td>\n",
              "      <td>...</td>\n",
              "      <td>...</td>\n",
              "      <td>...</td>\n",
              "      <td>...</td>\n",
              "      <td>...</td>\n",
              "      <td>...</td>\n",
              "      <td>...</td>\n",
              "      <td>...</td>\n",
              "      <td>...</td>\n",
              "      <td>...</td>\n",
              "      <td>...</td>\n",
              "      <td>...</td>\n",
              "      <td>...</td>\n",
              "      <td>...</td>\n",
              "      <td>...</td>\n",
              "      <td>...</td>\n",
              "      <td>...</td>\n",
              "      <td>...</td>\n",
              "      <td>...</td>\n",
              "      <td>...</td>\n",
              "      <td>...</td>\n",
              "      <td>...</td>\n",
              "      <td>...</td>\n",
              "      <td>...</td>\n",
              "      <td>...</td>\n",
              "      <td>...</td>\n",
              "      <td>...</td>\n",
              "      <td>...</td>\n",
              "      <td>...</td>\n",
              "      <td>...</td>\n",
              "      <td>...</td>\n",
              "    </tr>\n",
              "    <tr>\n",
              "      <th>3428</th>\n",
              "      <td>147.17</td>\n",
              "      <td>2007-12-14</td>\n",
              "      <td>4</td>\n",
              "      <td>348</td>\n",
              "      <td>50</td>\n",
              "      <td>12</td>\n",
              "      <td>4</td>\n",
              "      <td>-1.89</td>\n",
              "      <td>-2.20</td>\n",
              "      <td>-0.74</td>\n",
              "      <td>-4.91</td>\n",
              "      <td>-3.74</td>\n",
              "      <td>0</td>\n",
              "      <td>0</td>\n",
              "      <td>0</td>\n",
              "      <td>0</td>\n",
              "      <td>0</td>\n",
              "      <td>0</td>\n",
              "      <td>-1.89</td>\n",
              "      <td>-0.31</td>\n",
              "      <td>1.46</td>\n",
              "      <td>-4.17</td>\n",
              "      <td>1.17</td>\n",
              "      <td>0</td>\n",
              "      <td>0</td>\n",
              "      <td>1</td>\n",
              "      <td>0</td>\n",
              "      <td>1</td>\n",
              "      <td>2</td>\n",
              "      <td>-0.748</td>\n",
              "      <td>NaN</td>\n",
              "      <td>NaN</td>\n",
              "      <td>NaN</td>\n",
              "      <td>NaN</td>\n",
              "      <td>NaN</td>\n",
              "      <td>-2.10</td>\n",
              "      <td>0</td>\n",
              "    </tr>\n",
              "    <tr>\n",
              "      <th>3429</th>\n",
              "      <td>149.06</td>\n",
              "      <td>2007-12-13</td>\n",
              "      <td>3</td>\n",
              "      <td>347</td>\n",
              "      <td>50</td>\n",
              "      <td>12</td>\n",
              "      <td>4</td>\n",
              "      <td>-0.31</td>\n",
              "      <td>1.15</td>\n",
              "      <td>-3.02</td>\n",
              "      <td>-1.85</td>\n",
              "      <td>-1.88</td>\n",
              "      <td>0</td>\n",
              "      <td>1</td>\n",
              "      <td>0</td>\n",
              "      <td>0</td>\n",
              "      <td>0</td>\n",
              "      <td>1</td>\n",
              "      <td>-0.31</td>\n",
              "      <td>1.46</td>\n",
              "      <td>-4.17</td>\n",
              "      <td>1.17</td>\n",
              "      <td>-0.03</td>\n",
              "      <td>0</td>\n",
              "      <td>1</td>\n",
              "      <td>0</td>\n",
              "      <td>1</td>\n",
              "      <td>0</td>\n",
              "      <td>2</td>\n",
              "      <td>-0.376</td>\n",
              "      <td>NaN</td>\n",
              "      <td>NaN</td>\n",
              "      <td>NaN</td>\n",
              "      <td>NaN</td>\n",
              "      <td>NaN</td>\n",
              "      <td>-1.89</td>\n",
              "      <td>0</td>\n",
              "    </tr>\n",
              "    <tr>\n",
              "      <th>3430</th>\n",
              "      <td>149.37</td>\n",
              "      <td>2007-12-12</td>\n",
              "      <td>2</td>\n",
              "      <td>346</td>\n",
              "      <td>50</td>\n",
              "      <td>12</td>\n",
              "      <td>4</td>\n",
              "      <td>1.46</td>\n",
              "      <td>-2.71</td>\n",
              "      <td>-1.54</td>\n",
              "      <td>-1.57</td>\n",
              "      <td>0.56</td>\n",
              "      <td>1</td>\n",
              "      <td>0</td>\n",
              "      <td>0</td>\n",
              "      <td>0</td>\n",
              "      <td>1</td>\n",
              "      <td>2</td>\n",
              "      <td>1.46</td>\n",
              "      <td>-4.17</td>\n",
              "      <td>1.17</td>\n",
              "      <td>-0.03</td>\n",
              "      <td>2.13</td>\n",
              "      <td>1</td>\n",
              "      <td>0</td>\n",
              "      <td>1</td>\n",
              "      <td>0</td>\n",
              "      <td>1</td>\n",
              "      <td>3</td>\n",
              "      <td>0.112</td>\n",
              "      <td>NaN</td>\n",
              "      <td>NaN</td>\n",
              "      <td>NaN</td>\n",
              "      <td>NaN</td>\n",
              "      <td>NaN</td>\n",
              "      <td>-0.31</td>\n",
              "      <td>0</td>\n",
              "    </tr>\n",
              "    <tr>\n",
              "      <th>3431</th>\n",
              "      <td>147.91</td>\n",
              "      <td>2007-12-11</td>\n",
              "      <td>1</td>\n",
              "      <td>345</td>\n",
              "      <td>50</td>\n",
              "      <td>12</td>\n",
              "      <td>4</td>\n",
              "      <td>-4.17</td>\n",
              "      <td>-3.00</td>\n",
              "      <td>-3.03</td>\n",
              "      <td>-0.90</td>\n",
              "      <td>1.55</td>\n",
              "      <td>0</td>\n",
              "      <td>0</td>\n",
              "      <td>0</td>\n",
              "      <td>0</td>\n",
              "      <td>1</td>\n",
              "      <td>1</td>\n",
              "      <td>-4.17</td>\n",
              "      <td>1.17</td>\n",
              "      <td>-0.03</td>\n",
              "      <td>2.13</td>\n",
              "      <td>2.45</td>\n",
              "      <td>0</td>\n",
              "      <td>1</td>\n",
              "      <td>0</td>\n",
              "      <td>1</td>\n",
              "      <td>1</td>\n",
              "      <td>3</td>\n",
              "      <td>0.310</td>\n",
              "      <td>NaN</td>\n",
              "      <td>NaN</td>\n",
              "      <td>NaN</td>\n",
              "      <td>NaN</td>\n",
              "      <td>NaN</td>\n",
              "      <td>1.46</td>\n",
              "      <td>1</td>\n",
              "    </tr>\n",
              "    <tr>\n",
              "      <th>3432</th>\n",
              "      <td>152.08</td>\n",
              "      <td>2007-12-10</td>\n",
              "      <td>0</td>\n",
              "      <td>344</td>\n",
              "      <td>50</td>\n",
              "      <td>12</td>\n",
              "      <td>4</td>\n",
              "      <td>1.17</td>\n",
              "      <td>1.14</td>\n",
              "      <td>3.27</td>\n",
              "      <td>5.72</td>\n",
              "      <td>4.40</td>\n",
              "      <td>1</td>\n",
              "      <td>1</td>\n",
              "      <td>1</td>\n",
              "      <td>1</td>\n",
              "      <td>1</td>\n",
              "      <td>5</td>\n",
              "      <td>1.17</td>\n",
              "      <td>-0.03</td>\n",
              "      <td>2.13</td>\n",
              "      <td>2.45</td>\n",
              "      <td>-1.32</td>\n",
              "      <td>1</td>\n",
              "      <td>0</td>\n",
              "      <td>1</td>\n",
              "      <td>1</td>\n",
              "      <td>0</td>\n",
              "      <td>3</td>\n",
              "      <td>0.880</td>\n",
              "      <td>NaN</td>\n",
              "      <td>NaN</td>\n",
              "      <td>NaN</td>\n",
              "      <td>NaN</td>\n",
              "      <td>NaN</td>\n",
              "      <td>-4.17</td>\n",
              "      <td>0</td>\n",
              "    </tr>\n",
              "  </tbody>\n",
              "</table>\n",
              "<p>3433 rows × 37 columns</p>\n",
              "</div>"
            ],
            "text/plain": [
              "       Close       Date  DOW  DOY  ...  prior_day-0  prior_day-0     y  yb\n",
              "0     440.65 2021-07-29    3  210  ...       0.7220     0.618000  0.00   0\n",
              "1     438.83 2021-07-28    2  209  ...       0.6288     0.478333  1.82   1\n",
              "2     439.01 2021-07-27    1  208  ...       0.7260     0.458333 -0.18   0\n",
              "3     441.02 2021-07-26    0  207  ...       1.0440     0.557000 -2.01   0\n",
              "4     439.94 2021-07-23    4  204  ...       0.7188     0.544333  1.08   1\n",
              "...      ...        ...  ...  ...  ...          ...          ...   ...  ..\n",
              "3428  147.17 2007-12-14    4  348  ...          NaN          NaN -2.10   0\n",
              "3429  149.06 2007-12-13    3  347  ...          NaN          NaN -1.89   0\n",
              "3430  149.37 2007-12-12    2  346  ...          NaN          NaN -0.31   0\n",
              "3431  147.91 2007-12-11    1  345  ...          NaN          NaN  1.46   1\n",
              "3432  152.08 2007-12-10    0  344  ...          NaN          NaN -4.17   0\n",
              "\n",
              "[3433 rows x 37 columns]"
            ]
          },
          "metadata": {
            "tags": []
          },
          "execution_count": 697
        }
      ]
    },
    {
      "cell_type": "markdown",
      "metadata": {
        "id": "R_VdPhY45MJd"
      },
      "source": [
        "#Evaluate dataset for NaN\n",
        "\n",
        "Throught the processes above there should have been some NaN values created at the tail"
      ]
    },
    {
      "cell_type": "code",
      "metadata": {
        "colab": {
          "base_uri": "https://localhost:8080/"
        },
        "id": "d6avhJTi5Wop",
        "outputId": "f7f54981-30a6-43d2-e57e-ee89f034c613"
      },
      "source": [
        "dataset_final.dropna(inplace = True)\n",
        "\n",
        "a = len(dataset.index)\n",
        "e = len(dataset_final.index)\n",
        "\n",
        "print(\"rows dropped = {}\".format(a-e))"
      ],
      "execution_count": 698,
      "outputs": [
        {
          "output_type": "stream",
          "text": [
            "rows dropped = 30\n"
          ],
          "name": "stdout"
        }
      ]
    },
    {
      "cell_type": "markdown",
      "metadata": {
        "id": "rifSXtgbhYYt"
      },
      "source": [
        "#Create dataset splitting variable (Train and Pred)\n",
        "\n",
        "Date variables based on today date are required to prevent \"hardcoding\" dates into the model\n",
        "\n",
        "The date_var variable will represent the most current date in the dataset. This allows the solution to be run for any timeframe.\n",
        "\n",
        "The following code can replace the current date_var logic in the case the current method causes issues. Note, this method requires adjustment when back testing \n",
        "\n",
        "date_var = pd.to_datetime(date.today()) "
      ]
    },
    {
      "cell_type": "code",
      "metadata": {
        "colab": {
          "base_uri": "https://localhost:8080/"
        },
        "id": "iF1y7B2r7cVv",
        "outputId": "52006484-5c4a-4b9d-eb27-a851c78239d8"
      },
      "source": [
        "date_var = dataset_final['Date'].max()\n",
        "train_begin_date = dataset_final['Date'].min()\n",
        "train_end_date = (date_var - pd.to_timedelta(90, unit='d'))\n",
        "pred_begin_date = (date_var - pd.to_timedelta(120, unit='d'))\n",
        "pred_end_date = date_var\n",
        "\n",
        "train_begin_date = train_begin_date.to_pydatetime()\n",
        "train_end_date = train_end_date.to_pydatetime()\n",
        "pred_begin_date = pred_begin_date.to_pydatetime()\n",
        "pred_end_date = pred_end_date.to_pydatetime()\n",
        "\n",
        "#train_begin_date = pd.DataFrame([train_begin_date], columns=['train_begin_date'])\n",
        "#train_end_date = pd.DataFrame([train_end_date], columns=['train_end_date'])\n",
        "#pred_begin_date = pd.DataFrame([pred_begin_date], columns=['pred_begin_date'])\n",
        "#pred_end_date = pd.DataFrame([pred_end_date], columns=['pred_end_date'])\n",
        "\n",
        "print(train_begin_date)\n",
        "print(train_end_date)\n",
        "print(pred_begin_date)\n",
        "print(pred_end_date)"
      ],
      "execution_count": 699,
      "outputs": [
        {
          "output_type": "stream",
          "text": [
            "2008-01-16 00:00:00\n",
            "2021-04-30 00:00:00\n",
            "2021-03-31 00:00:00\n",
            "2021-07-29 00:00:00\n"
          ],
          "name": "stdout"
        }
      ]
    },
    {
      "cell_type": "markdown",
      "metadata": {
        "id": "IzgziXsl-SBz"
      },
      "source": [
        "#Split between training and predict data sets\n",
        "\n",
        "The top last 90 periods (rows) will generate the pred data set.\n",
        "\n",
        "All but the top 60 periods (rows) will generate the training data set.\n",
        "\n",
        "The 30 day overlap can provide a measure of the model's degredation over time\n",
        "\n",
        "!Note - The market is closed on weekends and holidays. The count of days in each set will NOT equal the amount of days between begin and end dates."
      ]
    },
    {
      "cell_type": "code",
      "metadata": {
        "colab": {
          "base_uri": "https://localhost:8080/"
        },
        "id": "nOHf760CShq3",
        "outputId": "9a517c38-d0a1-41b5-fa39-2b73e0320044"
      },
      "source": [
        "#split text and train datasets\n",
        "predset = dataset_final[(dataset_final['Date'] >= pred_begin_date) & \n",
        "                        (dataset_final['Date'] <= pred_end_date)]\n",
        "trainset = dataset_final[(dataset_final['Date'] >= train_begin_date) & \n",
        "                         (dataset_final['Date'] <= train_end_date)]\n",
        "type(predset)"
      ],
      "execution_count": 700,
      "outputs": [
        {
          "output_type": "execute_result",
          "data": {
            "text/plain": [
              "pandas.core.frame.DataFrame"
            ]
          },
          "metadata": {
            "tags": []
          },
          "execution_count": 700
        }
      ]
    },
    {
      "cell_type": "code",
      "metadata": {
        "colab": {
          "base_uri": "https://localhost:8080/"
        },
        "id": "6mUDaR2UZR9y",
        "outputId": "6dc22e9a-4782-473b-9e54-d517ca8b0bb6"
      },
      "source": [
        "len(predset)\n"
      ],
      "execution_count": 701,
      "outputs": [
        {
          "output_type": "execute_result",
          "data": {
            "text/plain": [
              "84"
            ]
          },
          "metadata": {
            "tags": []
          },
          "execution_count": 701
        }
      ]
    },
    {
      "cell_type": "code",
      "metadata": {
        "colab": {
          "base_uri": "https://localhost:8080/"
        },
        "id": "_8sLdrKsap5o",
        "outputId": "944fac77-f135-46ca-f641-f7d3fc933bf7"
      },
      "source": [
        "len(trainset)\n"
      ],
      "execution_count": 702,
      "outputs": [
        {
          "output_type": "execute_result",
          "data": {
            "text/plain": [
              "3346"
            ]
          },
          "metadata": {
            "tags": []
          },
          "execution_count": 702
        }
      ]
    },
    {
      "cell_type": "code",
      "metadata": {
        "colab": {
          "base_uri": "https://localhost:8080/"
        },
        "id": "7o68AYF7aw0k",
        "outputId": "39b42b99-9024-470d-b6d8-1a169c654441"
      },
      "source": [
        "len(dataset)"
      ],
      "execution_count": 703,
      "outputs": [
        {
          "output_type": "execute_result",
          "data": {
            "text/plain": [
              "3438"
            ]
          },
          "metadata": {
            "tags": []
          },
          "execution_count": 703
        }
      ]
    },
    {
      "cell_type": "code",
      "metadata": {
        "colab": {
          "base_uri": "https://localhost:8080/",
          "height": 626
        },
        "id": "cTZ65w52bsBZ",
        "outputId": "8a97c286-12cd-45c6-e633-1a949a5b1073"
      },
      "source": [
        "trainset"
      ],
      "execution_count": 704,
      "outputs": [
        {
          "output_type": "execute_result",
          "data": {
            "text/html": [
              "<div>\n",
              "<style scoped>\n",
              "    .dataframe tbody tr th:only-of-type {\n",
              "        vertical-align: middle;\n",
              "    }\n",
              "\n",
              "    .dataframe tbody tr th {\n",
              "        vertical-align: top;\n",
              "    }\n",
              "\n",
              "    .dataframe thead th {\n",
              "        text-align: right;\n",
              "    }\n",
              "</style>\n",
              "<table border=\"1\" class=\"dataframe\">\n",
              "  <thead>\n",
              "    <tr style=\"text-align: right;\">\n",
              "      <th></th>\n",
              "      <th>Close</th>\n",
              "      <th>Date</th>\n",
              "      <th>DOW</th>\n",
              "      <th>DOY</th>\n",
              "      <th>Week</th>\n",
              "      <th>Month</th>\n",
              "      <th>Quarter</th>\n",
              "      <th>gain_loss-0</th>\n",
              "      <th>gain_loss-1</th>\n",
              "      <th>gain_loss-2</th>\n",
              "      <th>gain_loss-3</th>\n",
              "      <th>gain_loss-4</th>\n",
              "      <th>gain_loss-0b</th>\n",
              "      <th>gain_loss-1b</th>\n",
              "      <th>gain_loss-2b</th>\n",
              "      <th>gain_loss-3b</th>\n",
              "      <th>gain_loss-4b</th>\n",
              "      <th>gain_loss-total_b</th>\n",
              "      <th>prior_day-0</th>\n",
              "      <th>prior_day-1</th>\n",
              "      <th>prior_day-2</th>\n",
              "      <th>prior_day-3</th>\n",
              "      <th>prior_day-4</th>\n",
              "      <th>prior_day-0b</th>\n",
              "      <th>prior_day-1b</th>\n",
              "      <th>prior_day-2b</th>\n",
              "      <th>prior_day-3b</th>\n",
              "      <th>prior_day-4b</th>\n",
              "      <th>prior_day-total_b</th>\n",
              "      <th>prior_day-0</th>\n",
              "      <th>prior_day-0</th>\n",
              "      <th>prior_day-0</th>\n",
              "      <th>prior_day-0</th>\n",
              "      <th>prior_day-0</th>\n",
              "      <th>prior_day-0</th>\n",
              "      <th>y</th>\n",
              "      <th>yb</th>\n",
              "    </tr>\n",
              "  </thead>\n",
              "  <tbody>\n",
              "    <tr>\n",
              "      <th>62</th>\n",
              "      <td>417.30</td>\n",
              "      <td>2021-04-30</td>\n",
              "      <td>4</td>\n",
              "      <td>120</td>\n",
              "      <td>17</td>\n",
              "      <td>4</td>\n",
              "      <td>2</td>\n",
              "      <td>-2.76</td>\n",
              "      <td>-0.10</td>\n",
              "      <td>-0.22</td>\n",
              "      <td>-0.31</td>\n",
              "      <td>0.56</td>\n",
              "      <td>0</td>\n",
              "      <td>0</td>\n",
              "      <td>0</td>\n",
              "      <td>0</td>\n",
              "      <td>1</td>\n",
              "      <td>1</td>\n",
              "      <td>-2.76</td>\n",
              "      <td>2.66</td>\n",
              "      <td>-0.12</td>\n",
              "      <td>-0.09</td>\n",
              "      <td>0.87</td>\n",
              "      <td>0</td>\n",
              "      <td>1</td>\n",
              "      <td>0</td>\n",
              "      <td>0</td>\n",
              "      <td>1</td>\n",
              "      <td>2</td>\n",
              "      <td>0.112</td>\n",
              "      <td>0.004</td>\n",
              "      <td>0.387333</td>\n",
              "      <td>0.8345</td>\n",
              "      <td>1.1040</td>\n",
              "      <td>0.860667</td>\n",
              "      <td>0.90</td>\n",
              "      <td>1</td>\n",
              "    </tr>\n",
              "    <tr>\n",
              "      <th>63</th>\n",
              "      <td>420.06</td>\n",
              "      <td>2021-04-29</td>\n",
              "      <td>3</td>\n",
              "      <td>119</td>\n",
              "      <td>17</td>\n",
              "      <td>4</td>\n",
              "      <td>2</td>\n",
              "      <td>2.66</td>\n",
              "      <td>2.54</td>\n",
              "      <td>2.45</td>\n",
              "      <td>3.32</td>\n",
              "      <td>7.79</td>\n",
              "      <td>1</td>\n",
              "      <td>1</td>\n",
              "      <td>1</td>\n",
              "      <td>1</td>\n",
              "      <td>1</td>\n",
              "      <td>5</td>\n",
              "      <td>2.66</td>\n",
              "      <td>-0.12</td>\n",
              "      <td>-0.09</td>\n",
              "      <td>0.87</td>\n",
              "      <td>4.47</td>\n",
              "      <td>1</td>\n",
              "      <td>0</td>\n",
              "      <td>0</td>\n",
              "      <td>1</td>\n",
              "      <td>1</td>\n",
              "      <td>3</td>\n",
              "      <td>1.558</td>\n",
              "      <td>0.419</td>\n",
              "      <td>0.769333</td>\n",
              "      <td>1.1865</td>\n",
              "      <td>1.3016</td>\n",
              "      <td>0.760000</td>\n",
              "      <td>-2.76</td>\n",
              "      <td>0</td>\n",
              "    </tr>\n",
              "    <tr>\n",
              "      <th>64</th>\n",
              "      <td>417.40</td>\n",
              "      <td>2021-04-28</td>\n",
              "      <td>2</td>\n",
              "      <td>118</td>\n",
              "      <td>17</td>\n",
              "      <td>4</td>\n",
              "      <td>2</td>\n",
              "      <td>-0.12</td>\n",
              "      <td>-0.21</td>\n",
              "      <td>0.66</td>\n",
              "      <td>5.13</td>\n",
              "      <td>1.33</td>\n",
              "      <td>0</td>\n",
              "      <td>0</td>\n",
              "      <td>1</td>\n",
              "      <td>1</td>\n",
              "      <td>1</td>\n",
              "      <td>3</td>\n",
              "      <td>-0.12</td>\n",
              "      <td>-0.09</td>\n",
              "      <td>0.87</td>\n",
              "      <td>4.47</td>\n",
              "      <td>-3.80</td>\n",
              "      <td>0</td>\n",
              "      <td>0</td>\n",
              "      <td>1</td>\n",
              "      <td>1</td>\n",
              "      <td>0</td>\n",
              "      <td>2</td>\n",
              "      <td>0.266</td>\n",
              "      <td>0.595</td>\n",
              "      <td>0.720667</td>\n",
              "      <td>1.1335</td>\n",
              "      <td>1.1160</td>\n",
              "      <td>0.716333</td>\n",
              "      <td>2.66</td>\n",
              "      <td>1</td>\n",
              "    </tr>\n",
              "    <tr>\n",
              "      <th>65</th>\n",
              "      <td>417.52</td>\n",
              "      <td>2021-04-27</td>\n",
              "      <td>1</td>\n",
              "      <td>117</td>\n",
              "      <td>17</td>\n",
              "      <td>4</td>\n",
              "      <td>2</td>\n",
              "      <td>-0.09</td>\n",
              "      <td>0.78</td>\n",
              "      <td>5.25</td>\n",
              "      <td>1.45</td>\n",
              "      <td>5.35</td>\n",
              "      <td>0</td>\n",
              "      <td>1</td>\n",
              "      <td>1</td>\n",
              "      <td>1</td>\n",
              "      <td>1</td>\n",
              "      <td>4</td>\n",
              "      <td>-0.09</td>\n",
              "      <td>0.87</td>\n",
              "      <td>4.47</td>\n",
              "      <td>-3.80</td>\n",
              "      <td>3.90</td>\n",
              "      <td>0</td>\n",
              "      <td>1</td>\n",
              "      <td>1</td>\n",
              "      <td>0</td>\n",
              "      <td>1</td>\n",
              "      <td>3</td>\n",
              "      <td>1.070</td>\n",
              "      <td>0.466</td>\n",
              "      <td>0.760000</td>\n",
              "      <td>1.0870</td>\n",
              "      <td>0.9972</td>\n",
              "      <td>0.703667</td>\n",
              "      <td>-0.12</td>\n",
              "      <td>0</td>\n",
              "    </tr>\n",
              "    <tr>\n",
              "      <th>66</th>\n",
              "      <td>417.61</td>\n",
              "      <td>2021-04-26</td>\n",
              "      <td>0</td>\n",
              "      <td>116</td>\n",
              "      <td>17</td>\n",
              "      <td>4</td>\n",
              "      <td>2</td>\n",
              "      <td>0.87</td>\n",
              "      <td>5.34</td>\n",
              "      <td>1.54</td>\n",
              "      <td>5.44</td>\n",
              "      <td>2.40</td>\n",
              "      <td>1</td>\n",
              "      <td>1</td>\n",
              "      <td>1</td>\n",
              "      <td>1</td>\n",
              "      <td>1</td>\n",
              "      <td>5</td>\n",
              "      <td>0.87</td>\n",
              "      <td>4.47</td>\n",
              "      <td>-3.80</td>\n",
              "      <td>3.90</td>\n",
              "      <td>-3.04</td>\n",
              "      <td>1</td>\n",
              "      <td>1</td>\n",
              "      <td>0</td>\n",
              "      <td>1</td>\n",
              "      <td>0</td>\n",
              "      <td>3</td>\n",
              "      <td>0.480</td>\n",
              "      <td>0.597</td>\n",
              "      <td>0.750000</td>\n",
              "      <td>1.0815</td>\n",
              "      <td>1.1252</td>\n",
              "      <td>0.785000</td>\n",
              "      <td>-0.09</td>\n",
              "      <td>0</td>\n",
              "    </tr>\n",
              "    <tr>\n",
              "      <th>...</th>\n",
              "      <td>...</td>\n",
              "      <td>...</td>\n",
              "      <td>...</td>\n",
              "      <td>...</td>\n",
              "      <td>...</td>\n",
              "      <td>...</td>\n",
              "      <td>...</td>\n",
              "      <td>...</td>\n",
              "      <td>...</td>\n",
              "      <td>...</td>\n",
              "      <td>...</td>\n",
              "      <td>...</td>\n",
              "      <td>...</td>\n",
              "      <td>...</td>\n",
              "      <td>...</td>\n",
              "      <td>...</td>\n",
              "      <td>...</td>\n",
              "      <td>...</td>\n",
              "      <td>...</td>\n",
              "      <td>...</td>\n",
              "      <td>...</td>\n",
              "      <td>...</td>\n",
              "      <td>...</td>\n",
              "      <td>...</td>\n",
              "      <td>...</td>\n",
              "      <td>...</td>\n",
              "      <td>...</td>\n",
              "      <td>...</td>\n",
              "      <td>...</td>\n",
              "      <td>...</td>\n",
              "      <td>...</td>\n",
              "      <td>...</td>\n",
              "      <td>...</td>\n",
              "      <td>...</td>\n",
              "      <td>...</td>\n",
              "      <td>...</td>\n",
              "      <td>...</td>\n",
              "    </tr>\n",
              "    <tr>\n",
              "      <th>3403</th>\n",
              "      <td>133.86</td>\n",
              "      <td>2008-01-23</td>\n",
              "      <td>2</td>\n",
              "      <td>23</td>\n",
              "      <td>4</td>\n",
              "      <td>1</td>\n",
              "      <td>1</td>\n",
              "      <td>3.14</td>\n",
              "      <td>1.80</td>\n",
              "      <td>0.43</td>\n",
              "      <td>-3.12</td>\n",
              "      <td>-4.31</td>\n",
              "      <td>1</td>\n",
              "      <td>1</td>\n",
              "      <td>1</td>\n",
              "      <td>0</td>\n",
              "      <td>0</td>\n",
              "      <td>3</td>\n",
              "      <td>3.14</td>\n",
              "      <td>-1.34</td>\n",
              "      <td>-1.37</td>\n",
              "      <td>-3.55</td>\n",
              "      <td>-1.19</td>\n",
              "      <td>1</td>\n",
              "      <td>0</td>\n",
              "      <td>0</td>\n",
              "      <td>0</td>\n",
              "      <td>0</td>\n",
              "      <td>1</td>\n",
              "      <td>-0.862</td>\n",
              "      <td>-0.505</td>\n",
              "      <td>-0.823333</td>\n",
              "      <td>-0.7135</td>\n",
              "      <td>-0.5324</td>\n",
              "      <td>-0.568333</td>\n",
              "      <td>1.13</td>\n",
              "      <td>1</td>\n",
              "    </tr>\n",
              "    <tr>\n",
              "      <th>3404</th>\n",
              "      <td>130.72</td>\n",
              "      <td>2008-01-22</td>\n",
              "      <td>1</td>\n",
              "      <td>22</td>\n",
              "      <td>4</td>\n",
              "      <td>1</td>\n",
              "      <td>1</td>\n",
              "      <td>-1.34</td>\n",
              "      <td>-2.71</td>\n",
              "      <td>-6.26</td>\n",
              "      <td>-7.45</td>\n",
              "      <td>-10.56</td>\n",
              "      <td>0</td>\n",
              "      <td>0</td>\n",
              "      <td>0</td>\n",
              "      <td>0</td>\n",
              "      <td>0</td>\n",
              "      <td>0</td>\n",
              "      <td>-1.34</td>\n",
              "      <td>-1.37</td>\n",
              "      <td>-3.55</td>\n",
              "      <td>-1.19</td>\n",
              "      <td>-3.11</td>\n",
              "      <td>0</td>\n",
              "      <td>0</td>\n",
              "      <td>0</td>\n",
              "      <td>0</td>\n",
              "      <td>0</td>\n",
              "      <td>0</td>\n",
              "      <td>-2.112</td>\n",
              "      <td>-1.047</td>\n",
              "      <td>-1.105333</td>\n",
              "      <td>-0.8040</td>\n",
              "      <td>-0.7336</td>\n",
              "      <td>-0.674000</td>\n",
              "      <td>3.14</td>\n",
              "      <td>1</td>\n",
              "    </tr>\n",
              "    <tr>\n",
              "      <th>3405</th>\n",
              "      <td>132.06</td>\n",
              "      <td>2008-01-18</td>\n",
              "      <td>4</td>\n",
              "      <td>18</td>\n",
              "      <td>3</td>\n",
              "      <td>1</td>\n",
              "      <td>1</td>\n",
              "      <td>-1.37</td>\n",
              "      <td>-4.92</td>\n",
              "      <td>-6.11</td>\n",
              "      <td>-9.22</td>\n",
              "      <td>-8.09</td>\n",
              "      <td>0</td>\n",
              "      <td>0</td>\n",
              "      <td>0</td>\n",
              "      <td>0</td>\n",
              "      <td>0</td>\n",
              "      <td>0</td>\n",
              "      <td>-1.37</td>\n",
              "      <td>-3.55</td>\n",
              "      <td>-1.19</td>\n",
              "      <td>-3.11</td>\n",
              "      <td>1.13</td>\n",
              "      <td>0</td>\n",
              "      <td>0</td>\n",
              "      <td>0</td>\n",
              "      <td>0</td>\n",
              "      <td>1</td>\n",
              "      <td>1</td>\n",
              "      <td>-1.618</td>\n",
              "      <td>-0.925</td>\n",
              "      <td>-1.040667</td>\n",
              "      <td>-0.6910</td>\n",
              "      <td>-0.6924</td>\n",
              "      <td>-0.558333</td>\n",
              "      <td>-1.34</td>\n",
              "      <td>0</td>\n",
              "    </tr>\n",
              "    <tr>\n",
              "      <th>3406</th>\n",
              "      <td>133.43</td>\n",
              "      <td>2008-01-17</td>\n",
              "      <td>3</td>\n",
              "      <td>17</td>\n",
              "      <td>3</td>\n",
              "      <td>1</td>\n",
              "      <td>1</td>\n",
              "      <td>-3.55</td>\n",
              "      <td>-4.74</td>\n",
              "      <td>-7.85</td>\n",
              "      <td>-6.72</td>\n",
              "      <td>-7.86</td>\n",
              "      <td>0</td>\n",
              "      <td>0</td>\n",
              "      <td>0</td>\n",
              "      <td>0</td>\n",
              "      <td>0</td>\n",
              "      <td>0</td>\n",
              "      <td>-3.55</td>\n",
              "      <td>-1.19</td>\n",
              "      <td>-3.11</td>\n",
              "      <td>1.13</td>\n",
              "      <td>-1.14</td>\n",
              "      <td>0</td>\n",
              "      <td>0</td>\n",
              "      <td>0</td>\n",
              "      <td>1</td>\n",
              "      <td>0</td>\n",
              "      <td>1</td>\n",
              "      <td>-1.572</td>\n",
              "      <td>-1.143</td>\n",
              "      <td>-1.074667</td>\n",
              "      <td>-0.6225</td>\n",
              "      <td>-0.5792</td>\n",
              "      <td>-0.431000</td>\n",
              "      <td>-1.37</td>\n",
              "      <td>0</td>\n",
              "    </tr>\n",
              "    <tr>\n",
              "      <th>3407</th>\n",
              "      <td>136.98</td>\n",
              "      <td>2008-01-16</td>\n",
              "      <td>2</td>\n",
              "      <td>16</td>\n",
              "      <td>3</td>\n",
              "      <td>1</td>\n",
              "      <td>1</td>\n",
              "      <td>-1.19</td>\n",
              "      <td>-4.30</td>\n",
              "      <td>-3.17</td>\n",
              "      <td>-4.31</td>\n",
              "      <td>-3.39</td>\n",
              "      <td>0</td>\n",
              "      <td>0</td>\n",
              "      <td>0</td>\n",
              "      <td>0</td>\n",
              "      <td>0</td>\n",
              "      <td>0</td>\n",
              "      <td>-1.19</td>\n",
              "      <td>-3.11</td>\n",
              "      <td>1.13</td>\n",
              "      <td>-1.14</td>\n",
              "      <td>0.92</td>\n",
              "      <td>0</td>\n",
              "      <td>0</td>\n",
              "      <td>1</td>\n",
              "      <td>0</td>\n",
              "      <td>1</td>\n",
              "      <td>2</td>\n",
              "      <td>-0.678</td>\n",
              "      <td>-0.795</td>\n",
              "      <td>-0.816667</td>\n",
              "      <td>-0.4045</td>\n",
              "      <td>-0.6040</td>\n",
              "      <td>-0.356667</td>\n",
              "      <td>-3.55</td>\n",
              "      <td>0</td>\n",
              "    </tr>\n",
              "  </tbody>\n",
              "</table>\n",
              "<p>3346 rows × 37 columns</p>\n",
              "</div>"
            ],
            "text/plain": [
              "       Close       Date  DOW  DOY  ...  prior_day-0  prior_day-0     y  yb\n",
              "62    417.30 2021-04-30    4  120  ...       1.1040     0.860667  0.90   1\n",
              "63    420.06 2021-04-29    3  119  ...       1.3016     0.760000 -2.76   0\n",
              "64    417.40 2021-04-28    2  118  ...       1.1160     0.716333  2.66   1\n",
              "65    417.52 2021-04-27    1  117  ...       0.9972     0.703667 -0.12   0\n",
              "66    417.61 2021-04-26    0  116  ...       1.1252     0.785000 -0.09   0\n",
              "...      ...        ...  ...  ...  ...          ...          ...   ...  ..\n",
              "3403  133.86 2008-01-23    2   23  ...      -0.5324    -0.568333  1.13   1\n",
              "3404  130.72 2008-01-22    1   22  ...      -0.7336    -0.674000  3.14   1\n",
              "3405  132.06 2008-01-18    4   18  ...      -0.6924    -0.558333 -1.34   0\n",
              "3406  133.43 2008-01-17    3   17  ...      -0.5792    -0.431000 -1.37   0\n",
              "3407  136.98 2008-01-16    2   16  ...      -0.6040    -0.356667 -3.55   0\n",
              "\n",
              "[3346 rows x 37 columns]"
            ]
          },
          "metadata": {
            "tags": []
          },
          "execution_count": 704
        }
      ]
    },
    {
      "cell_type": "markdown",
      "metadata": {
        "id": "50h5EJr9_DZW"
      },
      "source": [
        "#Convert dataset into X and y and refine column membership\n",
        "\n",
        "This process separates the dependant and independant variables\n",
        "\n",
        "X should not contain the y or yb attributes\n",
        "\n",
        "for X, \"Date\" should be removed since it is a time-series value; date attributes will represent time\n",
        "\n",
        "for X, \"Close\" should be removed due to its relationship to the indepenant variable\n",
        "\n",
        "Two models will come out of this model, one for continuous variable y and binary value yb"
      ]
    },
    {
      "cell_type": "code",
      "metadata": {
        "colab": {
          "base_uri": "https://localhost:8080/"
        },
        "id": "Z0cZJQK3ILwd",
        "outputId": "2c12da5d-cba4-4217-a7cb-96be85b06ba9"
      },
      "source": [
        "X = trainset\n",
        "X.drop(X.tail(31).index, inplace = True)\n",
        "X = X.drop(['y','yb', 'Date', 'Close'], axis = 1).values\n",
        "y = trainset['y'].values\n",
        "yb = trainset['yb'].values\n",
        "print(X)\n",
        "print(\"-------------------------\")\n",
        "print(y)\n",
        "print(\"-------------------------\")\n",
        "print(yb)"
      ],
      "execution_count": 705,
      "outputs": [
        {
          "output_type": "stream",
          "text": [
            "[[ 4.00000000e+00  1.20000000e+02  1.70000000e+01 ...  8.34500000e-01\n",
            "   1.10400000e+00  8.60666667e-01]\n",
            " [ 3.00000000e+00  1.19000000e+02  1.70000000e+01 ...  1.18650000e+00\n",
            "   1.30160000e+00  7.60000000e-01]\n",
            " [ 2.00000000e+00  1.18000000e+02  1.70000000e+01 ...  1.13350000e+00\n",
            "   1.11600000e+00  7.16333333e-01]\n",
            " ...\n",
            " [ 2.00000000e+00  6.50000000e+01  1.00000000e+01 ... -1.50000000e-02\n",
            "  -8.32000000e-02  1.03666667e-01]\n",
            " [ 1.00000000e+00  6.40000000e+01  1.00000000e+01 ... -2.41500000e-01\n",
            "  -9.00000000e-02  3.10000000e-02]\n",
            " [ 0.00000000e+00  6.30000000e+01  1.00000000e+01 ... -3.04000000e-01\n",
            "   1.84000000e-02  2.33333333e-03]]\n",
            "-------------------------\n",
            "[ 0.9  -2.76  2.66 ... -2.77  0.84 -0.51]\n",
            "-------------------------\n",
            "[1 0 1 ... 0 1 0]\n"
          ],
          "name": "stdout"
        },
        {
          "output_type": "stream",
          "text": [
            "/usr/local/lib/python3.7/dist-packages/pandas/core/frame.py:4174: SettingWithCopyWarning: \n",
            "A value is trying to be set on a copy of a slice from a DataFrame\n",
            "\n",
            "See the caveats in the documentation: https://pandas.pydata.org/pandas-docs/stable/user_guide/indexing.html#returning-a-view-versus-a-copy\n",
            "  errors=errors,\n"
          ],
          "name": "stderr"
        }
      ]
    },
    {
      "cell_type": "code",
      "metadata": {
        "colab": {
          "base_uri": "https://localhost:8080/"
        },
        "id": "wQNhBiAEN_fx",
        "outputId": "dcb00f2b-7edb-446d-a4c4-2dada46e4da7"
      },
      "source": [
        "#Validation of row counts\n",
        "\n",
        "f = len(X)\n",
        "g = len(y)\n",
        "h = len(yb)\n",
        "\n",
        "print(f, g, h)"
      ],
      "execution_count": 706,
      "outputs": [
        {
          "output_type": "stream",
          "text": [
            "3315 3315 3315\n"
          ],
          "name": "stdout"
        }
      ]
    },
    {
      "cell_type": "markdown",
      "metadata": {
        "id": "BgGLmBg2CCjH"
      },
      "source": [
        "#Train the models\n",
        "\n",
        "The model can be extended to use any regression or classificaiton model.\n",
        "\n",
        "Current model inventory:\n",
        "\n",
        "1) Random Forest"
      ]
    },
    {
      "cell_type": "code",
      "metadata": {
        "colab": {
          "base_uri": "https://localhost:8080/"
        },
        "id": "w4xd8XMCH3M2",
        "outputId": "1e7d1453-e1bb-4661-e6a6-a846d35de004"
      },
      "source": [
        "from sklearn.ensemble import RandomForestRegressor\n",
        "\n",
        "regressor = RandomForestRegressor(n_estimators = 100, random_state = 0)\n",
        "\n",
        "regressor.fit(X, y)\n",
        "\n",
        "regressor_b = RandomForestRegressor(n_estimators = 100, random_state = 0)\n",
        "\n",
        "regressor_b.fit(X, yb)\n"
      ],
      "execution_count": 707,
      "outputs": [
        {
          "output_type": "execute_result",
          "data": {
            "text/plain": [
              "RandomForestRegressor(bootstrap=True, ccp_alpha=0.0, criterion='mse',\n",
              "                      max_depth=None, max_features='auto', max_leaf_nodes=None,\n",
              "                      max_samples=None, min_impurity_decrease=0.0,\n",
              "                      min_impurity_split=None, min_samples_leaf=1,\n",
              "                      min_samples_split=2, min_weight_fraction_leaf=0.0,\n",
              "                      n_estimators=100, n_jobs=None, oob_score=False,\n",
              "                      random_state=0, verbose=0, warm_start=False)"
            ]
          },
          "metadata": {
            "tags": []
          },
          "execution_count": 707
        }
      ]
    },
    {
      "cell_type": "markdown",
      "metadata": {
        "id": "lMP2XIlOCUTS"
      },
      "source": [
        "#Create predict dataset\n",
        "\n",
        "The predict dataset should match the process used to generate the training dataset"
      ]
    },
    {
      "cell_type": "code",
      "metadata": {
        "colab": {
          "base_uri": "https://localhost:8080/"
        },
        "id": "G0BNR3t8Um8v",
        "outputId": "c6a9f6e5-9fd2-4435-f706-c53b4441106c"
      },
      "source": [
        "#Prepare predict set\n",
        "Xpred = predset\n",
        "Xpred = Xpred.drop(['y','yb', 'Date', 'Close'], axis = 1).values\n",
        "y_actual = predset['y'].values\n",
        "yb_actual = predset['yb'].values\n",
        "print(Xpred)\n",
        "print(\"-------------------------\")\n",
        "print(y_actual)\n",
        "print(\"-------------------------\")\n",
        "print(yb_actual)"
      ],
      "execution_count": 708,
      "outputs": [
        {
          "output_type": "stream",
          "text": [
            "[[3.00000000e+00 2.10000000e+02 3.00000000e+01 ... 6.29500000e-01\n",
            "  7.22000000e-01 6.18000000e-01]\n",
            " [2.00000000e+00 2.09000000e+02 3.00000000e+01 ... 5.56500000e-01\n",
            "  6.28800000e-01 4.78333333e-01]\n",
            " [1.00000000e+00 2.08000000e+02 3.00000000e+01 ... 5.77000000e-01\n",
            "  7.26000000e-01 4.58333333e-01]\n",
            " ...\n",
            " [0.00000000e+00 9.50000000e+01 1.40000000e+01 ... 1.13650000e+00\n",
            "  1.04000000e+00 5.44333333e-01]\n",
            " [3.00000000e+00 9.10000000e+01 1.30000000e+01 ... 1.19550000e+00\n",
            "  7.31200000e-01 3.29666667e-01]\n",
            " [2.00000000e+00 9.00000000e+01 1.30000000e+01 ... 7.45500000e-01\n",
            "  1.82400000e-01 1.31333333e-01]]\n",
            "-------------------------\n",
            "[ 0.    1.82 -0.18 -2.01  1.08  4.48  0.91  3.49  6.09 -6.37 -3.41 -1.49\n",
            "  0.65 -1.49  1.56  4.6  -3.54  1.53 -0.79  3.29  2.37  0.36  0.23  0.86\n",
            "  1.51  2.5  -0.51  2.25  5.94 -7.05 -0.14 -2.37 -0.78  0.95  0.7   1.96\n",
            " -0.63  0.09 -0.41  3.83 -1.56  0.66 -0.37  0.75  0.22  0.83 -0.93  4.23\n",
            " -0.34  4.42 -1.08 -3.58 -1.06  6.3   4.87 -8.8  -3.73 -4.18  3.05  3.32\n",
            "  0.13 -2.58  0.9  -2.76  2.66 -0.12 -0.09  0.87  4.47 -3.8   3.9  -3.04\n",
            " -2.05  1.39  4.42 -1.41  1.22  0.15  2.97  1.93  0.47 -0.24  5.75  4.28]\n",
            "-------------------------\n",
            "[0 1 0 0 1 1 1 1 1 0 0 0 1 0 1 1 0 1 0 1 1 1 1 1 1 1 0 1 1 0 0 0 0 1 1 1 0\n",
            " 1 0 1 0 1 0 1 1 1 0 1 0 1 0 0 0 1 1 0 0 0 1 1 1 0 1 0 1 0 0 1 1 0 1 0 0 1\n",
            " 1 0 1 1 1 1 1 0 1 1]\n"
          ],
          "name": "stdout"
        }
      ]
    },
    {
      "cell_type": "code",
      "metadata": {
        "colab": {
          "base_uri": "https://localhost:8080/"
        },
        "id": "j2GHt6_yClWW",
        "outputId": "6431d0d9-6c43-4bb6-ef4c-9c526c735749"
      },
      "source": [
        "i = len(Xpred)\n",
        "j = len(y_actual)\n",
        "k = len(yb_actual)\n",
        "\n",
        "print(i, j, k)"
      ],
      "execution_count": 709,
      "outputs": [
        {
          "output_type": "stream",
          "text": [
            "84 84 84\n"
          ],
          "name": "stdout"
        }
      ]
    },
    {
      "cell_type": "markdown",
      "metadata": {
        "id": "agrPLswhEQYf"
      },
      "source": [
        "#Generate predictions\n",
        "\n",
        "Predictions are made for both continuous and binary"
      ]
    },
    {
      "cell_type": "code",
      "metadata": {
        "colab": {
          "base_uri": "https://localhost:8080/"
        },
        "id": "sJYXf1mKU9t2",
        "outputId": "2c263306-7502-49d0-91ef-a12d28814e0b"
      },
      "source": [
        "y_pred = regressor.predict(Xpred)\n",
        "\n",
        "yb_pred = regressor_b.predict(Xpred)\n",
        "\n",
        "np_array = np.concatenate((y_pred.reshape(len(y_pred),1), \n",
        "                           yb_pred.reshape(len(y_pred),1),\n",
        "                           y_actual.reshape(len(y_actual),1),\n",
        "                           yb_actual.reshape(len(yb_actual),1),\n",
        "                           ), axis = 1)\n",
        "\n",
        "results = pd.DataFrame(np_array, columns = ['y_pred', 'yb_pred', 'y_actual', 'yb_actual'])\n",
        "\n",
        "print(results)\n"
      ],
      "execution_count": 763,
      "outputs": [
        {
          "output_type": "stream",
          "text": [
            "      y_pred  yb_pred  y_actual  yb_actual\n",
            "0  -0.969824     0.59      0.00        0.0\n",
            "1   0.899154     0.56      1.82        1.0\n",
            "2   0.464892     0.72     -0.18        0.0\n",
            "3   0.795992     0.59     -2.01        0.0\n",
            "4  -0.181100     0.56      1.08        1.0\n",
            "..       ...      ...       ...        ...\n",
            "79  1.472700     0.85      1.93        1.0\n",
            "80  0.454100     0.81      0.47        1.0\n",
            "81 -0.373200     0.12     -0.24        0.0\n",
            "82  3.194900     0.85      5.75        1.0\n",
            "83  2.366782     0.79      4.28        1.0\n",
            "\n",
            "[84 rows x 4 columns]\n"
          ],
          "name": "stdout"
        }
      ]
    },
    {
      "cell_type": "markdown",
      "metadata": {
        "id": "o-3X7j0LFdm3"
      },
      "source": [
        "#Create buy/sell indicator based on pred\n",
        "\n",
        "1 = Buy next day\n",
        "\n",
        "0 = Sell next day"
      ]
    },
    {
      "cell_type": "code",
      "metadata": {
        "colab": {
          "base_uri": "https://localhost:8080/"
        },
        "id": "UGmNBoUvD3ee",
        "outputId": "440083b1-4dc4-41cf-cac4-bf8108dc898e"
      },
      "source": [
        "results['y_pred_arg'] = np.where(results['y_pred'] > 0, 1, 0)\n",
        "results['yb_pred_arg'] = np.where(results['yb_pred'] > 0.5, 1, 0)\n",
        "results['y_actual_arg'] = np.where(results['y_actual'] > 0, 1, 0)\n",
        "results['yb_acutal_arg'] = np.where(results['yb_actual'] > 0, 1, 0)\n",
        "\n",
        "print(results)\n"
      ],
      "execution_count": 764,
      "outputs": [
        {
          "output_type": "stream",
          "text": [
            "      y_pred  yb_pred  y_actual  ...  yb_pred_arg  y_actual_arg  yb_acutal_arg\n",
            "0  -0.969824     0.59      0.00  ...            1             0              0\n",
            "1   0.899154     0.56      1.82  ...            1             1              1\n",
            "2   0.464892     0.72     -0.18  ...            1             0              0\n",
            "3   0.795992     0.59     -2.01  ...            1             0              0\n",
            "4  -0.181100     0.56      1.08  ...            1             1              1\n",
            "..       ...      ...       ...  ...          ...           ...            ...\n",
            "79  1.472700     0.85      1.93  ...            1             1              1\n",
            "80  0.454100     0.81      0.47  ...            1             1              1\n",
            "81 -0.373200     0.12     -0.24  ...            0             0              0\n",
            "82  3.194900     0.85      5.75  ...            1             1              1\n",
            "83  2.366782     0.79      4.28  ...            1             1              1\n",
            "\n",
            "[84 rows x 8 columns]\n"
          ],
          "name": "stdout"
        }
      ]
    },
    {
      "cell_type": "markdown",
      "metadata": {
        "id": "pqw05ZTyYTRO"
      },
      "source": [
        "#Add in 'short' ticker for same period\n",
        "\n",
        "A short ticker is one that behavies opposite of the selected ticker in this evaluation.\n",
        "\n",
        "The concept of having a short ticker is to trade \"into\" it when trading \"out\" of the primary ticker\n",
        "\n",
        "Note! - This section is not broke out; use hashtag notes as a reference"
      ]
    },
    {
      "cell_type": "code",
      "metadata": {
        "colab": {
          "base_uri": "https://localhost:8080/"
        },
        "id": "APozGwvawERQ",
        "outputId": "4ee747af-c8e4-4d7a-9f17-bb3b26bcf1de"
      },
      "source": [
        "type(pred_short)"
      ],
      "execution_count": 765,
      "outputs": [
        {
          "output_type": "execute_result",
          "data": {
            "text/plain": [
              "pandas.core.frame.DataFrame"
            ]
          },
          "metadata": {
            "tags": []
          },
          "execution_count": 765
        }
      ]
    },
    {
      "cell_type": "code",
      "metadata": {
        "colab": {
          "base_uri": "https://localhost:8080/"
        },
        "id": "ZfuqoqhppYlx",
        "outputId": "b01fafd0-5529-4e08-a024-1efda738b069"
      },
      "source": [
        "#import dataset\n",
        "dataset_short = pd.read_csv('/content/drive/MyDrive/Colab Notebooks/HistoricalPricesHIBS.csv')\n",
        "#rename values with leading white spaces\n",
        "dataset_short.rename({' Close': 'Close'}, axis=1, inplace = True)\n",
        "#create gain loss value for short\n",
        "dataset_short['gain_loss_short-0'] = dataset_short['Close'].diff(-1)\n",
        "#select out values needed for model\n",
        "dataset_short = dataset_short[['Close', 'Date', 'gain_loss_short-0']]\n",
        "#convert date to datetype\n",
        "dataset_short['Date'] = pd.to_datetime(dataset_short['Date'])\n",
        "#select out mating dates to pred dataset\n",
        "pred_short = dataset_short[(dataset_short['Date'] >= pred_begin_date) & \n",
        "                         (dataset_short['Date'] <= pred_end_date)]\n",
        "#move rows down by one\n",
        "y_short = pd.DataFrame(pred_short['gain_loss_short-0']).reset_index(drop = True)\n",
        "y_short.loc[-1] = [0]\n",
        "y_short.index = y_short.index + 1\n",
        "y_short = y_short.sort_index()\n",
        "y_short.drop(y_short.tail(1).index, inplace = True)\n",
        "y_short.rename(columns={'gain_loss_short-0': 'y_short'}, inplace=True)\n",
        "y_short_df = pd.DataFrame(y_short, columns=['y_short'])\n",
        "#add short to results\n",
        "results = pd.concat([results,\n",
        "                    y_short_df],\n",
        "                    axis = 1)\n",
        "#verfity y_short and y_actual are both 0 at row 0\n",
        "print(results)"
      ],
      "execution_count": 766,
      "outputs": [
        {
          "output_type": "stream",
          "text": [
            "      y_pred  yb_pred  y_actual  ...  y_actual_arg  yb_acutal_arg  y_short\n",
            "0  -0.969824     0.59      0.00  ...             0              0     0.00\n",
            "1   0.899154     0.56      1.82  ...             1              1    -0.38\n",
            "2   0.464892     0.72     -0.18  ...             0              0    -0.32\n",
            "3   0.795992     0.59     -2.01  ...             0              0     0.43\n",
            "4  -0.181100     0.56      1.08  ...             1              1    -0.58\n",
            "..       ...      ...       ...  ...           ...            ...      ...\n",
            "79  1.472700     0.85      1.93  ...             1              1     0.09\n",
            "80  0.454100     0.81      0.47  ...             1              1    -0.02\n",
            "81 -0.373200     0.12     -0.24  ...             0              0    -0.04\n",
            "82  3.194900     0.85      5.75  ...             1              1    -0.14\n",
            "83  2.366782     0.79      4.28  ...             1              1    -0.86\n",
            "\n",
            "[84 rows x 9 columns]\n"
          ],
          "name": "stdout"
        }
      ]
    },
    {
      "cell_type": "code",
      "metadata": {
        "colab": {
          "base_uri": "https://localhost:8080/"
        },
        "id": "jKAzSnKvr7Tx",
        "outputId": "0e5be8ca-b44a-4318-fbc1-f94ec84c67cc"
      },
      "source": [
        "type(results)"
      ],
      "execution_count": 741,
      "outputs": [
        {
          "output_type": "execute_result",
          "data": {
            "text/plain": [
              "pandas.core.frame.DataFrame"
            ]
          },
          "metadata": {
            "tags": []
          },
          "execution_count": 741
        }
      ]
    },
    {
      "cell_type": "markdown",
      "metadata": {
        "id": "BnXmpVbUKsKD"
      },
      "source": [
        "#Model Performance\n",
        "\n",
        "To account accurately the top row of the \"results\" dataset must be removed\n",
        "\n",
        "Model performanced is based on the buy-sell relationship between the \"..._arg\" columns\n",
        "\n",
        "Each model is measured as well as a various combination of the models."
      ]
    },
    {
      "cell_type": "code",
      "metadata": {
        "id": "x1sxZIZRJrCl"
      },
      "source": [
        "results['y_buy'] = np.where(results['y_pred_arg'] >= 1, results['y_actual'], results['y_short'])\n",
        "results['yb_buy'] = np.where(results['yb_pred_arg'] >= 1, results['y_actual'], results['y_short'])\n",
        "results['yoryb_buy'] = np.where((results['y_pred_arg'] + results['yb_pred_arg']) >= 1, results['y_actual'], results['y_short'])\n",
        "results['yandyb_buy'] = np.where((results['y_pred_arg'] + results['yb_pred_arg']) >= 2, results['y_actual'], results['y_short'])\n"
      ],
      "execution_count": 767,
      "outputs": []
    },
    {
      "cell_type": "markdown",
      "metadata": {
        "id": "5teAplemSXTI"
      },
      "source": [
        "The following section should be turned into a loop"
      ]
    },
    {
      "cell_type": "code",
      "metadata": {
        "colab": {
          "base_uri": "https://localhost:8080/"
        },
        "id": "vdgmrVfZNHlO",
        "outputId": "fd1fec43-bb16-46bf-d9bf-b956701e9509"
      },
      "source": [
        "performance_all = results\n",
        "performance_all = performance_all[1:] #Remove top row since we do not have actual value\n",
        "performance_all = performance_all.sum(axis = 0)\n",
        "print(performance_all)"
      ],
      "execution_count": 769,
      "outputs": [
        {
          "output_type": "stream",
          "text": [
            "y_pred           14.637012\n",
            "yb_pred          46.980000\n",
            "y_actual         44.320000\n",
            "yb_actual        49.000000\n",
            "y_pred_arg       54.000000\n",
            "yb_pred_arg      56.000000\n",
            "y_actual_arg     49.000000\n",
            "yb_acutal_arg    49.000000\n",
            "y_short          -3.870000\n",
            "y_buy            38.020000\n",
            "yb_buy           64.020000\n",
            "yoryb_buy        66.180000\n",
            "yandyb_buy       35.860000\n",
            "dtype: float64\n"
          ],
          "name": "stdout"
        }
      ]
    },
    {
      "cell_type": "code",
      "metadata": {
        "colab": {
          "base_uri": "https://localhost:8080/"
        },
        "id": "ZyAs4dBWO1jH",
        "outputId": "61175cc2-cec1-44f0-a123-d2c2807c4688"
      },
      "source": [
        "performance_30 = results.head(31)\n",
        "performance_30 = performance_30[1:] #Remove top row since we do not have actual value\n",
        "performance_30 = performance_30.sum(axis = 0)\n",
        "print(performance_30)"
      ],
      "execution_count": 770,
      "outputs": [
        {
          "output_type": "stream",
          "text": [
            "y_pred           -4.370251\n",
            "yb_pred          16.020000\n",
            "y_actual         18.540000\n",
            "yb_actual        19.000000\n",
            "y_pred_arg       16.000000\n",
            "yb_pred_arg      20.000000\n",
            "y_actual_arg     19.000000\n",
            "yb_acutal_arg    19.000000\n",
            "y_short           0.630000\n",
            "y_buy             4.460000\n",
            "yb_buy           24.590000\n",
            "yoryb_buy        23.040000\n",
            "yandyb_buy        6.010000\n",
            "dtype: float64\n"
          ],
          "name": "stdout"
        }
      ]
    },
    {
      "cell_type": "code",
      "metadata": {
        "colab": {
          "base_uri": "https://localhost:8080/"
        },
        "id": "0RtKpD35Qe6L",
        "outputId": "89f8ddc3-b3d2-4b0a-ef79-e7e5252ef979"
      },
      "source": [
        "performance_60 = results.head(61)\n",
        "performance_60 = performance_60[1:] #Remove top row since we do not have actual value\n",
        "performance_60 = performance_60.sum(axis = 0)\n",
        "print(performance_60)"
      ],
      "execution_count": 771,
      "outputs": [
        {
          "output_type": "stream",
          "text": [
            "y_pred           -0.954542\n",
            "yb_pred          33.200000\n",
            "y_actual         25.030000\n",
            "yb_actual        35.000000\n",
            "y_pred_arg       38.000000\n",
            "yb_pred_arg      41.000000\n",
            "y_actual_arg     35.000000\n",
            "yb_acutal_arg    35.000000\n",
            "y_short          -1.240000\n",
            "y_buy             3.760000\n",
            "yb_buy           30.220000\n",
            "yoryb_buy        31.800000\n",
            "yandyb_buy        2.180000\n",
            "dtype: float64\n"
          ],
          "name": "stdout"
        }
      ]
    },
    {
      "cell_type": "code",
      "metadata": {
        "colab": {
          "base_uri": "https://localhost:8080/"
        },
        "id": "anaaRxMQR6SG",
        "outputId": "0e05ec26-eb91-4725-9276-d12c031350b7"
      },
      "source": [
        "performance_15 = results.head(16)\n",
        "performance_15 = performance_15[1:] #Remove top row since we do not have actual value\n",
        "performance_15 = performance_15.sum(axis = 0)\n",
        "print(performance_15)"
      ],
      "execution_count": 772,
      "outputs": [
        {
          "output_type": "stream",
          "text": [
            "y_pred           -2.912119\n",
            "yb_pred           8.280000\n",
            "y_actual          9.730000\n",
            "yb_actual         9.000000\n",
            "y_pred_arg        8.000000\n",
            "yb_pred_arg      11.000000\n",
            "y_actual_arg      9.000000\n",
            "yb_acutal_arg     9.000000\n",
            "y_short          -0.900000\n",
            "y_buy             7.900000\n",
            "yb_buy           19.070000\n",
            "yoryb_buy        19.070000\n",
            "yandyb_buy        7.900000\n",
            "dtype: float64\n"
          ],
          "name": "stdout"
        }
      ]
    },
    {
      "cell_type": "code",
      "metadata": {
        "colab": {
          "base_uri": "https://localhost:8080/"
        },
        "id": "d9sQut9GR6dU",
        "outputId": "e32d784e-0e09-4a14-8c6a-d559af0426d0"
      },
      "source": [
        "performance_45 = results.head(46)\n",
        "performance_45 = performance_45[1:] #Remove top row since we do not have actual value\n",
        "performance_45 = performance_45.sum(axis = 0)\n",
        "print(performance_45)"
      ],
      "execution_count": 773,
      "outputs": [
        {
          "output_type": "stream",
          "text": [
            "y_pred           -0.769382\n",
            "yb_pred          24.570000\n",
            "y_actual         22.410000\n",
            "yb_actual        28.000000\n",
            "y_pred_arg       30.000000\n",
            "yb_pred_arg      31.000000\n",
            "y_actual_arg     28.000000\n",
            "yb_acutal_arg    28.000000\n",
            "y_short          -0.190000\n",
            "y_buy             8.080000\n",
            "yb_buy           25.330000\n",
            "yoryb_buy        26.910000\n",
            "yandyb_buy        6.500000\n",
            "dtype: float64\n"
          ],
          "name": "stdout"
        }
      ]
    },
    {
      "cell_type": "code",
      "metadata": {
        "colab": {
          "base_uri": "https://localhost:8080/"
        },
        "id": "q8UcXA7hR6mH",
        "outputId": "13fa8c25-93a2-4dc6-8d75-c78242478959"
      },
      "source": [
        "performance_5 = results.head(6)\n",
        "performance_5 = performance_5[1:] #Remove top row since we do not have actual value\n",
        "performance_5 = performance_5.sum(axis = 0)\n",
        "print(performance_5)"
      ],
      "execution_count": 774,
      "outputs": [
        {
          "output_type": "stream",
          "text": [
            "y_pred           3.292546\n",
            "yb_pred          2.990000\n",
            "y_actual         5.190000\n",
            "yb_actual        3.000000\n",
            "y_pred_arg       4.000000\n",
            "yb_pred_arg      5.000000\n",
            "y_actual_arg     3.000000\n",
            "yb_acutal_arg    3.000000\n",
            "y_short         -0.870000\n",
            "y_buy            3.530000\n",
            "yb_buy           5.190000\n",
            "yoryb_buy        5.190000\n",
            "yandyb_buy       3.530000\n",
            "dtype: float64\n"
          ],
          "name": "stdout"
        }
      ]
    },
    {
      "cell_type": "code",
      "metadata": {
        "colab": {
          "base_uri": "https://localhost:8080/"
        },
        "id": "wzYnbajGUsll",
        "outputId": "1201d96d-13a3-4c92-ebe4-ad4be7ad89f3"
      },
      "source": [
        "performance_10 = results.head(11)\n",
        "performance_10 = performance_10[1:] #Remove top row since we do not have actual value\n",
        "performance_10 = performance_10.sum(axis = 0)\n",
        "print(performance_10)"
      ],
      "execution_count": 775,
      "outputs": [
        {
          "output_type": "stream",
          "text": [
            "y_pred           -3.388018\n",
            "yb_pred           5.410000\n",
            "y_actual          5.900000\n",
            "yb_actual         6.000000\n",
            "y_pred_arg        5.000000\n",
            "yb_pred_arg       7.000000\n",
            "y_actual_arg      6.000000\n",
            "yb_acutal_arg     6.000000\n",
            "y_short          -1.100000\n",
            "y_buy             3.820000\n",
            "yb_buy           13.170000\n",
            "yoryb_buy        13.170000\n",
            "yandyb_buy        3.820000\n",
            "dtype: float64\n"
          ],
          "name": "stdout"
        }
      ]
    },
    {
      "cell_type": "code",
      "metadata": {
        "colab": {
          "base_uri": "https://localhost:8080/"
        },
        "id": "mhX2q3QOUtFB",
        "outputId": "5e1e5bc5-25e1-4daa-d570-51f366c68b59"
      },
      "source": [
        "performance_20 = results.head(21)\n",
        "performance_20 = performance_20[1:] #Remove top row since we do not have actual value\n",
        "performance_20 = performance_20.sum(axis = 0)\n",
        "print(performance_20)"
      ],
      "execution_count": 776,
      "outputs": [
        {
          "output_type": "stream",
          "text": [
            "y_pred           -4.807723\n",
            "yb_pred          10.380000\n",
            "y_actual         12.590000\n",
            "yb_actual        12.000000\n",
            "y_pred_arg       10.000000\n",
            "yb_pred_arg      12.000000\n",
            "y_actual_arg     12.000000\n",
            "yb_acutal_arg    12.000000\n",
            "y_short           0.550000\n",
            "y_buy             8.850000\n",
            "yb_buy           21.570000\n",
            "yoryb_buy        20.020000\n",
            "yandyb_buy       10.400000\n",
            "dtype: float64\n"
          ],
          "name": "stdout"
        }
      ]
    },
    {
      "cell_type": "code",
      "metadata": {
        "colab": {
          "base_uri": "https://localhost:8080/"
        },
        "id": "ki_EiwXnUtP8",
        "outputId": "dda5b19b-3e9b-4f31-ce14-68f401bce168"
      },
      "source": [
        "performance_25 = results.head(26)\n",
        "performance_25 = performance_25[1:] #Remove top row since we do not have actual value\n",
        "performance_25 = performance_25.sum(axis = 0)\n",
        "print(performance_25)"
      ],
      "execution_count": 777,
      "outputs": [
        {
          "output_type": "stream",
          "text": [
            "y_pred           -2.842042\n",
            "yb_pred          13.290000\n",
            "y_actual         18.050000\n",
            "yb_actual        17.000000\n",
            "y_pred_arg       13.000000\n",
            "yb_pred_arg      16.000000\n",
            "y_actual_arg     17.000000\n",
            "yb_acutal_arg    17.000000\n",
            "y_short           0.260000\n",
            "y_buy            13.380000\n",
            "yb_buy           26.400000\n",
            "yoryb_buy        24.850000\n",
            "yandyb_buy       14.930000\n",
            "dtype: float64\n"
          ],
          "name": "stdout"
        }
      ]
    },
    {
      "cell_type": "code",
      "metadata": {
        "colab": {
          "base_uri": "https://localhost:8080/"
        },
        "id": "ldmAemGnUtZF",
        "outputId": "b0e30731-5b85-4aeb-ebaa-2720e523eddb"
      },
      "source": [
        "performance_35 = results.head(36)\n",
        "performance_35 = performance_35[1:] #Remove top row since we do not have actual value\n",
        "performance_35 = performance_35.sum(axis = 0)\n",
        "print(performance_35)"
      ],
      "execution_count": 778,
      "outputs": [
        {
          "output_type": "stream",
          "text": [
            "y_pred           -3.437224\n",
            "yb_pred          18.560000\n",
            "y_actual         19.000000\n",
            "yb_actual        22.000000\n",
            "y_pred_arg       21.000000\n",
            "yb_pred_arg      23.000000\n",
            "y_actual_arg     22.000000\n",
            "yb_acutal_arg    22.000000\n",
            "y_short           0.960000\n",
            "y_buy             4.920000\n",
            "yb_buy           26.610000\n",
            "yoryb_buy        23.500000\n",
            "yandyb_buy        8.030000\n",
            "dtype: float64\n"
          ],
          "name": "stdout"
        }
      ]
    },
    {
      "cell_type": "code",
      "metadata": {
        "colab": {
          "base_uri": "https://localhost:8080/"
        },
        "id": "QMWxREU1VhJX",
        "outputId": "4b5049ef-b509-4074-da79-d735195c2cc7"
      },
      "source": [
        "performance_40 = results.head(41)\n",
        "performance_40 = performance_40[1:] #Remove top row since we do not have actual value\n",
        "performance_40 = performance_40.sum(axis = 0)\n",
        "print(performance_40)"
      ],
      "execution_count": 779,
      "outputs": [
        {
          "output_type": "stream",
          "text": [
            "y_pred           -2.031479\n",
            "yb_pred          21.580000\n",
            "y_actual         20.320000\n",
            "yb_actual        24.000000\n",
            "y_pred_arg       26.000000\n",
            "yb_pred_arg      27.000000\n",
            "y_actual_arg     24.000000\n",
            "yb_acutal_arg    24.000000\n",
            "y_short           1.450000\n",
            "y_buy             6.240000\n",
            "yb_buy           23.980000\n",
            "yoryb_buy        24.820000\n",
            "yandyb_buy        5.400000\n",
            "dtype: float64\n"
          ],
          "name": "stdout"
        }
      ]
    },
    {
      "cell_type": "code",
      "metadata": {
        "colab": {
          "base_uri": "https://localhost:8080/"
        },
        "id": "3EnuMXwrV18-",
        "outputId": "2bc05ad6-d8d3-4ccd-c9b7-cb79bca58a79"
      },
      "source": [
        "performance_50 = results.head(51)\n",
        "performance_50 = performance_50[1:] #Remove top row since we do not have actual value\n",
        "performance_50 = performance_50.sum(axis = 0)\n",
        "print(performance_50)"
      ],
      "execution_count": 780,
      "outputs": [
        {
          "output_type": "stream",
          "text": [
            "y_pred           -2.131543\n",
            "yb_pred          27.370000\n",
            "y_actual         28.710000\n",
            "yb_actual        30.000000\n",
            "y_pred_arg       31.000000\n",
            "yb_pred_arg      34.000000\n",
            "y_actual_arg     30.000000\n",
            "yb_acutal_arg    30.000000\n",
            "y_short          -0.130000\n",
            "y_buy             6.580000\n",
            "yb_buy           33.040000\n",
            "yoryb_buy        34.620000\n",
            "yandyb_buy        5.000000\n",
            "dtype: float64\n"
          ],
          "name": "stdout"
        }
      ]
    },
    {
      "cell_type": "code",
      "metadata": {
        "colab": {
          "base_uri": "https://localhost:8080/"
        },
        "id": "cap9bS6NV2Yq",
        "outputId": "601b42b6-8f19-4770-9568-a5d8e885b048"
      },
      "source": [
        "performance_55 = results.head(56)\n",
        "performance_55 = performance_55[1:] #Remove top row since we do not have actual value\n",
        "performance_55 = performance_55.sum(axis = 0)\n",
        "print(performance_55)"
      ],
      "execution_count": 781,
      "outputs": [
        {
          "output_type": "stream",
          "text": [
            "y_pred           -2.249643\n",
            "yb_pred          30.360000\n",
            "y_actual         26.440000\n",
            "yb_actual        32.000000\n",
            "y_pred_arg       34.000000\n",
            "yb_pred_arg      37.000000\n",
            "y_actual_arg     32.000000\n",
            "yb_acutal_arg    32.000000\n",
            "y_short          -0.800000\n",
            "y_buy             0.850000\n",
            "yb_buy           27.310000\n",
            "yoryb_buy        28.890000\n",
            "yandyb_buy       -0.730000\n",
            "dtype: float64\n"
          ],
          "name": "stdout"
        }
      ]
    },
    {
      "cell_type": "code",
      "metadata": {
        "colab": {
          "base_uri": "https://localhost:8080/"
        },
        "id": "EwQ017VqQ6Uy",
        "outputId": "0c7737c0-b200-49c5-98d8-bbcdfd3be3db"
      },
      "source": [
        "performance = pd.concat([performance_5,\n",
        "                         performance_10,\n",
        "                         performance_15, \n",
        "                         performance_20,\n",
        "                         performance_25,\n",
        "                         performance_30,\n",
        "                         performance_35,\n",
        "                         performance_40, \n",
        "                         performance_45,\n",
        "                         performance_50,\n",
        "                         performance_55,\n",
        "                         performance_60, \n",
        "                         performance_all], axis=1)\n",
        "\n",
        "print(performance)"
      ],
      "execution_count": 782,
      "outputs": [
        {
          "output_type": "stream",
          "text": [
            "                     0          1          2   ...         10         11         12\n",
            "y_pred         3.292546  -3.388018  -2.912119  ...  -2.249643  -0.954542  14.637012\n",
            "yb_pred        2.990000   5.410000   8.280000  ...  30.360000  33.200000  46.980000\n",
            "y_actual       5.190000   5.900000   9.730000  ...  26.440000  25.030000  44.320000\n",
            "yb_actual      3.000000   6.000000   9.000000  ...  32.000000  35.000000  49.000000\n",
            "y_pred_arg     4.000000   5.000000   8.000000  ...  34.000000  38.000000  54.000000\n",
            "yb_pred_arg    5.000000   7.000000  11.000000  ...  37.000000  41.000000  56.000000\n",
            "y_actual_arg   3.000000   6.000000   9.000000  ...  32.000000  35.000000  49.000000\n",
            "yb_acutal_arg  3.000000   6.000000   9.000000  ...  32.000000  35.000000  49.000000\n",
            "y_short       -0.870000  -1.100000  -0.900000  ...  -0.800000  -1.240000  -3.870000\n",
            "y_buy          3.530000   3.820000   7.900000  ...   0.850000   3.760000  38.020000\n",
            "yb_buy         5.190000  13.170000  19.070000  ...  27.310000  30.220000  64.020000\n",
            "yoryb_buy      5.190000  13.170000  19.070000  ...  28.890000  31.800000  66.180000\n",
            "yandyb_buy     3.530000   3.820000   7.900000  ...  -0.730000   2.180000  35.860000\n",
            "\n",
            "[13 rows x 13 columns]\n"
          ],
          "name": "stdout"
        }
      ]
    },
    {
      "cell_type": "code",
      "metadata": {
        "id": "-N1HSPFzYmaf"
      },
      "source": [
        "results.to_csv('/content/drive/MyDrive/Colab Notebooks/results.csv')"
      ],
      "execution_count": 783,
      "outputs": []
    }
  ]
}