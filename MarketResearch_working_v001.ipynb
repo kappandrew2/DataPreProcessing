{
  "nbformat": 4,
  "nbformat_minor": 0,
  "metadata": {
    "colab": {
      "name": "MarketResearch.ipynb",
      "provenance": [],
      "collapsed_sections": [],
      "history_visible": true,
      "authorship_tag": "ABX9TyMRNl7GLtLhyR1c/kQ3SvBn",
      "include_colab_link": true
    },
    "kernelspec": {
      "name": "python3",
      "display_name": "Python 3"
    },
    "language_info": {
      "name": "python"
    }
  },
  "cells": [
    {
      "cell_type": "markdown",
      "metadata": {
        "id": "view-in-github",
        "colab_type": "text"
      },
      "source": [
        "<a href=\"https://colab.research.google.com/github/kappandrew2/DataPreProcessing/blob/main/MarketResearch_working_v001.ipynb\" target=\"_parent\"><img src=\"https://colab.research.google.com/assets/colab-badge.svg\" alt=\"Open In Colab\"/></a>"
      ]
    },
    {
      "cell_type": "markdown",
      "metadata": {
        "id": "1mSu-6RRLTR1"
      },
      "source": [
        "#Model Purpose\n",
        "\n",
        "Utilize historical value and time attributes to predict the next day's gain or loss value\n",
        "\n",
        "!Dataset Notes: The dataset for this data solution must come from the following web sit and contain a large historical sample of data. For example:\n",
        "\n",
        "Begin Date = 12/01/2007 (Be mindful that the last 35 periods (in this case, days) will get chopped off of the bottom of the dataset during data preprocessing)\n",
        "\n",
        "End Date = Today's current value (to be run an hour before market close)\n",
        "\n",
        "Ticker = SPY\n",
        "\n",
        "Train Set = all data except last 60 periods (rows)\n",
        "\n",
        "Prediction Set = all data from -90 periods (days) to current\n",
        "\n",
        "https://www.wsj.com/market-data/quotes/index/SPX/historical-prices\n"
      ]
    },
    {
      "cell_type": "code",
      "metadata": {
        "id": "lx9d2QEa6mXf"
      },
      "source": [
        "import numpy as np\n",
        "import matplotlib.pyplot as plt\n",
        "import pandas as pd\n",
        "import datetime\n",
        "from sklearn.model_selection import train_test_split\n",
        "from datetime import date, datetime, timedelta\n",
        "from pandas._libs.tslibs.timestamps import Timestamp"
      ],
      "execution_count": null,
      "outputs": []
    },
    {
      "cell_type": "markdown",
      "metadata": {
        "id": "6mLzKv5BGUUZ"
      },
      "source": [
        "#Connect to drive and import data set\n",
        "\n",
        "Using google drive\n",
        "\n",
        "Importing historical prices for ticker \"SPY\""
      ]
    },
    {
      "cell_type": "code",
      "metadata": {
        "colab": {
          "base_uri": "https://localhost:8080/"
        },
        "id": "LAo4DboL6vQh",
        "outputId": "136ae030-d5ef-4976-ea93-52938f29e601"
      },
      "source": [
        "#Create CSV from data export\n",
        "#https://www.wsj.com/market-data/quotes/index/SPX/historical-prices\n",
        "\n",
        "from google.colab import drive\n",
        "drive.mount('/content/drive', force_remount=True)\n",
        "\n",
        "dataset = pd.read_csv('/content/drive/MyDrive/Colab Notebooks/HistoricalPricesSPY.csv')\n",
        "\n",
        "print(dataset)"
      ],
      "execution_count": null,
      "outputs": [
        {
          "output_type": "stream",
          "text": [
            "Mounted at /content/drive\n",
            "          Date     Open    High     Low     Close     Volume\n",
            "0     08/02/21  440.340  440.93  437.21  437.5900   58497300\n",
            "1     07/30/21  437.910  440.06  437.77  438.5100   68951203\n",
            "2     07/29/21  439.815  441.80  439.81  440.6500   47435340\n",
            "3     07/28/21  439.680  440.30  437.31  438.8300   52472359\n",
            "4     07/27/21  439.910  439.94  435.99  439.0100   67397133\n",
            "...        ...      ...     ...     ...       ...        ...\n",
            "1400  01/08/16  195.190  195.85  191.58  191.9230  209817203\n",
            "1401  01/07/16  195.330  197.44  193.59  194.0500  213436094\n",
            "1402  01/06/16  198.340  200.06  197.60  198.8200  152112609\n",
            "1403  01/05/16  201.400  201.90  200.05  201.3600  110845797\n",
            "1404  01/04/16  200.490  201.03  198.59  201.0192  222353500\n",
            "\n",
            "[1405 rows x 6 columns]\n"
          ],
          "name": "stdout"
        }
      ]
    },
    {
      "cell_type": "markdown",
      "metadata": {
        "id": "ZWGjihLGGnuD"
      },
      "source": [
        "#Modifiy dataset Content and Headers\n",
        "\n",
        "Remove contents not required for this exercise\n",
        "\n",
        "Renaming columns to remove leading white space\n",
        "\n",
        "Narrowing the dataset can be done via drop or select, both options are available (comment out the one not in use)"
      ]
    },
    {
      "cell_type": "code",
      "metadata": {
        "id": "4_0Dq0yU7GHg"
      },
      "source": [
        "dataset.rename({' Close': 'Close'}, axis=1, inplace = True)\n",
        "dataset = dataset[['Close', 'Date']]\n",
        "#dataset = dataset.drop([' Open', ' High', ' Low', ' Volume'], axis = 1)"
      ],
      "execution_count": null,
      "outputs": []
    },
    {
      "cell_type": "markdown",
      "metadata": {
        "id": "V9Wa2WYcG1Og"
      },
      "source": [
        "#Dataset information validation\n",
        "\n",
        "Validate date frame, column contents and data types"
      ]
    },
    {
      "cell_type": "code",
      "metadata": {
        "colab": {
          "base_uri": "https://localhost:8080/"
        },
        "id": "QjAXsP-j7Ysg",
        "outputId": "b761626a-3d6c-4db4-b9d2-5333f086cdd5"
      },
      "source": [
        "dataset['Date'] = pd.to_datetime(dataset['Date'])\n",
        "\n",
        "dataset.info()"
      ],
      "execution_count": null,
      "outputs": [
        {
          "output_type": "stream",
          "text": [
            "<class 'pandas.core.frame.DataFrame'>\n",
            "RangeIndex: 1405 entries, 0 to 1404\n",
            "Data columns (total 2 columns):\n",
            " #   Column  Non-Null Count  Dtype         \n",
            "---  ------  --------------  -----         \n",
            " 0   Close   1405 non-null   float64       \n",
            " 1   Date    1405 non-null   datetime64[ns]\n",
            "dtypes: datetime64[ns](1), float64(1)\n",
            "memory usage: 22.1 KB\n"
          ],
          "name": "stdout"
        }
      ]
    },
    {
      "cell_type": "markdown",
      "metadata": {
        "id": "jQhfTiNaHCIQ"
      },
      "source": [
        "#Change indext to date (for troublshooting)\n",
        "\n",
        "Moving date to the index assists in visually validating processes are working correctly\n",
        "\n",
        "!Note: This should be \"off\" except when troublshooting"
      ]
    },
    {
      "cell_type": "code",
      "metadata": {
        "colab": {
          "base_uri": "https://localhost:8080/"
        },
        "id": "yGn3MhfX4r7n",
        "outputId": "318c2828-00e1-432e-a121-422f66d1749a"
      },
      "source": [
        "#dataset['Date_Index'] = dataset['Date']\n",
        "#dataset.set_index('Date_Index', inplace=True)\n",
        "\n",
        "dataset.info()"
      ],
      "execution_count": null,
      "outputs": [
        {
          "output_type": "stream",
          "text": [
            "<class 'pandas.core.frame.DataFrame'>\n",
            "RangeIndex: 1405 entries, 0 to 1404\n",
            "Data columns (total 2 columns):\n",
            " #   Column  Non-Null Count  Dtype         \n",
            "---  ------  --------------  -----         \n",
            " 0   Close   1405 non-null   float64       \n",
            " 1   Date    1405 non-null   datetime64[ns]\n",
            "dtypes: datetime64[ns](1), float64(1)\n",
            "memory usage: 22.1 KB\n"
          ],
          "name": "stdout"
        }
      ]
    },
    {
      "cell_type": "markdown",
      "metadata": {
        "id": "5NF3DoJCHWFM"
      },
      "source": [
        "#Create time attributes\n",
        "\n",
        "Time attributes will change date from a continous variable into discrete (a numeric categorical value)"
      ]
    },
    {
      "cell_type": "code",
      "metadata": {
        "colab": {
          "base_uri": "https://localhost:8080/"
        },
        "id": "BTr8otxU7gU5",
        "outputId": "810d8dda-bc8b-4f25-d751-4718cccc5e4e"
      },
      "source": [
        "dataset['DOW'] = dataset['Date'].dt.dayofweek\n",
        "dataset['DOY'] = dataset['Date'].dt.dayofyear\n",
        "dataset['Week'] = dataset['Date'].dt.week\n",
        "dataset['Month'] = dataset['Date'].dt.month\n",
        "dataset['Quarter'] = dataset['Date'].dt.quarter\n",
        "\n",
        "dataset.dtypes"
      ],
      "execution_count": null,
      "outputs": [
        {
          "output_type": "stream",
          "text": [
            "/usr/local/lib/python3.7/dist-packages/ipykernel_launcher.py:3: FutureWarning: Series.dt.weekofyear and Series.dt.week have been deprecated.  Please use Series.dt.isocalendar().week instead.\n",
            "  This is separate from the ipykernel package so we can avoid doing imports until\n"
          ],
          "name": "stderr"
        },
        {
          "output_type": "execute_result",
          "data": {
            "text/plain": [
              "Close             float64\n",
              "Date       datetime64[ns]\n",
              "DOW                 int64\n",
              "DOY                 int64\n",
              "Week                int64\n",
              "Month               int64\n",
              "Quarter             int64\n",
              "dtype: object"
            ]
          },
          "metadata": {
            "tags": []
          },
          "execution_count": 127
        }
      ]
    },
    {
      "cell_type": "markdown",
      "metadata": {
        "id": "GXUsxdw9H7KW"
      },
      "source": [
        "#Create skip-day gain loss values (and dependant variable #1)\n",
        "\n",
        "!Note: gain-loss-0 will ultimately end up being the dependant variable but also an independant variable (we will create a new column later and shift it down a row)\n",
        "\n",
        "1) Calculate the first day's gain loss by subtracting day -1 from day 0\n",
        "\n",
        "2) Calculate the second day's gain loss by subtracting day -2 from day 0\n",
        "\n",
        "3) Calculate the third day's gain loss by subtracting day -n from day 0\n",
        "\n",
        "!Note: This should be turned into a loop using i=n where n = the rows to be processed (now many previous rows)\n",
        "\n",
        "\n"
      ]
    },
    {
      "cell_type": "code",
      "metadata": {
        "colab": {
          "base_uri": "https://localhost:8080/"
        },
        "id": "ko_KBr4W7rZW",
        "outputId": "84b76934-bad6-416b-c5d9-6110f13536c6"
      },
      "source": [
        "dataset['gain_loss-0'] = dataset['Close'].diff(-1)\n",
        "dataset['gain_loss-1'] = dataset['Close'].diff(-2)\n",
        "#dataset['gain_loss-1'] = dataset['gain_loss-1'].shift(periods=-1, fill_value=0) #Removed these to experiment \n",
        "#with switching around the dependant variable rather than the independant variable\n",
        "dataset['gain_loss-2'] = dataset['Close'].diff(-3) \n",
        "#dataset['gain_loss-2'] = dataset['gain_loss-2'].shift(periods=-1, fill_value=0)\n",
        "dataset['gain_loss-3'] = dataset['Close'].diff(-4) \n",
        "#dataset['gain_loss-3'] = dataset['gain_loss-3'].shift(periods=-1, fill_value=0)\n",
        "dataset['gain_loss-4'] = dataset['Close'].diff(-5) \n",
        "#dataset['gain_loss-4'] = dataset['gain_loss-4'].shift(periods=-1, fill_value=0)\n",
        "\n",
        "print(dataset)\n",
        "#dataset.dtypes"
      ],
      "execution_count": null,
      "outputs": [
        {
          "output_type": "stream",
          "text": [
            "         Close       Date  DOW  ...  gain_loss-2  gain_loss-3  gain_loss-4\n",
            "0     437.5900 2021-08-02    0  ...      -1.2400      -1.4200        -3.43\n",
            "1     438.5100 2021-07-30    4  ...      -0.5000      -2.5100        -1.43\n",
            "2     440.6500 2021-07-29    3  ...      -0.3700       0.7100         5.19\n",
            "3     438.8300 2021-07-28    2  ...      -1.1100       3.3700         4.28\n",
            "4     439.0100 2021-07-27    1  ...       3.5500       4.4600         7.95\n",
            "...        ...        ...  ...  ...          ...          ...          ...\n",
            "1400  191.9230 2016-01-08    4  ...      -9.4370      -9.0962          NaN\n",
            "1401  194.0500 2016-01-07    3  ...      -6.9692          NaN          NaN\n",
            "1402  198.8200 2016-01-06    2  ...          NaN          NaN          NaN\n",
            "1403  201.3600 2016-01-05    1  ...          NaN          NaN          NaN\n",
            "1404  201.0192 2016-01-04    0  ...          NaN          NaN          NaN\n",
            "\n",
            "[1405 rows x 12 columns]\n"
          ],
          "name": "stdout"
        }
      ]
    },
    {
      "cell_type": "markdown",
      "metadata": {
        "id": "tJLMlPczM8bw"
      },
      "source": [
        "#Create binary version of skip-day gain loss values (and dependant variable #2)\n",
        "\n",
        "!Note: gain-loss-0b will ultimately end up being the dependant variable but also an independant variable (we will create a new column later and shift it down a row)\n",
        "\n",
        "This process changes all gain loss continuous variables into a binary-descrete (dichotomous) variables\n",
        "\n",
        "!Note - This process should be converted into the previous process when that process is converted into a loop"
      ]
    },
    {
      "cell_type": "code",
      "metadata": {
        "colab": {
          "base_uri": "https://localhost:8080/"
        },
        "id": "8rnb0z4P8D79",
        "outputId": "33c9f5a6-e946-4ec2-ed22-bcd0d911d542"
      },
      "source": [
        "dataset['gain_loss-0b'] = np.where(dataset['gain_loss-0'] > 0, 1, 0)\n",
        "dataset['gain_loss-1b'] = np.where(dataset['gain_loss-1'] > 0, 1, 0)\n",
        "dataset['gain_loss-2b'] = np.where(dataset['gain_loss-2'] > 0, 1, 0)\n",
        "dataset['gain_loss-3b'] = np.where(dataset['gain_loss-3'] > 0, 1, 0)\n",
        "dataset['gain_loss-4b'] = np.where(dataset['gain_loss-4'] > 0, 1, 0)\n",
        "\n",
        "dataset.dtypes"
      ],
      "execution_count": null,
      "outputs": [
        {
          "output_type": "execute_result",
          "data": {
            "text/plain": [
              "Close                  float64\n",
              "Date            datetime64[ns]\n",
              "DOW                      int64\n",
              "DOY                      int64\n",
              "Week                     int64\n",
              "Month                    int64\n",
              "Quarter                  int64\n",
              "gain_loss-0            float64\n",
              "gain_loss-1            float64\n",
              "gain_loss-2            float64\n",
              "gain_loss-3            float64\n",
              "gain_loss-4            float64\n",
              "gain_loss-0b             int64\n",
              "gain_loss-1b             int64\n",
              "gain_loss-2b             int64\n",
              "gain_loss-3b             int64\n",
              "gain_loss-4b             int64\n",
              "dtype: object"
            ]
          },
          "metadata": {
            "tags": []
          },
          "execution_count": 129
        }
      ]
    },
    {
      "cell_type": "markdown",
      "metadata": {
        "id": "qySpImzmN0ki"
      },
      "source": [
        "#Aggregate the binary skip-day gain loss values\n",
        "\n",
        "This creates a true categorical value from the binary descrete values.\n",
        "\n",
        "The theory is that, having binary values for each period (sparce matrix) and an aggregate (categorical), the values will work together to increase the value of this data\n",
        "\n",
        "!Note = This process should be indluded in the loop mentioned in notes from the above process (future modifications to the data pre-processing procedures)"
      ]
    },
    {
      "cell_type": "code",
      "metadata": {
        "colab": {
          "base_uri": "https://localhost:8080/",
          "height": 602
        },
        "id": "SzyHZx9vFIKb",
        "outputId": "d628e19f-0e11-4f9c-e250-6c7a2a98f66a"
      },
      "source": [
        "dataset['gain_loss-total_b'] = dataset['gain_loss-0b'] + dataset['gain_loss-1b'] + dataset['gain_loss-2b'] + dataset['gain_loss-3b'] + dataset['gain_loss-4b']\n",
        "\n",
        "dataset.head(-1)"
      ],
      "execution_count": null,
      "outputs": [
        {
          "output_type": "execute_result",
          "data": {
            "text/html": [
              "<div>\n",
              "<style scoped>\n",
              "    .dataframe tbody tr th:only-of-type {\n",
              "        vertical-align: middle;\n",
              "    }\n",
              "\n",
              "    .dataframe tbody tr th {\n",
              "        vertical-align: top;\n",
              "    }\n",
              "\n",
              "    .dataframe thead th {\n",
              "        text-align: right;\n",
              "    }\n",
              "</style>\n",
              "<table border=\"1\" class=\"dataframe\">\n",
              "  <thead>\n",
              "    <tr style=\"text-align: right;\">\n",
              "      <th></th>\n",
              "      <th>Close</th>\n",
              "      <th>Date</th>\n",
              "      <th>DOW</th>\n",
              "      <th>DOY</th>\n",
              "      <th>Week</th>\n",
              "      <th>Month</th>\n",
              "      <th>Quarter</th>\n",
              "      <th>gain_loss-0</th>\n",
              "      <th>gain_loss-1</th>\n",
              "      <th>gain_loss-2</th>\n",
              "      <th>gain_loss-3</th>\n",
              "      <th>gain_loss-4</th>\n",
              "      <th>gain_loss-0b</th>\n",
              "      <th>gain_loss-1b</th>\n",
              "      <th>gain_loss-2b</th>\n",
              "      <th>gain_loss-3b</th>\n",
              "      <th>gain_loss-4b</th>\n",
              "      <th>gain_loss-total_b</th>\n",
              "    </tr>\n",
              "  </thead>\n",
              "  <tbody>\n",
              "    <tr>\n",
              "      <th>0</th>\n",
              "      <td>437.590</td>\n",
              "      <td>2021-08-02</td>\n",
              "      <td>0</td>\n",
              "      <td>214</td>\n",
              "      <td>31</td>\n",
              "      <td>8</td>\n",
              "      <td>3</td>\n",
              "      <td>-0.9200</td>\n",
              "      <td>-3.0600</td>\n",
              "      <td>-1.2400</td>\n",
              "      <td>-1.4200</td>\n",
              "      <td>-3.4300</td>\n",
              "      <td>0</td>\n",
              "      <td>0</td>\n",
              "      <td>0</td>\n",
              "      <td>0</td>\n",
              "      <td>0</td>\n",
              "      <td>0</td>\n",
              "    </tr>\n",
              "    <tr>\n",
              "      <th>1</th>\n",
              "      <td>438.510</td>\n",
              "      <td>2021-07-30</td>\n",
              "      <td>4</td>\n",
              "      <td>211</td>\n",
              "      <td>30</td>\n",
              "      <td>7</td>\n",
              "      <td>3</td>\n",
              "      <td>-2.1400</td>\n",
              "      <td>-0.3200</td>\n",
              "      <td>-0.5000</td>\n",
              "      <td>-2.5100</td>\n",
              "      <td>-1.4300</td>\n",
              "      <td>0</td>\n",
              "      <td>0</td>\n",
              "      <td>0</td>\n",
              "      <td>0</td>\n",
              "      <td>0</td>\n",
              "      <td>0</td>\n",
              "    </tr>\n",
              "    <tr>\n",
              "      <th>2</th>\n",
              "      <td>440.650</td>\n",
              "      <td>2021-07-29</td>\n",
              "      <td>3</td>\n",
              "      <td>210</td>\n",
              "      <td>30</td>\n",
              "      <td>7</td>\n",
              "      <td>3</td>\n",
              "      <td>1.8200</td>\n",
              "      <td>1.6400</td>\n",
              "      <td>-0.3700</td>\n",
              "      <td>0.7100</td>\n",
              "      <td>5.1900</td>\n",
              "      <td>1</td>\n",
              "      <td>1</td>\n",
              "      <td>0</td>\n",
              "      <td>1</td>\n",
              "      <td>1</td>\n",
              "      <td>4</td>\n",
              "    </tr>\n",
              "    <tr>\n",
              "      <th>3</th>\n",
              "      <td>438.830</td>\n",
              "      <td>2021-07-28</td>\n",
              "      <td>2</td>\n",
              "      <td>209</td>\n",
              "      <td>30</td>\n",
              "      <td>7</td>\n",
              "      <td>3</td>\n",
              "      <td>-0.1800</td>\n",
              "      <td>-2.1900</td>\n",
              "      <td>-1.1100</td>\n",
              "      <td>3.3700</td>\n",
              "      <td>4.2800</td>\n",
              "      <td>0</td>\n",
              "      <td>0</td>\n",
              "      <td>0</td>\n",
              "      <td>1</td>\n",
              "      <td>1</td>\n",
              "      <td>2</td>\n",
              "    </tr>\n",
              "    <tr>\n",
              "      <th>4</th>\n",
              "      <td>439.010</td>\n",
              "      <td>2021-07-27</td>\n",
              "      <td>1</td>\n",
              "      <td>208</td>\n",
              "      <td>30</td>\n",
              "      <td>7</td>\n",
              "      <td>3</td>\n",
              "      <td>-2.0100</td>\n",
              "      <td>-0.9300</td>\n",
              "      <td>3.5500</td>\n",
              "      <td>4.4600</td>\n",
              "      <td>7.9500</td>\n",
              "      <td>0</td>\n",
              "      <td>0</td>\n",
              "      <td>1</td>\n",
              "      <td>1</td>\n",
              "      <td>1</td>\n",
              "      <td>3</td>\n",
              "    </tr>\n",
              "    <tr>\n",
              "      <th>...</th>\n",
              "      <td>...</td>\n",
              "      <td>...</td>\n",
              "      <td>...</td>\n",
              "      <td>...</td>\n",
              "      <td>...</td>\n",
              "      <td>...</td>\n",
              "      <td>...</td>\n",
              "      <td>...</td>\n",
              "      <td>...</td>\n",
              "      <td>...</td>\n",
              "      <td>...</td>\n",
              "      <td>...</td>\n",
              "      <td>...</td>\n",
              "      <td>...</td>\n",
              "      <td>...</td>\n",
              "      <td>...</td>\n",
              "      <td>...</td>\n",
              "      <td>...</td>\n",
              "    </tr>\n",
              "    <tr>\n",
              "      <th>1399</th>\n",
              "      <td>192.110</td>\n",
              "      <td>2016-01-11</td>\n",
              "      <td>0</td>\n",
              "      <td>11</td>\n",
              "      <td>2</td>\n",
              "      <td>1</td>\n",
              "      <td>1</td>\n",
              "      <td>0.1870</td>\n",
              "      <td>-1.9400</td>\n",
              "      <td>-6.7100</td>\n",
              "      <td>-9.2500</td>\n",
              "      <td>-8.9092</td>\n",
              "      <td>1</td>\n",
              "      <td>0</td>\n",
              "      <td>0</td>\n",
              "      <td>0</td>\n",
              "      <td>0</td>\n",
              "      <td>1</td>\n",
              "    </tr>\n",
              "    <tr>\n",
              "      <th>1400</th>\n",
              "      <td>191.923</td>\n",
              "      <td>2016-01-08</td>\n",
              "      <td>4</td>\n",
              "      <td>8</td>\n",
              "      <td>1</td>\n",
              "      <td>1</td>\n",
              "      <td>1</td>\n",
              "      <td>-2.1270</td>\n",
              "      <td>-6.8970</td>\n",
              "      <td>-9.4370</td>\n",
              "      <td>-9.0962</td>\n",
              "      <td>NaN</td>\n",
              "      <td>0</td>\n",
              "      <td>0</td>\n",
              "      <td>0</td>\n",
              "      <td>0</td>\n",
              "      <td>0</td>\n",
              "      <td>0</td>\n",
              "    </tr>\n",
              "    <tr>\n",
              "      <th>1401</th>\n",
              "      <td>194.050</td>\n",
              "      <td>2016-01-07</td>\n",
              "      <td>3</td>\n",
              "      <td>7</td>\n",
              "      <td>1</td>\n",
              "      <td>1</td>\n",
              "      <td>1</td>\n",
              "      <td>-4.7700</td>\n",
              "      <td>-7.3100</td>\n",
              "      <td>-6.9692</td>\n",
              "      <td>NaN</td>\n",
              "      <td>NaN</td>\n",
              "      <td>0</td>\n",
              "      <td>0</td>\n",
              "      <td>0</td>\n",
              "      <td>0</td>\n",
              "      <td>0</td>\n",
              "      <td>0</td>\n",
              "    </tr>\n",
              "    <tr>\n",
              "      <th>1402</th>\n",
              "      <td>198.820</td>\n",
              "      <td>2016-01-06</td>\n",
              "      <td>2</td>\n",
              "      <td>6</td>\n",
              "      <td>1</td>\n",
              "      <td>1</td>\n",
              "      <td>1</td>\n",
              "      <td>-2.5400</td>\n",
              "      <td>-2.1992</td>\n",
              "      <td>NaN</td>\n",
              "      <td>NaN</td>\n",
              "      <td>NaN</td>\n",
              "      <td>0</td>\n",
              "      <td>0</td>\n",
              "      <td>0</td>\n",
              "      <td>0</td>\n",
              "      <td>0</td>\n",
              "      <td>0</td>\n",
              "    </tr>\n",
              "    <tr>\n",
              "      <th>1403</th>\n",
              "      <td>201.360</td>\n",
              "      <td>2016-01-05</td>\n",
              "      <td>1</td>\n",
              "      <td>5</td>\n",
              "      <td>1</td>\n",
              "      <td>1</td>\n",
              "      <td>1</td>\n",
              "      <td>0.3408</td>\n",
              "      <td>NaN</td>\n",
              "      <td>NaN</td>\n",
              "      <td>NaN</td>\n",
              "      <td>NaN</td>\n",
              "      <td>1</td>\n",
              "      <td>0</td>\n",
              "      <td>0</td>\n",
              "      <td>0</td>\n",
              "      <td>0</td>\n",
              "      <td>1</td>\n",
              "    </tr>\n",
              "  </tbody>\n",
              "</table>\n",
              "<p>1404 rows × 18 columns</p>\n",
              "</div>"
            ],
            "text/plain": [
              "        Close       Date  DOW  ...  gain_loss-3b  gain_loss-4b  gain_loss-total_b\n",
              "0     437.590 2021-08-02    0  ...             0             0                  0\n",
              "1     438.510 2021-07-30    4  ...             0             0                  0\n",
              "2     440.650 2021-07-29    3  ...             1             1                  4\n",
              "3     438.830 2021-07-28    2  ...             1             1                  2\n",
              "4     439.010 2021-07-27    1  ...             1             1                  3\n",
              "...       ...        ...  ...  ...           ...           ...                ...\n",
              "1399  192.110 2016-01-11    0  ...             0             0                  1\n",
              "1400  191.923 2016-01-08    4  ...             0             0                  0\n",
              "1401  194.050 2016-01-07    3  ...             0             0                  0\n",
              "1402  198.820 2016-01-06    2  ...             0             0                  0\n",
              "1403  201.360 2016-01-05    1  ...             0             0                  1\n",
              "\n",
              "[1404 rows x 18 columns]"
            ]
          },
          "metadata": {
            "tags": []
          },
          "execution_count": 130
        }
      ]
    },
    {
      "cell_type": "markdown",
      "metadata": {
        "id": "2LMh_Hj8PWIq"
      },
      "source": [
        "#Create daily gain loss and denormalize values\n",
        "\n",
        "1) Calculate the first day's gain loss by subtracting day -1 from day 0\n",
        "\n",
        "2) Calculate the second day's gain loss by subtracting day -2 from day -1\n",
        "\n",
        "3) Calculate the third day's gain loss by subtracting day -n from day -n+1\n",
        "\n",
        "This process creates a new column and removes the top rows in accordance with the desired \"lookback\" period - shift over 1 and lift by 1, shift over 2 and lift by 2, shift over n and lift by n\n",
        "\n",
        "!Note: This should be turned into a loop using i=n where n = the rows to be processed (now many previous rows)\n"
      ]
    },
    {
      "cell_type": "code",
      "metadata": {
        "colab": {
          "base_uri": "https://localhost:8080/",
          "height": 324
        },
        "id": "Swk_VFSW9P1P",
        "outputId": "a029b52d-52ec-4bcb-b8e1-33f90ee8b7a2"
      },
      "source": [
        "dataset['prior_day-0'] = dataset['gain_loss-0']\n",
        "#dataset['prior_day-1'] = dataset['prior_day-1'].shift(periods=-1, fill_value=0)#Removed this to experiment \n",
        "#with switching around the dependant variable rather than the independant variable\n",
        "dataset['prior_day-1'] = dataset['gain_loss-0']\n",
        "dataset['prior_day-1'] = dataset['prior_day-1'].shift(periods=-1, fill_value=0)\n",
        "dataset['prior_day-2'] = dataset['gain_loss-0']\n",
        "dataset['prior_day-2'] = dataset['prior_day-2'].shift(periods=-2, fill_value=0)\n",
        "dataset['prior_day-3'] = dataset['gain_loss-0']\n",
        "dataset['prior_day-3'] = dataset['prior_day-3'].shift(periods=-3, fill_value=0)\n",
        "dataset['prior_day-4'] = dataset['gain_loss-0']\n",
        "dataset['prior_day-4'] = dataset['prior_day-4'].shift(periods=-4, fill_value=0)\n",
        "dataset.head()"
      ],
      "execution_count": null,
      "outputs": [
        {
          "output_type": "execute_result",
          "data": {
            "text/html": [
              "<div>\n",
              "<style scoped>\n",
              "    .dataframe tbody tr th:only-of-type {\n",
              "        vertical-align: middle;\n",
              "    }\n",
              "\n",
              "    .dataframe tbody tr th {\n",
              "        vertical-align: top;\n",
              "    }\n",
              "\n",
              "    .dataframe thead th {\n",
              "        text-align: right;\n",
              "    }\n",
              "</style>\n",
              "<table border=\"1\" class=\"dataframe\">\n",
              "  <thead>\n",
              "    <tr style=\"text-align: right;\">\n",
              "      <th></th>\n",
              "      <th>Close</th>\n",
              "      <th>Date</th>\n",
              "      <th>DOW</th>\n",
              "      <th>DOY</th>\n",
              "      <th>Week</th>\n",
              "      <th>Month</th>\n",
              "      <th>Quarter</th>\n",
              "      <th>gain_loss-0</th>\n",
              "      <th>gain_loss-1</th>\n",
              "      <th>gain_loss-2</th>\n",
              "      <th>gain_loss-3</th>\n",
              "      <th>gain_loss-4</th>\n",
              "      <th>gain_loss-0b</th>\n",
              "      <th>gain_loss-1b</th>\n",
              "      <th>gain_loss-2b</th>\n",
              "      <th>gain_loss-3b</th>\n",
              "      <th>gain_loss-4b</th>\n",
              "      <th>gain_loss-total_b</th>\n",
              "      <th>prior_day-0</th>\n",
              "      <th>prior_day-1</th>\n",
              "      <th>prior_day-2</th>\n",
              "      <th>prior_day-3</th>\n",
              "      <th>prior_day-4</th>\n",
              "    </tr>\n",
              "  </thead>\n",
              "  <tbody>\n",
              "    <tr>\n",
              "      <th>0</th>\n",
              "      <td>437.59</td>\n",
              "      <td>2021-08-02</td>\n",
              "      <td>0</td>\n",
              "      <td>214</td>\n",
              "      <td>31</td>\n",
              "      <td>8</td>\n",
              "      <td>3</td>\n",
              "      <td>-0.92</td>\n",
              "      <td>-3.06</td>\n",
              "      <td>-1.24</td>\n",
              "      <td>-1.42</td>\n",
              "      <td>-3.43</td>\n",
              "      <td>0</td>\n",
              "      <td>0</td>\n",
              "      <td>0</td>\n",
              "      <td>0</td>\n",
              "      <td>0</td>\n",
              "      <td>0</td>\n",
              "      <td>-0.92</td>\n",
              "      <td>-2.14</td>\n",
              "      <td>1.82</td>\n",
              "      <td>-0.18</td>\n",
              "      <td>-2.01</td>\n",
              "    </tr>\n",
              "    <tr>\n",
              "      <th>1</th>\n",
              "      <td>438.51</td>\n",
              "      <td>2021-07-30</td>\n",
              "      <td>4</td>\n",
              "      <td>211</td>\n",
              "      <td>30</td>\n",
              "      <td>7</td>\n",
              "      <td>3</td>\n",
              "      <td>-2.14</td>\n",
              "      <td>-0.32</td>\n",
              "      <td>-0.50</td>\n",
              "      <td>-2.51</td>\n",
              "      <td>-1.43</td>\n",
              "      <td>0</td>\n",
              "      <td>0</td>\n",
              "      <td>0</td>\n",
              "      <td>0</td>\n",
              "      <td>0</td>\n",
              "      <td>0</td>\n",
              "      <td>-2.14</td>\n",
              "      <td>1.82</td>\n",
              "      <td>-0.18</td>\n",
              "      <td>-2.01</td>\n",
              "      <td>1.08</td>\n",
              "    </tr>\n",
              "    <tr>\n",
              "      <th>2</th>\n",
              "      <td>440.65</td>\n",
              "      <td>2021-07-29</td>\n",
              "      <td>3</td>\n",
              "      <td>210</td>\n",
              "      <td>30</td>\n",
              "      <td>7</td>\n",
              "      <td>3</td>\n",
              "      <td>1.82</td>\n",
              "      <td>1.64</td>\n",
              "      <td>-0.37</td>\n",
              "      <td>0.71</td>\n",
              "      <td>5.19</td>\n",
              "      <td>1</td>\n",
              "      <td>1</td>\n",
              "      <td>0</td>\n",
              "      <td>1</td>\n",
              "      <td>1</td>\n",
              "      <td>4</td>\n",
              "      <td>1.82</td>\n",
              "      <td>-0.18</td>\n",
              "      <td>-2.01</td>\n",
              "      <td>1.08</td>\n",
              "      <td>4.48</td>\n",
              "    </tr>\n",
              "    <tr>\n",
              "      <th>3</th>\n",
              "      <td>438.83</td>\n",
              "      <td>2021-07-28</td>\n",
              "      <td>2</td>\n",
              "      <td>209</td>\n",
              "      <td>30</td>\n",
              "      <td>7</td>\n",
              "      <td>3</td>\n",
              "      <td>-0.18</td>\n",
              "      <td>-2.19</td>\n",
              "      <td>-1.11</td>\n",
              "      <td>3.37</td>\n",
              "      <td>4.28</td>\n",
              "      <td>0</td>\n",
              "      <td>0</td>\n",
              "      <td>0</td>\n",
              "      <td>1</td>\n",
              "      <td>1</td>\n",
              "      <td>2</td>\n",
              "      <td>-0.18</td>\n",
              "      <td>-2.01</td>\n",
              "      <td>1.08</td>\n",
              "      <td>4.48</td>\n",
              "      <td>0.91</td>\n",
              "    </tr>\n",
              "    <tr>\n",
              "      <th>4</th>\n",
              "      <td>439.01</td>\n",
              "      <td>2021-07-27</td>\n",
              "      <td>1</td>\n",
              "      <td>208</td>\n",
              "      <td>30</td>\n",
              "      <td>7</td>\n",
              "      <td>3</td>\n",
              "      <td>-2.01</td>\n",
              "      <td>-0.93</td>\n",
              "      <td>3.55</td>\n",
              "      <td>4.46</td>\n",
              "      <td>7.95</td>\n",
              "      <td>0</td>\n",
              "      <td>0</td>\n",
              "      <td>1</td>\n",
              "      <td>1</td>\n",
              "      <td>1</td>\n",
              "      <td>3</td>\n",
              "      <td>-2.01</td>\n",
              "      <td>1.08</td>\n",
              "      <td>4.48</td>\n",
              "      <td>0.91</td>\n",
              "      <td>3.49</td>\n",
              "    </tr>\n",
              "  </tbody>\n",
              "</table>\n",
              "</div>"
            ],
            "text/plain": [
              "    Close       Date  DOW  ...  prior_day-2  prior_day-3  prior_day-4\n",
              "0  437.59 2021-08-02    0  ...         1.82        -0.18        -2.01\n",
              "1  438.51 2021-07-30    4  ...        -0.18        -2.01         1.08\n",
              "2  440.65 2021-07-29    3  ...        -2.01         1.08         4.48\n",
              "3  438.83 2021-07-28    2  ...         1.08         4.48         0.91\n",
              "4  439.01 2021-07-27    1  ...         4.48         0.91         3.49\n",
              "\n",
              "[5 rows x 23 columns]"
            ]
          },
          "metadata": {
            "tags": []
          },
          "execution_count": 131
        }
      ]
    },
    {
      "cell_type": "markdown",
      "metadata": {
        "id": "6Pj-PFciR9O7"
      },
      "source": [
        "#Create binary version of daily gain loss values\n",
        "\n",
        "This process changes all gain loss continuous variables into a binary-descrete (dichotomous) variables\n",
        "\n",
        "!Note - This process should be converted into the previous process when that process is converted into a loop"
      ]
    },
    {
      "cell_type": "code",
      "metadata": {
        "colab": {
          "base_uri": "https://localhost:8080/",
          "height": 324
        },
        "id": "HsobZVYEC0-h",
        "outputId": "6634aa8b-bf48-4916-ae93-7589ab0c0e75"
      },
      "source": [
        "dataset['prior_day-0b'] = np.where(dataset['prior_day-0'] > 0, 1, 0)\n",
        "dataset['prior_day-1b'] = np.where(dataset['prior_day-1'] > 0, 1, 0)\n",
        "dataset['prior_day-2b'] = np.where(dataset['prior_day-2'] > 0, 1, 0)\n",
        "dataset['prior_day-3b'] = np.where(dataset['prior_day-3'] > 0, 1, 0)\n",
        "dataset['prior_day-4b'] = np.where(dataset['prior_day-4'] > 0, 1, 0)\n",
        "dataset.head()"
      ],
      "execution_count": null,
      "outputs": [
        {
          "output_type": "execute_result",
          "data": {
            "text/html": [
              "<div>\n",
              "<style scoped>\n",
              "    .dataframe tbody tr th:only-of-type {\n",
              "        vertical-align: middle;\n",
              "    }\n",
              "\n",
              "    .dataframe tbody tr th {\n",
              "        vertical-align: top;\n",
              "    }\n",
              "\n",
              "    .dataframe thead th {\n",
              "        text-align: right;\n",
              "    }\n",
              "</style>\n",
              "<table border=\"1\" class=\"dataframe\">\n",
              "  <thead>\n",
              "    <tr style=\"text-align: right;\">\n",
              "      <th></th>\n",
              "      <th>Close</th>\n",
              "      <th>Date</th>\n",
              "      <th>DOW</th>\n",
              "      <th>DOY</th>\n",
              "      <th>Week</th>\n",
              "      <th>Month</th>\n",
              "      <th>Quarter</th>\n",
              "      <th>gain_loss-0</th>\n",
              "      <th>gain_loss-1</th>\n",
              "      <th>gain_loss-2</th>\n",
              "      <th>gain_loss-3</th>\n",
              "      <th>gain_loss-4</th>\n",
              "      <th>gain_loss-0b</th>\n",
              "      <th>gain_loss-1b</th>\n",
              "      <th>gain_loss-2b</th>\n",
              "      <th>gain_loss-3b</th>\n",
              "      <th>gain_loss-4b</th>\n",
              "      <th>gain_loss-total_b</th>\n",
              "      <th>prior_day-0</th>\n",
              "      <th>prior_day-1</th>\n",
              "      <th>prior_day-2</th>\n",
              "      <th>prior_day-3</th>\n",
              "      <th>prior_day-4</th>\n",
              "      <th>prior_day-0b</th>\n",
              "      <th>prior_day-1b</th>\n",
              "      <th>prior_day-2b</th>\n",
              "      <th>prior_day-3b</th>\n",
              "      <th>prior_day-4b</th>\n",
              "    </tr>\n",
              "  </thead>\n",
              "  <tbody>\n",
              "    <tr>\n",
              "      <th>0</th>\n",
              "      <td>437.59</td>\n",
              "      <td>2021-08-02</td>\n",
              "      <td>0</td>\n",
              "      <td>214</td>\n",
              "      <td>31</td>\n",
              "      <td>8</td>\n",
              "      <td>3</td>\n",
              "      <td>-0.92</td>\n",
              "      <td>-3.06</td>\n",
              "      <td>-1.24</td>\n",
              "      <td>-1.42</td>\n",
              "      <td>-3.43</td>\n",
              "      <td>0</td>\n",
              "      <td>0</td>\n",
              "      <td>0</td>\n",
              "      <td>0</td>\n",
              "      <td>0</td>\n",
              "      <td>0</td>\n",
              "      <td>-0.92</td>\n",
              "      <td>-2.14</td>\n",
              "      <td>1.82</td>\n",
              "      <td>-0.18</td>\n",
              "      <td>-2.01</td>\n",
              "      <td>0</td>\n",
              "      <td>0</td>\n",
              "      <td>1</td>\n",
              "      <td>0</td>\n",
              "      <td>0</td>\n",
              "    </tr>\n",
              "    <tr>\n",
              "      <th>1</th>\n",
              "      <td>438.51</td>\n",
              "      <td>2021-07-30</td>\n",
              "      <td>4</td>\n",
              "      <td>211</td>\n",
              "      <td>30</td>\n",
              "      <td>7</td>\n",
              "      <td>3</td>\n",
              "      <td>-2.14</td>\n",
              "      <td>-0.32</td>\n",
              "      <td>-0.50</td>\n",
              "      <td>-2.51</td>\n",
              "      <td>-1.43</td>\n",
              "      <td>0</td>\n",
              "      <td>0</td>\n",
              "      <td>0</td>\n",
              "      <td>0</td>\n",
              "      <td>0</td>\n",
              "      <td>0</td>\n",
              "      <td>-2.14</td>\n",
              "      <td>1.82</td>\n",
              "      <td>-0.18</td>\n",
              "      <td>-2.01</td>\n",
              "      <td>1.08</td>\n",
              "      <td>0</td>\n",
              "      <td>1</td>\n",
              "      <td>0</td>\n",
              "      <td>0</td>\n",
              "      <td>1</td>\n",
              "    </tr>\n",
              "    <tr>\n",
              "      <th>2</th>\n",
              "      <td>440.65</td>\n",
              "      <td>2021-07-29</td>\n",
              "      <td>3</td>\n",
              "      <td>210</td>\n",
              "      <td>30</td>\n",
              "      <td>7</td>\n",
              "      <td>3</td>\n",
              "      <td>1.82</td>\n",
              "      <td>1.64</td>\n",
              "      <td>-0.37</td>\n",
              "      <td>0.71</td>\n",
              "      <td>5.19</td>\n",
              "      <td>1</td>\n",
              "      <td>1</td>\n",
              "      <td>0</td>\n",
              "      <td>1</td>\n",
              "      <td>1</td>\n",
              "      <td>4</td>\n",
              "      <td>1.82</td>\n",
              "      <td>-0.18</td>\n",
              "      <td>-2.01</td>\n",
              "      <td>1.08</td>\n",
              "      <td>4.48</td>\n",
              "      <td>1</td>\n",
              "      <td>0</td>\n",
              "      <td>0</td>\n",
              "      <td>1</td>\n",
              "      <td>1</td>\n",
              "    </tr>\n",
              "    <tr>\n",
              "      <th>3</th>\n",
              "      <td>438.83</td>\n",
              "      <td>2021-07-28</td>\n",
              "      <td>2</td>\n",
              "      <td>209</td>\n",
              "      <td>30</td>\n",
              "      <td>7</td>\n",
              "      <td>3</td>\n",
              "      <td>-0.18</td>\n",
              "      <td>-2.19</td>\n",
              "      <td>-1.11</td>\n",
              "      <td>3.37</td>\n",
              "      <td>4.28</td>\n",
              "      <td>0</td>\n",
              "      <td>0</td>\n",
              "      <td>0</td>\n",
              "      <td>1</td>\n",
              "      <td>1</td>\n",
              "      <td>2</td>\n",
              "      <td>-0.18</td>\n",
              "      <td>-2.01</td>\n",
              "      <td>1.08</td>\n",
              "      <td>4.48</td>\n",
              "      <td>0.91</td>\n",
              "      <td>0</td>\n",
              "      <td>0</td>\n",
              "      <td>1</td>\n",
              "      <td>1</td>\n",
              "      <td>1</td>\n",
              "    </tr>\n",
              "    <tr>\n",
              "      <th>4</th>\n",
              "      <td>439.01</td>\n",
              "      <td>2021-07-27</td>\n",
              "      <td>1</td>\n",
              "      <td>208</td>\n",
              "      <td>30</td>\n",
              "      <td>7</td>\n",
              "      <td>3</td>\n",
              "      <td>-2.01</td>\n",
              "      <td>-0.93</td>\n",
              "      <td>3.55</td>\n",
              "      <td>4.46</td>\n",
              "      <td>7.95</td>\n",
              "      <td>0</td>\n",
              "      <td>0</td>\n",
              "      <td>1</td>\n",
              "      <td>1</td>\n",
              "      <td>1</td>\n",
              "      <td>3</td>\n",
              "      <td>-2.01</td>\n",
              "      <td>1.08</td>\n",
              "      <td>4.48</td>\n",
              "      <td>0.91</td>\n",
              "      <td>3.49</td>\n",
              "      <td>0</td>\n",
              "      <td>1</td>\n",
              "      <td>1</td>\n",
              "      <td>1</td>\n",
              "      <td>1</td>\n",
              "    </tr>\n",
              "  </tbody>\n",
              "</table>\n",
              "</div>"
            ],
            "text/plain": [
              "    Close       Date  DOW  ...  prior_day-2b  prior_day-3b  prior_day-4b\n",
              "0  437.59 2021-08-02    0  ...             1             0             0\n",
              "1  438.51 2021-07-30    4  ...             0             0             1\n",
              "2  440.65 2021-07-29    3  ...             0             1             1\n",
              "3  438.83 2021-07-28    2  ...             1             1             1\n",
              "4  439.01 2021-07-27    1  ...             1             1             1\n",
              "\n",
              "[5 rows x 28 columns]"
            ]
          },
          "metadata": {
            "tags": []
          },
          "execution_count": 132
        }
      ]
    },
    {
      "cell_type": "markdown",
      "metadata": {
        "id": "exCULdkeSyFf"
      },
      "source": [
        "#Aggregate the binary daily gain loss values\n",
        "\n",
        "This creates a true categorical value from the binary descrete values.\n",
        "\n",
        "The theory is that, having binary values for each period (sparce matrix) and an aggregate (categorical), the values will work together to increase the value of this data\n",
        "\n",
        "!Note = This process should be indluded in the loop mentioned in notes from the above process (future modifications to the data pre-processing procedures)"
      ]
    },
    {
      "cell_type": "code",
      "metadata": {
        "colab": {
          "base_uri": "https://localhost:8080/",
          "height": 324
        },
        "id": "yTrfNFhlEdjr",
        "outputId": "ef56af41-f550-466d-cdf0-74aa1bbbb288"
      },
      "source": [
        "dataset['prior_day-total_b'] = dataset['prior_day-0b'] + dataset['prior_day-1b'] + dataset['prior_day-2b'] + dataset['prior_day-3b'] + dataset['prior_day-4b'] \n",
        "dataset.head(5)"
      ],
      "execution_count": null,
      "outputs": [
        {
          "output_type": "execute_result",
          "data": {
            "text/html": [
              "<div>\n",
              "<style scoped>\n",
              "    .dataframe tbody tr th:only-of-type {\n",
              "        vertical-align: middle;\n",
              "    }\n",
              "\n",
              "    .dataframe tbody tr th {\n",
              "        vertical-align: top;\n",
              "    }\n",
              "\n",
              "    .dataframe thead th {\n",
              "        text-align: right;\n",
              "    }\n",
              "</style>\n",
              "<table border=\"1\" class=\"dataframe\">\n",
              "  <thead>\n",
              "    <tr style=\"text-align: right;\">\n",
              "      <th></th>\n",
              "      <th>Close</th>\n",
              "      <th>Date</th>\n",
              "      <th>DOW</th>\n",
              "      <th>DOY</th>\n",
              "      <th>Week</th>\n",
              "      <th>Month</th>\n",
              "      <th>Quarter</th>\n",
              "      <th>gain_loss-0</th>\n",
              "      <th>gain_loss-1</th>\n",
              "      <th>gain_loss-2</th>\n",
              "      <th>gain_loss-3</th>\n",
              "      <th>gain_loss-4</th>\n",
              "      <th>gain_loss-0b</th>\n",
              "      <th>gain_loss-1b</th>\n",
              "      <th>gain_loss-2b</th>\n",
              "      <th>gain_loss-3b</th>\n",
              "      <th>gain_loss-4b</th>\n",
              "      <th>gain_loss-total_b</th>\n",
              "      <th>prior_day-0</th>\n",
              "      <th>prior_day-1</th>\n",
              "      <th>prior_day-2</th>\n",
              "      <th>prior_day-3</th>\n",
              "      <th>prior_day-4</th>\n",
              "      <th>prior_day-0b</th>\n",
              "      <th>prior_day-1b</th>\n",
              "      <th>prior_day-2b</th>\n",
              "      <th>prior_day-3b</th>\n",
              "      <th>prior_day-4b</th>\n",
              "      <th>prior_day-total_b</th>\n",
              "    </tr>\n",
              "  </thead>\n",
              "  <tbody>\n",
              "    <tr>\n",
              "      <th>0</th>\n",
              "      <td>437.59</td>\n",
              "      <td>2021-08-02</td>\n",
              "      <td>0</td>\n",
              "      <td>214</td>\n",
              "      <td>31</td>\n",
              "      <td>8</td>\n",
              "      <td>3</td>\n",
              "      <td>-0.92</td>\n",
              "      <td>-3.06</td>\n",
              "      <td>-1.24</td>\n",
              "      <td>-1.42</td>\n",
              "      <td>-3.43</td>\n",
              "      <td>0</td>\n",
              "      <td>0</td>\n",
              "      <td>0</td>\n",
              "      <td>0</td>\n",
              "      <td>0</td>\n",
              "      <td>0</td>\n",
              "      <td>-0.92</td>\n",
              "      <td>-2.14</td>\n",
              "      <td>1.82</td>\n",
              "      <td>-0.18</td>\n",
              "      <td>-2.01</td>\n",
              "      <td>0</td>\n",
              "      <td>0</td>\n",
              "      <td>1</td>\n",
              "      <td>0</td>\n",
              "      <td>0</td>\n",
              "      <td>1</td>\n",
              "    </tr>\n",
              "    <tr>\n",
              "      <th>1</th>\n",
              "      <td>438.51</td>\n",
              "      <td>2021-07-30</td>\n",
              "      <td>4</td>\n",
              "      <td>211</td>\n",
              "      <td>30</td>\n",
              "      <td>7</td>\n",
              "      <td>3</td>\n",
              "      <td>-2.14</td>\n",
              "      <td>-0.32</td>\n",
              "      <td>-0.50</td>\n",
              "      <td>-2.51</td>\n",
              "      <td>-1.43</td>\n",
              "      <td>0</td>\n",
              "      <td>0</td>\n",
              "      <td>0</td>\n",
              "      <td>0</td>\n",
              "      <td>0</td>\n",
              "      <td>0</td>\n",
              "      <td>-2.14</td>\n",
              "      <td>1.82</td>\n",
              "      <td>-0.18</td>\n",
              "      <td>-2.01</td>\n",
              "      <td>1.08</td>\n",
              "      <td>0</td>\n",
              "      <td>1</td>\n",
              "      <td>0</td>\n",
              "      <td>0</td>\n",
              "      <td>1</td>\n",
              "      <td>2</td>\n",
              "    </tr>\n",
              "    <tr>\n",
              "      <th>2</th>\n",
              "      <td>440.65</td>\n",
              "      <td>2021-07-29</td>\n",
              "      <td>3</td>\n",
              "      <td>210</td>\n",
              "      <td>30</td>\n",
              "      <td>7</td>\n",
              "      <td>3</td>\n",
              "      <td>1.82</td>\n",
              "      <td>1.64</td>\n",
              "      <td>-0.37</td>\n",
              "      <td>0.71</td>\n",
              "      <td>5.19</td>\n",
              "      <td>1</td>\n",
              "      <td>1</td>\n",
              "      <td>0</td>\n",
              "      <td>1</td>\n",
              "      <td>1</td>\n",
              "      <td>4</td>\n",
              "      <td>1.82</td>\n",
              "      <td>-0.18</td>\n",
              "      <td>-2.01</td>\n",
              "      <td>1.08</td>\n",
              "      <td>4.48</td>\n",
              "      <td>1</td>\n",
              "      <td>0</td>\n",
              "      <td>0</td>\n",
              "      <td>1</td>\n",
              "      <td>1</td>\n",
              "      <td>3</td>\n",
              "    </tr>\n",
              "    <tr>\n",
              "      <th>3</th>\n",
              "      <td>438.83</td>\n",
              "      <td>2021-07-28</td>\n",
              "      <td>2</td>\n",
              "      <td>209</td>\n",
              "      <td>30</td>\n",
              "      <td>7</td>\n",
              "      <td>3</td>\n",
              "      <td>-0.18</td>\n",
              "      <td>-2.19</td>\n",
              "      <td>-1.11</td>\n",
              "      <td>3.37</td>\n",
              "      <td>4.28</td>\n",
              "      <td>0</td>\n",
              "      <td>0</td>\n",
              "      <td>0</td>\n",
              "      <td>1</td>\n",
              "      <td>1</td>\n",
              "      <td>2</td>\n",
              "      <td>-0.18</td>\n",
              "      <td>-2.01</td>\n",
              "      <td>1.08</td>\n",
              "      <td>4.48</td>\n",
              "      <td>0.91</td>\n",
              "      <td>0</td>\n",
              "      <td>0</td>\n",
              "      <td>1</td>\n",
              "      <td>1</td>\n",
              "      <td>1</td>\n",
              "      <td>3</td>\n",
              "    </tr>\n",
              "    <tr>\n",
              "      <th>4</th>\n",
              "      <td>439.01</td>\n",
              "      <td>2021-07-27</td>\n",
              "      <td>1</td>\n",
              "      <td>208</td>\n",
              "      <td>30</td>\n",
              "      <td>7</td>\n",
              "      <td>3</td>\n",
              "      <td>-2.01</td>\n",
              "      <td>-0.93</td>\n",
              "      <td>3.55</td>\n",
              "      <td>4.46</td>\n",
              "      <td>7.95</td>\n",
              "      <td>0</td>\n",
              "      <td>0</td>\n",
              "      <td>1</td>\n",
              "      <td>1</td>\n",
              "      <td>1</td>\n",
              "      <td>3</td>\n",
              "      <td>-2.01</td>\n",
              "      <td>1.08</td>\n",
              "      <td>4.48</td>\n",
              "      <td>0.91</td>\n",
              "      <td>3.49</td>\n",
              "      <td>0</td>\n",
              "      <td>1</td>\n",
              "      <td>1</td>\n",
              "      <td>1</td>\n",
              "      <td>1</td>\n",
              "      <td>4</td>\n",
              "    </tr>\n",
              "  </tbody>\n",
              "</table>\n",
              "</div>"
            ],
            "text/plain": [
              "    Close       Date  DOW  ...  prior_day-3b  prior_day-4b  prior_day-total_b\n",
              "0  437.59 2021-08-02    0  ...             0             0                  1\n",
              "1  438.51 2021-07-30    4  ...             0             1                  2\n",
              "2  440.65 2021-07-29    3  ...             1             1                  3\n",
              "3  438.83 2021-07-28    2  ...             1             1                  3\n",
              "4  439.01 2021-07-27    1  ...             1             1                  4\n",
              "\n",
              "[5 rows x 29 columns]"
            ]
          },
          "metadata": {
            "tags": []
          },
          "execution_count": 133
        }
      ]
    },
    {
      "cell_type": "markdown",
      "metadata": {
        "id": "6zm1v4LebGn_"
      },
      "source": [
        "#Creating Rolling mean attribute values\n",
        "\n",
        "Rolling mean values are based on daily gain loss and represent the trending direction of the prior n mean values (5, 10, 15, n, row mean values)\n",
        "\n",
        "the rolling mean works from the top row down - for exampple the mean of row 1 and 2 would appear on row 2. We need the mean of row 1 and 2 to land on row 1. This requires us to reverse the index of each desired mean column. The process to do this creates pandas value lists\n",
        "\n",
        "!Note: this process can convert into a loop  where n = list of n mean values (as described in the description above)"
      ]
    },
    {
      "cell_type": "code",
      "metadata": {
        "id": "SQhGpsmoGNwh",
        "colab": {
          "base_uri": "https://localhost:8080/"
        },
        "outputId": "c28ff729-416b-428a-e843-2e949ddbcddb"
      },
      "source": [
        "#Rolling averages based on prior day gain loss\n",
        "rolling_prior_day = dataset['prior_day-0']\n",
        "\n",
        "rolling_prior_day_5 = rolling_prior_day[::-1].rolling(5).mean()[::-1]\n",
        "rolling_prior_day_10 = rolling_prior_day[::-1].rolling(10).mean()[::-1]\n",
        "rolling_prior_day_15 = rolling_prior_day[::-1].rolling(15).mean()[::-1]\n",
        "rolling_prior_day_20 = rolling_prior_day[::-1].rolling(20).mean()[::-1]\n",
        "rolling_prior_day_25 = rolling_prior_day[::-1].rolling(25).mean()[::-1]\n",
        "rolling_prior_day_30 = rolling_prior_day[::-1].rolling(30).mean()[::-1]\n",
        "\n",
        "#rolling_prior_day_5 = pd.DataFrame({'rolling_prior_day_5': prior_day-0})\n",
        "\n",
        "# Need to rename columns so the ouput matrix will look right\n",
        "\n",
        "print(rolling_prior_day_10)"
      ],
      "execution_count": null,
      "outputs": [
        {
          "output_type": "stream",
          "text": [
            "0       1.262\n",
            "1       0.717\n",
            "2       0.590\n",
            "3       0.259\n",
            "4       0.342\n",
            "        ...  \n",
            "1400      NaN\n",
            "1401      NaN\n",
            "1402      NaN\n",
            "1403      NaN\n",
            "1404      NaN\n",
            "Name: prior_day-0, Length: 1405, dtype: float64\n"
          ],
          "name": "stdout"
        }
      ]
    },
    {
      "cell_type": "markdown",
      "metadata": {
        "id": "9pdzrEwtnwC7"
      },
      "source": [
        "#Create close variance variable and binary\n",
        "\n",
        "Close variance uses a rolling averages of n days (Close attribute) minus the row's Close value. This indicates when the market is falling below a rolling average. \n",
        "\n",
        "The binary is calculated based on 1 = >0 and 0<0"
      ]
    },
    {
      "cell_type": "code",
      "metadata": {
        "colab": {
          "base_uri": "https://localhost:8080/"
        },
        "id": "6Pl9eWXznvY7",
        "outputId": "1d163b16-8267-4537-bbdc-98114cef2436"
      },
      "source": [
        "rolling_close = dataset['Close']\n",
        "#rolling_close_x = (rolling_close[::-1].rolling(x).mean()[::-1]) #left this in for reference\n",
        "rolling_close_3 = rolling_close - (rolling_close[::-1].rolling(3).mean()[::-1])\n",
        "rolling_close_6 = rolling_close - (rolling_close[::-1].rolling(6).mean()[::-1])\n",
        "rolling_close_9 = rolling_close - (rolling_close[::-1].rolling(9).mean()[::-1])\n",
        "rolling_close_12 = rolling_close - (rolling_close[::-1].rolling(12).mean()[::-1])\n",
        "rolling_close_15 = rolling_close - (rolling_close[::-1].rolling(15).mean()[::-1])\n",
        "rolling_close_18 = rolling_close - (rolling_close[::-1].rolling(18).mean()[::-1])\n",
        "rolling_close_21 = rolling_close - (rolling_close[::-1].rolling(21).mean()[::-1])\n",
        "\n",
        "rolling_close_3b = pd.DataFrame({'rolling_close_3b': np.where(rolling_close_3 > 0, 1, 0)})\n",
        "rolling_close_6b = pd.DataFrame({'rolling_close_6b': np.where(rolling_close_6 > 0, 1, 0)})\n",
        "rolling_close_9b = pd.DataFrame({'rolling_close_9b': np.where(rolling_close_9 > 0, 1, 0)})\n",
        "rolling_close_12b = pd.DataFrame({'rolling_close_12b': np.where(rolling_close_12 > 0, 1, 0)})\n",
        "rolling_close_15b = pd.DataFrame({'rolling_close_15b': np.where(rolling_close_15 > 0, 1, 0)})\n",
        "rolling_close_18b = pd.DataFrame({'rolling_close_18b': np.where(rolling_close_18 > 0, 1, 0)})\n",
        "rolling_close_21b = pd.DataFrame({'rolling_close_21b': np.where(rolling_close_21 > 0, 1, 0)})\n",
        "\n",
        "rolling_close_3 = pd.DataFrame({'rolling_close_3': rolling_close_3})\n",
        "rolling_close_6 = pd.DataFrame({'rolling_close_6': rolling_close_6})\n",
        "rolling_close_9 = pd.DataFrame({'rolling_close_9': rolling_close_9})\n",
        "rolling_close_12 = pd.DataFrame({'rolling_close_12': rolling_close_12})\n",
        "rolling_close_15 = pd.DataFrame({'rolling_close_15': rolling_close_15})\n",
        "rolling_close_18 = pd.DataFrame({'rolling_close_18': rolling_close_18})\n",
        "rolling_close_21 = pd.DataFrame({'rolling_close_21': rolling_close_21})\n",
        "\n",
        "print(rolling_close_3)"
      ],
      "execution_count": null,
      "outputs": [
        {
          "output_type": "stream",
          "text": [
            "      rolling_close_3\n",
            "0           -1.326667\n",
            "1           -0.820000\n",
            "2            1.153333\n",
            "3           -0.790000\n",
            "4           -0.980000\n",
            "...               ...\n",
            "1400        -3.008000\n",
            "1401        -4.026667\n",
            "1402        -1.579733\n",
            "1403              NaN\n",
            "1404              NaN\n",
            "\n",
            "[1405 rows x 1 columns]\n"
          ],
          "name": "stdout"
        }
      ]
    },
    {
      "cell_type": "markdown",
      "metadata": {
        "id": "ngV7eCC6uLu2"
      },
      "source": [
        "#Add Rolling Mean attributes to dataset\n",
        "\n",
        "This is a normal concat funtion"
      ]
    },
    {
      "cell_type": "code",
      "metadata": {
        "colab": {
          "base_uri": "https://localhost:8080/"
        },
        "id": "2MBWu0oDuKPp",
        "outputId": "e82ac460-f720-4c6b-e2e0-e46af3830c7d"
      },
      "source": [
        "dataset = pd.concat([dataset,\n",
        "                       rolling_close_3, \n",
        "                       rolling_close_6, \n",
        "                       rolling_close_9, \n",
        "                       rolling_close_12, \n",
        "                       rolling_close_15, \n",
        "                       rolling_close_18, \n",
        "                       rolling_close_21, \n",
        "                       rolling_close_3b, \n",
        "                       rolling_close_6b, \n",
        "                       rolling_close_9b,\n",
        "                       rolling_close_12b, \n",
        "                       rolling_close_15b, \n",
        "                       rolling_close_18b, \n",
        "                       rolling_close_21b\n",
        "                       ], axis = 1)\n",
        "\n",
        "print(dataset)"
      ],
      "execution_count": null,
      "outputs": [
        {
          "output_type": "stream",
          "text": [
            "         Close       Date  ...  rolling_close_18b  rolling_close_21b\n",
            "0     437.5900 2021-08-02  ...                  1                  1\n",
            "1     438.5100 2021-07-30  ...                  1                  1\n",
            "2     440.6500 2021-07-29  ...                  1                  1\n",
            "3     438.8300 2021-07-28  ...                  1                  1\n",
            "4     439.0100 2021-07-27  ...                  1                  1\n",
            "...        ...        ...  ...                ...                ...\n",
            "1400  191.9230 2016-01-08  ...                  0                  0\n",
            "1401  194.0500 2016-01-07  ...                  0                  0\n",
            "1402  198.8200 2016-01-06  ...                  0                  0\n",
            "1403  201.3600 2016-01-05  ...                  0                  0\n",
            "1404  201.0192 2016-01-04  ...                  0                  0\n",
            "\n",
            "[1405 rows x 43 columns]\n"
          ],
          "name": "stdout"
        }
      ]
    },
    {
      "cell_type": "code",
      "metadata": {
        "colab": {
          "base_uri": "https://localhost:8080/",
          "height": 134
        },
        "id": "xja_0Gf_5H9R",
        "outputId": "5a1667d8-bc61-491c-d11e-abecfa857e43"
      },
      "source": [
        "dataset.head(1)\n"
      ],
      "execution_count": null,
      "outputs": [
        {
          "output_type": "execute_result",
          "data": {
            "text/html": [
              "<div>\n",
              "<style scoped>\n",
              "    .dataframe tbody tr th:only-of-type {\n",
              "        vertical-align: middle;\n",
              "    }\n",
              "\n",
              "    .dataframe tbody tr th {\n",
              "        vertical-align: top;\n",
              "    }\n",
              "\n",
              "    .dataframe thead th {\n",
              "        text-align: right;\n",
              "    }\n",
              "</style>\n",
              "<table border=\"1\" class=\"dataframe\">\n",
              "  <thead>\n",
              "    <tr style=\"text-align: right;\">\n",
              "      <th></th>\n",
              "      <th>Close</th>\n",
              "      <th>Date</th>\n",
              "      <th>DOW</th>\n",
              "      <th>DOY</th>\n",
              "      <th>Week</th>\n",
              "      <th>Month</th>\n",
              "      <th>Quarter</th>\n",
              "      <th>gain_loss-0</th>\n",
              "      <th>gain_loss-1</th>\n",
              "      <th>gain_loss-2</th>\n",
              "      <th>gain_loss-3</th>\n",
              "      <th>gain_loss-4</th>\n",
              "      <th>gain_loss-0b</th>\n",
              "      <th>gain_loss-1b</th>\n",
              "      <th>gain_loss-2b</th>\n",
              "      <th>gain_loss-3b</th>\n",
              "      <th>gain_loss-4b</th>\n",
              "      <th>gain_loss-total_b</th>\n",
              "      <th>prior_day-0</th>\n",
              "      <th>prior_day-1</th>\n",
              "      <th>prior_day-2</th>\n",
              "      <th>prior_day-3</th>\n",
              "      <th>prior_day-4</th>\n",
              "      <th>prior_day-0b</th>\n",
              "      <th>prior_day-1b</th>\n",
              "      <th>prior_day-2b</th>\n",
              "      <th>prior_day-3b</th>\n",
              "      <th>prior_day-4b</th>\n",
              "      <th>prior_day-total_b</th>\n",
              "      <th>rolling_close_3</th>\n",
              "      <th>rolling_close_6</th>\n",
              "      <th>rolling_close_9</th>\n",
              "      <th>rolling_close_12</th>\n",
              "      <th>rolling_close_15</th>\n",
              "      <th>rolling_close_18</th>\n",
              "      <th>rolling_close_21</th>\n",
              "      <th>rolling_close_3b</th>\n",
              "      <th>rolling_close_6b</th>\n",
              "      <th>rolling_close_9b</th>\n",
              "      <th>rolling_close_12b</th>\n",
              "      <th>rolling_close_15b</th>\n",
              "      <th>rolling_close_18b</th>\n",
              "      <th>rolling_close_21b</th>\n",
              "    </tr>\n",
              "  </thead>\n",
              "  <tbody>\n",
              "    <tr>\n",
              "      <th>0</th>\n",
              "      <td>437.59</td>\n",
              "      <td>2021-08-02</td>\n",
              "      <td>0</td>\n",
              "      <td>214</td>\n",
              "      <td>31</td>\n",
              "      <td>8</td>\n",
              "      <td>3</td>\n",
              "      <td>-0.92</td>\n",
              "      <td>-3.06</td>\n",
              "      <td>-1.24</td>\n",
              "      <td>-1.42</td>\n",
              "      <td>-3.43</td>\n",
              "      <td>0</td>\n",
              "      <td>0</td>\n",
              "      <td>0</td>\n",
              "      <td>0</td>\n",
              "      <td>0</td>\n",
              "      <td>0</td>\n",
              "      <td>-0.92</td>\n",
              "      <td>-2.14</td>\n",
              "      <td>1.82</td>\n",
              "      <td>-0.18</td>\n",
              "      <td>-2.01</td>\n",
              "      <td>0</td>\n",
              "      <td>0</td>\n",
              "      <td>1</td>\n",
              "      <td>0</td>\n",
              "      <td>0</td>\n",
              "      <td>1</td>\n",
              "      <td>-1.326667</td>\n",
              "      <td>-1.678333</td>\n",
              "      <td>-0.805556</td>\n",
              "      <td>1.5125</td>\n",
              "      <td>1.622667</td>\n",
              "      <td>1.866111</td>\n",
              "      <td>2.154762</td>\n",
              "      <td>0</td>\n",
              "      <td>0</td>\n",
              "      <td>0</td>\n",
              "      <td>1</td>\n",
              "      <td>1</td>\n",
              "      <td>1</td>\n",
              "      <td>1</td>\n",
              "    </tr>\n",
              "  </tbody>\n",
              "</table>\n",
              "</div>"
            ],
            "text/plain": [
              "    Close       Date  ...  rolling_close_18b  rolling_close_21b\n",
              "0  437.59 2021-08-02  ...                  1                  1\n",
              "\n",
              "[1 rows x 43 columns]"
            ]
          },
          "metadata": {
            "tags": []
          },
          "execution_count": 137
        }
      ]
    },
    {
      "cell_type": "markdown",
      "metadata": {
        "id": "FHexBzYkzqXD"
      },
      "source": [
        "#Create aggregate of rolling close binary\n",
        "\n",
        "This is simply a sum of all rolling close binary values"
      ]
    },
    {
      "cell_type": "code",
      "metadata": {
        "colab": {
          "base_uri": "https://localhost:8080/",
          "height": 622
        },
        "id": "LJtisVGCzqQg",
        "outputId": "92e17d5d-2868-437a-a879-be1f45467d61"
      },
      "source": [
        "rolling_close_total_b =  (dataset['rolling_close_3b'] + \n",
        "                                     dataset['rolling_close_6b'] + \n",
        "                                     dataset['rolling_close_9b'] + \n",
        "                                     dataset['rolling_close_12b'] + \n",
        "                                     dataset['rolling_close_15b'] + \n",
        "                                     dataset['rolling_close_18b'] + \n",
        "                                     dataset['rolling_close_21b']\n",
        "                                     )\n",
        "dataset['rolling_close_total_b'] = rolling_close_total_b\n",
        "\n",
        "dataset.head(-1)\n",
        "\n"
      ],
      "execution_count": null,
      "outputs": [
        {
          "output_type": "execute_result",
          "data": {
            "text/html": [
              "<div>\n",
              "<style scoped>\n",
              "    .dataframe tbody tr th:only-of-type {\n",
              "        vertical-align: middle;\n",
              "    }\n",
              "\n",
              "    .dataframe tbody tr th {\n",
              "        vertical-align: top;\n",
              "    }\n",
              "\n",
              "    .dataframe thead th {\n",
              "        text-align: right;\n",
              "    }\n",
              "</style>\n",
              "<table border=\"1\" class=\"dataframe\">\n",
              "  <thead>\n",
              "    <tr style=\"text-align: right;\">\n",
              "      <th></th>\n",
              "      <th>Close</th>\n",
              "      <th>Date</th>\n",
              "      <th>DOW</th>\n",
              "      <th>DOY</th>\n",
              "      <th>Week</th>\n",
              "      <th>Month</th>\n",
              "      <th>Quarter</th>\n",
              "      <th>gain_loss-0</th>\n",
              "      <th>gain_loss-1</th>\n",
              "      <th>gain_loss-2</th>\n",
              "      <th>gain_loss-3</th>\n",
              "      <th>gain_loss-4</th>\n",
              "      <th>gain_loss-0b</th>\n",
              "      <th>gain_loss-1b</th>\n",
              "      <th>gain_loss-2b</th>\n",
              "      <th>gain_loss-3b</th>\n",
              "      <th>gain_loss-4b</th>\n",
              "      <th>gain_loss-total_b</th>\n",
              "      <th>prior_day-0</th>\n",
              "      <th>prior_day-1</th>\n",
              "      <th>prior_day-2</th>\n",
              "      <th>prior_day-3</th>\n",
              "      <th>prior_day-4</th>\n",
              "      <th>prior_day-0b</th>\n",
              "      <th>prior_day-1b</th>\n",
              "      <th>prior_day-2b</th>\n",
              "      <th>prior_day-3b</th>\n",
              "      <th>prior_day-4b</th>\n",
              "      <th>prior_day-total_b</th>\n",
              "      <th>rolling_close_3</th>\n",
              "      <th>rolling_close_6</th>\n",
              "      <th>rolling_close_9</th>\n",
              "      <th>rolling_close_12</th>\n",
              "      <th>rolling_close_15</th>\n",
              "      <th>rolling_close_18</th>\n",
              "      <th>rolling_close_21</th>\n",
              "      <th>rolling_close_3b</th>\n",
              "      <th>rolling_close_6b</th>\n",
              "      <th>rolling_close_9b</th>\n",
              "      <th>rolling_close_12b</th>\n",
              "      <th>rolling_close_15b</th>\n",
              "      <th>rolling_close_18b</th>\n",
              "      <th>rolling_close_21b</th>\n",
              "      <th>rolling_close_total_b</th>\n",
              "    </tr>\n",
              "  </thead>\n",
              "  <tbody>\n",
              "    <tr>\n",
              "      <th>0</th>\n",
              "      <td>437.590</td>\n",
              "      <td>2021-08-02</td>\n",
              "      <td>0</td>\n",
              "      <td>214</td>\n",
              "      <td>31</td>\n",
              "      <td>8</td>\n",
              "      <td>3</td>\n",
              "      <td>-0.9200</td>\n",
              "      <td>-3.0600</td>\n",
              "      <td>-1.2400</td>\n",
              "      <td>-1.4200</td>\n",
              "      <td>-3.4300</td>\n",
              "      <td>0</td>\n",
              "      <td>0</td>\n",
              "      <td>0</td>\n",
              "      <td>0</td>\n",
              "      <td>0</td>\n",
              "      <td>0</td>\n",
              "      <td>-0.9200</td>\n",
              "      <td>-2.1400</td>\n",
              "      <td>1.8200</td>\n",
              "      <td>-0.1800</td>\n",
              "      <td>-2.0100</td>\n",
              "      <td>0</td>\n",
              "      <td>0</td>\n",
              "      <td>1</td>\n",
              "      <td>0</td>\n",
              "      <td>0</td>\n",
              "      <td>1</td>\n",
              "      <td>-1.326667</td>\n",
              "      <td>-1.678333</td>\n",
              "      <td>-0.805556</td>\n",
              "      <td>1.512500</td>\n",
              "      <td>1.622667</td>\n",
              "      <td>1.866111</td>\n",
              "      <td>2.154762</td>\n",
              "      <td>0</td>\n",
              "      <td>0</td>\n",
              "      <td>0</td>\n",
              "      <td>1</td>\n",
              "      <td>1</td>\n",
              "      <td>1</td>\n",
              "      <td>1</td>\n",
              "      <td>4</td>\n",
              "    </tr>\n",
              "    <tr>\n",
              "      <th>1</th>\n",
              "      <td>438.510</td>\n",
              "      <td>2021-07-30</td>\n",
              "      <td>4</td>\n",
              "      <td>211</td>\n",
              "      <td>30</td>\n",
              "      <td>7</td>\n",
              "      <td>3</td>\n",
              "      <td>-2.1400</td>\n",
              "      <td>-0.3200</td>\n",
              "      <td>-0.5000</td>\n",
              "      <td>-2.5100</td>\n",
              "      <td>-1.4300</td>\n",
              "      <td>0</td>\n",
              "      <td>0</td>\n",
              "      <td>0</td>\n",
              "      <td>0</td>\n",
              "      <td>0</td>\n",
              "      <td>0</td>\n",
              "      <td>-2.1400</td>\n",
              "      <td>1.8200</td>\n",
              "      <td>-0.1800</td>\n",
              "      <td>-2.0100</td>\n",
              "      <td>1.0800</td>\n",
              "      <td>0</td>\n",
              "      <td>1</td>\n",
              "      <td>0</td>\n",
              "      <td>0</td>\n",
              "      <td>1</td>\n",
              "      <td>2</td>\n",
              "      <td>-0.820000</td>\n",
              "      <td>-1.150000</td>\n",
              "      <td>0.840000</td>\n",
              "      <td>2.669167</td>\n",
              "      <td>2.576667</td>\n",
              "      <td>2.960000</td>\n",
              "      <td>3.415714</td>\n",
              "      <td>0</td>\n",
              "      <td>0</td>\n",
              "      <td>1</td>\n",
              "      <td>1</td>\n",
              "      <td>1</td>\n",
              "      <td>1</td>\n",
              "      <td>1</td>\n",
              "      <td>5</td>\n",
              "    </tr>\n",
              "    <tr>\n",
              "      <th>2</th>\n",
              "      <td>440.650</td>\n",
              "      <td>2021-07-29</td>\n",
              "      <td>3</td>\n",
              "      <td>210</td>\n",
              "      <td>30</td>\n",
              "      <td>7</td>\n",
              "      <td>3</td>\n",
              "      <td>1.8200</td>\n",
              "      <td>1.6400</td>\n",
              "      <td>-0.3700</td>\n",
              "      <td>0.7100</td>\n",
              "      <td>5.1900</td>\n",
              "      <td>1</td>\n",
              "      <td>1</td>\n",
              "      <td>0</td>\n",
              "      <td>1</td>\n",
              "      <td>1</td>\n",
              "      <td>4</td>\n",
              "      <td>1.8200</td>\n",
              "      <td>-0.1800</td>\n",
              "      <td>-2.0100</td>\n",
              "      <td>1.0800</td>\n",
              "      <td>4.4800</td>\n",
              "      <td>1</td>\n",
              "      <td>0</td>\n",
              "      <td>0</td>\n",
              "      <td>1</td>\n",
              "      <td>1</td>\n",
              "      <td>3</td>\n",
              "      <td>1.153333</td>\n",
              "      <td>1.498333</td>\n",
              "      <td>4.484444</td>\n",
              "      <td>4.998333</td>\n",
              "      <td>4.916000</td>\n",
              "      <td>5.410000</td>\n",
              "      <td>6.053333</td>\n",
              "      <td>1</td>\n",
              "      <td>1</td>\n",
              "      <td>1</td>\n",
              "      <td>1</td>\n",
              "      <td>1</td>\n",
              "      <td>1</td>\n",
              "      <td>1</td>\n",
              "      <td>7</td>\n",
              "    </tr>\n",
              "    <tr>\n",
              "      <th>3</th>\n",
              "      <td>438.830</td>\n",
              "      <td>2021-07-28</td>\n",
              "      <td>2</td>\n",
              "      <td>209</td>\n",
              "      <td>30</td>\n",
              "      <td>7</td>\n",
              "      <td>3</td>\n",
              "      <td>-0.1800</td>\n",
              "      <td>-2.1900</td>\n",
              "      <td>-1.1100</td>\n",
              "      <td>3.3700</td>\n",
              "      <td>4.2800</td>\n",
              "      <td>0</td>\n",
              "      <td>0</td>\n",
              "      <td>0</td>\n",
              "      <td>1</td>\n",
              "      <td>1</td>\n",
              "      <td>2</td>\n",
              "      <td>-0.1800</td>\n",
              "      <td>-2.0100</td>\n",
              "      <td>1.0800</td>\n",
              "      <td>4.4800</td>\n",
              "      <td>0.9100</td>\n",
              "      <td>0</td>\n",
              "      <td>0</td>\n",
              "      <td>1</td>\n",
              "      <td>1</td>\n",
              "      <td>1</td>\n",
              "      <td>3</td>\n",
              "      <td>-0.790000</td>\n",
              "      <td>0.695000</td>\n",
              "      <td>3.698889</td>\n",
              "      <td>3.600000</td>\n",
              "      <td>3.744667</td>\n",
              "      <td>3.975000</td>\n",
              "      <td>4.850000</td>\n",
              "      <td>0</td>\n",
              "      <td>1</td>\n",
              "      <td>1</td>\n",
              "      <td>1</td>\n",
              "      <td>1</td>\n",
              "      <td>1</td>\n",
              "      <td>1</td>\n",
              "      <td>6</td>\n",
              "    </tr>\n",
              "    <tr>\n",
              "      <th>4</th>\n",
              "      <td>439.010</td>\n",
              "      <td>2021-07-27</td>\n",
              "      <td>1</td>\n",
              "      <td>208</td>\n",
              "      <td>30</td>\n",
              "      <td>7</td>\n",
              "      <td>3</td>\n",
              "      <td>-2.0100</td>\n",
              "      <td>-0.9300</td>\n",
              "      <td>3.5500</td>\n",
              "      <td>4.4600</td>\n",
              "      <td>7.9500</td>\n",
              "      <td>0</td>\n",
              "      <td>0</td>\n",
              "      <td>1</td>\n",
              "      <td>1</td>\n",
              "      <td>1</td>\n",
              "      <td>3</td>\n",
              "      <td>-2.0100</td>\n",
              "      <td>1.0800</td>\n",
              "      <td>4.4800</td>\n",
              "      <td>0.9100</td>\n",
              "      <td>3.4900</td>\n",
              "      <td>0</td>\n",
              "      <td>1</td>\n",
              "      <td>1</td>\n",
              "      <td>1</td>\n",
              "      <td>1</td>\n",
              "      <td>4</td>\n",
              "      <td>-0.980000</td>\n",
              "      <td>2.170000</td>\n",
              "      <td>4.332222</td>\n",
              "      <td>3.925833</td>\n",
              "      <td>4.216000</td>\n",
              "      <td>4.621667</td>\n",
              "      <td>5.570952</td>\n",
              "      <td>0</td>\n",
              "      <td>1</td>\n",
              "      <td>1</td>\n",
              "      <td>1</td>\n",
              "      <td>1</td>\n",
              "      <td>1</td>\n",
              "      <td>1</td>\n",
              "      <td>6</td>\n",
              "    </tr>\n",
              "    <tr>\n",
              "      <th>...</th>\n",
              "      <td>...</td>\n",
              "      <td>...</td>\n",
              "      <td>...</td>\n",
              "      <td>...</td>\n",
              "      <td>...</td>\n",
              "      <td>...</td>\n",
              "      <td>...</td>\n",
              "      <td>...</td>\n",
              "      <td>...</td>\n",
              "      <td>...</td>\n",
              "      <td>...</td>\n",
              "      <td>...</td>\n",
              "      <td>...</td>\n",
              "      <td>...</td>\n",
              "      <td>...</td>\n",
              "      <td>...</td>\n",
              "      <td>...</td>\n",
              "      <td>...</td>\n",
              "      <td>...</td>\n",
              "      <td>...</td>\n",
              "      <td>...</td>\n",
              "      <td>...</td>\n",
              "      <td>...</td>\n",
              "      <td>...</td>\n",
              "      <td>...</td>\n",
              "      <td>...</td>\n",
              "      <td>...</td>\n",
              "      <td>...</td>\n",
              "      <td>...</td>\n",
              "      <td>...</td>\n",
              "      <td>...</td>\n",
              "      <td>...</td>\n",
              "      <td>...</td>\n",
              "      <td>...</td>\n",
              "      <td>...</td>\n",
              "      <td>...</td>\n",
              "      <td>...</td>\n",
              "      <td>...</td>\n",
              "      <td>...</td>\n",
              "      <td>...</td>\n",
              "      <td>...</td>\n",
              "      <td>...</td>\n",
              "      <td>...</td>\n",
              "      <td>...</td>\n",
              "    </tr>\n",
              "    <tr>\n",
              "      <th>1399</th>\n",
              "      <td>192.110</td>\n",
              "      <td>2016-01-11</td>\n",
              "      <td>0</td>\n",
              "      <td>11</td>\n",
              "      <td>2</td>\n",
              "      <td>1</td>\n",
              "      <td>1</td>\n",
              "      <td>0.1870</td>\n",
              "      <td>-1.9400</td>\n",
              "      <td>-6.7100</td>\n",
              "      <td>-9.2500</td>\n",
              "      <td>-8.9092</td>\n",
              "      <td>1</td>\n",
              "      <td>0</td>\n",
              "      <td>0</td>\n",
              "      <td>0</td>\n",
              "      <td>0</td>\n",
              "      <td>1</td>\n",
              "      <td>0.1870</td>\n",
              "      <td>-2.1270</td>\n",
              "      <td>-4.7700</td>\n",
              "      <td>-2.5400</td>\n",
              "      <td>0.3408</td>\n",
              "      <td>1</td>\n",
              "      <td>0</td>\n",
              "      <td>0</td>\n",
              "      <td>0</td>\n",
              "      <td>1</td>\n",
              "      <td>2</td>\n",
              "      <td>-0.584333</td>\n",
              "      <td>-4.437033</td>\n",
              "      <td>NaN</td>\n",
              "      <td>NaN</td>\n",
              "      <td>NaN</td>\n",
              "      <td>NaN</td>\n",
              "      <td>NaN</td>\n",
              "      <td>0</td>\n",
              "      <td>0</td>\n",
              "      <td>0</td>\n",
              "      <td>0</td>\n",
              "      <td>0</td>\n",
              "      <td>0</td>\n",
              "      <td>0</td>\n",
              "      <td>0</td>\n",
              "    </tr>\n",
              "    <tr>\n",
              "      <th>1400</th>\n",
              "      <td>191.923</td>\n",
              "      <td>2016-01-08</td>\n",
              "      <td>4</td>\n",
              "      <td>8</td>\n",
              "      <td>1</td>\n",
              "      <td>1</td>\n",
              "      <td>1</td>\n",
              "      <td>-2.1270</td>\n",
              "      <td>-6.8970</td>\n",
              "      <td>-9.4370</td>\n",
              "      <td>-9.0962</td>\n",
              "      <td>NaN</td>\n",
              "      <td>0</td>\n",
              "      <td>0</td>\n",
              "      <td>0</td>\n",
              "      <td>0</td>\n",
              "      <td>0</td>\n",
              "      <td>0</td>\n",
              "      <td>-2.1270</td>\n",
              "      <td>-4.7700</td>\n",
              "      <td>-2.5400</td>\n",
              "      <td>0.3408</td>\n",
              "      <td>NaN</td>\n",
              "      <td>0</td>\n",
              "      <td>0</td>\n",
              "      <td>0</td>\n",
              "      <td>1</td>\n",
              "      <td>0</td>\n",
              "      <td>1</td>\n",
              "      <td>-3.008000</td>\n",
              "      <td>NaN</td>\n",
              "      <td>NaN</td>\n",
              "      <td>NaN</td>\n",
              "      <td>NaN</td>\n",
              "      <td>NaN</td>\n",
              "      <td>NaN</td>\n",
              "      <td>0</td>\n",
              "      <td>0</td>\n",
              "      <td>0</td>\n",
              "      <td>0</td>\n",
              "      <td>0</td>\n",
              "      <td>0</td>\n",
              "      <td>0</td>\n",
              "      <td>0</td>\n",
              "    </tr>\n",
              "    <tr>\n",
              "      <th>1401</th>\n",
              "      <td>194.050</td>\n",
              "      <td>2016-01-07</td>\n",
              "      <td>3</td>\n",
              "      <td>7</td>\n",
              "      <td>1</td>\n",
              "      <td>1</td>\n",
              "      <td>1</td>\n",
              "      <td>-4.7700</td>\n",
              "      <td>-7.3100</td>\n",
              "      <td>-6.9692</td>\n",
              "      <td>NaN</td>\n",
              "      <td>NaN</td>\n",
              "      <td>0</td>\n",
              "      <td>0</td>\n",
              "      <td>0</td>\n",
              "      <td>0</td>\n",
              "      <td>0</td>\n",
              "      <td>0</td>\n",
              "      <td>-4.7700</td>\n",
              "      <td>-2.5400</td>\n",
              "      <td>0.3408</td>\n",
              "      <td>NaN</td>\n",
              "      <td>0.0000</td>\n",
              "      <td>0</td>\n",
              "      <td>0</td>\n",
              "      <td>1</td>\n",
              "      <td>0</td>\n",
              "      <td>0</td>\n",
              "      <td>1</td>\n",
              "      <td>-4.026667</td>\n",
              "      <td>NaN</td>\n",
              "      <td>NaN</td>\n",
              "      <td>NaN</td>\n",
              "      <td>NaN</td>\n",
              "      <td>NaN</td>\n",
              "      <td>NaN</td>\n",
              "      <td>0</td>\n",
              "      <td>0</td>\n",
              "      <td>0</td>\n",
              "      <td>0</td>\n",
              "      <td>0</td>\n",
              "      <td>0</td>\n",
              "      <td>0</td>\n",
              "      <td>0</td>\n",
              "    </tr>\n",
              "    <tr>\n",
              "      <th>1402</th>\n",
              "      <td>198.820</td>\n",
              "      <td>2016-01-06</td>\n",
              "      <td>2</td>\n",
              "      <td>6</td>\n",
              "      <td>1</td>\n",
              "      <td>1</td>\n",
              "      <td>1</td>\n",
              "      <td>-2.5400</td>\n",
              "      <td>-2.1992</td>\n",
              "      <td>NaN</td>\n",
              "      <td>NaN</td>\n",
              "      <td>NaN</td>\n",
              "      <td>0</td>\n",
              "      <td>0</td>\n",
              "      <td>0</td>\n",
              "      <td>0</td>\n",
              "      <td>0</td>\n",
              "      <td>0</td>\n",
              "      <td>-2.5400</td>\n",
              "      <td>0.3408</td>\n",
              "      <td>NaN</td>\n",
              "      <td>0.0000</td>\n",
              "      <td>0.0000</td>\n",
              "      <td>0</td>\n",
              "      <td>1</td>\n",
              "      <td>0</td>\n",
              "      <td>0</td>\n",
              "      <td>0</td>\n",
              "      <td>1</td>\n",
              "      <td>-1.579733</td>\n",
              "      <td>NaN</td>\n",
              "      <td>NaN</td>\n",
              "      <td>NaN</td>\n",
              "      <td>NaN</td>\n",
              "      <td>NaN</td>\n",
              "      <td>NaN</td>\n",
              "      <td>0</td>\n",
              "      <td>0</td>\n",
              "      <td>0</td>\n",
              "      <td>0</td>\n",
              "      <td>0</td>\n",
              "      <td>0</td>\n",
              "      <td>0</td>\n",
              "      <td>0</td>\n",
              "    </tr>\n",
              "    <tr>\n",
              "      <th>1403</th>\n",
              "      <td>201.360</td>\n",
              "      <td>2016-01-05</td>\n",
              "      <td>1</td>\n",
              "      <td>5</td>\n",
              "      <td>1</td>\n",
              "      <td>1</td>\n",
              "      <td>1</td>\n",
              "      <td>0.3408</td>\n",
              "      <td>NaN</td>\n",
              "      <td>NaN</td>\n",
              "      <td>NaN</td>\n",
              "      <td>NaN</td>\n",
              "      <td>1</td>\n",
              "      <td>0</td>\n",
              "      <td>0</td>\n",
              "      <td>0</td>\n",
              "      <td>0</td>\n",
              "      <td>1</td>\n",
              "      <td>0.3408</td>\n",
              "      <td>NaN</td>\n",
              "      <td>0.0000</td>\n",
              "      <td>0.0000</td>\n",
              "      <td>0.0000</td>\n",
              "      <td>1</td>\n",
              "      <td>0</td>\n",
              "      <td>0</td>\n",
              "      <td>0</td>\n",
              "      <td>0</td>\n",
              "      <td>1</td>\n",
              "      <td>NaN</td>\n",
              "      <td>NaN</td>\n",
              "      <td>NaN</td>\n",
              "      <td>NaN</td>\n",
              "      <td>NaN</td>\n",
              "      <td>NaN</td>\n",
              "      <td>NaN</td>\n",
              "      <td>0</td>\n",
              "      <td>0</td>\n",
              "      <td>0</td>\n",
              "      <td>0</td>\n",
              "      <td>0</td>\n",
              "      <td>0</td>\n",
              "      <td>0</td>\n",
              "      <td>0</td>\n",
              "    </tr>\n",
              "  </tbody>\n",
              "</table>\n",
              "<p>1404 rows × 44 columns</p>\n",
              "</div>"
            ],
            "text/plain": [
              "        Close       Date  ...  rolling_close_21b  rolling_close_total_b\n",
              "0     437.590 2021-08-02  ...                  1                      4\n",
              "1     438.510 2021-07-30  ...                  1                      5\n",
              "2     440.650 2021-07-29  ...                  1                      7\n",
              "3     438.830 2021-07-28  ...                  1                      6\n",
              "4     439.010 2021-07-27  ...                  1                      6\n",
              "...       ...        ...  ...                ...                    ...\n",
              "1399  192.110 2016-01-11  ...                  0                      0\n",
              "1400  191.923 2016-01-08  ...                  0                      0\n",
              "1401  194.050 2016-01-07  ...                  0                      0\n",
              "1402  198.820 2016-01-06  ...                  0                      0\n",
              "1403  201.360 2016-01-05  ...                  0                      0\n",
              "\n",
              "[1404 rows x 44 columns]"
            ]
          },
          "metadata": {
            "tags": []
          },
          "execution_count": 138
        }
      ]
    },
    {
      "cell_type": "markdown",
      "metadata": {
        "id": "WXLJAd9yqyVD"
      },
      "source": [
        "#Remove NaN rows\n",
        "\n",
        "Need to remove the NaN rows from bottom of dataset. These will cause errors in the analysis if not removed.\n",
        "\n",
        "Due to this delete, the dataset must contain 30 additional periods (rows) of history beyond what is desired. This was mentioned in the notation heading of this solution. (due to rolling means and shifts)."
      ]
    },
    {
      "cell_type": "code",
      "metadata": {
        "colab": {
          "base_uri": "https://localhost:8080/",
          "height": 622
        },
        "id": "XLtsuSVwrbfz",
        "outputId": "7401615e-1b38-42f7-a148-5f53e854fced"
      },
      "source": [
        "#dataset.dropna(inplace = True)\n",
        "\n",
        "dataset.head(-5)"
      ],
      "execution_count": null,
      "outputs": [
        {
          "output_type": "execute_result",
          "data": {
            "text/html": [
              "<div>\n",
              "<style scoped>\n",
              "    .dataframe tbody tr th:only-of-type {\n",
              "        vertical-align: middle;\n",
              "    }\n",
              "\n",
              "    .dataframe tbody tr th {\n",
              "        vertical-align: top;\n",
              "    }\n",
              "\n",
              "    .dataframe thead th {\n",
              "        text-align: right;\n",
              "    }\n",
              "</style>\n",
              "<table border=\"1\" class=\"dataframe\">\n",
              "  <thead>\n",
              "    <tr style=\"text-align: right;\">\n",
              "      <th></th>\n",
              "      <th>Close</th>\n",
              "      <th>Date</th>\n",
              "      <th>DOW</th>\n",
              "      <th>DOY</th>\n",
              "      <th>Week</th>\n",
              "      <th>Month</th>\n",
              "      <th>Quarter</th>\n",
              "      <th>gain_loss-0</th>\n",
              "      <th>gain_loss-1</th>\n",
              "      <th>gain_loss-2</th>\n",
              "      <th>gain_loss-3</th>\n",
              "      <th>gain_loss-4</th>\n",
              "      <th>gain_loss-0b</th>\n",
              "      <th>gain_loss-1b</th>\n",
              "      <th>gain_loss-2b</th>\n",
              "      <th>gain_loss-3b</th>\n",
              "      <th>gain_loss-4b</th>\n",
              "      <th>gain_loss-total_b</th>\n",
              "      <th>prior_day-0</th>\n",
              "      <th>prior_day-1</th>\n",
              "      <th>prior_day-2</th>\n",
              "      <th>prior_day-3</th>\n",
              "      <th>prior_day-4</th>\n",
              "      <th>prior_day-0b</th>\n",
              "      <th>prior_day-1b</th>\n",
              "      <th>prior_day-2b</th>\n",
              "      <th>prior_day-3b</th>\n",
              "      <th>prior_day-4b</th>\n",
              "      <th>prior_day-total_b</th>\n",
              "      <th>rolling_close_3</th>\n",
              "      <th>rolling_close_6</th>\n",
              "      <th>rolling_close_9</th>\n",
              "      <th>rolling_close_12</th>\n",
              "      <th>rolling_close_15</th>\n",
              "      <th>rolling_close_18</th>\n",
              "      <th>rolling_close_21</th>\n",
              "      <th>rolling_close_3b</th>\n",
              "      <th>rolling_close_6b</th>\n",
              "      <th>rolling_close_9b</th>\n",
              "      <th>rolling_close_12b</th>\n",
              "      <th>rolling_close_15b</th>\n",
              "      <th>rolling_close_18b</th>\n",
              "      <th>rolling_close_21b</th>\n",
              "      <th>rolling_close_total_b</th>\n",
              "    </tr>\n",
              "  </thead>\n",
              "  <tbody>\n",
              "    <tr>\n",
              "      <th>0</th>\n",
              "      <td>437.5900</td>\n",
              "      <td>2021-08-02</td>\n",
              "      <td>0</td>\n",
              "      <td>214</td>\n",
              "      <td>31</td>\n",
              "      <td>8</td>\n",
              "      <td>3</td>\n",
              "      <td>-0.9200</td>\n",
              "      <td>-3.0600</td>\n",
              "      <td>-1.2400</td>\n",
              "      <td>-1.4200</td>\n",
              "      <td>-3.4300</td>\n",
              "      <td>0</td>\n",
              "      <td>0</td>\n",
              "      <td>0</td>\n",
              "      <td>0</td>\n",
              "      <td>0</td>\n",
              "      <td>0</td>\n",
              "      <td>-0.9200</td>\n",
              "      <td>-2.1400</td>\n",
              "      <td>1.8200</td>\n",
              "      <td>-0.1800</td>\n",
              "      <td>-2.0100</td>\n",
              "      <td>0</td>\n",
              "      <td>0</td>\n",
              "      <td>1</td>\n",
              "      <td>0</td>\n",
              "      <td>0</td>\n",
              "      <td>1</td>\n",
              "      <td>-1.326667</td>\n",
              "      <td>-1.678333</td>\n",
              "      <td>-0.805556</td>\n",
              "      <td>1.512500</td>\n",
              "      <td>1.622667</td>\n",
              "      <td>1.866111</td>\n",
              "      <td>2.154762</td>\n",
              "      <td>0</td>\n",
              "      <td>0</td>\n",
              "      <td>0</td>\n",
              "      <td>1</td>\n",
              "      <td>1</td>\n",
              "      <td>1</td>\n",
              "      <td>1</td>\n",
              "      <td>4</td>\n",
              "    </tr>\n",
              "    <tr>\n",
              "      <th>1</th>\n",
              "      <td>438.5100</td>\n",
              "      <td>2021-07-30</td>\n",
              "      <td>4</td>\n",
              "      <td>211</td>\n",
              "      <td>30</td>\n",
              "      <td>7</td>\n",
              "      <td>3</td>\n",
              "      <td>-2.1400</td>\n",
              "      <td>-0.3200</td>\n",
              "      <td>-0.5000</td>\n",
              "      <td>-2.5100</td>\n",
              "      <td>-1.4300</td>\n",
              "      <td>0</td>\n",
              "      <td>0</td>\n",
              "      <td>0</td>\n",
              "      <td>0</td>\n",
              "      <td>0</td>\n",
              "      <td>0</td>\n",
              "      <td>-2.1400</td>\n",
              "      <td>1.8200</td>\n",
              "      <td>-0.1800</td>\n",
              "      <td>-2.0100</td>\n",
              "      <td>1.0800</td>\n",
              "      <td>0</td>\n",
              "      <td>1</td>\n",
              "      <td>0</td>\n",
              "      <td>0</td>\n",
              "      <td>1</td>\n",
              "      <td>2</td>\n",
              "      <td>-0.820000</td>\n",
              "      <td>-1.150000</td>\n",
              "      <td>0.840000</td>\n",
              "      <td>2.669167</td>\n",
              "      <td>2.576667</td>\n",
              "      <td>2.960000</td>\n",
              "      <td>3.415714</td>\n",
              "      <td>0</td>\n",
              "      <td>0</td>\n",
              "      <td>1</td>\n",
              "      <td>1</td>\n",
              "      <td>1</td>\n",
              "      <td>1</td>\n",
              "      <td>1</td>\n",
              "      <td>5</td>\n",
              "    </tr>\n",
              "    <tr>\n",
              "      <th>2</th>\n",
              "      <td>440.6500</td>\n",
              "      <td>2021-07-29</td>\n",
              "      <td>3</td>\n",
              "      <td>210</td>\n",
              "      <td>30</td>\n",
              "      <td>7</td>\n",
              "      <td>3</td>\n",
              "      <td>1.8200</td>\n",
              "      <td>1.6400</td>\n",
              "      <td>-0.3700</td>\n",
              "      <td>0.7100</td>\n",
              "      <td>5.1900</td>\n",
              "      <td>1</td>\n",
              "      <td>1</td>\n",
              "      <td>0</td>\n",
              "      <td>1</td>\n",
              "      <td>1</td>\n",
              "      <td>4</td>\n",
              "      <td>1.8200</td>\n",
              "      <td>-0.1800</td>\n",
              "      <td>-2.0100</td>\n",
              "      <td>1.0800</td>\n",
              "      <td>4.4800</td>\n",
              "      <td>1</td>\n",
              "      <td>0</td>\n",
              "      <td>0</td>\n",
              "      <td>1</td>\n",
              "      <td>1</td>\n",
              "      <td>3</td>\n",
              "      <td>1.153333</td>\n",
              "      <td>1.498333</td>\n",
              "      <td>4.484444</td>\n",
              "      <td>4.998333</td>\n",
              "      <td>4.916000</td>\n",
              "      <td>5.410000</td>\n",
              "      <td>6.053333</td>\n",
              "      <td>1</td>\n",
              "      <td>1</td>\n",
              "      <td>1</td>\n",
              "      <td>1</td>\n",
              "      <td>1</td>\n",
              "      <td>1</td>\n",
              "      <td>1</td>\n",
              "      <td>7</td>\n",
              "    </tr>\n",
              "    <tr>\n",
              "      <th>3</th>\n",
              "      <td>438.8300</td>\n",
              "      <td>2021-07-28</td>\n",
              "      <td>2</td>\n",
              "      <td>209</td>\n",
              "      <td>30</td>\n",
              "      <td>7</td>\n",
              "      <td>3</td>\n",
              "      <td>-0.1800</td>\n",
              "      <td>-2.1900</td>\n",
              "      <td>-1.1100</td>\n",
              "      <td>3.3700</td>\n",
              "      <td>4.2800</td>\n",
              "      <td>0</td>\n",
              "      <td>0</td>\n",
              "      <td>0</td>\n",
              "      <td>1</td>\n",
              "      <td>1</td>\n",
              "      <td>2</td>\n",
              "      <td>-0.1800</td>\n",
              "      <td>-2.0100</td>\n",
              "      <td>1.0800</td>\n",
              "      <td>4.4800</td>\n",
              "      <td>0.9100</td>\n",
              "      <td>0</td>\n",
              "      <td>0</td>\n",
              "      <td>1</td>\n",
              "      <td>1</td>\n",
              "      <td>1</td>\n",
              "      <td>3</td>\n",
              "      <td>-0.790000</td>\n",
              "      <td>0.695000</td>\n",
              "      <td>3.698889</td>\n",
              "      <td>3.600000</td>\n",
              "      <td>3.744667</td>\n",
              "      <td>3.975000</td>\n",
              "      <td>4.850000</td>\n",
              "      <td>0</td>\n",
              "      <td>1</td>\n",
              "      <td>1</td>\n",
              "      <td>1</td>\n",
              "      <td>1</td>\n",
              "      <td>1</td>\n",
              "      <td>1</td>\n",
              "      <td>6</td>\n",
              "    </tr>\n",
              "    <tr>\n",
              "      <th>4</th>\n",
              "      <td>439.0100</td>\n",
              "      <td>2021-07-27</td>\n",
              "      <td>1</td>\n",
              "      <td>208</td>\n",
              "      <td>30</td>\n",
              "      <td>7</td>\n",
              "      <td>3</td>\n",
              "      <td>-2.0100</td>\n",
              "      <td>-0.9300</td>\n",
              "      <td>3.5500</td>\n",
              "      <td>4.4600</td>\n",
              "      <td>7.9500</td>\n",
              "      <td>0</td>\n",
              "      <td>0</td>\n",
              "      <td>1</td>\n",
              "      <td>1</td>\n",
              "      <td>1</td>\n",
              "      <td>3</td>\n",
              "      <td>-2.0100</td>\n",
              "      <td>1.0800</td>\n",
              "      <td>4.4800</td>\n",
              "      <td>0.9100</td>\n",
              "      <td>3.4900</td>\n",
              "      <td>0</td>\n",
              "      <td>1</td>\n",
              "      <td>1</td>\n",
              "      <td>1</td>\n",
              "      <td>1</td>\n",
              "      <td>4</td>\n",
              "      <td>-0.980000</td>\n",
              "      <td>2.170000</td>\n",
              "      <td>4.332222</td>\n",
              "      <td>3.925833</td>\n",
              "      <td>4.216000</td>\n",
              "      <td>4.621667</td>\n",
              "      <td>5.570952</td>\n",
              "      <td>0</td>\n",
              "      <td>1</td>\n",
              "      <td>1</td>\n",
              "      <td>1</td>\n",
              "      <td>1</td>\n",
              "      <td>1</td>\n",
              "      <td>1</td>\n",
              "      <td>6</td>\n",
              "    </tr>\n",
              "    <tr>\n",
              "      <th>...</th>\n",
              "      <td>...</td>\n",
              "      <td>...</td>\n",
              "      <td>...</td>\n",
              "      <td>...</td>\n",
              "      <td>...</td>\n",
              "      <td>...</td>\n",
              "      <td>...</td>\n",
              "      <td>...</td>\n",
              "      <td>...</td>\n",
              "      <td>...</td>\n",
              "      <td>...</td>\n",
              "      <td>...</td>\n",
              "      <td>...</td>\n",
              "      <td>...</td>\n",
              "      <td>...</td>\n",
              "      <td>...</td>\n",
              "      <td>...</td>\n",
              "      <td>...</td>\n",
              "      <td>...</td>\n",
              "      <td>...</td>\n",
              "      <td>...</td>\n",
              "      <td>...</td>\n",
              "      <td>...</td>\n",
              "      <td>...</td>\n",
              "      <td>...</td>\n",
              "      <td>...</td>\n",
              "      <td>...</td>\n",
              "      <td>...</td>\n",
              "      <td>...</td>\n",
              "      <td>...</td>\n",
              "      <td>...</td>\n",
              "      <td>...</td>\n",
              "      <td>...</td>\n",
              "      <td>...</td>\n",
              "      <td>...</td>\n",
              "      <td>...</td>\n",
              "      <td>...</td>\n",
              "      <td>...</td>\n",
              "      <td>...</td>\n",
              "      <td>...</td>\n",
              "      <td>...</td>\n",
              "      <td>...</td>\n",
              "      <td>...</td>\n",
              "      <td>...</td>\n",
              "    </tr>\n",
              "    <tr>\n",
              "      <th>1395</th>\n",
              "      <td>187.8100</td>\n",
              "      <td>2016-01-15</td>\n",
              "      <td>4</td>\n",
              "      <td>15</td>\n",
              "      <td>2</td>\n",
              "      <td>1</td>\n",
              "      <td>1</td>\n",
              "      <td>-4.1200</td>\n",
              "      <td>-1.0200</td>\n",
              "      <td>-5.8508</td>\n",
              "      <td>-4.3000</td>\n",
              "      <td>-4.1130</td>\n",
              "      <td>0</td>\n",
              "      <td>0</td>\n",
              "      <td>0</td>\n",
              "      <td>0</td>\n",
              "      <td>0</td>\n",
              "      <td>0</td>\n",
              "      <td>-4.1200</td>\n",
              "      <td>3.1000</td>\n",
              "      <td>-4.8308</td>\n",
              "      <td>1.5508</td>\n",
              "      <td>0.1870</td>\n",
              "      <td>0</td>\n",
              "      <td>1</td>\n",
              "      <td>0</td>\n",
              "      <td>1</td>\n",
              "      <td>1</td>\n",
              "      <td>3</td>\n",
              "      <td>-1.713333</td>\n",
              "      <td>-3.233967</td>\n",
              "      <td>-5.578200</td>\n",
              "      <td>NaN</td>\n",
              "      <td>NaN</td>\n",
              "      <td>NaN</td>\n",
              "      <td>NaN</td>\n",
              "      <td>0</td>\n",
              "      <td>0</td>\n",
              "      <td>0</td>\n",
              "      <td>0</td>\n",
              "      <td>0</td>\n",
              "      <td>0</td>\n",
              "      <td>0</td>\n",
              "      <td>0</td>\n",
              "    </tr>\n",
              "    <tr>\n",
              "      <th>1396</th>\n",
              "      <td>191.9300</td>\n",
              "      <td>2016-01-14</td>\n",
              "      <td>3</td>\n",
              "      <td>14</td>\n",
              "      <td>2</td>\n",
              "      <td>1</td>\n",
              "      <td>1</td>\n",
              "      <td>3.1000</td>\n",
              "      <td>-1.7308</td>\n",
              "      <td>-0.1800</td>\n",
              "      <td>0.0070</td>\n",
              "      <td>-2.1200</td>\n",
              "      <td>1</td>\n",
              "      <td>0</td>\n",
              "      <td>0</td>\n",
              "      <td>1</td>\n",
              "      <td>0</td>\n",
              "      <td>2</td>\n",
              "      <td>3.1000</td>\n",
              "      <td>-4.8308</td>\n",
              "      <td>1.5508</td>\n",
              "      <td>0.1870</td>\n",
              "      <td>-2.1270</td>\n",
              "      <td>1</td>\n",
              "      <td>0</td>\n",
              "      <td>1</td>\n",
              "      <td>1</td>\n",
              "      <td>0</td>\n",
              "      <td>3</td>\n",
              "      <td>0.456400</td>\n",
              "      <td>-0.153967</td>\n",
              "      <td>-2.925889</td>\n",
              "      <td>NaN</td>\n",
              "      <td>NaN</td>\n",
              "      <td>NaN</td>\n",
              "      <td>NaN</td>\n",
              "      <td>1</td>\n",
              "      <td>0</td>\n",
              "      <td>0</td>\n",
              "      <td>0</td>\n",
              "      <td>0</td>\n",
              "      <td>0</td>\n",
              "      <td>0</td>\n",
              "      <td>1</td>\n",
              "    </tr>\n",
              "    <tr>\n",
              "      <th>1397</th>\n",
              "      <td>188.8300</td>\n",
              "      <td>2016-01-13</td>\n",
              "      <td>2</td>\n",
              "      <td>13</td>\n",
              "      <td>2</td>\n",
              "      <td>1</td>\n",
              "      <td>1</td>\n",
              "      <td>-4.8308</td>\n",
              "      <td>-3.2800</td>\n",
              "      <td>-3.0930</td>\n",
              "      <td>-5.2200</td>\n",
              "      <td>-9.9900</td>\n",
              "      <td>0</td>\n",
              "      <td>0</td>\n",
              "      <td>0</td>\n",
              "      <td>0</td>\n",
              "      <td>0</td>\n",
              "      <td>0</td>\n",
              "      <td>-4.8308</td>\n",
              "      <td>1.5508</td>\n",
              "      <td>0.1870</td>\n",
              "      <td>-2.1270</td>\n",
              "      <td>-4.7700</td>\n",
              "      <td>0</td>\n",
              "      <td>1</td>\n",
              "      <td>1</td>\n",
              "      <td>0</td>\n",
              "      <td>0</td>\n",
              "      <td>2</td>\n",
              "      <td>-2.703600</td>\n",
              "      <td>-4.402300</td>\n",
              "      <td>NaN</td>\n",
              "      <td>NaN</td>\n",
              "      <td>NaN</td>\n",
              "      <td>NaN</td>\n",
              "      <td>NaN</td>\n",
              "      <td>0</td>\n",
              "      <td>0</td>\n",
              "      <td>0</td>\n",
              "      <td>0</td>\n",
              "      <td>0</td>\n",
              "      <td>0</td>\n",
              "      <td>0</td>\n",
              "      <td>0</td>\n",
              "    </tr>\n",
              "    <tr>\n",
              "      <th>1398</th>\n",
              "      <td>193.6608</td>\n",
              "      <td>2016-01-12</td>\n",
              "      <td>1</td>\n",
              "      <td>12</td>\n",
              "      <td>2</td>\n",
              "      <td>1</td>\n",
              "      <td>1</td>\n",
              "      <td>1.5508</td>\n",
              "      <td>1.7378</td>\n",
              "      <td>-0.3892</td>\n",
              "      <td>-5.1592</td>\n",
              "      <td>-7.6992</td>\n",
              "      <td>1</td>\n",
              "      <td>1</td>\n",
              "      <td>0</td>\n",
              "      <td>0</td>\n",
              "      <td>0</td>\n",
              "      <td>2</td>\n",
              "      <td>1.5508</td>\n",
              "      <td>0.1870</td>\n",
              "      <td>-2.1270</td>\n",
              "      <td>-4.7700</td>\n",
              "      <td>-2.5400</td>\n",
              "      <td>1</td>\n",
              "      <td>1</td>\n",
              "      <td>0</td>\n",
              "      <td>0</td>\n",
              "      <td>0</td>\n",
              "      <td>2</td>\n",
              "      <td>1.096200</td>\n",
              "      <td>-1.659833</td>\n",
              "      <td>NaN</td>\n",
              "      <td>NaN</td>\n",
              "      <td>NaN</td>\n",
              "      <td>NaN</td>\n",
              "      <td>NaN</td>\n",
              "      <td>1</td>\n",
              "      <td>0</td>\n",
              "      <td>0</td>\n",
              "      <td>0</td>\n",
              "      <td>0</td>\n",
              "      <td>0</td>\n",
              "      <td>0</td>\n",
              "      <td>1</td>\n",
              "    </tr>\n",
              "    <tr>\n",
              "      <th>1399</th>\n",
              "      <td>192.1100</td>\n",
              "      <td>2016-01-11</td>\n",
              "      <td>0</td>\n",
              "      <td>11</td>\n",
              "      <td>2</td>\n",
              "      <td>1</td>\n",
              "      <td>1</td>\n",
              "      <td>0.1870</td>\n",
              "      <td>-1.9400</td>\n",
              "      <td>-6.7100</td>\n",
              "      <td>-9.2500</td>\n",
              "      <td>-8.9092</td>\n",
              "      <td>1</td>\n",
              "      <td>0</td>\n",
              "      <td>0</td>\n",
              "      <td>0</td>\n",
              "      <td>0</td>\n",
              "      <td>1</td>\n",
              "      <td>0.1870</td>\n",
              "      <td>-2.1270</td>\n",
              "      <td>-4.7700</td>\n",
              "      <td>-2.5400</td>\n",
              "      <td>0.3408</td>\n",
              "      <td>1</td>\n",
              "      <td>0</td>\n",
              "      <td>0</td>\n",
              "      <td>0</td>\n",
              "      <td>1</td>\n",
              "      <td>2</td>\n",
              "      <td>-0.584333</td>\n",
              "      <td>-4.437033</td>\n",
              "      <td>NaN</td>\n",
              "      <td>NaN</td>\n",
              "      <td>NaN</td>\n",
              "      <td>NaN</td>\n",
              "      <td>NaN</td>\n",
              "      <td>0</td>\n",
              "      <td>0</td>\n",
              "      <td>0</td>\n",
              "      <td>0</td>\n",
              "      <td>0</td>\n",
              "      <td>0</td>\n",
              "      <td>0</td>\n",
              "      <td>0</td>\n",
              "    </tr>\n",
              "  </tbody>\n",
              "</table>\n",
              "<p>1400 rows × 44 columns</p>\n",
              "</div>"
            ],
            "text/plain": [
              "         Close       Date  ...  rolling_close_21b  rolling_close_total_b\n",
              "0     437.5900 2021-08-02  ...                  1                      4\n",
              "1     438.5100 2021-07-30  ...                  1                      5\n",
              "2     440.6500 2021-07-29  ...                  1                      7\n",
              "3     438.8300 2021-07-28  ...                  1                      6\n",
              "4     439.0100 2021-07-27  ...                  1                      6\n",
              "...        ...        ...  ...                ...                    ...\n",
              "1395  187.8100 2016-01-15  ...                  0                      0\n",
              "1396  191.9300 2016-01-14  ...                  0                      1\n",
              "1397  188.8300 2016-01-13  ...                  0                      0\n",
              "1398  193.6608 2016-01-12  ...                  0                      1\n",
              "1399  192.1100 2016-01-11  ...                  0                      0\n",
              "\n",
              "[1400 rows x 44 columns]"
            ]
          },
          "metadata": {
            "tags": []
          },
          "execution_count": 139
        }
      ]
    },
    {
      "cell_type": "markdown",
      "metadata": {
        "id": "Pspu--zThppK"
      },
      "source": [
        "#Create dependant variables (2 dependants)\n",
        "\n",
        "As mentioned earlier, the gain_loss-0 attribute is a dependant variable. It's binary conterpart, gain_loss-0b is also a dependant variable.\n",
        "\n",
        "the dependant variables need shifted down one row. This will adjust all of the independant variable into a position where they are trying to predict the \"day ahead\". Because the data is shifted down one day the last day must be removed.\n",
        "\n",
        "!Note: Due to the organizaiton of this dataset (train and test set being time-based) this adjustment for the dependant variables will create results for next day. \n"
      ]
    },
    {
      "cell_type": "code",
      "metadata": {
        "colab": {
          "base_uri": "https://localhost:8080/"
        },
        "id": "8kbzhhUsjptq",
        "outputId": "646e6584-7e1e-48cc-dc7a-5be067b8f40d"
      },
      "source": [
        "y = pd.DataFrame(dataset['gain_loss-0']).reset_index(drop = True)\n",
        "y.loc[-1] = [0]\n",
        "y.index = y.index + 1\n",
        "y = y.sort_index()\n",
        "y.drop(y.tail(1).index, inplace = True)\n",
        "y.rename(columns={'gain_loss-0': 'y'}, inplace=True)\n",
        "y_df = pd.DataFrame(y, columns=['y'])\n",
        "\n",
        "yb = pd.DataFrame(dataset['gain_loss-0b']).reset_index(drop = True)\n",
        "yb.loc[-1] = [0]\n",
        "yb.index = yb.index + 1\n",
        "yb = yb.sort_index()\n",
        "yb.drop(yb.tail(1).index, inplace = True)\n",
        "yb.rename(columns={'gain_loss-0b': 'yb'}, inplace=True)\n",
        "yb_df = pd.DataFrame(yb, columns=['yb'])\n",
        "\n",
        "print(y)\n",
        "print(\"----------------\")\n",
        "print(yb)"
      ],
      "execution_count": null,
      "outputs": [
        {
          "output_type": "stream",
          "text": [
            "           y\n",
            "0     0.0000\n",
            "1    -0.9200\n",
            "2    -2.1400\n",
            "3     1.8200\n",
            "4    -0.1800\n",
            "...      ...\n",
            "1400  0.1870\n",
            "1401 -2.1270\n",
            "1402 -4.7700\n",
            "1403 -2.5400\n",
            "1404  0.3408\n",
            "\n",
            "[1405 rows x 1 columns]\n",
            "----------------\n",
            "      yb\n",
            "0      0\n",
            "1      0\n",
            "2      0\n",
            "3      1\n",
            "4      0\n",
            "...   ..\n",
            "1400   1\n",
            "1401   0\n",
            "1402   0\n",
            "1403   0\n",
            "1404   1\n",
            "\n",
            "[1405 rows x 1 columns]\n"
          ],
          "name": "stdout"
        }
      ]
    },
    {
      "cell_type": "code",
      "metadata": {
        "colab": {
          "base_uri": "https://localhost:8080/"
        },
        "id": "hq-QdjpnxZwi",
        "outputId": "99554d9c-4e7e-46d7-dbf0-36804189614c"
      },
      "source": [
        "a = len(y.index)\n",
        "b = len(yb.index)\n",
        "c = len(dataset.index)\n",
        "d = len(rolling_prior_day_5.index)\n",
        "a1 = len(y_df.index)\n",
        "b1 = len(yb_df.index)\n",
        "\n",
        "print(a)\n",
        "print(b)\n",
        "print(c)\n",
        "print(d)\n",
        "print(a1)\n",
        "print(b1)"
      ],
      "execution_count": null,
      "outputs": [
        {
          "output_type": "stream",
          "text": [
            "1405\n",
            "1405\n",
            "1405\n",
            "1405\n",
            "1405\n",
            "1405\n"
          ],
          "name": "stdout"
        }
      ]
    },
    {
      "cell_type": "markdown",
      "metadata": {
        "id": "bb-FeVxGgtux"
      },
      "source": [
        "#Create final dataset and review\n",
        "\n",
        "A concat procedure is necessary to create the final dataset.\n",
        "\n",
        "There should be a total of 37 columns"
      ]
    },
    {
      "cell_type": "code",
      "metadata": {
        "colab": {
          "base_uri": "https://localhost:8080/",
          "height": 134
        },
        "id": "QqUDH3p9EA_v",
        "outputId": "1622747d-32bc-4828-9e84-e7d5124ebf8d"
      },
      "source": [
        "dataset_final = pd.concat([dataset,\n",
        "           rolling_prior_day_5, \n",
        "           rolling_prior_day_10, \n",
        "           rolling_prior_day_15, \n",
        "           rolling_prior_day_20, \n",
        "           rolling_prior_day_25, \n",
        "           rolling_prior_day_30,\n",
        "           y_df,\n",
        "           yb_df],\n",
        "           axis = 1)\n",
        "\n",
        "dataset_final.head(1)"
      ],
      "execution_count": null,
      "outputs": [
        {
          "output_type": "execute_result",
          "data": {
            "text/html": [
              "<div>\n",
              "<style scoped>\n",
              "    .dataframe tbody tr th:only-of-type {\n",
              "        vertical-align: middle;\n",
              "    }\n",
              "\n",
              "    .dataframe tbody tr th {\n",
              "        vertical-align: top;\n",
              "    }\n",
              "\n",
              "    .dataframe thead th {\n",
              "        text-align: right;\n",
              "    }\n",
              "</style>\n",
              "<table border=\"1\" class=\"dataframe\">\n",
              "  <thead>\n",
              "    <tr style=\"text-align: right;\">\n",
              "      <th></th>\n",
              "      <th>Close</th>\n",
              "      <th>Date</th>\n",
              "      <th>DOW</th>\n",
              "      <th>DOY</th>\n",
              "      <th>Week</th>\n",
              "      <th>Month</th>\n",
              "      <th>Quarter</th>\n",
              "      <th>gain_loss-0</th>\n",
              "      <th>gain_loss-1</th>\n",
              "      <th>gain_loss-2</th>\n",
              "      <th>gain_loss-3</th>\n",
              "      <th>gain_loss-4</th>\n",
              "      <th>gain_loss-0b</th>\n",
              "      <th>gain_loss-1b</th>\n",
              "      <th>gain_loss-2b</th>\n",
              "      <th>gain_loss-3b</th>\n",
              "      <th>gain_loss-4b</th>\n",
              "      <th>gain_loss-total_b</th>\n",
              "      <th>prior_day-0</th>\n",
              "      <th>prior_day-1</th>\n",
              "      <th>prior_day-2</th>\n",
              "      <th>prior_day-3</th>\n",
              "      <th>prior_day-4</th>\n",
              "      <th>prior_day-0b</th>\n",
              "      <th>prior_day-1b</th>\n",
              "      <th>prior_day-2b</th>\n",
              "      <th>prior_day-3b</th>\n",
              "      <th>prior_day-4b</th>\n",
              "      <th>prior_day-total_b</th>\n",
              "      <th>rolling_close_3</th>\n",
              "      <th>rolling_close_6</th>\n",
              "      <th>rolling_close_9</th>\n",
              "      <th>rolling_close_12</th>\n",
              "      <th>rolling_close_15</th>\n",
              "      <th>rolling_close_18</th>\n",
              "      <th>rolling_close_21</th>\n",
              "      <th>rolling_close_3b</th>\n",
              "      <th>rolling_close_6b</th>\n",
              "      <th>rolling_close_9b</th>\n",
              "      <th>rolling_close_12b</th>\n",
              "      <th>rolling_close_15b</th>\n",
              "      <th>rolling_close_18b</th>\n",
              "      <th>rolling_close_21b</th>\n",
              "      <th>rolling_close_total_b</th>\n",
              "      <th>prior_day-0</th>\n",
              "      <th>prior_day-0</th>\n",
              "      <th>prior_day-0</th>\n",
              "      <th>prior_day-0</th>\n",
              "      <th>prior_day-0</th>\n",
              "      <th>prior_day-0</th>\n",
              "      <th>y</th>\n",
              "      <th>yb</th>\n",
              "    </tr>\n",
              "  </thead>\n",
              "  <tbody>\n",
              "    <tr>\n",
              "      <th>0</th>\n",
              "      <td>437.59</td>\n",
              "      <td>2021-08-02</td>\n",
              "      <td>0</td>\n",
              "      <td>214</td>\n",
              "      <td>31</td>\n",
              "      <td>8</td>\n",
              "      <td>3</td>\n",
              "      <td>-0.92</td>\n",
              "      <td>-3.06</td>\n",
              "      <td>-1.24</td>\n",
              "      <td>-1.42</td>\n",
              "      <td>-3.43</td>\n",
              "      <td>0</td>\n",
              "      <td>0</td>\n",
              "      <td>0</td>\n",
              "      <td>0</td>\n",
              "      <td>0</td>\n",
              "      <td>0</td>\n",
              "      <td>-0.92</td>\n",
              "      <td>-2.14</td>\n",
              "      <td>1.82</td>\n",
              "      <td>-0.18</td>\n",
              "      <td>-2.01</td>\n",
              "      <td>0</td>\n",
              "      <td>0</td>\n",
              "      <td>1</td>\n",
              "      <td>0</td>\n",
              "      <td>0</td>\n",
              "      <td>1</td>\n",
              "      <td>-1.326667</td>\n",
              "      <td>-1.678333</td>\n",
              "      <td>-0.805556</td>\n",
              "      <td>1.5125</td>\n",
              "      <td>1.622667</td>\n",
              "      <td>1.866111</td>\n",
              "      <td>2.154762</td>\n",
              "      <td>0</td>\n",
              "      <td>0</td>\n",
              "      <td>0</td>\n",
              "      <td>1</td>\n",
              "      <td>1</td>\n",
              "      <td>1</td>\n",
              "      <td>1</td>\n",
              "      <td>4</td>\n",
              "      <td>-0.686</td>\n",
              "      <td>1.262</td>\n",
              "      <td>0.034</td>\n",
              "      <td>0.1935</td>\n",
              "      <td>0.4392</td>\n",
              "      <td>0.755667</td>\n",
              "      <td>0.0</td>\n",
              "      <td>0</td>\n",
              "    </tr>\n",
              "  </tbody>\n",
              "</table>\n",
              "</div>"
            ],
            "text/plain": [
              "    Close       Date  DOW  DOY  ...  prior_day-0  prior_day-0    y  yb\n",
              "0  437.59 2021-08-02    0  214  ...       0.4392     0.755667  0.0   0\n",
              "\n",
              "[1 rows x 52 columns]"
            ]
          },
          "metadata": {
            "tags": []
          },
          "execution_count": 142
        }
      ]
    },
    {
      "cell_type": "markdown",
      "metadata": {
        "id": "R_VdPhY45MJd"
      },
      "source": [
        "#Evaluate dataset for NaN\n",
        "\n",
        "Throught the processes above there should have been some NaN values created at the tail"
      ]
    },
    {
      "cell_type": "code",
      "metadata": {
        "colab": {
          "base_uri": "https://localhost:8080/"
        },
        "id": "d6avhJTi5Wop",
        "outputId": "eb4bf12b-ec6d-4232-eb22-8323a81625cb"
      },
      "source": [
        "dataset_final.dropna(inplace = True)\n",
        "\n",
        "a = len(dataset.index)\n",
        "e = len(dataset_final.index)\n",
        "\n",
        "print(\"rows dropped = {}\".format(a-e))"
      ],
      "execution_count": null,
      "outputs": [
        {
          "output_type": "stream",
          "text": [
            "rows dropped = 30\n"
          ],
          "name": "stdout"
        }
      ]
    },
    {
      "cell_type": "markdown",
      "metadata": {
        "id": "RiHaMfDUTEMj"
      },
      "source": [
        "#Create a correlation matrix\n",
        "\n",
        "Evaluate the effectiveness of each attribute in relation to y and yb"
      ]
    },
    {
      "cell_type": "code",
      "metadata": {
        "colab": {
          "base_uri": "https://localhost:8080/"
        },
        "id": "63qL6jw_TOvu",
        "outputId": "e4cb95f0-ab1b-402d-978a-910b82fdae43"
      },
      "source": [
        "corr_mx = dataset_final.corr()\n",
        "\n",
        "print(corr_mx)"
      ],
      "execution_count": null,
      "outputs": [
        {
          "output_type": "stream",
          "text": [
            "                          Close       DOW  ...         y        yb\n",
            "Close                  1.000000 -0.004349  ...  0.000557 -0.001322\n",
            "DOW                   -0.004349  1.000000  ... -0.024894 -0.016815\n",
            "DOY                   -0.023267 -0.012747  ... -0.003658 -0.009916\n",
            "Week                  -0.021856 -0.017160  ... -0.006272 -0.016253\n",
            "Month                 -0.022482 -0.012779  ... -0.002331 -0.007010\n",
            "Quarter               -0.013525 -0.015037  ...  0.009717 -0.000832\n",
            "gain_loss-0            0.056267 -0.017218  ... -0.185590 -0.074218\n",
            "gain_loss-1            0.079577 -0.023505  ... -0.043989 -0.028066\n",
            "gain_loss-2            0.097206 -0.008733  ... -0.035994 -0.037113\n",
            "gain_loss-3            0.112125  0.004059  ... -0.065036 -0.034662\n",
            "gain_loss-4            0.125585 -0.005246  ... -0.031265 -0.042605\n",
            "gain_loss-0b           0.034072 -0.012656  ... -0.026099 -0.058713\n",
            "gain_loss-1b           0.045754 -0.031426  ... -0.003433 -0.037547\n",
            "gain_loss-2b           0.042867 -0.018463  ...  0.005357 -0.027542\n",
            "gain_loss-3b           0.091224 -0.036493  ...  0.008058 -0.002683\n",
            "gain_loss-4b           0.068476 -0.011518  ... -0.021396 -0.055457\n",
            "gain_loss-total_b      0.073448 -0.028810  ... -0.009909 -0.047679\n",
            "prior_day-0            0.056267 -0.017218  ... -0.185590 -0.074218\n",
            "prior_day-1            0.045338 -0.012794  ...  0.129385  0.038369\n",
            "prior_day-2            0.052757  0.016135  ... -0.000999 -0.023099\n",
            "prior_day-3            0.052649  0.021355  ... -0.062902 -0.005063\n",
            "prior_day-4            0.049422 -0.018202  ...  0.056212 -0.023001\n",
            "prior_day-0b           0.034072 -0.012656  ... -0.026099 -0.058713\n",
            "prior_day-1b           0.033761  0.004069  ...  0.039462  0.007555\n",
            "prior_day-2b           0.037170  0.027083  ... -0.010062 -0.050231\n",
            "prior_day-3b           0.036205 -0.013731  ... -0.012522  0.025277\n",
            "prior_day-4b           0.038996  0.011398  ...  0.009923 -0.030843\n",
            "prior_day-total_b      0.085801  0.007692  ...  0.000332 -0.050926\n",
            "rolling_close_3        0.076489 -0.022883  ... -0.117125 -0.053319\n",
            "rolling_close_6        0.113999 -0.009451  ... -0.070952 -0.047024\n",
            "rolling_close_9        0.142840 -0.006317  ... -0.066365 -0.045027\n",
            "rolling_close_12       0.165948 -0.001712  ... -0.045100 -0.035543\n",
            "rolling_close_15       0.185503 -0.001519  ... -0.037484 -0.033723\n",
            "rolling_close_18       0.203826 -0.003008  ... -0.035406 -0.034032\n",
            "rolling_close_21       0.220677 -0.002788  ... -0.033354 -0.032409\n",
            "rolling_close_3b       0.061267 -0.028063  ... -0.032526 -0.041069\n",
            "rolling_close_6b       0.073878 -0.021312  ... -0.020433 -0.031474\n",
            "rolling_close_9b       0.084544 -0.009432  ...  0.004719 -0.021543\n",
            "rolling_close_12b      0.087236 -0.014683  ...  0.004110 -0.051586\n",
            "rolling_close_15b      0.126951  0.015854  ... -0.013123 -0.054383\n",
            "rolling_close_18b      0.155965  0.004148  ... -0.006874 -0.017705\n",
            "rolling_close_21b      0.151441  0.004959  ...  0.000803 -0.014121\n",
            "rolling_close_total_b  0.126647 -0.008912  ... -0.011240 -0.040216\n",
            "prior_day-0            0.125585 -0.005246  ... -0.031265 -0.042605\n",
            "prior_day-0            0.178721 -0.000315  ... -0.014465 -0.027186\n",
            "prior_day-0            0.217983 -0.007595  ... -0.036651 -0.033836\n",
            "prior_day-0            0.252096 -0.002700  ... -0.030797 -0.020856\n",
            "prior_day-0            0.281602  0.003236  ... -0.042653 -0.013338\n",
            "prior_day-0            0.308330  0.001826  ... -0.037251 -0.008777\n",
            "y                      0.000557 -0.024894  ...  1.000000  0.604173\n",
            "yb                    -0.001322 -0.016815  ...  0.604173  1.000000\n",
            "\n",
            "[51 rows x 51 columns]\n"
          ],
          "name": "stdout"
        }
      ]
    },
    {
      "cell_type": "code",
      "metadata": {
        "id": "m1otAGWgW_KD"
      },
      "source": [
        "# Export to view expected results...\n",
        "\n",
        "corr_mx.to_csv('/content/drive/MyDrive/Colab Notebooks/correlation_matrix.csv')"
      ],
      "execution_count": null,
      "outputs": []
    },
    {
      "cell_type": "markdown",
      "metadata": {
        "id": "rifSXtgbhYYt"
      },
      "source": [
        "#Create dataset splitting variable (Train and Pred)\n",
        "\n",
        "Date variables based on today date are required to prevent \"hardcoding\" dates into the model\n",
        "\n",
        "The date_var variable will represent the most current date in the dataset. This allows the solution to be run for any timeframe.\n",
        "\n",
        "The following code can replace the current date_var logic in the case the current method causes issues. Note, this method requires adjustment when back testing \n",
        "\n",
        "date_var = pd.to_datetime(date.today()) \n",
        "\n",
        "use train/pred_minus_days to tune the model for longer or shorter periods of time. Allow for a 30 day overlap where pred will have 30 days"
      ]
    },
    {
      "cell_type": "code",
      "metadata": {
        "colab": {
          "base_uri": "https://localhost:8080/"
        },
        "id": "iF1y7B2r7cVv",
        "outputId": "e554613e-f4c0-41f6-9c6d-13b3af6f3a6f"
      },
      "source": [
        "train_minus_days = 75\n",
        "pred_minus_days = 75\n",
        "\n",
        "date_var = dataset_final['Date'].max()\n",
        "train_begin_date = dataset_final['Date'].min()\n",
        "train_end_date = (date_var - pd.to_timedelta(train_minus_days, unit='d'))\n",
        "pred_begin_date = (date_var - pd.to_timedelta(pred_minus_days, unit='d'))\n",
        "pred_end_date = date_var\n",
        "\n",
        "train_begin_date = train_begin_date.to_pydatetime()\n",
        "train_end_date = train_end_date.to_pydatetime()\n",
        "pred_begin_date = pred_begin_date.to_pydatetime()\n",
        "pred_end_date = pred_end_date.to_pydatetime()\n",
        "\n",
        "#train_begin_date = pd.DataFrame([train_begin_date], columns=['train_begin_date'])\n",
        "#train_end_date = pd.DataFrame([train_end_date], columns=['train_end_date'])\n",
        "#pred_begin_date = pd.DataFrame([pred_begin_date], columns=['pred_begin_date'])\n",
        "#pred_end_date = pd.DataFrame([pred_end_date], columns=['pred_end_date'])\n",
        "\n",
        "print(train_begin_date)\n",
        "print(train_end_date)\n",
        "print(pred_begin_date)\n",
        "print(pred_end_date)"
      ],
      "execution_count": null,
      "outputs": [
        {
          "output_type": "stream",
          "text": [
            "2016-02-17 00:00:00\n",
            "2021-05-19 00:00:00\n",
            "2021-05-19 00:00:00\n",
            "2021-08-02 00:00:00\n"
          ],
          "name": "stdout"
        }
      ]
    },
    {
      "cell_type": "markdown",
      "metadata": {
        "id": "IzgziXsl-SBz"
      },
      "source": [
        "#Split between training and predict data sets\n",
        "\n",
        "The top last 90 periods (rows) will generate the pred data set.\n",
        "\n",
        "All but the top 60 periods (rows) will generate the training data set.\n",
        "\n",
        "The 30 day overlap can provide a measure of the model's degredation over time\n",
        "\n",
        "!Note - The market is closed on weekends and holidays. The count of days in each set will NOT equal the amount of days between begin and end dates."
      ]
    },
    {
      "cell_type": "code",
      "metadata": {
        "colab": {
          "base_uri": "https://localhost:8080/"
        },
        "id": "nOHf760CShq3",
        "outputId": "eed2ea07-1ffb-4070-fe42-d074d2a025be"
      },
      "source": [
        "#split text and train datasets\n",
        "predset = dataset_final[(dataset_final['Date'] >= pred_begin_date) & \n",
        "                        (dataset_final['Date'] <= pred_end_date)]\n",
        "trainset = dataset_final[(dataset_final['Date'] >= train_begin_date) & \n",
        "                         (dataset_final['Date'] <= train_end_date)]\n",
        "type(predset)"
      ],
      "execution_count": null,
      "outputs": [
        {
          "output_type": "execute_result",
          "data": {
            "text/plain": [
              "pandas.core.frame.DataFrame"
            ]
          },
          "metadata": {
            "tags": []
          },
          "execution_count": 147
        }
      ]
    },
    {
      "cell_type": "code",
      "metadata": {
        "colab": {
          "base_uri": "https://localhost:8080/"
        },
        "id": "cTZ65w52bsBZ",
        "outputId": "9fc4ba2e-9c78-4015-c200-b2c562b5b153"
      },
      "source": [
        "list(dataset.columns)"
      ],
      "execution_count": null,
      "outputs": [
        {
          "output_type": "execute_result",
          "data": {
            "text/plain": [
              "['Close',\n",
              " 'Date',\n",
              " 'DOW',\n",
              " 'DOY',\n",
              " 'Week',\n",
              " 'Month',\n",
              " 'Quarter',\n",
              " 'gain_loss-0',\n",
              " 'gain_loss-1',\n",
              " 'gain_loss-2',\n",
              " 'gain_loss-3',\n",
              " 'gain_loss-4',\n",
              " 'gain_loss-0b',\n",
              " 'gain_loss-1b',\n",
              " 'gain_loss-2b',\n",
              " 'gain_loss-3b',\n",
              " 'gain_loss-4b',\n",
              " 'gain_loss-total_b',\n",
              " 'prior_day-0',\n",
              " 'prior_day-1',\n",
              " 'prior_day-2',\n",
              " 'prior_day-3',\n",
              " 'prior_day-4',\n",
              " 'prior_day-0b',\n",
              " 'prior_day-1b',\n",
              " 'prior_day-2b',\n",
              " 'prior_day-3b',\n",
              " 'prior_day-4b',\n",
              " 'prior_day-total_b',\n",
              " 'rolling_close_3',\n",
              " 'rolling_close_6',\n",
              " 'rolling_close_9',\n",
              " 'rolling_close_12',\n",
              " 'rolling_close_15',\n",
              " 'rolling_close_18',\n",
              " 'rolling_close_21',\n",
              " 'rolling_close_3b',\n",
              " 'rolling_close_6b',\n",
              " 'rolling_close_9b',\n",
              " 'rolling_close_12b',\n",
              " 'rolling_close_15b',\n",
              " 'rolling_close_18b',\n",
              " 'rolling_close_21b',\n",
              " 'rolling_close_total_b']"
            ]
          },
          "metadata": {
            "tags": []
          },
          "execution_count": 148
        }
      ]
    },
    {
      "cell_type": "markdown",
      "metadata": {
        "id": "50h5EJr9_DZW"
      },
      "source": [
        "#Convert dataset into X and y and refine column membership\n",
        "\n",
        "This process separates the dependant and independant variables\n",
        "\n",
        "X should not contain the y or yb attributes\n",
        "\n",
        "for X, \"Date\" should be removed since it is a time-series value; date attributes will represent time\n",
        "\n",
        "for X, \"Close\" should be removed due to its relationship to the indepenant variable\n",
        "\n",
        "Two models will come out of this model, one for continuous variable y and binary value yb"
      ]
    },
    {
      "cell_type": "code",
      "metadata": {
        "colab": {
          "base_uri": "https://localhost:8080/"
        },
        "id": "Z0cZJQK3ILwd",
        "outputId": "b5db7e5c-9dda-4a8c-f255-ae3c44be30ec"
      },
      "source": [
        "XX = trainset\n",
        "XX.drop(XX.tail(31).index, inplace = True)\n",
        "X = XX.drop(['y', 'yb', 'Close', 'Date','Week', 'DOW', 'Month', 'Quarter', 'gain_loss-0b', 'gain_loss-1b', 'gain_loss-2b', 'gain_loss-3b', 'gain_loss-4b', 'prior_day-0b', 'prior_day-1b', 'prior_day-2b', 'prior_day-3b', 'prior_day-4b', 'rolling_close_3b', 'rolling_close_6b', 'rolling_close_9b', 'rolling_close_12b', 'rolling_close_15b', 'rolling_close_18b', 'rolling_close_21b'], axis = 1)\n",
        "Xb = XX.drop(['y', 'yb', 'Close', 'Date','Week', 'gain_loss-0', 'gain_loss-1', 'gain_loss-2', 'gain_loss-3', 'gain_loss-4', 'gain_loss-total_b', 'prior_day-0', 'prior_day-1', 'prior_day-2', 'prior_day-3', 'prior_day-4', 'prior_day-total_b', 'rolling_close_3', 'rolling_close_6', 'rolling_close_9', 'rolling_close_12', 'rolling_close_15', 'rolling_close_18', 'rolling_close_21', 'rolling_close_total_b'], axis = 1)\n",
        "X_all = XX.drop(['y', 'yb', 'Close', 'Date','Week'], axis = 1)\n",
        "y = trainset['y'].values\n",
        "yb = trainset['yb'].values\n",
        "print(X)\n",
        "print(\"-------------------------\")\n",
        "print(y)\n",
        "print(\"-------------------------\")\n",
        "print(yb)"
      ],
      "execution_count": null,
      "outputs": [
        {
          "output_type": "stream",
          "text": [
            "      DOY  gain_loss-0  gain_loss-1  ...  prior_day-0  prior_day-0  prior_day-0\n",
            "51    139      -1.0800      -4.6600  ...     -0.26050    -0.023600     0.142333\n",
            "52    138      -3.5800      -4.6400  ...     -0.01150    -0.036800     0.194000\n",
            "53    137      -1.0600       5.2400  ...      0.01550     0.155200     0.305333\n",
            "54    134       6.3000      11.1700  ...     -0.03400     0.203600     0.532333\n",
            "55    133       4.8700      -3.9300  ...     -0.27950     0.070400     0.465000\n",
            "...   ...          ...          ...  ...          ...          ...          ...\n",
            "1339   98      -2.4700      -0.2392  ...      0.22850     0.198000     0.358333\n",
            "1340   97       2.2308       0.1700  ...      0.40100     0.332400     0.470000\n",
            "1341   96      -2.0608      -2.7308  ...      0.17996     0.425168     0.313640\n",
            "1342   95      -0.6700       0.7300  ...      0.29100     0.446432     0.475000\n",
            "1343   92       1.4000       0.9000  ...      0.35725     0.455200     0.494333\n",
            "\n",
            "[1293 rows x 27 columns]\n",
            "-------------------------\n",
            "[ 4.42   -1.08   -3.58   ...  2.2308 -2.0608 -0.67  ]\n",
            "-------------------------\n",
            "[1 0 0 ... 1 0 0]\n"
          ],
          "name": "stdout"
        },
        {
          "output_type": "stream",
          "text": [
            "/usr/local/lib/python3.7/dist-packages/pandas/core/frame.py:4174: SettingWithCopyWarning: \n",
            "A value is trying to be set on a copy of a slice from a DataFrame\n",
            "\n",
            "See the caveats in the documentation: https://pandas.pydata.org/pandas-docs/stable/user_guide/indexing.html#returning-a-view-versus-a-copy\n",
            "  errors=errors,\n"
          ],
          "name": "stderr"
        }
      ]
    },
    {
      "cell_type": "code",
      "metadata": {
        "colab": {
          "base_uri": "https://localhost:8080/"
        },
        "id": "jTo9CiOAAbnm",
        "outputId": "3bc59a28-01e0-4e57-dc47-6fa25f8ea626"
      },
      "source": [
        "type(X)"
      ],
      "execution_count": null,
      "outputs": [
        {
          "output_type": "execute_result",
          "data": {
            "text/plain": [
              "pandas.core.frame.DataFrame"
            ]
          },
          "metadata": {
            "tags": []
          },
          "execution_count": 150
        }
      ]
    },
    {
      "cell_type": "code",
      "metadata": {
        "colab": {
          "base_uri": "https://localhost:8080/"
        },
        "id": "wQNhBiAEN_fx",
        "outputId": "6e449311-15da-4099-a66b-02c43bc32faf"
      },
      "source": [
        "#Validation of row counts\n",
        "\n",
        "f = len(X)\n",
        "g = len(y)\n",
        "h = len(yb)\n",
        "\n",
        "print(f, g, h)"
      ],
      "execution_count": null,
      "outputs": [
        {
          "output_type": "stream",
          "text": [
            "1293 1293 1293\n"
          ],
          "name": "stdout"
        }
      ]
    },
    {
      "cell_type": "markdown",
      "metadata": {
        "id": "BgGLmBg2CCjH"
      },
      "source": [
        "#Train the models\n",
        "\n",
        "The model can be extended to use any regression or classificaiton model.\n",
        "\n",
        "Current model inventory:\n",
        "\n",
        "1) Random Forest"
      ]
    },
    {
      "cell_type": "code",
      "metadata": {
        "colab": {
          "base_uri": "https://localhost:8080/"
        },
        "id": "w4xd8XMCH3M2",
        "outputId": "4708d1ee-2c5f-4d62-ce1a-9c1254505c27"
      },
      "source": [
        "from sklearn.ensemble import RandomForestRegressor\n",
        "\n",
        "regressor = RandomForestRegressor(n_estimators = 120, random_state = 0)\n",
        "\n",
        "regressor.fit(X, y)\n",
        "\n",
        "regressor_b = RandomForestRegressor(n_estimators = 120, random_state = 0)\n",
        "\n",
        "regressor_b.fit(Xb, yb)\n",
        "\n",
        "regressor_all = RandomForestRegressor(n_estimators = 120, random_state = 0)\n",
        "\n",
        "regressor_all.fit(X_all, y)\n",
        "\n",
        "regressor_all_b = RandomForestRegressor(n_estimators = 120, random_state = 0)\n",
        "\n",
        "regressor_all_b.fit(X_all, yb)\n"
      ],
      "execution_count": null,
      "outputs": [
        {
          "output_type": "execute_result",
          "data": {
            "text/plain": [
              "RandomForestRegressor(bootstrap=True, ccp_alpha=0.0, criterion='mse',\n",
              "                      max_depth=None, max_features='auto', max_leaf_nodes=None,\n",
              "                      max_samples=None, min_impurity_decrease=0.0,\n",
              "                      min_impurity_split=None, min_samples_leaf=1,\n",
              "                      min_samples_split=2, min_weight_fraction_leaf=0.0,\n",
              "                      n_estimators=120, n_jobs=None, oob_score=False,\n",
              "                      random_state=0, verbose=0, warm_start=False)"
            ]
          },
          "metadata": {
            "tags": []
          },
          "execution_count": 152
        }
      ]
    },
    {
      "cell_type": "code",
      "metadata": {
        "colab": {
          "base_uri": "https://localhost:8080/"
        },
        "id": "9h52OCjWASy1",
        "outputId": "4bde3c58-e278-4550-8ff1-c1b7a5e1e7b4"
      },
      "source": [
        "type"
      ],
      "execution_count": null,
      "outputs": [
        {
          "output_type": "execute_result",
          "data": {
            "text/plain": [
              "type"
            ]
          },
          "metadata": {
            "tags": []
          },
          "execution_count": 153
        }
      ]
    },
    {
      "cell_type": "markdown",
      "metadata": {
        "id": "lMP2XIlOCUTS"
      },
      "source": [
        "#Create predict dataset\n",
        "\n",
        "The predict dataset should match the process used to generate the training dataset"
      ]
    },
    {
      "cell_type": "code",
      "metadata": {
        "colab": {
          "base_uri": "https://localhost:8080/"
        },
        "id": "G0BNR3t8Um8v",
        "outputId": "c9f540d4-767a-4778-ddd6-60664674dbb6"
      },
      "source": [
        "#Prepare predict set\n",
        "Xpred = predset\n",
        "X_pred = Xpred.drop(['y', 'yb', 'Close', 'Date','Week', 'DOW', 'Month', 'Quarter', 'gain_loss-0b', 'gain_loss-1b', 'gain_loss-2b', 'gain_loss-3b', 'gain_loss-4b', 'prior_day-0b', 'prior_day-1b', 'prior_day-2b', 'prior_day-3b', 'prior_day-4b', 'rolling_close_3b', 'rolling_close_6b', 'rolling_close_9b', 'rolling_close_12b', 'rolling_close_15b', 'rolling_close_18b', 'rolling_close_21b'], axis = 1)\n",
        "Xb_pred = Xpred.drop(['y', 'yb', 'Close', 'Date','Week', 'gain_loss-0', 'gain_loss-1', 'gain_loss-2', 'gain_loss-3', 'gain_loss-4', 'gain_loss-total_b', 'prior_day-0', 'prior_day-1', 'prior_day-2', 'prior_day-3', 'prior_day-4', 'prior_day-total_b', 'rolling_close_3', 'rolling_close_6', 'rolling_close_9', 'rolling_close_12', 'rolling_close_15', 'rolling_close_18', 'rolling_close_21', 'rolling_close_total_b'], axis = 1)\n",
        "X_all_pred = Xpred.drop(['y', 'yb', 'Close', 'Date','Week'], axis = 1)\n",
        "y_actual = predset['y'].values\n",
        "yb_actual = predset['yb'].values\n",
        "print(Xpred)\n",
        "print(\"-------------------------\")\n",
        "print(y_actual)\n",
        "print(\"-------------------------\")\n",
        "print(yb_actual)"
      ],
      "execution_count": null,
      "outputs": [
        {
          "output_type": "stream",
          "text": [
            "     Close       Date  DOW  DOY  ...  prior_day-0  prior_day-0     y  yb\n",
            "0   437.59 2021-08-02    0  214  ...       0.4392     0.755667  0.00   0\n",
            "1   438.51 2021-07-30    4  211  ...       0.5364     0.551333 -0.92   0\n",
            "2   440.65 2021-07-29    3  210  ...       0.7220     0.618000 -2.14   0\n",
            "3   438.83 2021-07-28    2  209  ...       0.6288     0.478333  1.82   1\n",
            "4   439.01 2021-07-27    1  208  ...       0.7260     0.458333 -0.18   0\n",
            "5   441.02 2021-07-26    0  207  ...       1.0440     0.557000 -2.01   0\n",
            "6   439.94 2021-07-23    4  204  ...       0.7188     0.544333  1.08   1\n",
            "7   435.46 2021-07-22    3  203  ...       0.5340     0.460333  4.48   1\n",
            "8   434.55 2021-07-21    2  202  ...       0.4028     0.409000  0.91   1\n",
            "9   431.06 2021-07-20    1  201  ...       0.2320     0.295667  3.49   1\n",
            "10  424.97 2021-07-19    0  200  ...       0.0264     0.079000  6.09   1\n",
            "11  431.34 2021-07-16    4  197  ...       0.3092     0.419000 -6.37   0\n",
            "12  434.75 2021-07-15    3  196  ...       0.5240     0.480667 -3.41   0\n",
            "13  436.24 2021-07-14    2  195  ...       0.5584     0.552333 -1.49   0\n",
            "14  435.59 2021-07-13    1  194  ...       0.5360     0.518333  0.65   1\n",
            "15  437.08 2021-07-12    0  193  ...       0.5792     0.593000 -1.49   0\n",
            "16  435.52 2021-07-09    4  190  ...       0.6700     0.548333  1.56   1\n",
            "17  430.92 2021-07-08    3  189  ...       0.4236     0.422667  4.60   1\n",
            "18  434.46 2021-07-07    2  188  ...       0.5916     0.509667 -3.54   0\n",
            "19  432.93 2021-07-06    1  187  ...       0.5156     0.599667  1.53   1\n",
            "20  433.72 2021-07-02    4  183  ...       0.5772     0.614667 -0.79   0\n",
            "21  430.43 2021-07-01    3  182  ...       0.4544     0.652333  3.29   1\n",
            "22  428.06 2021-06-30    2  181  ...       0.3928     0.537333  2.37   1\n",
            "23  427.70 2021-06-29    1  180  ...       0.3412     0.406000  0.36   1\n",
            "24  427.47 2021-06-28    0  179  ...       0.5012     0.363000  0.23   1\n",
            "25  426.61 2021-06-25    4  176  ...       0.4532     0.544333  0.86   1\n",
            "26  425.10 2021-06-24    3  175  ...       0.5696     0.656333  1.51   1\n",
            "27  422.60 2021-06-23    2  174  ...       0.4264     0.279667  2.50   1\n",
            "28  423.11 2021-06-22    1  173  ...       0.3036     0.172333 -0.51   0\n",
            "29  420.86 2021-06-21    0  172  ...       0.1712    -0.042000  2.25   1\n",
            "30  414.92 2021-06-18    4  169  ...       0.1856    -0.138333  5.94   1\n",
            "31  421.97 2021-06-17    3  168  ...       0.6624     0.207333 -7.05   0\n",
            "32  422.11 2021-06-16    2  167  ...       0.3160     0.216333 -0.14   0\n",
            "33  424.48 2021-06-15    1  166  ...       0.2616     0.209333 -2.37   0\n",
            "34  425.26 2021-06-14    0  165  ...       0.1256     0.265333 -0.78   0\n",
            "35  424.31 2021-06-11    4  162  ...       0.2096     0.141667  0.95   1\n",
            "36  423.61 2021-06-10    3  161  ...       0.3144     0.207000  0.70   1\n",
            "37  421.65 2021-06-09    2  160  ...       0.2412     0.137667  1.96   1\n",
            "38  422.28 2021-06-08    1  159  ...       0.1632     0.155667 -0.63   0\n",
            "39  422.19 2021-06-07    0  158  ...       0.1956     0.181667  0.09   1\n",
            "40  422.60 2021-06-04    4  155  ...       0.1016     0.344333 -0.41   0\n",
            "41  418.77 2021-06-03    3  154  ...       0.0548     0.090000  3.83   1\n",
            "42  420.33 2021-06-02    2  153  ...       0.1124     0.272000 -1.56   0\n",
            "43  419.67 2021-06-01    1  152  ...       0.0824     0.148667  0.66   1\n",
            "44  420.04 2021-05-28    4  148  ...       0.1320     0.092667 -0.37   0\n",
            "45  419.29 2021-05-27    3  147  ...       0.2808     0.114000  0.75   1\n",
            "46  419.07 2021-05-26    2  146  ...       0.1200     0.254000  0.22   1\n",
            "47  418.24 2021-05-25    1  145  ...       0.2428     0.179333  0.83   1\n",
            "48  419.17 2021-05-24    0  144  ...       0.1584     0.251000 -0.93   0\n",
            "49  414.94 2021-05-21    4  141  ...      -0.0928     0.115000  4.23   1\n",
            "50  415.28 2021-05-20    3  140  ...      -0.0236     0.225333 -0.34   0\n",
            "51  410.86 2021-05-19    2  139  ...      -0.0236     0.142333  4.42   1\n",
            "\n",
            "[52 rows x 52 columns]\n",
            "-------------------------\n",
            "[ 0.   -0.92 -2.14  1.82 -0.18 -2.01  1.08  4.48  0.91  3.49  6.09 -6.37\n",
            " -3.41 -1.49  0.65 -1.49  1.56  4.6  -3.54  1.53 -0.79  3.29  2.37  0.36\n",
            "  0.23  0.86  1.51  2.5  -0.51  2.25  5.94 -7.05 -0.14 -2.37 -0.78  0.95\n",
            "  0.7   1.96 -0.63  0.09 -0.41  3.83 -1.56  0.66 -0.37  0.75  0.22  0.83\n",
            " -0.93  4.23 -0.34  4.42]\n",
            "-------------------------\n",
            "[0 0 0 1 0 0 1 1 1 1 1 0 0 0 1 0 1 1 0 1 0 1 1 1 1 1 1 1 0 1 1 0 0 0 0 1 1\n",
            " 1 0 1 0 1 0 1 0 1 1 1 0 1 0 1]\n"
          ],
          "name": "stdout"
        }
      ]
    },
    {
      "cell_type": "code",
      "metadata": {
        "id": "j2GHt6_yClWW",
        "colab": {
          "base_uri": "https://localhost:8080/"
        },
        "outputId": "2b2cbdb6-5168-4c42-cb33-89cf40bf808d"
      },
      "source": [
        "i = len(Xpred)\n",
        "j = len(y_actual)\n",
        "k = len(yb_actual)\n",
        "\n",
        "print(i, j, k)"
      ],
      "execution_count": null,
      "outputs": [
        {
          "output_type": "stream",
          "text": [
            "52 52 52\n"
          ],
          "name": "stdout"
        }
      ]
    },
    {
      "cell_type": "markdown",
      "metadata": {
        "id": "agrPLswhEQYf"
      },
      "source": [
        "#Generate predictions\n",
        "\n",
        "Predictions are made for both continuous and binary"
      ]
    },
    {
      "cell_type": "code",
      "metadata": {
        "id": "sJYXf1mKU9t2",
        "colab": {
          "base_uri": "https://localhost:8080/"
        },
        "outputId": "bfdaf46c-2a32-4ef6-9dec-f6bf9f0f64a7"
      },
      "source": [
        "y_pred = regressor.predict(X_pred)\n",
        "\n",
        "yb_pred = regressor_b.predict(Xb_pred)\n",
        "\n",
        "y_all_pred = regressor_all.predict(X_all_pred)\n",
        "\n",
        "y_all_pred_b = regressor_all_b.predict(X_all_pred)\n",
        "\n",
        "np_array = np.concatenate((y_pred.reshape(len(y_pred),1), \n",
        "                           yb_pred.reshape(len(yb_pred),1),\n",
        "                           y_all_pred.reshape(len(y_all_pred),1),\n",
        "                           y_all_pred_b.reshape(len(y_all_pred_b),1),\n",
        "                           y_actual.reshape(len(y_actual),1),\n",
        "                           yb_actual.reshape(len(yb_actual),1),\n",
        "                           ), axis = 1)\n",
        "\n",
        "results = pd.DataFrame(np_array, columns = ['y_pred', 'yb_pred', 'y_all_pred', 'y_all_pred_b', 'y_actual', 'yb_actual'])\n",
        "\n",
        "print(results)\n"
      ],
      "execution_count": null,
      "outputs": [
        {
          "output_type": "stream",
          "text": [
            "      y_pred   yb_pred  y_all_pred  y_all_pred_b  y_actual  yb_actual\n",
            "0   0.509040  0.541667    0.268950      0.508333      0.00        0.0\n",
            "1   0.288901  0.433333    0.241208      0.675000     -0.92        0.0\n",
            "2  -1.110500  0.508333   -1.018583      0.508333     -2.14        0.0\n",
            "3   1.267317  0.441667    1.286883      0.625000      1.82        1.0\n",
            "4   0.539840  0.466667    0.702333      0.791667     -0.18        0.0\n",
            "5   0.935237  0.408333    0.566000      0.633333     -2.01        0.0\n",
            "6  -0.185513  0.416667   -0.198173      0.650000      1.08        1.0\n",
            "7   1.027083  0.308333    1.187465      0.625000      4.48        1.0\n",
            "8   0.364978  0.483333    0.567180      0.666667      0.91        1.0\n",
            "9  -0.102995  0.566667    0.135172      0.416667      3.49        1.0\n",
            "10 -0.264845  0.783333    0.173994      0.583333      6.09        1.0\n",
            "11 -2.197077  0.825000   -2.151250      0.625000     -6.37        0.0\n",
            "12 -2.169099  0.425000   -1.909016      0.583333     -3.41        0.0\n",
            "13  0.903917  0.633333    1.021083      0.716667     -1.49        0.0\n",
            "14  0.038353  0.508333    0.236298      0.591667      0.65        1.0\n",
            "15  0.242362  0.858333    0.108423      0.533333     -1.49        0.0\n",
            "16 -0.130417  0.816667   -0.005667      0.591667      1.56        1.0\n",
            "17  0.449257  0.758333    0.528500      0.508333      4.60        1.0\n",
            "18 -0.614500  0.258333   -0.673367      0.325000     -3.54        0.0\n",
            "19  0.182007  0.650000    0.297333      0.608333      1.53        1.0\n",
            "20  0.074500  0.375000    0.169083      0.600000     -0.79        0.0\n",
            "21 -0.286423  0.575000   -0.203993      0.266667      3.29        1.0\n",
            "22 -0.157417  0.383333   -0.096283      0.525000      2.37        1.0\n",
            "23 -0.044250  0.500000    0.009417      0.525000      0.36        1.0\n",
            "24  0.373680  0.575000    0.454667      0.683333      0.23        1.0\n",
            "25 -0.524867  0.550000   -0.236320      0.541667      0.86        1.0\n",
            "26  1.336910  0.050000    1.434167      0.633333      1.51        1.0\n",
            "27  0.557125  0.625000    0.926452      0.533333      2.50        1.0\n",
            "28  1.149035  0.483333    1.136771      0.666667     -0.51        0.0\n",
            "29 -1.000319  0.616667   -0.866402      0.416667      2.25        1.0\n",
            "30 -0.977003  0.550000   -1.255086      0.583333      5.94        1.0\n",
            "31  0.463272  0.408333    0.532871      0.491667     -7.05        0.0\n",
            "32 -0.295327  0.466667   -0.221806      0.358333     -0.14        0.0\n",
            "33 -0.018013  0.650000    0.070903      0.508333     -2.37        0.0\n",
            "34  0.236653  0.366667    0.273257      0.350000     -0.78        0.0\n",
            "35  0.278340  0.500000    0.220702      0.458333      0.95        1.0\n",
            "36  0.400853  0.358333    0.298925      0.425000      0.70        1.0\n",
            "37  0.819917  0.600000    0.790562      0.733333      1.96        1.0\n",
            "38  0.834763  0.625000    0.756020      0.583333     -0.63        0.0\n",
            "39  0.488818  0.816667    0.484360      0.733333      0.09        1.0\n",
            "40 -0.445153  0.900000   -0.607493      0.441667     -0.41        0.0\n",
            "41  0.022743  0.266667    0.050966      0.500000      3.83        1.0\n",
            "42  0.023083  0.866667    0.083555      0.458333     -1.56        0.0\n",
            "43  0.321645  0.758333    0.250993      0.650000      0.66        1.0\n",
            "44 -0.109960  0.533333    0.073588      0.508333     -0.37        0.0\n",
            "45  1.470543  0.541667    1.428915      0.616667      0.75        1.0\n",
            "46 -0.555000  0.441667   -0.558033      0.541667      0.22        1.0\n",
            "47  1.581341  0.816667    1.656737      0.683333      0.83        1.0\n",
            "48 -0.063822  0.625000   -0.240710      0.700000     -0.93        0.0\n",
            "49 -0.729465  0.508333   -0.612210      0.516667      4.23        1.0\n",
            "50  0.158303  0.275000    0.468493      0.475000     -0.34        0.0\n",
            "51  2.661500  0.933333    2.644417      0.866667      4.42        1.0\n"
          ],
          "name": "stdout"
        }
      ]
    },
    {
      "cell_type": "markdown",
      "metadata": {
        "id": "o-3X7j0LFdm3"
      },
      "source": [
        "#Create buy/sell indicator/strategy based on pred\n",
        "\n",
        "1 = Buy next day\n",
        "\n",
        "0 = Sell next day\n",
        "\n",
        "yb_pred_num is a number that can help tune the model. Any number above .5 is less resk adverse (creates more risk)"
      ]
    },
    {
      "cell_type": "code",
      "metadata": {
        "id": "UGmNBoUvD3ee",
        "colab": {
          "base_uri": "https://localhost:8080/"
        },
        "outputId": "fa594f49-ac3b-4b02-cf9a-451b8b2a4cb3"
      },
      "source": [
        "yb_pred_num = 0.50\n",
        "\n",
        "results['y_pred_arg'] = np.where(results['y_pred'] > 0, 1, 0)\n",
        "results['yb_pred_arg'] = np.where(results['yb_pred'] > yb_pred_num, 1, 0)\n",
        "results['y_all_pred_arg'] = np.where(results['y_all_pred'] > 0, 1, 0)\n",
        "results['y_all_b_pred_arg'] = np.where(results['y_all_pred_b'] > yb_pred_num, 1, 0)\n",
        "results['y_actual_arg'] = np.where(results['y_actual'] > 0, 1, 0)\n",
        "results['yb_acutal_arg'] = np.where(results['yb_actual'] > 0, 1, 0)\n",
        "results['votes'] = results['y_pred_arg'] + results['yb_pred_arg'] + results['y_all_pred_arg'] + results['y_all_b_pred_arg']\n",
        "\n",
        "print(results)\n"
      ],
      "execution_count": null,
      "outputs": [
        {
          "output_type": "stream",
          "text": [
            "      y_pred   yb_pred  y_all_pred  ...  y_actual_arg  yb_acutal_arg  votes\n",
            "0   0.509040  0.541667    0.268950  ...             0              0      4\n",
            "1   0.288901  0.433333    0.241208  ...             0              0      3\n",
            "2  -1.110500  0.508333   -1.018583  ...             0              0      2\n",
            "3   1.267317  0.441667    1.286883  ...             1              1      3\n",
            "4   0.539840  0.466667    0.702333  ...             0              0      3\n",
            "5   0.935237  0.408333    0.566000  ...             0              0      3\n",
            "6  -0.185513  0.416667   -0.198173  ...             1              1      1\n",
            "7   1.027083  0.308333    1.187465  ...             1              1      3\n",
            "8   0.364978  0.483333    0.567180  ...             1              1      3\n",
            "9  -0.102995  0.566667    0.135172  ...             1              1      2\n",
            "10 -0.264845  0.783333    0.173994  ...             1              1      3\n",
            "11 -2.197077  0.825000   -2.151250  ...             0              0      2\n",
            "12 -2.169099  0.425000   -1.909016  ...             0              0      1\n",
            "13  0.903917  0.633333    1.021083  ...             0              0      4\n",
            "14  0.038353  0.508333    0.236298  ...             1              1      4\n",
            "15  0.242362  0.858333    0.108423  ...             0              0      4\n",
            "16 -0.130417  0.816667   -0.005667  ...             1              1      2\n",
            "17  0.449257  0.758333    0.528500  ...             1              1      4\n",
            "18 -0.614500  0.258333   -0.673367  ...             0              0      0\n",
            "19  0.182007  0.650000    0.297333  ...             1              1      4\n",
            "20  0.074500  0.375000    0.169083  ...             0              0      3\n",
            "21 -0.286423  0.575000   -0.203993  ...             1              1      1\n",
            "22 -0.157417  0.383333   -0.096283  ...             1              1      1\n",
            "23 -0.044250  0.500000    0.009417  ...             1              1      2\n",
            "24  0.373680  0.575000    0.454667  ...             1              1      4\n",
            "25 -0.524867  0.550000   -0.236320  ...             1              1      2\n",
            "26  1.336910  0.050000    1.434167  ...             1              1      3\n",
            "27  0.557125  0.625000    0.926452  ...             1              1      4\n",
            "28  1.149035  0.483333    1.136771  ...             0              0      3\n",
            "29 -1.000319  0.616667   -0.866402  ...             1              1      1\n",
            "30 -0.977003  0.550000   -1.255086  ...             1              1      2\n",
            "31  0.463272  0.408333    0.532871  ...             0              0      2\n",
            "32 -0.295327  0.466667   -0.221806  ...             0              0      0\n",
            "33 -0.018013  0.650000    0.070903  ...             0              0      3\n",
            "34  0.236653  0.366667    0.273257  ...             0              0      2\n",
            "35  0.278340  0.500000    0.220702  ...             1              1      2\n",
            "36  0.400853  0.358333    0.298925  ...             1              1      2\n",
            "37  0.819917  0.600000    0.790562  ...             1              1      4\n",
            "38  0.834763  0.625000    0.756020  ...             0              0      4\n",
            "39  0.488818  0.816667    0.484360  ...             1              1      4\n",
            "40 -0.445153  0.900000   -0.607493  ...             0              0      1\n",
            "41  0.022743  0.266667    0.050966  ...             1              1      2\n",
            "42  0.023083  0.866667    0.083555  ...             0              0      3\n",
            "43  0.321645  0.758333    0.250993  ...             1              1      4\n",
            "44 -0.109960  0.533333    0.073588  ...             0              0      3\n",
            "45  1.470543  0.541667    1.428915  ...             1              1      4\n",
            "46 -0.555000  0.441667   -0.558033  ...             1              1      1\n",
            "47  1.581341  0.816667    1.656737  ...             1              1      4\n",
            "48 -0.063822  0.625000   -0.240710  ...             0              0      2\n",
            "49 -0.729465  0.508333   -0.612210  ...             1              1      2\n",
            "50  0.158303  0.275000    0.468493  ...             0              0      2\n",
            "51  2.661500  0.933333    2.644417  ...             1              1      4\n",
            "\n",
            "[52 rows x 13 columns]\n"
          ],
          "name": "stdout"
        }
      ]
    },
    {
      "cell_type": "markdown",
      "metadata": {
        "id": "pqw05ZTyYTRO"
      },
      "source": [
        "#Add in 'short' ticker for same period\n",
        "\n",
        "A short ticker is one that behavies opposite of the selected ticker in this evaluation.\n",
        "\n",
        "The concept of having a short ticker is to trade \"into\" it when trading \"out\" of the primary ticker\n",
        "\n",
        "Note! - This section is not broke out; use hashtag notes as a reference"
      ]
    },
    {
      "cell_type": "code",
      "metadata": {
        "id": "ZfuqoqhppYlx",
        "colab": {
          "base_uri": "https://localhost:8080/"
        },
        "outputId": "ca9aec82-e043-4943-89bd-926457b47bd5"
      },
      "source": [
        "#import dataset\n",
        "dataset_short = pd.read_csv('/content/drive/MyDrive/Colab Notebooks/HistoricalPricesHIBS.csv')\n",
        "#rename values with leading white spaces\n",
        "dataset_short.rename({' Close': 'Close'}, axis=1, inplace = True)\n",
        "#create gain loss value for short\n",
        "dataset_short['gain_loss_short-0'] = dataset_short['Close'].diff(-1)\n",
        "#select out values needed for model\n",
        "dataset_short = dataset_short[['Close', 'Date', 'gain_loss_short-0']]\n",
        "#convert date to datetype\n",
        "dataset_short['Date'] = pd.to_datetime(dataset_short['Date'])\n",
        "#select out mating dates to pred dataset\n",
        "pred_short = dataset_short[(dataset_short['Date'] >= pred_begin_date) & \n",
        "                         (dataset_short['Date'] <= pred_end_date)]\n",
        "#move rows down by one\n",
        "y_short = pd.DataFrame(pred_short['gain_loss_short-0']).reset_index(drop = True)\n",
        "y_short.loc[-1] = [0]\n",
        "y_short.index = y_short.index + 1\n",
        "y_short = y_short.sort_index()\n",
        "y_short.drop(y_short.tail(1).index, inplace = True)\n",
        "y_short.rename(columns={'gain_loss_short-0': 'y_short'}, inplace=True)\n",
        "y_short_df = pd.DataFrame(y_short, columns=['y_short'])\n",
        "#add short to results\n",
        "results = pd.concat([results,\n",
        "                    y_short_df],\n",
        "                    axis = 1)\n",
        "#verfity y_short and y_actual are both 0 at row\n",
        "print(results)"
      ],
      "execution_count": null,
      "outputs": [
        {
          "output_type": "stream",
          "text": [
            "      y_pred   yb_pred  y_all_pred  ...  yb_acutal_arg  votes  y_short\n",
            "0   0.509040  0.541667    0.268950  ...              0      4     0.00\n",
            "1   0.288901  0.433333    0.241208  ...              0      3     0.21\n",
            "2  -1.110500  0.508333   -1.018583  ...              0      2     0.30\n",
            "3   1.267317  0.441667    1.286883  ...              1      3    -0.38\n",
            "4   0.539840  0.466667    0.702333  ...              0      3    -0.32\n",
            "5   0.935237  0.408333    0.566000  ...              0      3     0.43\n",
            "6  -0.185513  0.416667   -0.198173  ...              1      1    -0.58\n",
            "7   1.027083  0.308333    1.187465  ...              1      3    -0.02\n",
            "8   0.364978  0.483333    0.567180  ...              1      3     0.39\n",
            "9  -0.102995  0.566667    0.135172  ...              1      2    -1.27\n",
            "10 -0.264845  0.783333    0.173994  ...              1      3    -1.60\n",
            "11 -2.197077  0.825000   -2.151250  ...              0      2     1.30\n",
            "12 -2.169099  0.425000   -1.909016  ...              0      1     0.95\n",
            "13  0.903917  0.633333    1.021083  ...              0      4     0.44\n",
            "14  0.038353  0.508333    0.236298  ...              1      4     0.52\n",
            "15  0.242362  0.858333    0.108423  ...              0      4     0.58\n",
            "16 -0.130417  0.816667   -0.005667  ...              1      2    -0.26\n",
            "17  0.449257  0.758333    0.528500  ...              1      4    -1.08\n",
            "18 -0.614500  0.258333   -0.673367  ...              0      0     0.42\n",
            "19  0.182007  0.650000    0.297333  ...              1      4     0.48\n",
            "20  0.074500  0.375000    0.169083  ...              0      3     0.76\n",
            "21 -0.286423  0.575000   -0.203993  ...              1      1     0.11\n",
            "22 -0.157417  0.383333   -0.096283  ...              1      1    -0.32\n",
            "23 -0.044250  0.500000    0.009417  ...              1      2    -0.27\n",
            "24  0.373680  0.575000    0.454667  ...              1      4     0.06\n",
            "25 -0.524867  0.550000   -0.236320  ...              1      2     0.56\n",
            "26  1.336910  0.050000    1.434167  ...              1      3    -0.27\n",
            "27  0.557125  0.625000    0.926452  ...              1      4    -0.37\n",
            "28  1.149035  0.483333    1.136771  ...              0      3    -0.15\n",
            "29 -1.000319  0.616667   -0.866402  ...              1      1    -0.05\n",
            "30 -0.977003  0.550000   -1.255086  ...              1      2    -1.17\n",
            "31  0.463272  0.408333    0.532871  ...              0      2     0.84\n",
            "32 -0.295327  0.466667   -0.221806  ...              0      0     0.90\n",
            "33 -0.018013  0.650000    0.070903  ...              0      3     0.04\n",
            "34  0.236653  0.366667    0.273257  ...              0      2    -0.08\n",
            "35  0.278340  0.500000    0.220702  ...              1      2     0.30\n",
            "36  0.400853  0.358333    0.298925  ...              1      2    -0.15\n",
            "37  0.819917  0.600000    0.790562  ...              1      4     0.22\n",
            "38  0.834763  0.625000    0.756020  ...              0      4     0.39\n",
            "39  0.488818  0.816667    0.484360  ...              1      4    -0.09\n",
            "40 -0.445153  0.900000   -0.607493  ...              0      1     0.02\n",
            "41  0.022743  0.266667    0.050966  ...              1      2    -0.12\n",
            "42  0.023083  0.866667    0.083555  ...              0      3     0.29\n",
            "43  0.321645  0.758333    0.250993  ...              1      4    -0.16\n",
            "44 -0.109960  0.533333    0.073588  ...              0      3    -0.62\n",
            "45  1.470543  0.541667    1.428915  ...              1      4     0.09\n",
            "46 -0.555000  0.441667   -0.558033  ...              1      1    -0.52\n",
            "47  1.581341  0.816667    1.656737  ...              1      4    -0.43\n",
            "48 -0.063822  0.625000   -0.240710  ...              0      2     0.24\n",
            "49 -0.729465  0.508333   -0.612210  ...              1      2    -0.56\n",
            "50  0.158303  0.275000    0.468493  ...              0      2    -0.10\n",
            "51  2.661500  0.933333    2.644417  ...              1      4     0.00\n",
            "\n",
            "[52 rows x 14 columns]\n"
          ],
          "name": "stdout"
        }
      ]
    },
    {
      "cell_type": "code",
      "metadata": {
        "id": "jKAzSnKvr7Tx",
        "colab": {
          "base_uri": "https://localhost:8080/"
        },
        "outputId": "b64fd775-9672-4586-cf1e-4eda58f0dbc9"
      },
      "source": [
        "type(results)"
      ],
      "execution_count": null,
      "outputs": [
        {
          "output_type": "execute_result",
          "data": {
            "text/plain": [
              "pandas.core.frame.DataFrame"
            ]
          },
          "metadata": {
            "tags": []
          },
          "execution_count": 159
        }
      ]
    },
    {
      "cell_type": "markdown",
      "metadata": {
        "id": "BnXmpVbUKsKD"
      },
      "source": [
        "#Model Performance\n",
        "\n",
        "To account accurately the top row of the \"results\" dataset must be removed\n",
        "\n",
        "Model performanced is based on the buy-sell relationship between the \"..._arg\" columns\n",
        "\n",
        "Each model is measured as well as a various combination of the models."
      ]
    },
    {
      "cell_type": "code",
      "metadata": {
        "id": "x1sxZIZRJrCl"
      },
      "source": [
        "results['y_buy'] = np.where(results['y_pred_arg'] >= 1, results['y_actual'], results['y_short'])\n",
        "results['yb_buy'] = np.where(results['yb_pred_arg'] >= 1, results['y_actual'], results['y_short'])\n",
        "results['yall_buy'] = np.where(results['y_all_pred_arg'] >= 1, results['y_actual'], results['y_short'])\n",
        "results['yallb_buy'] = np.where(results['y_all_b_pred_arg'] >= 1, results['y_actual'], results['y_short'])\n",
        "results['yvote_buy'] = np.where(results['votes']  >= 3, results['y_actual'], results['y_short'])\n"
      ],
      "execution_count": null,
      "outputs": []
    },
    {
      "cell_type": "markdown",
      "metadata": {
        "id": "5teAplemSXTI"
      },
      "source": [
        "The following section should be turned into a loop"
      ]
    },
    {
      "cell_type": "code",
      "metadata": {
        "id": "vdgmrVfZNHlO",
        "colab": {
          "base_uri": "https://localhost:8080/"
        },
        "outputId": "cc586a7f-b4e3-4165-9ddc-f0ff5100ab9b"
      },
      "source": [
        "performance_all = results\n",
        "performance_all = performance_all[1:] #Remove top row since we do not have actual value\n",
        "performance_all = performance_all.sum(axis = 0)\n",
        "print(performance_all)"
      ],
      "execution_count": null,
      "outputs": [
        {
          "output_type": "stream",
          "text": [
            "y_pred                7.510312\n",
            "yb_pred              28.091667\n",
            "y_all_pred           10.413300\n",
            "y_all_pred_b         28.833333\n",
            "y_actual             26.730000\n",
            "yb_actual            30.000000\n",
            "y_pred_arg           30.000000\n",
            "yb_pred_arg          29.000000\n",
            "y_all_pred_arg       35.000000\n",
            "y_all_b_pred_arg     38.000000\n",
            "y_actual_arg         30.000000\n",
            "yb_acutal_arg        30.000000\n",
            "votes               132.000000\n",
            "y_short              -0.100000\n",
            "y_buy                12.290000\n",
            "yb_buy               30.090000\n",
            "yall_buy             23.210000\n",
            "yallb_buy            27.150000\n",
            "yvote_buy            21.200000\n",
            "dtype: float64\n"
          ],
          "name": "stdout"
        }
      ]
    },
    {
      "cell_type": "code",
      "metadata": {
        "id": "ZyAs4dBWO1jH",
        "colab": {
          "base_uri": "https://localhost:8080/"
        },
        "outputId": "8b742d17-ff72-47f4-b9f6-b0334dcded3b"
      },
      "source": [
        "performance_30 = results.head(31)\n",
        "performance_30 = performance_30[1:] #Remove top row since we do not have actual value\n",
        "performance_30 = performance_30.sum(axis = 0)\n",
        "print(performance_30)"
      ],
      "execution_count": null,
      "outputs": [
        {
          "output_type": "stream",
          "text": [
            "y_pred              -0.034724\n",
            "yb_pred             15.833333\n",
            "y_all_pred           2.568289\n",
            "y_all_pred_b        17.233333\n",
            "y_actual            22.670000\n",
            "yb_actual           19.000000\n",
            "y_pred_arg          16.000000\n",
            "yb_pred_arg         16.000000\n",
            "y_all_pred_arg      19.000000\n",
            "y_all_b_pred_arg    26.000000\n",
            "y_actual_arg        19.000000\n",
            "yb_acutal_arg       19.000000\n",
            "votes               77.000000\n",
            "y_short             -0.600000\n",
            "y_buy                8.960000\n",
            "yb_buy              22.350000\n",
            "yall_buy            22.040000\n",
            "yallb_buy           16.390000\n",
            "yvote_buy           16.650000\n",
            "dtype: float64\n"
          ],
          "name": "stdout"
        }
      ]
    },
    {
      "cell_type": "code",
      "metadata": {
        "id": "0RtKpD35Qe6L",
        "colab": {
          "base_uri": "https://localhost:8080/"
        },
        "outputId": "e2107e9a-a5b5-40a6-8a8f-792d2b240de0"
      },
      "source": [
        "performance_60 = results.head(61)\n",
        "performance_60 = performance_60[1:] #Remove top row since we do not have actual value\n",
        "performance_60 = performance_60.sum(axis = 0)\n",
        "print(performance_60)"
      ],
      "execution_count": null,
      "outputs": [
        {
          "output_type": "stream",
          "text": [
            "y_pred                7.510312\n",
            "yb_pred              28.091667\n",
            "y_all_pred           10.413300\n",
            "y_all_pred_b         28.833333\n",
            "y_actual             26.730000\n",
            "yb_actual            30.000000\n",
            "y_pred_arg           30.000000\n",
            "yb_pred_arg          29.000000\n",
            "y_all_pred_arg       35.000000\n",
            "y_all_b_pred_arg     38.000000\n",
            "y_actual_arg         30.000000\n",
            "yb_acutal_arg        30.000000\n",
            "votes               132.000000\n",
            "y_short              -0.100000\n",
            "y_buy                12.290000\n",
            "yb_buy               30.090000\n",
            "yall_buy             23.210000\n",
            "yallb_buy            27.150000\n",
            "yvote_buy            21.200000\n",
            "dtype: float64\n"
          ],
          "name": "stdout"
        }
      ]
    },
    {
      "cell_type": "code",
      "metadata": {
        "id": "anaaRxMQR6SG",
        "colab": {
          "base_uri": "https://localhost:8080/"
        },
        "outputId": "3eb5a758-d2e5-4390-a890-0d5736bec1c9"
      },
      "source": [
        "performance_15 = results.head(16)\n",
        "performance_15 = performance_15[1:] #Remove top row since we do not have actual value\n",
        "performance_15 = performance_15.sum(axis = 0)\n",
        "print(performance_15)"
      ],
      "execution_count": null,
      "outputs": [
        {
          "output_type": "stream",
          "text": [
            "y_pred              -0.422042\n",
            "yb_pred              8.066667\n",
            "y_all_pred           0.949019\n",
            "y_all_pred_b         9.225000\n",
            "y_actual             0.510000\n",
            "yb_actual            7.000000\n",
            "y_pred_arg           9.000000\n",
            "yb_pred_arg          7.000000\n",
            "y_all_pred_arg      11.000000\n",
            "y_all_b_pred_arg    14.000000\n",
            "y_actual_arg         7.000000\n",
            "yb_acutal_arg        7.000000\n",
            "votes               41.000000\n",
            "y_short              0.950000\n",
            "y_buy                0.870000\n",
            "yb_buy              -0.580000\n",
            "yall_buy            13.320000\n",
            "yallb_buy           -4.250000\n",
            "yvote_buy            8.560000\n",
            "dtype: float64\n"
          ],
          "name": "stdout"
        }
      ]
    },
    {
      "cell_type": "code",
      "metadata": {
        "id": "d9sQut9GR6dU",
        "colab": {
          "base_uri": "https://localhost:8080/"
        },
        "outputId": "e6d64b1d-6653-4a83-e006-8df3bc929a4a"
      },
      "source": [
        "performance_45 = results.head(46)\n",
        "performance_45 = performance_45[1:] #Remove top row since we do not have actual value\n",
        "performance_45 = performance_45.sum(axis = 0)\n",
        "print(performance_45)"
      ],
      "execution_count": null,
      "outputs": [
        {
          "output_type": "stream",
          "text": [
            "y_pred                4.457455\n",
            "yb_pred              24.491667\n",
            "y_all_pred            7.054607\n",
            "y_all_pred_b         25.050000\n",
            "y_actual             18.300000\n",
            "yb_actual            26.000000\n",
            "y_pred_arg           27.000000\n",
            "yb_pred_arg          25.000000\n",
            "y_all_pred_arg       32.000000\n",
            "y_all_b_pred_arg     33.000000\n",
            "y_actual_arg         26.000000\n",
            "yb_acutal_arg        26.000000\n",
            "votes               117.000000\n",
            "y_short               1.270000\n",
            "y_buy                 8.220000\n",
            "yb_buy               22.160000\n",
            "yall_buy             19.140000\n",
            "yallb_buy            18.480000\n",
            "yvote_buy            16.890000\n",
            "dtype: float64\n"
          ],
          "name": "stdout"
        }
      ]
    },
    {
      "cell_type": "code",
      "metadata": {
        "id": "q8UcXA7hR6mH",
        "colab": {
          "base_uri": "https://localhost:8080/"
        },
        "outputId": "921ad164-1171-4997-d53e-b19b222d8510"
      },
      "source": [
        "performance_5 = results.head(6)\n",
        "performance_5 = performance_5[1:] #Remove top row since we do not have actual value\n",
        "performance_5 = performance_5.sum(axis = 0)\n",
        "print(performance_5)"
      ],
      "execution_count": null,
      "outputs": [
        {
          "output_type": "stream",
          "text": [
            "y_pred               1.920794\n",
            "yb_pred              2.258333\n",
            "y_all_pred           1.777842\n",
            "y_all_pred_b         3.233333\n",
            "y_actual            -3.430000\n",
            "yb_actual            1.000000\n",
            "y_pred_arg           4.000000\n",
            "yb_pred_arg          1.000000\n",
            "y_all_pred_arg       4.000000\n",
            "y_all_b_pred_arg     5.000000\n",
            "y_actual_arg         1.000000\n",
            "yb_acutal_arg        1.000000\n",
            "votes               14.000000\n",
            "y_short              0.240000\n",
            "y_buy               -0.990000\n",
            "yb_buy              -2.200000\n",
            "yall_buy            -0.990000\n",
            "yallb_buy           -3.430000\n",
            "yvote_buy           -0.990000\n",
            "dtype: float64\n"
          ],
          "name": "stdout"
        }
      ]
    },
    {
      "cell_type": "code",
      "metadata": {
        "id": "wzYnbajGUsll",
        "colab": {
          "base_uri": "https://localhost:8080/"
        },
        "outputId": "3ba29ef6-cd56-4894-859c-7305ffac635f"
      },
      "source": [
        "performance_10 = results.head(11)\n",
        "performance_10 = performance_10[1:] #Remove top row since we do not have actual value\n",
        "performance_10 = performance_10.sum(axis = 0)\n",
        "print(performance_10)"
      ],
      "execution_count": null,
      "outputs": [
        {
          "output_type": "stream",
          "text": [
            "y_pred               2.759502\n",
            "yb_pred              4.816667\n",
            "y_all_pred           3.643479\n",
            "y_all_pred_b         6.175000\n",
            "y_actual            12.620000\n",
            "yb_actual            6.000000\n",
            "y_pred_arg           6.000000\n",
            "yb_pred_arg          3.000000\n",
            "y_all_pred_arg       8.000000\n",
            "y_all_b_pred_arg     9.000000\n",
            "y_actual_arg         6.000000\n",
            "yb_acutal_arg        6.000000\n",
            "votes               26.000000\n",
            "y_short             -2.840000\n",
            "y_buy                0.950000\n",
            "yb_buy               7.170000\n",
            "yall_buy            13.400000\n",
            "yallb_buy            7.860000\n",
            "yvote_buy            8.640000\n",
            "dtype: float64\n"
          ],
          "name": "stdout"
        }
      ]
    },
    {
      "cell_type": "code",
      "metadata": {
        "id": "mhX2q3QOUtFB",
        "colab": {
          "base_uri": "https://localhost:8080/"
        },
        "outputId": "1615bdbc-f8c2-47ea-bf26-7bdd8bbd375e"
      },
      "source": [
        "performance_20 = results.head(21)\n",
        "performance_20 = performance_20[1:] #Remove top row since we do not have actual value\n",
        "performance_20 = performance_20.sum(axis = 0)\n",
        "print(performance_20)"
      ],
      "execution_count": null,
      "outputs": [
        {
          "output_type": "stream",
          "text": [
            "y_pred              -0.461195\n",
            "yb_pred             10.925000\n",
            "y_all_pred           1.264902\n",
            "y_all_pred_b        11.858333\n",
            "y_actual             3.870000\n",
            "yb_actual           10.000000\n",
            "y_pred_arg          12.000000\n",
            "yb_pred_arg         10.000000\n",
            "y_all_pred_arg      14.000000\n",
            "y_all_b_pred_arg    18.000000\n",
            "y_actual_arg        10.000000\n",
            "yb_acutal_arg       10.000000\n",
            "votes               54.000000\n",
            "y_short              1.270000\n",
            "y_buy                6.370000\n",
            "yb_buy               8.290000\n",
            "yall_buy            18.820000\n",
            "yallb_buy            3.070000\n",
            "yvote_buy           14.060000\n",
            "dtype: float64\n"
          ],
          "name": "stdout"
        }
      ]
    },
    {
      "cell_type": "code",
      "metadata": {
        "id": "ki_EiwXnUtP8",
        "colab": {
          "base_uri": "https://localhost:8080/"
        },
        "outputId": "bb629337-37be-4037-b169-e200478b4b36"
      },
      "source": [
        "performance_25 = results.head(26)\n",
        "performance_25 = performance_25[1:] #Remove top row since we do not have actual value\n",
        "performance_25 = performance_25.sum(axis = 0)\n",
        "print(performance_25)"
      ],
      "execution_count": null,
      "outputs": [
        {
          "output_type": "stream",
          "text": [
            "y_pred              -1.100472\n",
            "yb_pred             13.508333\n",
            "y_all_pred           1.192389\n",
            "y_all_pred_b        14.400000\n",
            "y_actual            10.980000\n",
            "yb_actual           15.000000\n",
            "y_pred_arg          13.000000\n",
            "yb_pred_arg         13.000000\n",
            "y_all_pred_arg      16.000000\n",
            "y_all_b_pred_arg    22.000000\n",
            "y_actual_arg        15.000000\n",
            "yb_acutal_arg       15.000000\n",
            "votes               64.000000\n",
            "y_short              1.410000\n",
            "y_buy                6.680000\n",
            "yb_buy              12.080000\n",
            "yall_buy            19.760000\n",
            "yallb_buy            7.000000\n",
            "yvote_buy           14.370000\n",
            "dtype: float64\n"
          ],
          "name": "stdout"
        }
      ]
    },
    {
      "cell_type": "code",
      "metadata": {
        "id": "ldmAemGnUtZF",
        "colab": {
          "base_uri": "https://localhost:8080/"
        },
        "outputId": "780a9611-22a2-4015-8d65-cce146590033"
      },
      "source": [
        "performance_35 = results.head(36)\n",
        "performance_35 = performance_35[1:] #Remove top row since we do not have actual value\n",
        "performance_35 = performance_35.sum(axis = 0)\n",
        "print(performance_35)"
      ],
      "execution_count": null,
      "outputs": [
        {
          "output_type": "stream",
          "text": [
            "y_pred               0.630201\n",
            "yb_pred             18.225000\n",
            "y_all_pred           3.444216\n",
            "y_all_pred_b        19.400000\n",
            "y_actual            13.280000\n",
            "yb_actual           20.000000\n",
            "y_pred_arg          19.000000\n",
            "yb_pred_arg         17.000000\n",
            "y_all_pred_arg      23.000000\n",
            "y_all_b_pred_arg    27.000000\n",
            "y_actual_arg        20.000000\n",
            "yb_acutal_arg       20.000000\n",
            "votes               86.000000\n",
            "y_short              1.400000\n",
            "y_buy                3.020000\n",
            "yb_buy              21.940000\n",
            "yall_buy            13.690000\n",
            "yallb_buy           15.980000\n",
            "yvote_buy           16.240000\n",
            "dtype: float64\n"
          ],
          "name": "stdout"
        }
      ]
    },
    {
      "cell_type": "code",
      "metadata": {
        "id": "QMWxREU1VhJX",
        "colab": {
          "base_uri": "https://localhost:8080/"
        },
        "outputId": "edeb328d-ff27-42ec-d7d2-265a9bc26caa"
      },
      "source": [
        "performance_40 = results.head(41)\n",
        "performance_40 = performance_40[1:] #Remove top row since we do not have actual value\n",
        "performance_40 = performance_40.sum(axis = 0)\n",
        "print(performance_40)"
      ],
      "execution_count": null,
      "outputs": [
        {
          "output_type": "stream",
          "text": [
            "y_pred                2.729400\n",
            "yb_pred              21.525000\n",
            "y_all_pred            5.166590\n",
            "y_all_pred_b         22.316667\n",
            "y_actual             14.990000\n",
            "yb_actual            23.000000\n",
            "y_pred_arg           23.000000\n",
            "yb_pred_arg          21.000000\n",
            "y_all_pred_arg       27.000000\n",
            "y_all_b_pred_arg     30.000000\n",
            "y_actual_arg         23.000000\n",
            "yb_acutal_arg        23.000000\n",
            "votes               101.000000\n",
            "y_short               1.790000\n",
            "y_buy                 5.160000\n",
            "yb_buy               22.800000\n",
            "yall_buy             15.830000\n",
            "yallb_buy            17.270000\n",
            "yvote_buy            17.530000\n",
            "dtype: float64\n"
          ],
          "name": "stdout"
        }
      ]
    },
    {
      "cell_type": "code",
      "metadata": {
        "id": "3EnuMXwrV18-",
        "colab": {
          "base_uri": "https://localhost:8080/"
        },
        "outputId": "06444ffa-a50a-4275-8fd3-c970fb206ec2"
      },
      "source": [
        "performance_50 = results.head(51)\n",
        "performance_50 = performance_50[1:] #Remove top row since we do not have actual value\n",
        "performance_50 = performance_50.sum(axis = 0)\n",
        "print(performance_50)"
      ],
      "execution_count": null,
      "outputs": [
        {
          "output_type": "stream",
          "text": [
            "y_pred                4.848812\n",
            "yb_pred              27.158333\n",
            "y_all_pred            7.768884\n",
            "y_all_pred_b         27.966667\n",
            "y_actual             22.310000\n",
            "yb_actual            29.000000\n",
            "y_pred_arg           29.000000\n",
            "yb_pred_arg          28.000000\n",
            "y_all_pred_arg       34.000000\n",
            "y_all_b_pred_arg     37.000000\n",
            "y_actual_arg         29.000000\n",
            "yb_acutal_arg        29.000000\n",
            "votes               128.000000\n",
            "y_short              -0.100000\n",
            "y_buy                 7.870000\n",
            "yb_buy               25.670000\n",
            "yall_buy             18.790000\n",
            "yallb_buy            22.730000\n",
            "yvote_buy            16.780000\n",
            "dtype: float64\n"
          ],
          "name": "stdout"
        }
      ]
    },
    {
      "cell_type": "code",
      "metadata": {
        "id": "cap9bS6NV2Yq",
        "colab": {
          "base_uri": "https://localhost:8080/"
        },
        "outputId": "032f8a38-6c8c-49a8-b9fa-e2b379f71093"
      },
      "source": [
        "performance_55 = results.head(56)\n",
        "performance_55 = performance_55[1:] #Remove top row since we do not have actual value\n",
        "performance_55 = performance_55.sum(axis = 0)\n",
        "print(performance_55)"
      ],
      "execution_count": null,
      "outputs": [
        {
          "output_type": "stream",
          "text": [
            "y_pred                7.510312\n",
            "yb_pred              28.091667\n",
            "y_all_pred           10.413300\n",
            "y_all_pred_b         28.833333\n",
            "y_actual             26.730000\n",
            "yb_actual            30.000000\n",
            "y_pred_arg           30.000000\n",
            "yb_pred_arg          29.000000\n",
            "y_all_pred_arg       35.000000\n",
            "y_all_b_pred_arg     38.000000\n",
            "y_actual_arg         30.000000\n",
            "yb_acutal_arg        30.000000\n",
            "votes               132.000000\n",
            "y_short              -0.100000\n",
            "y_buy                12.290000\n",
            "yb_buy               30.090000\n",
            "yall_buy             23.210000\n",
            "yallb_buy            27.150000\n",
            "yvote_buy            21.200000\n",
            "dtype: float64\n"
          ],
          "name": "stdout"
        }
      ]
    },
    {
      "cell_type": "code",
      "metadata": {
        "id": "EwQ017VqQ6Uy",
        "colab": {
          "base_uri": "https://localhost:8080/"
        },
        "outputId": "52a777e7-8e26-40bf-d6e4-1c8189023ee3"
      },
      "source": [
        "performance = pd.concat([performance_5,\n",
        "                         performance_10,\n",
        "                         performance_15, \n",
        "                         performance_20,\n",
        "                         performance_25,\n",
        "                         performance_30,\n",
        "                         performance_35,\n",
        "                         performance_40, \n",
        "                         performance_45,\n",
        "                         performance_50,\n",
        "                         performance_55,\n",
        "                         performance_60, \n",
        "                         performance_all], axis=1)\n",
        "\n",
        "print(performance)"
      ],
      "execution_count": null,
      "outputs": [
        {
          "output_type": "stream",
          "text": [
            "                         0          1   ...          11          12\n",
            "y_pred             1.920794   2.759502  ...    7.510312    7.510312\n",
            "yb_pred            2.258333   4.816667  ...   28.091667   28.091667\n",
            "y_all_pred         1.777842   3.643479  ...   10.413300   10.413300\n",
            "y_all_pred_b       3.233333   6.175000  ...   28.833333   28.833333\n",
            "y_actual          -3.430000  12.620000  ...   26.730000   26.730000\n",
            "yb_actual          1.000000   6.000000  ...   30.000000   30.000000\n",
            "y_pred_arg         4.000000   6.000000  ...   30.000000   30.000000\n",
            "yb_pred_arg        1.000000   3.000000  ...   29.000000   29.000000\n",
            "y_all_pred_arg     4.000000   8.000000  ...   35.000000   35.000000\n",
            "y_all_b_pred_arg   5.000000   9.000000  ...   38.000000   38.000000\n",
            "y_actual_arg       1.000000   6.000000  ...   30.000000   30.000000\n",
            "yb_acutal_arg      1.000000   6.000000  ...   30.000000   30.000000\n",
            "votes             14.000000  26.000000  ...  132.000000  132.000000\n",
            "y_short            0.240000  -2.840000  ...   -0.100000   -0.100000\n",
            "y_buy             -0.990000   0.950000  ...   12.290000   12.290000\n",
            "yb_buy            -2.200000   7.170000  ...   30.090000   30.090000\n",
            "yall_buy          -0.990000  13.400000  ...   23.210000   23.210000\n",
            "yallb_buy         -3.430000   7.860000  ...   27.150000   27.150000\n",
            "yvote_buy         -0.990000   8.640000  ...   21.200000   21.200000\n",
            "\n",
            "[19 rows x 13 columns]\n"
          ],
          "name": "stdout"
        }
      ]
    },
    {
      "cell_type": "code",
      "metadata": {
        "id": "bKau_JXi94r3",
        "colab": {
          "base_uri": "https://localhost:8080/"
        },
        "outputId": "6e98d13e-4e9a-4532-a8eb-0394922e175f"
      },
      "source": [
        "df1 = performance.T\n",
        "print(df1)"
      ],
      "execution_count": null,
      "outputs": [
        {
          "output_type": "stream",
          "text": [
            "      y_pred    yb_pred  y_all_pred  ...  yall_buy  yallb_buy  yvote_buy\n",
            "0   1.920794   2.258333    1.777842  ...     -0.99      -3.43      -0.99\n",
            "1   2.759502   4.816667    3.643479  ...     13.40       7.86       8.64\n",
            "2  -0.422042   8.066667    0.949019  ...     13.32      -4.25       8.56\n",
            "3  -0.461195  10.925000    1.264902  ...     18.82       3.07      14.06\n",
            "4  -1.100472  13.508333    1.192389  ...     19.76       7.00      14.37\n",
            "5  -0.034724  15.833333    2.568289  ...     22.04      16.39      16.65\n",
            "6   0.630201  18.225000    3.444216  ...     13.69      15.98      16.24\n",
            "7   2.729400  21.525000    5.166590  ...     15.83      17.27      17.53\n",
            "8   4.457455  24.491667    7.054607  ...     19.14      18.48      16.89\n",
            "9   4.848812  27.158333    7.768884  ...     18.79      22.73      16.78\n",
            "10  7.510312  28.091667   10.413300  ...     23.21      27.15      21.20\n",
            "11  7.510312  28.091667   10.413300  ...     23.21      27.15      21.20\n",
            "12  7.510312  28.091667   10.413300  ...     23.21      27.15      21.20\n",
            "\n",
            "[13 rows x 19 columns]\n"
          ],
          "name": "stdout"
        }
      ]
    },
    {
      "cell_type": "code",
      "metadata": {
        "id": "ptcaYXPj-FvH",
        "colab": {
          "base_uri": "https://localhost:8080/",
          "height": 282
        },
        "outputId": "3576cc29-e82d-44b3-cd8c-9c945428cbe0"
      },
      "source": [
        "plt.plot(df1['y_actual'], color='black')\n",
        "plt.plot(df1['y_buy'], color='blue')\n",
        "plt.plot(df1['yb_buy'], color='red')\n",
        "plt.plot(df1['yall_buy'], color='green')\n",
        "plt.plot(df1['yallb_buy'], color='orange')\n",
        "plt.plot(df1['yvote_buy'], color='brown')"
      ],
      "execution_count": null,
      "outputs": [
        {
          "output_type": "execute_result",
          "data": {
            "text/plain": [
              "[<matplotlib.lines.Line2D at 0x7f5978981c50>]"
            ]
          },
          "metadata": {
            "tags": []
          },
          "execution_count": 176
        },
        {
          "output_type": "display_data",
          "data": {
            "image/png": "[encoded data removed]",
            "text/plain": [
              "<Figure size 432x288 with 1 Axes>"
            ]
          },
          "metadata": {
            "tags": [],
            "needs_background": "light"
          }
        }
      ]
    },
    {
      "cell_type": "code",
      "metadata": {
        "colab": {
          "base_uri": "https://localhost:8080/",
          "height": 282
        },
        "id": "7Ond72uoKLyP",
        "outputId": "570e2df6-377b-4c03-8137-2cee3fcba23a"
      },
      "source": [
        "plt.plot(df1['y_actual'], color='black')\n",
        "plt.plot(df1['y_buy'], color='blue')\n"
      ],
      "execution_count": null,
      "outputs": [
        {
          "output_type": "execute_result",
          "data": {
            "text/plain": [
              "[<matplotlib.lines.Line2D at 0x7f59788f1a10>]"
            ]
          },
          "metadata": {
            "tags": []
          },
          "execution_count": 177
        },
        {
          "output_type": "display_data",
          "data": {
            "image/png": "[encoded data removed]",
            "text/plain": [
              "<Figure size 432x288 with 1 Axes>"
            ]
          },
          "metadata": {
            "tags": [],
            "needs_background": "light"
          }
        }
      ]
    },
    {
      "cell_type": "code",
      "metadata": {
        "colab": {
          "base_uri": "https://localhost:8080/",
          "height": 282
        },
        "id": "YnlwI9UrKL5-",
        "outputId": "454994f2-884d-41ea-9a0f-207b8497cb1f"
      },
      "source": [
        "plt.plot(df1['y_actual'], color='black')\n",
        "plt.plot(df1['yb_buy'], color='red')"
      ],
      "execution_count": null,
      "outputs": [
        {
          "output_type": "execute_result",
          "data": {
            "text/plain": [
              "[<matplotlib.lines.Line2D at 0x7f5978857f90>]"
            ]
          },
          "metadata": {
            "tags": []
          },
          "execution_count": 178
        },
        {
          "output_type": "display_data",
          "data": {
            "image/png": "[encoded data removed]",
            "text/plain": [
              "<Figure size 432x288 with 1 Axes>"
            ]
          },
          "metadata": {
            "tags": [],
            "needs_background": "light"
          }
        }
      ]
    },
    {
      "cell_type": "code",
      "metadata": {
        "colab": {
          "base_uri": "https://localhost:8080/",
          "height": 282
        },
        "id": "EebffbV5KL_t",
        "outputId": "8a661315-acf2-4bb2-9cf8-0adbdde996c1"
      },
      "source": [
        "plt.plot(df1['y_actual'], color='black')\n",
        "plt.plot(df1['yall_buy'], color='green')"
      ],
      "execution_count": null,
      "outputs": [
        {
          "output_type": "execute_result",
          "data": {
            "text/plain": [
              "[<matplotlib.lines.Line2D at 0x7f59787d3350>]"
            ]
          },
          "metadata": {
            "tags": []
          },
          "execution_count": 179
        },
        {
          "output_type": "display_data",
          "data": {
            "image/png": "[encoded data removed]",
            "text/plain": [
              "<Figure size 432x288 with 1 Axes>"
            ]
          },
          "metadata": {
            "tags": [],
            "needs_background": "light"
          }
        }
      ]
    },
    {
      "cell_type": "code",
      "metadata": {
        "colab": {
          "base_uri": "https://localhost:8080/",
          "height": 282
        },
        "id": "x2yvMNTWKMD3",
        "outputId": "97c24bb8-b18b-4561-94f0-128b98ad5aa1"
      },
      "source": [
        "plt.plot(df1['y_actual'], color='black')\n",
        "plt.plot(df1['yallb_buy'], color='orange')"
      ],
      "execution_count": null,
      "outputs": [
        {
          "output_type": "execute_result",
          "data": {
            "text/plain": [
              "[<matplotlib.lines.Line2D at 0x7f59787ba910>]"
            ]
          },
          "metadata": {
            "tags": []
          },
          "execution_count": 180
        },
        {
          "output_type": "display_data",
          "data": {
            "image/png": "[encoded data removed]",
            "text/plain": [
              "<Figure size 432x288 with 1 Axes>"
            ]
          },
          "metadata": {
            "tags": [],
            "needs_background": "light"
          }
        }
      ]
    },
    {
      "cell_type": "code",
      "metadata": {
        "colab": {
          "base_uri": "https://localhost:8080/",
          "height": 282
        },
        "id": "TcxkVMi1KWHm",
        "outputId": "3c7caa89-75d6-44f9-f57e-02974e9d4c24"
      },
      "source": [
        "plt.plot(df1['y_actual'], color='black')\n",
        "plt.plot(df1['yvote_buy'], color='brown')"
      ],
      "execution_count": null,
      "outputs": [
        {
          "output_type": "execute_result",
          "data": {
            "text/plain": [
              "[<matplotlib.lines.Line2D at 0x7f597872c590>]"
            ]
          },
          "metadata": {
            "tags": []
          },
          "execution_count": 181
        },
        {
          "output_type": "display_data",
          "data": {
            "image/png": "[encoded data removed]",
            "text/plain": [
              "<Figure size 432x288 with 1 Axes>"
            ]
          },
          "metadata": {
            "tags": [],
            "needs_background": "light"
          }
        }
      ]
    },
    {
      "cell_type": "code",
      "metadata": {
        "id": "-N1HSPFzYmaf"
      },
      "source": [
        "#results.to_csv('/content/drive/MyDrive/Colab Notebooks/results_sky_hibs_20160101-20210802_.csv')\n",
        "#performance.to_csv('/content/drive/MyDrive/Colab Notebooks/performance_sky_hibs_20190101-20210802_.csv')"
      ],
      "execution_count": null,
      "outputs": []
    }
  ]
}