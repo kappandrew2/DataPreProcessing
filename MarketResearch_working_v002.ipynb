{
  "nbformat": 4,
  "nbformat_minor": 0,
  "metadata": {
    "colab": {
      "name": "MarketResearch_v002.ipynb",
      "provenance": [],
      "collapsed_sections": [],
      "history_visible": true,
      "authorship_tag": "ABX9TyMHYNolghGkhDkhX2z0SDVb",
      "include_colab_link": true
    },
    "kernelspec": {
      "name": "python3",
      "display_name": "Python 3"
    },
    "language_info": {
      "name": "python"
    }
  },
  "cells": [
    {
      "cell_type": "markdown",
      "metadata": {
        "id": "view-in-github",
        "colab_type": "text"
      },
      "source": [
        "<a href=\"https://colab.research.google.com/github/kappandrew2/DataPreProcessing/blob/main/MarketResearch_working_v002.ipynb\" target=\"_parent\"><img src=\"https://colab.research.google.com/assets/colab-badge.svg\" alt=\"Open In Colab\"/></a>"
      ]
    },
    {
      "cell_type": "markdown",
      "metadata": {
        "id": "1mSu-6RRLTR1"
      },
      "source": [
        "#Model Purpose\n",
        "\n",
        "Utilize historical value and time attributes to predict the next day's gain or loss value\n",
        "\n",
        "!Dataset Notes: The dataset for this data solution must come from the following web sit and contain a large historical sample of data. For example:\n",
        "\n",
        "Begin Date = 12/01/2007 (Be mindful that the last 35 periods (in this case, days) will get chopped off of the bottom of the dataset during data preprocessing)\n",
        "\n",
        "End Date = Today's current value (to be run an hour before market close)\n",
        "\n",
        "Ticker = SPY\n",
        "\n",
        "Train Set = all data except last 60 periods (rows)\n",
        "\n",
        "Prediction Set = all data from -90 periods (days) to current\n",
        "\n",
        "https://www.wsj.com/market-data/quotes/index/SPX/historical-prices\n"
      ]
    },
    {
      "cell_type": "code",
      "metadata": {
        "id": "lx9d2QEa6mXf"
      },
      "source": [
        "import numpy as np\n",
        "import matplotlib.pyplot as plt\n",
        "import pandas as pd\n",
        "import datetime\n",
        "from sklearn.model_selection import train_test_split\n",
        "from datetime import date, datetime, timedelta\n",
        "from pandas._libs.tslibs.timestamps import Timestamp"
      ],
      "execution_count": 1244,
      "outputs": []
    },
    {
      "cell_type": "markdown",
      "metadata": {
        "id": "6mLzKv5BGUUZ"
      },
      "source": [
        "#Connect to drive and import data set\n",
        "\n",
        "Using google drive\n",
        "\n",
        "Importing historical prices for ticker \"SPY\""
      ]
    },
    {
      "cell_type": "code",
      "metadata": {
        "colab": {
          "base_uri": "https://localhost:8080/"
        },
        "id": "LAo4DboL6vQh",
        "outputId": "6ff294ef-f8cc-4ac2-e77f-2a4a45099278"
      },
      "source": [
        "#Create CSV from data export\n",
        "#https://www.wsj.com/market-data/quotes/index/SPX/historical-prices\n",
        "\n",
        "from google.colab import drive\n",
        "drive.mount('/content/drive', force_remount=True)\n",
        "\n",
        "dataset = pd.read_csv('/content/drive/MyDrive/Colab Notebooks/HistoricalPricesSPY.csv')\n",
        "\n",
        "print(dataset)"
      ],
      "execution_count": 1245,
      "outputs": [
        {
          "output_type": "stream",
          "text": [
            "Mounted at /content/drive\n",
            "          Date     Open    High     Low     Close     Volume\n",
            "0     08/02/21  440.340  440.93  437.21  437.5900   58783301\n",
            "1     07/30/21  437.910  440.06  437.77  438.5100   68951203\n",
            "2     07/29/21  439.815  441.80  439.81  440.6500   47435340\n",
            "3     07/28/21  439.680  440.30  437.31  438.8300   52472359\n",
            "4     07/27/21  439.910  439.94  435.99  439.0100   67397133\n",
            "...        ...      ...     ...     ...       ...        ...\n",
            "1400  01/08/16  195.190  195.85  191.58  191.9230  209817203\n",
            "1401  01/07/16  195.330  197.44  193.59  194.0500  213436094\n",
            "1402  01/06/16  198.340  200.06  197.60  198.8200  152112609\n",
            "1403  01/05/16  201.400  201.90  200.05  201.3600  110845797\n",
            "1404  01/04/16  200.490  201.03  198.59  201.0192  222353500\n",
            "\n",
            "[1405 rows x 6 columns]\n"
          ],
          "name": "stdout"
        }
      ]
    },
    {
      "cell_type": "markdown",
      "metadata": {
        "id": "ZWGjihLGGnuD"
      },
      "source": [
        "#Modifiy dataset Content and Headers\n",
        "\n",
        "Remove contents not required for this exercise\n",
        "\n",
        "Renaming columns to remove leading white space\n",
        "\n",
        "Narrowing the dataset can be done via drop or select, both options are available (comment out the one not in use)"
      ]
    },
    {
      "cell_type": "code",
      "metadata": {
        "id": "4_0Dq0yU7GHg"
      },
      "source": [
        "dataset.rename({' Close': 'Close'}, axis=1, inplace = True)\n",
        "dataset = dataset[['Close', 'Date']]\n",
        "#dataset = dataset.drop([' Open', ' High', ' Low', ' Volume'], axis = 1)"
      ],
      "execution_count": 1246,
      "outputs": []
    },
    {
      "cell_type": "markdown",
      "metadata": {
        "id": "V9Wa2WYcG1Og"
      },
      "source": [
        "#Dataset information validation\n",
        "\n",
        "Validate date frame, column contents and data types"
      ]
    },
    {
      "cell_type": "code",
      "metadata": {
        "colab": {
          "base_uri": "https://localhost:8080/"
        },
        "id": "QjAXsP-j7Ysg",
        "outputId": "bdfb0883-ce24-473a-8376-c608de43a5b9"
      },
      "source": [
        "dataset['Date'] = pd.to_datetime(dataset['Date'])\n",
        "\n",
        "dataset.info()"
      ],
      "execution_count": 1247,
      "outputs": [
        {
          "output_type": "stream",
          "text": [
            "<class 'pandas.core.frame.DataFrame'>\n",
            "RangeIndex: 1405 entries, 0 to 1404\n",
            "Data columns (total 2 columns):\n",
            " #   Column  Non-Null Count  Dtype         \n",
            "---  ------  --------------  -----         \n",
            " 0   Close   1405 non-null   float64       \n",
            " 1   Date    1405 non-null   datetime64[ns]\n",
            "dtypes: datetime64[ns](1), float64(1)\n",
            "memory usage: 22.1 KB\n"
          ],
          "name": "stdout"
        }
      ]
    },
    {
      "cell_type": "markdown",
      "metadata": {
        "id": "jQhfTiNaHCIQ"
      },
      "source": [
        "#Change indext to date (for troublshooting)\n",
        "\n",
        "Moving date to the index assists in visually validating processes are working correctly\n",
        "\n",
        "!Note: This should be \"off\" except when troublshooting"
      ]
    },
    {
      "cell_type": "code",
      "metadata": {
        "colab": {
          "base_uri": "https://localhost:8080/"
        },
        "id": "yGn3MhfX4r7n",
        "outputId": "84eef32a-d6df-4453-a72a-22d8d544dc61"
      },
      "source": [
        "#dataset['Date_Index'] = dataset['Date']\n",
        "#dataset.set_index('Date_Index', inplace=True)\n",
        "\n",
        "dataset.info()"
      ],
      "execution_count": 1248,
      "outputs": [
        {
          "output_type": "stream",
          "text": [
            "<class 'pandas.core.frame.DataFrame'>\n",
            "RangeIndex: 1405 entries, 0 to 1404\n",
            "Data columns (total 2 columns):\n",
            " #   Column  Non-Null Count  Dtype         \n",
            "---  ------  --------------  -----         \n",
            " 0   Close   1405 non-null   float64       \n",
            " 1   Date    1405 non-null   datetime64[ns]\n",
            "dtypes: datetime64[ns](1), float64(1)\n",
            "memory usage: 22.1 KB\n"
          ],
          "name": "stdout"
        }
      ]
    },
    {
      "cell_type": "markdown",
      "metadata": {
        "id": "5NF3DoJCHWFM"
      },
      "source": [
        "#Create time attributes\n",
        "\n",
        "Time attributes will change date from a continous variable into discrete (a numeric categorical value)"
      ]
    },
    {
      "cell_type": "code",
      "metadata": {
        "colab": {
          "base_uri": "https://localhost:8080/"
        },
        "id": "BTr8otxU7gU5",
        "outputId": "7e45941f-c437-4e04-a0d4-f8bd43c756fd"
      },
      "source": [
        "dataset['DOW'] = dataset['Date'].dt.dayofweek\n",
        "dataset['DOY'] = dataset['Date'].dt.dayofyear\n",
        "dataset['Week'] = dataset['Date'].dt.week\n",
        "dataset['Month'] = dataset['Date'].dt.month\n",
        "dataset['Quarter'] = dataset['Date'].dt.quarter\n",
        "\n",
        "dataset.dtypes"
      ],
      "execution_count": 1249,
      "outputs": [
        {
          "output_type": "stream",
          "text": [
            "/usr/local/lib/python3.7/dist-packages/ipykernel_launcher.py:3: FutureWarning: Series.dt.weekofyear and Series.dt.week have been deprecated.  Please use Series.dt.isocalendar().week instead.\n",
            "  This is separate from the ipykernel package so we can avoid doing imports until\n"
          ],
          "name": "stderr"
        },
        {
          "output_type": "execute_result",
          "data": {
            "text/plain": [
              "Close             float64\n",
              "Date       datetime64[ns]\n",
              "DOW                 int64\n",
              "DOY                 int64\n",
              "Week                int64\n",
              "Month               int64\n",
              "Quarter             int64\n",
              "dtype: object"
            ]
          },
          "metadata": {
            "tags": []
          },
          "execution_count": 1249
        }
      ]
    },
    {
      "cell_type": "markdown",
      "metadata": {
        "id": "GXUsxdw9H7KW"
      },
      "source": [
        "#Create skip-day gain loss values (and dependant variable #1)\n",
        "\n",
        "!Note: gain-loss-0 will ultimately end up being the dependant variable but also an independant variable (we will create a new column later and shift it down a row)\n",
        "\n",
        "1) Calculate the first day's gain loss by subtracting day -1 from day 0\n",
        "\n",
        "2) Calculate the second day's gain loss by subtracting day -2 from day 0\n",
        "\n",
        "3) Calculate the third day's gain loss by subtracting day -n from day 0\n",
        "\n",
        "!Note: This should be turned into a loop using i=n where n = the rows to be processed (now many previous rows)\n",
        "\n",
        "\n"
      ]
    },
    {
      "cell_type": "code",
      "metadata": {
        "colab": {
          "base_uri": "https://localhost:8080/"
        },
        "id": "ko_KBr4W7rZW",
        "outputId": "f807147f-6447-4491-9ee4-314e8bd68683"
      },
      "source": [
        "dataset['gain_loss-0'] = dataset['Close'].diff(-1)\n",
        "dataset['gain_loss-1'] = dataset['Close'].diff(-2)\n",
        "#dataset['gain_loss-1'] = dataset['gain_loss-1'].shift(periods=-1, fill_value=0) #Removed these to experiment \n",
        "#with switching around the dependant variable rather than the independant variable\n",
        "dataset['gain_loss-2'] = dataset['Close'].diff(-3) \n",
        "#dataset['gain_loss-2'] = dataset['gain_loss-2'].shift(periods=-1, fill_value=0)\n",
        "dataset['gain_loss-3'] = dataset['Close'].diff(-4) \n",
        "#dataset['gain_loss-3'] = dataset['gain_loss-3'].shift(periods=-1, fill_value=0)\n",
        "dataset['gain_loss-4'] = dataset['Close'].diff(-5) \n",
        "#dataset['gain_loss-4'] = dataset['gain_loss-4'].shift(periods=-1, fill_value=0)\n",
        "\n",
        "print(dataset)\n",
        "#dataset.dtypes"
      ],
      "execution_count": 1250,
      "outputs": [
        {
          "output_type": "stream",
          "text": [
            "         Close       Date  DOW  ...  gain_loss-2  gain_loss-3  gain_loss-4\n",
            "0     437.5900 2021-08-02    0  ...      -1.2400      -1.4200        -3.43\n",
            "1     438.5100 2021-07-30    4  ...      -0.5000      -2.5100        -1.43\n",
            "2     440.6500 2021-07-29    3  ...      -0.3700       0.7100         5.19\n",
            "3     438.8300 2021-07-28    2  ...      -1.1100       3.3700         4.28\n",
            "4     439.0100 2021-07-27    1  ...       3.5500       4.4600         7.95\n",
            "...        ...        ...  ...  ...          ...          ...          ...\n",
            "1400  191.9230 2016-01-08    4  ...      -9.4370      -9.0962          NaN\n",
            "1401  194.0500 2016-01-07    3  ...      -6.9692          NaN          NaN\n",
            "1402  198.8200 2016-01-06    2  ...          NaN          NaN          NaN\n",
            "1403  201.3600 2016-01-05    1  ...          NaN          NaN          NaN\n",
            "1404  201.0192 2016-01-04    0  ...          NaN          NaN          NaN\n",
            "\n",
            "[1405 rows x 12 columns]\n"
          ],
          "name": "stdout"
        }
      ]
    },
    {
      "cell_type": "markdown",
      "metadata": {
        "id": "tJLMlPczM8bw"
      },
      "source": [
        "#Create binary version of skip-day gain loss values (and dependant variable #2)\n",
        "\n",
        "!Note: gain-loss-0b will ultimately end up being the dependant variable but also an independant variable (we will create a new column later and shift it down a row)\n",
        "\n",
        "This process changes all gain loss continuous variables into a binary-descrete (dichotomous) variables\n",
        "\n",
        "!Note - This process should be converted into the previous process when that process is converted into a loop"
      ]
    },
    {
      "cell_type": "code",
      "metadata": {
        "colab": {
          "base_uri": "https://localhost:8080/"
        },
        "id": "8rnb0z4P8D79",
        "outputId": "32e93254-97b3-4ab2-b58a-85b4b0782e2a"
      },
      "source": [
        "dataset['gain_loss-0b'] = np.where(dataset['gain_loss-0'] > 0, 1, 0)\n",
        "dataset['gain_loss-1b'] = np.where(dataset['gain_loss-1'] > 0, 1, 0)\n",
        "dataset['gain_loss-2b'] = np.where(dataset['gain_loss-2'] > 0, 1, 0)\n",
        "dataset['gain_loss-3b'] = np.where(dataset['gain_loss-3'] > 0, 1, 0)\n",
        "dataset['gain_loss-4b'] = np.where(dataset['gain_loss-4'] > 0, 1, 0)\n",
        "\n",
        "dataset.dtypes"
      ],
      "execution_count": 1251,
      "outputs": [
        {
          "output_type": "execute_result",
          "data": {
            "text/plain": [
              "Close                  float64\n",
              "Date            datetime64[ns]\n",
              "DOW                      int64\n",
              "DOY                      int64\n",
              "Week                     int64\n",
              "Month                    int64\n",
              "Quarter                  int64\n",
              "gain_loss-0            float64\n",
              "gain_loss-1            float64\n",
              "gain_loss-2            float64\n",
              "gain_loss-3            float64\n",
              "gain_loss-4            float64\n",
              "gain_loss-0b             int64\n",
              "gain_loss-1b             int64\n",
              "gain_loss-2b             int64\n",
              "gain_loss-3b             int64\n",
              "gain_loss-4b             int64\n",
              "dtype: object"
            ]
          },
          "metadata": {
            "tags": []
          },
          "execution_count": 1251
        }
      ]
    },
    {
      "cell_type": "markdown",
      "metadata": {
        "id": "qySpImzmN0ki"
      },
      "source": [
        "#Aggregate the binary skip-day gain loss values\n",
        "\n",
        "This creates a true categorical value from the binary descrete values.\n",
        "\n",
        "The theory is that, having binary values for each period (sparce matrix) and an aggregate (categorical), the values will work together to increase the value of this data\n",
        "\n",
        "!Note = This process should be indluded in the loop mentioned in notes from the above process (future modifications to the data pre-processing procedures)"
      ]
    },
    {
      "cell_type": "code",
      "metadata": {
        "colab": {
          "base_uri": "https://localhost:8080/",
          "height": 626
        },
        "id": "SzyHZx9vFIKb",
        "outputId": "1a134a03-bc36-455c-9bad-5767167e8e25"
      },
      "source": [
        "dataset['gain_loss-total_b'] = dataset['gain_loss-0b'] + dataset['gain_loss-1b'] + dataset['gain_loss-2b'] + dataset['gain_loss-3b'] + dataset['gain_loss-4b']\n",
        "\n",
        "dataset.head(-1)"
      ],
      "execution_count": 1252,
      "outputs": [
        {
          "output_type": "execute_result",
          "data": {
            "text/html": [
              "<div>\n",
              "<style scoped>\n",
              "    .dataframe tbody tr th:only-of-type {\n",
              "        vertical-align: middle;\n",
              "    }\n",
              "\n",
              "    .dataframe tbody tr th {\n",
              "        vertical-align: top;\n",
              "    }\n",
              "\n",
              "    .dataframe thead th {\n",
              "        text-align: right;\n",
              "    }\n",
              "</style>\n",
              "<table border=\"1\" class=\"dataframe\">\n",
              "  <thead>\n",
              "    <tr style=\"text-align: right;\">\n",
              "      <th></th>\n",
              "      <th>Close</th>\n",
              "      <th>Date</th>\n",
              "      <th>DOW</th>\n",
              "      <th>DOY</th>\n",
              "      <th>Week</th>\n",
              "      <th>Month</th>\n",
              "      <th>Quarter</th>\n",
              "      <th>gain_loss-0</th>\n",
              "      <th>gain_loss-1</th>\n",
              "      <th>gain_loss-2</th>\n",
              "      <th>gain_loss-3</th>\n",
              "      <th>gain_loss-4</th>\n",
              "      <th>gain_loss-0b</th>\n",
              "      <th>gain_loss-1b</th>\n",
              "      <th>gain_loss-2b</th>\n",
              "      <th>gain_loss-3b</th>\n",
              "      <th>gain_loss-4b</th>\n",
              "      <th>gain_loss-total_b</th>\n",
              "    </tr>\n",
              "  </thead>\n",
              "  <tbody>\n",
              "    <tr>\n",
              "      <th>0</th>\n",
              "      <td>437.590</td>\n",
              "      <td>2021-08-02</td>\n",
              "      <td>0</td>\n",
              "      <td>214</td>\n",
              "      <td>31</td>\n",
              "      <td>8</td>\n",
              "      <td>3</td>\n",
              "      <td>-0.9200</td>\n",
              "      <td>-3.0600</td>\n",
              "      <td>-1.2400</td>\n",
              "      <td>-1.4200</td>\n",
              "      <td>-3.4300</td>\n",
              "      <td>0</td>\n",
              "      <td>0</td>\n",
              "      <td>0</td>\n",
              "      <td>0</td>\n",
              "      <td>0</td>\n",
              "      <td>0</td>\n",
              "    </tr>\n",
              "    <tr>\n",
              "      <th>1</th>\n",
              "      <td>438.510</td>\n",
              "      <td>2021-07-30</td>\n",
              "      <td>4</td>\n",
              "      <td>211</td>\n",
              "      <td>30</td>\n",
              "      <td>7</td>\n",
              "      <td>3</td>\n",
              "      <td>-2.1400</td>\n",
              "      <td>-0.3200</td>\n",
              "      <td>-0.5000</td>\n",
              "      <td>-2.5100</td>\n",
              "      <td>-1.4300</td>\n",
              "      <td>0</td>\n",
              "      <td>0</td>\n",
              "      <td>0</td>\n",
              "      <td>0</td>\n",
              "      <td>0</td>\n",
              "      <td>0</td>\n",
              "    </tr>\n",
              "    <tr>\n",
              "      <th>2</th>\n",
              "      <td>440.650</td>\n",
              "      <td>2021-07-29</td>\n",
              "      <td>3</td>\n",
              "      <td>210</td>\n",
              "      <td>30</td>\n",
              "      <td>7</td>\n",
              "      <td>3</td>\n",
              "      <td>1.8200</td>\n",
              "      <td>1.6400</td>\n",
              "      <td>-0.3700</td>\n",
              "      <td>0.7100</td>\n",
              "      <td>5.1900</td>\n",
              "      <td>1</td>\n",
              "      <td>1</td>\n",
              "      <td>0</td>\n",
              "      <td>1</td>\n",
              "      <td>1</td>\n",
              "      <td>4</td>\n",
              "    </tr>\n",
              "    <tr>\n",
              "      <th>3</th>\n",
              "      <td>438.830</td>\n",
              "      <td>2021-07-28</td>\n",
              "      <td>2</td>\n",
              "      <td>209</td>\n",
              "      <td>30</td>\n",
              "      <td>7</td>\n",
              "      <td>3</td>\n",
              "      <td>-0.1800</td>\n",
              "      <td>-2.1900</td>\n",
              "      <td>-1.1100</td>\n",
              "      <td>3.3700</td>\n",
              "      <td>4.2800</td>\n",
              "      <td>0</td>\n",
              "      <td>0</td>\n",
              "      <td>0</td>\n",
              "      <td>1</td>\n",
              "      <td>1</td>\n",
              "      <td>2</td>\n",
              "    </tr>\n",
              "    <tr>\n",
              "      <th>4</th>\n",
              "      <td>439.010</td>\n",
              "      <td>2021-07-27</td>\n",
              "      <td>1</td>\n",
              "      <td>208</td>\n",
              "      <td>30</td>\n",
              "      <td>7</td>\n",
              "      <td>3</td>\n",
              "      <td>-2.0100</td>\n",
              "      <td>-0.9300</td>\n",
              "      <td>3.5500</td>\n",
              "      <td>4.4600</td>\n",
              "      <td>7.9500</td>\n",
              "      <td>0</td>\n",
              "      <td>0</td>\n",
              "      <td>1</td>\n",
              "      <td>1</td>\n",
              "      <td>1</td>\n",
              "      <td>3</td>\n",
              "    </tr>\n",
              "    <tr>\n",
              "      <th>...</th>\n",
              "      <td>...</td>\n",
              "      <td>...</td>\n",
              "      <td>...</td>\n",
              "      <td>...</td>\n",
              "      <td>...</td>\n",
              "      <td>...</td>\n",
              "      <td>...</td>\n",
              "      <td>...</td>\n",
              "      <td>...</td>\n",
              "      <td>...</td>\n",
              "      <td>...</td>\n",
              "      <td>...</td>\n",
              "      <td>...</td>\n",
              "      <td>...</td>\n",
              "      <td>...</td>\n",
              "      <td>...</td>\n",
              "      <td>...</td>\n",
              "      <td>...</td>\n",
              "    </tr>\n",
              "    <tr>\n",
              "      <th>1399</th>\n",
              "      <td>192.110</td>\n",
              "      <td>2016-01-11</td>\n",
              "      <td>0</td>\n",
              "      <td>11</td>\n",
              "      <td>2</td>\n",
              "      <td>1</td>\n",
              "      <td>1</td>\n",
              "      <td>0.1870</td>\n",
              "      <td>-1.9400</td>\n",
              "      <td>-6.7100</td>\n",
              "      <td>-9.2500</td>\n",
              "      <td>-8.9092</td>\n",
              "      <td>1</td>\n",
              "      <td>0</td>\n",
              "      <td>0</td>\n",
              "      <td>0</td>\n",
              "      <td>0</td>\n",
              "      <td>1</td>\n",
              "    </tr>\n",
              "    <tr>\n",
              "      <th>1400</th>\n",
              "      <td>191.923</td>\n",
              "      <td>2016-01-08</td>\n",
              "      <td>4</td>\n",
              "      <td>8</td>\n",
              "      <td>1</td>\n",
              "      <td>1</td>\n",
              "      <td>1</td>\n",
              "      <td>-2.1270</td>\n",
              "      <td>-6.8970</td>\n",
              "      <td>-9.4370</td>\n",
              "      <td>-9.0962</td>\n",
              "      <td>NaN</td>\n",
              "      <td>0</td>\n",
              "      <td>0</td>\n",
              "      <td>0</td>\n",
              "      <td>0</td>\n",
              "      <td>0</td>\n",
              "      <td>0</td>\n",
              "    </tr>\n",
              "    <tr>\n",
              "      <th>1401</th>\n",
              "      <td>194.050</td>\n",
              "      <td>2016-01-07</td>\n",
              "      <td>3</td>\n",
              "      <td>7</td>\n",
              "      <td>1</td>\n",
              "      <td>1</td>\n",
              "      <td>1</td>\n",
              "      <td>-4.7700</td>\n",
              "      <td>-7.3100</td>\n",
              "      <td>-6.9692</td>\n",
              "      <td>NaN</td>\n",
              "      <td>NaN</td>\n",
              "      <td>0</td>\n",
              "      <td>0</td>\n",
              "      <td>0</td>\n",
              "      <td>0</td>\n",
              "      <td>0</td>\n",
              "      <td>0</td>\n",
              "    </tr>\n",
              "    <tr>\n",
              "      <th>1402</th>\n",
              "      <td>198.820</td>\n",
              "      <td>2016-01-06</td>\n",
              "      <td>2</td>\n",
              "      <td>6</td>\n",
              "      <td>1</td>\n",
              "      <td>1</td>\n",
              "      <td>1</td>\n",
              "      <td>-2.5400</td>\n",
              "      <td>-2.1992</td>\n",
              "      <td>NaN</td>\n",
              "      <td>NaN</td>\n",
              "      <td>NaN</td>\n",
              "      <td>0</td>\n",
              "      <td>0</td>\n",
              "      <td>0</td>\n",
              "      <td>0</td>\n",
              "      <td>0</td>\n",
              "      <td>0</td>\n",
              "    </tr>\n",
              "    <tr>\n",
              "      <th>1403</th>\n",
              "      <td>201.360</td>\n",
              "      <td>2016-01-05</td>\n",
              "      <td>1</td>\n",
              "      <td>5</td>\n",
              "      <td>1</td>\n",
              "      <td>1</td>\n",
              "      <td>1</td>\n",
              "      <td>0.3408</td>\n",
              "      <td>NaN</td>\n",
              "      <td>NaN</td>\n",
              "      <td>NaN</td>\n",
              "      <td>NaN</td>\n",
              "      <td>1</td>\n",
              "      <td>0</td>\n",
              "      <td>0</td>\n",
              "      <td>0</td>\n",
              "      <td>0</td>\n",
              "      <td>1</td>\n",
              "    </tr>\n",
              "  </tbody>\n",
              "</table>\n",
              "<p>1404 rows × 18 columns</p>\n",
              "</div>"
            ],
            "text/plain": [
              "        Close       Date  DOW  ...  gain_loss-3b  gain_loss-4b  gain_loss-total_b\n",
              "0     437.590 2021-08-02    0  ...             0             0                  0\n",
              "1     438.510 2021-07-30    4  ...             0             0                  0\n",
              "2     440.650 2021-07-29    3  ...             1             1                  4\n",
              "3     438.830 2021-07-28    2  ...             1             1                  2\n",
              "4     439.010 2021-07-27    1  ...             1             1                  3\n",
              "...       ...        ...  ...  ...           ...           ...                ...\n",
              "1399  192.110 2016-01-11    0  ...             0             0                  1\n",
              "1400  191.923 2016-01-08    4  ...             0             0                  0\n",
              "1401  194.050 2016-01-07    3  ...             0             0                  0\n",
              "1402  198.820 2016-01-06    2  ...             0             0                  0\n",
              "1403  201.360 2016-01-05    1  ...             0             0                  1\n",
              "\n",
              "[1404 rows x 18 columns]"
            ]
          },
          "metadata": {
            "tags": []
          },
          "execution_count": 1252
        }
      ]
    },
    {
      "cell_type": "markdown",
      "metadata": {
        "id": "2LMh_Hj8PWIq"
      },
      "source": [
        "#Create daily gain loss and denormalize values\n",
        "\n",
        "1) Calculate the first day's gain loss by subtracting day -1 from day 0\n",
        "\n",
        "2) Calculate the second day's gain loss by subtracting day -2 from day -1\n",
        "\n",
        "3) Calculate the third day's gain loss by subtracting day -n from day -n+1\n",
        "\n",
        "This process creates a new column and removes the top rows in accordance with the desired \"lookback\" period - shift over 1 and lift by 1, shift over 2 and lift by 2, shift over n and lift by n\n",
        "\n",
        "!Note: This should be turned into a loop using i=n where n = the rows to be processed (now many previous rows)\n"
      ]
    },
    {
      "cell_type": "code",
      "metadata": {
        "colab": {
          "base_uri": "https://localhost:8080/",
          "height": 326
        },
        "id": "Swk_VFSW9P1P",
        "outputId": "b682c67b-27b7-4a1f-e9dd-c49e047ae00b"
      },
      "source": [
        "dataset['prior_day_0'] = dataset['gain_loss-0']\n",
        "#dataset['prior_day-1'] = dataset['prior_day-1'].shift(periods=-1, fill_value=0)#Removed this to experiment \n",
        "#with switching around the dependant variable rather than the independant variable\n",
        "dataset['prior_day-1'] = dataset['gain_loss-0']\n",
        "dataset['prior_day-1'] = dataset['prior_day-1'].shift(periods=-1, fill_value=0)\n",
        "dataset['prior_day-2'] = dataset['gain_loss-0']\n",
        "dataset['prior_day-2'] = dataset['prior_day-2'].shift(periods=-2, fill_value=0)\n",
        "dataset['prior_day-3'] = dataset['gain_loss-0']\n",
        "dataset['prior_day-3'] = dataset['prior_day-3'].shift(periods=-3, fill_value=0)\n",
        "dataset['prior_day-4'] = dataset['gain_loss-0']\n",
        "dataset['prior_day-4'] = dataset['prior_day-4'].shift(periods=-4, fill_value=0)\n",
        "dataset.head()"
      ],
      "execution_count": 1253,
      "outputs": [
        {
          "output_type": "execute_result",
          "data": {
            "text/html": [
              "<div>\n",
              "<style scoped>\n",
              "    .dataframe tbody tr th:only-of-type {\n",
              "        vertical-align: middle;\n",
              "    }\n",
              "\n",
              "    .dataframe tbody tr th {\n",
              "        vertical-align: top;\n",
              "    }\n",
              "\n",
              "    .dataframe thead th {\n",
              "        text-align: right;\n",
              "    }\n",
              "</style>\n",
              "<table border=\"1\" class=\"dataframe\">\n",
              "  <thead>\n",
              "    <tr style=\"text-align: right;\">\n",
              "      <th></th>\n",
              "      <th>Close</th>\n",
              "      <th>Date</th>\n",
              "      <th>DOW</th>\n",
              "      <th>DOY</th>\n",
              "      <th>Week</th>\n",
              "      <th>Month</th>\n",
              "      <th>Quarter</th>\n",
              "      <th>gain_loss-0</th>\n",
              "      <th>gain_loss-1</th>\n",
              "      <th>gain_loss-2</th>\n",
              "      <th>gain_loss-3</th>\n",
              "      <th>gain_loss-4</th>\n",
              "      <th>gain_loss-0b</th>\n",
              "      <th>gain_loss-1b</th>\n",
              "      <th>gain_loss-2b</th>\n",
              "      <th>gain_loss-3b</th>\n",
              "      <th>gain_loss-4b</th>\n",
              "      <th>gain_loss-total_b</th>\n",
              "      <th>prior_day_0</th>\n",
              "      <th>prior_day-1</th>\n",
              "      <th>prior_day-2</th>\n",
              "      <th>prior_day-3</th>\n",
              "      <th>prior_day-4</th>\n",
              "    </tr>\n",
              "  </thead>\n",
              "  <tbody>\n",
              "    <tr>\n",
              "      <th>0</th>\n",
              "      <td>437.59</td>\n",
              "      <td>2021-08-02</td>\n",
              "      <td>0</td>\n",
              "      <td>214</td>\n",
              "      <td>31</td>\n",
              "      <td>8</td>\n",
              "      <td>3</td>\n",
              "      <td>-0.92</td>\n",
              "      <td>-3.06</td>\n",
              "      <td>-1.24</td>\n",
              "      <td>-1.42</td>\n",
              "      <td>-3.43</td>\n",
              "      <td>0</td>\n",
              "      <td>0</td>\n",
              "      <td>0</td>\n",
              "      <td>0</td>\n",
              "      <td>0</td>\n",
              "      <td>0</td>\n",
              "      <td>-0.92</td>\n",
              "      <td>-2.14</td>\n",
              "      <td>1.82</td>\n",
              "      <td>-0.18</td>\n",
              "      <td>-2.01</td>\n",
              "    </tr>\n",
              "    <tr>\n",
              "      <th>1</th>\n",
              "      <td>438.51</td>\n",
              "      <td>2021-07-30</td>\n",
              "      <td>4</td>\n",
              "      <td>211</td>\n",
              "      <td>30</td>\n",
              "      <td>7</td>\n",
              "      <td>3</td>\n",
              "      <td>-2.14</td>\n",
              "      <td>-0.32</td>\n",
              "      <td>-0.50</td>\n",
              "      <td>-2.51</td>\n",
              "      <td>-1.43</td>\n",
              "      <td>0</td>\n",
              "      <td>0</td>\n",
              "      <td>0</td>\n",
              "      <td>0</td>\n",
              "      <td>0</td>\n",
              "      <td>0</td>\n",
              "      <td>-2.14</td>\n",
              "      <td>1.82</td>\n",
              "      <td>-0.18</td>\n",
              "      <td>-2.01</td>\n",
              "      <td>1.08</td>\n",
              "    </tr>\n",
              "    <tr>\n",
              "      <th>2</th>\n",
              "      <td>440.65</td>\n",
              "      <td>2021-07-29</td>\n",
              "      <td>3</td>\n",
              "      <td>210</td>\n",
              "      <td>30</td>\n",
              "      <td>7</td>\n",
              "      <td>3</td>\n",
              "      <td>1.82</td>\n",
              "      <td>1.64</td>\n",
              "      <td>-0.37</td>\n",
              "      <td>0.71</td>\n",
              "      <td>5.19</td>\n",
              "      <td>1</td>\n",
              "      <td>1</td>\n",
              "      <td>0</td>\n",
              "      <td>1</td>\n",
              "      <td>1</td>\n",
              "      <td>4</td>\n",
              "      <td>1.82</td>\n",
              "      <td>-0.18</td>\n",
              "      <td>-2.01</td>\n",
              "      <td>1.08</td>\n",
              "      <td>4.48</td>\n",
              "    </tr>\n",
              "    <tr>\n",
              "      <th>3</th>\n",
              "      <td>438.83</td>\n",
              "      <td>2021-07-28</td>\n",
              "      <td>2</td>\n",
              "      <td>209</td>\n",
              "      <td>30</td>\n",
              "      <td>7</td>\n",
              "      <td>3</td>\n",
              "      <td>-0.18</td>\n",
              "      <td>-2.19</td>\n",
              "      <td>-1.11</td>\n",
              "      <td>3.37</td>\n",
              "      <td>4.28</td>\n",
              "      <td>0</td>\n",
              "      <td>0</td>\n",
              "      <td>0</td>\n",
              "      <td>1</td>\n",
              "      <td>1</td>\n",
              "      <td>2</td>\n",
              "      <td>-0.18</td>\n",
              "      <td>-2.01</td>\n",
              "      <td>1.08</td>\n",
              "      <td>4.48</td>\n",
              "      <td>0.91</td>\n",
              "    </tr>\n",
              "    <tr>\n",
              "      <th>4</th>\n",
              "      <td>439.01</td>\n",
              "      <td>2021-07-27</td>\n",
              "      <td>1</td>\n",
              "      <td>208</td>\n",
              "      <td>30</td>\n",
              "      <td>7</td>\n",
              "      <td>3</td>\n",
              "      <td>-2.01</td>\n",
              "      <td>-0.93</td>\n",
              "      <td>3.55</td>\n",
              "      <td>4.46</td>\n",
              "      <td>7.95</td>\n",
              "      <td>0</td>\n",
              "      <td>0</td>\n",
              "      <td>1</td>\n",
              "      <td>1</td>\n",
              "      <td>1</td>\n",
              "      <td>3</td>\n",
              "      <td>-2.01</td>\n",
              "      <td>1.08</td>\n",
              "      <td>4.48</td>\n",
              "      <td>0.91</td>\n",
              "      <td>3.49</td>\n",
              "    </tr>\n",
              "  </tbody>\n",
              "</table>\n",
              "</div>"
            ],
            "text/plain": [
              "    Close       Date  DOW  ...  prior_day-2  prior_day-3  prior_day-4\n",
              "0  437.59 2021-08-02    0  ...         1.82        -0.18        -2.01\n",
              "1  438.51 2021-07-30    4  ...        -0.18        -2.01         1.08\n",
              "2  440.65 2021-07-29    3  ...        -2.01         1.08         4.48\n",
              "3  438.83 2021-07-28    2  ...         1.08         4.48         0.91\n",
              "4  439.01 2021-07-27    1  ...         4.48         0.91         3.49\n",
              "\n",
              "[5 rows x 23 columns]"
            ]
          },
          "metadata": {
            "tags": []
          },
          "execution_count": 1253
        }
      ]
    },
    {
      "cell_type": "markdown",
      "metadata": {
        "id": "6Pj-PFciR9O7"
      },
      "source": [
        "#Create binary version of daily gain loss values\n",
        "\n",
        "This process changes all gain loss continuous variables into a binary-descrete (dichotomous) variables\n",
        "\n",
        "!Note - This process should be converted into the previous process when that process is converted into a loop"
      ]
    },
    {
      "cell_type": "code",
      "metadata": {
        "colab": {
          "base_uri": "https://localhost:8080/",
          "height": 326
        },
        "id": "HsobZVYEC0-h",
        "outputId": "f3d3b79e-6442-4d39-bd9a-39e023fcbf9b"
      },
      "source": [
        "dataset['prior_day_0b'] = np.where(dataset['prior_day_0'] > 0, 1, 0)\n",
        "dataset['prior_day-1b'] = np.where(dataset['prior_day-1'] > 0, 1, 0)\n",
        "dataset['prior_day-2b'] = np.where(dataset['prior_day-2'] > 0, 1, 0)\n",
        "dataset['prior_day-3b'] = np.where(dataset['prior_day-3'] > 0, 1, 0)\n",
        "dataset['prior_day-4b'] = np.where(dataset['prior_day-4'] > 0, 1, 0)\n",
        "dataset.head()"
      ],
      "execution_count": 1254,
      "outputs": [
        {
          "output_type": "execute_result",
          "data": {
            "text/html": [
              "<div>\n",
              "<style scoped>\n",
              "    .dataframe tbody tr th:only-of-type {\n",
              "        vertical-align: middle;\n",
              "    }\n",
              "\n",
              "    .dataframe tbody tr th {\n",
              "        vertical-align: top;\n",
              "    }\n",
              "\n",
              "    .dataframe thead th {\n",
              "        text-align: right;\n",
              "    }\n",
              "</style>\n",
              "<table border=\"1\" class=\"dataframe\">\n",
              "  <thead>\n",
              "    <tr style=\"text-align: right;\">\n",
              "      <th></th>\n",
              "      <th>Close</th>\n",
              "      <th>Date</th>\n",
              "      <th>DOW</th>\n",
              "      <th>DOY</th>\n",
              "      <th>Week</th>\n",
              "      <th>Month</th>\n",
              "      <th>Quarter</th>\n",
              "      <th>gain_loss-0</th>\n",
              "      <th>gain_loss-1</th>\n",
              "      <th>gain_loss-2</th>\n",
              "      <th>gain_loss-3</th>\n",
              "      <th>gain_loss-4</th>\n",
              "      <th>gain_loss-0b</th>\n",
              "      <th>gain_loss-1b</th>\n",
              "      <th>gain_loss-2b</th>\n",
              "      <th>gain_loss-3b</th>\n",
              "      <th>gain_loss-4b</th>\n",
              "      <th>gain_loss-total_b</th>\n",
              "      <th>prior_day_0</th>\n",
              "      <th>prior_day-1</th>\n",
              "      <th>prior_day-2</th>\n",
              "      <th>prior_day-3</th>\n",
              "      <th>prior_day-4</th>\n",
              "      <th>prior_day_0b</th>\n",
              "      <th>prior_day-1b</th>\n",
              "      <th>prior_day-2b</th>\n",
              "      <th>prior_day-3b</th>\n",
              "      <th>prior_day-4b</th>\n",
              "    </tr>\n",
              "  </thead>\n",
              "  <tbody>\n",
              "    <tr>\n",
              "      <th>0</th>\n",
              "      <td>437.59</td>\n",
              "      <td>2021-08-02</td>\n",
              "      <td>0</td>\n",
              "      <td>214</td>\n",
              "      <td>31</td>\n",
              "      <td>8</td>\n",
              "      <td>3</td>\n",
              "      <td>-0.92</td>\n",
              "      <td>-3.06</td>\n",
              "      <td>-1.24</td>\n",
              "      <td>-1.42</td>\n",
              "      <td>-3.43</td>\n",
              "      <td>0</td>\n",
              "      <td>0</td>\n",
              "      <td>0</td>\n",
              "      <td>0</td>\n",
              "      <td>0</td>\n",
              "      <td>0</td>\n",
              "      <td>-0.92</td>\n",
              "      <td>-2.14</td>\n",
              "      <td>1.82</td>\n",
              "      <td>-0.18</td>\n",
              "      <td>-2.01</td>\n",
              "      <td>0</td>\n",
              "      <td>0</td>\n",
              "      <td>1</td>\n",
              "      <td>0</td>\n",
              "      <td>0</td>\n",
              "    </tr>\n",
              "    <tr>\n",
              "      <th>1</th>\n",
              "      <td>438.51</td>\n",
              "      <td>2021-07-30</td>\n",
              "      <td>4</td>\n",
              "      <td>211</td>\n",
              "      <td>30</td>\n",
              "      <td>7</td>\n",
              "      <td>3</td>\n",
              "      <td>-2.14</td>\n",
              "      <td>-0.32</td>\n",
              "      <td>-0.50</td>\n",
              "      <td>-2.51</td>\n",
              "      <td>-1.43</td>\n",
              "      <td>0</td>\n",
              "      <td>0</td>\n",
              "      <td>0</td>\n",
              "      <td>0</td>\n",
              "      <td>0</td>\n",
              "      <td>0</td>\n",
              "      <td>-2.14</td>\n",
              "      <td>1.82</td>\n",
              "      <td>-0.18</td>\n",
              "      <td>-2.01</td>\n",
              "      <td>1.08</td>\n",
              "      <td>0</td>\n",
              "      <td>1</td>\n",
              "      <td>0</td>\n",
              "      <td>0</td>\n",
              "      <td>1</td>\n",
              "    </tr>\n",
              "    <tr>\n",
              "      <th>2</th>\n",
              "      <td>440.65</td>\n",
              "      <td>2021-07-29</td>\n",
              "      <td>3</td>\n",
              "      <td>210</td>\n",
              "      <td>30</td>\n",
              "      <td>7</td>\n",
              "      <td>3</td>\n",
              "      <td>1.82</td>\n",
              "      <td>1.64</td>\n",
              "      <td>-0.37</td>\n",
              "      <td>0.71</td>\n",
              "      <td>5.19</td>\n",
              "      <td>1</td>\n",
              "      <td>1</td>\n",
              "      <td>0</td>\n",
              "      <td>1</td>\n",
              "      <td>1</td>\n",
              "      <td>4</td>\n",
              "      <td>1.82</td>\n",
              "      <td>-0.18</td>\n",
              "      <td>-2.01</td>\n",
              "      <td>1.08</td>\n",
              "      <td>4.48</td>\n",
              "      <td>1</td>\n",
              "      <td>0</td>\n",
              "      <td>0</td>\n",
              "      <td>1</td>\n",
              "      <td>1</td>\n",
              "    </tr>\n",
              "    <tr>\n",
              "      <th>3</th>\n",
              "      <td>438.83</td>\n",
              "      <td>2021-07-28</td>\n",
              "      <td>2</td>\n",
              "      <td>209</td>\n",
              "      <td>30</td>\n",
              "      <td>7</td>\n",
              "      <td>3</td>\n",
              "      <td>-0.18</td>\n",
              "      <td>-2.19</td>\n",
              "      <td>-1.11</td>\n",
              "      <td>3.37</td>\n",
              "      <td>4.28</td>\n",
              "      <td>0</td>\n",
              "      <td>0</td>\n",
              "      <td>0</td>\n",
              "      <td>1</td>\n",
              "      <td>1</td>\n",
              "      <td>2</td>\n",
              "      <td>-0.18</td>\n",
              "      <td>-2.01</td>\n",
              "      <td>1.08</td>\n",
              "      <td>4.48</td>\n",
              "      <td>0.91</td>\n",
              "      <td>0</td>\n",
              "      <td>0</td>\n",
              "      <td>1</td>\n",
              "      <td>1</td>\n",
              "      <td>1</td>\n",
              "    </tr>\n",
              "    <tr>\n",
              "      <th>4</th>\n",
              "      <td>439.01</td>\n",
              "      <td>2021-07-27</td>\n",
              "      <td>1</td>\n",
              "      <td>208</td>\n",
              "      <td>30</td>\n",
              "      <td>7</td>\n",
              "      <td>3</td>\n",
              "      <td>-2.01</td>\n",
              "      <td>-0.93</td>\n",
              "      <td>3.55</td>\n",
              "      <td>4.46</td>\n",
              "      <td>7.95</td>\n",
              "      <td>0</td>\n",
              "      <td>0</td>\n",
              "      <td>1</td>\n",
              "      <td>1</td>\n",
              "      <td>1</td>\n",
              "      <td>3</td>\n",
              "      <td>-2.01</td>\n",
              "      <td>1.08</td>\n",
              "      <td>4.48</td>\n",
              "      <td>0.91</td>\n",
              "      <td>3.49</td>\n",
              "      <td>0</td>\n",
              "      <td>1</td>\n",
              "      <td>1</td>\n",
              "      <td>1</td>\n",
              "      <td>1</td>\n",
              "    </tr>\n",
              "  </tbody>\n",
              "</table>\n",
              "</div>"
            ],
            "text/plain": [
              "    Close       Date  DOW  ...  prior_day-2b  prior_day-3b  prior_day-4b\n",
              "0  437.59 2021-08-02    0  ...             1             0             0\n",
              "1  438.51 2021-07-30    4  ...             0             0             1\n",
              "2  440.65 2021-07-29    3  ...             0             1             1\n",
              "3  438.83 2021-07-28    2  ...             1             1             1\n",
              "4  439.01 2021-07-27    1  ...             1             1             1\n",
              "\n",
              "[5 rows x 28 columns]"
            ]
          },
          "metadata": {
            "tags": []
          },
          "execution_count": 1254
        }
      ]
    },
    {
      "cell_type": "markdown",
      "metadata": {
        "id": "exCULdkeSyFf"
      },
      "source": [
        "#Aggregate the binary daily gain loss values\n",
        "\n",
        "This creates a true categorical value from the binary descrete values.\n",
        "\n",
        "The theory is that, having binary values for each period (sparce matrix) and an aggregate (categorical), the values will work together to increase the value of this data\n",
        "\n",
        "!Note = This process should be indluded in the loop mentioned in notes from the above process (future modifications to the data pre-processing procedures)"
      ]
    },
    {
      "cell_type": "code",
      "metadata": {
        "colab": {
          "base_uri": "https://localhost:8080/",
          "height": 326
        },
        "id": "yTrfNFhlEdjr",
        "outputId": "7df30325-4a74-41b5-c5f9-2dedacf8f29d"
      },
      "source": [
        "dataset['prior_day-total_b'] = dataset['prior_day_0b'] + dataset['prior_day-1b'] + dataset['prior_day-2b'] + dataset['prior_day-3b'] + dataset['prior_day-4b'] \n",
        "dataset.head(5)"
      ],
      "execution_count": 1255,
      "outputs": [
        {
          "output_type": "execute_result",
          "data": {
            "text/html": [
              "<div>\n",
              "<style scoped>\n",
              "    .dataframe tbody tr th:only-of-type {\n",
              "        vertical-align: middle;\n",
              "    }\n",
              "\n",
              "    .dataframe tbody tr th {\n",
              "        vertical-align: top;\n",
              "    }\n",
              "\n",
              "    .dataframe thead th {\n",
              "        text-align: right;\n",
              "    }\n",
              "</style>\n",
              "<table border=\"1\" class=\"dataframe\">\n",
              "  <thead>\n",
              "    <tr style=\"text-align: right;\">\n",
              "      <th></th>\n",
              "      <th>Close</th>\n",
              "      <th>Date</th>\n",
              "      <th>DOW</th>\n",
              "      <th>DOY</th>\n",
              "      <th>Week</th>\n",
              "      <th>Month</th>\n",
              "      <th>Quarter</th>\n",
              "      <th>gain_loss-0</th>\n",
              "      <th>gain_loss-1</th>\n",
              "      <th>gain_loss-2</th>\n",
              "      <th>gain_loss-3</th>\n",
              "      <th>gain_loss-4</th>\n",
              "      <th>gain_loss-0b</th>\n",
              "      <th>gain_loss-1b</th>\n",
              "      <th>gain_loss-2b</th>\n",
              "      <th>gain_loss-3b</th>\n",
              "      <th>gain_loss-4b</th>\n",
              "      <th>gain_loss-total_b</th>\n",
              "      <th>prior_day_0</th>\n",
              "      <th>prior_day-1</th>\n",
              "      <th>prior_day-2</th>\n",
              "      <th>prior_day-3</th>\n",
              "      <th>prior_day-4</th>\n",
              "      <th>prior_day_0b</th>\n",
              "      <th>prior_day-1b</th>\n",
              "      <th>prior_day-2b</th>\n",
              "      <th>prior_day-3b</th>\n",
              "      <th>prior_day-4b</th>\n",
              "      <th>prior_day-total_b</th>\n",
              "    </tr>\n",
              "  </thead>\n",
              "  <tbody>\n",
              "    <tr>\n",
              "      <th>0</th>\n",
              "      <td>437.59</td>\n",
              "      <td>2021-08-02</td>\n",
              "      <td>0</td>\n",
              "      <td>214</td>\n",
              "      <td>31</td>\n",
              "      <td>8</td>\n",
              "      <td>3</td>\n",
              "      <td>-0.92</td>\n",
              "      <td>-3.06</td>\n",
              "      <td>-1.24</td>\n",
              "      <td>-1.42</td>\n",
              "      <td>-3.43</td>\n",
              "      <td>0</td>\n",
              "      <td>0</td>\n",
              "      <td>0</td>\n",
              "      <td>0</td>\n",
              "      <td>0</td>\n",
              "      <td>0</td>\n",
              "      <td>-0.92</td>\n",
              "      <td>-2.14</td>\n",
              "      <td>1.82</td>\n",
              "      <td>-0.18</td>\n",
              "      <td>-2.01</td>\n",
              "      <td>0</td>\n",
              "      <td>0</td>\n",
              "      <td>1</td>\n",
              "      <td>0</td>\n",
              "      <td>0</td>\n",
              "      <td>1</td>\n",
              "    </tr>\n",
              "    <tr>\n",
              "      <th>1</th>\n",
              "      <td>438.51</td>\n",
              "      <td>2021-07-30</td>\n",
              "      <td>4</td>\n",
              "      <td>211</td>\n",
              "      <td>30</td>\n",
              "      <td>7</td>\n",
              "      <td>3</td>\n",
              "      <td>-2.14</td>\n",
              "      <td>-0.32</td>\n",
              "      <td>-0.50</td>\n",
              "      <td>-2.51</td>\n",
              "      <td>-1.43</td>\n",
              "      <td>0</td>\n",
              "      <td>0</td>\n",
              "      <td>0</td>\n",
              "      <td>0</td>\n",
              "      <td>0</td>\n",
              "      <td>0</td>\n",
              "      <td>-2.14</td>\n",
              "      <td>1.82</td>\n",
              "      <td>-0.18</td>\n",
              "      <td>-2.01</td>\n",
              "      <td>1.08</td>\n",
              "      <td>0</td>\n",
              "      <td>1</td>\n",
              "      <td>0</td>\n",
              "      <td>0</td>\n",
              "      <td>1</td>\n",
              "      <td>2</td>\n",
              "    </tr>\n",
              "    <tr>\n",
              "      <th>2</th>\n",
              "      <td>440.65</td>\n",
              "      <td>2021-07-29</td>\n",
              "      <td>3</td>\n",
              "      <td>210</td>\n",
              "      <td>30</td>\n",
              "      <td>7</td>\n",
              "      <td>3</td>\n",
              "      <td>1.82</td>\n",
              "      <td>1.64</td>\n",
              "      <td>-0.37</td>\n",
              "      <td>0.71</td>\n",
              "      <td>5.19</td>\n",
              "      <td>1</td>\n",
              "      <td>1</td>\n",
              "      <td>0</td>\n",
              "      <td>1</td>\n",
              "      <td>1</td>\n",
              "      <td>4</td>\n",
              "      <td>1.82</td>\n",
              "      <td>-0.18</td>\n",
              "      <td>-2.01</td>\n",
              "      <td>1.08</td>\n",
              "      <td>4.48</td>\n",
              "      <td>1</td>\n",
              "      <td>0</td>\n",
              "      <td>0</td>\n",
              "      <td>1</td>\n",
              "      <td>1</td>\n",
              "      <td>3</td>\n",
              "    </tr>\n",
              "    <tr>\n",
              "      <th>3</th>\n",
              "      <td>438.83</td>\n",
              "      <td>2021-07-28</td>\n",
              "      <td>2</td>\n",
              "      <td>209</td>\n",
              "      <td>30</td>\n",
              "      <td>7</td>\n",
              "      <td>3</td>\n",
              "      <td>-0.18</td>\n",
              "      <td>-2.19</td>\n",
              "      <td>-1.11</td>\n",
              "      <td>3.37</td>\n",
              "      <td>4.28</td>\n",
              "      <td>0</td>\n",
              "      <td>0</td>\n",
              "      <td>0</td>\n",
              "      <td>1</td>\n",
              "      <td>1</td>\n",
              "      <td>2</td>\n",
              "      <td>-0.18</td>\n",
              "      <td>-2.01</td>\n",
              "      <td>1.08</td>\n",
              "      <td>4.48</td>\n",
              "      <td>0.91</td>\n",
              "      <td>0</td>\n",
              "      <td>0</td>\n",
              "      <td>1</td>\n",
              "      <td>1</td>\n",
              "      <td>1</td>\n",
              "      <td>3</td>\n",
              "    </tr>\n",
              "    <tr>\n",
              "      <th>4</th>\n",
              "      <td>439.01</td>\n",
              "      <td>2021-07-27</td>\n",
              "      <td>1</td>\n",
              "      <td>208</td>\n",
              "      <td>30</td>\n",
              "      <td>7</td>\n",
              "      <td>3</td>\n",
              "      <td>-2.01</td>\n",
              "      <td>-0.93</td>\n",
              "      <td>3.55</td>\n",
              "      <td>4.46</td>\n",
              "      <td>7.95</td>\n",
              "      <td>0</td>\n",
              "      <td>0</td>\n",
              "      <td>1</td>\n",
              "      <td>1</td>\n",
              "      <td>1</td>\n",
              "      <td>3</td>\n",
              "      <td>-2.01</td>\n",
              "      <td>1.08</td>\n",
              "      <td>4.48</td>\n",
              "      <td>0.91</td>\n",
              "      <td>3.49</td>\n",
              "      <td>0</td>\n",
              "      <td>1</td>\n",
              "      <td>1</td>\n",
              "      <td>1</td>\n",
              "      <td>1</td>\n",
              "      <td>4</td>\n",
              "    </tr>\n",
              "  </tbody>\n",
              "</table>\n",
              "</div>"
            ],
            "text/plain": [
              "    Close       Date  DOW  ...  prior_day-3b  prior_day-4b  prior_day-total_b\n",
              "0  437.59 2021-08-02    0  ...             0             0                  1\n",
              "1  438.51 2021-07-30    4  ...             0             1                  2\n",
              "2  440.65 2021-07-29    3  ...             1             1                  3\n",
              "3  438.83 2021-07-28    2  ...             1             1                  3\n",
              "4  439.01 2021-07-27    1  ...             1             1                  4\n",
              "\n",
              "[5 rows x 29 columns]"
            ]
          },
          "metadata": {
            "tags": []
          },
          "execution_count": 1255
        }
      ]
    },
    {
      "cell_type": "markdown",
      "metadata": {
        "id": "6zm1v4LebGn_"
      },
      "source": [
        "#Creating Rolling mean attribute values\n",
        "\n",
        "Rolling mean values are based on daily gain loss and represent the trending direction of the prior n mean values (5, 10, 15, n, row mean values)\n",
        "\n",
        "the rolling mean works from the top row down - for exampple the mean of row 1 and 2 would appear on row 2. We need the mean of row 1 and 2 to land on row 1. This requires us to reverse the index of each desired mean column. The process to do this creates pandas value lists\n",
        "\n",
        "!Note: this process can convert into a loop  where n = list of n mean values (as described in the description above)"
      ]
    },
    {
      "cell_type": "code",
      "metadata": {
        "id": "SQhGpsmoGNwh",
        "colab": {
          "base_uri": "https://localhost:8080/"
        },
        "outputId": "e6eaf802-85aa-45c5-f5af-80a158229636"
      },
      "source": [
        "#Rolling averages based on prior day gain loss\n",
        "rolling_prior_day = dataset['prior_day_0']\n",
        "\n",
        "rolling_prior_day_5 = rolling_prior_day[::-1].rolling(5).mean()[::-1]\n",
        "rolling_prior_day_10 = rolling_prior_day[::-1].rolling(10).mean()[::-1]\n",
        "rolling_prior_day_15 = rolling_prior_day[::-1].rolling(15).mean()[::-1]\n",
        "rolling_prior_day_20 = rolling_prior_day[::-1].rolling(20).mean()[::-1]\n",
        "rolling_prior_day_25 = rolling_prior_day[::-1].rolling(25).mean()[::-1]\n",
        "rolling_prior_day_30 = rolling_prior_day[::-1].rolling(30).mean()[::-1]\n",
        "\n",
        "rolling_prior_day_5.rename('rolling_prior_day_5', inplace = True)\n",
        "rolling_prior_day_10.rename('rolling_prior_day_10', inplace = True)\n",
        "rolling_prior_day_15.rename('rolling_prior_day_15', inplace = True)\n",
        "rolling_prior_day_20.rename('rolling_prior_day_20', inplace = True)\n",
        "rolling_prior_day_25.rename('rolling_prior_day_25', inplace = True)\n",
        "rolling_prior_day_30.rename('rolling_prior_day_30', inplace = True)\n",
        "\n",
        "\n",
        "\n",
        "rolling_prior_day_5.head()"
      ],
      "execution_count": 1256,
      "outputs": [
        {
          "output_type": "execute_result",
          "data": {
            "text/plain": [
              "0   -0.686\n",
              "1   -0.286\n",
              "2    1.038\n",
              "3    0.856\n",
              "4    1.590\n",
              "Name: rolling_prior_day_5, dtype: float64"
            ]
          },
          "metadata": {
            "tags": []
          },
          "execution_count": 1256
        }
      ]
    },
    {
      "cell_type": "code",
      "metadata": {
        "colab": {
          "base_uri": "https://localhost:8080/"
        },
        "id": "iqD4zggZ99iE",
        "outputId": "6a90d657-d95a-4865-8e8f-860062e02aff"
      },
      "source": [
        "type(rolling_prior_day)"
      ],
      "execution_count": 1257,
      "outputs": [
        {
          "output_type": "execute_result",
          "data": {
            "text/plain": [
              "pandas.core.series.Series"
            ]
          },
          "metadata": {
            "tags": []
          },
          "execution_count": 1257
        }
      ]
    },
    {
      "cell_type": "markdown",
      "metadata": {
        "id": "9pdzrEwtnwC7"
      },
      "source": [
        "#Create close variance variable and binary\n",
        "\n",
        "Close variance uses a rolling averages of n days (Close attribute) minus the row's Close value. This indicates when the market is falling below a rolling average. \n",
        "\n",
        "The binary is calculated based on 1 = >0 and 0<0"
      ]
    },
    {
      "cell_type": "code",
      "metadata": {
        "colab": {
          "base_uri": "https://localhost:8080/"
        },
        "id": "6Pl9eWXznvY7",
        "outputId": "dcca6004-ef10-4a4d-9c9a-874c6922af67"
      },
      "source": [
        "rolling_close = dataset['Close']\n",
        "#rolling_close_x = (rolling_close[::-1].rolling(x).mean()[::-1]) #left this in for reference\n",
        "rolling_close_3 = rolling_close - (rolling_close[::-1].rolling(3).mean()[::-1])\n",
        "rolling_close_6 = rolling_close - (rolling_close[::-1].rolling(6).mean()[::-1])\n",
        "rolling_close_9 = rolling_close - (rolling_close[::-1].rolling(9).mean()[::-1])\n",
        "rolling_close_12 = rolling_close - (rolling_close[::-1].rolling(12).mean()[::-1])\n",
        "rolling_close_15 = rolling_close - (rolling_close[::-1].rolling(15).mean()[::-1])\n",
        "rolling_close_18 = rolling_close - (rolling_close[::-1].rolling(18).mean()[::-1])\n",
        "rolling_close_21 = rolling_close - (rolling_close[::-1].rolling(21).mean()[::-1])\n",
        "\n",
        "rolling_close_3b = pd.DataFrame({'rolling_close_3b': np.where(rolling_close_3 > 0, 1, 0)})\n",
        "rolling_close_6b = pd.DataFrame({'rolling_close_6b': np.where(rolling_close_6 > 0, 1, 0)})\n",
        "rolling_close_9b = pd.DataFrame({'rolling_close_9b': np.where(rolling_close_9 > 0, 1, 0)})\n",
        "rolling_close_12b = pd.DataFrame({'rolling_close_12b': np.where(rolling_close_12 > 0, 1, 0)})\n",
        "rolling_close_15b = pd.DataFrame({'rolling_close_15b': np.where(rolling_close_15 > 0, 1, 0)})\n",
        "rolling_close_18b = pd.DataFrame({'rolling_close_18b': np.where(rolling_close_18 > 0, 1, 0)})\n",
        "rolling_close_21b = pd.DataFrame({'rolling_close_21b': np.where(rolling_close_21 > 0, 1, 0)})\n",
        "\n",
        "rolling_close_3 = pd.DataFrame({'rolling_close_3': rolling_close_3})\n",
        "rolling_close_6 = pd.DataFrame({'rolling_close_6': rolling_close_6})\n",
        "rolling_close_9 = pd.DataFrame({'rolling_close_9': rolling_close_9})\n",
        "rolling_close_12 = pd.DataFrame({'rolling_close_12': rolling_close_12})\n",
        "rolling_close_15 = pd.DataFrame({'rolling_close_15': rolling_close_15})\n",
        "rolling_close_18 = pd.DataFrame({'rolling_close_18': rolling_close_18})\n",
        "rolling_close_21 = pd.DataFrame({'rolling_close_21': rolling_close_21})\n",
        "\n",
        "print(rolling_close_3)"
      ],
      "execution_count": 1258,
      "outputs": [
        {
          "output_type": "stream",
          "text": [
            "      rolling_close_3\n",
            "0           -1.326667\n",
            "1           -0.820000\n",
            "2            1.153333\n",
            "3           -0.790000\n",
            "4           -0.980000\n",
            "...               ...\n",
            "1400        -3.008000\n",
            "1401        -4.026667\n",
            "1402        -1.579733\n",
            "1403              NaN\n",
            "1404              NaN\n",
            "\n",
            "[1405 rows x 1 columns]\n"
          ],
          "name": "stdout"
        }
      ]
    },
    {
      "cell_type": "markdown",
      "metadata": {
        "id": "ngV7eCC6uLu2"
      },
      "source": [
        "#Add Rolling Mean attributes to dataset\n",
        "\n",
        "This is a normal concat funtion"
      ]
    },
    {
      "cell_type": "code",
      "metadata": {
        "colab": {
          "base_uri": "https://localhost:8080/"
        },
        "id": "2MBWu0oDuKPp",
        "outputId": "faec1ee0-9b19-46b5-cc10-b40e814ac8ae"
      },
      "source": [
        "dataset = pd.concat([dataset,\n",
        "                       rolling_close_3, \n",
        "                       rolling_close_6, \n",
        "                       rolling_close_9, \n",
        "                       rolling_close_12, \n",
        "                       rolling_close_15, \n",
        "                       rolling_close_18, \n",
        "                       rolling_close_21, \n",
        "                       rolling_close_3b, \n",
        "                       rolling_close_6b, \n",
        "                       rolling_close_9b,\n",
        "                       rolling_close_12b, \n",
        "                       rolling_close_15b, \n",
        "                       rolling_close_18b, \n",
        "                       rolling_close_21b\n",
        "                       ], axis = 1)\n",
        "\n",
        "print(dataset)"
      ],
      "execution_count": 1259,
      "outputs": [
        {
          "output_type": "stream",
          "text": [
            "         Close       Date  ...  rolling_close_18b  rolling_close_21b\n",
            "0     437.5900 2021-08-02  ...                  1                  1\n",
            "1     438.5100 2021-07-30  ...                  1                  1\n",
            "2     440.6500 2021-07-29  ...                  1                  1\n",
            "3     438.8300 2021-07-28  ...                  1                  1\n",
            "4     439.0100 2021-07-27  ...                  1                  1\n",
            "...        ...        ...  ...                ...                ...\n",
            "1400  191.9230 2016-01-08  ...                  0                  0\n",
            "1401  194.0500 2016-01-07  ...                  0                  0\n",
            "1402  198.8200 2016-01-06  ...                  0                  0\n",
            "1403  201.3600 2016-01-05  ...                  0                  0\n",
            "1404  201.0192 2016-01-04  ...                  0                  0\n",
            "\n",
            "[1405 rows x 43 columns]\n"
          ],
          "name": "stdout"
        }
      ]
    },
    {
      "cell_type": "code",
      "metadata": {
        "colab": {
          "base_uri": "https://localhost:8080/",
          "height": 134
        },
        "id": "xja_0Gf_5H9R",
        "outputId": "fc818180-a37c-43ce-8faf-555c43a9024b"
      },
      "source": [
        "dataset.head(1)\n"
      ],
      "execution_count": 1260,
      "outputs": [
        {
          "output_type": "execute_result",
          "data": {
            "text/html": [
              "<div>\n",
              "<style scoped>\n",
              "    .dataframe tbody tr th:only-of-type {\n",
              "        vertical-align: middle;\n",
              "    }\n",
              "\n",
              "    .dataframe tbody tr th {\n",
              "        vertical-align: top;\n",
              "    }\n",
              "\n",
              "    .dataframe thead th {\n",
              "        text-align: right;\n",
              "    }\n",
              "</style>\n",
              "<table border=\"1\" class=\"dataframe\">\n",
              "  <thead>\n",
              "    <tr style=\"text-align: right;\">\n",
              "      <th></th>\n",
              "      <th>Close</th>\n",
              "      <th>Date</th>\n",
              "      <th>DOW</th>\n",
              "      <th>DOY</th>\n",
              "      <th>Week</th>\n",
              "      <th>Month</th>\n",
              "      <th>Quarter</th>\n",
              "      <th>gain_loss-0</th>\n",
              "      <th>gain_loss-1</th>\n",
              "      <th>gain_loss-2</th>\n",
              "      <th>gain_loss-3</th>\n",
              "      <th>gain_loss-4</th>\n",
              "      <th>gain_loss-0b</th>\n",
              "      <th>gain_loss-1b</th>\n",
              "      <th>gain_loss-2b</th>\n",
              "      <th>gain_loss-3b</th>\n",
              "      <th>gain_loss-4b</th>\n",
              "      <th>gain_loss-total_b</th>\n",
              "      <th>prior_day_0</th>\n",
              "      <th>prior_day-1</th>\n",
              "      <th>prior_day-2</th>\n",
              "      <th>prior_day-3</th>\n",
              "      <th>prior_day-4</th>\n",
              "      <th>prior_day_0b</th>\n",
              "      <th>prior_day-1b</th>\n",
              "      <th>prior_day-2b</th>\n",
              "      <th>prior_day-3b</th>\n",
              "      <th>prior_day-4b</th>\n",
              "      <th>prior_day-total_b</th>\n",
              "      <th>rolling_close_3</th>\n",
              "      <th>rolling_close_6</th>\n",
              "      <th>rolling_close_9</th>\n",
              "      <th>rolling_close_12</th>\n",
              "      <th>rolling_close_15</th>\n",
              "      <th>rolling_close_18</th>\n",
              "      <th>rolling_close_21</th>\n",
              "      <th>rolling_close_3b</th>\n",
              "      <th>rolling_close_6b</th>\n",
              "      <th>rolling_close_9b</th>\n",
              "      <th>rolling_close_12b</th>\n",
              "      <th>rolling_close_15b</th>\n",
              "      <th>rolling_close_18b</th>\n",
              "      <th>rolling_close_21b</th>\n",
              "    </tr>\n",
              "  </thead>\n",
              "  <tbody>\n",
              "    <tr>\n",
              "      <th>0</th>\n",
              "      <td>437.59</td>\n",
              "      <td>2021-08-02</td>\n",
              "      <td>0</td>\n",
              "      <td>214</td>\n",
              "      <td>31</td>\n",
              "      <td>8</td>\n",
              "      <td>3</td>\n",
              "      <td>-0.92</td>\n",
              "      <td>-3.06</td>\n",
              "      <td>-1.24</td>\n",
              "      <td>-1.42</td>\n",
              "      <td>-3.43</td>\n",
              "      <td>0</td>\n",
              "      <td>0</td>\n",
              "      <td>0</td>\n",
              "      <td>0</td>\n",
              "      <td>0</td>\n",
              "      <td>0</td>\n",
              "      <td>-0.92</td>\n",
              "      <td>-2.14</td>\n",
              "      <td>1.82</td>\n",
              "      <td>-0.18</td>\n",
              "      <td>-2.01</td>\n",
              "      <td>0</td>\n",
              "      <td>0</td>\n",
              "      <td>1</td>\n",
              "      <td>0</td>\n",
              "      <td>0</td>\n",
              "      <td>1</td>\n",
              "      <td>-1.326667</td>\n",
              "      <td>-1.678333</td>\n",
              "      <td>-0.805556</td>\n",
              "      <td>1.5125</td>\n",
              "      <td>1.622667</td>\n",
              "      <td>1.866111</td>\n",
              "      <td>2.154762</td>\n",
              "      <td>0</td>\n",
              "      <td>0</td>\n",
              "      <td>0</td>\n",
              "      <td>1</td>\n",
              "      <td>1</td>\n",
              "      <td>1</td>\n",
              "      <td>1</td>\n",
              "    </tr>\n",
              "  </tbody>\n",
              "</table>\n",
              "</div>"
            ],
            "text/plain": [
              "    Close       Date  ...  rolling_close_18b  rolling_close_21b\n",
              "0  437.59 2021-08-02  ...                  1                  1\n",
              "\n",
              "[1 rows x 43 columns]"
            ]
          },
          "metadata": {
            "tags": []
          },
          "execution_count": 1260
        }
      ]
    },
    {
      "cell_type": "markdown",
      "metadata": {
        "id": "FHexBzYkzqXD"
      },
      "source": [
        "#Create aggregate of rolling close binary\n",
        "\n",
        "This is simply a sum of all rolling close binary values"
      ]
    },
    {
      "cell_type": "code",
      "metadata": {
        "colab": {
          "base_uri": "https://localhost:8080/",
          "height": 626
        },
        "id": "LJtisVGCzqQg",
        "outputId": "db0877c9-be50-4923-9516-77c2289d8409"
      },
      "source": [
        "rolling_close_total_b =  (dataset['rolling_close_3b'] + \n",
        "                                     dataset['rolling_close_6b'] + \n",
        "                                     dataset['rolling_close_9b'] + \n",
        "                                     dataset['rolling_close_12b'] + \n",
        "                                     dataset['rolling_close_15b'] + \n",
        "                                     dataset['rolling_close_18b'] + \n",
        "                                     dataset['rolling_close_21b']\n",
        "                                     )\n",
        "dataset['rolling_close_total_b'] = rolling_close_total_b\n",
        "\n",
        "dataset.head(-1)\n",
        "\n"
      ],
      "execution_count": 1261,
      "outputs": [
        {
          "output_type": "execute_result",
          "data": {
            "text/html": [
              "<div>\n",
              "<style scoped>\n",
              "    .dataframe tbody tr th:only-of-type {\n",
              "        vertical-align: middle;\n",
              "    }\n",
              "\n",
              "    .dataframe tbody tr th {\n",
              "        vertical-align: top;\n",
              "    }\n",
              "\n",
              "    .dataframe thead th {\n",
              "        text-align: right;\n",
              "    }\n",
              "</style>\n",
              "<table border=\"1\" class=\"dataframe\">\n",
              "  <thead>\n",
              "    <tr style=\"text-align: right;\">\n",
              "      <th></th>\n",
              "      <th>Close</th>\n",
              "      <th>Date</th>\n",
              "      <th>DOW</th>\n",
              "      <th>DOY</th>\n",
              "      <th>Week</th>\n",
              "      <th>Month</th>\n",
              "      <th>Quarter</th>\n",
              "      <th>gain_loss-0</th>\n",
              "      <th>gain_loss-1</th>\n",
              "      <th>gain_loss-2</th>\n",
              "      <th>gain_loss-3</th>\n",
              "      <th>gain_loss-4</th>\n",
              "      <th>gain_loss-0b</th>\n",
              "      <th>gain_loss-1b</th>\n",
              "      <th>gain_loss-2b</th>\n",
              "      <th>gain_loss-3b</th>\n",
              "      <th>gain_loss-4b</th>\n",
              "      <th>gain_loss-total_b</th>\n",
              "      <th>prior_day_0</th>\n",
              "      <th>prior_day-1</th>\n",
              "      <th>prior_day-2</th>\n",
              "      <th>prior_day-3</th>\n",
              "      <th>prior_day-4</th>\n",
              "      <th>prior_day_0b</th>\n",
              "      <th>prior_day-1b</th>\n",
              "      <th>prior_day-2b</th>\n",
              "      <th>prior_day-3b</th>\n",
              "      <th>prior_day-4b</th>\n",
              "      <th>prior_day-total_b</th>\n",
              "      <th>rolling_close_3</th>\n",
              "      <th>rolling_close_6</th>\n",
              "      <th>rolling_close_9</th>\n",
              "      <th>rolling_close_12</th>\n",
              "      <th>rolling_close_15</th>\n",
              "      <th>rolling_close_18</th>\n",
              "      <th>rolling_close_21</th>\n",
              "      <th>rolling_close_3b</th>\n",
              "      <th>rolling_close_6b</th>\n",
              "      <th>rolling_close_9b</th>\n",
              "      <th>rolling_close_12b</th>\n",
              "      <th>rolling_close_15b</th>\n",
              "      <th>rolling_close_18b</th>\n",
              "      <th>rolling_close_21b</th>\n",
              "      <th>rolling_close_total_b</th>\n",
              "    </tr>\n",
              "  </thead>\n",
              "  <tbody>\n",
              "    <tr>\n",
              "      <th>0</th>\n",
              "      <td>437.590</td>\n",
              "      <td>2021-08-02</td>\n",
              "      <td>0</td>\n",
              "      <td>214</td>\n",
              "      <td>31</td>\n",
              "      <td>8</td>\n",
              "      <td>3</td>\n",
              "      <td>-0.9200</td>\n",
              "      <td>-3.0600</td>\n",
              "      <td>-1.2400</td>\n",
              "      <td>-1.4200</td>\n",
              "      <td>-3.4300</td>\n",
              "      <td>0</td>\n",
              "      <td>0</td>\n",
              "      <td>0</td>\n",
              "      <td>0</td>\n",
              "      <td>0</td>\n",
              "      <td>0</td>\n",
              "      <td>-0.9200</td>\n",
              "      <td>-2.1400</td>\n",
              "      <td>1.8200</td>\n",
              "      <td>-0.1800</td>\n",
              "      <td>-2.0100</td>\n",
              "      <td>0</td>\n",
              "      <td>0</td>\n",
              "      <td>1</td>\n",
              "      <td>0</td>\n",
              "      <td>0</td>\n",
              "      <td>1</td>\n",
              "      <td>-1.326667</td>\n",
              "      <td>-1.678333</td>\n",
              "      <td>-0.805556</td>\n",
              "      <td>1.512500</td>\n",
              "      <td>1.622667</td>\n",
              "      <td>1.866111</td>\n",
              "      <td>2.154762</td>\n",
              "      <td>0</td>\n",
              "      <td>0</td>\n",
              "      <td>0</td>\n",
              "      <td>1</td>\n",
              "      <td>1</td>\n",
              "      <td>1</td>\n",
              "      <td>1</td>\n",
              "      <td>4</td>\n",
              "    </tr>\n",
              "    <tr>\n",
              "      <th>1</th>\n",
              "      <td>438.510</td>\n",
              "      <td>2021-07-30</td>\n",
              "      <td>4</td>\n",
              "      <td>211</td>\n",
              "      <td>30</td>\n",
              "      <td>7</td>\n",
              "      <td>3</td>\n",
              "      <td>-2.1400</td>\n",
              "      <td>-0.3200</td>\n",
              "      <td>-0.5000</td>\n",
              "      <td>-2.5100</td>\n",
              "      <td>-1.4300</td>\n",
              "      <td>0</td>\n",
              "      <td>0</td>\n",
              "      <td>0</td>\n",
              "      <td>0</td>\n",
              "      <td>0</td>\n",
              "      <td>0</td>\n",
              "      <td>-2.1400</td>\n",
              "      <td>1.8200</td>\n",
              "      <td>-0.1800</td>\n",
              "      <td>-2.0100</td>\n",
              "      <td>1.0800</td>\n",
              "      <td>0</td>\n",
              "      <td>1</td>\n",
              "      <td>0</td>\n",
              "      <td>0</td>\n",
              "      <td>1</td>\n",
              "      <td>2</td>\n",
              "      <td>-0.820000</td>\n",
              "      <td>-1.150000</td>\n",
              "      <td>0.840000</td>\n",
              "      <td>2.669167</td>\n",
              "      <td>2.576667</td>\n",
              "      <td>2.960000</td>\n",
              "      <td>3.415714</td>\n",
              "      <td>0</td>\n",
              "      <td>0</td>\n",
              "      <td>1</td>\n",
              "      <td>1</td>\n",
              "      <td>1</td>\n",
              "      <td>1</td>\n",
              "      <td>1</td>\n",
              "      <td>5</td>\n",
              "    </tr>\n",
              "    <tr>\n",
              "      <th>2</th>\n",
              "      <td>440.650</td>\n",
              "      <td>2021-07-29</td>\n",
              "      <td>3</td>\n",
              "      <td>210</td>\n",
              "      <td>30</td>\n",
              "      <td>7</td>\n",
              "      <td>3</td>\n",
              "      <td>1.8200</td>\n",
              "      <td>1.6400</td>\n",
              "      <td>-0.3700</td>\n",
              "      <td>0.7100</td>\n",
              "      <td>5.1900</td>\n",
              "      <td>1</td>\n",
              "      <td>1</td>\n",
              "      <td>0</td>\n",
              "      <td>1</td>\n",
              "      <td>1</td>\n",
              "      <td>4</td>\n",
              "      <td>1.8200</td>\n",
              "      <td>-0.1800</td>\n",
              "      <td>-2.0100</td>\n",
              "      <td>1.0800</td>\n",
              "      <td>4.4800</td>\n",
              "      <td>1</td>\n",
              "      <td>0</td>\n",
              "      <td>0</td>\n",
              "      <td>1</td>\n",
              "      <td>1</td>\n",
              "      <td>3</td>\n",
              "      <td>1.153333</td>\n",
              "      <td>1.498333</td>\n",
              "      <td>4.484444</td>\n",
              "      <td>4.998333</td>\n",
              "      <td>4.916000</td>\n",
              "      <td>5.410000</td>\n",
              "      <td>6.053333</td>\n",
              "      <td>1</td>\n",
              "      <td>1</td>\n",
              "      <td>1</td>\n",
              "      <td>1</td>\n",
              "      <td>1</td>\n",
              "      <td>1</td>\n",
              "      <td>1</td>\n",
              "      <td>7</td>\n",
              "    </tr>\n",
              "    <tr>\n",
              "      <th>3</th>\n",
              "      <td>438.830</td>\n",
              "      <td>2021-07-28</td>\n",
              "      <td>2</td>\n",
              "      <td>209</td>\n",
              "      <td>30</td>\n",
              "      <td>7</td>\n",
              "      <td>3</td>\n",
              "      <td>-0.1800</td>\n",
              "      <td>-2.1900</td>\n",
              "      <td>-1.1100</td>\n",
              "      <td>3.3700</td>\n",
              "      <td>4.2800</td>\n",
              "      <td>0</td>\n",
              "      <td>0</td>\n",
              "      <td>0</td>\n",
              "      <td>1</td>\n",
              "      <td>1</td>\n",
              "      <td>2</td>\n",
              "      <td>-0.1800</td>\n",
              "      <td>-2.0100</td>\n",
              "      <td>1.0800</td>\n",
              "      <td>4.4800</td>\n",
              "      <td>0.9100</td>\n",
              "      <td>0</td>\n",
              "      <td>0</td>\n",
              "      <td>1</td>\n",
              "      <td>1</td>\n",
              "      <td>1</td>\n",
              "      <td>3</td>\n",
              "      <td>-0.790000</td>\n",
              "      <td>0.695000</td>\n",
              "      <td>3.698889</td>\n",
              "      <td>3.600000</td>\n",
              "      <td>3.744667</td>\n",
              "      <td>3.975000</td>\n",
              "      <td>4.850000</td>\n",
              "      <td>0</td>\n",
              "      <td>1</td>\n",
              "      <td>1</td>\n",
              "      <td>1</td>\n",
              "      <td>1</td>\n",
              "      <td>1</td>\n",
              "      <td>1</td>\n",
              "      <td>6</td>\n",
              "    </tr>\n",
              "    <tr>\n",
              "      <th>4</th>\n",
              "      <td>439.010</td>\n",
              "      <td>2021-07-27</td>\n",
              "      <td>1</td>\n",
              "      <td>208</td>\n",
              "      <td>30</td>\n",
              "      <td>7</td>\n",
              "      <td>3</td>\n",
              "      <td>-2.0100</td>\n",
              "      <td>-0.9300</td>\n",
              "      <td>3.5500</td>\n",
              "      <td>4.4600</td>\n",
              "      <td>7.9500</td>\n",
              "      <td>0</td>\n",
              "      <td>0</td>\n",
              "      <td>1</td>\n",
              "      <td>1</td>\n",
              "      <td>1</td>\n",
              "      <td>3</td>\n",
              "      <td>-2.0100</td>\n",
              "      <td>1.0800</td>\n",
              "      <td>4.4800</td>\n",
              "      <td>0.9100</td>\n",
              "      <td>3.4900</td>\n",
              "      <td>0</td>\n",
              "      <td>1</td>\n",
              "      <td>1</td>\n",
              "      <td>1</td>\n",
              "      <td>1</td>\n",
              "      <td>4</td>\n",
              "      <td>-0.980000</td>\n",
              "      <td>2.170000</td>\n",
              "      <td>4.332222</td>\n",
              "      <td>3.925833</td>\n",
              "      <td>4.216000</td>\n",
              "      <td>4.621667</td>\n",
              "      <td>5.570952</td>\n",
              "      <td>0</td>\n",
              "      <td>1</td>\n",
              "      <td>1</td>\n",
              "      <td>1</td>\n",
              "      <td>1</td>\n",
              "      <td>1</td>\n",
              "      <td>1</td>\n",
              "      <td>6</td>\n",
              "    </tr>\n",
              "    <tr>\n",
              "      <th>...</th>\n",
              "      <td>...</td>\n",
              "      <td>...</td>\n",
              "      <td>...</td>\n",
              "      <td>...</td>\n",
              "      <td>...</td>\n",
              "      <td>...</td>\n",
              "      <td>...</td>\n",
              "      <td>...</td>\n",
              "      <td>...</td>\n",
              "      <td>...</td>\n",
              "      <td>...</td>\n",
              "      <td>...</td>\n",
              "      <td>...</td>\n",
              "      <td>...</td>\n",
              "      <td>...</td>\n",
              "      <td>...</td>\n",
              "      <td>...</td>\n",
              "      <td>...</td>\n",
              "      <td>...</td>\n",
              "      <td>...</td>\n",
              "      <td>...</td>\n",
              "      <td>...</td>\n",
              "      <td>...</td>\n",
              "      <td>...</td>\n",
              "      <td>...</td>\n",
              "      <td>...</td>\n",
              "      <td>...</td>\n",
              "      <td>...</td>\n",
              "      <td>...</td>\n",
              "      <td>...</td>\n",
              "      <td>...</td>\n",
              "      <td>...</td>\n",
              "      <td>...</td>\n",
              "      <td>...</td>\n",
              "      <td>...</td>\n",
              "      <td>...</td>\n",
              "      <td>...</td>\n",
              "      <td>...</td>\n",
              "      <td>...</td>\n",
              "      <td>...</td>\n",
              "      <td>...</td>\n",
              "      <td>...</td>\n",
              "      <td>...</td>\n",
              "      <td>...</td>\n",
              "    </tr>\n",
              "    <tr>\n",
              "      <th>1399</th>\n",
              "      <td>192.110</td>\n",
              "      <td>2016-01-11</td>\n",
              "      <td>0</td>\n",
              "      <td>11</td>\n",
              "      <td>2</td>\n",
              "      <td>1</td>\n",
              "      <td>1</td>\n",
              "      <td>0.1870</td>\n",
              "      <td>-1.9400</td>\n",
              "      <td>-6.7100</td>\n",
              "      <td>-9.2500</td>\n",
              "      <td>-8.9092</td>\n",
              "      <td>1</td>\n",
              "      <td>0</td>\n",
              "      <td>0</td>\n",
              "      <td>0</td>\n",
              "      <td>0</td>\n",
              "      <td>1</td>\n",
              "      <td>0.1870</td>\n",
              "      <td>-2.1270</td>\n",
              "      <td>-4.7700</td>\n",
              "      <td>-2.5400</td>\n",
              "      <td>0.3408</td>\n",
              "      <td>1</td>\n",
              "      <td>0</td>\n",
              "      <td>0</td>\n",
              "      <td>0</td>\n",
              "      <td>1</td>\n",
              "      <td>2</td>\n",
              "      <td>-0.584333</td>\n",
              "      <td>-4.437033</td>\n",
              "      <td>NaN</td>\n",
              "      <td>NaN</td>\n",
              "      <td>NaN</td>\n",
              "      <td>NaN</td>\n",
              "      <td>NaN</td>\n",
              "      <td>0</td>\n",
              "      <td>0</td>\n",
              "      <td>0</td>\n",
              "      <td>0</td>\n",
              "      <td>0</td>\n",
              "      <td>0</td>\n",
              "      <td>0</td>\n",
              "      <td>0</td>\n",
              "    </tr>\n",
              "    <tr>\n",
              "      <th>1400</th>\n",
              "      <td>191.923</td>\n",
              "      <td>2016-01-08</td>\n",
              "      <td>4</td>\n",
              "      <td>8</td>\n",
              "      <td>1</td>\n",
              "      <td>1</td>\n",
              "      <td>1</td>\n",
              "      <td>-2.1270</td>\n",
              "      <td>-6.8970</td>\n",
              "      <td>-9.4370</td>\n",
              "      <td>-9.0962</td>\n",
              "      <td>NaN</td>\n",
              "      <td>0</td>\n",
              "      <td>0</td>\n",
              "      <td>0</td>\n",
              "      <td>0</td>\n",
              "      <td>0</td>\n",
              "      <td>0</td>\n",
              "      <td>-2.1270</td>\n",
              "      <td>-4.7700</td>\n",
              "      <td>-2.5400</td>\n",
              "      <td>0.3408</td>\n",
              "      <td>NaN</td>\n",
              "      <td>0</td>\n",
              "      <td>0</td>\n",
              "      <td>0</td>\n",
              "      <td>1</td>\n",
              "      <td>0</td>\n",
              "      <td>1</td>\n",
              "      <td>-3.008000</td>\n",
              "      <td>NaN</td>\n",
              "      <td>NaN</td>\n",
              "      <td>NaN</td>\n",
              "      <td>NaN</td>\n",
              "      <td>NaN</td>\n",
              "      <td>NaN</td>\n",
              "      <td>0</td>\n",
              "      <td>0</td>\n",
              "      <td>0</td>\n",
              "      <td>0</td>\n",
              "      <td>0</td>\n",
              "      <td>0</td>\n",
              "      <td>0</td>\n",
              "      <td>0</td>\n",
              "    </tr>\n",
              "    <tr>\n",
              "      <th>1401</th>\n",
              "      <td>194.050</td>\n",
              "      <td>2016-01-07</td>\n",
              "      <td>3</td>\n",
              "      <td>7</td>\n",
              "      <td>1</td>\n",
              "      <td>1</td>\n",
              "      <td>1</td>\n",
              "      <td>-4.7700</td>\n",
              "      <td>-7.3100</td>\n",
              "      <td>-6.9692</td>\n",
              "      <td>NaN</td>\n",
              "      <td>NaN</td>\n",
              "      <td>0</td>\n",
              "      <td>0</td>\n",
              "      <td>0</td>\n",
              "      <td>0</td>\n",
              "      <td>0</td>\n",
              "      <td>0</td>\n",
              "      <td>-4.7700</td>\n",
              "      <td>-2.5400</td>\n",
              "      <td>0.3408</td>\n",
              "      <td>NaN</td>\n",
              "      <td>0.0000</td>\n",
              "      <td>0</td>\n",
              "      <td>0</td>\n",
              "      <td>1</td>\n",
              "      <td>0</td>\n",
              "      <td>0</td>\n",
              "      <td>1</td>\n",
              "      <td>-4.026667</td>\n",
              "      <td>NaN</td>\n",
              "      <td>NaN</td>\n",
              "      <td>NaN</td>\n",
              "      <td>NaN</td>\n",
              "      <td>NaN</td>\n",
              "      <td>NaN</td>\n",
              "      <td>0</td>\n",
              "      <td>0</td>\n",
              "      <td>0</td>\n",
              "      <td>0</td>\n",
              "      <td>0</td>\n",
              "      <td>0</td>\n",
              "      <td>0</td>\n",
              "      <td>0</td>\n",
              "    </tr>\n",
              "    <tr>\n",
              "      <th>1402</th>\n",
              "      <td>198.820</td>\n",
              "      <td>2016-01-06</td>\n",
              "      <td>2</td>\n",
              "      <td>6</td>\n",
              "      <td>1</td>\n",
              "      <td>1</td>\n",
              "      <td>1</td>\n",
              "      <td>-2.5400</td>\n",
              "      <td>-2.1992</td>\n",
              "      <td>NaN</td>\n",
              "      <td>NaN</td>\n",
              "      <td>NaN</td>\n",
              "      <td>0</td>\n",
              "      <td>0</td>\n",
              "      <td>0</td>\n",
              "      <td>0</td>\n",
              "      <td>0</td>\n",
              "      <td>0</td>\n",
              "      <td>-2.5400</td>\n",
              "      <td>0.3408</td>\n",
              "      <td>NaN</td>\n",
              "      <td>0.0000</td>\n",
              "      <td>0.0000</td>\n",
              "      <td>0</td>\n",
              "      <td>1</td>\n",
              "      <td>0</td>\n",
              "      <td>0</td>\n",
              "      <td>0</td>\n",
              "      <td>1</td>\n",
              "      <td>-1.579733</td>\n",
              "      <td>NaN</td>\n",
              "      <td>NaN</td>\n",
              "      <td>NaN</td>\n",
              "      <td>NaN</td>\n",
              "      <td>NaN</td>\n",
              "      <td>NaN</td>\n",
              "      <td>0</td>\n",
              "      <td>0</td>\n",
              "      <td>0</td>\n",
              "      <td>0</td>\n",
              "      <td>0</td>\n",
              "      <td>0</td>\n",
              "      <td>0</td>\n",
              "      <td>0</td>\n",
              "    </tr>\n",
              "    <tr>\n",
              "      <th>1403</th>\n",
              "      <td>201.360</td>\n",
              "      <td>2016-01-05</td>\n",
              "      <td>1</td>\n",
              "      <td>5</td>\n",
              "      <td>1</td>\n",
              "      <td>1</td>\n",
              "      <td>1</td>\n",
              "      <td>0.3408</td>\n",
              "      <td>NaN</td>\n",
              "      <td>NaN</td>\n",
              "      <td>NaN</td>\n",
              "      <td>NaN</td>\n",
              "      <td>1</td>\n",
              "      <td>0</td>\n",
              "      <td>0</td>\n",
              "      <td>0</td>\n",
              "      <td>0</td>\n",
              "      <td>1</td>\n",
              "      <td>0.3408</td>\n",
              "      <td>NaN</td>\n",
              "      <td>0.0000</td>\n",
              "      <td>0.0000</td>\n",
              "      <td>0.0000</td>\n",
              "      <td>1</td>\n",
              "      <td>0</td>\n",
              "      <td>0</td>\n",
              "      <td>0</td>\n",
              "      <td>0</td>\n",
              "      <td>1</td>\n",
              "      <td>NaN</td>\n",
              "      <td>NaN</td>\n",
              "      <td>NaN</td>\n",
              "      <td>NaN</td>\n",
              "      <td>NaN</td>\n",
              "      <td>NaN</td>\n",
              "      <td>NaN</td>\n",
              "      <td>0</td>\n",
              "      <td>0</td>\n",
              "      <td>0</td>\n",
              "      <td>0</td>\n",
              "      <td>0</td>\n",
              "      <td>0</td>\n",
              "      <td>0</td>\n",
              "      <td>0</td>\n",
              "    </tr>\n",
              "  </tbody>\n",
              "</table>\n",
              "<p>1404 rows × 44 columns</p>\n",
              "</div>"
            ],
            "text/plain": [
              "        Close       Date  ...  rolling_close_21b  rolling_close_total_b\n",
              "0     437.590 2021-08-02  ...                  1                      4\n",
              "1     438.510 2021-07-30  ...                  1                      5\n",
              "2     440.650 2021-07-29  ...                  1                      7\n",
              "3     438.830 2021-07-28  ...                  1                      6\n",
              "4     439.010 2021-07-27  ...                  1                      6\n",
              "...       ...        ...  ...                ...                    ...\n",
              "1399  192.110 2016-01-11  ...                  0                      0\n",
              "1400  191.923 2016-01-08  ...                  0                      0\n",
              "1401  194.050 2016-01-07  ...                  0                      0\n",
              "1402  198.820 2016-01-06  ...                  0                      0\n",
              "1403  201.360 2016-01-05  ...                  0                      0\n",
              "\n",
              "[1404 rows x 44 columns]"
            ]
          },
          "metadata": {
            "tags": []
          },
          "execution_count": 1261
        }
      ]
    },
    {
      "cell_type": "markdown",
      "metadata": {
        "id": "WXLJAd9yqyVD"
      },
      "source": [
        "#Remove NaN rows\n",
        "\n",
        "Need to remove the NaN rows from bottom of dataset. These will cause errors in the analysis if not removed.\n",
        "\n",
        "Due to this delete, the dataset must contain 30 additional periods (rows) of history beyond what is desired. This was mentioned in the notation heading of this solution. (due to rolling means and shifts)."
      ]
    },
    {
      "cell_type": "code",
      "metadata": {
        "colab": {
          "base_uri": "https://localhost:8080/",
          "height": 626
        },
        "id": "XLtsuSVwrbfz",
        "outputId": "5d180890-eb0b-49b4-8a89-f0baa460a48b"
      },
      "source": [
        "#dataset.dropna(inplace = True)\n",
        "\n",
        "dataset.head(-5)"
      ],
      "execution_count": 1262,
      "outputs": [
        {
          "output_type": "execute_result",
          "data": {
            "text/html": [
              "<div>\n",
              "<style scoped>\n",
              "    .dataframe tbody tr th:only-of-type {\n",
              "        vertical-align: middle;\n",
              "    }\n",
              "\n",
              "    .dataframe tbody tr th {\n",
              "        vertical-align: top;\n",
              "    }\n",
              "\n",
              "    .dataframe thead th {\n",
              "        text-align: right;\n",
              "    }\n",
              "</style>\n",
              "<table border=\"1\" class=\"dataframe\">\n",
              "  <thead>\n",
              "    <tr style=\"text-align: right;\">\n",
              "      <th></th>\n",
              "      <th>Close</th>\n",
              "      <th>Date</th>\n",
              "      <th>DOW</th>\n",
              "      <th>DOY</th>\n",
              "      <th>Week</th>\n",
              "      <th>Month</th>\n",
              "      <th>Quarter</th>\n",
              "      <th>gain_loss-0</th>\n",
              "      <th>gain_loss-1</th>\n",
              "      <th>gain_loss-2</th>\n",
              "      <th>gain_loss-3</th>\n",
              "      <th>gain_loss-4</th>\n",
              "      <th>gain_loss-0b</th>\n",
              "      <th>gain_loss-1b</th>\n",
              "      <th>gain_loss-2b</th>\n",
              "      <th>gain_loss-3b</th>\n",
              "      <th>gain_loss-4b</th>\n",
              "      <th>gain_loss-total_b</th>\n",
              "      <th>prior_day_0</th>\n",
              "      <th>prior_day-1</th>\n",
              "      <th>prior_day-2</th>\n",
              "      <th>prior_day-3</th>\n",
              "      <th>prior_day-4</th>\n",
              "      <th>prior_day_0b</th>\n",
              "      <th>prior_day-1b</th>\n",
              "      <th>prior_day-2b</th>\n",
              "      <th>prior_day-3b</th>\n",
              "      <th>prior_day-4b</th>\n",
              "      <th>prior_day-total_b</th>\n",
              "      <th>rolling_close_3</th>\n",
              "      <th>rolling_close_6</th>\n",
              "      <th>rolling_close_9</th>\n",
              "      <th>rolling_close_12</th>\n",
              "      <th>rolling_close_15</th>\n",
              "      <th>rolling_close_18</th>\n",
              "      <th>rolling_close_21</th>\n",
              "      <th>rolling_close_3b</th>\n",
              "      <th>rolling_close_6b</th>\n",
              "      <th>rolling_close_9b</th>\n",
              "      <th>rolling_close_12b</th>\n",
              "      <th>rolling_close_15b</th>\n",
              "      <th>rolling_close_18b</th>\n",
              "      <th>rolling_close_21b</th>\n",
              "      <th>rolling_close_total_b</th>\n",
              "    </tr>\n",
              "  </thead>\n",
              "  <tbody>\n",
              "    <tr>\n",
              "      <th>0</th>\n",
              "      <td>437.5900</td>\n",
              "      <td>2021-08-02</td>\n",
              "      <td>0</td>\n",
              "      <td>214</td>\n",
              "      <td>31</td>\n",
              "      <td>8</td>\n",
              "      <td>3</td>\n",
              "      <td>-0.9200</td>\n",
              "      <td>-3.0600</td>\n",
              "      <td>-1.2400</td>\n",
              "      <td>-1.4200</td>\n",
              "      <td>-3.4300</td>\n",
              "      <td>0</td>\n",
              "      <td>0</td>\n",
              "      <td>0</td>\n",
              "      <td>0</td>\n",
              "      <td>0</td>\n",
              "      <td>0</td>\n",
              "      <td>-0.9200</td>\n",
              "      <td>-2.1400</td>\n",
              "      <td>1.8200</td>\n",
              "      <td>-0.1800</td>\n",
              "      <td>-2.0100</td>\n",
              "      <td>0</td>\n",
              "      <td>0</td>\n",
              "      <td>1</td>\n",
              "      <td>0</td>\n",
              "      <td>0</td>\n",
              "      <td>1</td>\n",
              "      <td>-1.326667</td>\n",
              "      <td>-1.678333</td>\n",
              "      <td>-0.805556</td>\n",
              "      <td>1.512500</td>\n",
              "      <td>1.622667</td>\n",
              "      <td>1.866111</td>\n",
              "      <td>2.154762</td>\n",
              "      <td>0</td>\n",
              "      <td>0</td>\n",
              "      <td>0</td>\n",
              "      <td>1</td>\n",
              "      <td>1</td>\n",
              "      <td>1</td>\n",
              "      <td>1</td>\n",
              "      <td>4</td>\n",
              "    </tr>\n",
              "    <tr>\n",
              "      <th>1</th>\n",
              "      <td>438.5100</td>\n",
              "      <td>2021-07-30</td>\n",
              "      <td>4</td>\n",
              "      <td>211</td>\n",
              "      <td>30</td>\n",
              "      <td>7</td>\n",
              "      <td>3</td>\n",
              "      <td>-2.1400</td>\n",
              "      <td>-0.3200</td>\n",
              "      <td>-0.5000</td>\n",
              "      <td>-2.5100</td>\n",
              "      <td>-1.4300</td>\n",
              "      <td>0</td>\n",
              "      <td>0</td>\n",
              "      <td>0</td>\n",
              "      <td>0</td>\n",
              "      <td>0</td>\n",
              "      <td>0</td>\n",
              "      <td>-2.1400</td>\n",
              "      <td>1.8200</td>\n",
              "      <td>-0.1800</td>\n",
              "      <td>-2.0100</td>\n",
              "      <td>1.0800</td>\n",
              "      <td>0</td>\n",
              "      <td>1</td>\n",
              "      <td>0</td>\n",
              "      <td>0</td>\n",
              "      <td>1</td>\n",
              "      <td>2</td>\n",
              "      <td>-0.820000</td>\n",
              "      <td>-1.150000</td>\n",
              "      <td>0.840000</td>\n",
              "      <td>2.669167</td>\n",
              "      <td>2.576667</td>\n",
              "      <td>2.960000</td>\n",
              "      <td>3.415714</td>\n",
              "      <td>0</td>\n",
              "      <td>0</td>\n",
              "      <td>1</td>\n",
              "      <td>1</td>\n",
              "      <td>1</td>\n",
              "      <td>1</td>\n",
              "      <td>1</td>\n",
              "      <td>5</td>\n",
              "    </tr>\n",
              "    <tr>\n",
              "      <th>2</th>\n",
              "      <td>440.6500</td>\n",
              "      <td>2021-07-29</td>\n",
              "      <td>3</td>\n",
              "      <td>210</td>\n",
              "      <td>30</td>\n",
              "      <td>7</td>\n",
              "      <td>3</td>\n",
              "      <td>1.8200</td>\n",
              "      <td>1.6400</td>\n",
              "      <td>-0.3700</td>\n",
              "      <td>0.7100</td>\n",
              "      <td>5.1900</td>\n",
              "      <td>1</td>\n",
              "      <td>1</td>\n",
              "      <td>0</td>\n",
              "      <td>1</td>\n",
              "      <td>1</td>\n",
              "      <td>4</td>\n",
              "      <td>1.8200</td>\n",
              "      <td>-0.1800</td>\n",
              "      <td>-2.0100</td>\n",
              "      <td>1.0800</td>\n",
              "      <td>4.4800</td>\n",
              "      <td>1</td>\n",
              "      <td>0</td>\n",
              "      <td>0</td>\n",
              "      <td>1</td>\n",
              "      <td>1</td>\n",
              "      <td>3</td>\n",
              "      <td>1.153333</td>\n",
              "      <td>1.498333</td>\n",
              "      <td>4.484444</td>\n",
              "      <td>4.998333</td>\n",
              "      <td>4.916000</td>\n",
              "      <td>5.410000</td>\n",
              "      <td>6.053333</td>\n",
              "      <td>1</td>\n",
              "      <td>1</td>\n",
              "      <td>1</td>\n",
              "      <td>1</td>\n",
              "      <td>1</td>\n",
              "      <td>1</td>\n",
              "      <td>1</td>\n",
              "      <td>7</td>\n",
              "    </tr>\n",
              "    <tr>\n",
              "      <th>3</th>\n",
              "      <td>438.8300</td>\n",
              "      <td>2021-07-28</td>\n",
              "      <td>2</td>\n",
              "      <td>209</td>\n",
              "      <td>30</td>\n",
              "      <td>7</td>\n",
              "      <td>3</td>\n",
              "      <td>-0.1800</td>\n",
              "      <td>-2.1900</td>\n",
              "      <td>-1.1100</td>\n",
              "      <td>3.3700</td>\n",
              "      <td>4.2800</td>\n",
              "      <td>0</td>\n",
              "      <td>0</td>\n",
              "      <td>0</td>\n",
              "      <td>1</td>\n",
              "      <td>1</td>\n",
              "      <td>2</td>\n",
              "      <td>-0.1800</td>\n",
              "      <td>-2.0100</td>\n",
              "      <td>1.0800</td>\n",
              "      <td>4.4800</td>\n",
              "      <td>0.9100</td>\n",
              "      <td>0</td>\n",
              "      <td>0</td>\n",
              "      <td>1</td>\n",
              "      <td>1</td>\n",
              "      <td>1</td>\n",
              "      <td>3</td>\n",
              "      <td>-0.790000</td>\n",
              "      <td>0.695000</td>\n",
              "      <td>3.698889</td>\n",
              "      <td>3.600000</td>\n",
              "      <td>3.744667</td>\n",
              "      <td>3.975000</td>\n",
              "      <td>4.850000</td>\n",
              "      <td>0</td>\n",
              "      <td>1</td>\n",
              "      <td>1</td>\n",
              "      <td>1</td>\n",
              "      <td>1</td>\n",
              "      <td>1</td>\n",
              "      <td>1</td>\n",
              "      <td>6</td>\n",
              "    </tr>\n",
              "    <tr>\n",
              "      <th>4</th>\n",
              "      <td>439.0100</td>\n",
              "      <td>2021-07-27</td>\n",
              "      <td>1</td>\n",
              "      <td>208</td>\n",
              "      <td>30</td>\n",
              "      <td>7</td>\n",
              "      <td>3</td>\n",
              "      <td>-2.0100</td>\n",
              "      <td>-0.9300</td>\n",
              "      <td>3.5500</td>\n",
              "      <td>4.4600</td>\n",
              "      <td>7.9500</td>\n",
              "      <td>0</td>\n",
              "      <td>0</td>\n",
              "      <td>1</td>\n",
              "      <td>1</td>\n",
              "      <td>1</td>\n",
              "      <td>3</td>\n",
              "      <td>-2.0100</td>\n",
              "      <td>1.0800</td>\n",
              "      <td>4.4800</td>\n",
              "      <td>0.9100</td>\n",
              "      <td>3.4900</td>\n",
              "      <td>0</td>\n",
              "      <td>1</td>\n",
              "      <td>1</td>\n",
              "      <td>1</td>\n",
              "      <td>1</td>\n",
              "      <td>4</td>\n",
              "      <td>-0.980000</td>\n",
              "      <td>2.170000</td>\n",
              "      <td>4.332222</td>\n",
              "      <td>3.925833</td>\n",
              "      <td>4.216000</td>\n",
              "      <td>4.621667</td>\n",
              "      <td>5.570952</td>\n",
              "      <td>0</td>\n",
              "      <td>1</td>\n",
              "      <td>1</td>\n",
              "      <td>1</td>\n",
              "      <td>1</td>\n",
              "      <td>1</td>\n",
              "      <td>1</td>\n",
              "      <td>6</td>\n",
              "    </tr>\n",
              "    <tr>\n",
              "      <th>...</th>\n",
              "      <td>...</td>\n",
              "      <td>...</td>\n",
              "      <td>...</td>\n",
              "      <td>...</td>\n",
              "      <td>...</td>\n",
              "      <td>...</td>\n",
              "      <td>...</td>\n",
              "      <td>...</td>\n",
              "      <td>...</td>\n",
              "      <td>...</td>\n",
              "      <td>...</td>\n",
              "      <td>...</td>\n",
              "      <td>...</td>\n",
              "      <td>...</td>\n",
              "      <td>...</td>\n",
              "      <td>...</td>\n",
              "      <td>...</td>\n",
              "      <td>...</td>\n",
              "      <td>...</td>\n",
              "      <td>...</td>\n",
              "      <td>...</td>\n",
              "      <td>...</td>\n",
              "      <td>...</td>\n",
              "      <td>...</td>\n",
              "      <td>...</td>\n",
              "      <td>...</td>\n",
              "      <td>...</td>\n",
              "      <td>...</td>\n",
              "      <td>...</td>\n",
              "      <td>...</td>\n",
              "      <td>...</td>\n",
              "      <td>...</td>\n",
              "      <td>...</td>\n",
              "      <td>...</td>\n",
              "      <td>...</td>\n",
              "      <td>...</td>\n",
              "      <td>...</td>\n",
              "      <td>...</td>\n",
              "      <td>...</td>\n",
              "      <td>...</td>\n",
              "      <td>...</td>\n",
              "      <td>...</td>\n",
              "      <td>...</td>\n",
              "      <td>...</td>\n",
              "    </tr>\n",
              "    <tr>\n",
              "      <th>1395</th>\n",
              "      <td>187.8100</td>\n",
              "      <td>2016-01-15</td>\n",
              "      <td>4</td>\n",
              "      <td>15</td>\n",
              "      <td>2</td>\n",
              "      <td>1</td>\n",
              "      <td>1</td>\n",
              "      <td>-4.1200</td>\n",
              "      <td>-1.0200</td>\n",
              "      <td>-5.8508</td>\n",
              "      <td>-4.3000</td>\n",
              "      <td>-4.1130</td>\n",
              "      <td>0</td>\n",
              "      <td>0</td>\n",
              "      <td>0</td>\n",
              "      <td>0</td>\n",
              "      <td>0</td>\n",
              "      <td>0</td>\n",
              "      <td>-4.1200</td>\n",
              "      <td>3.1000</td>\n",
              "      <td>-4.8308</td>\n",
              "      <td>1.5508</td>\n",
              "      <td>0.1870</td>\n",
              "      <td>0</td>\n",
              "      <td>1</td>\n",
              "      <td>0</td>\n",
              "      <td>1</td>\n",
              "      <td>1</td>\n",
              "      <td>3</td>\n",
              "      <td>-1.713333</td>\n",
              "      <td>-3.233967</td>\n",
              "      <td>-5.578200</td>\n",
              "      <td>NaN</td>\n",
              "      <td>NaN</td>\n",
              "      <td>NaN</td>\n",
              "      <td>NaN</td>\n",
              "      <td>0</td>\n",
              "      <td>0</td>\n",
              "      <td>0</td>\n",
              "      <td>0</td>\n",
              "      <td>0</td>\n",
              "      <td>0</td>\n",
              "      <td>0</td>\n",
              "      <td>0</td>\n",
              "    </tr>\n",
              "    <tr>\n",
              "      <th>1396</th>\n",
              "      <td>191.9300</td>\n",
              "      <td>2016-01-14</td>\n",
              "      <td>3</td>\n",
              "      <td>14</td>\n",
              "      <td>2</td>\n",
              "      <td>1</td>\n",
              "      <td>1</td>\n",
              "      <td>3.1000</td>\n",
              "      <td>-1.7308</td>\n",
              "      <td>-0.1800</td>\n",
              "      <td>0.0070</td>\n",
              "      <td>-2.1200</td>\n",
              "      <td>1</td>\n",
              "      <td>0</td>\n",
              "      <td>0</td>\n",
              "      <td>1</td>\n",
              "      <td>0</td>\n",
              "      <td>2</td>\n",
              "      <td>3.1000</td>\n",
              "      <td>-4.8308</td>\n",
              "      <td>1.5508</td>\n",
              "      <td>0.1870</td>\n",
              "      <td>-2.1270</td>\n",
              "      <td>1</td>\n",
              "      <td>0</td>\n",
              "      <td>1</td>\n",
              "      <td>1</td>\n",
              "      <td>0</td>\n",
              "      <td>3</td>\n",
              "      <td>0.456400</td>\n",
              "      <td>-0.153967</td>\n",
              "      <td>-2.925889</td>\n",
              "      <td>NaN</td>\n",
              "      <td>NaN</td>\n",
              "      <td>NaN</td>\n",
              "      <td>NaN</td>\n",
              "      <td>1</td>\n",
              "      <td>0</td>\n",
              "      <td>0</td>\n",
              "      <td>0</td>\n",
              "      <td>0</td>\n",
              "      <td>0</td>\n",
              "      <td>0</td>\n",
              "      <td>1</td>\n",
              "    </tr>\n",
              "    <tr>\n",
              "      <th>1397</th>\n",
              "      <td>188.8300</td>\n",
              "      <td>2016-01-13</td>\n",
              "      <td>2</td>\n",
              "      <td>13</td>\n",
              "      <td>2</td>\n",
              "      <td>1</td>\n",
              "      <td>1</td>\n",
              "      <td>-4.8308</td>\n",
              "      <td>-3.2800</td>\n",
              "      <td>-3.0930</td>\n",
              "      <td>-5.2200</td>\n",
              "      <td>-9.9900</td>\n",
              "      <td>0</td>\n",
              "      <td>0</td>\n",
              "      <td>0</td>\n",
              "      <td>0</td>\n",
              "      <td>0</td>\n",
              "      <td>0</td>\n",
              "      <td>-4.8308</td>\n",
              "      <td>1.5508</td>\n",
              "      <td>0.1870</td>\n",
              "      <td>-2.1270</td>\n",
              "      <td>-4.7700</td>\n",
              "      <td>0</td>\n",
              "      <td>1</td>\n",
              "      <td>1</td>\n",
              "      <td>0</td>\n",
              "      <td>0</td>\n",
              "      <td>2</td>\n",
              "      <td>-2.703600</td>\n",
              "      <td>-4.402300</td>\n",
              "      <td>NaN</td>\n",
              "      <td>NaN</td>\n",
              "      <td>NaN</td>\n",
              "      <td>NaN</td>\n",
              "      <td>NaN</td>\n",
              "      <td>0</td>\n",
              "      <td>0</td>\n",
              "      <td>0</td>\n",
              "      <td>0</td>\n",
              "      <td>0</td>\n",
              "      <td>0</td>\n",
              "      <td>0</td>\n",
              "      <td>0</td>\n",
              "    </tr>\n",
              "    <tr>\n",
              "      <th>1398</th>\n",
              "      <td>193.6608</td>\n",
              "      <td>2016-01-12</td>\n",
              "      <td>1</td>\n",
              "      <td>12</td>\n",
              "      <td>2</td>\n",
              "      <td>1</td>\n",
              "      <td>1</td>\n",
              "      <td>1.5508</td>\n",
              "      <td>1.7378</td>\n",
              "      <td>-0.3892</td>\n",
              "      <td>-5.1592</td>\n",
              "      <td>-7.6992</td>\n",
              "      <td>1</td>\n",
              "      <td>1</td>\n",
              "      <td>0</td>\n",
              "      <td>0</td>\n",
              "      <td>0</td>\n",
              "      <td>2</td>\n",
              "      <td>1.5508</td>\n",
              "      <td>0.1870</td>\n",
              "      <td>-2.1270</td>\n",
              "      <td>-4.7700</td>\n",
              "      <td>-2.5400</td>\n",
              "      <td>1</td>\n",
              "      <td>1</td>\n",
              "      <td>0</td>\n",
              "      <td>0</td>\n",
              "      <td>0</td>\n",
              "      <td>2</td>\n",
              "      <td>1.096200</td>\n",
              "      <td>-1.659833</td>\n",
              "      <td>NaN</td>\n",
              "      <td>NaN</td>\n",
              "      <td>NaN</td>\n",
              "      <td>NaN</td>\n",
              "      <td>NaN</td>\n",
              "      <td>1</td>\n",
              "      <td>0</td>\n",
              "      <td>0</td>\n",
              "      <td>0</td>\n",
              "      <td>0</td>\n",
              "      <td>0</td>\n",
              "      <td>0</td>\n",
              "      <td>1</td>\n",
              "    </tr>\n",
              "    <tr>\n",
              "      <th>1399</th>\n",
              "      <td>192.1100</td>\n",
              "      <td>2016-01-11</td>\n",
              "      <td>0</td>\n",
              "      <td>11</td>\n",
              "      <td>2</td>\n",
              "      <td>1</td>\n",
              "      <td>1</td>\n",
              "      <td>0.1870</td>\n",
              "      <td>-1.9400</td>\n",
              "      <td>-6.7100</td>\n",
              "      <td>-9.2500</td>\n",
              "      <td>-8.9092</td>\n",
              "      <td>1</td>\n",
              "      <td>0</td>\n",
              "      <td>0</td>\n",
              "      <td>0</td>\n",
              "      <td>0</td>\n",
              "      <td>1</td>\n",
              "      <td>0.1870</td>\n",
              "      <td>-2.1270</td>\n",
              "      <td>-4.7700</td>\n",
              "      <td>-2.5400</td>\n",
              "      <td>0.3408</td>\n",
              "      <td>1</td>\n",
              "      <td>0</td>\n",
              "      <td>0</td>\n",
              "      <td>0</td>\n",
              "      <td>1</td>\n",
              "      <td>2</td>\n",
              "      <td>-0.584333</td>\n",
              "      <td>-4.437033</td>\n",
              "      <td>NaN</td>\n",
              "      <td>NaN</td>\n",
              "      <td>NaN</td>\n",
              "      <td>NaN</td>\n",
              "      <td>NaN</td>\n",
              "      <td>0</td>\n",
              "      <td>0</td>\n",
              "      <td>0</td>\n",
              "      <td>0</td>\n",
              "      <td>0</td>\n",
              "      <td>0</td>\n",
              "      <td>0</td>\n",
              "      <td>0</td>\n",
              "    </tr>\n",
              "  </tbody>\n",
              "</table>\n",
              "<p>1400 rows × 44 columns</p>\n",
              "</div>"
            ],
            "text/plain": [
              "         Close       Date  ...  rolling_close_21b  rolling_close_total_b\n",
              "0     437.5900 2021-08-02  ...                  1                      4\n",
              "1     438.5100 2021-07-30  ...                  1                      5\n",
              "2     440.6500 2021-07-29  ...                  1                      7\n",
              "3     438.8300 2021-07-28  ...                  1                      6\n",
              "4     439.0100 2021-07-27  ...                  1                      6\n",
              "...        ...        ...  ...                ...                    ...\n",
              "1395  187.8100 2016-01-15  ...                  0                      0\n",
              "1396  191.9300 2016-01-14  ...                  0                      1\n",
              "1397  188.8300 2016-01-13  ...                  0                      0\n",
              "1398  193.6608 2016-01-12  ...                  0                      1\n",
              "1399  192.1100 2016-01-11  ...                  0                      0\n",
              "\n",
              "[1400 rows x 44 columns]"
            ]
          },
          "metadata": {
            "tags": []
          },
          "execution_count": 1262
        }
      ]
    },
    {
      "cell_type": "markdown",
      "metadata": {
        "id": "Pspu--zThppK"
      },
      "source": [
        "#Create dependant variables (2 dependants)\n",
        "\n",
        "As mentioned earlier, the gain_loss-0 attribute is a dependant variable. It's binary conterpart, gain_loss-0b is also a dependant variable.\n",
        "\n",
        "the dependant variables need shifted down one row. This will adjust all of the independant variable into a position where they are trying to predict the \"day ahead\". Because the data is shifted down one day the last day must be removed.\n",
        "\n",
        "!Note: Due to the organizaiton of this dataset (train and test set being time-based) this adjustment for the dependant variables will create results for next day. \n"
      ]
    },
    {
      "cell_type": "code",
      "metadata": {
        "colab": {
          "base_uri": "https://localhost:8080/"
        },
        "id": "8kbzhhUsjptq",
        "outputId": "63f3ae92-10c6-479c-f7dc-4e01c1919213"
      },
      "source": [
        "y = pd.DataFrame(dataset['gain_loss-0']).reset_index(drop = True)\n",
        "y.loc[-1] = [0]\n",
        "y.index = y.index + 1\n",
        "y = y.sort_index()\n",
        "y.drop(y.tail(1).index, inplace = True)\n",
        "y.rename(columns={'gain_loss-0': 'y'}, inplace=True)\n",
        "y_df = pd.DataFrame(y, columns=['y'])\n",
        "\n",
        "yb = pd.DataFrame(dataset['gain_loss-0b']).reset_index(drop = True)\n",
        "yb.loc[-1] = [0]\n",
        "yb.index = yb.index + 1\n",
        "yb = yb.sort_index()\n",
        "yb.drop(yb.tail(1).index, inplace = True)\n",
        "yb.rename(columns={'gain_loss-0b': 'yb'}, inplace=True)\n",
        "yb_df = pd.DataFrame(yb, columns=['yb'])\n",
        "\n",
        "print(y)\n",
        "print(\"----------------\")\n",
        "print(yb)"
      ],
      "execution_count": 1263,
      "outputs": [
        {
          "output_type": "stream",
          "text": [
            "           y\n",
            "0     0.0000\n",
            "1    -0.9200\n",
            "2    -2.1400\n",
            "3     1.8200\n",
            "4    -0.1800\n",
            "...      ...\n",
            "1400  0.1870\n",
            "1401 -2.1270\n",
            "1402 -4.7700\n",
            "1403 -2.5400\n",
            "1404  0.3408\n",
            "\n",
            "[1405 rows x 1 columns]\n",
            "----------------\n",
            "      yb\n",
            "0      0\n",
            "1      0\n",
            "2      0\n",
            "3      1\n",
            "4      0\n",
            "...   ..\n",
            "1400   1\n",
            "1401   0\n",
            "1402   0\n",
            "1403   0\n",
            "1404   1\n",
            "\n",
            "[1405 rows x 1 columns]\n"
          ],
          "name": "stdout"
        }
      ]
    },
    {
      "cell_type": "code",
      "metadata": {
        "colab": {
          "base_uri": "https://localhost:8080/"
        },
        "id": "hq-QdjpnxZwi",
        "outputId": "5d55abfb-1064-4a76-f6b3-feba40992cf9"
      },
      "source": [
        "a = len(y.index)\n",
        "b = len(yb.index)\n",
        "c = len(dataset.index)\n",
        "d = len(rolling_prior_day_5.index)\n",
        "a1 = len(y_df.index)\n",
        "b1 = len(yb_df.index)\n",
        "\n",
        "print(a)\n",
        "print(b)\n",
        "print(c)\n",
        "print(d)\n",
        "print(a1)\n",
        "print(b1)"
      ],
      "execution_count": 1264,
      "outputs": [
        {
          "output_type": "stream",
          "text": [
            "1405\n",
            "1405\n",
            "1405\n",
            "1405\n",
            "1405\n",
            "1405\n"
          ],
          "name": "stdout"
        }
      ]
    },
    {
      "cell_type": "markdown",
      "metadata": {
        "id": "bb-FeVxGgtux"
      },
      "source": [
        "#Create final dataset and review\n",
        "\n",
        "A concat procedure is necessary to create the final dataset.\n",
        "\n",
        "There should be a total of 37 columns"
      ]
    },
    {
      "cell_type": "code",
      "metadata": {
        "colab": {
          "base_uri": "https://localhost:8080/",
          "height": 134
        },
        "id": "QqUDH3p9EA_v",
        "outputId": "c590a99a-dc07-4713-9eb3-36940712dfaf"
      },
      "source": [
        "dataset_final = pd.concat([dataset,\n",
        "           rolling_prior_day_5, \n",
        "           rolling_prior_day_10, \n",
        "           rolling_prior_day_15, \n",
        "           rolling_prior_day_20, \n",
        "           rolling_prior_day_25, \n",
        "           rolling_prior_day_30,\n",
        "           y_df,\n",
        "           yb_df],\n",
        "           axis = 1)\n",
        "\n",
        "dataset_final.head(1)"
      ],
      "execution_count": 1265,
      "outputs": [
        {
          "output_type": "execute_result",
          "data": {
            "text/html": [
              "<div>\n",
              "<style scoped>\n",
              "    .dataframe tbody tr th:only-of-type {\n",
              "        vertical-align: middle;\n",
              "    }\n",
              "\n",
              "    .dataframe tbody tr th {\n",
              "        vertical-align: top;\n",
              "    }\n",
              "\n",
              "    .dataframe thead th {\n",
              "        text-align: right;\n",
              "    }\n",
              "</style>\n",
              "<table border=\"1\" class=\"dataframe\">\n",
              "  <thead>\n",
              "    <tr style=\"text-align: right;\">\n",
              "      <th></th>\n",
              "      <th>Close</th>\n",
              "      <th>Date</th>\n",
              "      <th>DOW</th>\n",
              "      <th>DOY</th>\n",
              "      <th>Week</th>\n",
              "      <th>Month</th>\n",
              "      <th>Quarter</th>\n",
              "      <th>gain_loss-0</th>\n",
              "      <th>gain_loss-1</th>\n",
              "      <th>gain_loss-2</th>\n",
              "      <th>gain_loss-3</th>\n",
              "      <th>gain_loss-4</th>\n",
              "      <th>gain_loss-0b</th>\n",
              "      <th>gain_loss-1b</th>\n",
              "      <th>gain_loss-2b</th>\n",
              "      <th>gain_loss-3b</th>\n",
              "      <th>gain_loss-4b</th>\n",
              "      <th>gain_loss-total_b</th>\n",
              "      <th>prior_day_0</th>\n",
              "      <th>prior_day-1</th>\n",
              "      <th>prior_day-2</th>\n",
              "      <th>prior_day-3</th>\n",
              "      <th>prior_day-4</th>\n",
              "      <th>prior_day_0b</th>\n",
              "      <th>prior_day-1b</th>\n",
              "      <th>prior_day-2b</th>\n",
              "      <th>prior_day-3b</th>\n",
              "      <th>prior_day-4b</th>\n",
              "      <th>prior_day-total_b</th>\n",
              "      <th>rolling_close_3</th>\n",
              "      <th>rolling_close_6</th>\n",
              "      <th>rolling_close_9</th>\n",
              "      <th>rolling_close_12</th>\n",
              "      <th>rolling_close_15</th>\n",
              "      <th>rolling_close_18</th>\n",
              "      <th>rolling_close_21</th>\n",
              "      <th>rolling_close_3b</th>\n",
              "      <th>rolling_close_6b</th>\n",
              "      <th>rolling_close_9b</th>\n",
              "      <th>rolling_close_12b</th>\n",
              "      <th>rolling_close_15b</th>\n",
              "      <th>rolling_close_18b</th>\n",
              "      <th>rolling_close_21b</th>\n",
              "      <th>rolling_close_total_b</th>\n",
              "      <th>rolling_prior_day_5</th>\n",
              "      <th>rolling_prior_day_10</th>\n",
              "      <th>rolling_prior_day_15</th>\n",
              "      <th>rolling_prior_day_20</th>\n",
              "      <th>rolling_prior_day_25</th>\n",
              "      <th>rolling_prior_day_30</th>\n",
              "      <th>y</th>\n",
              "      <th>yb</th>\n",
              "    </tr>\n",
              "  </thead>\n",
              "  <tbody>\n",
              "    <tr>\n",
              "      <th>0</th>\n",
              "      <td>437.59</td>\n",
              "      <td>2021-08-02</td>\n",
              "      <td>0</td>\n",
              "      <td>214</td>\n",
              "      <td>31</td>\n",
              "      <td>8</td>\n",
              "      <td>3</td>\n",
              "      <td>-0.92</td>\n",
              "      <td>-3.06</td>\n",
              "      <td>-1.24</td>\n",
              "      <td>-1.42</td>\n",
              "      <td>-3.43</td>\n",
              "      <td>0</td>\n",
              "      <td>0</td>\n",
              "      <td>0</td>\n",
              "      <td>0</td>\n",
              "      <td>0</td>\n",
              "      <td>0</td>\n",
              "      <td>-0.92</td>\n",
              "      <td>-2.14</td>\n",
              "      <td>1.82</td>\n",
              "      <td>-0.18</td>\n",
              "      <td>-2.01</td>\n",
              "      <td>0</td>\n",
              "      <td>0</td>\n",
              "      <td>1</td>\n",
              "      <td>0</td>\n",
              "      <td>0</td>\n",
              "      <td>1</td>\n",
              "      <td>-1.326667</td>\n",
              "      <td>-1.678333</td>\n",
              "      <td>-0.805556</td>\n",
              "      <td>1.5125</td>\n",
              "      <td>1.622667</td>\n",
              "      <td>1.866111</td>\n",
              "      <td>2.154762</td>\n",
              "      <td>0</td>\n",
              "      <td>0</td>\n",
              "      <td>0</td>\n",
              "      <td>1</td>\n",
              "      <td>1</td>\n",
              "      <td>1</td>\n",
              "      <td>1</td>\n",
              "      <td>4</td>\n",
              "      <td>-0.686</td>\n",
              "      <td>1.262</td>\n",
              "      <td>0.034</td>\n",
              "      <td>0.1935</td>\n",
              "      <td>0.4392</td>\n",
              "      <td>0.755667</td>\n",
              "      <td>0.0</td>\n",
              "      <td>0</td>\n",
              "    </tr>\n",
              "  </tbody>\n",
              "</table>\n",
              "</div>"
            ],
            "text/plain": [
              "    Close       Date  DOW  ...  rolling_prior_day_30    y  yb\n",
              "0  437.59 2021-08-02    0  ...              0.755667  0.0   0\n",
              "\n",
              "[1 rows x 52 columns]"
            ]
          },
          "metadata": {
            "tags": []
          },
          "execution_count": 1265
        }
      ]
    },
    {
      "cell_type": "markdown",
      "metadata": {
        "id": "R_VdPhY45MJd"
      },
      "source": [
        "#Evaluate dataset for NaN\n",
        "\n",
        "Throught the processes above there should have been some NaN values created at the tail"
      ]
    },
    {
      "cell_type": "code",
      "metadata": {
        "colab": {
          "base_uri": "https://localhost:8080/"
        },
        "id": "d6avhJTi5Wop",
        "outputId": "0ebffdce-8d8c-4bf0-dbed-77fe5f647db0"
      },
      "source": [
        "dataset_final.dropna(inplace = True)\n",
        "\n",
        "a = len(dataset.index)\n",
        "e = len(dataset_final.index)\n",
        "\n",
        "print(\"rows dropped = {}\".format(a-e))"
      ],
      "execution_count": 1266,
      "outputs": [
        {
          "output_type": "stream",
          "text": [
            "rows dropped = 30\n"
          ],
          "name": "stdout"
        }
      ]
    },
    {
      "cell_type": "markdown",
      "metadata": {
        "id": "RiHaMfDUTEMj"
      },
      "source": [
        "#Create a correlation matrix\n",
        "\n",
        "Evaluate the effectiveness of each attribute in relation to y and yb"
      ]
    },
    {
      "cell_type": "code",
      "metadata": {
        "colab": {
          "base_uri": "https://localhost:8080/"
        },
        "id": "63qL6jw_TOvu",
        "outputId": "12c5aea5-4fa5-4532-9343-9afdc9290fb8"
      },
      "source": [
        "corr_mx = dataset_final.corr()\n",
        "\n",
        "print(corr_mx)"
      ],
      "execution_count": 1267,
      "outputs": [
        {
          "output_type": "stream",
          "text": [
            "                          Close       DOW  ...         y        yb\n",
            "Close                  1.000000 -0.004349  ...  0.000557 -0.001322\n",
            "DOW                   -0.004349  1.000000  ... -0.024894 -0.016815\n",
            "DOY                   -0.023267 -0.012747  ... -0.003658 -0.009916\n",
            "Week                  -0.021856 -0.017160  ... -0.006272 -0.016253\n",
            "Month                 -0.022482 -0.012779  ... -0.002331 -0.007010\n",
            "Quarter               -0.013525 -0.015037  ...  0.009717 -0.000832\n",
            "gain_loss-0            0.056267 -0.017218  ... -0.185590 -0.074218\n",
            "gain_loss-1            0.079577 -0.023505  ... -0.043989 -0.028066\n",
            "gain_loss-2            0.097206 -0.008733  ... -0.035994 -0.037113\n",
            "gain_loss-3            0.112125  0.004059  ... -0.065036 -0.034662\n",
            "gain_loss-4            0.125585 -0.005246  ... -0.031265 -0.042605\n",
            "gain_loss-0b           0.034072 -0.012656  ... -0.026099 -0.058713\n",
            "gain_loss-1b           0.045754 -0.031426  ... -0.003433 -0.037547\n",
            "gain_loss-2b           0.042867 -0.018463  ...  0.005357 -0.027542\n",
            "gain_loss-3b           0.091224 -0.036493  ...  0.008058 -0.002683\n",
            "gain_loss-4b           0.068476 -0.011518  ... -0.021396 -0.055457\n",
            "gain_loss-total_b      0.073448 -0.028810  ... -0.009909 -0.047679\n",
            "prior_day_0            0.056267 -0.017218  ... -0.185590 -0.074218\n",
            "prior_day-1            0.045338 -0.012794  ...  0.129385  0.038369\n",
            "prior_day-2            0.052757  0.016135  ... -0.000999 -0.023099\n",
            "prior_day-3            0.052649  0.021355  ... -0.062902 -0.005063\n",
            "prior_day-4            0.049422 -0.018202  ...  0.056212 -0.023001\n",
            "prior_day_0b           0.034072 -0.012656  ... -0.026099 -0.058713\n",
            "prior_day-1b           0.033761  0.004069  ...  0.039462  0.007555\n",
            "prior_day-2b           0.037170  0.027083  ... -0.010062 -0.050231\n",
            "prior_day-3b           0.036205 -0.013731  ... -0.012522  0.025277\n",
            "prior_day-4b           0.038996  0.011398  ...  0.009923 -0.030843\n",
            "prior_day-total_b      0.085801  0.007692  ...  0.000332 -0.050926\n",
            "rolling_close_3        0.076489 -0.022883  ... -0.117125 -0.053319\n",
            "rolling_close_6        0.113999 -0.009451  ... -0.070952 -0.047024\n",
            "rolling_close_9        0.142840 -0.006317  ... -0.066365 -0.045027\n",
            "rolling_close_12       0.165948 -0.001712  ... -0.045100 -0.035543\n",
            "rolling_close_15       0.185503 -0.001519  ... -0.037484 -0.033723\n",
            "rolling_close_18       0.203826 -0.003008  ... -0.035406 -0.034032\n",
            "rolling_close_21       0.220677 -0.002788  ... -0.033354 -0.032409\n",
            "rolling_close_3b       0.061267 -0.028063  ... -0.032526 -0.041069\n",
            "rolling_close_6b       0.073878 -0.021312  ... -0.020433 -0.031474\n",
            "rolling_close_9b       0.084544 -0.009432  ...  0.004719 -0.021543\n",
            "rolling_close_12b      0.087236 -0.014683  ...  0.004110 -0.051586\n",
            "rolling_close_15b      0.126951  0.015854  ... -0.013123 -0.054383\n",
            "rolling_close_18b      0.155965  0.004148  ... -0.006874 -0.017705\n",
            "rolling_close_21b      0.151441  0.004959  ...  0.000803 -0.014121\n",
            "rolling_close_total_b  0.126647 -0.008912  ... -0.011240 -0.040216\n",
            "rolling_prior_day_5    0.125585 -0.005246  ... -0.031265 -0.042605\n",
            "rolling_prior_day_10   0.178721 -0.000315  ... -0.014465 -0.027186\n",
            "rolling_prior_day_15   0.217983 -0.007595  ... -0.036651 -0.033836\n",
            "rolling_prior_day_20   0.252096 -0.002700  ... -0.030797 -0.020856\n",
            "rolling_prior_day_25   0.281602  0.003236  ... -0.042653 -0.013338\n",
            "rolling_prior_day_30   0.308330  0.001826  ... -0.037251 -0.008777\n",
            "y                      0.000557 -0.024894  ...  1.000000  0.604173\n",
            "yb                    -0.001322 -0.016815  ...  0.604173  1.000000\n",
            "\n",
            "[51 rows x 51 columns]\n"
          ],
          "name": "stdout"
        }
      ]
    },
    {
      "cell_type": "code",
      "metadata": {
        "id": "m1otAGWgW_KD"
      },
      "source": [
        "# Export to view expected results...\n",
        "\n",
        "corr_mx.to_csv('/content/drive/MyDrive/Colab Notebooks/correlation_matrix.csv')"
      ],
      "execution_count": 1268,
      "outputs": []
    },
    {
      "cell_type": "markdown",
      "metadata": {
        "id": "rifSXtgbhYYt"
      },
      "source": [
        "#Create dataset splitting variable (Train and Pred)\n",
        "\n",
        "Date variables based on today date are required to prevent \"hardcoding\" dates into the model\n",
        "\n",
        "The date_var variable will represent the most current date in the dataset. This allows the solution to be run for any timeframe.\n",
        "\n",
        "The following code can replace the current date_var logic in the case the current method causes issues. Note, this method requires adjustment when back testing \n",
        "\n",
        "date_var = pd.to_datetime(date.today()) \n",
        "\n",
        "use train/pred_minus_days to tune the model for longer or shorter periods of time. Allow for a 30 day overlap where pred will have 30 days"
      ]
    },
    {
      "cell_type": "code",
      "metadata": {
        "colab": {
          "base_uri": "https://localhost:8080/"
        },
        "id": "iF1y7B2r7cVv",
        "outputId": "5b3ed86e-2808-4178-eef5-6fb02613d142"
      },
      "source": [
        "train_minus_days = 90\n",
        "pred_minus_days = 90\n",
        "\n",
        "date_var = dataset_final['Date'].max()\n",
        "train_begin_date = dataset_final['Date'].min()\n",
        "train_end_date = (date_var - pd.to_timedelta(train_minus_days, unit='d'))\n",
        "pred_begin_date = (date_var - pd.to_timedelta(pred_minus_days, unit='d'))\n",
        "pred_end_date = date_var\n",
        "\n",
        "train_begin_date = train_begin_date.to_pydatetime()\n",
        "train_end_date = train_end_date.to_pydatetime()\n",
        "pred_begin_date = pred_begin_date.to_pydatetime()\n",
        "pred_end_date = pred_end_date.to_pydatetime()\n",
        "\n",
        "#train_begin_date = pd.DataFrame([train_begin_date], columns=['train_begin_date'])\n",
        "#train_end_date = pd.DataFrame([train_end_date], columns=['train_end_date'])\n",
        "#pred_begin_date = pd.DataFrame([pred_begin_date], columns=['pred_begin_date'])\n",
        "#pred_end_date = pd.DataFrame([pred_end_date], columns=['pred_end_date'])\n",
        "\n",
        "print(train_begin_date)\n",
        "print(train_end_date)\n",
        "print(pred_begin_date)\n",
        "print(pred_end_date)"
      ],
      "execution_count": 1269,
      "outputs": [
        {
          "output_type": "stream",
          "text": [
            "2016-02-17 00:00:00\n",
            "2021-05-04 00:00:00\n",
            "2021-05-04 00:00:00\n",
            "2021-08-02 00:00:00\n"
          ],
          "name": "stdout"
        }
      ]
    },
    {
      "cell_type": "markdown",
      "metadata": {
        "id": "IzgziXsl-SBz"
      },
      "source": [
        "#Split between training and predict data sets\n",
        "\n",
        "The top last 90 periods (rows) will generate the pred data set.\n",
        "\n",
        "All but the top 60 periods (rows) will generate the training data set.\n",
        "\n",
        "The 30 day overlap can provide a measure of the model's degredation over time\n",
        "\n",
        "!Note - The market is closed on weekends and holidays. The count of days in each set will NOT equal the amount of days between begin and end dates."
      ]
    },
    {
      "cell_type": "code",
      "metadata": {
        "colab": {
          "base_uri": "https://localhost:8080/"
        },
        "id": "nOHf760CShq3",
        "outputId": "61a70831-267c-4f75-c613-dc5c813c0632"
      },
      "source": [
        "#split text and train datasets\n",
        "predset = dataset_final[(dataset_final['Date'] >= pred_begin_date) & \n",
        "                        (dataset_final['Date'] <= pred_end_date)]\n",
        "trainset = dataset_final[(dataset_final['Date'] >= train_begin_date) & \n",
        "                         (dataset_final['Date'] <= train_end_date)]\n",
        "type(predset)"
      ],
      "execution_count": 1270,
      "outputs": [
        {
          "output_type": "execute_result",
          "data": {
            "text/plain": [
              "pandas.core.frame.DataFrame"
            ]
          },
          "metadata": {
            "tags": []
          },
          "execution_count": 1270
        }
      ]
    },
    {
      "cell_type": "code",
      "metadata": {
        "colab": {
          "base_uri": "https://localhost:8080/"
        },
        "id": "cTZ65w52bsBZ",
        "outputId": "fecbe766-00a1-4232-9f2f-003e38bce56a"
      },
      "source": [
        "list(dataset.columns)"
      ],
      "execution_count": 1271,
      "outputs": [
        {
          "output_type": "execute_result",
          "data": {
            "text/plain": [
              "['Close',\n",
              " 'Date',\n",
              " 'DOW',\n",
              " 'DOY',\n",
              " 'Week',\n",
              " 'Month',\n",
              " 'Quarter',\n",
              " 'gain_loss-0',\n",
              " 'gain_loss-1',\n",
              " 'gain_loss-2',\n",
              " 'gain_loss-3',\n",
              " 'gain_loss-4',\n",
              " 'gain_loss-0b',\n",
              " 'gain_loss-1b',\n",
              " 'gain_loss-2b',\n",
              " 'gain_loss-3b',\n",
              " 'gain_loss-4b',\n",
              " 'gain_loss-total_b',\n",
              " 'prior_day_0',\n",
              " 'prior_day-1',\n",
              " 'prior_day-2',\n",
              " 'prior_day-3',\n",
              " 'prior_day-4',\n",
              " 'prior_day_0b',\n",
              " 'prior_day-1b',\n",
              " 'prior_day-2b',\n",
              " 'prior_day-3b',\n",
              " 'prior_day-4b',\n",
              " 'prior_day-total_b',\n",
              " 'rolling_close_3',\n",
              " 'rolling_close_6',\n",
              " 'rolling_close_9',\n",
              " 'rolling_close_12',\n",
              " 'rolling_close_15',\n",
              " 'rolling_close_18',\n",
              " 'rolling_close_21',\n",
              " 'rolling_close_3b',\n",
              " 'rolling_close_6b',\n",
              " 'rolling_close_9b',\n",
              " 'rolling_close_12b',\n",
              " 'rolling_close_15b',\n",
              " 'rolling_close_18b',\n",
              " 'rolling_close_21b',\n",
              " 'rolling_close_total_b']"
            ]
          },
          "metadata": {
            "tags": []
          },
          "execution_count": 1271
        }
      ]
    },
    {
      "cell_type": "code",
      "metadata": {
        "colab": {
          "base_uri": "https://localhost:8080/"
        },
        "id": "O6ZQ6LFR_Pjq",
        "outputId": "3af1a21f-e6c0-4648-9e53-41194ae8669a"
      },
      "source": [
        "new = XX[['y', 'yb']].copy().values\n",
        "print(X)"
      ],
      "execution_count": 1272,
      "outputs": [
        {
          "output_type": "stream",
          "text": [
            "[[ 2.          0.9        -0.12       ... -0.7275     -1.78\n",
            "   2.66      ]\n",
            " [ 2.         -2.76       -0.09       ...  1.71583333  0.68\n",
            "  -0.12      ]\n",
            " [ 2.          2.66        0.87       ...  1.01       -0.31\n",
            "  -0.09      ]\n",
            " ...\n",
            " [ 2.         -0.67        0.8992     ... -0.5774     -1.8308\n",
            "  -0.5       ]\n",
            " [ 2.          1.4         1.8808     ...  1.44666667  1.1292\n",
            "   0.8992    ]\n",
            " [ 2.         -0.5         0.12       ...  2.35916667  3.68\n",
            "   1.8808    ]]\n"
          ],
          "name": "stdout"
        }
      ]
    },
    {
      "cell_type": "markdown",
      "metadata": {
        "id": "50h5EJr9_DZW"
      },
      "source": [
        "#Convert dataset into X and y and refine column membership\n",
        "\n",
        "This process separates the dependant and independant variables\n",
        "\n",
        "X should not contain the y or yb attributes\n",
        "\n",
        "for X, \"Date\" should be removed since it is a time-series value; date attributes will represent time\n",
        "\n",
        "for X, \"Close\" should be removed due to its relationship to the indepenant variable\n",
        "\n",
        "Two models will come out of this model, one for continuous variable y and binary value yb"
      ]
    },
    {
      "cell_type": "code",
      "metadata": {
        "colab": {
          "base_uri": "https://localhost:8080/"
        },
        "id": "Z0cZJQK3ILwd",
        "outputId": "77105b65-ba31-43ed-d881-97e9711487b5"
      },
      "source": [
        "XX = trainset\n",
        "XX.drop(XX.tail(31).index, inplace = True)\n",
        "\n",
        "X = XX[['Quarter', 'prior_day-1', 'prior_day-4', 'prior_day-total_b', 'gain_loss-0', 'rolling_close_3', 'rolling_close_6', 'rolling_close_9', 'rolling_close_12', 'gain_loss-3', 'prior_day-3']].copy().values\n",
        "Xb = XX[['Quarter', 'gain_loss-2b', 'gain_loss-3b', 'prior_day-1b', 'prior_day-2b', 'prior_day-3b', 'rolling_close_9b', 'rolling_close_12b', 'rolling_close_21b', 'prior_day_0b', 'gain_loss-0b', 'gain_loss-4b', 'rolling_close_15b', 'rolling_close_12b']].copy().values\n",
        "\n",
        "\n",
        "#This set was working good\n",
        "#X = XX[['Quarter', 'prior_day-1', 'prior_day-4', 'prior_day-total_b', ]].copy().values\n",
        "#Xb = XX[['Quarter', 'gain_loss-2b', 'gain_loss-3b', 'prior_day-1b', 'prior_day-2b', 'prior_day-3b', 'rolling_close_9b', 'rolling_close_12b', 'rolling_close_21b']].copy().values\n",
        "\n",
        "#Use the folloing rows to generate the datasets using drop\n",
        "#X = XX.drop(['y', 'yb', 'Close', 'Date','Week', 'DOW', 'Month', 'Quarter', 'gain_loss-0b', 'gain_loss-1b', 'gain_loss-2b', 'gain_loss-3b', 'gain_loss-4b', 'prior_day_0b', 'prior_day-1b', 'prior_day-2b', 'prior_day-3b', 'prior_day-4b', 'rolling_close_3b', 'rolling_close_6b', 'rolling_close_9b', 'rolling_close_12b', 'rolling_close_15b', 'rolling_close_18b', 'rolling_close_21b'], axis = 1)\n",
        "#Xb = XX.drop(['y', 'yb', 'Close', 'Date','Week', 'gain_loss-0', 'gain_loss-1', 'gain_loss-2', 'gain_loss-3', 'gain_loss-4', 'gain_loss-total_b', 'prior_day_0', 'prior_day-1', 'prior_day-2', 'prior_day-3', 'prior_day-4', 'prior_day-total_b', 'rolling_close_3', 'rolling_close_6', 'rolling_close_9', 'rolling_close_12', 'rolling_close_15', 'rolling_close_18', 'rolling_close_21', 'rolling_close_total_b'], axis = 1)\n",
        "\n",
        "X_all = XX.drop(['y', 'yb', 'Close', 'Date','Week'], axis = 1)\n",
        "y = trainset['y'].values\n",
        "yb = trainset['yb'].values\n",
        "print(X)\n",
        "print(\"-------------------------\")\n",
        "print(y)\n",
        "print(\"-------------------------\")\n",
        "print(yb)"
      ],
      "execution_count": 1273,
      "outputs": [
        {
          "output_type": "stream",
          "text": [
            "[[ 2.          0.9        -0.12       ... -0.7275     -1.78\n",
            "   2.66      ]\n",
            " [ 2.         -2.76       -0.09       ...  1.71583333  0.68\n",
            "  -0.12      ]\n",
            " [ 2.          2.66        0.87       ...  1.01       -0.31\n",
            "  -0.09      ]\n",
            " ...\n",
            " [ 2.         -0.67        0.8992     ... -0.5774     -1.8308\n",
            "  -0.5       ]\n",
            " [ 2.          1.4         1.8808     ...  1.44666667  1.1292\n",
            "   0.8992    ]\n",
            " [ 2.         -0.5         0.12       ...  2.35916667  3.68\n",
            "   1.8808    ]]\n",
            "-------------------------\n",
            "[ 0.13   -2.58    0.9    ...  2.2308 -2.0608 -0.67  ]\n",
            "-------------------------\n",
            "[1 0 1 ... 1 0 0]\n"
          ],
          "name": "stdout"
        },
        {
          "output_type": "stream",
          "text": [
            "/usr/local/lib/python3.7/dist-packages/pandas/core/frame.py:4174: SettingWithCopyWarning: \n",
            "A value is trying to be set on a copy of a slice from a DataFrame\n",
            "\n",
            "See the caveats in the documentation: https://pandas.pydata.org/pandas-docs/stable/user_guide/indexing.html#returning-a-view-versus-a-copy\n",
            "  errors=errors,\n"
          ],
          "name": "stderr"
        }
      ]
    },
    {
      "cell_type": "code",
      "metadata": {
        "colab": {
          "base_uri": "https://localhost:8080/"
        },
        "id": "jTo9CiOAAbnm",
        "outputId": "ebbde715-ec71-4cd0-b744-d3a4474d9ff0"
      },
      "source": [
        "type(X)"
      ],
      "execution_count": 1274,
      "outputs": [
        {
          "output_type": "execute_result",
          "data": {
            "text/plain": [
              "numpy.ndarray"
            ]
          },
          "metadata": {
            "tags": []
          },
          "execution_count": 1274
        }
      ]
    },
    {
      "cell_type": "code",
      "metadata": {
        "colab": {
          "base_uri": "https://localhost:8080/"
        },
        "id": "wQNhBiAEN_fx",
        "outputId": "13d0ab63-eb93-4fa1-c4cc-6405900be5f9"
      },
      "source": [
        "#Validation of row counts\n",
        "\n",
        "f = len(X)\n",
        "g = len(y)\n",
        "h = len(yb)\n",
        "\n",
        "print(f, g, h)"
      ],
      "execution_count": 1275,
      "outputs": [
        {
          "output_type": "stream",
          "text": [
            "1282 1282 1282\n"
          ],
          "name": "stdout"
        }
      ]
    },
    {
      "cell_type": "markdown",
      "metadata": {
        "id": "BgGLmBg2CCjH"
      },
      "source": [
        "#Train the models\n",
        "\n",
        "The model can be extended to use any regression or classificaiton model.\n",
        "\n",
        "Current model inventory:\n",
        "\n",
        "1) Random Forest"
      ]
    },
    {
      "cell_type": "code",
      "metadata": {
        "colab": {
          "base_uri": "https://localhost:8080/"
        },
        "id": "w4xd8XMCH3M2",
        "outputId": "daa773c5-b0dc-4c2f-ed12-86dfbf4206bc"
      },
      "source": [
        "from sklearn.ensemble import RandomForestRegressor\n",
        "\n",
        "regressor = RandomForestRegressor(n_estimators = 100, random_state = 0)\n",
        "\n",
        "regressor.fit(X, y)\n",
        "\n",
        "regressor_b = RandomForestRegressor(n_estimators = 100, random_state = 0)\n",
        "\n",
        "regressor_b.fit(Xb, yb)\n",
        "\n",
        "regressor_all = RandomForestRegressor(n_estimators = 100, random_state = 0)\n",
        "\n",
        "regressor_all.fit(X_all, y)\n",
        "\n",
        "regressor_all_b = RandomForestRegressor(n_estimators = 100, random_state = 0)\n",
        "\n",
        "regressor_all_b.fit(X_all, yb)\n"
      ],
      "execution_count": 1276,
      "outputs": [
        {
          "output_type": "execute_result",
          "data": {
            "text/plain": [
              "RandomForestRegressor(bootstrap=True, ccp_alpha=0.0, criterion='mse',\n",
              "                      max_depth=None, max_features='auto', max_leaf_nodes=None,\n",
              "                      max_samples=None, min_impurity_decrease=0.0,\n",
              "                      min_impurity_split=None, min_samples_leaf=1,\n",
              "                      min_samples_split=2, min_weight_fraction_leaf=0.0,\n",
              "                      n_estimators=100, n_jobs=None, oob_score=False,\n",
              "                      random_state=0, verbose=0, warm_start=False)"
            ]
          },
          "metadata": {
            "tags": []
          },
          "execution_count": 1276
        }
      ]
    },
    {
      "cell_type": "markdown",
      "metadata": {
        "id": "lMP2XIlOCUTS"
      },
      "source": [
        "#Create predict dataset\n",
        "\n",
        "The predict dataset should match the process used to generate the training dataset"
      ]
    },
    {
      "cell_type": "code",
      "metadata": {
        "colab": {
          "base_uri": "https://localhost:8080/"
        },
        "id": "G0BNR3t8Um8v",
        "outputId": "e92b613a-1862-456e-8c7b-ae9421711480"
      },
      "source": [
        "#Prepare predict set\n",
        "Xpred = predset\n",
        "\n",
        "X_pred = Xpred[['Quarter', 'prior_day-1', 'prior_day-4', 'prior_day-total_b', 'gain_loss-0', 'rolling_close_3', 'rolling_close_6', 'rolling_close_9', 'rolling_close_12', 'gain_loss-3', 'prior_day-3']].copy().values\n",
        "Xb_pred = Xpred[['Quarter', 'gain_loss-2b', 'gain_loss-3b', 'prior_day-1b', 'prior_day-2b', 'prior_day-3b', 'rolling_close_9b', 'rolling_close_12b', 'rolling_close_21b', 'prior_day_0b', 'gain_loss-0b', 'gain_loss-4b', 'rolling_close_15b', 'rolling_close_12b']].copy().values\n",
        "\n",
        "\n",
        "#This model was working well\n",
        "#X_pred = Xpred[['Quarter', 'prior_day-1', 'prior_day-4', 'prior_day-total_b', ]].copy().values\n",
        "#Xb_pred = Xpred[['Quarter', 'gain_loss-2b', 'gain_loss-3b', 'prior_day-1b', 'prior_day-2b', 'prior_day-3b', 'rolling_close_9b', 'rolling_close_12b', 'rolling_close_21b']].copy().values\n",
        "\n",
        "#X_pred = Xpred[['Close', 'Quarter', 'gain_loss-2b', 'gain_loss-3b', 'prior_day-1', 'prior_day-4', 'prior_day-1b', 'prior_day-2b', 'prior_day-3b', 'prior_day-total_b', 'rolling_close_9b', 'rolling_close_12b', 'rolling_close_21b']].copy().values\n",
        "#Xb_pred = Xpred[['Close', 'Quarter', 'gain_loss-2b', 'gain_loss-3b', 'prior_day-1', 'prior_day-4', 'prior_day-1b', 'prior_day-2b', 'prior_day-3b', 'prior_day-total_b', 'rolling_close_9b', 'rolling_close_12b', 'rolling_close_21b']].copy().values\n",
        "\n",
        "#use the folloing rows to generate datasets using drop\n",
        "#X_pred = Xpred.drop(['y', 'yb', 'Close', 'Date','Week', 'DOW', 'Month', 'Quarter', 'gain_loss-0b', 'gain_loss-1b', 'gain_loss-2b', 'gain_loss-3b', 'gain_loss-4b', 'prior_day_0b', 'prior_day-1b', 'prior_day-2b', 'prior_day-3b', 'prior_day-4b', 'rolling_close_3b', 'rolling_close_6b', 'rolling_close_9b', 'rolling_close_12b', 'rolling_close_15b', 'rolling_close_18b', 'rolling_close_21b'], axis = 1)\n",
        "#Xb_pred = Xpred.drop(['y', 'yb', 'Close', 'Date','Week', 'gain_loss-0', 'gain_loss-1', 'gain_loss-2', 'gain_loss-3', 'gain_loss-4', 'gain_loss-total_b', 'prior_day_0', 'prior_day-1', 'prior_day-2', 'prior_day-3', 'prior_day-4', 'prior_day-total_b', 'rolling_close_3', 'rolling_close_6', 'rolling_close_9', 'rolling_close_12', 'rolling_close_15', 'rolling_close_18', 'rolling_close_21', 'rolling_close_total_b'], axis = 1)\n",
        "\n",
        "X_all_pred = Xpred.drop(['y', 'yb', 'Close', 'Date','Week'], axis = 1)\n",
        "y_actual = predset['y'].values\n",
        "yb_actual = predset['yb'].values\n",
        "print(Xpred)\n",
        "print(\"-------------------------\")\n",
        "print(y_actual)\n",
        "print(\"-------------------------\")\n",
        "print(yb_actual)"
      ],
      "execution_count": 1277,
      "outputs": [
        {
          "output_type": "stream",
          "text": [
            "     Close       Date  DOW  ...  rolling_prior_day_30     y  yb\n",
            "0   437.59 2021-08-02    0  ...              0.755667  0.00   0\n",
            "1   438.51 2021-07-30    4  ...              0.551333 -0.92   0\n",
            "2   440.65 2021-07-29    3  ...              0.618000 -2.14   0\n",
            "3   438.83 2021-07-28    2  ...              0.478333  1.82   1\n",
            "4   439.01 2021-07-27    1  ...              0.458333 -0.18   0\n",
            "..     ...        ...  ...  ...                   ...   ...  ..\n",
            "58  417.94 2021-05-10    0  ...              0.732000 -3.73   0\n",
            "59  422.12 2021-05-07    4  ...              1.080667 -4.18   0\n",
            "60  419.07 2021-05-06    3  ...              1.051667  3.05   1\n",
            "61  415.75 2021-05-05    2  ...              0.875000  3.32   1\n",
            "62  415.62 2021-05-04    1  ...              0.767667  0.13   1\n",
            "\n",
            "[63 rows x 52 columns]\n",
            "-------------------------\n",
            "[ 0.   -0.92 -2.14  1.82 -0.18 -2.01  1.08  4.48  0.91  3.49  6.09 -6.37\n",
            " -3.41 -1.49  0.65 -1.49  1.56  4.6  -3.54  1.53 -0.79  3.29  2.37  0.36\n",
            "  0.23  0.86  1.51  2.5  -0.51  2.25  5.94 -7.05 -0.14 -2.37 -0.78  0.95\n",
            "  0.7   1.96 -0.63  0.09 -0.41  3.83 -1.56  0.66 -0.37  0.75  0.22  0.83\n",
            " -0.93  4.23 -0.34  4.42 -1.08 -3.58 -1.06  6.3   4.87 -8.8  -3.73 -4.18\n",
            "  3.05  3.32  0.13]\n",
            "-------------------------\n",
            "[0 0 0 1 0 0 1 1 1 1 1 0 0 0 1 0 1 1 0 1 0 1 1 1 1 1 1 1 0 1 1 0 0 0 0 1 1\n",
            " 1 0 1 0 1 0 1 0 1 1 1 0 1 0 1 0 0 0 1 1 0 0 0 1 1 1]\n"
          ],
          "name": "stdout"
        }
      ]
    },
    {
      "cell_type": "code",
      "metadata": {
        "id": "j2GHt6_yClWW",
        "colab": {
          "base_uri": "https://localhost:8080/"
        },
        "outputId": "81a964e1-6120-4704-eb8f-ba5eef2a5679"
      },
      "source": [
        "i = len(Xpred)\n",
        "j = len(y_actual)\n",
        "k = len(yb_actual)\n",
        "\n",
        "print(i, j, k)"
      ],
      "execution_count": 1278,
      "outputs": [
        {
          "output_type": "stream",
          "text": [
            "63 63 63\n"
          ],
          "name": "stdout"
        }
      ]
    },
    {
      "cell_type": "markdown",
      "metadata": {
        "id": "agrPLswhEQYf"
      },
      "source": [
        "#Generate predictions\n",
        "\n",
        "Predictions are made for both continuous and binary"
      ]
    },
    {
      "cell_type": "code",
      "metadata": {
        "id": "sJYXf1mKU9t2",
        "colab": {
          "base_uri": "https://localhost:8080/"
        },
        "outputId": "2b2081c8-421b-4168-c4f9-d756dbf153d7"
      },
      "source": [
        "y_pred = regressor.predict(X_pred)\n",
        "\n",
        "yb_pred = regressor_b.predict(Xb_pred)\n",
        "\n",
        "y_all_pred = regressor_all.predict(X_all_pred)\n",
        "\n",
        "y_all_pred_b = regressor_all_b.predict(X_all_pred)\n",
        "\n",
        "np_array = np.concatenate((y_pred.reshape(len(y_pred),1), \n",
        "                           yb_pred.reshape(len(yb_pred),1),\n",
        "                           y_all_pred.reshape(len(y_all_pred),1),\n",
        "                           y_all_pred_b.reshape(len(y_all_pred_b),1),\n",
        "                           y_actual.reshape(len(y_actual),1),\n",
        "                           yb_actual.reshape(len(yb_actual),1),\n",
        "                           ), axis = 1)\n",
        "\n",
        "results = pd.DataFrame(np_array, columns = ['y_pred', 'yb_pred', 'y_all_pred', 'y_all_pred_b', 'y_actual', 'yb_actual'])\n",
        "\n",
        "sp500_pred = results.head(5)\n",
        "\n",
        "print(results)\n"
      ],
      "execution_count": 1279,
      "outputs": [
        {
          "output_type": "stream",
          "text": [
            "      y_pred   yb_pred  y_all_pred  y_all_pred_b  y_actual  yb_actual\n",
            "0   0.484292  0.318667    0.432732          0.54      0.00        0.0\n",
            "1   0.004716  0.463333    0.055266          0.58     -0.92        0.0\n",
            "2  -0.935472  0.932008   -1.124660          0.55     -2.14        0.0\n",
            "3   1.264920  0.578087    1.074309          0.53      1.82        1.0\n",
            "4   0.322992  0.552479    0.269100          0.78     -0.18        0.0\n",
            "..       ...       ...         ...           ...       ...        ...\n",
            "58  0.020892  0.838333   -0.902033          0.53     -3.73        0.0\n",
            "59  0.579348  0.425651    0.465832          0.59     -4.18        0.0\n",
            "60  0.101292  0.589484    0.134300          0.63      3.05        1.0\n",
            "61 -0.934307  0.648000   -0.240920          0.68      3.32        1.0\n",
            "62  0.243583  0.972905    0.175795          0.84      0.13        1.0\n",
            "\n",
            "[63 rows x 6 columns]\n"
          ],
          "name": "stdout"
        }
      ]
    },
    {
      "cell_type": "markdown",
      "metadata": {
        "id": "o-3X7j0LFdm3"
      },
      "source": [
        "#Create buy/sell indicator/strategy based on pred\n",
        "\n",
        "1 = Buy next day\n",
        "\n",
        "0 = Sell next day\n",
        "\n",
        "yb_pred_num is a number that can help tune the model. Any number above .5 is less resk adverse (creates more risk)"
      ]
    },
    {
      "cell_type": "code",
      "metadata": {
        "id": "UGmNBoUvD3ee",
        "colab": {
          "base_uri": "https://localhost:8080/"
        },
        "outputId": "ef0eeb49-e7a4-4cb6-92b5-2f7eb48eb63c"
      },
      "source": [
        "yb_pred_num = 0.50\n",
        "\n",
        "results['y_pred_arg'] = np.where(results['y_pred'] > 0, 1, 0)\n",
        "results['yb_pred_arg'] = np.where(results['yb_pred'] > yb_pred_num, 1, 0)\n",
        "results['y_all_pred_arg'] = np.where(results['y_all_pred'] > 0, 1, 0)\n",
        "results['y_all_b_pred_arg'] = np.where(results['y_all_pred_b'] > yb_pred_num, 1, 0)\n",
        "results['y_actual_arg'] = np.where(results['y_actual'] > 0, 1, 0)\n",
        "results['yb_acutal_arg'] = np.where(results['yb_actual'] > 0, 1, 0)\n",
        "results['votes'] = results['y_pred_arg'] + results['yb_pred_arg'] + results['y_all_pred_arg'] + results['y_all_b_pred_arg']\n",
        "\n",
        "print(results)\n"
      ],
      "execution_count": 1280,
      "outputs": [
        {
          "output_type": "stream",
          "text": [
            "      y_pred   yb_pred  y_all_pred  ...  y_actual_arg  yb_acutal_arg  votes\n",
            "0   0.484292  0.318667    0.432732  ...             0              0      3\n",
            "1   0.004716  0.463333    0.055266  ...             0              0      3\n",
            "2  -0.935472  0.932008   -1.124660  ...             0              0      2\n",
            "3   1.264920  0.578087    1.074309  ...             1              1      4\n",
            "4   0.322992  0.552479    0.269100  ...             0              0      4\n",
            "..       ...       ...         ...  ...           ...            ...    ...\n",
            "58  0.020892  0.838333   -0.902033  ...             0              0      3\n",
            "59  0.579348  0.425651    0.465832  ...             0              0      3\n",
            "60  0.101292  0.589484    0.134300  ...             1              1      4\n",
            "61 -0.934307  0.648000   -0.240920  ...             1              1      2\n",
            "62  0.243583  0.972905    0.175795  ...             1              1      4\n",
            "\n",
            "[63 rows x 13 columns]\n"
          ],
          "name": "stdout"
        }
      ]
    },
    {
      "cell_type": "markdown",
      "metadata": {
        "id": "pqw05ZTyYTRO"
      },
      "source": [
        "#Add in 'short' ticker for same period\n",
        "\n",
        "A short ticker is one that behavies opposite of the selected ticker in this evaluation.\n",
        "\n",
        "The concept of having a short ticker is to trade \"into\" it when trading \"out\" of the primary ticker\n",
        "\n",
        "Note! - This section is not broke out; use hashtag notes as a reference"
      ]
    },
    {
      "cell_type": "code",
      "metadata": {
        "id": "ZfuqoqhppYlx",
        "colab": {
          "base_uri": "https://localhost:8080/"
        },
        "outputId": "ad217cb4-fdd3-485b-95fd-59d278e97278"
      },
      "source": [
        "#import dataset\n",
        "dataset_short = pd.read_csv('/content/drive/MyDrive/Colab Notebooks/HistoricalPricesSPDN.csv')\n",
        "#rename values with leading white spaces\n",
        "dataset_short.rename({' Close': 'Close'}, axis=1, inplace = True)\n",
        "#create gain loss value for short\n",
        "dataset_short['gain_loss_short-0'] = dataset_short['Close'].diff(-1)\n",
        "#select out values needed for model\n",
        "dataset_short = dataset_short[['Close', 'Date', 'gain_loss_short-0']]\n",
        "#convert date to datetype\n",
        "dataset_short['Date'] = pd.to_datetime(dataset_short['Date'])\n",
        "#select out mating dates to pred dataset\n",
        "pred_short = dataset_short[(dataset_short['Date'] >= pred_begin_date) & \n",
        "                         (dataset_short['Date'] <= pred_end_date)]\n",
        "#move rows down by one\n",
        "y_short = pd.DataFrame(pred_short['gain_loss_short-0']).reset_index(drop = True)\n",
        "y_short.loc[-1] = [0]\n",
        "y_short.index = y_short.index + 1\n",
        "y_short = y_short.sort_index()\n",
        "y_short.drop(y_short.tail(1).index, inplace = True)\n",
        "y_short.rename(columns={'gain_loss_short-0': 'y_short'}, inplace=True)\n",
        "y_short_df = pd.DataFrame(y_short, columns=['y_short'])\n",
        "#add short to results\n",
        "results = pd.concat([results,\n",
        "                    y_short_df],\n",
        "                    axis = 1)\n",
        "#verfity y_short and y_actual are both 0 at row\n",
        "print(results)"
      ],
      "execution_count": 1281,
      "outputs": [
        {
          "output_type": "stream",
          "text": [
            "      y_pred   yb_pred  y_all_pred  ...  yb_acutal_arg  votes  y_short\n",
            "0   0.484292  0.318667    0.432732  ...              0      3    0.000\n",
            "1   0.004716  0.463333    0.055266  ...              0      3    0.025\n",
            "2  -0.935472  0.932008   -1.124660  ...              0      2    0.090\n",
            "3   1.264920  0.578087    1.074309  ...              1      4   -0.073\n",
            "4   0.322992  0.552479    0.269100  ...              0      4    0.003\n",
            "..       ...       ...         ...  ...            ...    ...      ...\n",
            "58  0.020892  0.838333   -0.902033  ...              0      3    0.130\n",
            "59  0.579348  0.425651    0.465832  ...              0      3    0.170\n",
            "60  0.101292  0.589484    0.134300  ...              1      4   -0.120\n",
            "61 -0.934307  0.648000   -0.240920  ...              1      2   -0.130\n",
            "62  0.243583  0.972905    0.175795  ...              1      4   -0.010\n",
            "\n",
            "[63 rows x 14 columns]\n"
          ],
          "name": "stdout"
        }
      ]
    },
    {
      "cell_type": "code",
      "metadata": {
        "id": "jKAzSnKvr7Tx",
        "colab": {
          "base_uri": "https://localhost:8080/"
        },
        "outputId": "5a4783fc-3a77-44c9-8835-741b59027e1c"
      },
      "source": [
        "type(results)"
      ],
      "execution_count": 1282,
      "outputs": [
        {
          "output_type": "execute_result",
          "data": {
            "text/plain": [
              "pandas.core.frame.DataFrame"
            ]
          },
          "metadata": {
            "tags": []
          },
          "execution_count": 1282
        }
      ]
    },
    {
      "cell_type": "markdown",
      "metadata": {
        "id": "BnXmpVbUKsKD"
      },
      "source": [
        "#Model Performance\n",
        "\n",
        "To account accurately the top row of the \"results\" dataset must be removed\n",
        "\n",
        "Model performanced is based on the buy-sell relationship between the \"..._arg\" columns\n",
        "\n",
        "Each model is measured as well as a various combination of the models."
      ]
    },
    {
      "cell_type": "code",
      "metadata": {
        "id": "x1sxZIZRJrCl"
      },
      "source": [
        "results['y_buy'] = np.where(results['y_pred_arg'] >= 1, results['y_actual'], results['y_short'])\n",
        "results['yb_buy'] = np.where(results['yb_pred_arg'] >= 1, results['y_actual'], results['y_short'])\n",
        "results['yall_buy'] = np.where(results['y_all_pred_arg'] >= 1, results['y_actual'], results['y_short'])\n",
        "results['yallb_buy'] = np.where(results['y_all_b_pred_arg'] >= 1, results['y_actual'], results['y_short'])\n",
        "results['yvote_buy'] = np.where(results['votes']  >= 1, results['y_actual'], results['y_short'])\n"
      ],
      "execution_count": 1283,
      "outputs": []
    },
    {
      "cell_type": "markdown",
      "metadata": {
        "id": "5teAplemSXTI"
      },
      "source": [
        "The following section should be turned into a loop"
      ]
    },
    {
      "cell_type": "code",
      "metadata": {
        "id": "vdgmrVfZNHlO"
      },
      "source": [
        "performance_all = results\n",
        "performance_all = performance_all[1:] #Remove top row since we do not have actual value\n",
        "performance_all = performance_all.sum(axis = 0)\n",
        "#print(performance_all)"
      ],
      "execution_count": 1284,
      "outputs": []
    },
    {
      "cell_type": "code",
      "metadata": {
        "id": "ZyAs4dBWO1jH"
      },
      "source": [
        "performance_30 = results.head(31)\n",
        "performance_30 = performance_30[1:] #Remove top row since we do not have actual value\n",
        "performance_30 = performance_30.sum(axis = 0)\n",
        "#print(performance_30)"
      ],
      "execution_count": 1285,
      "outputs": []
    },
    {
      "cell_type": "code",
      "metadata": {
        "id": "0RtKpD35Qe6L"
      },
      "source": [
        "performance_60 = results.head(61)\n",
        "performance_60 = performance_60[1:] #Remove top row since we do not have actual value\n",
        "performance_60 = performance_60.sum(axis = 0)\n",
        "#print(performance_60)"
      ],
      "execution_count": 1286,
      "outputs": []
    },
    {
      "cell_type": "code",
      "metadata": {
        "id": "anaaRxMQR6SG"
      },
      "source": [
        "performance_15 = results.head(16)\n",
        "performance_15 = performance_15[1:] #Remove top row since we do not have actual value\n",
        "performance_15 = performance_15.sum(axis = 0)\n",
        "#print(performance_15)"
      ],
      "execution_count": 1287,
      "outputs": []
    },
    {
      "cell_type": "code",
      "metadata": {
        "id": "d9sQut9GR6dU"
      },
      "source": [
        "performance_45 = results.head(46)\n",
        "performance_45 = performance_45[1:] #Remove top row since we do not have actual value\n",
        "performance_45 = performance_45.sum(axis = 0)\n",
        "#print(performance_45)"
      ],
      "execution_count": 1288,
      "outputs": []
    },
    {
      "cell_type": "code",
      "metadata": {
        "id": "q8UcXA7hR6mH"
      },
      "source": [
        "performance_5 = results.head(6)\n",
        "performance_5 = performance_5[1:] #Remove top row since we do not have actual value\n",
        "performance_5 = performance_5.sum(axis = 0)\n",
        "#print(performance_5)"
      ],
      "execution_count": 1289,
      "outputs": []
    },
    {
      "cell_type": "code",
      "metadata": {
        "id": "wzYnbajGUsll"
      },
      "source": [
        "performance_10 = results.head(11)\n",
        "performance_10 = performance_10[1:] #Remove top row since we do not have actual value\n",
        "performance_10 = performance_10.sum(axis = 0)\n",
        "#print(performance_10)"
      ],
      "execution_count": 1290,
      "outputs": []
    },
    {
      "cell_type": "code",
      "metadata": {
        "id": "mhX2q3QOUtFB"
      },
      "source": [
        "performance_20 = results.head(21)\n",
        "performance_20 = performance_20[1:] #Remove top row since we do not have actual value\n",
        "performance_20 = performance_20.sum(axis = 0)\n",
        "#print(performance_20)"
      ],
      "execution_count": 1291,
      "outputs": []
    },
    {
      "cell_type": "code",
      "metadata": {
        "id": "ki_EiwXnUtP8"
      },
      "source": [
        "performance_25 = results.head(26)\n",
        "performance_25 = performance_25[1:] #Remove top row since we do not have actual value\n",
        "performance_25 = performance_25.sum(axis = 0)\n",
        "#print(performance_25)"
      ],
      "execution_count": 1292,
      "outputs": []
    },
    {
      "cell_type": "code",
      "metadata": {
        "id": "ldmAemGnUtZF"
      },
      "source": [
        "performance_35 = results.head(36)\n",
        "performance_35 = performance_35[1:] #Remove top row since we do not have actual value\n",
        "performance_35 = performance_35.sum(axis = 0)\n",
        "#print(performance_35)"
      ],
      "execution_count": 1293,
      "outputs": []
    },
    {
      "cell_type": "code",
      "metadata": {
        "id": "QMWxREU1VhJX"
      },
      "source": [
        "performance_40 = results.head(41)\n",
        "performance_40 = performance_40[1:] #Remove top row since we do not have actual value\n",
        "performance_40 = performance_40.sum(axis = 0)\n",
        "#print(performance_40)"
      ],
      "execution_count": 1294,
      "outputs": []
    },
    {
      "cell_type": "code",
      "metadata": {
        "id": "3EnuMXwrV18-"
      },
      "source": [
        "performance_50 = results.head(51)\n",
        "performance_50 = performance_50[1:] #Remove top row since we do not have actual value\n",
        "performance_50 = performance_50.sum(axis = 0)\n",
        "#print(performance_50)"
      ],
      "execution_count": 1295,
      "outputs": []
    },
    {
      "cell_type": "code",
      "metadata": {
        "id": "cap9bS6NV2Yq"
      },
      "source": [
        "performance_55 = results.head(56)\n",
        "performance_55 = performance_55[1:] #Remove top row since we do not have actual value\n",
        "performance_55 = performance_55.sum(axis = 0)\n",
        "#print(performance_55)"
      ],
      "execution_count": 1296,
      "outputs": []
    },
    {
      "cell_type": "code",
      "metadata": {
        "id": "EwQ017VqQ6Uy",
        "colab": {
          "base_uri": "https://localhost:8080/"
        },
        "outputId": "4858690f-f2af-4297-8a91-9b26d07d090b"
      },
      "source": [
        "performance = pd.concat([performance_5,\n",
        "                         performance_10,\n",
        "                         performance_15, \n",
        "                         performance_20,\n",
        "                         performance_25,\n",
        "                         performance_30,\n",
        "                         performance_35,\n",
        "                         performance_40, \n",
        "                         performance_45,\n",
        "                         performance_50,\n",
        "                         performance_55,\n",
        "                         performance_60, \n",
        "                         performance_all], axis=1)\n",
        "\n",
        "print(performance)"
      ],
      "execution_count": 1297,
      "outputs": [
        {
          "output_type": "stream",
          "text": [
            "                         0          1   ...          11          12\n",
            "y_pred             1.690948   3.830494  ...   12.177809   11.487085\n",
            "yb_pred            3.000811   6.021418  ...   33.531568   35.152472\n",
            "y_all_pred         1.361015   2.749914  ...    4.796995    4.731870\n",
            "y_all_pred_b       3.150000   6.050000  ...   34.290000   35.810000\n",
            "y_actual          -3.430000  12.620000  ...   18.520000   21.970000\n",
            "yb_actual          1.000000   6.000000  ...   33.000000   35.000000\n",
            "y_pred_arg         4.000000   9.000000  ...   39.000000   40.000000\n",
            "yb_pred_arg        3.000000   7.000000  ...   37.000000   39.000000\n",
            "y_all_pred_arg     4.000000   7.000000  ...   35.000000   36.000000\n",
            "y_all_b_pred_arg   5.000000   9.000000  ...   44.000000   46.000000\n",
            "y_actual_arg       1.000000   6.000000  ...   33.000000   35.000000\n",
            "yb_acutal_arg      1.000000   6.000000  ...   33.000000   35.000000\n",
            "votes             16.000000  32.000000  ...  155.000000  161.000000\n",
            "y_short            0.125000  -0.465000  ...   -0.795000   -0.935000\n",
            "y_buy             -1.200000  14.850000  ...   34.170000   34.170000\n",
            "yb_buy            -0.395000  14.525000  ...   26.064000   29.514000\n",
            "yall_buy          -1.200000   4.920000  ...   -2.760000   -2.760000\n",
            "yallb_buy         -3.430000   9.010000  ...    2.765000    6.215000\n",
            "yvote_buy         -3.430000  12.620000  ...   18.395000   21.845000\n",
            "\n",
            "[19 rows x 13 columns]\n"
          ],
          "name": "stdout"
        }
      ]
    },
    {
      "cell_type": "code",
      "metadata": {
        "colab": {
          "base_uri": "https://localhost:8080/"
        },
        "id": "qseaZv6wKf-z",
        "outputId": "4cab5b80-d765-4d42-f06d-6568fa5e5fba"
      },
      "source": [
        "print(sp500_pred)"
      ],
      "execution_count": 1298,
      "outputs": [
        {
          "output_type": "stream",
          "text": [
            "     y_pred   yb_pred  y_all_pred  y_all_pred_b  y_actual  yb_actual\n",
            "0  0.484292  0.318667    0.432732          0.54      0.00        0.0\n",
            "1  0.004716  0.463333    0.055266          0.58     -0.92        0.0\n",
            "2 -0.935472  0.932008   -1.124660          0.55     -2.14        0.0\n",
            "3  1.264920  0.578087    1.074309          0.53      1.82        1.0\n",
            "4  0.322992  0.552479    0.269100          0.78     -0.18        0.0\n"
          ],
          "name": "stdout"
        }
      ]
    },
    {
      "cell_type": "code",
      "metadata": {
        "id": "bKau_JXi94r3",
        "colab": {
          "base_uri": "https://localhost:8080/"
        },
        "outputId": "1ed133e7-2e23-4528-9f65-2b558f23eb76"
      },
      "source": [
        "df1 = performance.T\n",
        "print(df1)"
      ],
      "execution_count": 1299,
      "outputs": [
        {
          "output_type": "stream",
          "text": [
            "       y_pred    yb_pred  y_all_pred  ...  yall_buy  yallb_buy  yvote_buy\n",
            "0    1.690948   3.000811    1.361015  ...    -1.200     -3.430     -3.430\n",
            "1    3.830494   6.021418    2.749914  ...     4.920      9.010     12.620\n",
            "2    3.122814   8.360029    1.739496  ...     2.940      0.430      4.040\n",
            "3    0.873074  11.365114    1.198480  ...     3.570      2.670      7.400\n",
            "4   -0.148258  13.695994    0.162996  ...     3.545      5.990     10.720\n",
            "5    4.471606  16.219560    0.977320  ...     6.735     15.350     22.410\n",
            "6    4.445004  18.230115    1.124009  ...    -2.520      9.365     13.155\n",
            "7    6.429130  21.495002    2.211517  ...    -1.120     11.075     14.865\n",
            "8    7.357891  23.878598    4.000975  ...    -1.780     12.410     18.175\n",
            "9    9.590701  26.621400    4.584161  ...    -0.860     12.015     22.185\n",
            "10  11.063173  29.997469    3.784101  ...    -6.990     11.555     27.185\n",
            "11  12.177809  33.531568    4.796995  ...    -2.760      2.765     18.395\n",
            "12  11.487085  35.152472    4.731870  ...    -2.760      6.215     21.845\n",
            "\n",
            "[13 rows x 19 columns]\n"
          ],
          "name": "stdout"
        }
      ]
    },
    {
      "cell_type": "code",
      "metadata": {
        "id": "ptcaYXPj-FvH",
        "colab": {
          "base_uri": "https://localhost:8080/",
          "height": 282
        },
        "outputId": "8a153315-158b-4613-f57e-4e138c01b967"
      },
      "source": [
        "plt.plot(df1['y_actual'], color='black')\n",
        "plt.plot(df1['y_buy'], color='blue')\n",
        "plt.plot(df1['yb_buy'], color='red')\n",
        "plt.plot(df1['yall_buy'], color='green')\n",
        "plt.plot(df1['yallb_buy'], color='orange')\n",
        "plt.plot(df1['yvote_buy'], color='brown')"
      ],
      "execution_count": 1300,
      "outputs": [
        {
          "output_type": "execute_result",
          "data": {
            "text/plain": [
              "[<matplotlib.lines.Line2D at 0x7f012fdadf90>]"
            ]
          },
          "metadata": {
            "tags": []
          },
          "execution_count": 1300
        },
        {
          "output_type": "display_data",
          "data": {
            "image/png": "[encoded data removed]",
            "text/plain": [
              "<Figure size 432x288 with 1 Axes>"
            ]
          },
          "metadata": {
            "tags": [],
            "needs_background": "light"
          }
        }
      ]
    },
    {
      "cell_type": "code",
      "metadata": {
        "colab": {
          "base_uri": "https://localhost:8080/",
          "height": 282
        },
        "id": "7Ond72uoKLyP",
        "outputId": "3aab909c-bca6-44fd-f2f3-50380a84d9df"
      },
      "source": [
        "plt.plot(df1['y_actual'], color='black')\n",
        "plt.plot(df1['y_buy'], color='blue')\n"
      ],
      "execution_count": 1301,
      "outputs": [
        {
          "output_type": "execute_result",
          "data": {
            "text/plain": [
              "[<matplotlib.lines.Line2D at 0x7f012fd258d0>]"
            ]
          },
          "metadata": {
            "tags": []
          },
          "execution_count": 1301
        },
        {
          "output_type": "display_data",
          "data": {
            "image/png": "[encoded data removed]",
            "text/plain": [
              "<Figure size 432x288 with 1 Axes>"
            ]
          },
          "metadata": {
            "tags": [],
            "needs_background": "light"
          }
        }
      ]
    },
    {
      "cell_type": "code",
      "metadata": {
        "colab": {
          "base_uri": "https://localhost:8080/",
          "height": 282
        },
        "id": "YnlwI9UrKL5-",
        "outputId": "d403514f-09f8-4fc8-80d5-2cc43d5e48b7"
      },
      "source": [
        "plt.plot(df1['y_actual'], color='black')\n",
        "plt.plot(df1['yb_buy'], color='red')"
      ],
      "execution_count": 1302,
      "outputs": [
        {
          "output_type": "execute_result",
          "data": {
            "text/plain": [
              "[<matplotlib.lines.Line2D at 0x7f012fd07c90>]"
            ]
          },
          "metadata": {
            "tags": []
          },
          "execution_count": 1302
        },
        {
          "output_type": "display_data",
          "data": {
            "image/png": "[encoded data removed]",
            "text/plain": [
              "<Figure size 432x288 with 1 Axes>"
            ]
          },
          "metadata": {
            "tags": [],
            "needs_background": "light"
          }
        }
      ]
    },
    {
      "cell_type": "code",
      "metadata": {
        "colab": {
          "base_uri": "https://localhost:8080/",
          "height": 282
        },
        "id": "EebffbV5KL_t",
        "outputId": "43dfeb11-576c-410e-d84f-f8dff36a8bde"
      },
      "source": [
        "plt.plot(df1['y_actual'], color='black')\n",
        "plt.plot(df1['yall_buy'], color='green')"
      ],
      "execution_count": 1303,
      "outputs": [
        {
          "output_type": "execute_result",
          "data": {
            "text/plain": [
              "[<matplotlib.lines.Line2D at 0x7f012fc82150>]"
            ]
          },
          "metadata": {
            "tags": []
          },
          "execution_count": 1303
        },
        {
          "output_type": "display_data",
          "data": {
            "image/png": "[encoded data removed]",
            "text/plain": [
              "<Figure size 432x288 with 1 Axes>"
            ]
          },
          "metadata": {
            "tags": [],
            "needs_background": "light"
          }
        }
      ]
    },
    {
      "cell_type": "code",
      "metadata": {
        "colab": {
          "base_uri": "https://localhost:8080/",
          "height": 282
        },
        "id": "x2yvMNTWKMD3",
        "outputId": "21d23e6d-08e3-4ed0-eb1f-e9a69f1886cc"
      },
      "source": [
        "plt.plot(df1['y_actual'], color='black')\n",
        "plt.plot(df1['yallb_buy'], color='orange')"
      ],
      "execution_count": 1304,
      "outputs": [
        {
          "output_type": "execute_result",
          "data": {
            "text/plain": [
              "[<matplotlib.lines.Line2D at 0x7f012fbe0fd0>]"
            ]
          },
          "metadata": {
            "tags": []
          },
          "execution_count": 1304
        },
        {
          "output_type": "display_data",
          "data": {
            "image/png": "[encoded data removed]",
            "text/plain": [
              "<Figure size 432x288 with 1 Axes>"
            ]
          },
          "metadata": {
            "tags": [],
            "needs_background": "light"
          }
        }
      ]
    },
    {
      "cell_type": "code",
      "metadata": {
        "colab": {
          "base_uri": "https://localhost:8080/",
          "height": 282
        },
        "id": "TcxkVMi1KWHm",
        "outputId": "35d81503-ec31-4c1b-ee6c-7e1616325fcb"
      },
      "source": [
        "plt.plot(df1['y_actual'], color='black')\n",
        "plt.plot(df1['yvote_buy'], color='brown')"
      ],
      "execution_count": 1305,
      "outputs": [
        {
          "output_type": "execute_result",
          "data": {
            "text/plain": [
              "[<matplotlib.lines.Line2D at 0x7f012fb4e950>]"
            ]
          },
          "metadata": {
            "tags": []
          },
          "execution_count": 1305
        },
        {
          "output_type": "display_data",
          "data": {
            "image/png": "[encoded data removed]",
            "text/plain": [
              "<Figure size 432x288 with 1 Axes>"
            ]
          },
          "metadata": {
            "tags": [],
            "needs_background": "light"
          }
        }
      ]
    },
    {
      "cell_type": "code",
      "metadata": {
        "id": "-N1HSPFzYmaf"
      },
      "source": [
        "#results.to_csv('/content/drive/MyDrive/Colab Notebooks/results_sky_hibs_20160101-20210802_.csv')\n",
        "#performance.to_csv('/content/drive/MyDrive/Colab Notebooks/performance_sky_hibs_20190101-20210802_.csv')"
      ],
      "execution_count": 1306,
      "outputs": []
    }
  ]
}