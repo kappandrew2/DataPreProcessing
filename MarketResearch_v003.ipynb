{
  "nbformat": 4,
  "nbformat_minor": 0,
  "metadata": {
    "colab": {
      "name": "MarketResearch_v003.ipynb",
      "provenance": [],
      "collapsed_sections": [],
      "toc_visible": true,
      "history_visible": true,
      "authorship_tag": "ABX9TyOQ+53t8ZpCxkzzesR8jgab",
      "include_colab_link": true
    },
    "kernelspec": {
      "name": "python3",
      "display_name": "Python 3"
    },
    "language_info": {
      "name": "python"
    }
  },
  "cells": [
    {
      "cell_type": "markdown",
      "metadata": {
        "id": "view-in-github",
        "colab_type": "text"
      },
      "source": [
        "<a href=\"https://colab.research.google.com/github/kappandrew2/DataPreProcessing/blob/main/MarketResearch_v003.ipynb\" target=\"_parent\"><img src=\"https://colab.research.google.com/assets/colab-badge.svg\" alt=\"Open In Colab\"/></a>"
      ]
    },
    {
      "cell_type": "markdown",
      "metadata": {
        "id": "1mSu-6RRLTR1"
      },
      "source": [
        "#Model Purpose\n",
        "\n",
        "Utilize historical value and time attributes to predict the next day's gain or loss value\n",
        "\n",
        "!Dataset Notes: The dataset for this data solution must come from the following web sit and contain a large historical sample of data. For example:\n",
        "\n",
        "Begin Date = 12/01/2007 (Be mindful that the last 35 periods (in this case, days) will get chopped off of the bottom of the dataset during data preprocessing)\n",
        "\n",
        "End Date = Today's current value (to be run an hour before market close)\n",
        "\n",
        "Ticker = SPY\n",
        "\n",
        "Train Set = all data except last 60 periods (rows)\n",
        "\n",
        "Prediction Set = all data from -90 periods (days) to current\n",
        "\n",
        "https://www.wsj.com/market-data/quotes/index/SPX/historical-prices\n"
      ]
    },
    {
      "cell_type": "code",
      "metadata": {
        "id": "lx9d2QEa6mXf"
      },
      "source": [
        "import numpy as np\n",
        "import matplotlib.pyplot as plt\n",
        "import pandas as pd\n",
        "import datetime\n",
        "from sklearn.model_selection import train_test_split\n",
        "from datetime import date, datetime, timedelta\n",
        "from pandas._libs.tslibs.timestamps import Timestamp\n",
        "from scipy.sparse import csr_matrix\n"
      ],
      "execution_count": null,
      "outputs": []
    },
    {
      "cell_type": "markdown",
      "metadata": {
        "id": "6mLzKv5BGUUZ"
      },
      "source": [
        "#Connect to drive and import data set\n",
        "\n",
        "Using google drive\n",
        "\n",
        "Importing historical prices for ticker \"SPY\""
      ]
    },
    {
      "cell_type": "code",
      "metadata": {
        "colab": {
          "base_uri": "https://localhost:8080/"
        },
        "id": "LAo4DboL6vQh",
        "outputId": "ad6a81fe-adba-4ea6-eecd-657a54f51152"
      },
      "source": [
        "#Create CSV from data export\n",
        "#https://www.wsj.com/market-data/quotes/index/SPX/historical-prices\n",
        "\n",
        "from google.colab import drive\n",
        "drive.mount('/content/drive', force_remount=True)\n",
        "\n",
        "dataset1 = pd.read_csv('/content/drive/MyDrive/Colab Notebooks/HistoricalPricesSPY.csv')\n",
        "\n",
        "dataset2 = pd.read_csv('/content/drive/MyDrive/Colab Notebooks/HistoricalPricesSH.csv')\n",
        "\n",
        "print(dataset1)"
      ],
      "execution_count": null,
      "outputs": [
        {
          "output_type": "stream",
          "text": [
            "Mounted at /content/drive\n",
            "          Date    Open      High     Low     Close     Volume\n",
            "0     08/06/21  442.10  442.9400  441.80  442.4900   46930008\n",
            "1     08/05/21  440.22  441.8500  439.88  441.7600   38969660\n",
            "2     08/04/21  439.78  441.1243  438.73  438.9800   46732207\n",
            "3     08/03/21  438.44  441.2800  436.10  441.1500   58053898\n",
            "4     08/02/21  440.34  440.9300  437.21  437.5900   58783301\n",
            "...        ...     ...       ...     ...       ...        ...\n",
            "1404  01/08/16  195.19  195.8500  191.58  191.9230  209817203\n",
            "1405  01/07/16  195.33  197.4400  193.59  194.0500  213436094\n",
            "1406  01/06/16  198.34  200.0600  197.60  198.8200  152112609\n",
            "1407  01/05/16  201.40  201.9000  200.05  201.3600  110845797\n",
            "1408  01/04/16  200.49  201.0300  198.59  201.0192  222353500\n",
            "\n",
            "[1409 rows x 6 columns]\n"
          ],
          "name": "stdout"
        }
      ]
    },
    {
      "cell_type": "markdown",
      "metadata": {
        "id": "ZWGjihLGGnuD"
      },
      "source": [
        "#Modifiy dataset Content and Headers\n",
        "\n",
        "Remove contents not required for this exercise\n",
        "\n",
        "Renaming columns to remove leading white space\n",
        "\n",
        "Narrowing the dataset can be done via drop or select, both options are available (comment out the one not in use)"
      ]
    },
    {
      "cell_type": "code",
      "metadata": {
        "id": "4_0Dq0yU7GHg"
      },
      "source": [
        "#Reduce dataframe columns\n",
        "dataset1.rename({' Close': 'Close'}, axis=1, inplace = True)\n",
        "dataset1 = dataset1[['Close', 'Date']]\n",
        "#Reduce Dataframe columns\n",
        "dataset2.rename({' Close': 'Close'}, axis=1, inplace = True)\n",
        "dataset2 = dataset2[['Close', 'Date']]\n",
        "\n",
        "#Set data types\n",
        "dataset1['Date'] = pd.to_datetime(dataset1['Date'])\n",
        "#Set data types\n",
        "dataset2['Date'] = pd.to_datetime(dataset2['Date'])\n",
        "\n",
        "#Create date attributes\n",
        "dataset1['DOW'] = dataset1['Date'].dt.dayofweek\n",
        "dataset1['Month'] = dataset1['Date'].dt.month\n",
        "dataset1['Quarter'] = dataset1['Date'].dt.quarter\n",
        "#Create date attributes\n",
        "dataset2['DOW'] = dataset2['Date'].dt.dayofweek\n",
        "dataset2['Month'] = dataset2['Date'].dt.month\n",
        "dataset2['Quarter'] = dataset2['Date'].dt.quarter\n",
        "\n",
        "#Date to sparse matrix\n",
        "from sklearn.preprocessing import OneHotEncoder\n",
        "ohe = OneHotEncoder(drop='first')\n",
        "#Encode Time Variables\n",
        "dow1 = ohe.fit_transform(dataset1.DOW.values.reshape(-1,1)).toarray()\n",
        "DOW1 = pd.DataFrame(dow1, columns = ['Tu', 'We', 'Th', 'Fr'])\n",
        "month1 = ohe.fit_transform(dataset1.Month.values.reshape(-1,1)).toarray()\n",
        "MONTH1 = pd.DataFrame(month1, columns = ['Feb', 'Mar', 'Apr', 'May', 'Jun', 'Jul', 'Aug', 'Sep', 'Oct', 'Nov', 'Dec'])\n",
        "q1 = ohe.fit_transform(dataset1.Quarter.values.reshape(-1,1)).toarray()\n",
        "Q1 = pd.DataFrame(q1, columns = ['Q2', 'Q3', 'Q4'])\n",
        "dataset1 = pd.concat([dataset1, DOW1, MONTH1, Q1], axis=1)\n",
        "#Encode Time Variables\n",
        "dow2 = ohe.fit_transform(dataset2.DOW.values.reshape(-1,1)).toarray()\n",
        "DOW2 = pd.DataFrame(dow2, columns = ['Tu', 'We', 'Th', 'Fr'])\n",
        "month2 = ohe.fit_transform(dataset2.Month.values.reshape(-1,1)).toarray()\n",
        "MONTH2 = pd.DataFrame(month2, columns = ['Feb', 'Mar', 'Apr', 'May', 'Jun', 'Jul', 'Aug', 'Sep', 'Oct', 'Nov', 'Dec'])\n",
        "q2 = ohe.fit_transform(dataset2.Quarter.values.reshape(-1,1)).toarray()\n",
        "Q2 = pd.DataFrame(q2, columns = ['Q2', 'Q3', 'Q4'])\n",
        "dataset2 = pd.concat([dataset2, DOW2, MONTH2, Q2], axis=1)\n",
        "\n",
        "#Gain_loss_interval\n",
        "dataset1['gain_loss_0'] = dataset1['Close'].diff(-1)\n",
        "dataset1['gain_loss_1'] = dataset1['Close'].diff(-2)\n",
        "dataset1['gain_loss_2'] = dataset1['Close'].diff(-3)\n",
        "#Gain_loss_interval\n",
        "dataset2['gain_loss_0'] = dataset2['Close'].diff(-1)\n",
        "dataset2['gain_loss_1'] = dataset2['Close'].diff(-2)\n",
        "dataset2['gain_loss_2'] = dataset2['Close'].diff(-3)\n",
        "\n",
        "#Gain_loss_history\n",
        "dataset1['prior_day_1'] = dataset1['gain_loss_0']\n",
        "dataset1['prior_day_1'] = dataset1['prior_day_1'].shift(periods=-1, fill_value=0)\n",
        "dataset1['prior_day_2'] = dataset1['gain_loss_0']\n",
        "dataset1['prior_day_2'] = dataset1['prior_day_2'].shift(periods=-2, fill_value=0)\n",
        "#Gain_loss_history\n",
        "dataset2['prior_day_1'] = dataset2['gain_loss_0']\n",
        "dataset2['prior_day_1'] = dataset2['prior_day_1'].shift(periods=-1, fill_value=0)\n",
        "dataset2['prior_day_2'] = dataset2['gain_loss_0']\n",
        "dataset2['prior_day_2'] = dataset2['prior_day_2'].shift(periods=-2, fill_value=0)\n",
        "\n",
        "#Rolling means\n",
        "rolling_prior_day1 = dataset1['gain_loss_0']\n",
        "rolling_prior_day_5_1 = rolling_prior_day1[::-1].rolling(5).mean()[::-1]\n",
        "rolling_prior_day_10_1 = rolling_prior_day1[::-1].rolling(10).mean()[::-1]\n",
        "rolling_prior_day_5_1.rename('rolling_prior_day_5', inplace = True)\n",
        "rolling_prior_day_10_1.rename('rolling_prior_day_10', inplace = True)\n",
        "dataset = pd.concat([dataset1, rolling_prior_day_10_1, rolling_prior_day_10_1], axis = 1)\n",
        "#Rolling means\n",
        "rolling_prior_day2 = dataset2['gain_loss_0']\n",
        "rolling_prior_day_5_2 = rolling_prior_day2[::-1].rolling(5).mean()[::-1]\n",
        "rolling_prior_day_10_2 = rolling_prior_day2[::-1].rolling(10).mean()[::-1]\n",
        "rolling_prior_day_5_2.rename('rolling_prior_day_5', inplace = True)\n",
        "rolling_prior_day_10_2.rename('rolling_prior_day_10', inplace = True)\n",
        "dataset = pd.concat([dataset2, rolling_prior_day_10_2, rolling_prior_day_10_2], axis = 1)\n",
        "\n",
        "#Remove NaN rows\n",
        "dataset1.dropna(inplace = True)\n",
        "#Remove NaN rows\n",
        "dataset2.dropna(inplace = True)\n",
        "\n",
        "#add dependant variable (requires shifted down one row)\n",
        "y1 = pd.DataFrame(dataset1['gain_loss_0']).reset_index(drop = True)\n",
        "y1.loc[-1] = [0]\n",
        "y1.index = y1.index + 1\n",
        "y1 = y1.sort_index()\n",
        "y1.drop(y1.tail(1).index, inplace = True)\n",
        "y1.rename(columns={'gain_loss_0': 'y'}, inplace=True)\n",
        "y_df1 = pd.DataFrame(y1, columns=['y'])\n",
        "dataset_final1 = pd.concat([dataset1, y_df1], axis=1)\n",
        "#add dependant variable (requires shifted down one row)\n",
        "y2 = pd.DataFrame(dataset2['gain_loss_0']).reset_index(drop = True)\n",
        "y2.loc[-1] = [0]\n",
        "y2.index = y2.index + 1\n",
        "y2 = y2.sort_index()\n",
        "y2.drop(y2.tail(1).index, inplace = True)\n",
        "y2.rename(columns={'gain_loss_0': 'y'}, inplace=True)\n",
        "y_df2 = pd.DataFrame(y2, columns=['y'])\n",
        "dataset_final2 = pd.concat([dataset2, y_df2], axis=1)\n",
        "\n",
        "#drop NaN on final datase\n",
        "dataset_final1.dropna(inplace = True)\n",
        "#drop NaN on final datase\n",
        "dataset_final2.dropna(inplace = True)\n",
        "\n",
        "#add prefix to all columns\n",
        "dataset_final1.columns = [str(col) + '_1' for col in dataset_final1.columns]\n",
        "#add prefix to all columns\n",
        "dataset_final2.columns = [str(col) + '_2' for col in dataset_final2.columns]"
      ],
      "execution_count": null,
      "outputs": []
    },
    {
      "cell_type": "code",
      "metadata": {
        "id": "wE9kCh_CNjtW"
      },
      "source": [
        "#Concatenate the dataset\n",
        "dataset_final = pd.concat([dataset_final1, dataset_final2], axis=1)"
      ],
      "execution_count": null,
      "outputs": []
    },
    {
      "cell_type": "markdown",
      "metadata": {
        "id": "sdl7ZzP86Sl6"
      },
      "source": [
        "#Determine Attributes to Keep"
      ]
    },
    {
      "cell_type": "code",
      "metadata": {
        "id": "63qL6jw_TOvu"
      },
      "source": [
        "#identify columns for data model\n",
        "selection_value_upper = .06\n",
        "corr_mxa = dataset_final.corr()\n",
        "corr_mxb = corr_mxa[corr_mxa['y_1'].abs()>selection_value]\n",
        "corr_mxb = corr_mxb.T.columns.values\n",
        "add_back = 'Date_1'\n",
        "corr_mxb = np.concatenate((corr_mxb, add_back), axis=None)"
      ],
      "execution_count": null,
      "outputs": []
    },
    {
      "cell_type": "code",
      "metadata": {
        "colab": {
          "base_uri": "https://localhost:8080/"
        },
        "id": "iDwF5lNfVDWY",
        "outputId": "9f41bc29-31b6-44a3-efcb-7a39e800ddd5"
      },
      "source": [
        "#add needed attributes back into the model\n",
        "dataset_final = dataset_final[corr_mxb]\n",
        "dataset_final['Date_1'] = pd.to_datetime(dataset_final['Date_1'])\n",
        "dataset_final['Close_1'] = dataset_final1['Close_1']\n",
        "dataset_final['Close_2'] = dataset_final2['Close_2']\n",
        "print(dataset_final)"
      ],
      "execution_count": null,
      "outputs": [
        {
          "output_type": "stream",
          "text": [
            "      DOW_1  Quarter_1  We_1  Mar_1  ...  prior_day_2_2   y_2     Date_1   Close_1\n",
            "0         4          3   0.0    0.0  ...           0.07  0.00 2021-08-06  442.4900\n",
            "1         3          3   0.0    0.0  ...          -0.13 -0.02 2021-08-05  441.7600\n",
            "2         2          3   1.0    0.0  ...           0.04 -0.10 2021-08-04  438.9800\n",
            "3         1          3   0.0    0.0  ...           0.07  0.07 2021-08-03  441.1500\n",
            "4         0          3   0.0    0.0  ...          -0.07 -0.13 2021-08-02  437.5900\n",
            "...     ...        ...   ...    ...  ...            ...   ...        ...       ...\n",
            "1401      2          1   1.0    0.0  ...           0.00 -0.78 2016-01-13  188.8300\n",
            "1402      1          1   0.0    0.0  ...           0.48  1.18 2016-01-12  193.6608\n",
            "1403      0          1   0.0    0.0  ...           0.98 -0.44 2016-01-11  192.1100\n",
            "1404      4          1   0.0    0.0  ...           0.60  0.00 2016-01-08  191.9230\n",
            "1405      3          1   0.0    0.0  ...          -0.12  0.48 2016-01-07  194.0500\n",
            "\n",
            "[1406 rows x 38 columns]\n"
          ],
          "name": "stdout"
        }
      ]
    },
    {
      "cell_type": "markdown",
      "metadata": {
        "id": "rifSXtgbhYYt"
      },
      "source": [
        "#Create dataset splitting variable (Train and Pred)\n",
        "\n",
        "Date variables based on today date are required to prevent \"hardcoding\" dates into the model\n",
        "\n",
        "The date_var variable will represent the most current date in the dataset. This allows the solution to be run for any timeframe.\n",
        "\n",
        "The following code can replace the current date_var logic in the case the current method causes issues. Note, this method requires adjustment when back testing \n",
        "\n",
        "date_var = pd.to_datetime(date.today()) \n",
        "\n",
        "use train/pred_minus_days to tune the model for longer or shorter periods of time. Allow for a 30 day overlap where pred will have 30 days"
      ]
    },
    {
      "cell_type": "code",
      "metadata": {
        "colab": {
          "base_uri": "https://localhost:8080/"
        },
        "id": "iF1y7B2r7cVv",
        "outputId": "6683de2e-d0bf-4f4e-c8dc-5b8633796f3b"
      },
      "source": [
        "train_minus_days = 180\n",
        "pred_minus_days = 150\n",
        "\n",
        "date_var = dataset_final['Date_1'].max()\n",
        "train_begin_date = dataset_final['Date_1'].min()\n",
        "train_end_date = (date_var - pd.to_timedelta(train_minus_days, unit='d'))\n",
        "pred_begin_date = (date_var - pd.to_timedelta(pred_minus_days, unit='d'))\n",
        "pred_end_date = date_var\n",
        "\n",
        "train_begin_date = train_begin_date.to_pydatetime()\n",
        "train_end_date = train_end_date.to_pydatetime()\n",
        "pred_begin_date = pred_begin_date.to_pydatetime()\n",
        "pred_end_date = pred_end_date.to_pydatetime()\n",
        "\n",
        "\n",
        "print(train_begin_date)\n",
        "print(train_end_date)\n",
        "print(pred_begin_date)\n",
        "print(pred_end_date)"
      ],
      "execution_count": null,
      "outputs": [
        {
          "output_type": "stream",
          "text": [
            "2016-01-07 00:00:00\n",
            "2021-02-07 00:00:00\n",
            "2021-03-09 00:00:00\n",
            "2021-08-06 00:00:00\n"
          ],
          "name": "stdout"
        }
      ]
    },
    {
      "cell_type": "markdown",
      "metadata": {
        "id": "IzgziXsl-SBz"
      },
      "source": [
        "#Split between training and predict data sets\n",
        "\n",
        "The top last 90 periods (rows) will generate the pred data set.\n",
        "\n",
        "All but the top 60 periods (rows) will generate the training data set.\n",
        "\n",
        "The 30 day overlap can provide a measure of the model's degredation over time\n",
        "\n",
        "!Note - The market is closed on weekends and holidays. The count of days in each set will NOT equal the amount of days between begin and end dates."
      ]
    },
    {
      "cell_type": "code",
      "metadata": {
        "colab": {
          "base_uri": "https://localhost:8080/"
        },
        "id": "nOHf760CShq3",
        "outputId": "eb3be482-b38a-4424-c348-0855ae324dba"
      },
      "source": [
        "#split text and train datasets\n",
        "predset = dataset_final[(dataset_final['Date_1'] >= pred_begin_date) & \n",
        "                        (dataset_final['Date_1'] <= pred_end_date)]\n",
        "trainset = dataset_final[(dataset_final['Date_1'] >= train_begin_date) & \n",
        "                         (dataset_final['Date_1'] <= train_end_date)]\n",
        "type(predset)"
      ],
      "execution_count": null,
      "outputs": [
        {
          "output_type": "execute_result",
          "data": {
            "text/plain": [
              "pandas.core.frame.DataFrame"
            ]
          },
          "metadata": {
            "tags": []
          },
          "execution_count": 733
        }
      ]
    },
    {
      "cell_type": "code",
      "metadata": {
        "colab": {
          "base_uri": "https://localhost:8080/"
        },
        "id": "cTZ65w52bsBZ",
        "outputId": "c4fff0a8-9552-42a6-d678-c4b4038f9fc4"
      },
      "source": [
        "list(dataset_final.columns)"
      ],
      "execution_count": null,
      "outputs": [
        {
          "output_type": "execute_result",
          "data": {
            "text/plain": [
              "['DOW_1',\n",
              " 'Quarter_1',\n",
              " 'We_1',\n",
              " 'Mar_1',\n",
              " 'Apr_1',\n",
              " 'Jul_1',\n",
              " 'Aug_1',\n",
              " 'Sep_1',\n",
              " 'Oct_1',\n",
              " 'Nov_1',\n",
              " 'Dec_1',\n",
              " 'Q2_1',\n",
              " 'gain_loss_0_1',\n",
              " 'gain_loss_1_1',\n",
              " 'gain_loss_2_1',\n",
              " 'prior_day_1_1',\n",
              " 'y_1',\n",
              " 'Close_2',\n",
              " 'DOW_2',\n",
              " 'Quarter_2',\n",
              " 'We_2',\n",
              " 'Mar_2',\n",
              " 'Apr_2',\n",
              " 'Jul_2',\n",
              " 'Aug_2',\n",
              " 'Sep_2',\n",
              " 'Oct_2',\n",
              " 'Nov_2',\n",
              " 'Dec_2',\n",
              " 'Q2_2',\n",
              " 'gain_loss_0_2',\n",
              " 'gain_loss_1_2',\n",
              " 'gain_loss_2_2',\n",
              " 'prior_day_1_2',\n",
              " 'prior_day_2_2',\n",
              " 'y_2',\n",
              " 'Date_1',\n",
              " 'Close_1']"
            ]
          },
          "metadata": {
            "tags": []
          },
          "execution_count": 734
        }
      ]
    },
    {
      "cell_type": "markdown",
      "metadata": {
        "id": "50h5EJr9_DZW"
      },
      "source": [
        "#Convert dataset into X and y and refine column membership\n",
        "\n",
        "This process separates the dependant and independant variables\n",
        "\n",
        "X should not contain the y or yb attributes\n",
        "\n",
        "for X, \"Date\" should be removed since it is a time-series value; date attributes will represent time\n",
        "\n",
        "for X, \"Close\" should be removed due to its relationship to the indepenant variable\n",
        "\n",
        "Two models will come out of this model, one for continuous variable y and binary value yb"
      ]
    },
    {
      "cell_type": "code",
      "metadata": {
        "colab": {
          "base_uri": "https://localhost:8080/"
        },
        "id": "Z0cZJQK3ILwd",
        "outputId": "0037c76c-8967-49a3-9a27-ebca15d87097"
      },
      "source": [
        "XX = trainset\n",
        "XX.drop(XX.tail(31).index, inplace = True)\n",
        "X = XX.drop(['y_1', 'y_2', 'Date_1', 'Close_1', 'Close_2'], axis=1)\n",
        "y_1 = trainset['y_1'].values\n",
        "y_2 = trainset['y_2'].values\n",
        "print(X)\n",
        "print(\"-------------------------\")\n",
        "print(y_1)\n",
        "print(\"-------------------------\")\n",
        "print(y_2)"
      ],
      "execution_count": null,
      "outputs": [
        {
          "output_type": "stream",
          "text": [
            "      DOW_1  Quarter_1  We_1  ...  gain_loss_2_2  prior_day_1_2  prior_day_2_2\n",
            "126       4          1   0.0  ...          -0.30          -0.20          -0.02\n",
            "127       3          1   0.0  ...          -0.47          -0.02          -0.25\n",
            "128       2          1   1.0  ...          -0.55          -0.25          -0.28\n",
            "129       1          1   0.0  ...          -0.19          -0.28           0.34\n",
            "130       0          1   0.0  ...          -0.08           0.34          -0.14\n",
            "...     ...        ...   ...  ...            ...            ...            ...\n",
            "1370      0          1   0.0  ...          -0.06           0.10          -0.56\n",
            "1371      4          1   0.0  ...          -0.68          -0.56          -0.22\n",
            "1372      3          1   0.0  ...          -0.18          -0.22           0.60\n",
            "1373      2          1   1.0  ...          -0.34           0.60          -0.72\n",
            "1374      1          1   0.0  ...          -0.06          -0.72           0.06\n",
            "\n",
            "[1249 rows x 33 columns]\n",
            "-------------------------\n",
            "[ 2.8     1.52    4.34   ... -0.4508  2.34    0.88  ]\n",
            "-------------------------\n",
            "[-0.11 -0.08 -0.2  ...  0.1  -0.56 -0.22]\n"
          ],
          "name": "stdout"
        },
        {
          "output_type": "stream",
          "text": [
            "/usr/local/lib/python3.7/dist-packages/pandas/core/frame.py:4174: SettingWithCopyWarning: \n",
            "A value is trying to be set on a copy of a slice from a DataFrame\n",
            "\n",
            "See the caveats in the documentation: https://pandas.pydata.org/pandas-docs/stable/user_guide/indexing.html#returning-a-view-versus-a-copy\n",
            "  errors=errors,\n"
          ],
          "name": "stderr"
        }
      ]
    },
    {
      "cell_type": "code",
      "metadata": {
        "colab": {
          "base_uri": "https://localhost:8080/"
        },
        "id": "wQNhBiAEN_fx",
        "outputId": "0f706716-48a2-48da-d341-9c476f8625ba"
      },
      "source": [
        "#Validation of row counts\n",
        "\n",
        "f = len(X)\n",
        "g = len(y_1)\n",
        "h = len(y_2)\n",
        "\n",
        "print(f, g, h)"
      ],
      "execution_count": null,
      "outputs": [
        {
          "output_type": "stream",
          "text": [
            "1249 1249 1249\n"
          ],
          "name": "stdout"
        }
      ]
    },
    {
      "cell_type": "markdown",
      "metadata": {
        "id": "BgGLmBg2CCjH"
      },
      "source": [
        "#Train the models\n",
        "\n",
        "The model can be extended to use any regression or classificaiton model.\n",
        "\n",
        "Current model inventory:\n",
        "\n",
        "1) Random Forest"
      ]
    },
    {
      "cell_type": "code",
      "metadata": {
        "colab": {
          "base_uri": "https://localhost:8080/"
        },
        "id": "w4xd8XMCH3M2",
        "outputId": "e9afe75a-6e68-4f15-940f-6824fc6bc648"
      },
      "source": [
        "from sklearn.ensemble import RandomForestRegressor\n",
        "\n",
        "regressor = RandomForestRegressor(n_estimators = 10, random_state = 2)\n",
        "\n",
        "regressor.fit(X, y_1)\n",
        "\n",
        "regressor_b = RandomForestRegressor(n_estimators = 10, random_state = 1)\n",
        "\n",
        "regressor_b.fit(X, y_2)"
      ],
      "execution_count": null,
      "outputs": [
        {
          "output_type": "execute_result",
          "data": {
            "text/plain": [
              "RandomForestRegressor(bootstrap=True, ccp_alpha=0.0, criterion='mse',\n",
              "                      max_depth=None, max_features='auto', max_leaf_nodes=None,\n",
              "                      max_samples=None, min_impurity_decrease=0.0,\n",
              "                      min_impurity_split=None, min_samples_leaf=1,\n",
              "                      min_samples_split=2, min_weight_fraction_leaf=0.0,\n",
              "                      n_estimators=10, n_jobs=None, oob_score=False,\n",
              "                      random_state=1, verbose=0, warm_start=False)"
            ]
          },
          "metadata": {
            "tags": []
          },
          "execution_count": 737
        }
      ]
    },
    {
      "cell_type": "markdown",
      "metadata": {
        "id": "lMP2XIlOCUTS"
      },
      "source": [
        "#Create predict dataset\n",
        "\n",
        "The predict dataset should match the process used to generate the training dataset"
      ]
    },
    {
      "cell_type": "code",
      "metadata": {
        "colab": {
          "base_uri": "https://localhost:8080/"
        },
        "id": "G0BNR3t8Um8v",
        "outputId": "0b8f6050-d0ad-4b02-becb-95a8dfa202a1"
      },
      "source": [
        "#Prepare predict set\n",
        "Xpred = predset\n",
        "X_pred = Xpred.drop(['y_1', 'y_2', 'Date_1', 'Close_1', 'Close_2'], axis=1)\n",
        "y_actual = predset['y_1'].values\n",
        "yb_actual = predset['y_2'].values\n",
        "print(X_pred)\n",
        "print(\"-------------------------\")\n",
        "print(y_actual)\n",
        "print(\"-------------------------\")\n",
        "print(yb_actual)"
      ],
      "execution_count": null,
      "outputs": [
        {
          "output_type": "stream",
          "text": [
            "     DOW_1  Quarter_1  We_1  ...  gain_loss_2_2  prior_day_1_2  prior_day_2_2\n",
            "0        4          3   0.0  ...          -0.05          -0.10           0.07\n",
            "1        3          3   0.0  ...          -0.16           0.07          -0.13\n",
            "2        2          3   1.0  ...          -0.02          -0.13           0.04\n",
            "3        1          3   0.0  ...          -0.02           0.04           0.07\n",
            "4        0          3   0.0  ...           0.04           0.07          -0.07\n",
            "..     ...        ...   ...  ...            ...            ...            ...\n",
            "101      0          1   0.0  ...          -0.32          -0.04          -0.18\n",
            "102      4          1   0.0  ...          -0.31          -0.18          -0.09\n",
            "103      3          1   0.0  ...          -0.51          -0.09          -0.24\n",
            "104      2          1   1.0  ...          -0.25          -0.24           0.08\n",
            "105      1          1   0.0  ...          -0.49           0.08          -0.33\n",
            "\n",
            "[106 rows x 33 columns]\n",
            "-------------------------\n",
            "[ 0.    0.73  2.78 -2.17  3.56 -0.92 -2.14  1.82 -0.18 -2.01  1.08  4.48\n",
            "  0.91  3.49  6.09 -6.37 -3.41 -1.49  0.65 -1.49  1.56  4.6  -3.54  1.53\n",
            " -0.79  3.29  2.37  0.36  0.23  0.86  1.51  2.5  -0.51  2.25  5.94 -7.05\n",
            " -0.14 -2.37 -0.78  0.95  0.7   1.96 -0.63  0.09 -0.41  3.83 -1.56  0.66\n",
            " -0.37  0.75  0.22  0.83 -0.93  4.23 -0.34  4.42 -1.08 -3.58 -1.06  6.3\n",
            "  4.87 -8.8  -3.73 -4.18  3.05  3.32  0.13 -2.58  0.9  -2.76  2.66 -0.12\n",
            " -0.09  0.87  4.47 -3.8   3.9  -3.04 -2.05  1.39  4.42 -1.41  1.22  0.15\n",
            "  2.97  1.93  0.47 -0.24  5.75  4.28  1.6  -1.05 -0.2   6.28  2.18 -1.98\n",
            " -3.09  3.11 -2.   -5.78  1.35 -0.5   2.35  0.53  3.95  2.41]\n",
            "-------------------------\n",
            "[ 0.   -0.02 -0.1   0.07 -0.13  0.04  0.07 -0.07  0.02  0.06 -0.04 -0.16\n",
            " -0.03 -0.11 -0.24  0.23  0.12  0.05 -0.02  0.06 -0.06 -0.16  0.11 -0.06\n",
            "  0.05 -0.13 -0.08 -0.01 -0.01 -0.03 -0.06 -0.09  0.01 -0.08 -0.22  0.21\n",
            " -0.01  0.09  0.03 -0.04 -0.02 -0.08  0.02  0.01  0.01 -0.14  0.06 -0.04\n",
            "  0.01 -0.03 -0.01 -0.02  0.03 -0.17  0.02 -0.17  0.03  0.15  0.05 -0.27\n",
            " -0.2   0.36  0.13  0.16 -0.12 -0.13 -0.01  0.11 -0.05  0.11 -0.11  0.01\n",
            "  0.02 -0.05 -0.17  0.14 -0.15  0.13  0.06 -0.05 -0.16  0.05 -0.05 -0.01\n",
            " -0.13 -0.07 -0.01  0.   -0.24 -0.17 -0.08  0.05  0.   -0.26 -0.1   0.08\n",
            "  0.14 -0.15  0.04  0.23 -0.04  0.02 -0.1  -0.04 -0.18 -0.09]\n"
          ],
          "name": "stdout"
        }
      ]
    },
    {
      "cell_type": "code",
      "metadata": {
        "id": "j2GHt6_yClWW",
        "colab": {
          "base_uri": "https://localhost:8080/"
        },
        "outputId": "0b9fbfa4-7a9e-4b88-f64a-d078be02f01f"
      },
      "source": [
        "i = len(Xpred)\n",
        "j = len(y_actual)\n",
        "k = len(yb_actual)\n",
        "\n",
        "print(i, j, k)"
      ],
      "execution_count": null,
      "outputs": [
        {
          "output_type": "stream",
          "text": [
            "106 106 106\n"
          ],
          "name": "stdout"
        }
      ]
    },
    {
      "cell_type": "markdown",
      "metadata": {
        "id": "agrPLswhEQYf"
      },
      "source": [
        "#Generate predictions\n",
        "\n",
        "Predictions are made for both continuous and binary"
      ]
    },
    {
      "cell_type": "code",
      "metadata": {
        "id": "sJYXf1mKU9t2",
        "colab": {
          "base_uri": "https://localhost:8080/"
        },
        "outputId": "ad203c9e-432f-4952-8afb-378a5a9d5b69"
      },
      "source": [
        "y_1_pred = regressor.predict(X_pred)\n",
        "\n",
        "y_2_pred = regressor_b.predict(X_pred)\n",
        "\n",
        "#y_all_pred = regressor_all.predict(X_all_pred)\n",
        "\n",
        "#y_all_pred_b = regressor_all_b.predict(X_all_pred)\n",
        "\n",
        "np_array = np.concatenate((y_1_pred.reshape(len(y_1_pred),1), \n",
        "                           y_2_pred.reshape(len(y_2_pred),1),\n",
        "                           y_actual.reshape(len(y_actual),1),\n",
        "                           yb_actual.reshape(len(yb_actual),1),\n",
        "                           ), axis = 1)\n",
        "\n",
        "results = pd.DataFrame(np_array, columns = ['y_1_pred', 'y_2_pred', 'y_1_actual', 'y_2_actual'])\n",
        "\n",
        "#########################need to shift y values up by one\n",
        "\n",
        "\n",
        "sp500_pred = results.head(5)\n",
        "\n",
        "print(results)\n"
      ],
      "execution_count": null,
      "outputs": [
        {
          "output_type": "stream",
          "text": [
            "     y_1_pred  y_2_pred  y_1_actual  y_2_actual\n",
            "0    -0.17100    -0.074        0.00        0.00\n",
            "1     0.24000    -0.067        0.73       -0.02\n",
            "2     1.56900    -0.010        2.78       -0.10\n",
            "3    -0.87600     0.041       -2.17        0.07\n",
            "4     1.14100    -0.095        3.56       -0.13\n",
            "..        ...       ...         ...         ...\n",
            "101  -1.63000     0.060       -0.50        0.02\n",
            "102   1.64700    -0.049        2.35       -0.10\n",
            "103   0.93100    -0.140        0.53       -0.04\n",
            "104  -0.10808    -0.043        3.95       -0.18\n",
            "105  -0.80800     0.031        2.41       -0.09\n",
            "\n",
            "[106 rows x 4 columns]\n"
          ],
          "name": "stdout"
        }
      ]
    },
    {
      "cell_type": "markdown",
      "metadata": {
        "id": "o-3X7j0LFdm3"
      },
      "source": [
        "#Create buy/sell indicator/strategy based on pred\n",
        "\n",
        "0 = Buy nothing\n",
        "\n",
        "1 = Buy market\n",
        "\n",
        "2 = Buy market short\n",
        "\n"
      ]
    },
    {
      "cell_type": "code",
      "metadata": {
        "id": "UGmNBoUvD3ee",
        "colab": {
          "base_uri": "https://localhost:8080/",
          "height": 419
        },
        "outputId": "ffbb99b1-bf0b-4935-e749-eb4b67cf0c36"
      },
      "source": [
        "results['y_gain_pred_arg'] = np.where((np.where(results['y_1_pred'] > 0, 1, 0) + np.where(results['y_2_pred'] > 0, 1, 0)) > 0, 1, 0)\n",
        "results['purchase'] = np.where(results['y_gain_pred_arg'] > 0, np.where(results['y_1_pred'] > results['y_2_pred'], 1, 2), 0)\n",
        "results['Close_1'] = Xpred['Close_1']\n",
        "results['Close_2'] = Xpred['Close_2']\n",
        "results['market'] = results['y_1_actual']/results['Close_1']\n",
        "results['purchase_gain_loss'] = np.where(results['purchase'] == 1, #Change these between 1, 2 and 0 to alter the model behavior\n",
        "                                         results['y_1_actual']/results['Close_1'], \n",
        "                                         np.where(results['purchase'] == 2, #Change these between 1, 2 and 0 to alter the model behavior\n",
        "                                                  results['y_2_actual']/results['Close_2'], 0)) #Change these between 1, 2 and 0 to alter the model behavior\n",
        "results['market_cumu'] = results.market[::-1].cumsum()\n",
        "results['purchase_gain_loss_cumu'] = results.purchase_gain_loss[::-1].cumsum()\n",
        "\n",
        "results"
      ],
      "execution_count": null,
      "outputs": [
        {
          "output_type": "execute_result",
          "data": {
            "text/html": [
              "<div>\n",
              "<style scoped>\n",
              "    .dataframe tbody tr th:only-of-type {\n",
              "        vertical-align: middle;\n",
              "    }\n",
              "\n",
              "    .dataframe tbody tr th {\n",
              "        vertical-align: top;\n",
              "    }\n",
              "\n",
              "    .dataframe thead th {\n",
              "        text-align: right;\n",
              "    }\n",
              "</style>\n",
              "<table border=\"1\" class=\"dataframe\">\n",
              "  <thead>\n",
              "    <tr style=\"text-align: right;\">\n",
              "      <th></th>\n",
              "      <th>y_1_pred</th>\n",
              "      <th>y_2_pred</th>\n",
              "      <th>y_1_actual</th>\n",
              "      <th>y_2_actual</th>\n",
              "      <th>y_gain_pred_arg</th>\n",
              "      <th>purchase</th>\n",
              "      <th>Close_1</th>\n",
              "      <th>Close_2</th>\n",
              "      <th>market</th>\n",
              "      <th>purchase_gain_loss</th>\n",
              "      <th>market_cumu</th>\n",
              "      <th>purchase_gain_loss_cumu</th>\n",
              "    </tr>\n",
              "  </thead>\n",
              "  <tbody>\n",
              "    <tr>\n",
              "      <th>0</th>\n",
              "      <td>-0.17100</td>\n",
              "      <td>-0.074</td>\n",
              "      <td>0.00</td>\n",
              "      <td>0.00</td>\n",
              "      <td>0</td>\n",
              "      <td>0</td>\n",
              "      <td>442.49</td>\n",
              "      <td>14.86</td>\n",
              "      <td>0.000000</td>\n",
              "      <td>0.000000</td>\n",
              "      <td>0.136208</td>\n",
              "      <td>0.084649</td>\n",
              "    </tr>\n",
              "    <tr>\n",
              "      <th>1</th>\n",
              "      <td>0.24000</td>\n",
              "      <td>-0.067</td>\n",
              "      <td>0.73</td>\n",
              "      <td>-0.02</td>\n",
              "      <td>1</td>\n",
              "      <td>1</td>\n",
              "      <td>441.76</td>\n",
              "      <td>14.88</td>\n",
              "      <td>0.001652</td>\n",
              "      <td>0.001652</td>\n",
              "      <td>0.136208</td>\n",
              "      <td>0.084649</td>\n",
              "    </tr>\n",
              "    <tr>\n",
              "      <th>2</th>\n",
              "      <td>1.56900</td>\n",
              "      <td>-0.010</td>\n",
              "      <td>2.78</td>\n",
              "      <td>-0.10</td>\n",
              "      <td>1</td>\n",
              "      <td>1</td>\n",
              "      <td>438.98</td>\n",
              "      <td>14.98</td>\n",
              "      <td>0.006333</td>\n",
              "      <td>0.006333</td>\n",
              "      <td>0.134556</td>\n",
              "      <td>0.082997</td>\n",
              "    </tr>\n",
              "    <tr>\n",
              "      <th>3</th>\n",
              "      <td>-0.87600</td>\n",
              "      <td>0.041</td>\n",
              "      <td>-2.17</td>\n",
              "      <td>0.07</td>\n",
              "      <td>1</td>\n",
              "      <td>2</td>\n",
              "      <td>441.15</td>\n",
              "      <td>14.91</td>\n",
              "      <td>-0.004919</td>\n",
              "      <td>0.004695</td>\n",
              "      <td>0.128223</td>\n",
              "      <td>0.076664</td>\n",
              "    </tr>\n",
              "    <tr>\n",
              "      <th>4</th>\n",
              "      <td>1.14100</td>\n",
              "      <td>-0.095</td>\n",
              "      <td>3.56</td>\n",
              "      <td>-0.13</td>\n",
              "      <td>1</td>\n",
              "      <td>1</td>\n",
              "      <td>437.59</td>\n",
              "      <td>15.04</td>\n",
              "      <td>0.008135</td>\n",
              "      <td>0.008135</td>\n",
              "      <td>0.133142</td>\n",
              "      <td>0.071969</td>\n",
              "    </tr>\n",
              "    <tr>\n",
              "      <th>...</th>\n",
              "      <td>...</td>\n",
              "      <td>...</td>\n",
              "      <td>...</td>\n",
              "      <td>...</td>\n",
              "      <td>...</td>\n",
              "      <td>...</td>\n",
              "      <td>...</td>\n",
              "      <td>...</td>\n",
              "      <td>...</td>\n",
              "      <td>...</td>\n",
              "      <td>...</td>\n",
              "      <td>...</td>\n",
              "    </tr>\n",
              "    <tr>\n",
              "      <th>101</th>\n",
              "      <td>-1.63000</td>\n",
              "      <td>0.060</td>\n",
              "      <td>-0.50</td>\n",
              "      <td>0.02</td>\n",
              "      <td>1</td>\n",
              "      <td>2</td>\n",
              "      <td>396.41</td>\n",
              "      <td>16.83</td>\n",
              "      <td>-0.001261</td>\n",
              "      <td>0.001188</td>\n",
              "      <td>0.022413</td>\n",
              "      <td>0.003278</td>\n",
              "    </tr>\n",
              "    <tr>\n",
              "      <th>102</th>\n",
              "      <td>1.64700</td>\n",
              "      <td>-0.049</td>\n",
              "      <td>2.35</td>\n",
              "      <td>-0.10</td>\n",
              "      <td>1</td>\n",
              "      <td>1</td>\n",
              "      <td>394.06</td>\n",
              "      <td>16.93</td>\n",
              "      <td>0.005964</td>\n",
              "      <td>0.005964</td>\n",
              "      <td>0.023674</td>\n",
              "      <td>0.002090</td>\n",
              "    </tr>\n",
              "    <tr>\n",
              "      <th>103</th>\n",
              "      <td>0.93100</td>\n",
              "      <td>-0.140</td>\n",
              "      <td>0.53</td>\n",
              "      <td>-0.04</td>\n",
              "      <td>1</td>\n",
              "      <td>1</td>\n",
              "      <td>393.53</td>\n",
              "      <td>16.97</td>\n",
              "      <td>0.001347</td>\n",
              "      <td>0.001347</td>\n",
              "      <td>0.017711</td>\n",
              "      <td>-0.003874</td>\n",
              "    </tr>\n",
              "    <tr>\n",
              "      <th>104</th>\n",
              "      <td>-0.10808</td>\n",
              "      <td>-0.043</td>\n",
              "      <td>3.95</td>\n",
              "      <td>-0.18</td>\n",
              "      <td>0</td>\n",
              "      <td>0</td>\n",
              "      <td>389.58</td>\n",
              "      <td>17.15</td>\n",
              "      <td>0.010139</td>\n",
              "      <td>0.000000</td>\n",
              "      <td>0.016364</td>\n",
              "      <td>-0.005220</td>\n",
              "    </tr>\n",
              "    <tr>\n",
              "      <th>105</th>\n",
              "      <td>-0.80800</td>\n",
              "      <td>0.031</td>\n",
              "      <td>2.41</td>\n",
              "      <td>-0.09</td>\n",
              "      <td>1</td>\n",
              "      <td>2</td>\n",
              "      <td>387.17</td>\n",
              "      <td>17.24</td>\n",
              "      <td>0.006225</td>\n",
              "      <td>-0.005220</td>\n",
              "      <td>0.006225</td>\n",
              "      <td>-0.005220</td>\n",
              "    </tr>\n",
              "  </tbody>\n",
              "</table>\n",
              "<p>106 rows × 12 columns</p>\n",
              "</div>"
            ],
            "text/plain": [
              "     y_1_pred  y_2_pred  ...  market_cumu  purchase_gain_loss_cumu\n",
              "0    -0.17100    -0.074  ...     0.136208                 0.084649\n",
              "1     0.24000    -0.067  ...     0.136208                 0.084649\n",
              "2     1.56900    -0.010  ...     0.134556                 0.082997\n",
              "3    -0.87600     0.041  ...     0.128223                 0.076664\n",
              "4     1.14100    -0.095  ...     0.133142                 0.071969\n",
              "..        ...       ...  ...          ...                      ...\n",
              "101  -1.63000     0.060  ...     0.022413                 0.003278\n",
              "102   1.64700    -0.049  ...     0.023674                 0.002090\n",
              "103   0.93100    -0.140  ...     0.017711                -0.003874\n",
              "104  -0.10808    -0.043  ...     0.016364                -0.005220\n",
              "105  -0.80800     0.031  ...     0.006225                -0.005220\n",
              "\n",
              "[106 rows x 12 columns]"
            ]
          },
          "metadata": {
            "tags": []
          },
          "execution_count": 741
        }
      ]
    },
    {
      "cell_type": "code",
      "metadata": {
        "id": "x1sxZIZRJrCl"
      },
      "source": [
        "results['market_cumu'] = results.market[::-1].cumsum()\n",
        "results['purchase_gain_loss_cumu'] = results.purchase_gain_loss[::-1].cumsum()"
      ],
      "execution_count": null,
      "outputs": []
    },
    {
      "cell_type": "code",
      "metadata": {
        "colab": {
          "base_uri": "https://localhost:8080/",
          "height": 419
        },
        "id": "EzunEjyZ3BtJ",
        "outputId": "45214557-b12d-4d60-bcd2-e5b2db803556"
      },
      "source": [
        "results"
      ],
      "execution_count": null,
      "outputs": [
        {
          "output_type": "execute_result",
          "data": {
            "text/html": [
              "<div>\n",
              "<style scoped>\n",
              "    .dataframe tbody tr th:only-of-type {\n",
              "        vertical-align: middle;\n",
              "    }\n",
              "\n",
              "    .dataframe tbody tr th {\n",
              "        vertical-align: top;\n",
              "    }\n",
              "\n",
              "    .dataframe thead th {\n",
              "        text-align: right;\n",
              "    }\n",
              "</style>\n",
              "<table border=\"1\" class=\"dataframe\">\n",
              "  <thead>\n",
              "    <tr style=\"text-align: right;\">\n",
              "      <th></th>\n",
              "      <th>y_1_pred</th>\n",
              "      <th>y_2_pred</th>\n",
              "      <th>y_1_actual</th>\n",
              "      <th>y_2_actual</th>\n",
              "      <th>y_gain_pred_arg</th>\n",
              "      <th>purchase</th>\n",
              "      <th>Close_1</th>\n",
              "      <th>Close_2</th>\n",
              "      <th>market</th>\n",
              "      <th>purchase_gain_loss</th>\n",
              "      <th>market_cumu</th>\n",
              "      <th>purchase_gain_loss_cumu</th>\n",
              "    </tr>\n",
              "  </thead>\n",
              "  <tbody>\n",
              "    <tr>\n",
              "      <th>0</th>\n",
              "      <td>-0.17100</td>\n",
              "      <td>-0.074</td>\n",
              "      <td>0.00</td>\n",
              "      <td>0.00</td>\n",
              "      <td>0</td>\n",
              "      <td>0</td>\n",
              "      <td>442.49</td>\n",
              "      <td>14.86</td>\n",
              "      <td>0.000000</td>\n",
              "      <td>0.000000</td>\n",
              "      <td>0.136208</td>\n",
              "      <td>0.084649</td>\n",
              "    </tr>\n",
              "    <tr>\n",
              "      <th>1</th>\n",
              "      <td>0.24000</td>\n",
              "      <td>-0.067</td>\n",
              "      <td>0.73</td>\n",
              "      <td>-0.02</td>\n",
              "      <td>1</td>\n",
              "      <td>1</td>\n",
              "      <td>441.76</td>\n",
              "      <td>14.88</td>\n",
              "      <td>0.001652</td>\n",
              "      <td>0.001652</td>\n",
              "      <td>0.136208</td>\n",
              "      <td>0.084649</td>\n",
              "    </tr>\n",
              "    <tr>\n",
              "      <th>2</th>\n",
              "      <td>1.56900</td>\n",
              "      <td>-0.010</td>\n",
              "      <td>2.78</td>\n",
              "      <td>-0.10</td>\n",
              "      <td>1</td>\n",
              "      <td>1</td>\n",
              "      <td>438.98</td>\n",
              "      <td>14.98</td>\n",
              "      <td>0.006333</td>\n",
              "      <td>0.006333</td>\n",
              "      <td>0.134556</td>\n",
              "      <td>0.082997</td>\n",
              "    </tr>\n",
              "    <tr>\n",
              "      <th>3</th>\n",
              "      <td>-0.87600</td>\n",
              "      <td>0.041</td>\n",
              "      <td>-2.17</td>\n",
              "      <td>0.07</td>\n",
              "      <td>1</td>\n",
              "      <td>2</td>\n",
              "      <td>441.15</td>\n",
              "      <td>14.91</td>\n",
              "      <td>-0.004919</td>\n",
              "      <td>0.004695</td>\n",
              "      <td>0.128223</td>\n",
              "      <td>0.076664</td>\n",
              "    </tr>\n",
              "    <tr>\n",
              "      <th>4</th>\n",
              "      <td>1.14100</td>\n",
              "      <td>-0.095</td>\n",
              "      <td>3.56</td>\n",
              "      <td>-0.13</td>\n",
              "      <td>1</td>\n",
              "      <td>1</td>\n",
              "      <td>437.59</td>\n",
              "      <td>15.04</td>\n",
              "      <td>0.008135</td>\n",
              "      <td>0.008135</td>\n",
              "      <td>0.133142</td>\n",
              "      <td>0.071969</td>\n",
              "    </tr>\n",
              "    <tr>\n",
              "      <th>...</th>\n",
              "      <td>...</td>\n",
              "      <td>...</td>\n",
              "      <td>...</td>\n",
              "      <td>...</td>\n",
              "      <td>...</td>\n",
              "      <td>...</td>\n",
              "      <td>...</td>\n",
              "      <td>...</td>\n",
              "      <td>...</td>\n",
              "      <td>...</td>\n",
              "      <td>...</td>\n",
              "      <td>...</td>\n",
              "    </tr>\n",
              "    <tr>\n",
              "      <th>101</th>\n",
              "      <td>-1.63000</td>\n",
              "      <td>0.060</td>\n",
              "      <td>-0.50</td>\n",
              "      <td>0.02</td>\n",
              "      <td>1</td>\n",
              "      <td>2</td>\n",
              "      <td>396.41</td>\n",
              "      <td>16.83</td>\n",
              "      <td>-0.001261</td>\n",
              "      <td>0.001188</td>\n",
              "      <td>0.022413</td>\n",
              "      <td>0.003278</td>\n",
              "    </tr>\n",
              "    <tr>\n",
              "      <th>102</th>\n",
              "      <td>1.64700</td>\n",
              "      <td>-0.049</td>\n",
              "      <td>2.35</td>\n",
              "      <td>-0.10</td>\n",
              "      <td>1</td>\n",
              "      <td>1</td>\n",
              "      <td>394.06</td>\n",
              "      <td>16.93</td>\n",
              "      <td>0.005964</td>\n",
              "      <td>0.005964</td>\n",
              "      <td>0.023674</td>\n",
              "      <td>0.002090</td>\n",
              "    </tr>\n",
              "    <tr>\n",
              "      <th>103</th>\n",
              "      <td>0.93100</td>\n",
              "      <td>-0.140</td>\n",
              "      <td>0.53</td>\n",
              "      <td>-0.04</td>\n",
              "      <td>1</td>\n",
              "      <td>1</td>\n",
              "      <td>393.53</td>\n",
              "      <td>16.97</td>\n",
              "      <td>0.001347</td>\n",
              "      <td>0.001347</td>\n",
              "      <td>0.017711</td>\n",
              "      <td>-0.003874</td>\n",
              "    </tr>\n",
              "    <tr>\n",
              "      <th>104</th>\n",
              "      <td>-0.10808</td>\n",
              "      <td>-0.043</td>\n",
              "      <td>3.95</td>\n",
              "      <td>-0.18</td>\n",
              "      <td>0</td>\n",
              "      <td>0</td>\n",
              "      <td>389.58</td>\n",
              "      <td>17.15</td>\n",
              "      <td>0.010139</td>\n",
              "      <td>0.000000</td>\n",
              "      <td>0.016364</td>\n",
              "      <td>-0.005220</td>\n",
              "    </tr>\n",
              "    <tr>\n",
              "      <th>105</th>\n",
              "      <td>-0.80800</td>\n",
              "      <td>0.031</td>\n",
              "      <td>2.41</td>\n",
              "      <td>-0.09</td>\n",
              "      <td>1</td>\n",
              "      <td>2</td>\n",
              "      <td>387.17</td>\n",
              "      <td>17.24</td>\n",
              "      <td>0.006225</td>\n",
              "      <td>-0.005220</td>\n",
              "      <td>0.006225</td>\n",
              "      <td>-0.005220</td>\n",
              "    </tr>\n",
              "  </tbody>\n",
              "</table>\n",
              "<p>106 rows × 12 columns</p>\n",
              "</div>"
            ],
            "text/plain": [
              "     y_1_pred  y_2_pred  ...  market_cumu  purchase_gain_loss_cumu\n",
              "0    -0.17100    -0.074  ...     0.136208                 0.084649\n",
              "1     0.24000    -0.067  ...     0.136208                 0.084649\n",
              "2     1.56900    -0.010  ...     0.134556                 0.082997\n",
              "3    -0.87600     0.041  ...     0.128223                 0.076664\n",
              "4     1.14100    -0.095  ...     0.133142                 0.071969\n",
              "..        ...       ...  ...          ...                      ...\n",
              "101  -1.63000     0.060  ...     0.022413                 0.003278\n",
              "102   1.64700    -0.049  ...     0.023674                 0.002090\n",
              "103   0.93100    -0.140  ...     0.017711                -0.003874\n",
              "104  -0.10808    -0.043  ...     0.016364                -0.005220\n",
              "105  -0.80800     0.031  ...     0.006225                -0.005220\n",
              "\n",
              "[106 rows x 12 columns]"
            ]
          },
          "metadata": {
            "tags": []
          },
          "execution_count": 743
        }
      ]
    },
    {
      "cell_type": "markdown",
      "metadata": {
        "id": "5teAplemSXTI"
      },
      "source": [
        "The following section should be turned into a loop"
      ]
    },
    {
      "cell_type": "code",
      "metadata": {
        "id": "ptcaYXPj-FvH",
        "colab": {
          "base_uri": "https://localhost:8080/",
          "height": 282
        },
        "outputId": "fce6e8bb-a844-4249-9882-9774bfca2893"
      },
      "source": [
        "plt.plot(results['market_cumu'], color='black')\n",
        "plt.plot(results['purchase_gain_loss_cumu'], color='red')\n"
      ],
      "execution_count": null,
      "outputs": [
        {
          "output_type": "execute_result",
          "data": {
            "text/plain": [
              "[<matplotlib.lines.Line2D at 0x7fd52059cbd0>]"
            ]
          },
          "metadata": {
            "tags": []
          },
          "execution_count": 744
        },
        {
          "output_type": "display_data",
          "data": {
            "image/png": "[encoded data removed]",
            "text/plain": [
              "<Figure size 432x288 with 1 Axes>"
            ]
          },
          "metadata": {
            "tags": [],
            "needs_background": "light"
          }
        }
      ]
    },
    {
      "cell_type": "code",
      "metadata": {
        "id": "-N1HSPFzYmaf"
      },
      "source": [
        "#results.to_csv('/content/drive/MyDrive/Colab Notebooks/results_sky_hibs_20160101-20210803_.csv')\n",
        "#performance.to_csv('/content/drive/MyDrive/Colab Notebooks/performance_sky_hibs_20190101-20210803_.csv')"
      ],
      "execution_count": null,
      "outputs": []
    }
  ]
}