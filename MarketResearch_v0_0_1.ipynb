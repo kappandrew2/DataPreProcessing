{
  "nbformat": 4,
  "nbformat_minor": 0,
  "metadata": {
    "colab": {
      "name": "MarketResearch.ipynb",
      "provenance": [],
      "collapsed_sections": [],
      "history_visible": true,
      "authorship_tag": "ABX9TyMR2WXBNfsQmA/hFNPR1QzQ",
      "include_colab_link": true
    },
    "kernelspec": {
      "name": "python3",
      "display_name": "Python 3"
    },
    "language_info": {
      "name": "python"
    }
  },
  "cells": [
    {
      "cell_type": "markdown",
      "metadata": {
        "id": "view-in-github",
        "colab_type": "text"
      },
      "source": [
        "<a href=\"https://colab.research.google.com/github/kappandrew2/DataPreProcessing/blob/main/MarketResearch_v0_0_1.ipynb\" target=\"_parent\"><img src=\"https://colab.research.google.com/assets/colab-badge.svg\" alt=\"Open In Colab\"/></a>"
      ]
    },
    {
      "cell_type": "markdown",
      "metadata": {
        "id": "1mSu-6RRLTR1"
      },
      "source": [
        "#Model Purpose\n",
        "\n",
        "Utilize historical value and time attributes to predict the next day's gain or loss value"
      ]
    },
    {
      "cell_type": "code",
      "metadata": {
        "id": "lx9d2QEa6mXf"
      },
      "source": [
        "import numpy as np\n",
        "import matplotlib.pyplot as plt\n",
        "import pandas as pd\n",
        "import datetime\n",
        "from sklearn.model_selection import train_test_split"
      ],
      "execution_count": 46,
      "outputs": []
    },
    {
      "cell_type": "markdown",
      "metadata": {
        "id": "6mLzKv5BGUUZ"
      },
      "source": [
        "#Connect to drive and import data set\n",
        "\n",
        "Using google drive\n",
        "\n",
        "Importing historical prices for ticker \"SPY\""
      ]
    },
    {
      "cell_type": "code",
      "metadata": {
        "colab": {
          "base_uri": "https://localhost:8080/"
        },
        "id": "LAo4DboL6vQh",
        "outputId": "c7fecf33-bd91-4db3-80e5-34d79829b064"
      },
      "source": [
        "#Create CSV from data export\n",
        "#https://www.wsj.com/market-data/quotes/index/SPX/historical-prices\n",
        "\n",
        "from google.colab import drive\n",
        "drive.mount('/content/drive', force_remount=True)\n",
        "\n",
        "dataset = pd.read_csv('/content/drive/MyDrive/Colab Notebooks/HistoricalPricesSPY.csv')\n",
        "\n",
        "print(dataset)"
      ],
      "execution_count": 47,
      "outputs": [
        {
          "output_type": "stream",
          "text": [
            "Mounted at /content/drive\n",
            "          Date     Open      High     Low   Close     Volume\n",
            "0     07/29/21  439.815  441.8000  439.81  440.65   46716900\n",
            "1     07/28/21  439.680  440.3000  437.31  438.83   52472359\n",
            "2     07/27/21  439.910  439.9400  435.99  439.01   67397133\n",
            "3     07/26/21  439.310  441.0300  439.26  441.02   43719191\n",
            "4     07/23/21  437.520  440.3000  436.79  439.94   63766641\n",
            "...        ...      ...       ...     ...     ...        ...\n",
            "3433  12/07/07  151.420  151.5000  150.55  150.91  148951391\n",
            "3434  12/06/07  148.630  151.2100  148.57  150.94  154487203\n",
            "3435  12/05/07  147.930  149.2000  147.83  148.81  170813406\n",
            "3436  12/04/07  146.660  147.5409  146.31  146.36  136528609\n",
            "3437  12/03/07  148.190  148.4500  147.29  147.68  145852797\n",
            "\n",
            "[3438 rows x 6 columns]\n"
          ],
          "name": "stdout"
        }
      ]
    },
    {
      "cell_type": "markdown",
      "metadata": {
        "id": "ZWGjihLGGnuD"
      },
      "source": [
        "#Modifiy dataset Content and Headers\n",
        "\n",
        "Remove contents not required for this exercise\n",
        "\n",
        "Renaming columns to remove leading white space"
      ]
    },
    {
      "cell_type": "code",
      "metadata": {
        "id": "4_0Dq0yU7GHg"
      },
      "source": [
        "dataset = dataset.drop([' Open', ' High', ' Low', ' Volume'], axis = 1)\n",
        "\n",
        "dataset.rename({' Close': 'Close'}, axis=1, inplace = True)\n"
      ],
      "execution_count": 48,
      "outputs": []
    },
    {
      "cell_type": "markdown",
      "metadata": {
        "id": "V9Wa2WYcG1Og"
      },
      "source": [
        "#Dataset information validation\n",
        "\n",
        "Validate date frame, column contents and data types"
      ]
    },
    {
      "cell_type": "code",
      "metadata": {
        "colab": {
          "base_uri": "https://localhost:8080/"
        },
        "id": "QjAXsP-j7Ysg",
        "outputId": "5813e9da-5023-4279-d938-cb12bb1152cc"
      },
      "source": [
        "dataset['Date'] = pd.to_datetime(dataset['Date'])\n",
        "\n",
        "dataset.info()"
      ],
      "execution_count": 49,
      "outputs": [
        {
          "output_type": "stream",
          "text": [
            "<class 'pandas.core.frame.DataFrame'>\n",
            "RangeIndex: 3438 entries, 0 to 3437\n",
            "Data columns (total 2 columns):\n",
            " #   Column  Non-Null Count  Dtype         \n",
            "---  ------  --------------  -----         \n",
            " 0   Date    3438 non-null   datetime64[ns]\n",
            " 1   Close   3438 non-null   float64       \n",
            "dtypes: datetime64[ns](1), float64(1)\n",
            "memory usage: 53.8 KB\n"
          ],
          "name": "stdout"
        }
      ]
    },
    {
      "cell_type": "markdown",
      "metadata": {
        "id": "jQhfTiNaHCIQ"
      },
      "source": [
        "#Change indext to date\n",
        "\n",
        "Moving date to the index assists in visually validating processes are working correctly"
      ]
    },
    {
      "cell_type": "code",
      "metadata": {
        "colab": {
          "base_uri": "https://localhost:8080/"
        },
        "id": "yGn3MhfX4r7n",
        "outputId": "1018a71b-446e-4ce5-d21e-94ad626c76b7"
      },
      "source": [
        "dataset['Date_Index'] = dataset['Date']\n",
        "dataset.set_index('Date_Index', inplace=True)\n",
        "\n",
        "dataset.info()"
      ],
      "execution_count": 50,
      "outputs": [
        {
          "output_type": "stream",
          "text": [
            "<class 'pandas.core.frame.DataFrame'>\n",
            "DatetimeIndex: 3438 entries, 2021-07-29 to 2007-12-03\n",
            "Data columns (total 2 columns):\n",
            " #   Column  Non-Null Count  Dtype         \n",
            "---  ------  --------------  -----         \n",
            " 0   Date    3438 non-null   datetime64[ns]\n",
            " 1   Close   3438 non-null   float64       \n",
            "dtypes: datetime64[ns](1), float64(1)\n",
            "memory usage: 80.6 KB\n"
          ],
          "name": "stdout"
        }
      ]
    },
    {
      "cell_type": "markdown",
      "metadata": {
        "id": "5NF3DoJCHWFM"
      },
      "source": [
        "#Create time attributes\n",
        "\n",
        "Time attributes will change date from a continous variable into discrete (a numeric categorical value)"
      ]
    },
    {
      "cell_type": "code",
      "metadata": {
        "colab": {
          "base_uri": "https://localhost:8080/"
        },
        "id": "BTr8otxU7gU5",
        "outputId": "e8793ba3-e1df-45f4-a524-04a9c5bc5831"
      },
      "source": [
        "dataset['DOW'] = dataset['Date'].dt.dayofweek\n",
        "dataset['DOY'] = dataset['Date'].dt.dayofyear\n",
        "dataset['Week'] = dataset['Date'].dt.week\n",
        "dataset['Month'] = dataset['Date'].dt.month\n",
        "dataset['Quarter'] = dataset['Date'].dt.quarter\n",
        "\n",
        "dataset.dtypes"
      ],
      "execution_count": 51,
      "outputs": [
        {
          "output_type": "stream",
          "text": [
            "/usr/local/lib/python3.7/dist-packages/ipykernel_launcher.py:3: FutureWarning: Series.dt.weekofyear and Series.dt.week have been deprecated.  Please use Series.dt.isocalendar().week instead.\n",
            "  This is separate from the ipykernel package so we can avoid doing imports until\n"
          ],
          "name": "stderr"
        },
        {
          "output_type": "execute_result",
          "data": {
            "text/plain": [
              "Date       datetime64[ns]\n",
              "Close             float64\n",
              "DOW                 int64\n",
              "DOY                 int64\n",
              "Week                int64\n",
              "Month               int64\n",
              "Quarter             int64\n",
              "dtype: object"
            ]
          },
          "metadata": {
            "tags": []
          },
          "execution_count": 51
        }
      ]
    },
    {
      "cell_type": "markdown",
      "metadata": {
        "id": "GXUsxdw9H7KW"
      },
      "source": [
        "#Create skip-day gain loss values (and dependant variable #1)\n",
        "\n",
        "!Note: gain-loss-0 will ultimately end up being the dependant variable but also an independant variable (we will create a new column later and shift it down a row)\n",
        "\n",
        "1) Calculate the first day's gain loss by subtracting day -1 from day 0\n",
        "\n",
        "2) Calculate the second day's gain loss by subtracting day -2 from day 0\n",
        "\n",
        "3) Calculate the third day's gain loss by subtracting day -n from day 0\n",
        "\n",
        "!Note: This should be turned into a loop using i=n where n = the rows to be processed (now many previous rows)\n",
        "\n",
        "\n"
      ]
    },
    {
      "cell_type": "code",
      "metadata": {
        "colab": {
          "base_uri": "https://localhost:8080/"
        },
        "id": "ko_KBr4W7rZW",
        "outputId": "f3dfb8b8-aaa6-4a65-af97-de53a087572e"
      },
      "source": [
        "dataset['gain_loss-0'] = dataset['Close'].diff(-1)\n",
        "dataset['gain_loss-1'] = dataset['Close'].diff(-2)\n",
        "#dataset['gain_loss-1'] = dataset['gain_loss-1'].shift(periods=-1, fill_value=0) #Removed these to experiment \n",
        "#with switching around the dependant variable rather than the independant variable\n",
        "dataset['gain_loss-2'] = dataset['Close'].diff(-3) \n",
        "#dataset['gain_loss-2'] = dataset['gain_loss-2'].shift(periods=-1, fill_value=0)\n",
        "dataset['gain_loss-3'] = dataset['Close'].diff(-4) \n",
        "#dataset['gain_loss-3'] = dataset['gain_loss-3'].shift(periods=-1, fill_value=0)\n",
        "dataset['gain_loss-4'] = dataset['Close'].diff(-5) \n",
        "#dataset['gain_loss-4'] = dataset['gain_loss-4'].shift(periods=-1, fill_value=0)\n",
        "\n",
        "print(dataset)\n",
        "#dataset.dtypes"
      ],
      "execution_count": 52,
      "outputs": [
        {
          "output_type": "stream",
          "text": [
            "                 Date   Close  DOW  ...  gain_loss-2  gain_loss-3  gain_loss-4\n",
            "Date_Index                          ...                                       \n",
            "2021-07-29 2021-07-29  440.65    3  ...        -0.37         0.71         5.19\n",
            "2021-07-28 2021-07-28  438.83    2  ...        -1.11         3.37         4.28\n",
            "2021-07-27 2021-07-27  439.01    1  ...         3.55         4.46         7.95\n",
            "2021-07-26 2021-07-26  441.02    0  ...         6.47         9.96        16.05\n",
            "2021-07-23 2021-07-23  439.94    4  ...         8.88        14.97         8.60\n",
            "...               ...     ...  ...  ...          ...          ...          ...\n",
            "2007-12-07 2007-12-07  150.91    4  ...         4.55         3.23          NaN\n",
            "2007-12-06 2007-12-06  150.94    3  ...         3.26          NaN          NaN\n",
            "2007-12-05 2007-12-05  148.81    2  ...          NaN          NaN          NaN\n",
            "2007-12-04 2007-12-04  146.36    1  ...          NaN          NaN          NaN\n",
            "2007-12-03 2007-12-03  147.68    0  ...          NaN          NaN          NaN\n",
            "\n",
            "[3438 rows x 12 columns]\n"
          ],
          "name": "stdout"
        }
      ]
    },
    {
      "cell_type": "markdown",
      "metadata": {
        "id": "tJLMlPczM8bw"
      },
      "source": [
        "#Create binary version of skip-day gain loss values (and dependant variable #2)\n",
        "\n",
        "!Note: gain-loss-0b will ultimately end up being the dependant variable but also an independant variable (we will create a new column later and shift it down a row)\n",
        "\n",
        "This process changes all gain loss continuous variables into a binary-descrete (dichotomous) variables\n",
        "\n",
        "!Note - This process should be converted into the previous process when that process is converted into a loop"
      ]
    },
    {
      "cell_type": "code",
      "metadata": {
        "colab": {
          "base_uri": "https://localhost:8080/"
        },
        "id": "8rnb0z4P8D79",
        "outputId": "b71fdf63-c8aa-4638-f9f4-e5e873af39ef"
      },
      "source": [
        "dataset['gain_loss-0b'] = np.where(dataset['gain_loss-0'] > 0, 1, 0)\n",
        "dataset['gain_loss-1b'] = np.where(dataset['gain_loss-1'] > 0, 1, 0)\n",
        "dataset['gain_loss-2b'] = np.where(dataset['gain_loss-2'] > 0, 1, 0)\n",
        "dataset['gain_loss-3b'] = np.where(dataset['gain_loss-3'] > 0, 1, 0)\n",
        "dataset['gain_loss-4b'] = np.where(dataset['gain_loss-4'] > 0, 1, 0)\n",
        "\n",
        "dataset.dtypes"
      ],
      "execution_count": 53,
      "outputs": [
        {
          "output_type": "execute_result",
          "data": {
            "text/plain": [
              "Date            datetime64[ns]\n",
              "Close                  float64\n",
              "DOW                      int64\n",
              "DOY                      int64\n",
              "Week                     int64\n",
              "Month                    int64\n",
              "Quarter                  int64\n",
              "gain_loss-0            float64\n",
              "gain_loss-1            float64\n",
              "gain_loss-2            float64\n",
              "gain_loss-3            float64\n",
              "gain_loss-4            float64\n",
              "gain_loss-0b             int64\n",
              "gain_loss-1b             int64\n",
              "gain_loss-2b             int64\n",
              "gain_loss-3b             int64\n",
              "gain_loss-4b             int64\n",
              "dtype: object"
            ]
          },
          "metadata": {
            "tags": []
          },
          "execution_count": 53
        }
      ]
    },
    {
      "cell_type": "markdown",
      "metadata": {
        "id": "qySpImzmN0ki"
      },
      "source": [
        "#Aggregate the binary skip-day gain loss values\n",
        "\n",
        "This creates a true categorical value from the binary descrete values.\n",
        "\n",
        "The theory is that, having binary values for each period (sparce matrix) and an aggregate (categorical), the values will work together to increase the value of this data\n",
        "\n",
        "!Note = This process should be indluded in the loop mentioned in notes from the above process (future modifications to the data pre-processing procedures)"
      ]
    },
    {
      "cell_type": "code",
      "metadata": {
        "colab": {
          "base_uri": "https://localhost:8080/",
          "height": 657
        },
        "id": "SzyHZx9vFIKb",
        "outputId": "437b3260-39e6-4f33-f611-7f5105ab91dd"
      },
      "source": [
        "dataset['gain_loss-total_b'] = dataset['gain_loss-0b'] + dataset['gain_loss-1b'] + dataset['gain_loss-2b'] + dataset['gain_loss-3b'] + dataset['gain_loss-4b']\n",
        "\n",
        "dataset.head(-1)"
      ],
      "execution_count": 55,
      "outputs": [
        {
          "output_type": "execute_result",
          "data": {
            "text/html": [
              "<div>\n",
              "<style scoped>\n",
              "    .dataframe tbody tr th:only-of-type {\n",
              "        vertical-align: middle;\n",
              "    }\n",
              "\n",
              "    .dataframe tbody tr th {\n",
              "        vertical-align: top;\n",
              "    }\n",
              "\n",
              "    .dataframe thead th {\n",
              "        text-align: right;\n",
              "    }\n",
              "</style>\n",
              "<table border=\"1\" class=\"dataframe\">\n",
              "  <thead>\n",
              "    <tr style=\"text-align: right;\">\n",
              "      <th></th>\n",
              "      <th>Date</th>\n",
              "      <th>Close</th>\n",
              "      <th>DOW</th>\n",
              "      <th>DOY</th>\n",
              "      <th>Week</th>\n",
              "      <th>Month</th>\n",
              "      <th>Quarter</th>\n",
              "      <th>gain_loss-0</th>\n",
              "      <th>gain_loss-1</th>\n",
              "      <th>gain_loss-2</th>\n",
              "      <th>gain_loss-3</th>\n",
              "      <th>gain_loss-4</th>\n",
              "      <th>gain_loss-0b</th>\n",
              "      <th>gain_loss-1b</th>\n",
              "      <th>gain_loss-2b</th>\n",
              "      <th>gain_loss-3b</th>\n",
              "      <th>gain_loss-4b</th>\n",
              "      <th>gain_loss-total_b</th>\n",
              "    </tr>\n",
              "    <tr>\n",
              "      <th>Date_Index</th>\n",
              "      <th></th>\n",
              "      <th></th>\n",
              "      <th></th>\n",
              "      <th></th>\n",
              "      <th></th>\n",
              "      <th></th>\n",
              "      <th></th>\n",
              "      <th></th>\n",
              "      <th></th>\n",
              "      <th></th>\n",
              "      <th></th>\n",
              "      <th></th>\n",
              "      <th></th>\n",
              "      <th></th>\n",
              "      <th></th>\n",
              "      <th></th>\n",
              "      <th></th>\n",
              "      <th></th>\n",
              "    </tr>\n",
              "  </thead>\n",
              "  <tbody>\n",
              "    <tr>\n",
              "      <th>2021-07-29</th>\n",
              "      <td>2021-07-29</td>\n",
              "      <td>440.65</td>\n",
              "      <td>3</td>\n",
              "      <td>210</td>\n",
              "      <td>30</td>\n",
              "      <td>7</td>\n",
              "      <td>3</td>\n",
              "      <td>1.82</td>\n",
              "      <td>1.64</td>\n",
              "      <td>-0.37</td>\n",
              "      <td>0.71</td>\n",
              "      <td>5.19</td>\n",
              "      <td>1</td>\n",
              "      <td>1</td>\n",
              "      <td>0</td>\n",
              "      <td>1</td>\n",
              "      <td>1</td>\n",
              "      <td>4</td>\n",
              "    </tr>\n",
              "    <tr>\n",
              "      <th>2021-07-28</th>\n",
              "      <td>2021-07-28</td>\n",
              "      <td>438.83</td>\n",
              "      <td>2</td>\n",
              "      <td>209</td>\n",
              "      <td>30</td>\n",
              "      <td>7</td>\n",
              "      <td>3</td>\n",
              "      <td>-0.18</td>\n",
              "      <td>-2.19</td>\n",
              "      <td>-1.11</td>\n",
              "      <td>3.37</td>\n",
              "      <td>4.28</td>\n",
              "      <td>0</td>\n",
              "      <td>0</td>\n",
              "      <td>0</td>\n",
              "      <td>1</td>\n",
              "      <td>1</td>\n",
              "      <td>2</td>\n",
              "    </tr>\n",
              "    <tr>\n",
              "      <th>2021-07-27</th>\n",
              "      <td>2021-07-27</td>\n",
              "      <td>439.01</td>\n",
              "      <td>1</td>\n",
              "      <td>208</td>\n",
              "      <td>30</td>\n",
              "      <td>7</td>\n",
              "      <td>3</td>\n",
              "      <td>-2.01</td>\n",
              "      <td>-0.93</td>\n",
              "      <td>3.55</td>\n",
              "      <td>4.46</td>\n",
              "      <td>7.95</td>\n",
              "      <td>0</td>\n",
              "      <td>0</td>\n",
              "      <td>1</td>\n",
              "      <td>1</td>\n",
              "      <td>1</td>\n",
              "      <td>3</td>\n",
              "    </tr>\n",
              "    <tr>\n",
              "      <th>2021-07-26</th>\n",
              "      <td>2021-07-26</td>\n",
              "      <td>441.02</td>\n",
              "      <td>0</td>\n",
              "      <td>207</td>\n",
              "      <td>30</td>\n",
              "      <td>7</td>\n",
              "      <td>3</td>\n",
              "      <td>1.08</td>\n",
              "      <td>5.56</td>\n",
              "      <td>6.47</td>\n",
              "      <td>9.96</td>\n",
              "      <td>16.05</td>\n",
              "      <td>1</td>\n",
              "      <td>1</td>\n",
              "      <td>1</td>\n",
              "      <td>1</td>\n",
              "      <td>1</td>\n",
              "      <td>5</td>\n",
              "    </tr>\n",
              "    <tr>\n",
              "      <th>2021-07-23</th>\n",
              "      <td>2021-07-23</td>\n",
              "      <td>439.94</td>\n",
              "      <td>4</td>\n",
              "      <td>204</td>\n",
              "      <td>29</td>\n",
              "      <td>7</td>\n",
              "      <td>3</td>\n",
              "      <td>4.48</td>\n",
              "      <td>5.39</td>\n",
              "      <td>8.88</td>\n",
              "      <td>14.97</td>\n",
              "      <td>8.60</td>\n",
              "      <td>1</td>\n",
              "      <td>1</td>\n",
              "      <td>1</td>\n",
              "      <td>1</td>\n",
              "      <td>1</td>\n",
              "      <td>5</td>\n",
              "    </tr>\n",
              "    <tr>\n",
              "      <th>...</th>\n",
              "      <td>...</td>\n",
              "      <td>...</td>\n",
              "      <td>...</td>\n",
              "      <td>...</td>\n",
              "      <td>...</td>\n",
              "      <td>...</td>\n",
              "      <td>...</td>\n",
              "      <td>...</td>\n",
              "      <td>...</td>\n",
              "      <td>...</td>\n",
              "      <td>...</td>\n",
              "      <td>...</td>\n",
              "      <td>...</td>\n",
              "      <td>...</td>\n",
              "      <td>...</td>\n",
              "      <td>...</td>\n",
              "      <td>...</td>\n",
              "      <td>...</td>\n",
              "    </tr>\n",
              "    <tr>\n",
              "      <th>2007-12-10</th>\n",
              "      <td>2007-12-10</td>\n",
              "      <td>152.08</td>\n",
              "      <td>0</td>\n",
              "      <td>344</td>\n",
              "      <td>50</td>\n",
              "      <td>12</td>\n",
              "      <td>4</td>\n",
              "      <td>1.17</td>\n",
              "      <td>1.14</td>\n",
              "      <td>3.27</td>\n",
              "      <td>5.72</td>\n",
              "      <td>4.40</td>\n",
              "      <td>1</td>\n",
              "      <td>1</td>\n",
              "      <td>1</td>\n",
              "      <td>1</td>\n",
              "      <td>1</td>\n",
              "      <td>5</td>\n",
              "    </tr>\n",
              "    <tr>\n",
              "      <th>2007-12-07</th>\n",
              "      <td>2007-12-07</td>\n",
              "      <td>150.91</td>\n",
              "      <td>4</td>\n",
              "      <td>341</td>\n",
              "      <td>49</td>\n",
              "      <td>12</td>\n",
              "      <td>4</td>\n",
              "      <td>-0.03</td>\n",
              "      <td>2.10</td>\n",
              "      <td>4.55</td>\n",
              "      <td>3.23</td>\n",
              "      <td>NaN</td>\n",
              "      <td>0</td>\n",
              "      <td>1</td>\n",
              "      <td>1</td>\n",
              "      <td>1</td>\n",
              "      <td>0</td>\n",
              "      <td>3</td>\n",
              "    </tr>\n",
              "    <tr>\n",
              "      <th>2007-12-06</th>\n",
              "      <td>2007-12-06</td>\n",
              "      <td>150.94</td>\n",
              "      <td>3</td>\n",
              "      <td>340</td>\n",
              "      <td>49</td>\n",
              "      <td>12</td>\n",
              "      <td>4</td>\n",
              "      <td>2.13</td>\n",
              "      <td>4.58</td>\n",
              "      <td>3.26</td>\n",
              "      <td>NaN</td>\n",
              "      <td>NaN</td>\n",
              "      <td>1</td>\n",
              "      <td>1</td>\n",
              "      <td>1</td>\n",
              "      <td>0</td>\n",
              "      <td>0</td>\n",
              "      <td>3</td>\n",
              "    </tr>\n",
              "    <tr>\n",
              "      <th>2007-12-05</th>\n",
              "      <td>2007-12-05</td>\n",
              "      <td>148.81</td>\n",
              "      <td>2</td>\n",
              "      <td>339</td>\n",
              "      <td>49</td>\n",
              "      <td>12</td>\n",
              "      <td>4</td>\n",
              "      <td>2.45</td>\n",
              "      <td>1.13</td>\n",
              "      <td>NaN</td>\n",
              "      <td>NaN</td>\n",
              "      <td>NaN</td>\n",
              "      <td>1</td>\n",
              "      <td>1</td>\n",
              "      <td>0</td>\n",
              "      <td>0</td>\n",
              "      <td>0</td>\n",
              "      <td>2</td>\n",
              "    </tr>\n",
              "    <tr>\n",
              "      <th>2007-12-04</th>\n",
              "      <td>2007-12-04</td>\n",
              "      <td>146.36</td>\n",
              "      <td>1</td>\n",
              "      <td>338</td>\n",
              "      <td>49</td>\n",
              "      <td>12</td>\n",
              "      <td>4</td>\n",
              "      <td>-1.32</td>\n",
              "      <td>NaN</td>\n",
              "      <td>NaN</td>\n",
              "      <td>NaN</td>\n",
              "      <td>NaN</td>\n",
              "      <td>0</td>\n",
              "      <td>0</td>\n",
              "      <td>0</td>\n",
              "      <td>0</td>\n",
              "      <td>0</td>\n",
              "      <td>0</td>\n",
              "    </tr>\n",
              "  </tbody>\n",
              "</table>\n",
              "<p>3437 rows × 18 columns</p>\n",
              "</div>"
            ],
            "text/plain": [
              "                 Date   Close  ...  gain_loss-4b  gain_loss-total_b\n",
              "Date_Index                     ...                                 \n",
              "2021-07-29 2021-07-29  440.65  ...             1                  4\n",
              "2021-07-28 2021-07-28  438.83  ...             1                  2\n",
              "2021-07-27 2021-07-27  439.01  ...             1                  3\n",
              "2021-07-26 2021-07-26  441.02  ...             1                  5\n",
              "2021-07-23 2021-07-23  439.94  ...             1                  5\n",
              "...               ...     ...  ...           ...                ...\n",
              "2007-12-10 2007-12-10  152.08  ...             1                  5\n",
              "2007-12-07 2007-12-07  150.91  ...             0                  3\n",
              "2007-12-06 2007-12-06  150.94  ...             0                  3\n",
              "2007-12-05 2007-12-05  148.81  ...             0                  2\n",
              "2007-12-04 2007-12-04  146.36  ...             0                  0\n",
              "\n",
              "[3437 rows x 18 columns]"
            ]
          },
          "metadata": {
            "tags": []
          },
          "execution_count": 55
        }
      ]
    },
    {
      "cell_type": "markdown",
      "metadata": {
        "id": "2LMh_Hj8PWIq"
      },
      "source": [
        "#Create daily gain loss and denormalize values\n",
        "\n",
        "1) Calculate the first day's gain loss by subtracting day -1 from day 0\n",
        "\n",
        "2) Calculate the second day's gain loss by subtracting day -2 from day -1\n",
        "\n",
        "3) Calculate the third day's gain loss by subtracting day -n from day -n+1\n",
        "\n",
        "This process creates a new column and removes the top rows in accordance with the desired \"lookback\" period - shift over 1 and lift by 1, shift over 2 and lift by 2, shift over n and lift by n\n",
        "\n",
        "!Note: This should be turned into a loop using i=n where n = the rows to be processed (now many previous rows)\n"
      ]
    },
    {
      "cell_type": "code",
      "metadata": {
        "colab": {
          "base_uri": "https://localhost:8080/",
          "height": 357
        },
        "id": "Swk_VFSW9P1P",
        "outputId": "9458273b-7f85-44de-d3b3-9b50489ce010"
      },
      "source": [
        "dataset['prior_day-0'] = dataset['gain_loss-0']\n",
        "#dataset['prior_day-1'] = dataset['prior_day-1'].shift(periods=-1, fill_value=0)#Removed this to experiment \n",
        "#with switching around the dependant variable rather than the independant variable\n",
        "dataset['prior_day-1'] = dataset['gain_loss-0']\n",
        "dataset['prior_day-1'] = dataset['prior_day-1'].shift(periods=-1, fill_value=0)\n",
        "dataset['prior_day-2'] = dataset['gain_loss-0']\n",
        "dataset['prior_day-2'] = dataset['prior_day-2'].shift(periods=-2, fill_value=0)\n",
        "dataset['prior_day-3'] = dataset['gain_loss-0']\n",
        "dataset['prior_day-3'] = dataset['prior_day-3'].shift(periods=-3, fill_value=0)\n",
        "dataset['prior_day-4'] = dataset['gain_loss-0']\n",
        "dataset['prior_day-4'] = dataset['prior_day-4'].shift(periods=-4, fill_value=0)\n",
        "dataset.head()"
      ],
      "execution_count": 56,
      "outputs": [
        {
          "output_type": "execute_result",
          "data": {
            "text/html": [
              "<div>\n",
              "<style scoped>\n",
              "    .dataframe tbody tr th:only-of-type {\n",
              "        vertical-align: middle;\n",
              "    }\n",
              "\n",
              "    .dataframe tbody tr th {\n",
              "        vertical-align: top;\n",
              "    }\n",
              "\n",
              "    .dataframe thead th {\n",
              "        text-align: right;\n",
              "    }\n",
              "</style>\n",
              "<table border=\"1\" class=\"dataframe\">\n",
              "  <thead>\n",
              "    <tr style=\"text-align: right;\">\n",
              "      <th></th>\n",
              "      <th>Date</th>\n",
              "      <th>Close</th>\n",
              "      <th>DOW</th>\n",
              "      <th>DOY</th>\n",
              "      <th>Week</th>\n",
              "      <th>Month</th>\n",
              "      <th>Quarter</th>\n",
              "      <th>gain_loss-0</th>\n",
              "      <th>gain_loss-1</th>\n",
              "      <th>gain_loss-2</th>\n",
              "      <th>gain_loss-3</th>\n",
              "      <th>gain_loss-4</th>\n",
              "      <th>gain_loss-0b</th>\n",
              "      <th>gain_loss-1b</th>\n",
              "      <th>gain_loss-2b</th>\n",
              "      <th>gain_loss-3b</th>\n",
              "      <th>gain_loss-4b</th>\n",
              "      <th>gain_loss-total_b</th>\n",
              "      <th>prior_day-0</th>\n",
              "      <th>prior_day-1</th>\n",
              "      <th>prior_day-2</th>\n",
              "      <th>prior_day-3</th>\n",
              "      <th>prior_day-4</th>\n",
              "    </tr>\n",
              "    <tr>\n",
              "      <th>Date_Index</th>\n",
              "      <th></th>\n",
              "      <th></th>\n",
              "      <th></th>\n",
              "      <th></th>\n",
              "      <th></th>\n",
              "      <th></th>\n",
              "      <th></th>\n",
              "      <th></th>\n",
              "      <th></th>\n",
              "      <th></th>\n",
              "      <th></th>\n",
              "      <th></th>\n",
              "      <th></th>\n",
              "      <th></th>\n",
              "      <th></th>\n",
              "      <th></th>\n",
              "      <th></th>\n",
              "      <th></th>\n",
              "      <th></th>\n",
              "      <th></th>\n",
              "      <th></th>\n",
              "      <th></th>\n",
              "      <th></th>\n",
              "    </tr>\n",
              "  </thead>\n",
              "  <tbody>\n",
              "    <tr>\n",
              "      <th>2021-07-29</th>\n",
              "      <td>2021-07-29</td>\n",
              "      <td>440.65</td>\n",
              "      <td>3</td>\n",
              "      <td>210</td>\n",
              "      <td>30</td>\n",
              "      <td>7</td>\n",
              "      <td>3</td>\n",
              "      <td>1.82</td>\n",
              "      <td>1.64</td>\n",
              "      <td>-0.37</td>\n",
              "      <td>0.71</td>\n",
              "      <td>5.19</td>\n",
              "      <td>1</td>\n",
              "      <td>1</td>\n",
              "      <td>0</td>\n",
              "      <td>1</td>\n",
              "      <td>1</td>\n",
              "      <td>4</td>\n",
              "      <td>1.82</td>\n",
              "      <td>-0.18</td>\n",
              "      <td>-2.01</td>\n",
              "      <td>1.08</td>\n",
              "      <td>4.48</td>\n",
              "    </tr>\n",
              "    <tr>\n",
              "      <th>2021-07-28</th>\n",
              "      <td>2021-07-28</td>\n",
              "      <td>438.83</td>\n",
              "      <td>2</td>\n",
              "      <td>209</td>\n",
              "      <td>30</td>\n",
              "      <td>7</td>\n",
              "      <td>3</td>\n",
              "      <td>-0.18</td>\n",
              "      <td>-2.19</td>\n",
              "      <td>-1.11</td>\n",
              "      <td>3.37</td>\n",
              "      <td>4.28</td>\n",
              "      <td>0</td>\n",
              "      <td>0</td>\n",
              "      <td>0</td>\n",
              "      <td>1</td>\n",
              "      <td>1</td>\n",
              "      <td>2</td>\n",
              "      <td>-0.18</td>\n",
              "      <td>-2.01</td>\n",
              "      <td>1.08</td>\n",
              "      <td>4.48</td>\n",
              "      <td>0.91</td>\n",
              "    </tr>\n",
              "    <tr>\n",
              "      <th>2021-07-27</th>\n",
              "      <td>2021-07-27</td>\n",
              "      <td>439.01</td>\n",
              "      <td>1</td>\n",
              "      <td>208</td>\n",
              "      <td>30</td>\n",
              "      <td>7</td>\n",
              "      <td>3</td>\n",
              "      <td>-2.01</td>\n",
              "      <td>-0.93</td>\n",
              "      <td>3.55</td>\n",
              "      <td>4.46</td>\n",
              "      <td>7.95</td>\n",
              "      <td>0</td>\n",
              "      <td>0</td>\n",
              "      <td>1</td>\n",
              "      <td>1</td>\n",
              "      <td>1</td>\n",
              "      <td>3</td>\n",
              "      <td>-2.01</td>\n",
              "      <td>1.08</td>\n",
              "      <td>4.48</td>\n",
              "      <td>0.91</td>\n",
              "      <td>3.49</td>\n",
              "    </tr>\n",
              "    <tr>\n",
              "      <th>2021-07-26</th>\n",
              "      <td>2021-07-26</td>\n",
              "      <td>441.02</td>\n",
              "      <td>0</td>\n",
              "      <td>207</td>\n",
              "      <td>30</td>\n",
              "      <td>7</td>\n",
              "      <td>3</td>\n",
              "      <td>1.08</td>\n",
              "      <td>5.56</td>\n",
              "      <td>6.47</td>\n",
              "      <td>9.96</td>\n",
              "      <td>16.05</td>\n",
              "      <td>1</td>\n",
              "      <td>1</td>\n",
              "      <td>1</td>\n",
              "      <td>1</td>\n",
              "      <td>1</td>\n",
              "      <td>5</td>\n",
              "      <td>1.08</td>\n",
              "      <td>4.48</td>\n",
              "      <td>0.91</td>\n",
              "      <td>3.49</td>\n",
              "      <td>6.09</td>\n",
              "    </tr>\n",
              "    <tr>\n",
              "      <th>2021-07-23</th>\n",
              "      <td>2021-07-23</td>\n",
              "      <td>439.94</td>\n",
              "      <td>4</td>\n",
              "      <td>204</td>\n",
              "      <td>29</td>\n",
              "      <td>7</td>\n",
              "      <td>3</td>\n",
              "      <td>4.48</td>\n",
              "      <td>5.39</td>\n",
              "      <td>8.88</td>\n",
              "      <td>14.97</td>\n",
              "      <td>8.60</td>\n",
              "      <td>1</td>\n",
              "      <td>1</td>\n",
              "      <td>1</td>\n",
              "      <td>1</td>\n",
              "      <td>1</td>\n",
              "      <td>5</td>\n",
              "      <td>4.48</td>\n",
              "      <td>0.91</td>\n",
              "      <td>3.49</td>\n",
              "      <td>6.09</td>\n",
              "      <td>-6.37</td>\n",
              "    </tr>\n",
              "  </tbody>\n",
              "</table>\n",
              "</div>"
            ],
            "text/plain": [
              "                 Date   Close  DOW  ...  prior_day-2  prior_day-3  prior_day-4\n",
              "Date_Index                          ...                                       \n",
              "2021-07-29 2021-07-29  440.65    3  ...        -2.01         1.08         4.48\n",
              "2021-07-28 2021-07-28  438.83    2  ...         1.08         4.48         0.91\n",
              "2021-07-27 2021-07-27  439.01    1  ...         4.48         0.91         3.49\n",
              "2021-07-26 2021-07-26  441.02    0  ...         0.91         3.49         6.09\n",
              "2021-07-23 2021-07-23  439.94    4  ...         3.49         6.09        -6.37\n",
              "\n",
              "[5 rows x 23 columns]"
            ]
          },
          "metadata": {
            "tags": []
          },
          "execution_count": 56
        }
      ]
    },
    {
      "cell_type": "markdown",
      "metadata": {
        "id": "6Pj-PFciR9O7"
      },
      "source": [
        "#Create binary version of daily gain loss values\n",
        "\n",
        "This process changes all gain loss continuous variables into a binary-descrete (dichotomous) variables\n",
        "\n",
        "!Note - This process should be converted into the previous process when that process is converted into a loop"
      ]
    },
    {
      "cell_type": "code",
      "metadata": {
        "colab": {
          "base_uri": "https://localhost:8080/",
          "height": 357
        },
        "id": "HsobZVYEC0-h",
        "outputId": "eb20d3e0-bcaa-4c09-84b5-421e64dd69da"
      },
      "source": [
        "dataset['prior_day-0b'] = np.where(dataset['prior_day-0'] > 0, 1, 0)\n",
        "dataset['prior_day-1b'] = np.where(dataset['prior_day-1'] > 0, 1, 0)\n",
        "dataset['prior_day-2b'] = np.where(dataset['prior_day-2'] > 0, 1, 0)\n",
        "dataset['prior_day-3b'] = np.where(dataset['prior_day-3'] > 0, 1, 0)\n",
        "dataset['prior_day-4b'] = np.where(dataset['prior_day-4'] > 0, 1, 0)\n",
        "dataset.head()"
      ],
      "execution_count": 57,
      "outputs": [
        {
          "output_type": "execute_result",
          "data": {
            "text/html": [
              "<div>\n",
              "<style scoped>\n",
              "    .dataframe tbody tr th:only-of-type {\n",
              "        vertical-align: middle;\n",
              "    }\n",
              "\n",
              "    .dataframe tbody tr th {\n",
              "        vertical-align: top;\n",
              "    }\n",
              "\n",
              "    .dataframe thead th {\n",
              "        text-align: right;\n",
              "    }\n",
              "</style>\n",
              "<table border=\"1\" class=\"dataframe\">\n",
              "  <thead>\n",
              "    <tr style=\"text-align: right;\">\n",
              "      <th></th>\n",
              "      <th>Date</th>\n",
              "      <th>Close</th>\n",
              "      <th>DOW</th>\n",
              "      <th>DOY</th>\n",
              "      <th>Week</th>\n",
              "      <th>Month</th>\n",
              "      <th>Quarter</th>\n",
              "      <th>gain_loss-0</th>\n",
              "      <th>gain_loss-1</th>\n",
              "      <th>gain_loss-2</th>\n",
              "      <th>gain_loss-3</th>\n",
              "      <th>gain_loss-4</th>\n",
              "      <th>gain_loss-0b</th>\n",
              "      <th>gain_loss-1b</th>\n",
              "      <th>gain_loss-2b</th>\n",
              "      <th>gain_loss-3b</th>\n",
              "      <th>gain_loss-4b</th>\n",
              "      <th>gain_loss-total_b</th>\n",
              "      <th>prior_day-0</th>\n",
              "      <th>prior_day-1</th>\n",
              "      <th>prior_day-2</th>\n",
              "      <th>prior_day-3</th>\n",
              "      <th>prior_day-4</th>\n",
              "      <th>prior_day-0b</th>\n",
              "      <th>prior_day-1b</th>\n",
              "      <th>prior_day-2b</th>\n",
              "      <th>prior_day-3b</th>\n",
              "      <th>prior_day-4b</th>\n",
              "    </tr>\n",
              "    <tr>\n",
              "      <th>Date_Index</th>\n",
              "      <th></th>\n",
              "      <th></th>\n",
              "      <th></th>\n",
              "      <th></th>\n",
              "      <th></th>\n",
              "      <th></th>\n",
              "      <th></th>\n",
              "      <th></th>\n",
              "      <th></th>\n",
              "      <th></th>\n",
              "      <th></th>\n",
              "      <th></th>\n",
              "      <th></th>\n",
              "      <th></th>\n",
              "      <th></th>\n",
              "      <th></th>\n",
              "      <th></th>\n",
              "      <th></th>\n",
              "      <th></th>\n",
              "      <th></th>\n",
              "      <th></th>\n",
              "      <th></th>\n",
              "      <th></th>\n",
              "      <th></th>\n",
              "      <th></th>\n",
              "      <th></th>\n",
              "      <th></th>\n",
              "      <th></th>\n",
              "    </tr>\n",
              "  </thead>\n",
              "  <tbody>\n",
              "    <tr>\n",
              "      <th>2021-07-29</th>\n",
              "      <td>2021-07-29</td>\n",
              "      <td>440.65</td>\n",
              "      <td>3</td>\n",
              "      <td>210</td>\n",
              "      <td>30</td>\n",
              "      <td>7</td>\n",
              "      <td>3</td>\n",
              "      <td>1.82</td>\n",
              "      <td>1.64</td>\n",
              "      <td>-0.37</td>\n",
              "      <td>0.71</td>\n",
              "      <td>5.19</td>\n",
              "      <td>1</td>\n",
              "      <td>1</td>\n",
              "      <td>0</td>\n",
              "      <td>1</td>\n",
              "      <td>1</td>\n",
              "      <td>4</td>\n",
              "      <td>1.82</td>\n",
              "      <td>-0.18</td>\n",
              "      <td>-2.01</td>\n",
              "      <td>1.08</td>\n",
              "      <td>4.48</td>\n",
              "      <td>1</td>\n",
              "      <td>0</td>\n",
              "      <td>0</td>\n",
              "      <td>1</td>\n",
              "      <td>1</td>\n",
              "    </tr>\n",
              "    <tr>\n",
              "      <th>2021-07-28</th>\n",
              "      <td>2021-07-28</td>\n",
              "      <td>438.83</td>\n",
              "      <td>2</td>\n",
              "      <td>209</td>\n",
              "      <td>30</td>\n",
              "      <td>7</td>\n",
              "      <td>3</td>\n",
              "      <td>-0.18</td>\n",
              "      <td>-2.19</td>\n",
              "      <td>-1.11</td>\n",
              "      <td>3.37</td>\n",
              "      <td>4.28</td>\n",
              "      <td>0</td>\n",
              "      <td>0</td>\n",
              "      <td>0</td>\n",
              "      <td>1</td>\n",
              "      <td>1</td>\n",
              "      <td>2</td>\n",
              "      <td>-0.18</td>\n",
              "      <td>-2.01</td>\n",
              "      <td>1.08</td>\n",
              "      <td>4.48</td>\n",
              "      <td>0.91</td>\n",
              "      <td>0</td>\n",
              "      <td>0</td>\n",
              "      <td>1</td>\n",
              "      <td>1</td>\n",
              "      <td>1</td>\n",
              "    </tr>\n",
              "    <tr>\n",
              "      <th>2021-07-27</th>\n",
              "      <td>2021-07-27</td>\n",
              "      <td>439.01</td>\n",
              "      <td>1</td>\n",
              "      <td>208</td>\n",
              "      <td>30</td>\n",
              "      <td>7</td>\n",
              "      <td>3</td>\n",
              "      <td>-2.01</td>\n",
              "      <td>-0.93</td>\n",
              "      <td>3.55</td>\n",
              "      <td>4.46</td>\n",
              "      <td>7.95</td>\n",
              "      <td>0</td>\n",
              "      <td>0</td>\n",
              "      <td>1</td>\n",
              "      <td>1</td>\n",
              "      <td>1</td>\n",
              "      <td>3</td>\n",
              "      <td>-2.01</td>\n",
              "      <td>1.08</td>\n",
              "      <td>4.48</td>\n",
              "      <td>0.91</td>\n",
              "      <td>3.49</td>\n",
              "      <td>0</td>\n",
              "      <td>1</td>\n",
              "      <td>1</td>\n",
              "      <td>1</td>\n",
              "      <td>1</td>\n",
              "    </tr>\n",
              "    <tr>\n",
              "      <th>2021-07-26</th>\n",
              "      <td>2021-07-26</td>\n",
              "      <td>441.02</td>\n",
              "      <td>0</td>\n",
              "      <td>207</td>\n",
              "      <td>30</td>\n",
              "      <td>7</td>\n",
              "      <td>3</td>\n",
              "      <td>1.08</td>\n",
              "      <td>5.56</td>\n",
              "      <td>6.47</td>\n",
              "      <td>9.96</td>\n",
              "      <td>16.05</td>\n",
              "      <td>1</td>\n",
              "      <td>1</td>\n",
              "      <td>1</td>\n",
              "      <td>1</td>\n",
              "      <td>1</td>\n",
              "      <td>5</td>\n",
              "      <td>1.08</td>\n",
              "      <td>4.48</td>\n",
              "      <td>0.91</td>\n",
              "      <td>3.49</td>\n",
              "      <td>6.09</td>\n",
              "      <td>1</td>\n",
              "      <td>1</td>\n",
              "      <td>1</td>\n",
              "      <td>1</td>\n",
              "      <td>1</td>\n",
              "    </tr>\n",
              "    <tr>\n",
              "      <th>2021-07-23</th>\n",
              "      <td>2021-07-23</td>\n",
              "      <td>439.94</td>\n",
              "      <td>4</td>\n",
              "      <td>204</td>\n",
              "      <td>29</td>\n",
              "      <td>7</td>\n",
              "      <td>3</td>\n",
              "      <td>4.48</td>\n",
              "      <td>5.39</td>\n",
              "      <td>8.88</td>\n",
              "      <td>14.97</td>\n",
              "      <td>8.60</td>\n",
              "      <td>1</td>\n",
              "      <td>1</td>\n",
              "      <td>1</td>\n",
              "      <td>1</td>\n",
              "      <td>1</td>\n",
              "      <td>5</td>\n",
              "      <td>4.48</td>\n",
              "      <td>0.91</td>\n",
              "      <td>3.49</td>\n",
              "      <td>6.09</td>\n",
              "      <td>-6.37</td>\n",
              "      <td>1</td>\n",
              "      <td>1</td>\n",
              "      <td>1</td>\n",
              "      <td>1</td>\n",
              "      <td>0</td>\n",
              "    </tr>\n",
              "  </tbody>\n",
              "</table>\n",
              "</div>"
            ],
            "text/plain": [
              "                 Date   Close  DOW  ...  prior_day-2b  prior_day-3b  prior_day-4b\n",
              "Date_Index                          ...                                          \n",
              "2021-07-29 2021-07-29  440.65    3  ...             0             1             1\n",
              "2021-07-28 2021-07-28  438.83    2  ...             1             1             1\n",
              "2021-07-27 2021-07-27  439.01    1  ...             1             1             1\n",
              "2021-07-26 2021-07-26  441.02    0  ...             1             1             1\n",
              "2021-07-23 2021-07-23  439.94    4  ...             1             1             0\n",
              "\n",
              "[5 rows x 28 columns]"
            ]
          },
          "metadata": {
            "tags": []
          },
          "execution_count": 57
        }
      ]
    },
    {
      "cell_type": "markdown",
      "metadata": {
        "id": "exCULdkeSyFf"
      },
      "source": [
        "#Aggregate the binary daily gain loss values\n",
        "\n",
        "This creates a true categorical value from the binary descrete values.\n",
        "\n",
        "The theory is that, having binary values for each period (sparce matrix) and an aggregate (categorical), the values will work together to increase the value of this data\n",
        "\n",
        "!Note = This process should be indluded in the loop mentioned in notes from the above process (future modifications to the data pre-processing procedures)"
      ]
    },
    {
      "cell_type": "code",
      "metadata": {
        "colab": {
          "base_uri": "https://localhost:8080/",
          "height": 357
        },
        "id": "yTrfNFhlEdjr",
        "outputId": "475f1ce0-8ffb-416a-fb97-3db026cfb9f6"
      },
      "source": [
        "dataset['prior_day-total_b'] = dataset['prior_day-0b'] + dataset['prior_day-1b'] + dataset['prior_day-2b'] + dataset['prior_day-3b'] + dataset['prior_day-4b'] \n",
        "dataset.head(5)"
      ],
      "execution_count": 60,
      "outputs": [
        {
          "output_type": "execute_result",
          "data": {
            "text/html": [
              "<div>\n",
              "<style scoped>\n",
              "    .dataframe tbody tr th:only-of-type {\n",
              "        vertical-align: middle;\n",
              "    }\n",
              "\n",
              "    .dataframe tbody tr th {\n",
              "        vertical-align: top;\n",
              "    }\n",
              "\n",
              "    .dataframe thead th {\n",
              "        text-align: right;\n",
              "    }\n",
              "</style>\n",
              "<table border=\"1\" class=\"dataframe\">\n",
              "  <thead>\n",
              "    <tr style=\"text-align: right;\">\n",
              "      <th></th>\n",
              "      <th>Date</th>\n",
              "      <th>Close</th>\n",
              "      <th>DOW</th>\n",
              "      <th>DOY</th>\n",
              "      <th>Week</th>\n",
              "      <th>Month</th>\n",
              "      <th>Quarter</th>\n",
              "      <th>gain_loss-0</th>\n",
              "      <th>gain_loss-1</th>\n",
              "      <th>gain_loss-2</th>\n",
              "      <th>gain_loss-3</th>\n",
              "      <th>gain_loss-4</th>\n",
              "      <th>gain_loss-0b</th>\n",
              "      <th>gain_loss-1b</th>\n",
              "      <th>gain_loss-2b</th>\n",
              "      <th>gain_loss-3b</th>\n",
              "      <th>gain_loss-4b</th>\n",
              "      <th>gain_loss-total_b</th>\n",
              "      <th>prior_day-0</th>\n",
              "      <th>prior_day-1</th>\n",
              "      <th>prior_day-2</th>\n",
              "      <th>prior_day-3</th>\n",
              "      <th>prior_day-4</th>\n",
              "      <th>prior_day-0b</th>\n",
              "      <th>prior_day-1b</th>\n",
              "      <th>prior_day-2b</th>\n",
              "      <th>prior_day-3b</th>\n",
              "      <th>prior_day-4b</th>\n",
              "      <th>prior_day-total_b</th>\n",
              "    </tr>\n",
              "    <tr>\n",
              "      <th>Date_Index</th>\n",
              "      <th></th>\n",
              "      <th></th>\n",
              "      <th></th>\n",
              "      <th></th>\n",
              "      <th></th>\n",
              "      <th></th>\n",
              "      <th></th>\n",
              "      <th></th>\n",
              "      <th></th>\n",
              "      <th></th>\n",
              "      <th></th>\n",
              "      <th></th>\n",
              "      <th></th>\n",
              "      <th></th>\n",
              "      <th></th>\n",
              "      <th></th>\n",
              "      <th></th>\n",
              "      <th></th>\n",
              "      <th></th>\n",
              "      <th></th>\n",
              "      <th></th>\n",
              "      <th></th>\n",
              "      <th></th>\n",
              "      <th></th>\n",
              "      <th></th>\n",
              "      <th></th>\n",
              "      <th></th>\n",
              "      <th></th>\n",
              "      <th></th>\n",
              "    </tr>\n",
              "  </thead>\n",
              "  <tbody>\n",
              "    <tr>\n",
              "      <th>2021-07-29</th>\n",
              "      <td>2021-07-29</td>\n",
              "      <td>440.65</td>\n",
              "      <td>3</td>\n",
              "      <td>210</td>\n",
              "      <td>30</td>\n",
              "      <td>7</td>\n",
              "      <td>3</td>\n",
              "      <td>1.82</td>\n",
              "      <td>1.64</td>\n",
              "      <td>-0.37</td>\n",
              "      <td>0.71</td>\n",
              "      <td>5.19</td>\n",
              "      <td>1</td>\n",
              "      <td>1</td>\n",
              "      <td>0</td>\n",
              "      <td>1</td>\n",
              "      <td>1</td>\n",
              "      <td>4</td>\n",
              "      <td>1.82</td>\n",
              "      <td>-0.18</td>\n",
              "      <td>-2.01</td>\n",
              "      <td>1.08</td>\n",
              "      <td>4.48</td>\n",
              "      <td>1</td>\n",
              "      <td>0</td>\n",
              "      <td>0</td>\n",
              "      <td>1</td>\n",
              "      <td>1</td>\n",
              "      <td>3</td>\n",
              "    </tr>\n",
              "    <tr>\n",
              "      <th>2021-07-28</th>\n",
              "      <td>2021-07-28</td>\n",
              "      <td>438.83</td>\n",
              "      <td>2</td>\n",
              "      <td>209</td>\n",
              "      <td>30</td>\n",
              "      <td>7</td>\n",
              "      <td>3</td>\n",
              "      <td>-0.18</td>\n",
              "      <td>-2.19</td>\n",
              "      <td>-1.11</td>\n",
              "      <td>3.37</td>\n",
              "      <td>4.28</td>\n",
              "      <td>0</td>\n",
              "      <td>0</td>\n",
              "      <td>0</td>\n",
              "      <td>1</td>\n",
              "      <td>1</td>\n",
              "      <td>2</td>\n",
              "      <td>-0.18</td>\n",
              "      <td>-2.01</td>\n",
              "      <td>1.08</td>\n",
              "      <td>4.48</td>\n",
              "      <td>0.91</td>\n",
              "      <td>0</td>\n",
              "      <td>0</td>\n",
              "      <td>1</td>\n",
              "      <td>1</td>\n",
              "      <td>1</td>\n",
              "      <td>3</td>\n",
              "    </tr>\n",
              "    <tr>\n",
              "      <th>2021-07-27</th>\n",
              "      <td>2021-07-27</td>\n",
              "      <td>439.01</td>\n",
              "      <td>1</td>\n",
              "      <td>208</td>\n",
              "      <td>30</td>\n",
              "      <td>7</td>\n",
              "      <td>3</td>\n",
              "      <td>-2.01</td>\n",
              "      <td>-0.93</td>\n",
              "      <td>3.55</td>\n",
              "      <td>4.46</td>\n",
              "      <td>7.95</td>\n",
              "      <td>0</td>\n",
              "      <td>0</td>\n",
              "      <td>1</td>\n",
              "      <td>1</td>\n",
              "      <td>1</td>\n",
              "      <td>3</td>\n",
              "      <td>-2.01</td>\n",
              "      <td>1.08</td>\n",
              "      <td>4.48</td>\n",
              "      <td>0.91</td>\n",
              "      <td>3.49</td>\n",
              "      <td>0</td>\n",
              "      <td>1</td>\n",
              "      <td>1</td>\n",
              "      <td>1</td>\n",
              "      <td>1</td>\n",
              "      <td>4</td>\n",
              "    </tr>\n",
              "    <tr>\n",
              "      <th>2021-07-26</th>\n",
              "      <td>2021-07-26</td>\n",
              "      <td>441.02</td>\n",
              "      <td>0</td>\n",
              "      <td>207</td>\n",
              "      <td>30</td>\n",
              "      <td>7</td>\n",
              "      <td>3</td>\n",
              "      <td>1.08</td>\n",
              "      <td>5.56</td>\n",
              "      <td>6.47</td>\n",
              "      <td>9.96</td>\n",
              "      <td>16.05</td>\n",
              "      <td>1</td>\n",
              "      <td>1</td>\n",
              "      <td>1</td>\n",
              "      <td>1</td>\n",
              "      <td>1</td>\n",
              "      <td>5</td>\n",
              "      <td>1.08</td>\n",
              "      <td>4.48</td>\n",
              "      <td>0.91</td>\n",
              "      <td>3.49</td>\n",
              "      <td>6.09</td>\n",
              "      <td>1</td>\n",
              "      <td>1</td>\n",
              "      <td>1</td>\n",
              "      <td>1</td>\n",
              "      <td>1</td>\n",
              "      <td>5</td>\n",
              "    </tr>\n",
              "    <tr>\n",
              "      <th>2021-07-23</th>\n",
              "      <td>2021-07-23</td>\n",
              "      <td>439.94</td>\n",
              "      <td>4</td>\n",
              "      <td>204</td>\n",
              "      <td>29</td>\n",
              "      <td>7</td>\n",
              "      <td>3</td>\n",
              "      <td>4.48</td>\n",
              "      <td>5.39</td>\n",
              "      <td>8.88</td>\n",
              "      <td>14.97</td>\n",
              "      <td>8.60</td>\n",
              "      <td>1</td>\n",
              "      <td>1</td>\n",
              "      <td>1</td>\n",
              "      <td>1</td>\n",
              "      <td>1</td>\n",
              "      <td>5</td>\n",
              "      <td>4.48</td>\n",
              "      <td>0.91</td>\n",
              "      <td>3.49</td>\n",
              "      <td>6.09</td>\n",
              "      <td>-6.37</td>\n",
              "      <td>1</td>\n",
              "      <td>1</td>\n",
              "      <td>1</td>\n",
              "      <td>1</td>\n",
              "      <td>0</td>\n",
              "      <td>4</td>\n",
              "    </tr>\n",
              "  </tbody>\n",
              "</table>\n",
              "</div>"
            ],
            "text/plain": [
              "                 Date   Close  ...  prior_day-4b  prior_day-total_b\n",
              "Date_Index                     ...                                 \n",
              "2021-07-29 2021-07-29  440.65  ...             1                  3\n",
              "2021-07-28 2021-07-28  438.83  ...             1                  3\n",
              "2021-07-27 2021-07-27  439.01  ...             1                  4\n",
              "2021-07-26 2021-07-26  441.02  ...             1                  5\n",
              "2021-07-23 2021-07-23  439.94  ...             0                  4\n",
              "\n",
              "[5 rows x 29 columns]"
            ]
          },
          "metadata": {
            "tags": []
          },
          "execution_count": 60
        }
      ]
    },
    {
      "cell_type": "markdown",
      "metadata": {
        "id": "6zm1v4LebGn_"
      },
      "source": [
        "#Creating Rolling mean attribute values\n",
        "\n",
        "Rolling mean values are based on daily gain loss and represent the trending direction of the prior n mean values (5, 10, 15, n, row mean values)\n",
        "\n",
        "the rolling mean works from the top row down - for exampple the mean of row 1 and 2 would appear on row 2. We need the mean of row 1 and 2 to land on row 1. This requires us to reverse the index of each desired mean column. The process to do this creates pandas value lists\n",
        "\n",
        "!Note: this process can convert into a loop  where n = list of n mean values (as described in the description above)"
      ]
    },
    {
      "cell_type": "code",
      "metadata": {
        "id": "SQhGpsmoGNwh",
        "colab": {
          "base_uri": "https://localhost:8080/"
        },
        "outputId": "2d53f2a7-c823-490a-fcfd-2c93cee9ed4d"
      },
      "source": [
        "#Rolling averages based on prior day gain loss\n",
        "rolling_prior_day = dataset['prior_day-0']\n",
        "\n",
        "rolling_prior_day_5 = rolling_prior_day[::-1].rolling(5).mean()[::-1]\n",
        "rolling_prior_day_10 = rolling_prior_day[::-1].rolling(10).mean()[::-1]\n",
        "rolling_prior_day_15 = rolling_prior_day[::-1].rolling(15).mean()[::-1]\n",
        "rolling_prior_day_20 = rolling_prior_day[::-1].rolling(20).mean()[::-1]\n",
        "rolling_prior_day_25 = rolling_prior_day[::-1].rolling(25).mean()[::-1]\n",
        "rolling_prior_day_30 = rolling_prior_day[::-1].rolling(30).mean()[::-1]\n",
        "\n",
        "print(rolling_prior_day_10)"
      ],
      "execution_count": 43,
      "outputs": [
        {
          "output_type": "stream",
          "text": [
            "0       0.590\n",
            "1       0.259\n",
            "2       0.342\n",
            "3       0.394\n",
            "4       0.442\n",
            "        ...  \n",
            "3433      NaN\n",
            "3434      NaN\n",
            "3435      NaN\n",
            "3436      NaN\n",
            "3437      NaN\n",
            "Name: prior_day-0, Length: 3438, dtype: float64\n"
          ],
          "name": "stdout"
        }
      ]
    },
    {
      "cell_type": "code",
      "metadata": {
        "colab": {
          "base_uri": "https://localhost:8080/",
          "height": 326
        },
        "id": "QqUDH3p9EA_v",
        "outputId": "163abaf4-1fd7-4611-e4b0-32fe5a1b8415"
      },
      "source": [
        "dataset = pd.concat([dataset,\n",
        "           rolling_prior_day_5, \n",
        "           rolling_prior_day_10, \n",
        "           rolling_prior_day_15, \n",
        "           rolling_prior_day_20, \n",
        "           rolling_prior_day_25, \n",
        "           rolling_prior_day_30], \n",
        "          axis = 1)\n",
        "\n",
        "dataset.head()"
      ],
      "execution_count": 44,
      "outputs": [
        {
          "output_type": "execute_result",
          "data": {
            "text/html": [
              "<div>\n",
              "<style scoped>\n",
              "    .dataframe tbody tr th:only-of-type {\n",
              "        vertical-align: middle;\n",
              "    }\n",
              "\n",
              "    .dataframe tbody tr th {\n",
              "        vertical-align: top;\n",
              "    }\n",
              "\n",
              "    .dataframe thead th {\n",
              "        text-align: right;\n",
              "    }\n",
              "</style>\n",
              "<table border=\"1\" class=\"dataframe\">\n",
              "  <thead>\n",
              "    <tr style=\"text-align: right;\">\n",
              "      <th></th>\n",
              "      <th>Date</th>\n",
              "      <th>Close</th>\n",
              "      <th>DOW</th>\n",
              "      <th>DOY</th>\n",
              "      <th>Week</th>\n",
              "      <th>Month</th>\n",
              "      <th>Quarter</th>\n",
              "      <th>gain_loss-0</th>\n",
              "      <th>gain_loss-1</th>\n",
              "      <th>gain_loss-2</th>\n",
              "      <th>gain_loss-3</th>\n",
              "      <th>gain_loss-4</th>\n",
              "      <th>gain_loss-0b</th>\n",
              "      <th>gain_loss-1b</th>\n",
              "      <th>gain_loss-2b</th>\n",
              "      <th>gain_loss-3b</th>\n",
              "      <th>gain_loss-4b</th>\n",
              "      <th>gain_loss-total</th>\n",
              "      <th>gain_loss-total_b</th>\n",
              "      <th>prior_day-1</th>\n",
              "      <th>prior_day-2</th>\n",
              "      <th>prior_day-3</th>\n",
              "      <th>prior_day-4</th>\n",
              "      <th>prior_day-5</th>\n",
              "      <th>prior_day-1b</th>\n",
              "      <th>prior_day-2b</th>\n",
              "      <th>prior_day-3b</th>\n",
              "      <th>prior_day-4b</th>\n",
              "      <th>prior_day-5b</th>\n",
              "      <th>prior_day-total_b</th>\n",
              "      <th>prior_day-0</th>\n",
              "      <th>prior_day-0</th>\n",
              "      <th>prior_day-0</th>\n",
              "      <th>prior_day-0</th>\n",
              "      <th>prior_day-0</th>\n",
              "      <th>prior_day-0</th>\n",
              "      <th>prior_day-0</th>\n",
              "    </tr>\n",
              "  </thead>\n",
              "  <tbody>\n",
              "    <tr>\n",
              "      <th>0</th>\n",
              "      <td>2021-07-29</td>\n",
              "      <td>440.65</td>\n",
              "      <td>3</td>\n",
              "      <td>210</td>\n",
              "      <td>30</td>\n",
              "      <td>7</td>\n",
              "      <td>3</td>\n",
              "      <td>1.82</td>\n",
              "      <td>1.64</td>\n",
              "      <td>-0.37</td>\n",
              "      <td>0.71</td>\n",
              "      <td>5.19</td>\n",
              "      <td>1</td>\n",
              "      <td>1</td>\n",
              "      <td>0</td>\n",
              "      <td>1</td>\n",
              "      <td>1</td>\n",
              "      <td>4</td>\n",
              "      <td>4</td>\n",
              "      <td>-0.18</td>\n",
              "      <td>-2.01</td>\n",
              "      <td>1.08</td>\n",
              "      <td>4.48</td>\n",
              "      <td>4.48</td>\n",
              "      <td>1</td>\n",
              "      <td>0</td>\n",
              "      <td>0</td>\n",
              "      <td>1</td>\n",
              "      <td>1</td>\n",
              "      <td>3</td>\n",
              "      <td>1.82</td>\n",
              "      <td>1.038</td>\n",
              "      <td>0.590</td>\n",
              "      <td>0.648667</td>\n",
              "      <td>0.6295</td>\n",
              "      <td>0.7220</td>\n",
              "      <td>0.618000</td>\n",
              "    </tr>\n",
              "    <tr>\n",
              "      <th>1</th>\n",
              "      <td>2021-07-28</td>\n",
              "      <td>438.83</td>\n",
              "      <td>2</td>\n",
              "      <td>209</td>\n",
              "      <td>30</td>\n",
              "      <td>7</td>\n",
              "      <td>3</td>\n",
              "      <td>-0.18</td>\n",
              "      <td>-2.19</td>\n",
              "      <td>-1.11</td>\n",
              "      <td>3.37</td>\n",
              "      <td>4.28</td>\n",
              "      <td>0</td>\n",
              "      <td>0</td>\n",
              "      <td>0</td>\n",
              "      <td>1</td>\n",
              "      <td>1</td>\n",
              "      <td>2</td>\n",
              "      <td>2</td>\n",
              "      <td>-2.01</td>\n",
              "      <td>1.08</td>\n",
              "      <td>4.48</td>\n",
              "      <td>0.91</td>\n",
              "      <td>0.91</td>\n",
              "      <td>0</td>\n",
              "      <td>0</td>\n",
              "      <td>1</td>\n",
              "      <td>1</td>\n",
              "      <td>1</td>\n",
              "      <td>3</td>\n",
              "      <td>-0.18</td>\n",
              "      <td>0.856</td>\n",
              "      <td>0.259</td>\n",
              "      <td>0.291333</td>\n",
              "      <td>0.5565</td>\n",
              "      <td>0.6288</td>\n",
              "      <td>0.478333</td>\n",
              "    </tr>\n",
              "    <tr>\n",
              "      <th>2</th>\n",
              "      <td>2021-07-27</td>\n",
              "      <td>439.01</td>\n",
              "      <td>1</td>\n",
              "      <td>208</td>\n",
              "      <td>30</td>\n",
              "      <td>7</td>\n",
              "      <td>3</td>\n",
              "      <td>-2.01</td>\n",
              "      <td>-0.93</td>\n",
              "      <td>3.55</td>\n",
              "      <td>4.46</td>\n",
              "      <td>7.95</td>\n",
              "      <td>0</td>\n",
              "      <td>0</td>\n",
              "      <td>1</td>\n",
              "      <td>1</td>\n",
              "      <td>1</td>\n",
              "      <td>3</td>\n",
              "      <td>3</td>\n",
              "      <td>1.08</td>\n",
              "      <td>4.48</td>\n",
              "      <td>0.91</td>\n",
              "      <td>3.49</td>\n",
              "      <td>3.49</td>\n",
              "      <td>0</td>\n",
              "      <td>1</td>\n",
              "      <td>1</td>\n",
              "      <td>1</td>\n",
              "      <td>1</td>\n",
              "      <td>4</td>\n",
              "      <td>-2.01</td>\n",
              "      <td>1.590</td>\n",
              "      <td>0.342</td>\n",
              "      <td>0.405333</td>\n",
              "      <td>0.5770</td>\n",
              "      <td>0.7260</td>\n",
              "      <td>0.458333</td>\n",
              "    </tr>\n",
              "    <tr>\n",
              "      <th>3</th>\n",
              "      <td>2021-07-26</td>\n",
              "      <td>441.02</td>\n",
              "      <td>0</td>\n",
              "      <td>207</td>\n",
              "      <td>30</td>\n",
              "      <td>7</td>\n",
              "      <td>3</td>\n",
              "      <td>1.08</td>\n",
              "      <td>5.56</td>\n",
              "      <td>6.47</td>\n",
              "      <td>9.96</td>\n",
              "      <td>16.05</td>\n",
              "      <td>1</td>\n",
              "      <td>1</td>\n",
              "      <td>1</td>\n",
              "      <td>1</td>\n",
              "      <td>1</td>\n",
              "      <td>5</td>\n",
              "      <td>5</td>\n",
              "      <td>4.48</td>\n",
              "      <td>0.91</td>\n",
              "      <td>3.49</td>\n",
              "      <td>6.09</td>\n",
              "      <td>6.09</td>\n",
              "      <td>1</td>\n",
              "      <td>1</td>\n",
              "      <td>1</td>\n",
              "      <td>1</td>\n",
              "      <td>1</td>\n",
              "      <td>5</td>\n",
              "      <td>1.08</td>\n",
              "      <td>3.210</td>\n",
              "      <td>0.394</td>\n",
              "      <td>0.486667</td>\n",
              "      <td>0.7205</td>\n",
              "      <td>1.0440</td>\n",
              "      <td>0.557000</td>\n",
              "    </tr>\n",
              "    <tr>\n",
              "      <th>4</th>\n",
              "      <td>2021-07-23</td>\n",
              "      <td>439.94</td>\n",
              "      <td>4</td>\n",
              "      <td>204</td>\n",
              "      <td>29</td>\n",
              "      <td>7</td>\n",
              "      <td>3</td>\n",
              "      <td>4.48</td>\n",
              "      <td>5.39</td>\n",
              "      <td>8.88</td>\n",
              "      <td>14.97</td>\n",
              "      <td>8.60</td>\n",
              "      <td>1</td>\n",
              "      <td>1</td>\n",
              "      <td>1</td>\n",
              "      <td>1</td>\n",
              "      <td>1</td>\n",
              "      <td>5</td>\n",
              "      <td>5</td>\n",
              "      <td>0.91</td>\n",
              "      <td>3.49</td>\n",
              "      <td>6.09</td>\n",
              "      <td>-6.37</td>\n",
              "      <td>-6.37</td>\n",
              "      <td>1</td>\n",
              "      <td>1</td>\n",
              "      <td>1</td>\n",
              "      <td>1</td>\n",
              "      <td>0</td>\n",
              "      <td>4</td>\n",
              "      <td>4.48</td>\n",
              "      <td>1.720</td>\n",
              "      <td>0.442</td>\n",
              "      <td>0.634000</td>\n",
              "      <td>0.7420</td>\n",
              "      <td>0.7188</td>\n",
              "      <td>0.544333</td>\n",
              "    </tr>\n",
              "  </tbody>\n",
              "</table>\n",
              "</div>"
            ],
            "text/plain": [
              "        Date   Close  DOW  ...  prior_day-0  prior_day-0  prior_day-0\n",
              "0 2021-07-29  440.65    3  ...       0.6295       0.7220     0.618000\n",
              "1 2021-07-28  438.83    2  ...       0.5565       0.6288     0.478333\n",
              "2 2021-07-27  439.01    1  ...       0.5770       0.7260     0.458333\n",
              "3 2021-07-26  441.02    0  ...       0.7205       1.0440     0.557000\n",
              "4 2021-07-23  439.94    4  ...       0.7420       0.7188     0.544333\n",
              "\n",
              "[5 rows x 37 columns]"
            ]
          },
          "metadata": {
            "tags": []
          },
          "execution_count": 44
        }
      ]
    },
    {
      "cell_type": "code",
      "metadata": {
        "colab": {
          "base_uri": "https://localhost:8080/"
        },
        "id": "_-16ddhaIbF9",
        "outputId": "9bfdda48-e445-44a0-fe9f-912651e2b66d"
      },
      "source": [
        "len(dataset.columns)"
      ],
      "execution_count": 45,
      "outputs": [
        {
          "output_type": "execute_result",
          "data": {
            "text/plain": [
              "37"
            ]
          },
          "metadata": {
            "tags": []
          },
          "execution_count": 45
        }
      ]
    },
    {
      "cell_type": "code",
      "metadata": {
        "colab": {
          "base_uri": "https://localhost:8080/"
        },
        "id": "EjKfCDN2NkZo",
        "outputId": "b0cdd2f0-6937-47ae-87fc-dca75c329178"
      },
      "source": [
        "np.argwhere(np.isnan(X))"
      ],
      "execution_count": null,
      "outputs": [
        {
          "output_type": "execute_result",
          "data": {
            "text/plain": [
              "array([], shape=(0, 2), dtype=int64)"
            ]
          },
          "metadata": {
            "tags": []
          },
          "execution_count": 206
        }
      ]
    },
    {
      "cell_type": "code",
      "metadata": {
        "colab": {
          "base_uri": "https://localhost:8080/"
        },
        "id": "nOHf760CShq3",
        "outputId": "d9d3d36f-1794-40b0-9a8d-2187741c507b"
      },
      "source": [
        "#split text and train datasets\n",
        "testset = dataset.loc[(dataset['Date'] >= '12/01/2020')]\n",
        "dataset = dataset.loc[(dataset['Date'] <= '12/31/2020')]\n",
        "type(testset)"
      ],
      "execution_count": null,
      "outputs": [
        {
          "output_type": "execute_result",
          "data": {
            "text/plain": [
              "pandas.core.frame.DataFrame"
            ]
          },
          "metadata": {
            "tags": []
          },
          "execution_count": 207
        }
      ]
    },
    {
      "cell_type": "code",
      "metadata": {
        "colab": {
          "base_uri": "https://localhost:8080/"
        },
        "id": "Z0cZJQK3ILwd",
        "outputId": "00433e0d-6a25-4317-dfab-0006a36c59f0"
      },
      "source": [
        "X = dataset\n",
        "X.drop(X.tail(31).index, inplace = True)\n",
        "X = X.drop(['Date', 'Close', 'gain_loss-0'], axis = 1).values\n",
        "y = dataset['gain_loss-0'].values\n",
        "#y = y[:-31]\n",
        "print(X)\n",
        "print(\"-------------------------\")\n",
        "print(y)"
      ],
      "execution_count": null,
      "outputs": [
        {
          "output_type": "stream",
          "text": [
            "[[ 3.00000000e+00  3.66000000e+02  5.30000000e+01 ...  2.98500000e-01\n",
            "   5.81200000e-01  3.14000000e-01]\n",
            " [ 2.00000000e+00  3.65000000e+02  5.30000000e+01 ...  4.70000000e-01\n",
            "   6.45200000e-01  4.45333333e-01]\n",
            " [ 1.00000000e+00  3.64000000e+02  5.30000000e+01 ...  4.25000000e-01\n",
            "   5.75600000e-01  6.32000000e-01]\n",
            " ...\n",
            " [ 1.00000000e+00  2.20000000e+01  4.00000000e+00 ... -6.91000000e-01\n",
            "  -6.92400000e-01 -5.58333333e-01]\n",
            " [ 4.00000000e+00  1.80000000e+01  3.00000000e+00 ... -6.22500000e-01\n",
            "  -5.79200000e-01 -4.31000000e-01]\n",
            " [ 3.00000000e+00  1.70000000e+01  3.00000000e+00 ... -4.04500000e-01\n",
            "  -6.04000000e-01 -3.56666667e-01]]\n",
            "-------------------------\n",
            "[ 1.89  0.53 -0.71 ... -1.34 -1.37 -3.55]\n"
          ],
          "name": "stdout"
        }
      ]
    },
    {
      "cell_type": "code",
      "metadata": {
        "colab": {
          "base_uri": "https://localhost:8080/"
        },
        "id": "wQNhBiAEN_fx",
        "outputId": "7ae33ddd-b8ad-4196-a326-c35990e4db05"
      },
      "source": [
        "len(X)"
      ],
      "execution_count": null,
      "outputs": [
        {
          "output_type": "execute_result",
          "data": {
            "text/plain": [
              "3263"
            ]
          },
          "metadata": {
            "tags": []
          },
          "execution_count": 209
        }
      ]
    },
    {
      "cell_type": "code",
      "metadata": {
        "colab": {
          "base_uri": "https://localhost:8080/"
        },
        "id": "RIcrsx6aOLGu",
        "outputId": "644d29cb-36fa-4bea-ee9b-d5374a301712"
      },
      "source": [
        "len(y)"
      ],
      "execution_count": null,
      "outputs": [
        {
          "output_type": "execute_result",
          "data": {
            "text/plain": [
              "3263"
            ]
          },
          "metadata": {
            "tags": []
          },
          "execution_count": 210
        }
      ]
    },
    {
      "cell_type": "code",
      "metadata": {
        "colab": {
          "base_uri": "https://localhost:8080/"
        },
        "id": "w4xd8XMCH3M2",
        "outputId": "d1644c8d-d67e-4ef4-af8c-229af17b51e3"
      },
      "source": [
        "from sklearn.ensemble import RandomForestRegressor\n",
        "\n",
        "regressor = RandomForestRegressor(n_estimators = 100, random_state = 0)\n",
        "\n",
        "regressor.fit(X, y)\n"
      ],
      "execution_count": null,
      "outputs": [
        {
          "output_type": "execute_result",
          "data": {
            "text/plain": [
              "RandomForestRegressor(bootstrap=True, ccp_alpha=0.0, criterion='mse',\n",
              "                      max_depth=None, max_features='auto', max_leaf_nodes=None,\n",
              "                      max_samples=None, min_impurity_decrease=0.0,\n",
              "                      min_impurity_split=None, min_samples_leaf=1,\n",
              "                      min_samples_split=2, min_weight_fraction_leaf=0.0,\n",
              "                      n_estimators=100, n_jobs=None, oob_score=False,\n",
              "                      random_state=0, verbose=0, warm_start=False)"
            ]
          },
          "metadata": {
            "tags": []
          },
          "execution_count": 211
        }
      ]
    },
    {
      "cell_type": "code",
      "metadata": {
        "colab": {
          "base_uri": "https://localhost:8080/"
        },
        "id": "G0BNR3t8Um8v",
        "outputId": "ac358838-154a-4947-c724-4f447b7d796a"
      },
      "source": [
        "#Prepare test set\n",
        "Xtest = testset\n",
        "Xtest.drop(Xtest.tail(31).index, inplace = True)\n",
        "Xtest = Xtest.drop(['Date', 'Close', 'gain_loss-0'], axis = 1).values\n",
        "ytest = testset['gain_loss-0'].values\n",
        "print(Xtest)\n",
        "print(\"-------------------------\")\n",
        "print(ytest)"
      ],
      "execution_count": null,
      "outputs": [
        {
          "output_type": "stream",
          "text": [
            "[[  3.         210.          30.         ...   0.5565       0.6288\n",
            "    0.47833333]\n",
            " [  2.         209.          30.         ...   0.577        0.726\n",
            "    0.45833333]\n",
            " [  1.         208.          30.         ...   0.7205       1.044\n",
            "    0.557     ]\n",
            " ...\n",
            " [  2.          20.           3.         ...   0.3205       0.4768\n",
            "    0.39866667]\n",
            " [  1.          19.           3.         ...   0.2765       0.354\n",
            "    0.297     ]\n",
            " [  4.          15.           2.         ...   0.4435       0.3316\n",
            "    0.41466667]]\n",
            "-------------------------\n",
            "[ 1.82 -0.18 -2.01  1.08  4.48  0.91  3.49  6.09 -6.37 -3.41 -1.49  0.65\n",
            " -1.49  1.56  4.6  -3.54  1.53 -0.79  3.29  2.37  0.36  0.23  0.86  1.51\n",
            "  2.5  -0.51  2.25  5.94 -7.05 -0.14 -2.37 -0.78  0.95  0.7   1.96 -0.63\n",
            "  0.09 -0.41  3.83 -1.56  0.66 -0.37  0.75  0.22  0.83 -0.93  4.23 -0.34\n",
            "  4.42 -1.08 -3.58 -1.06  6.3   4.87 -8.8  -3.73 -4.18  3.05  3.32  0.13\n",
            " -2.58  0.9  -2.76  2.66 -0.12 -0.09  0.87  4.47 -3.8   3.9  -3.04 -2.05\n",
            "  1.39  4.42 -1.41  1.22  0.15  2.97  1.93  0.47 -0.24  5.75  4.28  1.6\n",
            " -1.05 -0.2   6.28  2.18 -1.98 -3.09  3.11 -2.   -5.78  1.35 -0.5   2.35\n",
            "  0.53  3.95  2.41  5.45 -1.91  6.93 -4.72 -5.12 -3.04  9.22 -1.97 -9.44\n",
            "  4.27  0.47 -3.   -0.69 -1.67  0.09 -0.34  1.93  0.63 -0.17 -0.26  2.8\n",
            "  1.52  4.34  0.3   5.32  6.16 -7.56  3.22 -9.38 -0.6   1.51 -1.36  0.35\n",
            "  5.24  2.95 -2.76]\n"
          ],
          "name": "stdout"
        }
      ]
    },
    {
      "cell_type": "code",
      "metadata": {
        "colab": {
          "base_uri": "https://localhost:8080/"
        },
        "id": "sJYXf1mKU9t2",
        "outputId": "47d9d0e3-7e72-4a80-d3e5-be943e61e48f"
      },
      "source": [
        "y_pred = regressor.predict(Xtest)\n",
        "\n",
        "np_array = np.concatenate((y_pred.reshape(len(y_pred),1), ytest.reshape(len(ytest), 1)), axis = 1)\n",
        "\n",
        "results = pd.DataFrame(np_array, columns = ['pred','actual'])\n",
        "\n",
        "results['pred_b'] = np.where(results['pred'] > 0, 1, 0)\n",
        "results['actual_b'] = np.where(results['actual'] > 0, 1, 0)\n",
        "results['total_b'] = results['pred_b'] + results['actual_b']\n",
        "\n",
        "print(results)\n",
        "\n"
      ],
      "execution_count": null,
      "outputs": [
        {
          "output_type": "stream",
          "text": [
            "         pred  actual  pred_b  actual_b  total_b\n",
            "0    1.771760    1.82       1         1        2\n",
            "1   -1.725320   -0.18       0         0        0\n",
            "2   -2.226368   -2.01       0         0        0\n",
            "3    3.079408    1.08       1         1        2\n",
            "4    2.137418    4.48       1         1        2\n",
            "..        ...     ...     ...       ...      ...\n",
            "130 -2.213533   -1.36       0         0        0\n",
            "131  1.898500    0.35       1         1        2\n",
            "132  1.703442    5.24       1         1        2\n",
            "133  1.518966    2.95       1         1        2\n",
            "134 -1.763628   -2.76       0         0        0\n",
            "\n",
            "[135 rows x 5 columns]\n"
          ],
          "name": "stdout"
        }
      ]
    },
    {
      "cell_type": "code",
      "metadata": {
        "id": "-N1HSPFzYmaf"
      },
      "source": [
        "results.to_csv('/content/drive/MyDrive/Colab Notebooks/results.csv')"
      ],
      "execution_count": null,
      "outputs": []
    }
  ]
}