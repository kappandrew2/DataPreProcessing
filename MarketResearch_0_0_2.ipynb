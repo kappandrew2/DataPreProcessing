{
  "nbformat": 4,
  "nbformat_minor": 0,
  "metadata": {
    "colab": {
      "name": "MarketResearch.ipynb",
      "provenance": [],
      "collapsed_sections": [],
      "history_visible": true,
      "authorship_tag": "ABX9TyN7Aqy+tSVe3/YPCzLjqyZT",
      "include_colab_link": true
    },
    "kernelspec": {
      "name": "python3",
      "display_name": "Python 3"
    },
    "language_info": {
      "name": "python"
    }
  },
  "cells": [
    {
      "cell_type": "markdown",
      "metadata": {
        "id": "view-in-github",
        "colab_type": "text"
      },
      "source": [
        "<a href=\"https://colab.research.google.com/github/kappandrew2/DataPreProcessing/blob/main/MarketResearch_0_0_2.ipynb\" target=\"_parent\"><img src=\"https://colab.research.google.com/assets/colab-badge.svg\" alt=\"Open In Colab\"/></a>"
      ]
    },
    {
      "cell_type": "markdown",
      "metadata": {
        "id": "1mSu-6RRLTR1"
      },
      "source": [
        "#Model Purpose\n",
        "\n",
        "Utilize historical value and time attributes to predict the next day's gain or loss value\n",
        "\n",
        "!Dataset Notes: The dataset for this data solution must come from the following web sit and contain a large historical sample of data. For example:\n",
        "\n",
        "Begin Date = 12/01/2007 (Be mindful that the last 35 periods (in this case, days) will get chopped off of the bottom of the dataset during data preprocessing)\n",
        "\n",
        "End Date = Today's current value (to be run an hour before market close)\n",
        "\n",
        "Ticker = SPY\n",
        "\n",
        "Train Set = all data except last 60 periods (rows)\n",
        "\n",
        "Prediction Set = all data from -90 periods (days) to current\n",
        "\n",
        "https://www.wsj.com/market-data/quotes/index/SPX/historical-prices\n"
      ]
    },
    {
      "cell_type": "code",
      "metadata": {
        "id": "lx9d2QEa6mXf"
      },
      "source": [
        "import numpy as np\n",
        "import matplotlib.pyplot as plt\n",
        "import pandas as pd\n",
        "import datetime\n",
        "from sklearn.model_selection import train_test_split\n",
        "from datetime import date, datetime, timedelta\n",
        "from pandas._libs.tslibs.timestamps import Timestamp"
      ],
      "execution_count": 226,
      "outputs": []
    },
    {
      "cell_type": "markdown",
      "metadata": {
        "id": "6mLzKv5BGUUZ"
      },
      "source": [
        "#Connect to drive and import data set\n",
        "\n",
        "Using google drive\n",
        "\n",
        "Importing historical prices for ticker \"SPY\""
      ]
    },
    {
      "cell_type": "code",
      "metadata": {
        "colab": {
          "base_uri": "https://localhost:8080/"
        },
        "id": "LAo4DboL6vQh",
        "outputId": "9c8cf28c-c1f3-45ea-d2d1-89fab48a0732"
      },
      "source": [
        "#Create CSV from data export\n",
        "#https://www.wsj.com/market-data/quotes/index/SPX/historical-prices\n",
        "\n",
        "from google.colab import drive\n",
        "drive.mount('/content/drive', force_remount=True)\n",
        "\n",
        "dataset = pd.read_csv('/content/drive/MyDrive/Colab Notebooks/HistoricalPricesSPY.csv')\n",
        "\n",
        "print(dataset)"
      ],
      "execution_count": 227,
      "outputs": [
        {
          "output_type": "stream",
          "text": [
            "Mounted at /content/drive\n",
            "          Date     Open    High     Low     Close    Volume\n",
            "0     07/30/21  437.910  440.06  437.77  438.5100  68951203\n",
            "1     07/29/21  439.815  441.80  439.81  440.6500  47435340\n",
            "2     07/28/21  439.680  440.30  437.31  438.8300  52472359\n",
            "3     07/27/21  439.910  439.94  435.99  439.0100  67397133\n",
            "4     07/26/21  439.310  441.03  439.26  441.0200  43719191\n",
            "...        ...      ...     ...     ...       ...       ...\n",
            "1315  05/10/16  206.720  208.50  206.64  208.4500  77472211\n",
            "1316  05/09/16  205.570  206.40  205.36  205.8892  74374922\n",
            "1317  05/06/16  204.060  205.77  203.88  205.7200  89315000\n",
            "1318  05/05/16  205.560  205.98  204.47  204.9700  67619219\n",
            "1319  05/04/16  204.990  205.85  204.42  205.0100  92243805\n",
            "\n",
            "[1320 rows x 6 columns]\n"
          ],
          "name": "stdout"
        }
      ]
    },
    {
      "cell_type": "markdown",
      "metadata": {
        "id": "ZWGjihLGGnuD"
      },
      "source": [
        "#Modifiy dataset Content and Headers\n",
        "\n",
        "Remove contents not required for this exercise\n",
        "\n",
        "Renaming columns to remove leading white space\n",
        "\n",
        "Narrowing the dataset can be done via drop or select, both options are available (comment out the one not in use)"
      ]
    },
    {
      "cell_type": "code",
      "metadata": {
        "id": "4_0Dq0yU7GHg"
      },
      "source": [
        "dataset.rename({' Close': 'Close'}, axis=1, inplace = True)\n",
        "dataset = dataset[['Close', 'Date']]\n",
        "#dataset = dataset.drop([' Open', ' High', ' Low', ' Volume'], axis = 1)"
      ],
      "execution_count": 228,
      "outputs": []
    },
    {
      "cell_type": "markdown",
      "metadata": {
        "id": "V9Wa2WYcG1Og"
      },
      "source": [
        "#Dataset information validation\n",
        "\n",
        "Validate date frame, column contents and data types"
      ]
    },
    {
      "cell_type": "code",
      "metadata": {
        "colab": {
          "base_uri": "https://localhost:8080/"
        },
        "id": "QjAXsP-j7Ysg",
        "outputId": "a8542a4d-5cb5-4498-e7da-46fb9d3f69c2"
      },
      "source": [
        "dataset['Date'] = pd.to_datetime(dataset['Date'])\n",
        "\n",
        "dataset.info()"
      ],
      "execution_count": 229,
      "outputs": [
        {
          "output_type": "stream",
          "text": [
            "<class 'pandas.core.frame.DataFrame'>\n",
            "RangeIndex: 1320 entries, 0 to 1319\n",
            "Data columns (total 2 columns):\n",
            " #   Column  Non-Null Count  Dtype         \n",
            "---  ------  --------------  -----         \n",
            " 0   Close   1320 non-null   float64       \n",
            " 1   Date    1320 non-null   datetime64[ns]\n",
            "dtypes: datetime64[ns](1), float64(1)\n",
            "memory usage: 20.8 KB\n"
          ],
          "name": "stdout"
        }
      ]
    },
    {
      "cell_type": "markdown",
      "metadata": {
        "id": "jQhfTiNaHCIQ"
      },
      "source": [
        "#Change indext to date (for troublshooting)\n",
        "\n",
        "Moving date to the index assists in visually validating processes are working correctly\n",
        "\n",
        "!Note: This should be \"off\" except when troublshooting"
      ]
    },
    {
      "cell_type": "code",
      "metadata": {
        "colab": {
          "base_uri": "https://localhost:8080/"
        },
        "id": "yGn3MhfX4r7n",
        "outputId": "1c1cabea-dfa2-4879-dc14-9260c8f98410"
      },
      "source": [
        "#dataset['Date_Index'] = dataset['Date']\n",
        "#dataset.set_index('Date_Index', inplace=True)\n",
        "\n",
        "dataset.info()"
      ],
      "execution_count": 230,
      "outputs": [
        {
          "output_type": "stream",
          "text": [
            "<class 'pandas.core.frame.DataFrame'>\n",
            "RangeIndex: 1320 entries, 0 to 1319\n",
            "Data columns (total 2 columns):\n",
            " #   Column  Non-Null Count  Dtype         \n",
            "---  ------  --------------  -----         \n",
            " 0   Close   1320 non-null   float64       \n",
            " 1   Date    1320 non-null   datetime64[ns]\n",
            "dtypes: datetime64[ns](1), float64(1)\n",
            "memory usage: 20.8 KB\n"
          ],
          "name": "stdout"
        }
      ]
    },
    {
      "cell_type": "markdown",
      "metadata": {
        "id": "5NF3DoJCHWFM"
      },
      "source": [
        "#Create time attributes\n",
        "\n",
        "Time attributes will change date from a continous variable into discrete (a numeric categorical value)"
      ]
    },
    {
      "cell_type": "code",
      "metadata": {
        "colab": {
          "base_uri": "https://localhost:8080/"
        },
        "id": "BTr8otxU7gU5",
        "outputId": "9df9fd4d-3529-4cd4-9ca5-98f41a86d891"
      },
      "source": [
        "dataset['DOW'] = dataset['Date'].dt.dayofweek\n",
        "dataset['DOY'] = dataset['Date'].dt.dayofyear\n",
        "dataset['Week'] = dataset['Date'].dt.week\n",
        "dataset['Month'] = dataset['Date'].dt.month\n",
        "dataset['Quarter'] = dataset['Date'].dt.quarter\n",
        "\n",
        "dataset.dtypes"
      ],
      "execution_count": 231,
      "outputs": [
        {
          "output_type": "stream",
          "text": [
            "/usr/local/lib/python3.7/dist-packages/ipykernel_launcher.py:3: FutureWarning: Series.dt.weekofyear and Series.dt.week have been deprecated.  Please use Series.dt.isocalendar().week instead.\n",
            "  This is separate from the ipykernel package so we can avoid doing imports until\n"
          ],
          "name": "stderr"
        },
        {
          "output_type": "execute_result",
          "data": {
            "text/plain": [
              "Close             float64\n",
              "Date       datetime64[ns]\n",
              "DOW                 int64\n",
              "DOY                 int64\n",
              "Week                int64\n",
              "Month               int64\n",
              "Quarter             int64\n",
              "dtype: object"
            ]
          },
          "metadata": {
            "tags": []
          },
          "execution_count": 231
        }
      ]
    },
    {
      "cell_type": "markdown",
      "metadata": {
        "id": "GXUsxdw9H7KW"
      },
      "source": [
        "#Create skip-day gain loss values (and dependant variable #1)\n",
        "\n",
        "!Note: gain-loss-0 will ultimately end up being the dependant variable but also an independant variable (we will create a new column later and shift it down a row)\n",
        "\n",
        "1) Calculate the first day's gain loss by subtracting day -1 from day 0\n",
        "\n",
        "2) Calculate the second day's gain loss by subtracting day -2 from day 0\n",
        "\n",
        "3) Calculate the third day's gain loss by subtracting day -n from day 0\n",
        "\n",
        "!Note: This should be turned into a loop using i=n where n = the rows to be processed (now many previous rows)\n",
        "\n",
        "\n"
      ]
    },
    {
      "cell_type": "code",
      "metadata": {
        "colab": {
          "base_uri": "https://localhost:8080/"
        },
        "id": "ko_KBr4W7rZW",
        "outputId": "7f86e366-66e7-444d-8401-09b7ef0a20d0"
      },
      "source": [
        "dataset['gain_loss-0'] = dataset['Close'].diff(-1)\n",
        "dataset['gain_loss-1'] = dataset['Close'].diff(-2)\n",
        "#dataset['gain_loss-1'] = dataset['gain_loss-1'].shift(periods=-1, fill_value=0) #Removed these to experiment \n",
        "#with switching around the dependant variable rather than the independant variable\n",
        "dataset['gain_loss-2'] = dataset['Close'].diff(-3) \n",
        "#dataset['gain_loss-2'] = dataset['gain_loss-2'].shift(periods=-1, fill_value=0)\n",
        "dataset['gain_loss-3'] = dataset['Close'].diff(-4) \n",
        "#dataset['gain_loss-3'] = dataset['gain_loss-3'].shift(periods=-1, fill_value=0)\n",
        "dataset['gain_loss-4'] = dataset['Close'].diff(-5) \n",
        "#dataset['gain_loss-4'] = dataset['gain_loss-4'].shift(periods=-1, fill_value=0)\n",
        "\n",
        "print(dataset)\n",
        "#dataset.dtypes"
      ],
      "execution_count": 232,
      "outputs": [
        {
          "output_type": "stream",
          "text": [
            "         Close       Date  DOW  ...  gain_loss-2  gain_loss-3  gain_loss-4\n",
            "0     438.5100 2021-07-30    4  ...      -0.5000        -2.51        -1.43\n",
            "1     440.6500 2021-07-29    3  ...      -0.3700         0.71         5.19\n",
            "2     438.8300 2021-07-28    2  ...      -1.1100         3.37         4.28\n",
            "3     439.0100 2021-07-27    1  ...       3.5500         4.46         7.95\n",
            "4     441.0200 2021-07-26    0  ...       6.4700         9.96        16.05\n",
            "...        ...        ...  ...  ...          ...          ...          ...\n",
            "1315  208.4500 2016-05-10    1  ...       3.4800         3.44          NaN\n",
            "1316  205.8892 2016-05-09    0  ...       0.8792          NaN          NaN\n",
            "1317  205.7200 2016-05-06    4  ...          NaN          NaN          NaN\n",
            "1318  204.9700 2016-05-05    3  ...          NaN          NaN          NaN\n",
            "1319  205.0100 2016-05-04    2  ...          NaN          NaN          NaN\n",
            "\n",
            "[1320 rows x 12 columns]\n"
          ],
          "name": "stdout"
        }
      ]
    },
    {
      "cell_type": "markdown",
      "metadata": {
        "id": "tJLMlPczM8bw"
      },
      "source": [
        "#Create binary version of skip-day gain loss values (and dependant variable #2)\n",
        "\n",
        "!Note: gain-loss-0b will ultimately end up being the dependant variable but also an independant variable (we will create a new column later and shift it down a row)\n",
        "\n",
        "This process changes all gain loss continuous variables into a binary-descrete (dichotomous) variables\n",
        "\n",
        "!Note - This process should be converted into the previous process when that process is converted into a loop"
      ]
    },
    {
      "cell_type": "code",
      "metadata": {
        "colab": {
          "base_uri": "https://localhost:8080/"
        },
        "id": "8rnb0z4P8D79",
        "outputId": "b2fd2452-6ad9-46db-edf0-c88c81c43bb7"
      },
      "source": [
        "dataset['gain_loss-0b'] = np.where(dataset['gain_loss-0'] > 0, 1, 0)\n",
        "dataset['gain_loss-1b'] = np.where(dataset['gain_loss-1'] > 0, 1, 0)\n",
        "dataset['gain_loss-2b'] = np.where(dataset['gain_loss-2'] > 0, 1, 0)\n",
        "dataset['gain_loss-3b'] = np.where(dataset['gain_loss-3'] > 0, 1, 0)\n",
        "dataset['gain_loss-4b'] = np.where(dataset['gain_loss-4'] > 0, 1, 0)\n",
        "\n",
        "dataset.dtypes"
      ],
      "execution_count": 233,
      "outputs": [
        {
          "output_type": "execute_result",
          "data": {
            "text/plain": [
              "Close                  float64\n",
              "Date            datetime64[ns]\n",
              "DOW                      int64\n",
              "DOY                      int64\n",
              "Week                     int64\n",
              "Month                    int64\n",
              "Quarter                  int64\n",
              "gain_loss-0            float64\n",
              "gain_loss-1            float64\n",
              "gain_loss-2            float64\n",
              "gain_loss-3            float64\n",
              "gain_loss-4            float64\n",
              "gain_loss-0b             int64\n",
              "gain_loss-1b             int64\n",
              "gain_loss-2b             int64\n",
              "gain_loss-3b             int64\n",
              "gain_loss-4b             int64\n",
              "dtype: object"
            ]
          },
          "metadata": {
            "tags": []
          },
          "execution_count": 233
        }
      ]
    },
    {
      "cell_type": "markdown",
      "metadata": {
        "id": "qySpImzmN0ki"
      },
      "source": [
        "#Aggregate the binary skip-day gain loss values\n",
        "\n",
        "This creates a true categorical value from the binary descrete values.\n",
        "\n",
        "The theory is that, having binary values for each period (sparce matrix) and an aggregate (categorical), the values will work together to increase the value of this data\n",
        "\n",
        "!Note = This process should be indluded in the loop mentioned in notes from the above process (future modifications to the data pre-processing procedures)"
      ]
    },
    {
      "cell_type": "code",
      "metadata": {
        "colab": {
          "base_uri": "https://localhost:8080/",
          "height": 626
        },
        "id": "SzyHZx9vFIKb",
        "outputId": "f12983c5-76d3-45c1-a63a-4264d23bcade"
      },
      "source": [
        "dataset['gain_loss-total_b'] = dataset['gain_loss-0b'] + dataset['gain_loss-1b'] + dataset['gain_loss-2b'] + dataset['gain_loss-3b'] + dataset['gain_loss-4b']\n",
        "\n",
        "dataset.head(-1)"
      ],
      "execution_count": 234,
      "outputs": [
        {
          "output_type": "execute_result",
          "data": {
            "text/html": [
              "<div>\n",
              "<style scoped>\n",
              "    .dataframe tbody tr th:only-of-type {\n",
              "        vertical-align: middle;\n",
              "    }\n",
              "\n",
              "    .dataframe tbody tr th {\n",
              "        vertical-align: top;\n",
              "    }\n",
              "\n",
              "    .dataframe thead th {\n",
              "        text-align: right;\n",
              "    }\n",
              "</style>\n",
              "<table border=\"1\" class=\"dataframe\">\n",
              "  <thead>\n",
              "    <tr style=\"text-align: right;\">\n",
              "      <th></th>\n",
              "      <th>Close</th>\n",
              "      <th>Date</th>\n",
              "      <th>DOW</th>\n",
              "      <th>DOY</th>\n",
              "      <th>Week</th>\n",
              "      <th>Month</th>\n",
              "      <th>Quarter</th>\n",
              "      <th>gain_loss-0</th>\n",
              "      <th>gain_loss-1</th>\n",
              "      <th>gain_loss-2</th>\n",
              "      <th>gain_loss-3</th>\n",
              "      <th>gain_loss-4</th>\n",
              "      <th>gain_loss-0b</th>\n",
              "      <th>gain_loss-1b</th>\n",
              "      <th>gain_loss-2b</th>\n",
              "      <th>gain_loss-3b</th>\n",
              "      <th>gain_loss-4b</th>\n",
              "      <th>gain_loss-total_b</th>\n",
              "    </tr>\n",
              "  </thead>\n",
              "  <tbody>\n",
              "    <tr>\n",
              "      <th>0</th>\n",
              "      <td>438.5100</td>\n",
              "      <td>2021-07-30</td>\n",
              "      <td>4</td>\n",
              "      <td>211</td>\n",
              "      <td>30</td>\n",
              "      <td>7</td>\n",
              "      <td>3</td>\n",
              "      <td>-2.1400</td>\n",
              "      <td>-0.3200</td>\n",
              "      <td>-0.5000</td>\n",
              "      <td>-2.51</td>\n",
              "      <td>-1.43</td>\n",
              "      <td>0</td>\n",
              "      <td>0</td>\n",
              "      <td>0</td>\n",
              "      <td>0</td>\n",
              "      <td>0</td>\n",
              "      <td>0</td>\n",
              "    </tr>\n",
              "    <tr>\n",
              "      <th>1</th>\n",
              "      <td>440.6500</td>\n",
              "      <td>2021-07-29</td>\n",
              "      <td>3</td>\n",
              "      <td>210</td>\n",
              "      <td>30</td>\n",
              "      <td>7</td>\n",
              "      <td>3</td>\n",
              "      <td>1.8200</td>\n",
              "      <td>1.6400</td>\n",
              "      <td>-0.3700</td>\n",
              "      <td>0.71</td>\n",
              "      <td>5.19</td>\n",
              "      <td>1</td>\n",
              "      <td>1</td>\n",
              "      <td>0</td>\n",
              "      <td>1</td>\n",
              "      <td>1</td>\n",
              "      <td>4</td>\n",
              "    </tr>\n",
              "    <tr>\n",
              "      <th>2</th>\n",
              "      <td>438.8300</td>\n",
              "      <td>2021-07-28</td>\n",
              "      <td>2</td>\n",
              "      <td>209</td>\n",
              "      <td>30</td>\n",
              "      <td>7</td>\n",
              "      <td>3</td>\n",
              "      <td>-0.1800</td>\n",
              "      <td>-2.1900</td>\n",
              "      <td>-1.1100</td>\n",
              "      <td>3.37</td>\n",
              "      <td>4.28</td>\n",
              "      <td>0</td>\n",
              "      <td>0</td>\n",
              "      <td>0</td>\n",
              "      <td>1</td>\n",
              "      <td>1</td>\n",
              "      <td>2</td>\n",
              "    </tr>\n",
              "    <tr>\n",
              "      <th>3</th>\n",
              "      <td>439.0100</td>\n",
              "      <td>2021-07-27</td>\n",
              "      <td>1</td>\n",
              "      <td>208</td>\n",
              "      <td>30</td>\n",
              "      <td>7</td>\n",
              "      <td>3</td>\n",
              "      <td>-2.0100</td>\n",
              "      <td>-0.9300</td>\n",
              "      <td>3.5500</td>\n",
              "      <td>4.46</td>\n",
              "      <td>7.95</td>\n",
              "      <td>0</td>\n",
              "      <td>0</td>\n",
              "      <td>1</td>\n",
              "      <td>1</td>\n",
              "      <td>1</td>\n",
              "      <td>3</td>\n",
              "    </tr>\n",
              "    <tr>\n",
              "      <th>4</th>\n",
              "      <td>441.0200</td>\n",
              "      <td>2021-07-26</td>\n",
              "      <td>0</td>\n",
              "      <td>207</td>\n",
              "      <td>30</td>\n",
              "      <td>7</td>\n",
              "      <td>3</td>\n",
              "      <td>1.0800</td>\n",
              "      <td>5.5600</td>\n",
              "      <td>6.4700</td>\n",
              "      <td>9.96</td>\n",
              "      <td>16.05</td>\n",
              "      <td>1</td>\n",
              "      <td>1</td>\n",
              "      <td>1</td>\n",
              "      <td>1</td>\n",
              "      <td>1</td>\n",
              "      <td>5</td>\n",
              "    </tr>\n",
              "    <tr>\n",
              "      <th>...</th>\n",
              "      <td>...</td>\n",
              "      <td>...</td>\n",
              "      <td>...</td>\n",
              "      <td>...</td>\n",
              "      <td>...</td>\n",
              "      <td>...</td>\n",
              "      <td>...</td>\n",
              "      <td>...</td>\n",
              "      <td>...</td>\n",
              "      <td>...</td>\n",
              "      <td>...</td>\n",
              "      <td>...</td>\n",
              "      <td>...</td>\n",
              "      <td>...</td>\n",
              "      <td>...</td>\n",
              "      <td>...</td>\n",
              "      <td>...</td>\n",
              "      <td>...</td>\n",
              "    </tr>\n",
              "    <tr>\n",
              "      <th>1314</th>\n",
              "      <td>206.5000</td>\n",
              "      <td>2016-05-11</td>\n",
              "      <td>2</td>\n",
              "      <td>132</td>\n",
              "      <td>19</td>\n",
              "      <td>5</td>\n",
              "      <td>2</td>\n",
              "      <td>-1.9500</td>\n",
              "      <td>0.6108</td>\n",
              "      <td>0.7800</td>\n",
              "      <td>1.53</td>\n",
              "      <td>1.49</td>\n",
              "      <td>0</td>\n",
              "      <td>1</td>\n",
              "      <td>1</td>\n",
              "      <td>1</td>\n",
              "      <td>1</td>\n",
              "      <td>4</td>\n",
              "    </tr>\n",
              "    <tr>\n",
              "      <th>1315</th>\n",
              "      <td>208.4500</td>\n",
              "      <td>2016-05-10</td>\n",
              "      <td>1</td>\n",
              "      <td>131</td>\n",
              "      <td>19</td>\n",
              "      <td>5</td>\n",
              "      <td>2</td>\n",
              "      <td>2.5608</td>\n",
              "      <td>2.7300</td>\n",
              "      <td>3.4800</td>\n",
              "      <td>3.44</td>\n",
              "      <td>NaN</td>\n",
              "      <td>1</td>\n",
              "      <td>1</td>\n",
              "      <td>1</td>\n",
              "      <td>1</td>\n",
              "      <td>0</td>\n",
              "      <td>4</td>\n",
              "    </tr>\n",
              "    <tr>\n",
              "      <th>1316</th>\n",
              "      <td>205.8892</td>\n",
              "      <td>2016-05-09</td>\n",
              "      <td>0</td>\n",
              "      <td>130</td>\n",
              "      <td>19</td>\n",
              "      <td>5</td>\n",
              "      <td>2</td>\n",
              "      <td>0.1692</td>\n",
              "      <td>0.9192</td>\n",
              "      <td>0.8792</td>\n",
              "      <td>NaN</td>\n",
              "      <td>NaN</td>\n",
              "      <td>1</td>\n",
              "      <td>1</td>\n",
              "      <td>1</td>\n",
              "      <td>0</td>\n",
              "      <td>0</td>\n",
              "      <td>3</td>\n",
              "    </tr>\n",
              "    <tr>\n",
              "      <th>1317</th>\n",
              "      <td>205.7200</td>\n",
              "      <td>2016-05-06</td>\n",
              "      <td>4</td>\n",
              "      <td>127</td>\n",
              "      <td>18</td>\n",
              "      <td>5</td>\n",
              "      <td>2</td>\n",
              "      <td>0.7500</td>\n",
              "      <td>0.7100</td>\n",
              "      <td>NaN</td>\n",
              "      <td>NaN</td>\n",
              "      <td>NaN</td>\n",
              "      <td>1</td>\n",
              "      <td>1</td>\n",
              "      <td>0</td>\n",
              "      <td>0</td>\n",
              "      <td>0</td>\n",
              "      <td>2</td>\n",
              "    </tr>\n",
              "    <tr>\n",
              "      <th>1318</th>\n",
              "      <td>204.9700</td>\n",
              "      <td>2016-05-05</td>\n",
              "      <td>3</td>\n",
              "      <td>126</td>\n",
              "      <td>18</td>\n",
              "      <td>5</td>\n",
              "      <td>2</td>\n",
              "      <td>-0.0400</td>\n",
              "      <td>NaN</td>\n",
              "      <td>NaN</td>\n",
              "      <td>NaN</td>\n",
              "      <td>NaN</td>\n",
              "      <td>0</td>\n",
              "      <td>0</td>\n",
              "      <td>0</td>\n",
              "      <td>0</td>\n",
              "      <td>0</td>\n",
              "      <td>0</td>\n",
              "    </tr>\n",
              "  </tbody>\n",
              "</table>\n",
              "<p>1319 rows × 18 columns</p>\n",
              "</div>"
            ],
            "text/plain": [
              "         Close       Date  DOW  ...  gain_loss-3b  gain_loss-4b  gain_loss-total_b\n",
              "0     438.5100 2021-07-30    4  ...             0             0                  0\n",
              "1     440.6500 2021-07-29    3  ...             1             1                  4\n",
              "2     438.8300 2021-07-28    2  ...             1             1                  2\n",
              "3     439.0100 2021-07-27    1  ...             1             1                  3\n",
              "4     441.0200 2021-07-26    0  ...             1             1                  5\n",
              "...        ...        ...  ...  ...           ...           ...                ...\n",
              "1314  206.5000 2016-05-11    2  ...             1             1                  4\n",
              "1315  208.4500 2016-05-10    1  ...             1             0                  4\n",
              "1316  205.8892 2016-05-09    0  ...             0             0                  3\n",
              "1317  205.7200 2016-05-06    4  ...             0             0                  2\n",
              "1318  204.9700 2016-05-05    3  ...             0             0                  0\n",
              "\n",
              "[1319 rows x 18 columns]"
            ]
          },
          "metadata": {
            "tags": []
          },
          "execution_count": 234
        }
      ]
    },
    {
      "cell_type": "markdown",
      "metadata": {
        "id": "2LMh_Hj8PWIq"
      },
      "source": [
        "#Create daily gain loss and denormalize values\n",
        "\n",
        "1) Calculate the first day's gain loss by subtracting day -1 from day 0\n",
        "\n",
        "2) Calculate the second day's gain loss by subtracting day -2 from day -1\n",
        "\n",
        "3) Calculate the third day's gain loss by subtracting day -n from day -n+1\n",
        "\n",
        "This process creates a new column and removes the top rows in accordance with the desired \"lookback\" period - shift over 1 and lift by 1, shift over 2 and lift by 2, shift over n and lift by n\n",
        "\n",
        "!Note: This should be turned into a loop using i=n where n = the rows to be processed (now many previous rows)\n"
      ]
    },
    {
      "cell_type": "code",
      "metadata": {
        "colab": {
          "base_uri": "https://localhost:8080/",
          "height": 326
        },
        "id": "Swk_VFSW9P1P",
        "outputId": "20918d90-71d9-4d05-dde4-5d2165c316e1"
      },
      "source": [
        "dataset['prior_day-0'] = dataset['gain_loss-0']\n",
        "#dataset['prior_day-1'] = dataset['prior_day-1'].shift(periods=-1, fill_value=0)#Removed this to experiment \n",
        "#with switching around the dependant variable rather than the independant variable\n",
        "dataset['prior_day-1'] = dataset['gain_loss-0']\n",
        "dataset['prior_day-1'] = dataset['prior_day-1'].shift(periods=-1, fill_value=0)\n",
        "dataset['prior_day-2'] = dataset['gain_loss-0']\n",
        "dataset['prior_day-2'] = dataset['prior_day-2'].shift(periods=-2, fill_value=0)\n",
        "dataset['prior_day-3'] = dataset['gain_loss-0']\n",
        "dataset['prior_day-3'] = dataset['prior_day-3'].shift(periods=-3, fill_value=0)\n",
        "dataset['prior_day-4'] = dataset['gain_loss-0']\n",
        "dataset['prior_day-4'] = dataset['prior_day-4'].shift(periods=-4, fill_value=0)\n",
        "dataset.head()"
      ],
      "execution_count": 235,
      "outputs": [
        {
          "output_type": "execute_result",
          "data": {
            "text/html": [
              "<div>\n",
              "<style scoped>\n",
              "    .dataframe tbody tr th:only-of-type {\n",
              "        vertical-align: middle;\n",
              "    }\n",
              "\n",
              "    .dataframe tbody tr th {\n",
              "        vertical-align: top;\n",
              "    }\n",
              "\n",
              "    .dataframe thead th {\n",
              "        text-align: right;\n",
              "    }\n",
              "</style>\n",
              "<table border=\"1\" class=\"dataframe\">\n",
              "  <thead>\n",
              "    <tr style=\"text-align: right;\">\n",
              "      <th></th>\n",
              "      <th>Close</th>\n",
              "      <th>Date</th>\n",
              "      <th>DOW</th>\n",
              "      <th>DOY</th>\n",
              "      <th>Week</th>\n",
              "      <th>Month</th>\n",
              "      <th>Quarter</th>\n",
              "      <th>gain_loss-0</th>\n",
              "      <th>gain_loss-1</th>\n",
              "      <th>gain_loss-2</th>\n",
              "      <th>gain_loss-3</th>\n",
              "      <th>gain_loss-4</th>\n",
              "      <th>gain_loss-0b</th>\n",
              "      <th>gain_loss-1b</th>\n",
              "      <th>gain_loss-2b</th>\n",
              "      <th>gain_loss-3b</th>\n",
              "      <th>gain_loss-4b</th>\n",
              "      <th>gain_loss-total_b</th>\n",
              "      <th>prior_day-0</th>\n",
              "      <th>prior_day-1</th>\n",
              "      <th>prior_day-2</th>\n",
              "      <th>prior_day-3</th>\n",
              "      <th>prior_day-4</th>\n",
              "    </tr>\n",
              "  </thead>\n",
              "  <tbody>\n",
              "    <tr>\n",
              "      <th>0</th>\n",
              "      <td>438.51</td>\n",
              "      <td>2021-07-30</td>\n",
              "      <td>4</td>\n",
              "      <td>211</td>\n",
              "      <td>30</td>\n",
              "      <td>7</td>\n",
              "      <td>3</td>\n",
              "      <td>-2.14</td>\n",
              "      <td>-0.32</td>\n",
              "      <td>-0.50</td>\n",
              "      <td>-2.51</td>\n",
              "      <td>-1.43</td>\n",
              "      <td>0</td>\n",
              "      <td>0</td>\n",
              "      <td>0</td>\n",
              "      <td>0</td>\n",
              "      <td>0</td>\n",
              "      <td>0</td>\n",
              "      <td>-2.14</td>\n",
              "      <td>1.82</td>\n",
              "      <td>-0.18</td>\n",
              "      <td>-2.01</td>\n",
              "      <td>1.08</td>\n",
              "    </tr>\n",
              "    <tr>\n",
              "      <th>1</th>\n",
              "      <td>440.65</td>\n",
              "      <td>2021-07-29</td>\n",
              "      <td>3</td>\n",
              "      <td>210</td>\n",
              "      <td>30</td>\n",
              "      <td>7</td>\n",
              "      <td>3</td>\n",
              "      <td>1.82</td>\n",
              "      <td>1.64</td>\n",
              "      <td>-0.37</td>\n",
              "      <td>0.71</td>\n",
              "      <td>5.19</td>\n",
              "      <td>1</td>\n",
              "      <td>1</td>\n",
              "      <td>0</td>\n",
              "      <td>1</td>\n",
              "      <td>1</td>\n",
              "      <td>4</td>\n",
              "      <td>1.82</td>\n",
              "      <td>-0.18</td>\n",
              "      <td>-2.01</td>\n",
              "      <td>1.08</td>\n",
              "      <td>4.48</td>\n",
              "    </tr>\n",
              "    <tr>\n",
              "      <th>2</th>\n",
              "      <td>438.83</td>\n",
              "      <td>2021-07-28</td>\n",
              "      <td>2</td>\n",
              "      <td>209</td>\n",
              "      <td>30</td>\n",
              "      <td>7</td>\n",
              "      <td>3</td>\n",
              "      <td>-0.18</td>\n",
              "      <td>-2.19</td>\n",
              "      <td>-1.11</td>\n",
              "      <td>3.37</td>\n",
              "      <td>4.28</td>\n",
              "      <td>0</td>\n",
              "      <td>0</td>\n",
              "      <td>0</td>\n",
              "      <td>1</td>\n",
              "      <td>1</td>\n",
              "      <td>2</td>\n",
              "      <td>-0.18</td>\n",
              "      <td>-2.01</td>\n",
              "      <td>1.08</td>\n",
              "      <td>4.48</td>\n",
              "      <td>0.91</td>\n",
              "    </tr>\n",
              "    <tr>\n",
              "      <th>3</th>\n",
              "      <td>439.01</td>\n",
              "      <td>2021-07-27</td>\n",
              "      <td>1</td>\n",
              "      <td>208</td>\n",
              "      <td>30</td>\n",
              "      <td>7</td>\n",
              "      <td>3</td>\n",
              "      <td>-2.01</td>\n",
              "      <td>-0.93</td>\n",
              "      <td>3.55</td>\n",
              "      <td>4.46</td>\n",
              "      <td>7.95</td>\n",
              "      <td>0</td>\n",
              "      <td>0</td>\n",
              "      <td>1</td>\n",
              "      <td>1</td>\n",
              "      <td>1</td>\n",
              "      <td>3</td>\n",
              "      <td>-2.01</td>\n",
              "      <td>1.08</td>\n",
              "      <td>4.48</td>\n",
              "      <td>0.91</td>\n",
              "      <td>3.49</td>\n",
              "    </tr>\n",
              "    <tr>\n",
              "      <th>4</th>\n",
              "      <td>441.02</td>\n",
              "      <td>2021-07-26</td>\n",
              "      <td>0</td>\n",
              "      <td>207</td>\n",
              "      <td>30</td>\n",
              "      <td>7</td>\n",
              "      <td>3</td>\n",
              "      <td>1.08</td>\n",
              "      <td>5.56</td>\n",
              "      <td>6.47</td>\n",
              "      <td>9.96</td>\n",
              "      <td>16.05</td>\n",
              "      <td>1</td>\n",
              "      <td>1</td>\n",
              "      <td>1</td>\n",
              "      <td>1</td>\n",
              "      <td>1</td>\n",
              "      <td>5</td>\n",
              "      <td>1.08</td>\n",
              "      <td>4.48</td>\n",
              "      <td>0.91</td>\n",
              "      <td>3.49</td>\n",
              "      <td>6.09</td>\n",
              "    </tr>\n",
              "  </tbody>\n",
              "</table>\n",
              "</div>"
            ],
            "text/plain": [
              "    Close       Date  DOW  ...  prior_day-2  prior_day-3  prior_day-4\n",
              "0  438.51 2021-07-30    4  ...        -0.18        -2.01         1.08\n",
              "1  440.65 2021-07-29    3  ...        -2.01         1.08         4.48\n",
              "2  438.83 2021-07-28    2  ...         1.08         4.48         0.91\n",
              "3  439.01 2021-07-27    1  ...         4.48         0.91         3.49\n",
              "4  441.02 2021-07-26    0  ...         0.91         3.49         6.09\n",
              "\n",
              "[5 rows x 23 columns]"
            ]
          },
          "metadata": {
            "tags": []
          },
          "execution_count": 235
        }
      ]
    },
    {
      "cell_type": "markdown",
      "metadata": {
        "id": "6Pj-PFciR9O7"
      },
      "source": [
        "#Create binary version of daily gain loss values\n",
        "\n",
        "This process changes all gain loss continuous variables into a binary-descrete (dichotomous) variables\n",
        "\n",
        "!Note - This process should be converted into the previous process when that process is converted into a loop"
      ]
    },
    {
      "cell_type": "code",
      "metadata": {
        "colab": {
          "base_uri": "https://localhost:8080/",
          "height": 326
        },
        "id": "HsobZVYEC0-h",
        "outputId": "639bebfc-6a54-460d-d0f9-a765749d6824"
      },
      "source": [
        "dataset['prior_day-0b'] = np.where(dataset['prior_day-0'] > 0, 1, 0)\n",
        "dataset['prior_day-1b'] = np.where(dataset['prior_day-1'] > 0, 1, 0)\n",
        "dataset['prior_day-2b'] = np.where(dataset['prior_day-2'] > 0, 1, 0)\n",
        "dataset['prior_day-3b'] = np.where(dataset['prior_day-3'] > 0, 1, 0)\n",
        "dataset['prior_day-4b'] = np.where(dataset['prior_day-4'] > 0, 1, 0)\n",
        "dataset.head()"
      ],
      "execution_count": 236,
      "outputs": [
        {
          "output_type": "execute_result",
          "data": {
            "text/html": [
              "<div>\n",
              "<style scoped>\n",
              "    .dataframe tbody tr th:only-of-type {\n",
              "        vertical-align: middle;\n",
              "    }\n",
              "\n",
              "    .dataframe tbody tr th {\n",
              "        vertical-align: top;\n",
              "    }\n",
              "\n",
              "    .dataframe thead th {\n",
              "        text-align: right;\n",
              "    }\n",
              "</style>\n",
              "<table border=\"1\" class=\"dataframe\">\n",
              "  <thead>\n",
              "    <tr style=\"text-align: right;\">\n",
              "      <th></th>\n",
              "      <th>Close</th>\n",
              "      <th>Date</th>\n",
              "      <th>DOW</th>\n",
              "      <th>DOY</th>\n",
              "      <th>Week</th>\n",
              "      <th>Month</th>\n",
              "      <th>Quarter</th>\n",
              "      <th>gain_loss-0</th>\n",
              "      <th>gain_loss-1</th>\n",
              "      <th>gain_loss-2</th>\n",
              "      <th>gain_loss-3</th>\n",
              "      <th>gain_loss-4</th>\n",
              "      <th>gain_loss-0b</th>\n",
              "      <th>gain_loss-1b</th>\n",
              "      <th>gain_loss-2b</th>\n",
              "      <th>gain_loss-3b</th>\n",
              "      <th>gain_loss-4b</th>\n",
              "      <th>gain_loss-total_b</th>\n",
              "      <th>prior_day-0</th>\n",
              "      <th>prior_day-1</th>\n",
              "      <th>prior_day-2</th>\n",
              "      <th>prior_day-3</th>\n",
              "      <th>prior_day-4</th>\n",
              "      <th>prior_day-0b</th>\n",
              "      <th>prior_day-1b</th>\n",
              "      <th>prior_day-2b</th>\n",
              "      <th>prior_day-3b</th>\n",
              "      <th>prior_day-4b</th>\n",
              "    </tr>\n",
              "  </thead>\n",
              "  <tbody>\n",
              "    <tr>\n",
              "      <th>0</th>\n",
              "      <td>438.51</td>\n",
              "      <td>2021-07-30</td>\n",
              "      <td>4</td>\n",
              "      <td>211</td>\n",
              "      <td>30</td>\n",
              "      <td>7</td>\n",
              "      <td>3</td>\n",
              "      <td>-2.14</td>\n",
              "      <td>-0.32</td>\n",
              "      <td>-0.50</td>\n",
              "      <td>-2.51</td>\n",
              "      <td>-1.43</td>\n",
              "      <td>0</td>\n",
              "      <td>0</td>\n",
              "      <td>0</td>\n",
              "      <td>0</td>\n",
              "      <td>0</td>\n",
              "      <td>0</td>\n",
              "      <td>-2.14</td>\n",
              "      <td>1.82</td>\n",
              "      <td>-0.18</td>\n",
              "      <td>-2.01</td>\n",
              "      <td>1.08</td>\n",
              "      <td>0</td>\n",
              "      <td>1</td>\n",
              "      <td>0</td>\n",
              "      <td>0</td>\n",
              "      <td>1</td>\n",
              "    </tr>\n",
              "    <tr>\n",
              "      <th>1</th>\n",
              "      <td>440.65</td>\n",
              "      <td>2021-07-29</td>\n",
              "      <td>3</td>\n",
              "      <td>210</td>\n",
              "      <td>30</td>\n",
              "      <td>7</td>\n",
              "      <td>3</td>\n",
              "      <td>1.82</td>\n",
              "      <td>1.64</td>\n",
              "      <td>-0.37</td>\n",
              "      <td>0.71</td>\n",
              "      <td>5.19</td>\n",
              "      <td>1</td>\n",
              "      <td>1</td>\n",
              "      <td>0</td>\n",
              "      <td>1</td>\n",
              "      <td>1</td>\n",
              "      <td>4</td>\n",
              "      <td>1.82</td>\n",
              "      <td>-0.18</td>\n",
              "      <td>-2.01</td>\n",
              "      <td>1.08</td>\n",
              "      <td>4.48</td>\n",
              "      <td>1</td>\n",
              "      <td>0</td>\n",
              "      <td>0</td>\n",
              "      <td>1</td>\n",
              "      <td>1</td>\n",
              "    </tr>\n",
              "    <tr>\n",
              "      <th>2</th>\n",
              "      <td>438.83</td>\n",
              "      <td>2021-07-28</td>\n",
              "      <td>2</td>\n",
              "      <td>209</td>\n",
              "      <td>30</td>\n",
              "      <td>7</td>\n",
              "      <td>3</td>\n",
              "      <td>-0.18</td>\n",
              "      <td>-2.19</td>\n",
              "      <td>-1.11</td>\n",
              "      <td>3.37</td>\n",
              "      <td>4.28</td>\n",
              "      <td>0</td>\n",
              "      <td>0</td>\n",
              "      <td>0</td>\n",
              "      <td>1</td>\n",
              "      <td>1</td>\n",
              "      <td>2</td>\n",
              "      <td>-0.18</td>\n",
              "      <td>-2.01</td>\n",
              "      <td>1.08</td>\n",
              "      <td>4.48</td>\n",
              "      <td>0.91</td>\n",
              "      <td>0</td>\n",
              "      <td>0</td>\n",
              "      <td>1</td>\n",
              "      <td>1</td>\n",
              "      <td>1</td>\n",
              "    </tr>\n",
              "    <tr>\n",
              "      <th>3</th>\n",
              "      <td>439.01</td>\n",
              "      <td>2021-07-27</td>\n",
              "      <td>1</td>\n",
              "      <td>208</td>\n",
              "      <td>30</td>\n",
              "      <td>7</td>\n",
              "      <td>3</td>\n",
              "      <td>-2.01</td>\n",
              "      <td>-0.93</td>\n",
              "      <td>3.55</td>\n",
              "      <td>4.46</td>\n",
              "      <td>7.95</td>\n",
              "      <td>0</td>\n",
              "      <td>0</td>\n",
              "      <td>1</td>\n",
              "      <td>1</td>\n",
              "      <td>1</td>\n",
              "      <td>3</td>\n",
              "      <td>-2.01</td>\n",
              "      <td>1.08</td>\n",
              "      <td>4.48</td>\n",
              "      <td>0.91</td>\n",
              "      <td>3.49</td>\n",
              "      <td>0</td>\n",
              "      <td>1</td>\n",
              "      <td>1</td>\n",
              "      <td>1</td>\n",
              "      <td>1</td>\n",
              "    </tr>\n",
              "    <tr>\n",
              "      <th>4</th>\n",
              "      <td>441.02</td>\n",
              "      <td>2021-07-26</td>\n",
              "      <td>0</td>\n",
              "      <td>207</td>\n",
              "      <td>30</td>\n",
              "      <td>7</td>\n",
              "      <td>3</td>\n",
              "      <td>1.08</td>\n",
              "      <td>5.56</td>\n",
              "      <td>6.47</td>\n",
              "      <td>9.96</td>\n",
              "      <td>16.05</td>\n",
              "      <td>1</td>\n",
              "      <td>1</td>\n",
              "      <td>1</td>\n",
              "      <td>1</td>\n",
              "      <td>1</td>\n",
              "      <td>5</td>\n",
              "      <td>1.08</td>\n",
              "      <td>4.48</td>\n",
              "      <td>0.91</td>\n",
              "      <td>3.49</td>\n",
              "      <td>6.09</td>\n",
              "      <td>1</td>\n",
              "      <td>1</td>\n",
              "      <td>1</td>\n",
              "      <td>1</td>\n",
              "      <td>1</td>\n",
              "    </tr>\n",
              "  </tbody>\n",
              "</table>\n",
              "</div>"
            ],
            "text/plain": [
              "    Close       Date  DOW  ...  prior_day-2b  prior_day-3b  prior_day-4b\n",
              "0  438.51 2021-07-30    4  ...             0             0             1\n",
              "1  440.65 2021-07-29    3  ...             0             1             1\n",
              "2  438.83 2021-07-28    2  ...             1             1             1\n",
              "3  439.01 2021-07-27    1  ...             1             1             1\n",
              "4  441.02 2021-07-26    0  ...             1             1             1\n",
              "\n",
              "[5 rows x 28 columns]"
            ]
          },
          "metadata": {
            "tags": []
          },
          "execution_count": 236
        }
      ]
    },
    {
      "cell_type": "markdown",
      "metadata": {
        "id": "exCULdkeSyFf"
      },
      "source": [
        "#Aggregate the binary daily gain loss values\n",
        "\n",
        "This creates a true categorical value from the binary descrete values.\n",
        "\n",
        "The theory is that, having binary values for each period (sparce matrix) and an aggregate (categorical), the values will work together to increase the value of this data\n",
        "\n",
        "!Note = This process should be indluded in the loop mentioned in notes from the above process (future modifications to the data pre-processing procedures)"
      ]
    },
    {
      "cell_type": "code",
      "metadata": {
        "colab": {
          "base_uri": "https://localhost:8080/",
          "height": 326
        },
        "id": "yTrfNFhlEdjr",
        "outputId": "aa118885-c27c-4e55-edc8-f5ba58a58818"
      },
      "source": [
        "dataset['prior_day-total_b'] = dataset['prior_day-0b'] + dataset['prior_day-1b'] + dataset['prior_day-2b'] + dataset['prior_day-3b'] + dataset['prior_day-4b'] \n",
        "dataset.head(5)"
      ],
      "execution_count": 237,
      "outputs": [
        {
          "output_type": "execute_result",
          "data": {
            "text/html": [
              "<div>\n",
              "<style scoped>\n",
              "    .dataframe tbody tr th:only-of-type {\n",
              "        vertical-align: middle;\n",
              "    }\n",
              "\n",
              "    .dataframe tbody tr th {\n",
              "        vertical-align: top;\n",
              "    }\n",
              "\n",
              "    .dataframe thead th {\n",
              "        text-align: right;\n",
              "    }\n",
              "</style>\n",
              "<table border=\"1\" class=\"dataframe\">\n",
              "  <thead>\n",
              "    <tr style=\"text-align: right;\">\n",
              "      <th></th>\n",
              "      <th>Close</th>\n",
              "      <th>Date</th>\n",
              "      <th>DOW</th>\n",
              "      <th>DOY</th>\n",
              "      <th>Week</th>\n",
              "      <th>Month</th>\n",
              "      <th>Quarter</th>\n",
              "      <th>gain_loss-0</th>\n",
              "      <th>gain_loss-1</th>\n",
              "      <th>gain_loss-2</th>\n",
              "      <th>gain_loss-3</th>\n",
              "      <th>gain_loss-4</th>\n",
              "      <th>gain_loss-0b</th>\n",
              "      <th>gain_loss-1b</th>\n",
              "      <th>gain_loss-2b</th>\n",
              "      <th>gain_loss-3b</th>\n",
              "      <th>gain_loss-4b</th>\n",
              "      <th>gain_loss-total_b</th>\n",
              "      <th>prior_day-0</th>\n",
              "      <th>prior_day-1</th>\n",
              "      <th>prior_day-2</th>\n",
              "      <th>prior_day-3</th>\n",
              "      <th>prior_day-4</th>\n",
              "      <th>prior_day-0b</th>\n",
              "      <th>prior_day-1b</th>\n",
              "      <th>prior_day-2b</th>\n",
              "      <th>prior_day-3b</th>\n",
              "      <th>prior_day-4b</th>\n",
              "      <th>prior_day-total_b</th>\n",
              "    </tr>\n",
              "  </thead>\n",
              "  <tbody>\n",
              "    <tr>\n",
              "      <th>0</th>\n",
              "      <td>438.51</td>\n",
              "      <td>2021-07-30</td>\n",
              "      <td>4</td>\n",
              "      <td>211</td>\n",
              "      <td>30</td>\n",
              "      <td>7</td>\n",
              "      <td>3</td>\n",
              "      <td>-2.14</td>\n",
              "      <td>-0.32</td>\n",
              "      <td>-0.50</td>\n",
              "      <td>-2.51</td>\n",
              "      <td>-1.43</td>\n",
              "      <td>0</td>\n",
              "      <td>0</td>\n",
              "      <td>0</td>\n",
              "      <td>0</td>\n",
              "      <td>0</td>\n",
              "      <td>0</td>\n",
              "      <td>-2.14</td>\n",
              "      <td>1.82</td>\n",
              "      <td>-0.18</td>\n",
              "      <td>-2.01</td>\n",
              "      <td>1.08</td>\n",
              "      <td>0</td>\n",
              "      <td>1</td>\n",
              "      <td>0</td>\n",
              "      <td>0</td>\n",
              "      <td>1</td>\n",
              "      <td>2</td>\n",
              "    </tr>\n",
              "    <tr>\n",
              "      <th>1</th>\n",
              "      <td>440.65</td>\n",
              "      <td>2021-07-29</td>\n",
              "      <td>3</td>\n",
              "      <td>210</td>\n",
              "      <td>30</td>\n",
              "      <td>7</td>\n",
              "      <td>3</td>\n",
              "      <td>1.82</td>\n",
              "      <td>1.64</td>\n",
              "      <td>-0.37</td>\n",
              "      <td>0.71</td>\n",
              "      <td>5.19</td>\n",
              "      <td>1</td>\n",
              "      <td>1</td>\n",
              "      <td>0</td>\n",
              "      <td>1</td>\n",
              "      <td>1</td>\n",
              "      <td>4</td>\n",
              "      <td>1.82</td>\n",
              "      <td>-0.18</td>\n",
              "      <td>-2.01</td>\n",
              "      <td>1.08</td>\n",
              "      <td>4.48</td>\n",
              "      <td>1</td>\n",
              "      <td>0</td>\n",
              "      <td>0</td>\n",
              "      <td>1</td>\n",
              "      <td>1</td>\n",
              "      <td>3</td>\n",
              "    </tr>\n",
              "    <tr>\n",
              "      <th>2</th>\n",
              "      <td>438.83</td>\n",
              "      <td>2021-07-28</td>\n",
              "      <td>2</td>\n",
              "      <td>209</td>\n",
              "      <td>30</td>\n",
              "      <td>7</td>\n",
              "      <td>3</td>\n",
              "      <td>-0.18</td>\n",
              "      <td>-2.19</td>\n",
              "      <td>-1.11</td>\n",
              "      <td>3.37</td>\n",
              "      <td>4.28</td>\n",
              "      <td>0</td>\n",
              "      <td>0</td>\n",
              "      <td>0</td>\n",
              "      <td>1</td>\n",
              "      <td>1</td>\n",
              "      <td>2</td>\n",
              "      <td>-0.18</td>\n",
              "      <td>-2.01</td>\n",
              "      <td>1.08</td>\n",
              "      <td>4.48</td>\n",
              "      <td>0.91</td>\n",
              "      <td>0</td>\n",
              "      <td>0</td>\n",
              "      <td>1</td>\n",
              "      <td>1</td>\n",
              "      <td>1</td>\n",
              "      <td>3</td>\n",
              "    </tr>\n",
              "    <tr>\n",
              "      <th>3</th>\n",
              "      <td>439.01</td>\n",
              "      <td>2021-07-27</td>\n",
              "      <td>1</td>\n",
              "      <td>208</td>\n",
              "      <td>30</td>\n",
              "      <td>7</td>\n",
              "      <td>3</td>\n",
              "      <td>-2.01</td>\n",
              "      <td>-0.93</td>\n",
              "      <td>3.55</td>\n",
              "      <td>4.46</td>\n",
              "      <td>7.95</td>\n",
              "      <td>0</td>\n",
              "      <td>0</td>\n",
              "      <td>1</td>\n",
              "      <td>1</td>\n",
              "      <td>1</td>\n",
              "      <td>3</td>\n",
              "      <td>-2.01</td>\n",
              "      <td>1.08</td>\n",
              "      <td>4.48</td>\n",
              "      <td>0.91</td>\n",
              "      <td>3.49</td>\n",
              "      <td>0</td>\n",
              "      <td>1</td>\n",
              "      <td>1</td>\n",
              "      <td>1</td>\n",
              "      <td>1</td>\n",
              "      <td>4</td>\n",
              "    </tr>\n",
              "    <tr>\n",
              "      <th>4</th>\n",
              "      <td>441.02</td>\n",
              "      <td>2021-07-26</td>\n",
              "      <td>0</td>\n",
              "      <td>207</td>\n",
              "      <td>30</td>\n",
              "      <td>7</td>\n",
              "      <td>3</td>\n",
              "      <td>1.08</td>\n",
              "      <td>5.56</td>\n",
              "      <td>6.47</td>\n",
              "      <td>9.96</td>\n",
              "      <td>16.05</td>\n",
              "      <td>1</td>\n",
              "      <td>1</td>\n",
              "      <td>1</td>\n",
              "      <td>1</td>\n",
              "      <td>1</td>\n",
              "      <td>5</td>\n",
              "      <td>1.08</td>\n",
              "      <td>4.48</td>\n",
              "      <td>0.91</td>\n",
              "      <td>3.49</td>\n",
              "      <td>6.09</td>\n",
              "      <td>1</td>\n",
              "      <td>1</td>\n",
              "      <td>1</td>\n",
              "      <td>1</td>\n",
              "      <td>1</td>\n",
              "      <td>5</td>\n",
              "    </tr>\n",
              "  </tbody>\n",
              "</table>\n",
              "</div>"
            ],
            "text/plain": [
              "    Close       Date  DOW  ...  prior_day-3b  prior_day-4b  prior_day-total_b\n",
              "0  438.51 2021-07-30    4  ...             0             1                  2\n",
              "1  440.65 2021-07-29    3  ...             1             1                  3\n",
              "2  438.83 2021-07-28    2  ...             1             1                  3\n",
              "3  439.01 2021-07-27    1  ...             1             1                  4\n",
              "4  441.02 2021-07-26    0  ...             1             1                  5\n",
              "\n",
              "[5 rows x 29 columns]"
            ]
          },
          "metadata": {
            "tags": []
          },
          "execution_count": 237
        }
      ]
    },
    {
      "cell_type": "markdown",
      "metadata": {
        "id": "6zm1v4LebGn_"
      },
      "source": [
        "#Creating Rolling mean attribute values\n",
        "\n",
        "Rolling mean values are based on daily gain loss and represent the trending direction of the prior n mean values (5, 10, 15, n, row mean values)\n",
        "\n",
        "the rolling mean works from the top row down - for exampple the mean of row 1 and 2 would appear on row 2. We need the mean of row 1 and 2 to land on row 1. This requires us to reverse the index of each desired mean column. The process to do this creates pandas value lists\n",
        "\n",
        "!Note: this process can convert into a loop  where n = list of n mean values (as described in the description above)"
      ]
    },
    {
      "cell_type": "code",
      "metadata": {
        "id": "SQhGpsmoGNwh",
        "colab": {
          "base_uri": "https://localhost:8080/"
        },
        "outputId": "dc15a65c-3d6f-46ba-f3a6-2c7a55b8be39"
      },
      "source": [
        "#Rolling averages based on prior day gain loss\n",
        "rolling_prior_day = dataset['prior_day-0']\n",
        "\n",
        "rolling_prior_day_5 = rolling_prior_day[::-1].rolling(5).mean()[::-1]\n",
        "rolling_prior_day_10 = rolling_prior_day[::-1].rolling(10).mean()[::-1]\n",
        "rolling_prior_day_15 = rolling_prior_day[::-1].rolling(15).mean()[::-1]\n",
        "rolling_prior_day_20 = rolling_prior_day[::-1].rolling(20).mean()[::-1]\n",
        "rolling_prior_day_25 = rolling_prior_day[::-1].rolling(25).mean()[::-1]\n",
        "rolling_prior_day_30 = rolling_prior_day[::-1].rolling(30).mean()[::-1]\n",
        "\n",
        "print(rolling_prior_day_10)"
      ],
      "execution_count": 238,
      "outputs": [
        {
          "output_type": "stream",
          "text": [
            "0       0.717\n",
            "1       0.590\n",
            "2       0.259\n",
            "3       0.342\n",
            "4       0.394\n",
            "        ...  \n",
            "1315      NaN\n",
            "1316      NaN\n",
            "1317      NaN\n",
            "1318      NaN\n",
            "1319      NaN\n",
            "Name: prior_day-0, Length: 1320, dtype: float64\n"
          ],
          "name": "stdout"
        }
      ]
    },
    {
      "cell_type": "markdown",
      "metadata": {
        "id": "9pdzrEwtnwC7"
      },
      "source": [
        "#Create close variance variable and binary\n",
        "\n",
        "Close variance uses a rolling averages of n days (Close attribute) minus the row's Close value. This indicates when the market is falling below a rolling average. \n",
        "\n",
        "The binary is calculated based on 1 = >0 and 0<0"
      ]
    },
    {
      "cell_type": "code",
      "metadata": {
        "colab": {
          "base_uri": "https://localhost:8080/"
        },
        "id": "6Pl9eWXznvY7",
        "outputId": "b161540f-399f-4e58-f696-fdf77601962e"
      },
      "source": [
        "rolling_close = dataset['Close']\n",
        "#rolling_close_x = (rolling_close[::-1].rolling(x).mean()[::-1]) #left this in for reference\n",
        "rolling_close_3 = rolling_close - (rolling_close[::-1].rolling(3).mean()[::-1])\n",
        "rolling_close_6 = rolling_close - (rolling_close[::-1].rolling(6).mean()[::-1])\n",
        "rolling_close_9 = rolling_close - (rolling_close[::-1].rolling(9).mean()[::-1])\n",
        "rolling_close_12 = rolling_close - (rolling_close[::-1].rolling(12).mean()[::-1])\n",
        "rolling_close_15 = rolling_close - (rolling_close[::-1].rolling(15).mean()[::-1])\n",
        "rolling_close_18 = rolling_close - (rolling_close[::-1].rolling(18).mean()[::-1])\n",
        "rolling_close_21 = rolling_close - (rolling_close[::-1].rolling(21).mean()[::-1])\n",
        "\n",
        "rolling_close_3b = pd.DataFrame({'rolling_close_3b': np.where(rolling_close_3 > 0, 1, 0)})\n",
        "rolling_close_6b = pd.DataFrame({'rolling_close_6b': np.where(rolling_close_6 > 0, 1, 0)})\n",
        "rolling_close_9b = pd.DataFrame({'rolling_close_9b': np.where(rolling_close_9 > 0, 1, 0)})\n",
        "rolling_close_12b = pd.DataFrame({'rolling_close_12b': np.where(rolling_close_12 > 0, 1, 0)})\n",
        "rolling_close_15b = pd.DataFrame({'rolling_close_15b': np.where(rolling_close_15 > 0, 1, 0)})\n",
        "rolling_close_18b = pd.DataFrame({'rolling_close_18b': np.where(rolling_close_18 > 0, 1, 0)})\n",
        "rolling_close_21b = pd.DataFrame({'rolling_close_21b': np.where(rolling_close_21 > 0, 1, 0)})\n",
        "\n",
        "rolling_close_3 = pd.DataFrame({'rolling_close_3': rolling_close_3})\n",
        "rolling_close_6 = pd.DataFrame({'rolling_close_6': rolling_close_6})\n",
        "rolling_close_9 = pd.DataFrame({'rolling_close_9': rolling_close_9})\n",
        "rolling_close_12 = pd.DataFrame({'rolling_close_12': rolling_close_12})\n",
        "rolling_close_15 = pd.DataFrame({'rolling_close_15': rolling_close_15})\n",
        "rolling_close_18 = pd.DataFrame({'rolling_close_18': rolling_close_18})\n",
        "rolling_close_21 = pd.DataFrame({'rolling_close_21': rolling_close_21})\n",
        "\n",
        "print(rolling_close_3)"
      ],
      "execution_count": 239,
      "outputs": [
        {
          "output_type": "stream",
          "text": [
            "      rolling_close_3\n",
            "0           -0.820000\n",
            "1            1.153333\n",
            "2           -0.790000\n",
            "3           -0.980000\n",
            "4            2.213333\n",
            "...               ...\n",
            "1315         1.763600\n",
            "1316         0.362800\n",
            "1317         0.486667\n",
            "1318              NaN\n",
            "1319              NaN\n",
            "\n",
            "[1320 rows x 1 columns]\n"
          ],
          "name": "stdout"
        }
      ]
    },
    {
      "cell_type": "markdown",
      "metadata": {
        "id": "ngV7eCC6uLu2"
      },
      "source": [
        "#Add Rolling Mean attributes to dataset\n",
        "\n",
        "This is a normal concat funtion"
      ]
    },
    {
      "cell_type": "code",
      "metadata": {
        "colab": {
          "base_uri": "https://localhost:8080/"
        },
        "id": "2MBWu0oDuKPp",
        "outputId": "30cdb5a3-4389-44d1-851b-d77f3637d66e"
      },
      "source": [
        "dataset = pd.concat([dataset,\n",
        "                       rolling_close_3, \n",
        "                       rolling_close_6, \n",
        "                       rolling_close_9, \n",
        "                       rolling_close_12, \n",
        "                       rolling_close_15, \n",
        "                       rolling_close_18, \n",
        "                       rolling_close_21, \n",
        "                       rolling_close_3b, \n",
        "                       rolling_close_6b, \n",
        "                       rolling_close_9b,\n",
        "                       rolling_close_12b, \n",
        "                       rolling_close_15b, \n",
        "                       rolling_close_18b, \n",
        "                       rolling_close_21b\n",
        "                       ], axis = 1)\n",
        "\n",
        "print(dataset_x)"
      ],
      "execution_count": 240,
      "outputs": [
        {
          "output_type": "stream",
          "text": [
            "         Close       Date  ...  rolling_close_18b  rolling_close_21b\n",
            "0     438.5100 2021-07-30  ...                  1                  1\n",
            "1     440.6500 2021-07-29  ...                  1                  1\n",
            "2     438.8300 2021-07-28  ...                  1                  1\n",
            "3     439.0100 2021-07-27  ...                  1                  1\n",
            "4     441.0200 2021-07-26  ...                  1                  1\n",
            "...        ...        ...  ...                ...                ...\n",
            "1315  208.4500 2016-05-10  ...                  0                  0\n",
            "1316  205.8892 2016-05-09  ...                  0                  0\n",
            "1317  205.7200 2016-05-06  ...                  0                  0\n",
            "1318  204.9700 2016-05-05  ...                  0                  0\n",
            "1319  205.0100 2016-05-04  ...                  0                  0\n",
            "\n",
            "[1320 rows x 43 columns]\n"
          ],
          "name": "stdout"
        }
      ]
    },
    {
      "cell_type": "markdown",
      "metadata": {
        "id": "FHexBzYkzqXD"
      },
      "source": [
        "#Create aggregate of rolling close binary\n",
        "\n",
        "This is simply a sum of all rolling close binary values"
      ]
    },
    {
      "cell_type": "code",
      "metadata": {
        "colab": {
          "base_uri": "https://localhost:8080/",
          "height": 134
        },
        "id": "LJtisVGCzqQg",
        "outputId": "e864373e-d412-4695-887d-3212f805932e"
      },
      "source": [
        "dataset['rolling_close_total_b'] =  (dataset['rolling_close_3b'] + \n",
        "                                     dataset['rolling_close_6b'] + \n",
        "                                     dataset['rolling_close_9b'] + \n",
        "                                     dataset['rolling_close_12b'] + \n",
        "                                     dataset['rolling_close_15b'] + \n",
        "                                     dataset['rolling_close_18b'] + \n",
        "                                     dataset['rolling_close_21b']\n",
        "                                     )\n",
        "\n",
        "dataset.head(1)\n",
        "\n"
      ],
      "execution_count": 241,
      "outputs": [
        {
          "output_type": "execute_result",
          "data": {
            "text/html": [
              "<div>\n",
              "<style scoped>\n",
              "    .dataframe tbody tr th:only-of-type {\n",
              "        vertical-align: middle;\n",
              "    }\n",
              "\n",
              "    .dataframe tbody tr th {\n",
              "        vertical-align: top;\n",
              "    }\n",
              "\n",
              "    .dataframe thead th {\n",
              "        text-align: right;\n",
              "    }\n",
              "</style>\n",
              "<table border=\"1\" class=\"dataframe\">\n",
              "  <thead>\n",
              "    <tr style=\"text-align: right;\">\n",
              "      <th></th>\n",
              "      <th>Close</th>\n",
              "      <th>Date</th>\n",
              "      <th>DOW</th>\n",
              "      <th>DOY</th>\n",
              "      <th>Week</th>\n",
              "      <th>Month</th>\n",
              "      <th>Quarter</th>\n",
              "      <th>gain_loss-0</th>\n",
              "      <th>gain_loss-1</th>\n",
              "      <th>gain_loss-2</th>\n",
              "      <th>gain_loss-3</th>\n",
              "      <th>gain_loss-4</th>\n",
              "      <th>gain_loss-0b</th>\n",
              "      <th>gain_loss-1b</th>\n",
              "      <th>gain_loss-2b</th>\n",
              "      <th>gain_loss-3b</th>\n",
              "      <th>gain_loss-4b</th>\n",
              "      <th>gain_loss-total_b</th>\n",
              "      <th>prior_day-0</th>\n",
              "      <th>prior_day-1</th>\n",
              "      <th>prior_day-2</th>\n",
              "      <th>prior_day-3</th>\n",
              "      <th>prior_day-4</th>\n",
              "      <th>prior_day-0b</th>\n",
              "      <th>prior_day-1b</th>\n",
              "      <th>prior_day-2b</th>\n",
              "      <th>prior_day-3b</th>\n",
              "      <th>prior_day-4b</th>\n",
              "      <th>prior_day-total_b</th>\n",
              "      <th>rolling_close_3</th>\n",
              "      <th>rolling_close_6</th>\n",
              "      <th>rolling_close_9</th>\n",
              "      <th>rolling_close_12</th>\n",
              "      <th>rolling_close_15</th>\n",
              "      <th>rolling_close_18</th>\n",
              "      <th>rolling_close_21</th>\n",
              "      <th>rolling_close_3b</th>\n",
              "      <th>rolling_close_6b</th>\n",
              "      <th>rolling_close_9b</th>\n",
              "      <th>rolling_close_12b</th>\n",
              "      <th>rolling_close_15b</th>\n",
              "      <th>rolling_close_18b</th>\n",
              "      <th>rolling_close_21b</th>\n",
              "      <th>rolling_close_total_b</th>\n",
              "    </tr>\n",
              "  </thead>\n",
              "  <tbody>\n",
              "    <tr>\n",
              "      <th>0</th>\n",
              "      <td>438.51</td>\n",
              "      <td>2021-07-30</td>\n",
              "      <td>4</td>\n",
              "      <td>211</td>\n",
              "      <td>30</td>\n",
              "      <td>7</td>\n",
              "      <td>3</td>\n",
              "      <td>-2.14</td>\n",
              "      <td>-0.32</td>\n",
              "      <td>-0.5</td>\n",
              "      <td>-2.51</td>\n",
              "      <td>-1.43</td>\n",
              "      <td>0</td>\n",
              "      <td>0</td>\n",
              "      <td>0</td>\n",
              "      <td>0</td>\n",
              "      <td>0</td>\n",
              "      <td>0</td>\n",
              "      <td>-2.14</td>\n",
              "      <td>1.82</td>\n",
              "      <td>-0.18</td>\n",
              "      <td>-2.01</td>\n",
              "      <td>1.08</td>\n",
              "      <td>0</td>\n",
              "      <td>1</td>\n",
              "      <td>0</td>\n",
              "      <td>0</td>\n",
              "      <td>1</td>\n",
              "      <td>2</td>\n",
              "      <td>-0.82</td>\n",
              "      <td>-1.15</td>\n",
              "      <td>0.84</td>\n",
              "      <td>2.669167</td>\n",
              "      <td>2.576667</td>\n",
              "      <td>2.96</td>\n",
              "      <td>3.415714</td>\n",
              "      <td>0</td>\n",
              "      <td>0</td>\n",
              "      <td>1</td>\n",
              "      <td>1</td>\n",
              "      <td>1</td>\n",
              "      <td>1</td>\n",
              "      <td>1</td>\n",
              "      <td>5</td>\n",
              "    </tr>\n",
              "  </tbody>\n",
              "</table>\n",
              "</div>"
            ],
            "text/plain": [
              "    Close       Date  ...  rolling_close_21b  rolling_close_total_b\n",
              "0  438.51 2021-07-30  ...                  1                      5\n",
              "\n",
              "[1 rows x 44 columns]"
            ]
          },
          "metadata": {
            "tags": []
          },
          "execution_count": 241
        }
      ]
    },
    {
      "cell_type": "markdown",
      "metadata": {
        "id": "WXLJAd9yqyVD"
      },
      "source": [
        "#Remove NaN rows\n",
        "\n",
        "Need to remove the NaN rows from bottom of dataset. These will cause errors in the analysis if not removed.\n",
        "\n",
        "Due to this delete, the dataset must contain 30 additional periods (rows) of history beyond what is desired. This was mentioned in the notation heading of this solution. (due to rolling means and shifts)."
      ]
    },
    {
      "cell_type": "code",
      "metadata": {
        "colab": {
          "base_uri": "https://localhost:8080/",
          "height": 626
        },
        "id": "XLtsuSVwrbfz",
        "outputId": "08433ea1-8c6b-45c6-f2c2-eafe4431b328"
      },
      "source": [
        "#dataset.dropna(inplace = True)\n",
        "\n",
        "dataset.head(-5)"
      ],
      "execution_count": 242,
      "outputs": [
        {
          "output_type": "execute_result",
          "data": {
            "text/html": [
              "<div>\n",
              "<style scoped>\n",
              "    .dataframe tbody tr th:only-of-type {\n",
              "        vertical-align: middle;\n",
              "    }\n",
              "\n",
              "    .dataframe tbody tr th {\n",
              "        vertical-align: top;\n",
              "    }\n",
              "\n",
              "    .dataframe thead th {\n",
              "        text-align: right;\n",
              "    }\n",
              "</style>\n",
              "<table border=\"1\" class=\"dataframe\">\n",
              "  <thead>\n",
              "    <tr style=\"text-align: right;\">\n",
              "      <th></th>\n",
              "      <th>Close</th>\n",
              "      <th>Date</th>\n",
              "      <th>DOW</th>\n",
              "      <th>DOY</th>\n",
              "      <th>Week</th>\n",
              "      <th>Month</th>\n",
              "      <th>Quarter</th>\n",
              "      <th>gain_loss-0</th>\n",
              "      <th>gain_loss-1</th>\n",
              "      <th>gain_loss-2</th>\n",
              "      <th>gain_loss-3</th>\n",
              "      <th>gain_loss-4</th>\n",
              "      <th>gain_loss-0b</th>\n",
              "      <th>gain_loss-1b</th>\n",
              "      <th>gain_loss-2b</th>\n",
              "      <th>gain_loss-3b</th>\n",
              "      <th>gain_loss-4b</th>\n",
              "      <th>gain_loss-total_b</th>\n",
              "      <th>prior_day-0</th>\n",
              "      <th>prior_day-1</th>\n",
              "      <th>prior_day-2</th>\n",
              "      <th>prior_day-3</th>\n",
              "      <th>prior_day-4</th>\n",
              "      <th>prior_day-0b</th>\n",
              "      <th>prior_day-1b</th>\n",
              "      <th>prior_day-2b</th>\n",
              "      <th>prior_day-3b</th>\n",
              "      <th>prior_day-4b</th>\n",
              "      <th>prior_day-total_b</th>\n",
              "      <th>rolling_close_3</th>\n",
              "      <th>rolling_close_6</th>\n",
              "      <th>rolling_close_9</th>\n",
              "      <th>rolling_close_12</th>\n",
              "      <th>rolling_close_15</th>\n",
              "      <th>rolling_close_18</th>\n",
              "      <th>rolling_close_21</th>\n",
              "      <th>rolling_close_3b</th>\n",
              "      <th>rolling_close_6b</th>\n",
              "      <th>rolling_close_9b</th>\n",
              "      <th>rolling_close_12b</th>\n",
              "      <th>rolling_close_15b</th>\n",
              "      <th>rolling_close_18b</th>\n",
              "      <th>rolling_close_21b</th>\n",
              "      <th>rolling_close_total_b</th>\n",
              "    </tr>\n",
              "  </thead>\n",
              "  <tbody>\n",
              "    <tr>\n",
              "      <th>0</th>\n",
              "      <td>438.5100</td>\n",
              "      <td>2021-07-30</td>\n",
              "      <td>4</td>\n",
              "      <td>211</td>\n",
              "      <td>30</td>\n",
              "      <td>7</td>\n",
              "      <td>3</td>\n",
              "      <td>-2.1400</td>\n",
              "      <td>-0.3200</td>\n",
              "      <td>-0.5000</td>\n",
              "      <td>-2.5100</td>\n",
              "      <td>-1.4300</td>\n",
              "      <td>0</td>\n",
              "      <td>0</td>\n",
              "      <td>0</td>\n",
              "      <td>0</td>\n",
              "      <td>0</td>\n",
              "      <td>0</td>\n",
              "      <td>-2.1400</td>\n",
              "      <td>1.8200</td>\n",
              "      <td>-0.1800</td>\n",
              "      <td>-2.0100</td>\n",
              "      <td>1.0800</td>\n",
              "      <td>0</td>\n",
              "      <td>1</td>\n",
              "      <td>0</td>\n",
              "      <td>0</td>\n",
              "      <td>1</td>\n",
              "      <td>2</td>\n",
              "      <td>-0.820000</td>\n",
              "      <td>-1.150000</td>\n",
              "      <td>0.840000</td>\n",
              "      <td>2.669167</td>\n",
              "      <td>2.576667</td>\n",
              "      <td>2.960000</td>\n",
              "      <td>3.415714</td>\n",
              "      <td>0</td>\n",
              "      <td>0</td>\n",
              "      <td>1</td>\n",
              "      <td>1</td>\n",
              "      <td>1</td>\n",
              "      <td>1</td>\n",
              "      <td>1</td>\n",
              "      <td>5</td>\n",
              "    </tr>\n",
              "    <tr>\n",
              "      <th>1</th>\n",
              "      <td>440.6500</td>\n",
              "      <td>2021-07-29</td>\n",
              "      <td>3</td>\n",
              "      <td>210</td>\n",
              "      <td>30</td>\n",
              "      <td>7</td>\n",
              "      <td>3</td>\n",
              "      <td>1.8200</td>\n",
              "      <td>1.6400</td>\n",
              "      <td>-0.3700</td>\n",
              "      <td>0.7100</td>\n",
              "      <td>5.1900</td>\n",
              "      <td>1</td>\n",
              "      <td>1</td>\n",
              "      <td>0</td>\n",
              "      <td>1</td>\n",
              "      <td>1</td>\n",
              "      <td>4</td>\n",
              "      <td>1.8200</td>\n",
              "      <td>-0.1800</td>\n",
              "      <td>-2.0100</td>\n",
              "      <td>1.0800</td>\n",
              "      <td>4.4800</td>\n",
              "      <td>1</td>\n",
              "      <td>0</td>\n",
              "      <td>0</td>\n",
              "      <td>1</td>\n",
              "      <td>1</td>\n",
              "      <td>3</td>\n",
              "      <td>1.153333</td>\n",
              "      <td>1.498333</td>\n",
              "      <td>4.484444</td>\n",
              "      <td>4.998333</td>\n",
              "      <td>4.916000</td>\n",
              "      <td>5.410000</td>\n",
              "      <td>6.053333</td>\n",
              "      <td>1</td>\n",
              "      <td>1</td>\n",
              "      <td>1</td>\n",
              "      <td>1</td>\n",
              "      <td>1</td>\n",
              "      <td>1</td>\n",
              "      <td>1</td>\n",
              "      <td>7</td>\n",
              "    </tr>\n",
              "    <tr>\n",
              "      <th>2</th>\n",
              "      <td>438.8300</td>\n",
              "      <td>2021-07-28</td>\n",
              "      <td>2</td>\n",
              "      <td>209</td>\n",
              "      <td>30</td>\n",
              "      <td>7</td>\n",
              "      <td>3</td>\n",
              "      <td>-0.1800</td>\n",
              "      <td>-2.1900</td>\n",
              "      <td>-1.1100</td>\n",
              "      <td>3.3700</td>\n",
              "      <td>4.2800</td>\n",
              "      <td>0</td>\n",
              "      <td>0</td>\n",
              "      <td>0</td>\n",
              "      <td>1</td>\n",
              "      <td>1</td>\n",
              "      <td>2</td>\n",
              "      <td>-0.1800</td>\n",
              "      <td>-2.0100</td>\n",
              "      <td>1.0800</td>\n",
              "      <td>4.4800</td>\n",
              "      <td>0.9100</td>\n",
              "      <td>0</td>\n",
              "      <td>0</td>\n",
              "      <td>1</td>\n",
              "      <td>1</td>\n",
              "      <td>1</td>\n",
              "      <td>3</td>\n",
              "      <td>-0.790000</td>\n",
              "      <td>0.695000</td>\n",
              "      <td>3.698889</td>\n",
              "      <td>3.600000</td>\n",
              "      <td>3.744667</td>\n",
              "      <td>3.975000</td>\n",
              "      <td>4.850000</td>\n",
              "      <td>0</td>\n",
              "      <td>1</td>\n",
              "      <td>1</td>\n",
              "      <td>1</td>\n",
              "      <td>1</td>\n",
              "      <td>1</td>\n",
              "      <td>1</td>\n",
              "      <td>6</td>\n",
              "    </tr>\n",
              "    <tr>\n",
              "      <th>3</th>\n",
              "      <td>439.0100</td>\n",
              "      <td>2021-07-27</td>\n",
              "      <td>1</td>\n",
              "      <td>208</td>\n",
              "      <td>30</td>\n",
              "      <td>7</td>\n",
              "      <td>3</td>\n",
              "      <td>-2.0100</td>\n",
              "      <td>-0.9300</td>\n",
              "      <td>3.5500</td>\n",
              "      <td>4.4600</td>\n",
              "      <td>7.9500</td>\n",
              "      <td>0</td>\n",
              "      <td>0</td>\n",
              "      <td>1</td>\n",
              "      <td>1</td>\n",
              "      <td>1</td>\n",
              "      <td>3</td>\n",
              "      <td>-2.0100</td>\n",
              "      <td>1.0800</td>\n",
              "      <td>4.4800</td>\n",
              "      <td>0.9100</td>\n",
              "      <td>3.4900</td>\n",
              "      <td>0</td>\n",
              "      <td>1</td>\n",
              "      <td>1</td>\n",
              "      <td>1</td>\n",
              "      <td>1</td>\n",
              "      <td>4</td>\n",
              "      <td>-0.980000</td>\n",
              "      <td>2.170000</td>\n",
              "      <td>4.332222</td>\n",
              "      <td>3.925833</td>\n",
              "      <td>4.216000</td>\n",
              "      <td>4.621667</td>\n",
              "      <td>5.570952</td>\n",
              "      <td>0</td>\n",
              "      <td>1</td>\n",
              "      <td>1</td>\n",
              "      <td>1</td>\n",
              "      <td>1</td>\n",
              "      <td>1</td>\n",
              "      <td>1</td>\n",
              "      <td>6</td>\n",
              "    </tr>\n",
              "    <tr>\n",
              "      <th>4</th>\n",
              "      <td>441.0200</td>\n",
              "      <td>2021-07-26</td>\n",
              "      <td>0</td>\n",
              "      <td>207</td>\n",
              "      <td>30</td>\n",
              "      <td>7</td>\n",
              "      <td>3</td>\n",
              "      <td>1.0800</td>\n",
              "      <td>5.5600</td>\n",
              "      <td>6.4700</td>\n",
              "      <td>9.9600</td>\n",
              "      <td>16.0500</td>\n",
              "      <td>1</td>\n",
              "      <td>1</td>\n",
              "      <td>1</td>\n",
              "      <td>1</td>\n",
              "      <td>1</td>\n",
              "      <td>5</td>\n",
              "      <td>1.0800</td>\n",
              "      <td>4.4800</td>\n",
              "      <td>0.9100</td>\n",
              "      <td>3.4900</td>\n",
              "      <td>6.0900</td>\n",
              "      <td>1</td>\n",
              "      <td>1</td>\n",
              "      <td>1</td>\n",
              "      <td>1</td>\n",
              "      <td>1</td>\n",
              "      <td>5</td>\n",
              "      <td>2.213333</td>\n",
              "      <td>6.520000</td>\n",
              "      <td>6.650000</td>\n",
              "      <td>6.226667</td>\n",
              "      <td>6.631333</td>\n",
              "      <td>7.240000</td>\n",
              "      <td>8.171429</td>\n",
              "      <td>1</td>\n",
              "      <td>1</td>\n",
              "      <td>1</td>\n",
              "      <td>1</td>\n",
              "      <td>1</td>\n",
              "      <td>1</td>\n",
              "      <td>1</td>\n",
              "      <td>7</td>\n",
              "    </tr>\n",
              "    <tr>\n",
              "      <th>...</th>\n",
              "      <td>...</td>\n",
              "      <td>...</td>\n",
              "      <td>...</td>\n",
              "      <td>...</td>\n",
              "      <td>...</td>\n",
              "      <td>...</td>\n",
              "      <td>...</td>\n",
              "      <td>...</td>\n",
              "      <td>...</td>\n",
              "      <td>...</td>\n",
              "      <td>...</td>\n",
              "      <td>...</td>\n",
              "      <td>...</td>\n",
              "      <td>...</td>\n",
              "      <td>...</td>\n",
              "      <td>...</td>\n",
              "      <td>...</td>\n",
              "      <td>...</td>\n",
              "      <td>...</td>\n",
              "      <td>...</td>\n",
              "      <td>...</td>\n",
              "      <td>...</td>\n",
              "      <td>...</td>\n",
              "      <td>...</td>\n",
              "      <td>...</td>\n",
              "      <td>...</td>\n",
              "      <td>...</td>\n",
              "      <td>...</td>\n",
              "      <td>...</td>\n",
              "      <td>...</td>\n",
              "      <td>...</td>\n",
              "      <td>...</td>\n",
              "      <td>...</td>\n",
              "      <td>...</td>\n",
              "      <td>...</td>\n",
              "      <td>...</td>\n",
              "      <td>...</td>\n",
              "      <td>...</td>\n",
              "      <td>...</td>\n",
              "      <td>...</td>\n",
              "      <td>...</td>\n",
              "      <td>...</td>\n",
              "      <td>...</td>\n",
              "      <td>...</td>\n",
              "    </tr>\n",
              "    <tr>\n",
              "      <th>1310</th>\n",
              "      <td>204.8508</td>\n",
              "      <td>2016-05-17</td>\n",
              "      <td>1</td>\n",
              "      <td>138</td>\n",
              "      <td>20</td>\n",
              "      <td>5</td>\n",
              "      <td>2</td>\n",
              "      <td>-1.9292</td>\n",
              "      <td>0.0908</td>\n",
              "      <td>-1.7092</td>\n",
              "      <td>-1.6492</td>\n",
              "      <td>-3.5992</td>\n",
              "      <td>0</td>\n",
              "      <td>1</td>\n",
              "      <td>0</td>\n",
              "      <td>0</td>\n",
              "      <td>0</td>\n",
              "      <td>1</td>\n",
              "      <td>-1.9292</td>\n",
              "      <td>2.0200</td>\n",
              "      <td>-1.8000</td>\n",
              "      <td>0.0600</td>\n",
              "      <td>-1.9500</td>\n",
              "      <td>0</td>\n",
              "      <td>1</td>\n",
              "      <td>0</td>\n",
              "      <td>1</td>\n",
              "      <td>0</td>\n",
              "      <td>2</td>\n",
              "      <td>-0.612800</td>\n",
              "      <td>-1.466000</td>\n",
              "      <td>-1.202533</td>\n",
              "      <td>NaN</td>\n",
              "      <td>NaN</td>\n",
              "      <td>NaN</td>\n",
              "      <td>NaN</td>\n",
              "      <td>0</td>\n",
              "      <td>0</td>\n",
              "      <td>0</td>\n",
              "      <td>0</td>\n",
              "      <td>0</td>\n",
              "      <td>0</td>\n",
              "      <td>0</td>\n",
              "      <td>0</td>\n",
              "    </tr>\n",
              "    <tr>\n",
              "      <th>1311</th>\n",
              "      <td>206.7800</td>\n",
              "      <td>2016-05-16</td>\n",
              "      <td>0</td>\n",
              "      <td>137</td>\n",
              "      <td>20</td>\n",
              "      <td>5</td>\n",
              "      <td>2</td>\n",
              "      <td>2.0200</td>\n",
              "      <td>0.2200</td>\n",
              "      <td>0.2800</td>\n",
              "      <td>-1.6700</td>\n",
              "      <td>0.8908</td>\n",
              "      <td>1</td>\n",
              "      <td>1</td>\n",
              "      <td>1</td>\n",
              "      <td>0</td>\n",
              "      <td>1</td>\n",
              "      <td>4</td>\n",
              "      <td>2.0200</td>\n",
              "      <td>-1.8000</td>\n",
              "      <td>0.0600</td>\n",
              "      <td>-1.9500</td>\n",
              "      <td>2.5608</td>\n",
              "      <td>1</td>\n",
              "      <td>0</td>\n",
              "      <td>1</td>\n",
              "      <td>0</td>\n",
              "      <td>1</td>\n",
              "      <td>3</td>\n",
              "      <td>0.746667</td>\n",
              "      <td>0.290133</td>\n",
              "      <td>0.708978</td>\n",
              "      <td>NaN</td>\n",
              "      <td>NaN</td>\n",
              "      <td>NaN</td>\n",
              "      <td>NaN</td>\n",
              "      <td>1</td>\n",
              "      <td>1</td>\n",
              "      <td>1</td>\n",
              "      <td>0</td>\n",
              "      <td>0</td>\n",
              "      <td>0</td>\n",
              "      <td>0</td>\n",
              "      <td>3</td>\n",
              "    </tr>\n",
              "    <tr>\n",
              "      <th>1312</th>\n",
              "      <td>204.7600</td>\n",
              "      <td>2016-05-13</td>\n",
              "      <td>4</td>\n",
              "      <td>134</td>\n",
              "      <td>19</td>\n",
              "      <td>5</td>\n",
              "      <td>2</td>\n",
              "      <td>-1.8000</td>\n",
              "      <td>-1.7400</td>\n",
              "      <td>-3.6900</td>\n",
              "      <td>-1.1292</td>\n",
              "      <td>-0.9600</td>\n",
              "      <td>0</td>\n",
              "      <td>0</td>\n",
              "      <td>0</td>\n",
              "      <td>0</td>\n",
              "      <td>0</td>\n",
              "      <td>0</td>\n",
              "      <td>-1.8000</td>\n",
              "      <td>0.0600</td>\n",
              "      <td>-1.9500</td>\n",
              "      <td>2.5608</td>\n",
              "      <td>0.1692</td>\n",
              "      <td>0</td>\n",
              "      <td>1</td>\n",
              "      <td>0</td>\n",
              "      <td>1</td>\n",
              "      <td>1</td>\n",
              "      <td>3</td>\n",
              "      <td>-1.180000</td>\n",
              "      <td>-1.553200</td>\n",
              "      <td>NaN</td>\n",
              "      <td>NaN</td>\n",
              "      <td>NaN</td>\n",
              "      <td>NaN</td>\n",
              "      <td>NaN</td>\n",
              "      <td>0</td>\n",
              "      <td>0</td>\n",
              "      <td>0</td>\n",
              "      <td>0</td>\n",
              "      <td>0</td>\n",
              "      <td>0</td>\n",
              "      <td>0</td>\n",
              "      <td>0</td>\n",
              "    </tr>\n",
              "    <tr>\n",
              "      <th>1313</th>\n",
              "      <td>206.5600</td>\n",
              "      <td>2016-05-12</td>\n",
              "      <td>3</td>\n",
              "      <td>133</td>\n",
              "      <td>19</td>\n",
              "      <td>5</td>\n",
              "      <td>2</td>\n",
              "      <td>0.0600</td>\n",
              "      <td>-1.8900</td>\n",
              "      <td>0.6708</td>\n",
              "      <td>0.8400</td>\n",
              "      <td>1.5900</td>\n",
              "      <td>1</td>\n",
              "      <td>0</td>\n",
              "      <td>1</td>\n",
              "      <td>1</td>\n",
              "      <td>1</td>\n",
              "      <td>4</td>\n",
              "      <td>0.0600</td>\n",
              "      <td>-1.9500</td>\n",
              "      <td>2.5608</td>\n",
              "      <td>0.1692</td>\n",
              "      <td>0.7500</td>\n",
              "      <td>1</td>\n",
              "      <td>0</td>\n",
              "      <td>1</td>\n",
              "      <td>1</td>\n",
              "      <td>1</td>\n",
              "      <td>4</td>\n",
              "      <td>-0.610000</td>\n",
              "      <td>0.211800</td>\n",
              "      <td>NaN</td>\n",
              "      <td>NaN</td>\n",
              "      <td>NaN</td>\n",
              "      <td>NaN</td>\n",
              "      <td>NaN</td>\n",
              "      <td>0</td>\n",
              "      <td>1</td>\n",
              "      <td>0</td>\n",
              "      <td>0</td>\n",
              "      <td>0</td>\n",
              "      <td>0</td>\n",
              "      <td>0</td>\n",
              "      <td>1</td>\n",
              "    </tr>\n",
              "    <tr>\n",
              "      <th>1314</th>\n",
              "      <td>206.5000</td>\n",
              "      <td>2016-05-11</td>\n",
              "      <td>2</td>\n",
              "      <td>132</td>\n",
              "      <td>19</td>\n",
              "      <td>5</td>\n",
              "      <td>2</td>\n",
              "      <td>-1.9500</td>\n",
              "      <td>0.6108</td>\n",
              "      <td>0.7800</td>\n",
              "      <td>1.5300</td>\n",
              "      <td>1.4900</td>\n",
              "      <td>0</td>\n",
              "      <td>1</td>\n",
              "      <td>1</td>\n",
              "      <td>1</td>\n",
              "      <td>1</td>\n",
              "      <td>4</td>\n",
              "      <td>-1.9500</td>\n",
              "      <td>2.5608</td>\n",
              "      <td>0.1692</td>\n",
              "      <td>0.7500</td>\n",
              "      <td>-0.0400</td>\n",
              "      <td>0</td>\n",
              "      <td>1</td>\n",
              "      <td>1</td>\n",
              "      <td>1</td>\n",
              "      <td>0</td>\n",
              "      <td>3</td>\n",
              "      <td>-0.446400</td>\n",
              "      <td>0.410133</td>\n",
              "      <td>NaN</td>\n",
              "      <td>NaN</td>\n",
              "      <td>NaN</td>\n",
              "      <td>NaN</td>\n",
              "      <td>NaN</td>\n",
              "      <td>0</td>\n",
              "      <td>1</td>\n",
              "      <td>0</td>\n",
              "      <td>0</td>\n",
              "      <td>0</td>\n",
              "      <td>0</td>\n",
              "      <td>0</td>\n",
              "      <td>1</td>\n",
              "    </tr>\n",
              "  </tbody>\n",
              "</table>\n",
              "<p>1315 rows × 44 columns</p>\n",
              "</div>"
            ],
            "text/plain": [
              "         Close       Date  ...  rolling_close_21b  rolling_close_total_b\n",
              "0     438.5100 2021-07-30  ...                  1                      5\n",
              "1     440.6500 2021-07-29  ...                  1                      7\n",
              "2     438.8300 2021-07-28  ...                  1                      6\n",
              "3     439.0100 2021-07-27  ...                  1                      6\n",
              "4     441.0200 2021-07-26  ...                  1                      7\n",
              "...        ...        ...  ...                ...                    ...\n",
              "1310  204.8508 2016-05-17  ...                  0                      0\n",
              "1311  206.7800 2016-05-16  ...                  0                      3\n",
              "1312  204.7600 2016-05-13  ...                  0                      0\n",
              "1313  206.5600 2016-05-12  ...                  0                      1\n",
              "1314  206.5000 2016-05-11  ...                  0                      1\n",
              "\n",
              "[1315 rows x 44 columns]"
            ]
          },
          "metadata": {
            "tags": []
          },
          "execution_count": 242
        }
      ]
    },
    {
      "cell_type": "markdown",
      "metadata": {
        "id": "Pspu--zThppK"
      },
      "source": [
        "#Create dependant variables (2 dependants)\n",
        "\n",
        "As mentioned earlier, the gain_loss-0 attribute is a dependant variable. It's binary conterpart, gain_loss-0b is also a dependant variable.\n",
        "\n",
        "the dependant variables need shifted down one row. This will adjust all of the independant variable into a position where they are trying to predict the \"day ahead\". Because the data is shifted down one day the last day must be removed.\n",
        "\n",
        "!Note: Due to the organizaiton of this dataset (train and test set being time-based) this adjustment for the dependant variables will create results for next day. \n"
      ]
    },
    {
      "cell_type": "code",
      "metadata": {
        "colab": {
          "base_uri": "https://localhost:8080/"
        },
        "id": "8kbzhhUsjptq",
        "outputId": "1166b328-4c18-479f-f872-4f2f1764e842"
      },
      "source": [
        "y = pd.DataFrame(dataset['gain_loss-0']).reset_index(drop = True)\n",
        "y.loc[-1] = [0]\n",
        "y.index = y.index + 1\n",
        "y = y.sort_index()\n",
        "y.drop(y.tail(1).index, inplace = True)\n",
        "y.rename(columns={'gain_loss-0': 'y'}, inplace=True)\n",
        "y_df = pd.DataFrame(y, columns=['y'])\n",
        "\n",
        "yb = pd.DataFrame(dataset['gain_loss-0b']).reset_index(drop = True)\n",
        "yb.loc[-1] = [0]\n",
        "yb.index = yb.index + 1\n",
        "yb = yb.sort_index()\n",
        "yb.drop(yb.tail(1).index, inplace = True)\n",
        "yb.rename(columns={'gain_loss-0b': 'yb'}, inplace=True)\n",
        "yb_df = pd.DataFrame(yb, columns=['yb'])\n",
        "\n",
        "print(y)\n",
        "print(\"----------------\")\n",
        "print(yb)"
      ],
      "execution_count": 243,
      "outputs": [
        {
          "output_type": "stream",
          "text": [
            "           y\n",
            "0     0.0000\n",
            "1    -2.1400\n",
            "2     1.8200\n",
            "3    -0.1800\n",
            "4    -2.0100\n",
            "...      ...\n",
            "1315 -1.9500\n",
            "1316  2.5608\n",
            "1317  0.1692\n",
            "1318  0.7500\n",
            "1319 -0.0400\n",
            "\n",
            "[1320 rows x 1 columns]\n",
            "----------------\n",
            "      yb\n",
            "0      0\n",
            "1      0\n",
            "2      1\n",
            "3      0\n",
            "4      0\n",
            "...   ..\n",
            "1315   0\n",
            "1316   1\n",
            "1317   1\n",
            "1318   1\n",
            "1319   0\n",
            "\n",
            "[1320 rows x 1 columns]\n"
          ],
          "name": "stdout"
        }
      ]
    },
    {
      "cell_type": "code",
      "metadata": {
        "colab": {
          "base_uri": "https://localhost:8080/"
        },
        "id": "hq-QdjpnxZwi",
        "outputId": "857d5df8-8ab1-46fb-b6c9-fa6732b37e9f"
      },
      "source": [
        "a = len(y.index)\n",
        "b = len(yb.index)\n",
        "c = len(dataset.index)\n",
        "d = len(rolling_prior_day_5.index)\n",
        "a1 = len(y_df.index)\n",
        "b1 = len(yb_df.index)\n",
        "\n",
        "print(a)\n",
        "print(b)\n",
        "print(c)\n",
        "print(d)\n",
        "print(a1)\n",
        "print(b1)"
      ],
      "execution_count": 244,
      "outputs": [
        {
          "output_type": "stream",
          "text": [
            "1320\n",
            "1320\n",
            "1320\n",
            "1320\n",
            "1320\n",
            "1320\n"
          ],
          "name": "stdout"
        }
      ]
    },
    {
      "cell_type": "markdown",
      "metadata": {
        "id": "bb-FeVxGgtux"
      },
      "source": [
        "#Create final dataset and review\n",
        "\n",
        "A concat procedure is necessary to create the final dataset.\n",
        "\n",
        "There should be a total of 37 columns"
      ]
    },
    {
      "cell_type": "code",
      "metadata": {
        "colab": {
          "base_uri": "https://localhost:8080/",
          "height": 134
        },
        "id": "QqUDH3p9EA_v",
        "outputId": "d957fddb-e466-4af5-c3d8-4d3d3cfff238"
      },
      "source": [
        "dataset_final = pd.concat([dataset,\n",
        "           rolling_prior_day_5, \n",
        "           rolling_prior_day_10, \n",
        "           rolling_prior_day_15, \n",
        "           rolling_prior_day_20, \n",
        "           rolling_prior_day_25, \n",
        "           rolling_prior_day_30,\n",
        "           y_df,\n",
        "           yb_df],\n",
        "           axis = 1)\n",
        "\n",
        "dataset_final.head(1)"
      ],
      "execution_count": 245,
      "outputs": [
        {
          "output_type": "execute_result",
          "data": {
            "text/html": [
              "<div>\n",
              "<style scoped>\n",
              "    .dataframe tbody tr th:only-of-type {\n",
              "        vertical-align: middle;\n",
              "    }\n",
              "\n",
              "    .dataframe tbody tr th {\n",
              "        vertical-align: top;\n",
              "    }\n",
              "\n",
              "    .dataframe thead th {\n",
              "        text-align: right;\n",
              "    }\n",
              "</style>\n",
              "<table border=\"1\" class=\"dataframe\">\n",
              "  <thead>\n",
              "    <tr style=\"text-align: right;\">\n",
              "      <th></th>\n",
              "      <th>Close</th>\n",
              "      <th>Date</th>\n",
              "      <th>DOW</th>\n",
              "      <th>DOY</th>\n",
              "      <th>Week</th>\n",
              "      <th>Month</th>\n",
              "      <th>Quarter</th>\n",
              "      <th>gain_loss-0</th>\n",
              "      <th>gain_loss-1</th>\n",
              "      <th>gain_loss-2</th>\n",
              "      <th>gain_loss-3</th>\n",
              "      <th>gain_loss-4</th>\n",
              "      <th>gain_loss-0b</th>\n",
              "      <th>gain_loss-1b</th>\n",
              "      <th>gain_loss-2b</th>\n",
              "      <th>gain_loss-3b</th>\n",
              "      <th>gain_loss-4b</th>\n",
              "      <th>gain_loss-total_b</th>\n",
              "      <th>prior_day-0</th>\n",
              "      <th>prior_day-1</th>\n",
              "      <th>prior_day-2</th>\n",
              "      <th>prior_day-3</th>\n",
              "      <th>prior_day-4</th>\n",
              "      <th>prior_day-0b</th>\n",
              "      <th>prior_day-1b</th>\n",
              "      <th>prior_day-2b</th>\n",
              "      <th>prior_day-3b</th>\n",
              "      <th>prior_day-4b</th>\n",
              "      <th>prior_day-total_b</th>\n",
              "      <th>rolling_close_3</th>\n",
              "      <th>rolling_close_6</th>\n",
              "      <th>rolling_close_9</th>\n",
              "      <th>rolling_close_12</th>\n",
              "      <th>rolling_close_15</th>\n",
              "      <th>rolling_close_18</th>\n",
              "      <th>rolling_close_21</th>\n",
              "      <th>rolling_close_3b</th>\n",
              "      <th>rolling_close_6b</th>\n",
              "      <th>rolling_close_9b</th>\n",
              "      <th>rolling_close_12b</th>\n",
              "      <th>rolling_close_15b</th>\n",
              "      <th>rolling_close_18b</th>\n",
              "      <th>rolling_close_21b</th>\n",
              "      <th>rolling_close_total_b</th>\n",
              "      <th>prior_day-0</th>\n",
              "      <th>prior_day-0</th>\n",
              "      <th>prior_day-0</th>\n",
              "      <th>prior_day-0</th>\n",
              "      <th>prior_day-0</th>\n",
              "      <th>prior_day-0</th>\n",
              "      <th>y</th>\n",
              "      <th>yb</th>\n",
              "    </tr>\n",
              "  </thead>\n",
              "  <tbody>\n",
              "    <tr>\n",
              "      <th>0</th>\n",
              "      <td>438.51</td>\n",
              "      <td>2021-07-30</td>\n",
              "      <td>4</td>\n",
              "      <td>211</td>\n",
              "      <td>30</td>\n",
              "      <td>7</td>\n",
              "      <td>3</td>\n",
              "      <td>-2.14</td>\n",
              "      <td>-0.32</td>\n",
              "      <td>-0.5</td>\n",
              "      <td>-2.51</td>\n",
              "      <td>-1.43</td>\n",
              "      <td>0</td>\n",
              "      <td>0</td>\n",
              "      <td>0</td>\n",
              "      <td>0</td>\n",
              "      <td>0</td>\n",
              "      <td>0</td>\n",
              "      <td>-2.14</td>\n",
              "      <td>1.82</td>\n",
              "      <td>-0.18</td>\n",
              "      <td>-2.01</td>\n",
              "      <td>1.08</td>\n",
              "      <td>0</td>\n",
              "      <td>1</td>\n",
              "      <td>0</td>\n",
              "      <td>0</td>\n",
              "      <td>1</td>\n",
              "      <td>2</td>\n",
              "      <td>-0.82</td>\n",
              "      <td>-1.15</td>\n",
              "      <td>0.84</td>\n",
              "      <td>2.669167</td>\n",
              "      <td>2.576667</td>\n",
              "      <td>2.96</td>\n",
              "      <td>3.415714</td>\n",
              "      <td>0</td>\n",
              "      <td>0</td>\n",
              "      <td>1</td>\n",
              "      <td>1</td>\n",
              "      <td>1</td>\n",
              "      <td>1</td>\n",
              "      <td>1</td>\n",
              "      <td>5</td>\n",
              "      <td>-0.286</td>\n",
              "      <td>0.717</td>\n",
              "      <td>0.199333</td>\n",
              "      <td>0.404</td>\n",
              "      <td>0.5364</td>\n",
              "      <td>0.551333</td>\n",
              "      <td>0.0</td>\n",
              "      <td>0</td>\n",
              "    </tr>\n",
              "  </tbody>\n",
              "</table>\n",
              "</div>"
            ],
            "text/plain": [
              "    Close       Date  DOW  DOY  ...  prior_day-0  prior_day-0    y  yb\n",
              "0  438.51 2021-07-30    4  211  ...       0.5364     0.551333  0.0   0\n",
              "\n",
              "[1 rows x 52 columns]"
            ]
          },
          "metadata": {
            "tags": []
          },
          "execution_count": 245
        }
      ]
    },
    {
      "cell_type": "markdown",
      "metadata": {
        "id": "R_VdPhY45MJd"
      },
      "source": [
        "#Evaluate dataset for NaN\n",
        "\n",
        "Throught the processes above there should have been some NaN values created at the tail"
      ]
    },
    {
      "cell_type": "code",
      "metadata": {
        "colab": {
          "base_uri": "https://localhost:8080/"
        },
        "id": "d6avhJTi5Wop",
        "outputId": "76dba44e-dd7c-4169-e2ed-8cd4814edfae"
      },
      "source": [
        "dataset_final.dropna(inplace = True)\n",
        "\n",
        "a = len(dataset.index)\n",
        "e = len(dataset_final.index)\n",
        "\n",
        "print(\"rows dropped = {}\".format(a-e))"
      ],
      "execution_count": 246,
      "outputs": [
        {
          "output_type": "stream",
          "text": [
            "rows dropped = 30\n"
          ],
          "name": "stdout"
        }
      ]
    },
    {
      "cell_type": "markdown",
      "metadata": {
        "id": "rifSXtgbhYYt"
      },
      "source": [
        "#Create dataset splitting variable (Train and Pred)\n",
        "\n",
        "Date variables based on today date are required to prevent \"hardcoding\" dates into the model\n",
        "\n",
        "The date_var variable will represent the most current date in the dataset. This allows the solution to be run for any timeframe.\n",
        "\n",
        "The following code can replace the current date_var logic in the case the current method causes issues. Note, this method requires adjustment when back testing \n",
        "\n",
        "date_var = pd.to_datetime(date.today()) \n",
        "\n",
        "use train/pred_minus_days to tune the model for longer or shorter periods of time. Allow for a 30 day overlap where pred will have 30 days"
      ]
    },
    {
      "cell_type": "code",
      "metadata": {
        "colab": {
          "base_uri": "https://localhost:8080/"
        },
        "id": "iF1y7B2r7cVv",
        "outputId": "448abe64-04ea-4f44-afe1-dfdecf083676"
      },
      "source": [
        "train_minus_days = 90\n",
        "pred_minus_days = 120\n",
        "\n",
        "date_var = dataset_final['Date'].max()\n",
        "train_begin_date = dataset_final['Date'].min()\n",
        "train_end_date = (date_var - pd.to_timedelta(train_minus_days, unit='d'))\n",
        "pred_begin_date = (date_var - pd.to_timedelta(pred_minus_days, unit='d'))\n",
        "pred_end_date = date_var\n",
        "\n",
        "train_begin_date = train_begin_date.to_pydatetime()\n",
        "train_end_date = train_end_date.to_pydatetime()\n",
        "pred_begin_date = pred_begin_date.to_pydatetime()\n",
        "pred_end_date = pred_end_date.to_pydatetime()\n",
        "\n",
        "#train_begin_date = pd.DataFrame([train_begin_date], columns=['train_begin_date'])\n",
        "#train_end_date = pd.DataFrame([train_end_date], columns=['train_end_date'])\n",
        "#pred_begin_date = pd.DataFrame([pred_begin_date], columns=['pred_begin_date'])\n",
        "#pred_end_date = pd.DataFrame([pred_end_date], columns=['pred_end_date'])\n",
        "\n",
        "print(train_begin_date)\n",
        "print(train_end_date)\n",
        "print(pred_begin_date)\n",
        "print(pred_end_date)"
      ],
      "execution_count": 247,
      "outputs": [
        {
          "output_type": "stream",
          "text": [
            "2016-06-16 00:00:00\n",
            "2021-05-01 00:00:00\n",
            "2021-04-01 00:00:00\n",
            "2021-07-30 00:00:00\n"
          ],
          "name": "stdout"
        }
      ]
    },
    {
      "cell_type": "markdown",
      "metadata": {
        "id": "IzgziXsl-SBz"
      },
      "source": [
        "#Split between training and predict data sets\n",
        "\n",
        "The top last 90 periods (rows) will generate the pred data set.\n",
        "\n",
        "All but the top 60 periods (rows) will generate the training data set.\n",
        "\n",
        "The 30 day overlap can provide a measure of the model's degredation over time\n",
        "\n",
        "!Note - The market is closed on weekends and holidays. The count of days in each set will NOT equal the amount of days between begin and end dates."
      ]
    },
    {
      "cell_type": "code",
      "metadata": {
        "colab": {
          "base_uri": "https://localhost:8080/"
        },
        "id": "nOHf760CShq3",
        "outputId": "dc7cc19a-eae2-4ee6-a52d-3cf3303c8bc0"
      },
      "source": [
        "#split text and train datasets\n",
        "predset = dataset_final[(dataset_final['Date'] >= pred_begin_date) & \n",
        "                        (dataset_final['Date'] <= pred_end_date)]\n",
        "trainset = dataset_final[(dataset_final['Date'] >= train_begin_date) & \n",
        "                         (dataset_final['Date'] <= train_end_date)]\n",
        "type(predset)"
      ],
      "execution_count": 248,
      "outputs": [
        {
          "output_type": "execute_result",
          "data": {
            "text/plain": [
              "pandas.core.frame.DataFrame"
            ]
          },
          "metadata": {
            "tags": []
          },
          "execution_count": 248
        }
      ]
    },
    {
      "cell_type": "code",
      "metadata": {
        "colab": {
          "base_uri": "https://localhost:8080/"
        },
        "id": "cTZ65w52bsBZ",
        "outputId": "e9f79425-767d-4f20-9cc1-5bd0557b423b"
      },
      "source": [
        "list(dataset.columns)"
      ],
      "execution_count": 249,
      "outputs": [
        {
          "output_type": "execute_result",
          "data": {
            "text/plain": [
              "['Close',\n",
              " 'Date',\n",
              " 'DOW',\n",
              " 'DOY',\n",
              " 'Week',\n",
              " 'Month',\n",
              " 'Quarter',\n",
              " 'gain_loss-0',\n",
              " 'gain_loss-1',\n",
              " 'gain_loss-2',\n",
              " 'gain_loss-3',\n",
              " 'gain_loss-4',\n",
              " 'gain_loss-0b',\n",
              " 'gain_loss-1b',\n",
              " 'gain_loss-2b',\n",
              " 'gain_loss-3b',\n",
              " 'gain_loss-4b',\n",
              " 'gain_loss-total_b',\n",
              " 'prior_day-0',\n",
              " 'prior_day-1',\n",
              " 'prior_day-2',\n",
              " 'prior_day-3',\n",
              " 'prior_day-4',\n",
              " 'prior_day-0b',\n",
              " 'prior_day-1b',\n",
              " 'prior_day-2b',\n",
              " 'prior_day-3b',\n",
              " 'prior_day-4b',\n",
              " 'prior_day-total_b',\n",
              " 'rolling_close_3',\n",
              " 'rolling_close_6',\n",
              " 'rolling_close_9',\n",
              " 'rolling_close_12',\n",
              " 'rolling_close_15',\n",
              " 'rolling_close_18',\n",
              " 'rolling_close_21',\n",
              " 'rolling_close_3b',\n",
              " 'rolling_close_6b',\n",
              " 'rolling_close_9b',\n",
              " 'rolling_close_12b',\n",
              " 'rolling_close_15b',\n",
              " 'rolling_close_18b',\n",
              " 'rolling_close_21b',\n",
              " 'rolling_close_total_b']"
            ]
          },
          "metadata": {
            "tags": []
          },
          "execution_count": 249
        }
      ]
    },
    {
      "cell_type": "markdown",
      "metadata": {
        "id": "50h5EJr9_DZW"
      },
      "source": [
        "#Convert dataset into X and y and refine column membership\n",
        "\n",
        "This process separates the dependant and independant variables\n",
        "\n",
        "X should not contain the y or yb attributes\n",
        "\n",
        "for X, \"Date\" should be removed since it is a time-series value; date attributes will represent time\n",
        "\n",
        "for X, \"Close\" should be removed due to its relationship to the indepenant variable\n",
        "\n",
        "Two models will come out of this model, one for continuous variable y and binary value yb"
      ]
    },
    {
      "cell_type": "code",
      "metadata": {
        "colab": {
          "base_uri": "https://localhost:8080/"
        },
        "id": "Z0cZJQK3ILwd",
        "outputId": "ae5c55d5-1488-454b-b1ac-598686fbf252"
      },
      "source": [
        "X = trainset\n",
        "X.drop(X.tail(31).index, inplace = True)\n",
        "X = X.drop(['y','yb', 'Date', 'Close'], axis = 1).values\n",
        "y = trainset['y'].values\n",
        "yb = trainset['yb'].values\n",
        "print(X)\n",
        "print(\"-------------------------\")\n",
        "print(y)\n",
        "print(\"-------------------------\")\n",
        "print(yb)"
      ],
      "execution_count": 250,
      "outputs": [
        {
          "output_type": "stream",
          "text": [
            "[[  4.         120.          17.         ...   0.8345       1.104\n",
            "    0.86066667]\n",
            " [  3.         119.          17.         ...   1.1865       1.3016\n",
            "    0.76      ]\n",
            " [  2.         118.          17.         ...   1.1335       1.116\n",
            "    0.71633333]\n",
            " ...\n",
            " [  2.         216.          31.         ...   0.326        0.519212\n",
            "    0.258     ]\n",
            " [  1.         215.          31.         ...   0.35696      0.637968\n",
            "    0.25664   ]\n",
            " [  0.         214.          31.         ...   0.35096      0.5524\n",
            "    0.34733333]]\n",
            "-------------------------\n",
            "[ 0.9    -2.76    2.66   ...  0.2297  0.6308 -1.3908]\n",
            "-------------------------\n",
            "[1 0 1 ... 1 1 0]\n"
          ],
          "name": "stdout"
        },
        {
          "output_type": "stream",
          "text": [
            "/usr/local/lib/python3.7/dist-packages/pandas/core/frame.py:4174: SettingWithCopyWarning: \n",
            "A value is trying to be set on a copy of a slice from a DataFrame\n",
            "\n",
            "See the caveats in the documentation: https://pandas.pydata.org/pandas-docs/stable/user_guide/indexing.html#returning-a-view-versus-a-copy\n",
            "  errors=errors,\n"
          ],
          "name": "stderr"
        }
      ]
    },
    {
      "cell_type": "code",
      "metadata": {
        "colab": {
          "base_uri": "https://localhost:8080/"
        },
        "id": "wQNhBiAEN_fx",
        "outputId": "28be57ed-4cb0-4728-c1f5-90a8fc025009"
      },
      "source": [
        "#Validation of row counts\n",
        "\n",
        "f = len(X)\n",
        "g = len(y)\n",
        "h = len(yb)\n",
        "\n",
        "print(f, g, h)"
      ],
      "execution_count": 251,
      "outputs": [
        {
          "output_type": "stream",
          "text": [
            "1196 1196 1196\n"
          ],
          "name": "stdout"
        }
      ]
    },
    {
      "cell_type": "markdown",
      "metadata": {
        "id": "BgGLmBg2CCjH"
      },
      "source": [
        "#Train the models\n",
        "\n",
        "The model can be extended to use any regression or classificaiton model.\n",
        "\n",
        "Current model inventory:\n",
        "\n",
        "1) Random Forest"
      ]
    },
    {
      "cell_type": "code",
      "metadata": {
        "colab": {
          "base_uri": "https://localhost:8080/"
        },
        "id": "w4xd8XMCH3M2",
        "outputId": "4304a0d0-2b4b-443b-c9f9-885cdbefe78e"
      },
      "source": [
        "from sklearn.ensemble import RandomForestRegressor\n",
        "\n",
        "regressor = RandomForestRegressor(n_estimators = 120, random_state = 0)\n",
        "\n",
        "regressor.fit(X, y)\n",
        "\n",
        "regressor_b = RandomForestRegressor(n_estimators = 120, random_state = 0)\n",
        "\n",
        "regressor_b.fit(X, yb)\n"
      ],
      "execution_count": 252,
      "outputs": [
        {
          "output_type": "execute_result",
          "data": {
            "text/plain": [
              "RandomForestRegressor(bootstrap=True, ccp_alpha=0.0, criterion='mse',\n",
              "                      max_depth=None, max_features='auto', max_leaf_nodes=None,\n",
              "                      max_samples=None, min_impurity_decrease=0.0,\n",
              "                      min_impurity_split=None, min_samples_leaf=1,\n",
              "                      min_samples_split=2, min_weight_fraction_leaf=0.0,\n",
              "                      n_estimators=120, n_jobs=None, oob_score=False,\n",
              "                      random_state=0, verbose=0, warm_start=False)"
            ]
          },
          "metadata": {
            "tags": []
          },
          "execution_count": 252
        }
      ]
    },
    {
      "cell_type": "markdown",
      "metadata": {
        "id": "lMP2XIlOCUTS"
      },
      "source": [
        "#Create predict dataset\n",
        "\n",
        "The predict dataset should match the process used to generate the training dataset"
      ]
    },
    {
      "cell_type": "code",
      "metadata": {
        "colab": {
          "base_uri": "https://localhost:8080/",
          "height": 302
        },
        "id": "G0BNR3t8Um8v",
        "outputId": "9f7a140f-11fa-40b4-fcc3-a0f286e80bf4"
      },
      "source": [
        "#Prepare predict set\n",
        "Xpred = predset\n",
        "Xpred = Xpred[[ 'DOW', 'Month', 'Quarter', 'gain_loss-0', 'gain_loss-1', \n",
        "               'gain_loss-2', 'gain_loss-3', 'gain_loss-4', 'gain_loss-total_b', \n",
        "               'prior_day-0', 'prior_day-1', 'prior_day-2', 'prior_day-3', 'prior_day-4', \n",
        "               'prior_day-total_b', 'rolling_close_3', 'rolling_close_6', 'rolling_close_9', \n",
        "               'rolling_close_12', 'rolling_close_15', 'rolling_close_18', 'rolling_close_21', \n",
        "               'rolling_close_total_b'\n",
        "               ]].values\n",
        "\n",
        "Xpred_b = Xpred[[ 'DOW', 'Month', 'Quarter', \n",
        "                 'gain_loss-0b', 'gain_loss-1b', 'gain_loss-2b', 'gain_loss-3b', \n",
        "                 'gain_loss-4b', 'prior_day-0b', 'prior_day-1b', 'prior_day-2b', \n",
        "                 'prior_day-3b', 'prior_day-4b', 'rolling_close_3b', 'rolling_close_6b', \n",
        "                 'rolling_close_9b', 'rolling_close_12b', 'rolling_close_15b', 'rolling_close_18b', \n",
        "                 'rolling_close_21b'\n",
        "                 ]].values\n",
        "\n",
        "y_actual = predset['y'].values\n",
        "yb_actual = predset['yb'].values\n",
        "print(Xpred)\n",
        "print(\"-------------------------\")\n",
        "print(y_actual)\n",
        "print(\"-------------------------\")\n",
        "print(yb_actual)"
      ],
      "execution_count": 253,
      "outputs": [
        {
          "output_type": "stream",
          "text": [
            "/usr/local/lib/python3.7/dist-packages/ipykernel_launcher.py:16: FutureWarning: Using a non-tuple sequence for multidimensional indexing is deprecated; use `arr[tuple(seq)]` instead of `arr[seq]`. In the future this will be interpreted as an array index, `arr[np.array(seq)]`, which will result either in an error or a different result.\n",
            "  app.launch_new_instance()\n"
          ],
          "name": "stderr"
        },
        {
          "output_type": "error",
          "ename": "IndexError",
          "evalue": "ignored",
          "traceback": [
            "\u001b[0;31m---------------------------------------------------------------------------\u001b[0m",
            "\u001b[0;31mIndexError\u001b[0m                                Traceback (most recent call last)",
            "\u001b[0;32m<ipython-input-253-63fc44705059>\u001b[0m in \u001b[0;36m<module>\u001b[0;34m()\u001b[0m\n\u001b[1;32m     14\u001b[0m                  \u001b[0;34m'prior_day-3b'\u001b[0m\u001b[0;34m,\u001b[0m \u001b[0;34m'prior_day-4b'\u001b[0m\u001b[0;34m,\u001b[0m \u001b[0;34m'rolling_close_3b'\u001b[0m\u001b[0;34m,\u001b[0m \u001b[0;34m'rolling_close_6b'\u001b[0m\u001b[0;34m,\u001b[0m\u001b[0;34m\u001b[0m\u001b[0;34m\u001b[0m\u001b[0m\n\u001b[1;32m     15\u001b[0m                  \u001b[0;34m'rolling_close_9b'\u001b[0m\u001b[0;34m,\u001b[0m \u001b[0;34m'rolling_close_12b'\u001b[0m\u001b[0;34m,\u001b[0m \u001b[0;34m'rolling_close_15b'\u001b[0m\u001b[0;34m,\u001b[0m \u001b[0;34m'rolling_close_18b'\u001b[0m\u001b[0;34m,\u001b[0m\u001b[0;34m\u001b[0m\u001b[0;34m\u001b[0m\u001b[0m\n\u001b[0;32m---> 16\u001b[0;31m                  \u001b[0;34m'rolling_close_21b'\u001b[0m\u001b[0;34m\u001b[0m\u001b[0;34m\u001b[0m\u001b[0m\n\u001b[0m\u001b[1;32m     17\u001b[0m                  ]].values\n\u001b[1;32m     18\u001b[0m \u001b[0;34m\u001b[0m\u001b[0m\n",
            "\u001b[0;31mIndexError\u001b[0m: only integers, slices (`:`), ellipsis (`...`), numpy.newaxis (`None`) and integer or boolean arrays are valid indices"
          ]
        }
      ]
    },
    {
      "cell_type": "code",
      "metadata": {
        "id": "j2GHt6_yClWW"
      },
      "source": [
        "i = len(Xpred)\n",
        "j = len(y_actual)\n",
        "k = len(yb_actual)\n",
        "\n",
        "print(i, j, k)"
      ],
      "execution_count": null,
      "outputs": []
    },
    {
      "cell_type": "markdown",
      "metadata": {
        "id": "agrPLswhEQYf"
      },
      "source": [
        "#Generate predictions\n",
        "\n",
        "Predictions are made for both continuous and binary"
      ]
    },
    {
      "cell_type": "code",
      "metadata": {
        "id": "sJYXf1mKU9t2"
      },
      "source": [
        "y_pred = regressor.predict(Xpred)\n",
        "\n",
        "yb_pred = regressor_b.predict(Xpred)\n",
        "\n",
        "np_array = np.concatenate((y_pred.reshape(len(y_pred),1), \n",
        "                           yb_pred.reshape(len(y_pred),1),\n",
        "                           y_actual.reshape(len(y_actual),1),\n",
        "                           yb_actual.reshape(len(yb_actual),1),\n",
        "                           ), axis = 1)\n",
        "\n",
        "results = pd.DataFrame(np_array, columns = ['y_pred', 'yb_pred', 'y_actual', 'yb_actual'])\n",
        "\n",
        "print(results)\n"
      ],
      "execution_count": null,
      "outputs": []
    },
    {
      "cell_type": "markdown",
      "metadata": {
        "id": "o-3X7j0LFdm3"
      },
      "source": [
        "#Create buy/sell indicator/strategy based on pred\n",
        "\n",
        "1 = Buy next day\n",
        "\n",
        "0 = Sell next day\n",
        "\n",
        "yb_pred_num is a number that can help tune the model. Any number above .5 is less resk adverse (creates more risk)"
      ]
    },
    {
      "cell_type": "code",
      "metadata": {
        "id": "UGmNBoUvD3ee"
      },
      "source": [
        "yb_pred_num = 0.50\n",
        "\n",
        "results['y_pred_arg'] = np.where(results['y_pred'] > 0, 1, 0)\n",
        "results['yb_pred_arg'] = np.where(results['yb_pred'] > yb_pred_num, 1, 0)\n",
        "results['y_actual_arg'] = np.where(results['y_actual'] > 0, 1, 0)\n",
        "results['yb_acutal_arg'] = np.where(results['yb_actual'] > 0, 1, 0)\n",
        "\n",
        "print(results)\n"
      ],
      "execution_count": null,
      "outputs": []
    },
    {
      "cell_type": "markdown",
      "metadata": {
        "id": "pqw05ZTyYTRO"
      },
      "source": [
        "#Add in 'short' ticker for same period\n",
        "\n",
        "A short ticker is one that behavies opposite of the selected ticker in this evaluation.\n",
        "\n",
        "The concept of having a short ticker is to trade \"into\" it when trading \"out\" of the primary ticker\n",
        "\n",
        "Note! - This section is not broke out; use hashtag notes as a reference"
      ]
    },
    {
      "cell_type": "code",
      "metadata": {
        "id": "ZfuqoqhppYlx"
      },
      "source": [
        "#import dataset\n",
        "dataset_short = pd.read_csv('/content/drive/MyDrive/Colab Notebooks/HistoricalPricesHIBS.csv')\n",
        "#rename values with leading white spaces\n",
        "dataset_short.rename({' Close': 'Close'}, axis=1, inplace = True)\n",
        "#create gain loss value for short\n",
        "dataset_short['gain_loss_short-0'] = dataset_short['Close'].diff(-1)\n",
        "#select out values needed for model\n",
        "dataset_short = dataset_short[['Close', 'Date', 'gain_loss_short-0']]\n",
        "#convert date to datetype\n",
        "dataset_short['Date'] = pd.to_datetime(dataset_short['Date'])\n",
        "#select out mating dates to pred dataset\n",
        "pred_short = dataset_short[(dataset_short['Date'] >= pred_begin_date) & \n",
        "                         (dataset_short['Date'] <= pred_end_date)]\n",
        "#move rows down by one\n",
        "y_short = pd.DataFrame(pred_short['gain_loss_short-0']).reset_index(drop = True)\n",
        "y_short.loc[-1] = [0]\n",
        "y_short.index = y_short.index + 1\n",
        "y_short = y_short.sort_index()\n",
        "y_short.drop(y_short.tail(1).index, inplace = True)\n",
        "y_short.rename(columns={'gain_loss_short-0': 'y_short'}, inplace=True)\n",
        "y_short_df = pd.DataFrame(y_short, columns=['y_short'])\n",
        "#add short to results\n",
        "results = pd.concat([results,\n",
        "                    y_short_df],\n",
        "                    axis = 1)\n",
        "#verfity y_short and y_actual are both 0 at row\n",
        "print(results)"
      ],
      "execution_count": null,
      "outputs": []
    },
    {
      "cell_type": "code",
      "metadata": {
        "id": "jKAzSnKvr7Tx"
      },
      "source": [
        "type(results)"
      ],
      "execution_count": null,
      "outputs": []
    },
    {
      "cell_type": "markdown",
      "metadata": {
        "id": "BnXmpVbUKsKD"
      },
      "source": [
        "#Model Performance\n",
        "\n",
        "To account accurately the top row of the \"results\" dataset must be removed\n",
        "\n",
        "Model performanced is based on the buy-sell relationship between the \"..._arg\" columns\n",
        "\n",
        "Each model is measured as well as a various combination of the models."
      ]
    },
    {
      "cell_type": "code",
      "metadata": {
        "id": "x1sxZIZRJrCl"
      },
      "source": [
        "results['y_buy'] = np.where(results['y_pred_arg'] >= 1, results['y_actual'], results['y_short'])\n",
        "results['yb_buy'] = np.where(results['yb_pred_arg'] >= 1, results['y_actual'], results['y_short'])\n",
        "results['yoryb_buy'] = np.where((results['y_pred_arg'] + results['yb_pred_arg']) >= 1, results['y_actual'], results['y_short'])\n",
        "results['yandyb_buy'] = np.where((results['y_pred_arg'] + results['yb_pred_arg']) >= 2, results['y_actual'], results['y_short'])\n"
      ],
      "execution_count": null,
      "outputs": []
    },
    {
      "cell_type": "markdown",
      "metadata": {
        "id": "5teAplemSXTI"
      },
      "source": [
        "The following section should be turned into a loop"
      ]
    },
    {
      "cell_type": "code",
      "metadata": {
        "id": "vdgmrVfZNHlO"
      },
      "source": [
        "performance_all = results\n",
        "performance_all = performance_all[1:] #Remove top row since we do not have actual value\n",
        "performance_all = performance_all.sum(axis = 0)\n",
        "print(performance_all)"
      ],
      "execution_count": null,
      "outputs": []
    },
    {
      "cell_type": "code",
      "metadata": {
        "id": "ZyAs4dBWO1jH"
      },
      "source": [
        "performance_30 = results.head(31)\n",
        "performance_30 = performance_30[1:] #Remove top row since we do not have actual value\n",
        "performance_30 = performance_30.sum(axis = 0)\n",
        "print(performance_30)"
      ],
      "execution_count": null,
      "outputs": []
    },
    {
      "cell_type": "code",
      "metadata": {
        "id": "0RtKpD35Qe6L"
      },
      "source": [
        "performance_60 = results.head(61)\n",
        "performance_60 = performance_60[1:] #Remove top row since we do not have actual value\n",
        "performance_60 = performance_60.sum(axis = 0)\n",
        "print(performance_60)"
      ],
      "execution_count": null,
      "outputs": []
    },
    {
      "cell_type": "code",
      "metadata": {
        "id": "anaaRxMQR6SG"
      },
      "source": [
        "performance_15 = results.head(16)\n",
        "performance_15 = performance_15[1:] #Remove top row since we do not have actual value\n",
        "performance_15 = performance_15.sum(axis = 0)\n",
        "print(performance_15)"
      ],
      "execution_count": null,
      "outputs": []
    },
    {
      "cell_type": "code",
      "metadata": {
        "id": "d9sQut9GR6dU"
      },
      "source": [
        "performance_45 = results.head(46)\n",
        "performance_45 = performance_45[1:] #Remove top row since we do not have actual value\n",
        "performance_45 = performance_45.sum(axis = 0)\n",
        "print(performance_45)"
      ],
      "execution_count": null,
      "outputs": []
    },
    {
      "cell_type": "code",
      "metadata": {
        "id": "q8UcXA7hR6mH"
      },
      "source": [
        "performance_5 = results.head(6)\n",
        "performance_5 = performance_5[1:] #Remove top row since we do not have actual value\n",
        "performance_5 = performance_5.sum(axis = 0)\n",
        "print(performance_5)"
      ],
      "execution_count": null,
      "outputs": []
    },
    {
      "cell_type": "code",
      "metadata": {
        "id": "wzYnbajGUsll"
      },
      "source": [
        "performance_10 = results.head(11)\n",
        "performance_10 = performance_10[1:] #Remove top row since we do not have actual value\n",
        "performance_10 = performance_10.sum(axis = 0)\n",
        "print(performance_10)"
      ],
      "execution_count": null,
      "outputs": []
    },
    {
      "cell_type": "code",
      "metadata": {
        "id": "mhX2q3QOUtFB"
      },
      "source": [
        "performance_20 = results.head(21)\n",
        "performance_20 = performance_20[1:] #Remove top row since we do not have actual value\n",
        "performance_20 = performance_20.sum(axis = 0)\n",
        "print(performance_20)"
      ],
      "execution_count": null,
      "outputs": []
    },
    {
      "cell_type": "code",
      "metadata": {
        "id": "ki_EiwXnUtP8"
      },
      "source": [
        "performance_25 = results.head(26)\n",
        "performance_25 = performance_25[1:] #Remove top row since we do not have actual value\n",
        "performance_25 = performance_25.sum(axis = 0)\n",
        "print(performance_25)"
      ],
      "execution_count": null,
      "outputs": []
    },
    {
      "cell_type": "code",
      "metadata": {
        "id": "ldmAemGnUtZF"
      },
      "source": [
        "performance_35 = results.head(36)\n",
        "performance_35 = performance_35[1:] #Remove top row since we do not have actual value\n",
        "performance_35 = performance_35.sum(axis = 0)\n",
        "print(performance_35)"
      ],
      "execution_count": null,
      "outputs": []
    },
    {
      "cell_type": "code",
      "metadata": {
        "id": "QMWxREU1VhJX"
      },
      "source": [
        "performance_40 = results.head(41)\n",
        "performance_40 = performance_40[1:] #Remove top row since we do not have actual value\n",
        "performance_40 = performance_40.sum(axis = 0)\n",
        "print(performance_40)"
      ],
      "execution_count": null,
      "outputs": []
    },
    {
      "cell_type": "code",
      "metadata": {
        "id": "3EnuMXwrV18-"
      },
      "source": [
        "performance_50 = results.head(51)\n",
        "performance_50 = performance_50[1:] #Remove top row since we do not have actual value\n",
        "performance_50 = performance_50.sum(axis = 0)\n",
        "print(performance_50)"
      ],
      "execution_count": null,
      "outputs": []
    },
    {
      "cell_type": "code",
      "metadata": {
        "id": "cap9bS6NV2Yq"
      },
      "source": [
        "performance_55 = results.head(56)\n",
        "performance_55 = performance_55[1:] #Remove top row since we do not have actual value\n",
        "performance_55 = performance_55.sum(axis = 0)\n",
        "print(performance_55)"
      ],
      "execution_count": null,
      "outputs": []
    },
    {
      "cell_type": "code",
      "metadata": {
        "id": "EwQ017VqQ6Uy"
      },
      "source": [
        "performance = pd.concat([performance_5,\n",
        "                         performance_10,\n",
        "                         performance_15, \n",
        "                         performance_20,\n",
        "                         performance_25,\n",
        "                         performance_30,\n",
        "                         performance_35,\n",
        "                         performance_40, \n",
        "                         performance_45,\n",
        "                         performance_50,\n",
        "                         performance_55,\n",
        "                         performance_60, \n",
        "                         performance_all], axis=1)\n",
        "\n",
        "print(performance)"
      ],
      "execution_count": null,
      "outputs": []
    },
    {
      "cell_type": "code",
      "metadata": {
        "id": "bKau_JXi94r3"
      },
      "source": [
        "df1 = performance.T\n",
        "print(df1)"
      ],
      "execution_count": null,
      "outputs": []
    },
    {
      "cell_type": "code",
      "metadata": {
        "id": "ptcaYXPj-FvH"
      },
      "source": [
        "plt.plot(df1['y_actual'], color='black')\n",
        "plt.plot(df1['yoryb_buy'], color='blue')\n",
        "plt.plot(df1['yb_buy'], color='red')"
      ],
      "execution_count": null,
      "outputs": []
    },
    {
      "cell_type": "code",
      "metadata": {
        "id": "-N1HSPFzYmaf"
      },
      "source": [
        "#results.to_csv('/content/drive/MyDrive/Colab Notebooks/results_sky_hibs_20121201-20210431_.csv')\n",
        "#performance.to_csv('/content/drive/MyDrive/Colab Notebooks/performance_sky_hibs_20121201-20210431_.csv')"
      ],
      "execution_count": null,
      "outputs": []
    }
  ]
}