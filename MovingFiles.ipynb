{
  "nbformat": 4,
  "nbformat_minor": 0,
  "metadata": {
    "colab": {
      "name": "MovingFiles.ipynb",
      "provenance": [],
      "collapsed_sections": [],
      "authorship_tag": "ABX9TyMRIbI17+wv3sSLO9Z4nhgj",
      "include_colab_link": true
    },
    "kernelspec": {
      "name": "python3",
      "display_name": "Python 3"
    },
    "language_info": {
      "name": "python"
    }
  },
  "cells": [
    {
      "cell_type": "markdown",
      "metadata": {
        "id": "view-in-github",
        "colab_type": "text"
      },
      "source": [
        "<a href=\"https://colab.research.google.com/github/kappandrew2/DataPreProcessing/blob/main/MovingFiles.ipynb\" target=\"_parent\"><img src=\"https://colab.research.google.com/assets/colab-badge.svg\" alt=\"Open In Colab\"/></a>"
      ]
    },
    {
      "cell_type": "code",
      "metadata": {
        "id": "8WDFQxH70hUn"
      },
      "source": [
        "import glob\n",
        "import pandas as pd"
      ],
      "execution_count": 68,
      "outputs": []
    },
    {
      "cell_type": "code",
      "metadata": {
        "colab": {
          "base_uri": "https://localhost:8080/"
        },
        "id": "PlK6bPON0h0j",
        "outputId": "1a3c9682-9610-4ced-930f-4653eec24622"
      },
      "source": [
        "from google.colab import drive\n",
        "drive.mount('/content/drive', force_remount=True)"
      ],
      "execution_count": 44,
      "outputs": [
        {
          "output_type": "stream",
          "text": [
            "Mounted at /content/drive\n"
          ],
          "name": "stdout"
        }
      ]
    },
    {
      "cell_type": "code",
      "metadata": {
        "id": "RYU0CtRK0-1e"
      },
      "source": [
        "stage_1_path = \"/content/drive/MyDrive/Colab Notebooks/_Stage_1/*.csv\"\n",
        "stage_1_files = glob.glob(folder_path)\n",
        "stage_2_path = \"/content/drive/MyDrive/Colab Notebooks/_Stage_2/\"\n",
        "stage_2_files = glob.glob(folder_path)"
      ],
      "execution_count": 62,
      "outputs": []
    },
    {
      "cell_type": "code",
      "metadata": {
        "colab": {
          "base_uri": "https://localhost:8080/"
        },
        "id": "Drqj-u7r7fUf",
        "outputId": "31462c7c-173e-4e2b-a482-0b2c0b8f4c9b"
      },
      "source": [
        "stage_1_files"
      ],
      "execution_count": 63,
      "outputs": [
        {
          "output_type": "execute_result",
          "data": {
            "text/plain": [
              "['/content/drive/MyDrive/Colab Notebooks/_Stage_1/SH.csv',\n",
              " '/content/drive/MyDrive/Colab Notebooks/_Stage_1/SPY.csv']"
            ]
          },
          "metadata": {
            "tags": []
          },
          "execution_count": 63
        }
      ]
    },
    {
      "cell_type": "code",
      "metadata": {
        "colab": {
          "base_uri": "https://localhost:8080/",
          "height": 224
        },
        "id": "PKNhI_yx1kh1",
        "outputId": "6afddf1a-c2df-4212-ce76-60629810141a"
      },
      "source": [
        "for x in stage_1_files:\n",
        "  df = pd.read_csv(x)\n",
        "  #Change names\n",
        "  df.rename({' Close': 'close', ' High': 'high', ' Low': 'low', 'Date': 'date'}, axis=1, inplace = True)\n",
        "  #Keeper columns\n",
        "  df = df[['close', 'high', 'low', 'date']]\n",
        "  #Create new attributes\n",
        "  df['gain_loss_prior_day'] = df['close'].diff(-1)\n",
        "  df['gain_loss_prior_day_pct'] = df['gain_loss_prior_day']/df['close']\n",
        "  df['high_low_spread'] = df['high'] - df['low']\n",
        "  df['high_close_spread'] = df['high'] - df['close']\n",
        "  df['low_close_spread'] = df['low'] - df['close']\n",
        "  #Create export file name\n",
        "  suffix = x[x.find('_1/')+3 : x.find('.')+4]\n",
        "  file_name = stage_2_path + suffix\n",
        "  #Export file\n",
        "  df.to_csv(file_name)\n",
        "\n",
        "df.head()"
      ],
      "execution_count": 91,
      "outputs": [
        {
          "output_type": "execute_result",
          "data": {
            "text/html": [
              "<div>\n",
              "<style scoped>\n",
              "    .dataframe tbody tr th:only-of-type {\n",
              "        vertical-align: middle;\n",
              "    }\n",
              "\n",
              "    .dataframe tbody tr th {\n",
              "        vertical-align: top;\n",
              "    }\n",
              "\n",
              "    .dataframe thead th {\n",
              "        text-align: right;\n",
              "    }\n",
              "</style>\n",
              "<table border=\"1\" class=\"dataframe\">\n",
              "  <thead>\n",
              "    <tr style=\"text-align: right;\">\n",
              "      <th></th>\n",
              "      <th>close</th>\n",
              "      <th>high</th>\n",
              "      <th>low</th>\n",
              "      <th>date</th>\n",
              "      <th>gain_loss_prior_day</th>\n",
              "      <th>gain_loss_prior_day_pct</th>\n",
              "      <th>high_low_spread</th>\n",
              "      <th>high_close_spread</th>\n",
              "      <th>low_close_spread</th>\n",
              "    </tr>\n",
              "  </thead>\n",
              "  <tbody>\n",
              "    <tr>\n",
              "      <th>0</th>\n",
              "      <td>442.13</td>\n",
              "      <td>442.7950</td>\n",
              "      <td>441.31</td>\n",
              "      <td>08/09/21</td>\n",
              "      <td>-0.36</td>\n",
              "      <td>-0.000814</td>\n",
              "      <td>1.4850</td>\n",
              "      <td>0.6650</td>\n",
              "      <td>-0.82</td>\n",
              "    </tr>\n",
              "    <tr>\n",
              "      <th>1</th>\n",
              "      <td>442.49</td>\n",
              "      <td>442.9400</td>\n",
              "      <td>441.80</td>\n",
              "      <td>08/06/21</td>\n",
              "      <td>0.73</td>\n",
              "      <td>0.001650</td>\n",
              "      <td>1.1400</td>\n",
              "      <td>0.4500</td>\n",
              "      <td>-0.69</td>\n",
              "    </tr>\n",
              "    <tr>\n",
              "      <th>2</th>\n",
              "      <td>441.76</td>\n",
              "      <td>441.8500</td>\n",
              "      <td>439.88</td>\n",
              "      <td>08/05/21</td>\n",
              "      <td>2.78</td>\n",
              "      <td>0.006293</td>\n",
              "      <td>1.9700</td>\n",
              "      <td>0.0900</td>\n",
              "      <td>-1.88</td>\n",
              "    </tr>\n",
              "    <tr>\n",
              "      <th>3</th>\n",
              "      <td>438.98</td>\n",
              "      <td>441.1243</td>\n",
              "      <td>438.73</td>\n",
              "      <td>08/04/21</td>\n",
              "      <td>-2.17</td>\n",
              "      <td>-0.004943</td>\n",
              "      <td>2.3943</td>\n",
              "      <td>2.1443</td>\n",
              "      <td>-0.25</td>\n",
              "    </tr>\n",
              "    <tr>\n",
              "      <th>4</th>\n",
              "      <td>441.15</td>\n",
              "      <td>441.2800</td>\n",
              "      <td>436.10</td>\n",
              "      <td>08/03/21</td>\n",
              "      <td>3.56</td>\n",
              "      <td>0.008070</td>\n",
              "      <td>5.1800</td>\n",
              "      <td>0.1300</td>\n",
              "      <td>-5.05</td>\n",
              "    </tr>\n",
              "  </tbody>\n",
              "</table>\n",
              "</div>"
            ],
            "text/plain": [
              "    close      high  ...  high_close_spread low_close_spread\n",
              "0  442.13  442.7950  ...             0.6650            -0.82\n",
              "1  442.49  442.9400  ...             0.4500            -0.69\n",
              "2  441.76  441.8500  ...             0.0900            -1.88\n",
              "3  438.98  441.1243  ...             2.1443            -0.25\n",
              "4  441.15  441.2800  ...             0.1300            -5.05\n",
              "\n",
              "[5 rows x 9 columns]"
            ]
          },
          "metadata": {
            "tags": []
          },
          "execution_count": 91
        }
      ]
    },
    {
      "cell_type": "code",
      "metadata": {
        "colab": {
          "base_uri": "https://localhost:8080/"
        },
        "id": "SSfOiJ7I3tZ4",
        "outputId": "76134546-ac05-4641-9d9c-7f618e2d738e"
      },
      "source": [
        ""
      ],
      "execution_count": 35,
      "outputs": [
        {
          "output_type": "execute_result",
          "data": {
            "text/plain": [
              "list"
            ]
          },
          "metadata": {
            "tags": []
          },
          "execution_count": 35
        }
      ]
    },
    {
      "cell_type": "markdown",
      "metadata": {
        "id": "cqdiMgno4JFW"
      },
      "source": [
        "#Good list of file processing steps\n",
        "\n",
        "https://stackoverflow.com/questions/3207219/how-do-i-list-all-files-of-a-directory\n"
      ]
    }
  ]
}