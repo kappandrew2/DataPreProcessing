{
  "nbformat": 4,
  "nbformat_minor": 0,
  "metadata": {
    "colab": {
      "name": "MarketResearch.ipynb",
      "provenance": [],
      "collapsed_sections": [],
      "history_visible": true,
      "authorship_tag": "ABX9TyMAaTUXo4n8yveCuRKENjVR",
      "include_colab_link": true
    },
    "kernelspec": {
      "name": "python3",
      "display_name": "Python 3"
    },
    "language_info": {
      "name": "python"
    }
  },
  "cells": [
    {
      "cell_type": "markdown",
      "metadata": {
        "id": "view-in-github",
        "colab_type": "text"
      },
      "source": [
        "<a href=\"https://colab.research.google.com/github/kappandrew2/DataPreProcessing/blob/main/MarketResearch.ipynb\" target=\"_parent\"><img src=\"https://colab.research.google.com/assets/colab-badge.svg\" alt=\"Open In Colab\"/></a>"
      ]
    },
    {
      "cell_type": "markdown",
      "metadata": {
        "id": "1mSu-6RRLTR1"
      },
      "source": [
        "#Model Purpose\n",
        "\n",
        "Utilize historical value and time attributes to predict the next day's gain or loss value\n",
        "\n",
        "!Dataset Notes: The dataset for this data solution must come from the following web sit and contain a large historical sample of data. For example:\n",
        "\n",
        "Begin Date = 12/01/2007 (Be mindful that the last 35 periods (in this case, days) will get chopped off of the bottom of the dataset during data preprocessing)\n",
        "\n",
        "End Date = Today's current value (to be run an hour before market close)\n",
        "\n",
        "Ticker = SPY\n",
        "\n",
        "Train Set = all data except last 60 periods (rows)\n",
        "\n",
        "Prediction Set = all data from -90 periods (days) to current\n",
        "\n",
        "https://www.wsj.com/market-data/quotes/index/SPX/historical-prices\n"
      ]
    },
    {
      "cell_type": "code",
      "metadata": {
        "id": "lx9d2QEa6mXf"
      },
      "source": [
        "import numpy as np\n",
        "import matplotlib.pyplot as plt\n",
        "import pandas as pd\n",
        "import datetime\n",
        "from sklearn.model_selection import train_test_split\n",
        "from datetime import date, datetime, timedelta\n",
        "from pandas._libs.tslibs.timestamps import Timestamp"
      ],
      "execution_count": 437,
      "outputs": []
    },
    {
      "cell_type": "markdown",
      "metadata": {
        "id": "6mLzKv5BGUUZ"
      },
      "source": [
        "#Connect to drive and import data set\n",
        "\n",
        "Using google drive\n",
        "\n",
        "Importing historical prices for ticker \"SPY\""
      ]
    },
    {
      "cell_type": "code",
      "metadata": {
        "colab": {
          "base_uri": "https://localhost:8080/"
        },
        "id": "LAo4DboL6vQh",
        "outputId": "ee59be98-9e23-4b95-904e-40e4abac8d11"
      },
      "source": [
        "#Create CSV from data export\n",
        "#https://www.wsj.com/market-data/quotes/index/SPX/historical-prices\n",
        "\n",
        "from google.colab import drive\n",
        "drive.mount('/content/drive', force_remount=True)\n",
        "\n",
        "dataset = pd.read_csv('/content/drive/MyDrive/Colab Notebooks/HistoricalPricesSPY.csv')\n",
        "\n",
        "print(dataset)"
      ],
      "execution_count": 438,
      "outputs": [
        {
          "output_type": "stream",
          "text": [
            "Mounted at /content/drive\n",
            "          Date     Open    High     Low     Close     Volume\n",
            "0     08/02/21  440.340  440.93  437.21  437.5900   58497300\n",
            "1     07/30/21  437.910  440.06  437.77  438.5100   68951203\n",
            "2     07/29/21  439.815  441.80  439.81  440.6500   47435340\n",
            "3     07/28/21  439.680  440.30  437.31  438.8300   52472359\n",
            "4     07/27/21  439.910  439.94  435.99  439.0100   67397133\n",
            "...        ...      ...     ...     ...       ...        ...\n",
            "1400  01/08/16  195.190  195.85  191.58  191.9230  209817203\n",
            "1401  01/07/16  195.330  197.44  193.59  194.0500  213436094\n",
            "1402  01/06/16  198.340  200.06  197.60  198.8200  152112609\n",
            "1403  01/05/16  201.400  201.90  200.05  201.3600  110845797\n",
            "1404  01/04/16  200.490  201.03  198.59  201.0192  222353500\n",
            "\n",
            "[1405 rows x 6 columns]\n"
          ],
          "name": "stdout"
        }
      ]
    },
    {
      "cell_type": "markdown",
      "metadata": {
        "id": "ZWGjihLGGnuD"
      },
      "source": [
        "#Modifiy dataset Content and Headers\n",
        "\n",
        "Remove contents not required for this exercise\n",
        "\n",
        "Renaming columns to remove leading white space\n",
        "\n",
        "Narrowing the dataset can be done via drop or select, both options are available (comment out the one not in use)"
      ]
    },
    {
      "cell_type": "code",
      "metadata": {
        "id": "4_0Dq0yU7GHg"
      },
      "source": [
        "dataset.rename({' Close': 'Close'}, axis=1, inplace = True)\n",
        "dataset = dataset[['Close', 'Date']]\n",
        "#dataset = dataset.drop([' Open', ' High', ' Low', ' Volume'], axis = 1)"
      ],
      "execution_count": 439,
      "outputs": []
    },
    {
      "cell_type": "markdown",
      "metadata": {
        "id": "V9Wa2WYcG1Og"
      },
      "source": [
        "#Dataset information validation\n",
        "\n",
        "Validate date frame, column contents and data types"
      ]
    },
    {
      "cell_type": "code",
      "metadata": {
        "colab": {
          "base_uri": "https://localhost:8080/"
        },
        "id": "QjAXsP-j7Ysg",
        "outputId": "500efd2a-1b53-4a98-be4d-7a4f231d1def"
      },
      "source": [
        "dataset['Date'] = pd.to_datetime(dataset['Date'])\n",
        "\n",
        "dataset.info()"
      ],
      "execution_count": 440,
      "outputs": [
        {
          "output_type": "stream",
          "text": [
            "<class 'pandas.core.frame.DataFrame'>\n",
            "RangeIndex: 1405 entries, 0 to 1404\n",
            "Data columns (total 2 columns):\n",
            " #   Column  Non-Null Count  Dtype         \n",
            "---  ------  --------------  -----         \n",
            " 0   Close   1405 non-null   float64       \n",
            " 1   Date    1405 non-null   datetime64[ns]\n",
            "dtypes: datetime64[ns](1), float64(1)\n",
            "memory usage: 22.1 KB\n"
          ],
          "name": "stdout"
        }
      ]
    },
    {
      "cell_type": "markdown",
      "metadata": {
        "id": "jQhfTiNaHCIQ"
      },
      "source": [
        "#Change indext to date (for troublshooting)\n",
        "\n",
        "Moving date to the index assists in visually validating processes are working correctly\n",
        "\n",
        "!Note: This should be \"off\" except when troublshooting"
      ]
    },
    {
      "cell_type": "code",
      "metadata": {
        "colab": {
          "base_uri": "https://localhost:8080/"
        },
        "id": "yGn3MhfX4r7n",
        "outputId": "9230aea6-f0ab-4b36-9b36-4c10d0c37148"
      },
      "source": [
        "#dataset['Date_Index'] = dataset['Date']\n",
        "#dataset.set_index('Date_Index', inplace=True)\n",
        "\n",
        "dataset.info()"
      ],
      "execution_count": 441,
      "outputs": [
        {
          "output_type": "stream",
          "text": [
            "<class 'pandas.core.frame.DataFrame'>\n",
            "RangeIndex: 1405 entries, 0 to 1404\n",
            "Data columns (total 2 columns):\n",
            " #   Column  Non-Null Count  Dtype         \n",
            "---  ------  --------------  -----         \n",
            " 0   Close   1405 non-null   float64       \n",
            " 1   Date    1405 non-null   datetime64[ns]\n",
            "dtypes: datetime64[ns](1), float64(1)\n",
            "memory usage: 22.1 KB\n"
          ],
          "name": "stdout"
        }
      ]
    },
    {
      "cell_type": "markdown",
      "metadata": {
        "id": "5NF3DoJCHWFM"
      },
      "source": [
        "#Create time attributes\n",
        "\n",
        "Time attributes will change date from a continous variable into discrete (a numeric categorical value)"
      ]
    },
    {
      "cell_type": "code",
      "metadata": {
        "colab": {
          "base_uri": "https://localhost:8080/"
        },
        "id": "BTr8otxU7gU5",
        "outputId": "dcd4f416-92e6-4f7e-c12e-a4eec80131ef"
      },
      "source": [
        "dataset['DOW'] = dataset['Date'].dt.dayofweek\n",
        "dataset['DOY'] = dataset['Date'].dt.dayofyear\n",
        "dataset['Week'] = dataset['Date'].dt.week\n",
        "dataset['Month'] = dataset['Date'].dt.month\n",
        "dataset['Quarter'] = dataset['Date'].dt.quarter\n",
        "\n",
        "dataset.dtypes"
      ],
      "execution_count": 442,
      "outputs": [
        {
          "output_type": "stream",
          "text": [
            "/usr/local/lib/python3.7/dist-packages/ipykernel_launcher.py:3: FutureWarning: Series.dt.weekofyear and Series.dt.week have been deprecated.  Please use Series.dt.isocalendar().week instead.\n",
            "  This is separate from the ipykernel package so we can avoid doing imports until\n"
          ],
          "name": "stderr"
        },
        {
          "output_type": "execute_result",
          "data": {
            "text/plain": [
              "Close             float64\n",
              "Date       datetime64[ns]\n",
              "DOW                 int64\n",
              "DOY                 int64\n",
              "Week                int64\n",
              "Month               int64\n",
              "Quarter             int64\n",
              "dtype: object"
            ]
          },
          "metadata": {
            "tags": []
          },
          "execution_count": 442
        }
      ]
    },
    {
      "cell_type": "markdown",
      "metadata": {
        "id": "GXUsxdw9H7KW"
      },
      "source": [
        "#Create skip-day gain loss values (and dependant variable #1)\n",
        "\n",
        "!Note: gain-loss-0 will ultimately end up being the dependant variable but also an independant variable (we will create a new column later and shift it down a row)\n",
        "\n",
        "1) Calculate the first day's gain loss by subtracting day -1 from day 0\n",
        "\n",
        "2) Calculate the second day's gain loss by subtracting day -2 from day 0\n",
        "\n",
        "3) Calculate the third day's gain loss by subtracting day -n from day 0\n",
        "\n",
        "!Note: This should be turned into a loop using i=n where n = the rows to be processed (now many previous rows)\n",
        "\n",
        "\n"
      ]
    },
    {
      "cell_type": "code",
      "metadata": {
        "colab": {
          "base_uri": "https://localhost:8080/"
        },
        "id": "ko_KBr4W7rZW",
        "outputId": "731a163c-3f23-48b1-e93c-703c740e31cf"
      },
      "source": [
        "dataset['gain_loss-0'] = dataset['Close'].diff(-1)\n",
        "dataset['gain_loss-1'] = dataset['Close'].diff(-2)\n",
        "#dataset['gain_loss-1'] = dataset['gain_loss-1'].shift(periods=-1, fill_value=0) #Removed these to experiment \n",
        "#with switching around the dependant variable rather than the independant variable\n",
        "dataset['gain_loss-2'] = dataset['Close'].diff(-3) \n",
        "#dataset['gain_loss-2'] = dataset['gain_loss-2'].shift(periods=-1, fill_value=0)\n",
        "dataset['gain_loss-3'] = dataset['Close'].diff(-4) \n",
        "#dataset['gain_loss-3'] = dataset['gain_loss-3'].shift(periods=-1, fill_value=0)\n",
        "dataset['gain_loss-4'] = dataset['Close'].diff(-5) \n",
        "#dataset['gain_loss-4'] = dataset['gain_loss-4'].shift(periods=-1, fill_value=0)\n",
        "\n",
        "print(dataset)\n",
        "#dataset.dtypes"
      ],
      "execution_count": 443,
      "outputs": [
        {
          "output_type": "stream",
          "text": [
            "         Close       Date  DOW  ...  gain_loss-2  gain_loss-3  gain_loss-4\n",
            "0     437.5900 2021-08-02    0  ...      -1.2400      -1.4200        -3.43\n",
            "1     438.5100 2021-07-30    4  ...      -0.5000      -2.5100        -1.43\n",
            "2     440.6500 2021-07-29    3  ...      -0.3700       0.7100         5.19\n",
            "3     438.8300 2021-07-28    2  ...      -1.1100       3.3700         4.28\n",
            "4     439.0100 2021-07-27    1  ...       3.5500       4.4600         7.95\n",
            "...        ...        ...  ...  ...          ...          ...          ...\n",
            "1400  191.9230 2016-01-08    4  ...      -9.4370      -9.0962          NaN\n",
            "1401  194.0500 2016-01-07    3  ...      -6.9692          NaN          NaN\n",
            "1402  198.8200 2016-01-06    2  ...          NaN          NaN          NaN\n",
            "1403  201.3600 2016-01-05    1  ...          NaN          NaN          NaN\n",
            "1404  201.0192 2016-01-04    0  ...          NaN          NaN          NaN\n",
            "\n",
            "[1405 rows x 12 columns]\n"
          ],
          "name": "stdout"
        }
      ]
    },
    {
      "cell_type": "markdown",
      "metadata": {
        "id": "tJLMlPczM8bw"
      },
      "source": [
        "#Create binary version of skip-day gain loss values (and dependant variable #2)\n",
        "\n",
        "!Note: gain-loss-0b will ultimately end up being the dependant variable but also an independant variable (we will create a new column later and shift it down a row)\n",
        "\n",
        "This process changes all gain loss continuous variables into a binary-descrete (dichotomous) variables\n",
        "\n",
        "!Note - This process should be converted into the previous process when that process is converted into a loop"
      ]
    },
    {
      "cell_type": "code",
      "metadata": {
        "colab": {
          "base_uri": "https://localhost:8080/"
        },
        "id": "8rnb0z4P8D79",
        "outputId": "9417572a-228d-4c05-b7cf-7705a384f5f5"
      },
      "source": [
        "dataset['gain_loss-0b'] = np.where(dataset['gain_loss-0'] > 0, 1, 0)\n",
        "dataset['gain_loss-1b'] = np.where(dataset['gain_loss-1'] > 0, 1, 0)\n",
        "dataset['gain_loss-2b'] = np.where(dataset['gain_loss-2'] > 0, 1, 0)\n",
        "dataset['gain_loss-3b'] = np.where(dataset['gain_loss-3'] > 0, 1, 0)\n",
        "dataset['gain_loss-4b'] = np.where(dataset['gain_loss-4'] > 0, 1, 0)\n",
        "\n",
        "dataset.dtypes"
      ],
      "execution_count": 444,
      "outputs": [
        {
          "output_type": "execute_result",
          "data": {
            "text/plain": [
              "Close                  float64\n",
              "Date            datetime64[ns]\n",
              "DOW                      int64\n",
              "DOY                      int64\n",
              "Week                     int64\n",
              "Month                    int64\n",
              "Quarter                  int64\n",
              "gain_loss-0            float64\n",
              "gain_loss-1            float64\n",
              "gain_loss-2            float64\n",
              "gain_loss-3            float64\n",
              "gain_loss-4            float64\n",
              "gain_loss-0b             int64\n",
              "gain_loss-1b             int64\n",
              "gain_loss-2b             int64\n",
              "gain_loss-3b             int64\n",
              "gain_loss-4b             int64\n",
              "dtype: object"
            ]
          },
          "metadata": {
            "tags": []
          },
          "execution_count": 444
        }
      ]
    },
    {
      "cell_type": "markdown",
      "metadata": {
        "id": "qySpImzmN0ki"
      },
      "source": [
        "#Aggregate the binary skip-day gain loss values\n",
        "\n",
        "This creates a true categorical value from the binary descrete values.\n",
        "\n",
        "The theory is that, having binary values for each period (sparce matrix) and an aggregate (categorical), the values will work together to increase the value of this data\n",
        "\n",
        "!Note = This process should be indluded in the loop mentioned in notes from the above process (future modifications to the data pre-processing procedures)"
      ]
    },
    {
      "cell_type": "code",
      "metadata": {
        "colab": {
          "base_uri": "https://localhost:8080/",
          "height": 626
        },
        "id": "SzyHZx9vFIKb",
        "outputId": "d3bbf082-dddb-4189-8121-1c7e329843ec"
      },
      "source": [
        "dataset['gain_loss-total_b'] = dataset['gain_loss-0b'] + dataset['gain_loss-1b'] + dataset['gain_loss-2b'] + dataset['gain_loss-3b'] + dataset['gain_loss-4b']\n",
        "\n",
        "dataset.head(-1)"
      ],
      "execution_count": 445,
      "outputs": [
        {
          "output_type": "execute_result",
          "data": {
            "text/html": [
              "<div>\n",
              "<style scoped>\n",
              "    .dataframe tbody tr th:only-of-type {\n",
              "        vertical-align: middle;\n",
              "    }\n",
              "\n",
              "    .dataframe tbody tr th {\n",
              "        vertical-align: top;\n",
              "    }\n",
              "\n",
              "    .dataframe thead th {\n",
              "        text-align: right;\n",
              "    }\n",
              "</style>\n",
              "<table border=\"1\" class=\"dataframe\">\n",
              "  <thead>\n",
              "    <tr style=\"text-align: right;\">\n",
              "      <th></th>\n",
              "      <th>Close</th>\n",
              "      <th>Date</th>\n",
              "      <th>DOW</th>\n",
              "      <th>DOY</th>\n",
              "      <th>Week</th>\n",
              "      <th>Month</th>\n",
              "      <th>Quarter</th>\n",
              "      <th>gain_loss-0</th>\n",
              "      <th>gain_loss-1</th>\n",
              "      <th>gain_loss-2</th>\n",
              "      <th>gain_loss-3</th>\n",
              "      <th>gain_loss-4</th>\n",
              "      <th>gain_loss-0b</th>\n",
              "      <th>gain_loss-1b</th>\n",
              "      <th>gain_loss-2b</th>\n",
              "      <th>gain_loss-3b</th>\n",
              "      <th>gain_loss-4b</th>\n",
              "      <th>gain_loss-total_b</th>\n",
              "    </tr>\n",
              "  </thead>\n",
              "  <tbody>\n",
              "    <tr>\n",
              "      <th>0</th>\n",
              "      <td>437.590</td>\n",
              "      <td>2021-08-02</td>\n",
              "      <td>0</td>\n",
              "      <td>214</td>\n",
              "      <td>31</td>\n",
              "      <td>8</td>\n",
              "      <td>3</td>\n",
              "      <td>-0.9200</td>\n",
              "      <td>-3.0600</td>\n",
              "      <td>-1.2400</td>\n",
              "      <td>-1.4200</td>\n",
              "      <td>-3.4300</td>\n",
              "      <td>0</td>\n",
              "      <td>0</td>\n",
              "      <td>0</td>\n",
              "      <td>0</td>\n",
              "      <td>0</td>\n",
              "      <td>0</td>\n",
              "    </tr>\n",
              "    <tr>\n",
              "      <th>1</th>\n",
              "      <td>438.510</td>\n",
              "      <td>2021-07-30</td>\n",
              "      <td>4</td>\n",
              "      <td>211</td>\n",
              "      <td>30</td>\n",
              "      <td>7</td>\n",
              "      <td>3</td>\n",
              "      <td>-2.1400</td>\n",
              "      <td>-0.3200</td>\n",
              "      <td>-0.5000</td>\n",
              "      <td>-2.5100</td>\n",
              "      <td>-1.4300</td>\n",
              "      <td>0</td>\n",
              "      <td>0</td>\n",
              "      <td>0</td>\n",
              "      <td>0</td>\n",
              "      <td>0</td>\n",
              "      <td>0</td>\n",
              "    </tr>\n",
              "    <tr>\n",
              "      <th>2</th>\n",
              "      <td>440.650</td>\n",
              "      <td>2021-07-29</td>\n",
              "      <td>3</td>\n",
              "      <td>210</td>\n",
              "      <td>30</td>\n",
              "      <td>7</td>\n",
              "      <td>3</td>\n",
              "      <td>1.8200</td>\n",
              "      <td>1.6400</td>\n",
              "      <td>-0.3700</td>\n",
              "      <td>0.7100</td>\n",
              "      <td>5.1900</td>\n",
              "      <td>1</td>\n",
              "      <td>1</td>\n",
              "      <td>0</td>\n",
              "      <td>1</td>\n",
              "      <td>1</td>\n",
              "      <td>4</td>\n",
              "    </tr>\n",
              "    <tr>\n",
              "      <th>3</th>\n",
              "      <td>438.830</td>\n",
              "      <td>2021-07-28</td>\n",
              "      <td>2</td>\n",
              "      <td>209</td>\n",
              "      <td>30</td>\n",
              "      <td>7</td>\n",
              "      <td>3</td>\n",
              "      <td>-0.1800</td>\n",
              "      <td>-2.1900</td>\n",
              "      <td>-1.1100</td>\n",
              "      <td>3.3700</td>\n",
              "      <td>4.2800</td>\n",
              "      <td>0</td>\n",
              "      <td>0</td>\n",
              "      <td>0</td>\n",
              "      <td>1</td>\n",
              "      <td>1</td>\n",
              "      <td>2</td>\n",
              "    </tr>\n",
              "    <tr>\n",
              "      <th>4</th>\n",
              "      <td>439.010</td>\n",
              "      <td>2021-07-27</td>\n",
              "      <td>1</td>\n",
              "      <td>208</td>\n",
              "      <td>30</td>\n",
              "      <td>7</td>\n",
              "      <td>3</td>\n",
              "      <td>-2.0100</td>\n",
              "      <td>-0.9300</td>\n",
              "      <td>3.5500</td>\n",
              "      <td>4.4600</td>\n",
              "      <td>7.9500</td>\n",
              "      <td>0</td>\n",
              "      <td>0</td>\n",
              "      <td>1</td>\n",
              "      <td>1</td>\n",
              "      <td>1</td>\n",
              "      <td>3</td>\n",
              "    </tr>\n",
              "    <tr>\n",
              "      <th>...</th>\n",
              "      <td>...</td>\n",
              "      <td>...</td>\n",
              "      <td>...</td>\n",
              "      <td>...</td>\n",
              "      <td>...</td>\n",
              "      <td>...</td>\n",
              "      <td>...</td>\n",
              "      <td>...</td>\n",
              "      <td>...</td>\n",
              "      <td>...</td>\n",
              "      <td>...</td>\n",
              "      <td>...</td>\n",
              "      <td>...</td>\n",
              "      <td>...</td>\n",
              "      <td>...</td>\n",
              "      <td>...</td>\n",
              "      <td>...</td>\n",
              "      <td>...</td>\n",
              "    </tr>\n",
              "    <tr>\n",
              "      <th>1399</th>\n",
              "      <td>192.110</td>\n",
              "      <td>2016-01-11</td>\n",
              "      <td>0</td>\n",
              "      <td>11</td>\n",
              "      <td>2</td>\n",
              "      <td>1</td>\n",
              "      <td>1</td>\n",
              "      <td>0.1870</td>\n",
              "      <td>-1.9400</td>\n",
              "      <td>-6.7100</td>\n",
              "      <td>-9.2500</td>\n",
              "      <td>-8.9092</td>\n",
              "      <td>1</td>\n",
              "      <td>0</td>\n",
              "      <td>0</td>\n",
              "      <td>0</td>\n",
              "      <td>0</td>\n",
              "      <td>1</td>\n",
              "    </tr>\n",
              "    <tr>\n",
              "      <th>1400</th>\n",
              "      <td>191.923</td>\n",
              "      <td>2016-01-08</td>\n",
              "      <td>4</td>\n",
              "      <td>8</td>\n",
              "      <td>1</td>\n",
              "      <td>1</td>\n",
              "      <td>1</td>\n",
              "      <td>-2.1270</td>\n",
              "      <td>-6.8970</td>\n",
              "      <td>-9.4370</td>\n",
              "      <td>-9.0962</td>\n",
              "      <td>NaN</td>\n",
              "      <td>0</td>\n",
              "      <td>0</td>\n",
              "      <td>0</td>\n",
              "      <td>0</td>\n",
              "      <td>0</td>\n",
              "      <td>0</td>\n",
              "    </tr>\n",
              "    <tr>\n",
              "      <th>1401</th>\n",
              "      <td>194.050</td>\n",
              "      <td>2016-01-07</td>\n",
              "      <td>3</td>\n",
              "      <td>7</td>\n",
              "      <td>1</td>\n",
              "      <td>1</td>\n",
              "      <td>1</td>\n",
              "      <td>-4.7700</td>\n",
              "      <td>-7.3100</td>\n",
              "      <td>-6.9692</td>\n",
              "      <td>NaN</td>\n",
              "      <td>NaN</td>\n",
              "      <td>0</td>\n",
              "      <td>0</td>\n",
              "      <td>0</td>\n",
              "      <td>0</td>\n",
              "      <td>0</td>\n",
              "      <td>0</td>\n",
              "    </tr>\n",
              "    <tr>\n",
              "      <th>1402</th>\n",
              "      <td>198.820</td>\n",
              "      <td>2016-01-06</td>\n",
              "      <td>2</td>\n",
              "      <td>6</td>\n",
              "      <td>1</td>\n",
              "      <td>1</td>\n",
              "      <td>1</td>\n",
              "      <td>-2.5400</td>\n",
              "      <td>-2.1992</td>\n",
              "      <td>NaN</td>\n",
              "      <td>NaN</td>\n",
              "      <td>NaN</td>\n",
              "      <td>0</td>\n",
              "      <td>0</td>\n",
              "      <td>0</td>\n",
              "      <td>0</td>\n",
              "      <td>0</td>\n",
              "      <td>0</td>\n",
              "    </tr>\n",
              "    <tr>\n",
              "      <th>1403</th>\n",
              "      <td>201.360</td>\n",
              "      <td>2016-01-05</td>\n",
              "      <td>1</td>\n",
              "      <td>5</td>\n",
              "      <td>1</td>\n",
              "      <td>1</td>\n",
              "      <td>1</td>\n",
              "      <td>0.3408</td>\n",
              "      <td>NaN</td>\n",
              "      <td>NaN</td>\n",
              "      <td>NaN</td>\n",
              "      <td>NaN</td>\n",
              "      <td>1</td>\n",
              "      <td>0</td>\n",
              "      <td>0</td>\n",
              "      <td>0</td>\n",
              "      <td>0</td>\n",
              "      <td>1</td>\n",
              "    </tr>\n",
              "  </tbody>\n",
              "</table>\n",
              "<p>1404 rows × 18 columns</p>\n",
              "</div>"
            ],
            "text/plain": [
              "        Close       Date  DOW  ...  gain_loss-3b  gain_loss-4b  gain_loss-total_b\n",
              "0     437.590 2021-08-02    0  ...             0             0                  0\n",
              "1     438.510 2021-07-30    4  ...             0             0                  0\n",
              "2     440.650 2021-07-29    3  ...             1             1                  4\n",
              "3     438.830 2021-07-28    2  ...             1             1                  2\n",
              "4     439.010 2021-07-27    1  ...             1             1                  3\n",
              "...       ...        ...  ...  ...           ...           ...                ...\n",
              "1399  192.110 2016-01-11    0  ...             0             0                  1\n",
              "1400  191.923 2016-01-08    4  ...             0             0                  0\n",
              "1401  194.050 2016-01-07    3  ...             0             0                  0\n",
              "1402  198.820 2016-01-06    2  ...             0             0                  0\n",
              "1403  201.360 2016-01-05    1  ...             0             0                  1\n",
              "\n",
              "[1404 rows x 18 columns]"
            ]
          },
          "metadata": {
            "tags": []
          },
          "execution_count": 445
        }
      ]
    },
    {
      "cell_type": "markdown",
      "metadata": {
        "id": "2LMh_Hj8PWIq"
      },
      "source": [
        "#Create daily gain loss and denormalize values\n",
        "\n",
        "1) Calculate the first day's gain loss by subtracting day -1 from day 0\n",
        "\n",
        "2) Calculate the second day's gain loss by subtracting day -2 from day -1\n",
        "\n",
        "3) Calculate the third day's gain loss by subtracting day -n from day -n+1\n",
        "\n",
        "This process creates a new column and removes the top rows in accordance with the desired \"lookback\" period - shift over 1 and lift by 1, shift over 2 and lift by 2, shift over n and lift by n\n",
        "\n",
        "!Note: This should be turned into a loop using i=n where n = the rows to be processed (now many previous rows)\n"
      ]
    },
    {
      "cell_type": "code",
      "metadata": {
        "colab": {
          "base_uri": "https://localhost:8080/",
          "height": 326
        },
        "id": "Swk_VFSW9P1P",
        "outputId": "64c8b06a-cdfc-436c-a8f8-984d6a47767e"
      },
      "source": [
        "dataset['prior_day-0'] = dataset['gain_loss-0']\n",
        "#dataset['prior_day-1'] = dataset['prior_day-1'].shift(periods=-1, fill_value=0)#Removed this to experiment \n",
        "#with switching around the dependant variable rather than the independant variable\n",
        "dataset['prior_day-1'] = dataset['gain_loss-0']\n",
        "dataset['prior_day-1'] = dataset['prior_day-1'].shift(periods=-1, fill_value=0)\n",
        "dataset['prior_day-2'] = dataset['gain_loss-0']\n",
        "dataset['prior_day-2'] = dataset['prior_day-2'].shift(periods=-2, fill_value=0)\n",
        "dataset['prior_day-3'] = dataset['gain_loss-0']\n",
        "dataset['prior_day-3'] = dataset['prior_day-3'].shift(periods=-3, fill_value=0)\n",
        "dataset['prior_day-4'] = dataset['gain_loss-0']\n",
        "dataset['prior_day-4'] = dataset['prior_day-4'].shift(periods=-4, fill_value=0)\n",
        "dataset.head()"
      ],
      "execution_count": 446,
      "outputs": [
        {
          "output_type": "execute_result",
          "data": {
            "text/html": [
              "<div>\n",
              "<style scoped>\n",
              "    .dataframe tbody tr th:only-of-type {\n",
              "        vertical-align: middle;\n",
              "    }\n",
              "\n",
              "    .dataframe tbody tr th {\n",
              "        vertical-align: top;\n",
              "    }\n",
              "\n",
              "    .dataframe thead th {\n",
              "        text-align: right;\n",
              "    }\n",
              "</style>\n",
              "<table border=\"1\" class=\"dataframe\">\n",
              "  <thead>\n",
              "    <tr style=\"text-align: right;\">\n",
              "      <th></th>\n",
              "      <th>Close</th>\n",
              "      <th>Date</th>\n",
              "      <th>DOW</th>\n",
              "      <th>DOY</th>\n",
              "      <th>Week</th>\n",
              "      <th>Month</th>\n",
              "      <th>Quarter</th>\n",
              "      <th>gain_loss-0</th>\n",
              "      <th>gain_loss-1</th>\n",
              "      <th>gain_loss-2</th>\n",
              "      <th>gain_loss-3</th>\n",
              "      <th>gain_loss-4</th>\n",
              "      <th>gain_loss-0b</th>\n",
              "      <th>gain_loss-1b</th>\n",
              "      <th>gain_loss-2b</th>\n",
              "      <th>gain_loss-3b</th>\n",
              "      <th>gain_loss-4b</th>\n",
              "      <th>gain_loss-total_b</th>\n",
              "      <th>prior_day-0</th>\n",
              "      <th>prior_day-1</th>\n",
              "      <th>prior_day-2</th>\n",
              "      <th>prior_day-3</th>\n",
              "      <th>prior_day-4</th>\n",
              "    </tr>\n",
              "  </thead>\n",
              "  <tbody>\n",
              "    <tr>\n",
              "      <th>0</th>\n",
              "      <td>437.59</td>\n",
              "      <td>2021-08-02</td>\n",
              "      <td>0</td>\n",
              "      <td>214</td>\n",
              "      <td>31</td>\n",
              "      <td>8</td>\n",
              "      <td>3</td>\n",
              "      <td>-0.92</td>\n",
              "      <td>-3.06</td>\n",
              "      <td>-1.24</td>\n",
              "      <td>-1.42</td>\n",
              "      <td>-3.43</td>\n",
              "      <td>0</td>\n",
              "      <td>0</td>\n",
              "      <td>0</td>\n",
              "      <td>0</td>\n",
              "      <td>0</td>\n",
              "      <td>0</td>\n",
              "      <td>-0.92</td>\n",
              "      <td>-2.14</td>\n",
              "      <td>1.82</td>\n",
              "      <td>-0.18</td>\n",
              "      <td>-2.01</td>\n",
              "    </tr>\n",
              "    <tr>\n",
              "      <th>1</th>\n",
              "      <td>438.51</td>\n",
              "      <td>2021-07-30</td>\n",
              "      <td>4</td>\n",
              "      <td>211</td>\n",
              "      <td>30</td>\n",
              "      <td>7</td>\n",
              "      <td>3</td>\n",
              "      <td>-2.14</td>\n",
              "      <td>-0.32</td>\n",
              "      <td>-0.50</td>\n",
              "      <td>-2.51</td>\n",
              "      <td>-1.43</td>\n",
              "      <td>0</td>\n",
              "      <td>0</td>\n",
              "      <td>0</td>\n",
              "      <td>0</td>\n",
              "      <td>0</td>\n",
              "      <td>0</td>\n",
              "      <td>-2.14</td>\n",
              "      <td>1.82</td>\n",
              "      <td>-0.18</td>\n",
              "      <td>-2.01</td>\n",
              "      <td>1.08</td>\n",
              "    </tr>\n",
              "    <tr>\n",
              "      <th>2</th>\n",
              "      <td>440.65</td>\n",
              "      <td>2021-07-29</td>\n",
              "      <td>3</td>\n",
              "      <td>210</td>\n",
              "      <td>30</td>\n",
              "      <td>7</td>\n",
              "      <td>3</td>\n",
              "      <td>1.82</td>\n",
              "      <td>1.64</td>\n",
              "      <td>-0.37</td>\n",
              "      <td>0.71</td>\n",
              "      <td>5.19</td>\n",
              "      <td>1</td>\n",
              "      <td>1</td>\n",
              "      <td>0</td>\n",
              "      <td>1</td>\n",
              "      <td>1</td>\n",
              "      <td>4</td>\n",
              "      <td>1.82</td>\n",
              "      <td>-0.18</td>\n",
              "      <td>-2.01</td>\n",
              "      <td>1.08</td>\n",
              "      <td>4.48</td>\n",
              "    </tr>\n",
              "    <tr>\n",
              "      <th>3</th>\n",
              "      <td>438.83</td>\n",
              "      <td>2021-07-28</td>\n",
              "      <td>2</td>\n",
              "      <td>209</td>\n",
              "      <td>30</td>\n",
              "      <td>7</td>\n",
              "      <td>3</td>\n",
              "      <td>-0.18</td>\n",
              "      <td>-2.19</td>\n",
              "      <td>-1.11</td>\n",
              "      <td>3.37</td>\n",
              "      <td>4.28</td>\n",
              "      <td>0</td>\n",
              "      <td>0</td>\n",
              "      <td>0</td>\n",
              "      <td>1</td>\n",
              "      <td>1</td>\n",
              "      <td>2</td>\n",
              "      <td>-0.18</td>\n",
              "      <td>-2.01</td>\n",
              "      <td>1.08</td>\n",
              "      <td>4.48</td>\n",
              "      <td>0.91</td>\n",
              "    </tr>\n",
              "    <tr>\n",
              "      <th>4</th>\n",
              "      <td>439.01</td>\n",
              "      <td>2021-07-27</td>\n",
              "      <td>1</td>\n",
              "      <td>208</td>\n",
              "      <td>30</td>\n",
              "      <td>7</td>\n",
              "      <td>3</td>\n",
              "      <td>-2.01</td>\n",
              "      <td>-0.93</td>\n",
              "      <td>3.55</td>\n",
              "      <td>4.46</td>\n",
              "      <td>7.95</td>\n",
              "      <td>0</td>\n",
              "      <td>0</td>\n",
              "      <td>1</td>\n",
              "      <td>1</td>\n",
              "      <td>1</td>\n",
              "      <td>3</td>\n",
              "      <td>-2.01</td>\n",
              "      <td>1.08</td>\n",
              "      <td>4.48</td>\n",
              "      <td>0.91</td>\n",
              "      <td>3.49</td>\n",
              "    </tr>\n",
              "  </tbody>\n",
              "</table>\n",
              "</div>"
            ],
            "text/plain": [
              "    Close       Date  DOW  ...  prior_day-2  prior_day-3  prior_day-4\n",
              "0  437.59 2021-08-02    0  ...         1.82        -0.18        -2.01\n",
              "1  438.51 2021-07-30    4  ...        -0.18        -2.01         1.08\n",
              "2  440.65 2021-07-29    3  ...        -2.01         1.08         4.48\n",
              "3  438.83 2021-07-28    2  ...         1.08         4.48         0.91\n",
              "4  439.01 2021-07-27    1  ...         4.48         0.91         3.49\n",
              "\n",
              "[5 rows x 23 columns]"
            ]
          },
          "metadata": {
            "tags": []
          },
          "execution_count": 446
        }
      ]
    },
    {
      "cell_type": "markdown",
      "metadata": {
        "id": "6Pj-PFciR9O7"
      },
      "source": [
        "#Create binary version of daily gain loss values\n",
        "\n",
        "This process changes all gain loss continuous variables into a binary-descrete (dichotomous) variables\n",
        "\n",
        "!Note - This process should be converted into the previous process when that process is converted into a loop"
      ]
    },
    {
      "cell_type": "code",
      "metadata": {
        "colab": {
          "base_uri": "https://localhost:8080/",
          "height": 326
        },
        "id": "HsobZVYEC0-h",
        "outputId": "00a31885-462c-4426-dabc-d25dec4d07fe"
      },
      "source": [
        "dataset['prior_day-0b'] = np.where(dataset['prior_day-0'] > 0, 1, 0)\n",
        "dataset['prior_day-1b'] = np.where(dataset['prior_day-1'] > 0, 1, 0)\n",
        "dataset['prior_day-2b'] = np.where(dataset['prior_day-2'] > 0, 1, 0)\n",
        "dataset['prior_day-3b'] = np.where(dataset['prior_day-3'] > 0, 1, 0)\n",
        "dataset['prior_day-4b'] = np.where(dataset['prior_day-4'] > 0, 1, 0)\n",
        "dataset.head()"
      ],
      "execution_count": 447,
      "outputs": [
        {
          "output_type": "execute_result",
          "data": {
            "text/html": [
              "<div>\n",
              "<style scoped>\n",
              "    .dataframe tbody tr th:only-of-type {\n",
              "        vertical-align: middle;\n",
              "    }\n",
              "\n",
              "    .dataframe tbody tr th {\n",
              "        vertical-align: top;\n",
              "    }\n",
              "\n",
              "    .dataframe thead th {\n",
              "        text-align: right;\n",
              "    }\n",
              "</style>\n",
              "<table border=\"1\" class=\"dataframe\">\n",
              "  <thead>\n",
              "    <tr style=\"text-align: right;\">\n",
              "      <th></th>\n",
              "      <th>Close</th>\n",
              "      <th>Date</th>\n",
              "      <th>DOW</th>\n",
              "      <th>DOY</th>\n",
              "      <th>Week</th>\n",
              "      <th>Month</th>\n",
              "      <th>Quarter</th>\n",
              "      <th>gain_loss-0</th>\n",
              "      <th>gain_loss-1</th>\n",
              "      <th>gain_loss-2</th>\n",
              "      <th>gain_loss-3</th>\n",
              "      <th>gain_loss-4</th>\n",
              "      <th>gain_loss-0b</th>\n",
              "      <th>gain_loss-1b</th>\n",
              "      <th>gain_loss-2b</th>\n",
              "      <th>gain_loss-3b</th>\n",
              "      <th>gain_loss-4b</th>\n",
              "      <th>gain_loss-total_b</th>\n",
              "      <th>prior_day-0</th>\n",
              "      <th>prior_day-1</th>\n",
              "      <th>prior_day-2</th>\n",
              "      <th>prior_day-3</th>\n",
              "      <th>prior_day-4</th>\n",
              "      <th>prior_day-0b</th>\n",
              "      <th>prior_day-1b</th>\n",
              "      <th>prior_day-2b</th>\n",
              "      <th>prior_day-3b</th>\n",
              "      <th>prior_day-4b</th>\n",
              "    </tr>\n",
              "  </thead>\n",
              "  <tbody>\n",
              "    <tr>\n",
              "      <th>0</th>\n",
              "      <td>437.59</td>\n",
              "      <td>2021-08-02</td>\n",
              "      <td>0</td>\n",
              "      <td>214</td>\n",
              "      <td>31</td>\n",
              "      <td>8</td>\n",
              "      <td>3</td>\n",
              "      <td>-0.92</td>\n",
              "      <td>-3.06</td>\n",
              "      <td>-1.24</td>\n",
              "      <td>-1.42</td>\n",
              "      <td>-3.43</td>\n",
              "      <td>0</td>\n",
              "      <td>0</td>\n",
              "      <td>0</td>\n",
              "      <td>0</td>\n",
              "      <td>0</td>\n",
              "      <td>0</td>\n",
              "      <td>-0.92</td>\n",
              "      <td>-2.14</td>\n",
              "      <td>1.82</td>\n",
              "      <td>-0.18</td>\n",
              "      <td>-2.01</td>\n",
              "      <td>0</td>\n",
              "      <td>0</td>\n",
              "      <td>1</td>\n",
              "      <td>0</td>\n",
              "      <td>0</td>\n",
              "    </tr>\n",
              "    <tr>\n",
              "      <th>1</th>\n",
              "      <td>438.51</td>\n",
              "      <td>2021-07-30</td>\n",
              "      <td>4</td>\n",
              "      <td>211</td>\n",
              "      <td>30</td>\n",
              "      <td>7</td>\n",
              "      <td>3</td>\n",
              "      <td>-2.14</td>\n",
              "      <td>-0.32</td>\n",
              "      <td>-0.50</td>\n",
              "      <td>-2.51</td>\n",
              "      <td>-1.43</td>\n",
              "      <td>0</td>\n",
              "      <td>0</td>\n",
              "      <td>0</td>\n",
              "      <td>0</td>\n",
              "      <td>0</td>\n",
              "      <td>0</td>\n",
              "      <td>-2.14</td>\n",
              "      <td>1.82</td>\n",
              "      <td>-0.18</td>\n",
              "      <td>-2.01</td>\n",
              "      <td>1.08</td>\n",
              "      <td>0</td>\n",
              "      <td>1</td>\n",
              "      <td>0</td>\n",
              "      <td>0</td>\n",
              "      <td>1</td>\n",
              "    </tr>\n",
              "    <tr>\n",
              "      <th>2</th>\n",
              "      <td>440.65</td>\n",
              "      <td>2021-07-29</td>\n",
              "      <td>3</td>\n",
              "      <td>210</td>\n",
              "      <td>30</td>\n",
              "      <td>7</td>\n",
              "      <td>3</td>\n",
              "      <td>1.82</td>\n",
              "      <td>1.64</td>\n",
              "      <td>-0.37</td>\n",
              "      <td>0.71</td>\n",
              "      <td>5.19</td>\n",
              "      <td>1</td>\n",
              "      <td>1</td>\n",
              "      <td>0</td>\n",
              "      <td>1</td>\n",
              "      <td>1</td>\n",
              "      <td>4</td>\n",
              "      <td>1.82</td>\n",
              "      <td>-0.18</td>\n",
              "      <td>-2.01</td>\n",
              "      <td>1.08</td>\n",
              "      <td>4.48</td>\n",
              "      <td>1</td>\n",
              "      <td>0</td>\n",
              "      <td>0</td>\n",
              "      <td>1</td>\n",
              "      <td>1</td>\n",
              "    </tr>\n",
              "    <tr>\n",
              "      <th>3</th>\n",
              "      <td>438.83</td>\n",
              "      <td>2021-07-28</td>\n",
              "      <td>2</td>\n",
              "      <td>209</td>\n",
              "      <td>30</td>\n",
              "      <td>7</td>\n",
              "      <td>3</td>\n",
              "      <td>-0.18</td>\n",
              "      <td>-2.19</td>\n",
              "      <td>-1.11</td>\n",
              "      <td>3.37</td>\n",
              "      <td>4.28</td>\n",
              "      <td>0</td>\n",
              "      <td>0</td>\n",
              "      <td>0</td>\n",
              "      <td>1</td>\n",
              "      <td>1</td>\n",
              "      <td>2</td>\n",
              "      <td>-0.18</td>\n",
              "      <td>-2.01</td>\n",
              "      <td>1.08</td>\n",
              "      <td>4.48</td>\n",
              "      <td>0.91</td>\n",
              "      <td>0</td>\n",
              "      <td>0</td>\n",
              "      <td>1</td>\n",
              "      <td>1</td>\n",
              "      <td>1</td>\n",
              "    </tr>\n",
              "    <tr>\n",
              "      <th>4</th>\n",
              "      <td>439.01</td>\n",
              "      <td>2021-07-27</td>\n",
              "      <td>1</td>\n",
              "      <td>208</td>\n",
              "      <td>30</td>\n",
              "      <td>7</td>\n",
              "      <td>3</td>\n",
              "      <td>-2.01</td>\n",
              "      <td>-0.93</td>\n",
              "      <td>3.55</td>\n",
              "      <td>4.46</td>\n",
              "      <td>7.95</td>\n",
              "      <td>0</td>\n",
              "      <td>0</td>\n",
              "      <td>1</td>\n",
              "      <td>1</td>\n",
              "      <td>1</td>\n",
              "      <td>3</td>\n",
              "      <td>-2.01</td>\n",
              "      <td>1.08</td>\n",
              "      <td>4.48</td>\n",
              "      <td>0.91</td>\n",
              "      <td>3.49</td>\n",
              "      <td>0</td>\n",
              "      <td>1</td>\n",
              "      <td>1</td>\n",
              "      <td>1</td>\n",
              "      <td>1</td>\n",
              "    </tr>\n",
              "  </tbody>\n",
              "</table>\n",
              "</div>"
            ],
            "text/plain": [
              "    Close       Date  DOW  ...  prior_day-2b  prior_day-3b  prior_day-4b\n",
              "0  437.59 2021-08-02    0  ...             1             0             0\n",
              "1  438.51 2021-07-30    4  ...             0             0             1\n",
              "2  440.65 2021-07-29    3  ...             0             1             1\n",
              "3  438.83 2021-07-28    2  ...             1             1             1\n",
              "4  439.01 2021-07-27    1  ...             1             1             1\n",
              "\n",
              "[5 rows x 28 columns]"
            ]
          },
          "metadata": {
            "tags": []
          },
          "execution_count": 447
        }
      ]
    },
    {
      "cell_type": "markdown",
      "metadata": {
        "id": "exCULdkeSyFf"
      },
      "source": [
        "#Aggregate the binary daily gain loss values\n",
        "\n",
        "This creates a true categorical value from the binary descrete values.\n",
        "\n",
        "The theory is that, having binary values for each period (sparce matrix) and an aggregate (categorical), the values will work together to increase the value of this data\n",
        "\n",
        "!Note = This process should be indluded in the loop mentioned in notes from the above process (future modifications to the data pre-processing procedures)"
      ]
    },
    {
      "cell_type": "code",
      "metadata": {
        "colab": {
          "base_uri": "https://localhost:8080/",
          "height": 326
        },
        "id": "yTrfNFhlEdjr",
        "outputId": "befaa6c3-95ab-4a56-b3a7-675580653567"
      },
      "source": [
        "dataset['prior_day-total_b'] = dataset['prior_day-0b'] + dataset['prior_day-1b'] + dataset['prior_day-2b'] + dataset['prior_day-3b'] + dataset['prior_day-4b'] \n",
        "dataset.head(5)"
      ],
      "execution_count": 448,
      "outputs": [
        {
          "output_type": "execute_result",
          "data": {
            "text/html": [
              "<div>\n",
              "<style scoped>\n",
              "    .dataframe tbody tr th:only-of-type {\n",
              "        vertical-align: middle;\n",
              "    }\n",
              "\n",
              "    .dataframe tbody tr th {\n",
              "        vertical-align: top;\n",
              "    }\n",
              "\n",
              "    .dataframe thead th {\n",
              "        text-align: right;\n",
              "    }\n",
              "</style>\n",
              "<table border=\"1\" class=\"dataframe\">\n",
              "  <thead>\n",
              "    <tr style=\"text-align: right;\">\n",
              "      <th></th>\n",
              "      <th>Close</th>\n",
              "      <th>Date</th>\n",
              "      <th>DOW</th>\n",
              "      <th>DOY</th>\n",
              "      <th>Week</th>\n",
              "      <th>Month</th>\n",
              "      <th>Quarter</th>\n",
              "      <th>gain_loss-0</th>\n",
              "      <th>gain_loss-1</th>\n",
              "      <th>gain_loss-2</th>\n",
              "      <th>gain_loss-3</th>\n",
              "      <th>gain_loss-4</th>\n",
              "      <th>gain_loss-0b</th>\n",
              "      <th>gain_loss-1b</th>\n",
              "      <th>gain_loss-2b</th>\n",
              "      <th>gain_loss-3b</th>\n",
              "      <th>gain_loss-4b</th>\n",
              "      <th>gain_loss-total_b</th>\n",
              "      <th>prior_day-0</th>\n",
              "      <th>prior_day-1</th>\n",
              "      <th>prior_day-2</th>\n",
              "      <th>prior_day-3</th>\n",
              "      <th>prior_day-4</th>\n",
              "      <th>prior_day-0b</th>\n",
              "      <th>prior_day-1b</th>\n",
              "      <th>prior_day-2b</th>\n",
              "      <th>prior_day-3b</th>\n",
              "      <th>prior_day-4b</th>\n",
              "      <th>prior_day-total_b</th>\n",
              "    </tr>\n",
              "  </thead>\n",
              "  <tbody>\n",
              "    <tr>\n",
              "      <th>0</th>\n",
              "      <td>437.59</td>\n",
              "      <td>2021-08-02</td>\n",
              "      <td>0</td>\n",
              "      <td>214</td>\n",
              "      <td>31</td>\n",
              "      <td>8</td>\n",
              "      <td>3</td>\n",
              "      <td>-0.92</td>\n",
              "      <td>-3.06</td>\n",
              "      <td>-1.24</td>\n",
              "      <td>-1.42</td>\n",
              "      <td>-3.43</td>\n",
              "      <td>0</td>\n",
              "      <td>0</td>\n",
              "      <td>0</td>\n",
              "      <td>0</td>\n",
              "      <td>0</td>\n",
              "      <td>0</td>\n",
              "      <td>-0.92</td>\n",
              "      <td>-2.14</td>\n",
              "      <td>1.82</td>\n",
              "      <td>-0.18</td>\n",
              "      <td>-2.01</td>\n",
              "      <td>0</td>\n",
              "      <td>0</td>\n",
              "      <td>1</td>\n",
              "      <td>0</td>\n",
              "      <td>0</td>\n",
              "      <td>1</td>\n",
              "    </tr>\n",
              "    <tr>\n",
              "      <th>1</th>\n",
              "      <td>438.51</td>\n",
              "      <td>2021-07-30</td>\n",
              "      <td>4</td>\n",
              "      <td>211</td>\n",
              "      <td>30</td>\n",
              "      <td>7</td>\n",
              "      <td>3</td>\n",
              "      <td>-2.14</td>\n",
              "      <td>-0.32</td>\n",
              "      <td>-0.50</td>\n",
              "      <td>-2.51</td>\n",
              "      <td>-1.43</td>\n",
              "      <td>0</td>\n",
              "      <td>0</td>\n",
              "      <td>0</td>\n",
              "      <td>0</td>\n",
              "      <td>0</td>\n",
              "      <td>0</td>\n",
              "      <td>-2.14</td>\n",
              "      <td>1.82</td>\n",
              "      <td>-0.18</td>\n",
              "      <td>-2.01</td>\n",
              "      <td>1.08</td>\n",
              "      <td>0</td>\n",
              "      <td>1</td>\n",
              "      <td>0</td>\n",
              "      <td>0</td>\n",
              "      <td>1</td>\n",
              "      <td>2</td>\n",
              "    </tr>\n",
              "    <tr>\n",
              "      <th>2</th>\n",
              "      <td>440.65</td>\n",
              "      <td>2021-07-29</td>\n",
              "      <td>3</td>\n",
              "      <td>210</td>\n",
              "      <td>30</td>\n",
              "      <td>7</td>\n",
              "      <td>3</td>\n",
              "      <td>1.82</td>\n",
              "      <td>1.64</td>\n",
              "      <td>-0.37</td>\n",
              "      <td>0.71</td>\n",
              "      <td>5.19</td>\n",
              "      <td>1</td>\n",
              "      <td>1</td>\n",
              "      <td>0</td>\n",
              "      <td>1</td>\n",
              "      <td>1</td>\n",
              "      <td>4</td>\n",
              "      <td>1.82</td>\n",
              "      <td>-0.18</td>\n",
              "      <td>-2.01</td>\n",
              "      <td>1.08</td>\n",
              "      <td>4.48</td>\n",
              "      <td>1</td>\n",
              "      <td>0</td>\n",
              "      <td>0</td>\n",
              "      <td>1</td>\n",
              "      <td>1</td>\n",
              "      <td>3</td>\n",
              "    </tr>\n",
              "    <tr>\n",
              "      <th>3</th>\n",
              "      <td>438.83</td>\n",
              "      <td>2021-07-28</td>\n",
              "      <td>2</td>\n",
              "      <td>209</td>\n",
              "      <td>30</td>\n",
              "      <td>7</td>\n",
              "      <td>3</td>\n",
              "      <td>-0.18</td>\n",
              "      <td>-2.19</td>\n",
              "      <td>-1.11</td>\n",
              "      <td>3.37</td>\n",
              "      <td>4.28</td>\n",
              "      <td>0</td>\n",
              "      <td>0</td>\n",
              "      <td>0</td>\n",
              "      <td>1</td>\n",
              "      <td>1</td>\n",
              "      <td>2</td>\n",
              "      <td>-0.18</td>\n",
              "      <td>-2.01</td>\n",
              "      <td>1.08</td>\n",
              "      <td>4.48</td>\n",
              "      <td>0.91</td>\n",
              "      <td>0</td>\n",
              "      <td>0</td>\n",
              "      <td>1</td>\n",
              "      <td>1</td>\n",
              "      <td>1</td>\n",
              "      <td>3</td>\n",
              "    </tr>\n",
              "    <tr>\n",
              "      <th>4</th>\n",
              "      <td>439.01</td>\n",
              "      <td>2021-07-27</td>\n",
              "      <td>1</td>\n",
              "      <td>208</td>\n",
              "      <td>30</td>\n",
              "      <td>7</td>\n",
              "      <td>3</td>\n",
              "      <td>-2.01</td>\n",
              "      <td>-0.93</td>\n",
              "      <td>3.55</td>\n",
              "      <td>4.46</td>\n",
              "      <td>7.95</td>\n",
              "      <td>0</td>\n",
              "      <td>0</td>\n",
              "      <td>1</td>\n",
              "      <td>1</td>\n",
              "      <td>1</td>\n",
              "      <td>3</td>\n",
              "      <td>-2.01</td>\n",
              "      <td>1.08</td>\n",
              "      <td>4.48</td>\n",
              "      <td>0.91</td>\n",
              "      <td>3.49</td>\n",
              "      <td>0</td>\n",
              "      <td>1</td>\n",
              "      <td>1</td>\n",
              "      <td>1</td>\n",
              "      <td>1</td>\n",
              "      <td>4</td>\n",
              "    </tr>\n",
              "  </tbody>\n",
              "</table>\n",
              "</div>"
            ],
            "text/plain": [
              "    Close       Date  DOW  ...  prior_day-3b  prior_day-4b  prior_day-total_b\n",
              "0  437.59 2021-08-02    0  ...             0             0                  1\n",
              "1  438.51 2021-07-30    4  ...             0             1                  2\n",
              "2  440.65 2021-07-29    3  ...             1             1                  3\n",
              "3  438.83 2021-07-28    2  ...             1             1                  3\n",
              "4  439.01 2021-07-27    1  ...             1             1                  4\n",
              "\n",
              "[5 rows x 29 columns]"
            ]
          },
          "metadata": {
            "tags": []
          },
          "execution_count": 448
        }
      ]
    },
    {
      "cell_type": "markdown",
      "metadata": {
        "id": "6zm1v4LebGn_"
      },
      "source": [
        "#Creating Rolling mean attribute values\n",
        "\n",
        "Rolling mean values are based on daily gain loss and represent the trending direction of the prior n mean values (5, 10, 15, n, row mean values)\n",
        "\n",
        "the rolling mean works from the top row down - for exampple the mean of row 1 and 2 would appear on row 2. We need the mean of row 1 and 2 to land on row 1. This requires us to reverse the index of each desired mean column. The process to do this creates pandas value lists\n",
        "\n",
        "!Note: this process can convert into a loop  where n = list of n mean values (as described in the description above)"
      ]
    },
    {
      "cell_type": "code",
      "metadata": {
        "id": "SQhGpsmoGNwh",
        "colab": {
          "base_uri": "https://localhost:8080/"
        },
        "outputId": "d1717293-5cf2-4aa7-9dda-de42b12089f4"
      },
      "source": [
        "#Rolling averages based on prior day gain loss\n",
        "rolling_prior_day = dataset['prior_day-0']\n",
        "\n",
        "rolling_prior_day_5 = rolling_prior_day[::-1].rolling(5).mean()[::-1]\n",
        "rolling_prior_day_10 = rolling_prior_day[::-1].rolling(10).mean()[::-1]\n",
        "rolling_prior_day_15 = rolling_prior_day[::-1].rolling(15).mean()[::-1]\n",
        "rolling_prior_day_20 = rolling_prior_day[::-1].rolling(20).mean()[::-1]\n",
        "rolling_prior_day_25 = rolling_prior_day[::-1].rolling(25).mean()[::-1]\n",
        "rolling_prior_day_30 = rolling_prior_day[::-1].rolling(30).mean()[::-1]\n",
        "\n",
        "print(rolling_prior_day_10)"
      ],
      "execution_count": 449,
      "outputs": [
        {
          "output_type": "stream",
          "text": [
            "0       1.262\n",
            "1       0.717\n",
            "2       0.590\n",
            "3       0.259\n",
            "4       0.342\n",
            "        ...  \n",
            "1400      NaN\n",
            "1401      NaN\n",
            "1402      NaN\n",
            "1403      NaN\n",
            "1404      NaN\n",
            "Name: prior_day-0, Length: 1405, dtype: float64\n"
          ],
          "name": "stdout"
        }
      ]
    },
    {
      "cell_type": "markdown",
      "metadata": {
        "id": "9pdzrEwtnwC7"
      },
      "source": [
        "#Create close variance variable and binary\n",
        "\n",
        "Close variance uses a rolling averages of n days (Close attribute) minus the row's Close value. This indicates when the market is falling below a rolling average. \n",
        "\n",
        "The binary is calculated based on 1 = >0 and 0<0"
      ]
    },
    {
      "cell_type": "code",
      "metadata": {
        "colab": {
          "base_uri": "https://localhost:8080/"
        },
        "id": "6Pl9eWXznvY7",
        "outputId": "f577a17a-3e44-48dd-a8e4-672aecba7218"
      },
      "source": [
        "rolling_close = dataset['Close']\n",
        "#rolling_close_x = (rolling_close[::-1].rolling(x).mean()[::-1]) #left this in for reference\n",
        "rolling_close_3 = rolling_close - (rolling_close[::-1].rolling(3).mean()[::-1])\n",
        "rolling_close_6 = rolling_close - (rolling_close[::-1].rolling(6).mean()[::-1])\n",
        "rolling_close_9 = rolling_close - (rolling_close[::-1].rolling(9).mean()[::-1])\n",
        "rolling_close_12 = rolling_close - (rolling_close[::-1].rolling(12).mean()[::-1])\n",
        "rolling_close_15 = rolling_close - (rolling_close[::-1].rolling(15).mean()[::-1])\n",
        "rolling_close_18 = rolling_close - (rolling_close[::-1].rolling(18).mean()[::-1])\n",
        "rolling_close_21 = rolling_close - (rolling_close[::-1].rolling(21).mean()[::-1])\n",
        "\n",
        "rolling_close_3b = pd.DataFrame({'rolling_close_3b': np.where(rolling_close_3 > 0, 1, 0)})\n",
        "rolling_close_6b = pd.DataFrame({'rolling_close_6b': np.where(rolling_close_6 > 0, 1, 0)})\n",
        "rolling_close_9b = pd.DataFrame({'rolling_close_9b': np.where(rolling_close_9 > 0, 1, 0)})\n",
        "rolling_close_12b = pd.DataFrame({'rolling_close_12b': np.where(rolling_close_12 > 0, 1, 0)})\n",
        "rolling_close_15b = pd.DataFrame({'rolling_close_15b': np.where(rolling_close_15 > 0, 1, 0)})\n",
        "rolling_close_18b = pd.DataFrame({'rolling_close_18b': np.where(rolling_close_18 > 0, 1, 0)})\n",
        "rolling_close_21b = pd.DataFrame({'rolling_close_21b': np.where(rolling_close_21 > 0, 1, 0)})\n",
        "\n",
        "rolling_close_3 = pd.DataFrame({'rolling_close_3': rolling_close_3})\n",
        "rolling_close_6 = pd.DataFrame({'rolling_close_6': rolling_close_6})\n",
        "rolling_close_9 = pd.DataFrame({'rolling_close_9': rolling_close_9})\n",
        "rolling_close_12 = pd.DataFrame({'rolling_close_12': rolling_close_12})\n",
        "rolling_close_15 = pd.DataFrame({'rolling_close_15': rolling_close_15})\n",
        "rolling_close_18 = pd.DataFrame({'rolling_close_18': rolling_close_18})\n",
        "rolling_close_21 = pd.DataFrame({'rolling_close_21': rolling_close_21})\n",
        "\n",
        "print(rolling_close_3)"
      ],
      "execution_count": 450,
      "outputs": [
        {
          "output_type": "stream",
          "text": [
            "      rolling_close_3\n",
            "0           -1.326667\n",
            "1           -0.820000\n",
            "2            1.153333\n",
            "3           -0.790000\n",
            "4           -0.980000\n",
            "...               ...\n",
            "1400        -3.008000\n",
            "1401        -4.026667\n",
            "1402        -1.579733\n",
            "1403              NaN\n",
            "1404              NaN\n",
            "\n",
            "[1405 rows x 1 columns]\n"
          ],
          "name": "stdout"
        }
      ]
    },
    {
      "cell_type": "markdown",
      "metadata": {
        "id": "ngV7eCC6uLu2"
      },
      "source": [
        "#Add Rolling Mean attributes to dataset\n",
        "\n",
        "This is a normal concat funtion"
      ]
    },
    {
      "cell_type": "code",
      "metadata": {
        "colab": {
          "base_uri": "https://localhost:8080/"
        },
        "id": "2MBWu0oDuKPp",
        "outputId": "c7a5529a-b1b0-4d42-a47e-ca72e4008f48"
      },
      "source": [
        "dataset = pd.concat([dataset,\n",
        "                       rolling_close_3, \n",
        "                       rolling_close_6, \n",
        "                       rolling_close_9, \n",
        "                       rolling_close_12, \n",
        "                       rolling_close_15, \n",
        "                       rolling_close_18, \n",
        "                       rolling_close_21, \n",
        "                       rolling_close_3b, \n",
        "                       rolling_close_6b, \n",
        "                       rolling_close_9b,\n",
        "                       rolling_close_12b, \n",
        "                       rolling_close_15b, \n",
        "                       rolling_close_18b, \n",
        "                       rolling_close_21b\n",
        "                       ], axis = 1)\n",
        "\n",
        "print(dataset)"
      ],
      "execution_count": 451,
      "outputs": [
        {
          "output_type": "stream",
          "text": [
            "         Close       Date  ...  rolling_close_18b  rolling_close_21b\n",
            "0     437.5900 2021-08-02  ...                  1                  1\n",
            "1     438.5100 2021-07-30  ...                  1                  1\n",
            "2     440.6500 2021-07-29  ...                  1                  1\n",
            "3     438.8300 2021-07-28  ...                  1                  1\n",
            "4     439.0100 2021-07-27  ...                  1                  1\n",
            "...        ...        ...  ...                ...                ...\n",
            "1400  191.9230 2016-01-08  ...                  0                  0\n",
            "1401  194.0500 2016-01-07  ...                  0                  0\n",
            "1402  198.8200 2016-01-06  ...                  0                  0\n",
            "1403  201.3600 2016-01-05  ...                  0                  0\n",
            "1404  201.0192 2016-01-04  ...                  0                  0\n",
            "\n",
            "[1405 rows x 43 columns]\n"
          ],
          "name": "stdout"
        }
      ]
    },
    {
      "cell_type": "code",
      "metadata": {
        "colab": {
          "base_uri": "https://localhost:8080/",
          "height": 134
        },
        "id": "xja_0Gf_5H9R",
        "outputId": "15b3c9f2-eed0-432a-a85b-c71359d58587"
      },
      "source": [
        "dataset.head(1)\n"
      ],
      "execution_count": 452,
      "outputs": [
        {
          "output_type": "execute_result",
          "data": {
            "text/html": [
              "<div>\n",
              "<style scoped>\n",
              "    .dataframe tbody tr th:only-of-type {\n",
              "        vertical-align: middle;\n",
              "    }\n",
              "\n",
              "    .dataframe tbody tr th {\n",
              "        vertical-align: top;\n",
              "    }\n",
              "\n",
              "    .dataframe thead th {\n",
              "        text-align: right;\n",
              "    }\n",
              "</style>\n",
              "<table border=\"1\" class=\"dataframe\">\n",
              "  <thead>\n",
              "    <tr style=\"text-align: right;\">\n",
              "      <th></th>\n",
              "      <th>Close</th>\n",
              "      <th>Date</th>\n",
              "      <th>DOW</th>\n",
              "      <th>DOY</th>\n",
              "      <th>Week</th>\n",
              "      <th>Month</th>\n",
              "      <th>Quarter</th>\n",
              "      <th>gain_loss-0</th>\n",
              "      <th>gain_loss-1</th>\n",
              "      <th>gain_loss-2</th>\n",
              "      <th>gain_loss-3</th>\n",
              "      <th>gain_loss-4</th>\n",
              "      <th>gain_loss-0b</th>\n",
              "      <th>gain_loss-1b</th>\n",
              "      <th>gain_loss-2b</th>\n",
              "      <th>gain_loss-3b</th>\n",
              "      <th>gain_loss-4b</th>\n",
              "      <th>gain_loss-total_b</th>\n",
              "      <th>prior_day-0</th>\n",
              "      <th>prior_day-1</th>\n",
              "      <th>prior_day-2</th>\n",
              "      <th>prior_day-3</th>\n",
              "      <th>prior_day-4</th>\n",
              "      <th>prior_day-0b</th>\n",
              "      <th>prior_day-1b</th>\n",
              "      <th>prior_day-2b</th>\n",
              "      <th>prior_day-3b</th>\n",
              "      <th>prior_day-4b</th>\n",
              "      <th>prior_day-total_b</th>\n",
              "      <th>rolling_close_3</th>\n",
              "      <th>rolling_close_6</th>\n",
              "      <th>rolling_close_9</th>\n",
              "      <th>rolling_close_12</th>\n",
              "      <th>rolling_close_15</th>\n",
              "      <th>rolling_close_18</th>\n",
              "      <th>rolling_close_21</th>\n",
              "      <th>rolling_close_3b</th>\n",
              "      <th>rolling_close_6b</th>\n",
              "      <th>rolling_close_9b</th>\n",
              "      <th>rolling_close_12b</th>\n",
              "      <th>rolling_close_15b</th>\n",
              "      <th>rolling_close_18b</th>\n",
              "      <th>rolling_close_21b</th>\n",
              "    </tr>\n",
              "  </thead>\n",
              "  <tbody>\n",
              "    <tr>\n",
              "      <th>0</th>\n",
              "      <td>437.59</td>\n",
              "      <td>2021-08-02</td>\n",
              "      <td>0</td>\n",
              "      <td>214</td>\n",
              "      <td>31</td>\n",
              "      <td>8</td>\n",
              "      <td>3</td>\n",
              "      <td>-0.92</td>\n",
              "      <td>-3.06</td>\n",
              "      <td>-1.24</td>\n",
              "      <td>-1.42</td>\n",
              "      <td>-3.43</td>\n",
              "      <td>0</td>\n",
              "      <td>0</td>\n",
              "      <td>0</td>\n",
              "      <td>0</td>\n",
              "      <td>0</td>\n",
              "      <td>0</td>\n",
              "      <td>-0.92</td>\n",
              "      <td>-2.14</td>\n",
              "      <td>1.82</td>\n",
              "      <td>-0.18</td>\n",
              "      <td>-2.01</td>\n",
              "      <td>0</td>\n",
              "      <td>0</td>\n",
              "      <td>1</td>\n",
              "      <td>0</td>\n",
              "      <td>0</td>\n",
              "      <td>1</td>\n",
              "      <td>-1.326667</td>\n",
              "      <td>-1.678333</td>\n",
              "      <td>-0.805556</td>\n",
              "      <td>1.5125</td>\n",
              "      <td>1.622667</td>\n",
              "      <td>1.866111</td>\n",
              "      <td>2.154762</td>\n",
              "      <td>0</td>\n",
              "      <td>0</td>\n",
              "      <td>0</td>\n",
              "      <td>1</td>\n",
              "      <td>1</td>\n",
              "      <td>1</td>\n",
              "      <td>1</td>\n",
              "    </tr>\n",
              "  </tbody>\n",
              "</table>\n",
              "</div>"
            ],
            "text/plain": [
              "    Close       Date  ...  rolling_close_18b  rolling_close_21b\n",
              "0  437.59 2021-08-02  ...                  1                  1\n",
              "\n",
              "[1 rows x 43 columns]"
            ]
          },
          "metadata": {
            "tags": []
          },
          "execution_count": 452
        }
      ]
    },
    {
      "cell_type": "markdown",
      "metadata": {
        "id": "FHexBzYkzqXD"
      },
      "source": [
        "#Create aggregate of rolling close binary\n",
        "\n",
        "This is simply a sum of all rolling close binary values"
      ]
    },
    {
      "cell_type": "code",
      "metadata": {
        "colab": {
          "base_uri": "https://localhost:8080/",
          "height": 626
        },
        "id": "LJtisVGCzqQg",
        "outputId": "97f4d585-6483-4897-948f-0d3128c17c37"
      },
      "source": [
        "rolling_close_total_b =  (dataset['rolling_close_3b'] + \n",
        "                                     dataset['rolling_close_6b'] + \n",
        "                                     dataset['rolling_close_9b'] + \n",
        "                                     dataset['rolling_close_12b'] + \n",
        "                                     dataset['rolling_close_15b'] + \n",
        "                                     dataset['rolling_close_18b'] + \n",
        "                                     dataset['rolling_close_21b']\n",
        "                                     )\n",
        "dataset['rolling_close_total_b'] = rolling_close_total_b\n",
        "\n",
        "dataset.head(-1)\n",
        "\n"
      ],
      "execution_count": 453,
      "outputs": [
        {
          "output_type": "execute_result",
          "data": {
            "text/html": [
              "<div>\n",
              "<style scoped>\n",
              "    .dataframe tbody tr th:only-of-type {\n",
              "        vertical-align: middle;\n",
              "    }\n",
              "\n",
              "    .dataframe tbody tr th {\n",
              "        vertical-align: top;\n",
              "    }\n",
              "\n",
              "    .dataframe thead th {\n",
              "        text-align: right;\n",
              "    }\n",
              "</style>\n",
              "<table border=\"1\" class=\"dataframe\">\n",
              "  <thead>\n",
              "    <tr style=\"text-align: right;\">\n",
              "      <th></th>\n",
              "      <th>Close</th>\n",
              "      <th>Date</th>\n",
              "      <th>DOW</th>\n",
              "      <th>DOY</th>\n",
              "      <th>Week</th>\n",
              "      <th>Month</th>\n",
              "      <th>Quarter</th>\n",
              "      <th>gain_loss-0</th>\n",
              "      <th>gain_loss-1</th>\n",
              "      <th>gain_loss-2</th>\n",
              "      <th>gain_loss-3</th>\n",
              "      <th>gain_loss-4</th>\n",
              "      <th>gain_loss-0b</th>\n",
              "      <th>gain_loss-1b</th>\n",
              "      <th>gain_loss-2b</th>\n",
              "      <th>gain_loss-3b</th>\n",
              "      <th>gain_loss-4b</th>\n",
              "      <th>gain_loss-total_b</th>\n",
              "      <th>prior_day-0</th>\n",
              "      <th>prior_day-1</th>\n",
              "      <th>prior_day-2</th>\n",
              "      <th>prior_day-3</th>\n",
              "      <th>prior_day-4</th>\n",
              "      <th>prior_day-0b</th>\n",
              "      <th>prior_day-1b</th>\n",
              "      <th>prior_day-2b</th>\n",
              "      <th>prior_day-3b</th>\n",
              "      <th>prior_day-4b</th>\n",
              "      <th>prior_day-total_b</th>\n",
              "      <th>rolling_close_3</th>\n",
              "      <th>rolling_close_6</th>\n",
              "      <th>rolling_close_9</th>\n",
              "      <th>rolling_close_12</th>\n",
              "      <th>rolling_close_15</th>\n",
              "      <th>rolling_close_18</th>\n",
              "      <th>rolling_close_21</th>\n",
              "      <th>rolling_close_3b</th>\n",
              "      <th>rolling_close_6b</th>\n",
              "      <th>rolling_close_9b</th>\n",
              "      <th>rolling_close_12b</th>\n",
              "      <th>rolling_close_15b</th>\n",
              "      <th>rolling_close_18b</th>\n",
              "      <th>rolling_close_21b</th>\n",
              "      <th>rolling_close_total_b</th>\n",
              "    </tr>\n",
              "  </thead>\n",
              "  <tbody>\n",
              "    <tr>\n",
              "      <th>0</th>\n",
              "      <td>437.590</td>\n",
              "      <td>2021-08-02</td>\n",
              "      <td>0</td>\n",
              "      <td>214</td>\n",
              "      <td>31</td>\n",
              "      <td>8</td>\n",
              "      <td>3</td>\n",
              "      <td>-0.9200</td>\n",
              "      <td>-3.0600</td>\n",
              "      <td>-1.2400</td>\n",
              "      <td>-1.4200</td>\n",
              "      <td>-3.4300</td>\n",
              "      <td>0</td>\n",
              "      <td>0</td>\n",
              "      <td>0</td>\n",
              "      <td>0</td>\n",
              "      <td>0</td>\n",
              "      <td>0</td>\n",
              "      <td>-0.9200</td>\n",
              "      <td>-2.1400</td>\n",
              "      <td>1.8200</td>\n",
              "      <td>-0.1800</td>\n",
              "      <td>-2.0100</td>\n",
              "      <td>0</td>\n",
              "      <td>0</td>\n",
              "      <td>1</td>\n",
              "      <td>0</td>\n",
              "      <td>0</td>\n",
              "      <td>1</td>\n",
              "      <td>-1.326667</td>\n",
              "      <td>-1.678333</td>\n",
              "      <td>-0.805556</td>\n",
              "      <td>1.512500</td>\n",
              "      <td>1.622667</td>\n",
              "      <td>1.866111</td>\n",
              "      <td>2.154762</td>\n",
              "      <td>0</td>\n",
              "      <td>0</td>\n",
              "      <td>0</td>\n",
              "      <td>1</td>\n",
              "      <td>1</td>\n",
              "      <td>1</td>\n",
              "      <td>1</td>\n",
              "      <td>4</td>\n",
              "    </tr>\n",
              "    <tr>\n",
              "      <th>1</th>\n",
              "      <td>438.510</td>\n",
              "      <td>2021-07-30</td>\n",
              "      <td>4</td>\n",
              "      <td>211</td>\n",
              "      <td>30</td>\n",
              "      <td>7</td>\n",
              "      <td>3</td>\n",
              "      <td>-2.1400</td>\n",
              "      <td>-0.3200</td>\n",
              "      <td>-0.5000</td>\n",
              "      <td>-2.5100</td>\n",
              "      <td>-1.4300</td>\n",
              "      <td>0</td>\n",
              "      <td>0</td>\n",
              "      <td>0</td>\n",
              "      <td>0</td>\n",
              "      <td>0</td>\n",
              "      <td>0</td>\n",
              "      <td>-2.1400</td>\n",
              "      <td>1.8200</td>\n",
              "      <td>-0.1800</td>\n",
              "      <td>-2.0100</td>\n",
              "      <td>1.0800</td>\n",
              "      <td>0</td>\n",
              "      <td>1</td>\n",
              "      <td>0</td>\n",
              "      <td>0</td>\n",
              "      <td>1</td>\n",
              "      <td>2</td>\n",
              "      <td>-0.820000</td>\n",
              "      <td>-1.150000</td>\n",
              "      <td>0.840000</td>\n",
              "      <td>2.669167</td>\n",
              "      <td>2.576667</td>\n",
              "      <td>2.960000</td>\n",
              "      <td>3.415714</td>\n",
              "      <td>0</td>\n",
              "      <td>0</td>\n",
              "      <td>1</td>\n",
              "      <td>1</td>\n",
              "      <td>1</td>\n",
              "      <td>1</td>\n",
              "      <td>1</td>\n",
              "      <td>5</td>\n",
              "    </tr>\n",
              "    <tr>\n",
              "      <th>2</th>\n",
              "      <td>440.650</td>\n",
              "      <td>2021-07-29</td>\n",
              "      <td>3</td>\n",
              "      <td>210</td>\n",
              "      <td>30</td>\n",
              "      <td>7</td>\n",
              "      <td>3</td>\n",
              "      <td>1.8200</td>\n",
              "      <td>1.6400</td>\n",
              "      <td>-0.3700</td>\n",
              "      <td>0.7100</td>\n",
              "      <td>5.1900</td>\n",
              "      <td>1</td>\n",
              "      <td>1</td>\n",
              "      <td>0</td>\n",
              "      <td>1</td>\n",
              "      <td>1</td>\n",
              "      <td>4</td>\n",
              "      <td>1.8200</td>\n",
              "      <td>-0.1800</td>\n",
              "      <td>-2.0100</td>\n",
              "      <td>1.0800</td>\n",
              "      <td>4.4800</td>\n",
              "      <td>1</td>\n",
              "      <td>0</td>\n",
              "      <td>0</td>\n",
              "      <td>1</td>\n",
              "      <td>1</td>\n",
              "      <td>3</td>\n",
              "      <td>1.153333</td>\n",
              "      <td>1.498333</td>\n",
              "      <td>4.484444</td>\n",
              "      <td>4.998333</td>\n",
              "      <td>4.916000</td>\n",
              "      <td>5.410000</td>\n",
              "      <td>6.053333</td>\n",
              "      <td>1</td>\n",
              "      <td>1</td>\n",
              "      <td>1</td>\n",
              "      <td>1</td>\n",
              "      <td>1</td>\n",
              "      <td>1</td>\n",
              "      <td>1</td>\n",
              "      <td>7</td>\n",
              "    </tr>\n",
              "    <tr>\n",
              "      <th>3</th>\n",
              "      <td>438.830</td>\n",
              "      <td>2021-07-28</td>\n",
              "      <td>2</td>\n",
              "      <td>209</td>\n",
              "      <td>30</td>\n",
              "      <td>7</td>\n",
              "      <td>3</td>\n",
              "      <td>-0.1800</td>\n",
              "      <td>-2.1900</td>\n",
              "      <td>-1.1100</td>\n",
              "      <td>3.3700</td>\n",
              "      <td>4.2800</td>\n",
              "      <td>0</td>\n",
              "      <td>0</td>\n",
              "      <td>0</td>\n",
              "      <td>1</td>\n",
              "      <td>1</td>\n",
              "      <td>2</td>\n",
              "      <td>-0.1800</td>\n",
              "      <td>-2.0100</td>\n",
              "      <td>1.0800</td>\n",
              "      <td>4.4800</td>\n",
              "      <td>0.9100</td>\n",
              "      <td>0</td>\n",
              "      <td>0</td>\n",
              "      <td>1</td>\n",
              "      <td>1</td>\n",
              "      <td>1</td>\n",
              "      <td>3</td>\n",
              "      <td>-0.790000</td>\n",
              "      <td>0.695000</td>\n",
              "      <td>3.698889</td>\n",
              "      <td>3.600000</td>\n",
              "      <td>3.744667</td>\n",
              "      <td>3.975000</td>\n",
              "      <td>4.850000</td>\n",
              "      <td>0</td>\n",
              "      <td>1</td>\n",
              "      <td>1</td>\n",
              "      <td>1</td>\n",
              "      <td>1</td>\n",
              "      <td>1</td>\n",
              "      <td>1</td>\n",
              "      <td>6</td>\n",
              "    </tr>\n",
              "    <tr>\n",
              "      <th>4</th>\n",
              "      <td>439.010</td>\n",
              "      <td>2021-07-27</td>\n",
              "      <td>1</td>\n",
              "      <td>208</td>\n",
              "      <td>30</td>\n",
              "      <td>7</td>\n",
              "      <td>3</td>\n",
              "      <td>-2.0100</td>\n",
              "      <td>-0.9300</td>\n",
              "      <td>3.5500</td>\n",
              "      <td>4.4600</td>\n",
              "      <td>7.9500</td>\n",
              "      <td>0</td>\n",
              "      <td>0</td>\n",
              "      <td>1</td>\n",
              "      <td>1</td>\n",
              "      <td>1</td>\n",
              "      <td>3</td>\n",
              "      <td>-2.0100</td>\n",
              "      <td>1.0800</td>\n",
              "      <td>4.4800</td>\n",
              "      <td>0.9100</td>\n",
              "      <td>3.4900</td>\n",
              "      <td>0</td>\n",
              "      <td>1</td>\n",
              "      <td>1</td>\n",
              "      <td>1</td>\n",
              "      <td>1</td>\n",
              "      <td>4</td>\n",
              "      <td>-0.980000</td>\n",
              "      <td>2.170000</td>\n",
              "      <td>4.332222</td>\n",
              "      <td>3.925833</td>\n",
              "      <td>4.216000</td>\n",
              "      <td>4.621667</td>\n",
              "      <td>5.570952</td>\n",
              "      <td>0</td>\n",
              "      <td>1</td>\n",
              "      <td>1</td>\n",
              "      <td>1</td>\n",
              "      <td>1</td>\n",
              "      <td>1</td>\n",
              "      <td>1</td>\n",
              "      <td>6</td>\n",
              "    </tr>\n",
              "    <tr>\n",
              "      <th>...</th>\n",
              "      <td>...</td>\n",
              "      <td>...</td>\n",
              "      <td>...</td>\n",
              "      <td>...</td>\n",
              "      <td>...</td>\n",
              "      <td>...</td>\n",
              "      <td>...</td>\n",
              "      <td>...</td>\n",
              "      <td>...</td>\n",
              "      <td>...</td>\n",
              "      <td>...</td>\n",
              "      <td>...</td>\n",
              "      <td>...</td>\n",
              "      <td>...</td>\n",
              "      <td>...</td>\n",
              "      <td>...</td>\n",
              "      <td>...</td>\n",
              "      <td>...</td>\n",
              "      <td>...</td>\n",
              "      <td>...</td>\n",
              "      <td>...</td>\n",
              "      <td>...</td>\n",
              "      <td>...</td>\n",
              "      <td>...</td>\n",
              "      <td>...</td>\n",
              "      <td>...</td>\n",
              "      <td>...</td>\n",
              "      <td>...</td>\n",
              "      <td>...</td>\n",
              "      <td>...</td>\n",
              "      <td>...</td>\n",
              "      <td>...</td>\n",
              "      <td>...</td>\n",
              "      <td>...</td>\n",
              "      <td>...</td>\n",
              "      <td>...</td>\n",
              "      <td>...</td>\n",
              "      <td>...</td>\n",
              "      <td>...</td>\n",
              "      <td>...</td>\n",
              "      <td>...</td>\n",
              "      <td>...</td>\n",
              "      <td>...</td>\n",
              "      <td>...</td>\n",
              "    </tr>\n",
              "    <tr>\n",
              "      <th>1399</th>\n",
              "      <td>192.110</td>\n",
              "      <td>2016-01-11</td>\n",
              "      <td>0</td>\n",
              "      <td>11</td>\n",
              "      <td>2</td>\n",
              "      <td>1</td>\n",
              "      <td>1</td>\n",
              "      <td>0.1870</td>\n",
              "      <td>-1.9400</td>\n",
              "      <td>-6.7100</td>\n",
              "      <td>-9.2500</td>\n",
              "      <td>-8.9092</td>\n",
              "      <td>1</td>\n",
              "      <td>0</td>\n",
              "      <td>0</td>\n",
              "      <td>0</td>\n",
              "      <td>0</td>\n",
              "      <td>1</td>\n",
              "      <td>0.1870</td>\n",
              "      <td>-2.1270</td>\n",
              "      <td>-4.7700</td>\n",
              "      <td>-2.5400</td>\n",
              "      <td>0.3408</td>\n",
              "      <td>1</td>\n",
              "      <td>0</td>\n",
              "      <td>0</td>\n",
              "      <td>0</td>\n",
              "      <td>1</td>\n",
              "      <td>2</td>\n",
              "      <td>-0.584333</td>\n",
              "      <td>-4.437033</td>\n",
              "      <td>NaN</td>\n",
              "      <td>NaN</td>\n",
              "      <td>NaN</td>\n",
              "      <td>NaN</td>\n",
              "      <td>NaN</td>\n",
              "      <td>0</td>\n",
              "      <td>0</td>\n",
              "      <td>0</td>\n",
              "      <td>0</td>\n",
              "      <td>0</td>\n",
              "      <td>0</td>\n",
              "      <td>0</td>\n",
              "      <td>0</td>\n",
              "    </tr>\n",
              "    <tr>\n",
              "      <th>1400</th>\n",
              "      <td>191.923</td>\n",
              "      <td>2016-01-08</td>\n",
              "      <td>4</td>\n",
              "      <td>8</td>\n",
              "      <td>1</td>\n",
              "      <td>1</td>\n",
              "      <td>1</td>\n",
              "      <td>-2.1270</td>\n",
              "      <td>-6.8970</td>\n",
              "      <td>-9.4370</td>\n",
              "      <td>-9.0962</td>\n",
              "      <td>NaN</td>\n",
              "      <td>0</td>\n",
              "      <td>0</td>\n",
              "      <td>0</td>\n",
              "      <td>0</td>\n",
              "      <td>0</td>\n",
              "      <td>0</td>\n",
              "      <td>-2.1270</td>\n",
              "      <td>-4.7700</td>\n",
              "      <td>-2.5400</td>\n",
              "      <td>0.3408</td>\n",
              "      <td>NaN</td>\n",
              "      <td>0</td>\n",
              "      <td>0</td>\n",
              "      <td>0</td>\n",
              "      <td>1</td>\n",
              "      <td>0</td>\n",
              "      <td>1</td>\n",
              "      <td>-3.008000</td>\n",
              "      <td>NaN</td>\n",
              "      <td>NaN</td>\n",
              "      <td>NaN</td>\n",
              "      <td>NaN</td>\n",
              "      <td>NaN</td>\n",
              "      <td>NaN</td>\n",
              "      <td>0</td>\n",
              "      <td>0</td>\n",
              "      <td>0</td>\n",
              "      <td>0</td>\n",
              "      <td>0</td>\n",
              "      <td>0</td>\n",
              "      <td>0</td>\n",
              "      <td>0</td>\n",
              "    </tr>\n",
              "    <tr>\n",
              "      <th>1401</th>\n",
              "      <td>194.050</td>\n",
              "      <td>2016-01-07</td>\n",
              "      <td>3</td>\n",
              "      <td>7</td>\n",
              "      <td>1</td>\n",
              "      <td>1</td>\n",
              "      <td>1</td>\n",
              "      <td>-4.7700</td>\n",
              "      <td>-7.3100</td>\n",
              "      <td>-6.9692</td>\n",
              "      <td>NaN</td>\n",
              "      <td>NaN</td>\n",
              "      <td>0</td>\n",
              "      <td>0</td>\n",
              "      <td>0</td>\n",
              "      <td>0</td>\n",
              "      <td>0</td>\n",
              "      <td>0</td>\n",
              "      <td>-4.7700</td>\n",
              "      <td>-2.5400</td>\n",
              "      <td>0.3408</td>\n",
              "      <td>NaN</td>\n",
              "      <td>0.0000</td>\n",
              "      <td>0</td>\n",
              "      <td>0</td>\n",
              "      <td>1</td>\n",
              "      <td>0</td>\n",
              "      <td>0</td>\n",
              "      <td>1</td>\n",
              "      <td>-4.026667</td>\n",
              "      <td>NaN</td>\n",
              "      <td>NaN</td>\n",
              "      <td>NaN</td>\n",
              "      <td>NaN</td>\n",
              "      <td>NaN</td>\n",
              "      <td>NaN</td>\n",
              "      <td>0</td>\n",
              "      <td>0</td>\n",
              "      <td>0</td>\n",
              "      <td>0</td>\n",
              "      <td>0</td>\n",
              "      <td>0</td>\n",
              "      <td>0</td>\n",
              "      <td>0</td>\n",
              "    </tr>\n",
              "    <tr>\n",
              "      <th>1402</th>\n",
              "      <td>198.820</td>\n",
              "      <td>2016-01-06</td>\n",
              "      <td>2</td>\n",
              "      <td>6</td>\n",
              "      <td>1</td>\n",
              "      <td>1</td>\n",
              "      <td>1</td>\n",
              "      <td>-2.5400</td>\n",
              "      <td>-2.1992</td>\n",
              "      <td>NaN</td>\n",
              "      <td>NaN</td>\n",
              "      <td>NaN</td>\n",
              "      <td>0</td>\n",
              "      <td>0</td>\n",
              "      <td>0</td>\n",
              "      <td>0</td>\n",
              "      <td>0</td>\n",
              "      <td>0</td>\n",
              "      <td>-2.5400</td>\n",
              "      <td>0.3408</td>\n",
              "      <td>NaN</td>\n",
              "      <td>0.0000</td>\n",
              "      <td>0.0000</td>\n",
              "      <td>0</td>\n",
              "      <td>1</td>\n",
              "      <td>0</td>\n",
              "      <td>0</td>\n",
              "      <td>0</td>\n",
              "      <td>1</td>\n",
              "      <td>-1.579733</td>\n",
              "      <td>NaN</td>\n",
              "      <td>NaN</td>\n",
              "      <td>NaN</td>\n",
              "      <td>NaN</td>\n",
              "      <td>NaN</td>\n",
              "      <td>NaN</td>\n",
              "      <td>0</td>\n",
              "      <td>0</td>\n",
              "      <td>0</td>\n",
              "      <td>0</td>\n",
              "      <td>0</td>\n",
              "      <td>0</td>\n",
              "      <td>0</td>\n",
              "      <td>0</td>\n",
              "    </tr>\n",
              "    <tr>\n",
              "      <th>1403</th>\n",
              "      <td>201.360</td>\n",
              "      <td>2016-01-05</td>\n",
              "      <td>1</td>\n",
              "      <td>5</td>\n",
              "      <td>1</td>\n",
              "      <td>1</td>\n",
              "      <td>1</td>\n",
              "      <td>0.3408</td>\n",
              "      <td>NaN</td>\n",
              "      <td>NaN</td>\n",
              "      <td>NaN</td>\n",
              "      <td>NaN</td>\n",
              "      <td>1</td>\n",
              "      <td>0</td>\n",
              "      <td>0</td>\n",
              "      <td>0</td>\n",
              "      <td>0</td>\n",
              "      <td>1</td>\n",
              "      <td>0.3408</td>\n",
              "      <td>NaN</td>\n",
              "      <td>0.0000</td>\n",
              "      <td>0.0000</td>\n",
              "      <td>0.0000</td>\n",
              "      <td>1</td>\n",
              "      <td>0</td>\n",
              "      <td>0</td>\n",
              "      <td>0</td>\n",
              "      <td>0</td>\n",
              "      <td>1</td>\n",
              "      <td>NaN</td>\n",
              "      <td>NaN</td>\n",
              "      <td>NaN</td>\n",
              "      <td>NaN</td>\n",
              "      <td>NaN</td>\n",
              "      <td>NaN</td>\n",
              "      <td>NaN</td>\n",
              "      <td>0</td>\n",
              "      <td>0</td>\n",
              "      <td>0</td>\n",
              "      <td>0</td>\n",
              "      <td>0</td>\n",
              "      <td>0</td>\n",
              "      <td>0</td>\n",
              "      <td>0</td>\n",
              "    </tr>\n",
              "  </tbody>\n",
              "</table>\n",
              "<p>1404 rows × 44 columns</p>\n",
              "</div>"
            ],
            "text/plain": [
              "        Close       Date  ...  rolling_close_21b  rolling_close_total_b\n",
              "0     437.590 2021-08-02  ...                  1                      4\n",
              "1     438.510 2021-07-30  ...                  1                      5\n",
              "2     440.650 2021-07-29  ...                  1                      7\n",
              "3     438.830 2021-07-28  ...                  1                      6\n",
              "4     439.010 2021-07-27  ...                  1                      6\n",
              "...       ...        ...  ...                ...                    ...\n",
              "1399  192.110 2016-01-11  ...                  0                      0\n",
              "1400  191.923 2016-01-08  ...                  0                      0\n",
              "1401  194.050 2016-01-07  ...                  0                      0\n",
              "1402  198.820 2016-01-06  ...                  0                      0\n",
              "1403  201.360 2016-01-05  ...                  0                      0\n",
              "\n",
              "[1404 rows x 44 columns]"
            ]
          },
          "metadata": {
            "tags": []
          },
          "execution_count": 453
        }
      ]
    },
    {
      "cell_type": "markdown",
      "metadata": {
        "id": "WXLJAd9yqyVD"
      },
      "source": [
        "#Remove NaN rows\n",
        "\n",
        "Need to remove the NaN rows from bottom of dataset. These will cause errors in the analysis if not removed.\n",
        "\n",
        "Due to this delete, the dataset must contain 30 additional periods (rows) of history beyond what is desired. This was mentioned in the notation heading of this solution. (due to rolling means and shifts)."
      ]
    },
    {
      "cell_type": "code",
      "metadata": {
        "colab": {
          "base_uri": "https://localhost:8080/",
          "height": 626
        },
        "id": "XLtsuSVwrbfz",
        "outputId": "38c5c501-2947-45cf-ef6c-e185a088b975"
      },
      "source": [
        "#dataset.dropna(inplace = True)\n",
        "\n",
        "dataset.head(-5)"
      ],
      "execution_count": 454,
      "outputs": [
        {
          "output_type": "execute_result",
          "data": {
            "text/html": [
              "<div>\n",
              "<style scoped>\n",
              "    .dataframe tbody tr th:only-of-type {\n",
              "        vertical-align: middle;\n",
              "    }\n",
              "\n",
              "    .dataframe tbody tr th {\n",
              "        vertical-align: top;\n",
              "    }\n",
              "\n",
              "    .dataframe thead th {\n",
              "        text-align: right;\n",
              "    }\n",
              "</style>\n",
              "<table border=\"1\" class=\"dataframe\">\n",
              "  <thead>\n",
              "    <tr style=\"text-align: right;\">\n",
              "      <th></th>\n",
              "      <th>Close</th>\n",
              "      <th>Date</th>\n",
              "      <th>DOW</th>\n",
              "      <th>DOY</th>\n",
              "      <th>Week</th>\n",
              "      <th>Month</th>\n",
              "      <th>Quarter</th>\n",
              "      <th>gain_loss-0</th>\n",
              "      <th>gain_loss-1</th>\n",
              "      <th>gain_loss-2</th>\n",
              "      <th>gain_loss-3</th>\n",
              "      <th>gain_loss-4</th>\n",
              "      <th>gain_loss-0b</th>\n",
              "      <th>gain_loss-1b</th>\n",
              "      <th>gain_loss-2b</th>\n",
              "      <th>gain_loss-3b</th>\n",
              "      <th>gain_loss-4b</th>\n",
              "      <th>gain_loss-total_b</th>\n",
              "      <th>prior_day-0</th>\n",
              "      <th>prior_day-1</th>\n",
              "      <th>prior_day-2</th>\n",
              "      <th>prior_day-3</th>\n",
              "      <th>prior_day-4</th>\n",
              "      <th>prior_day-0b</th>\n",
              "      <th>prior_day-1b</th>\n",
              "      <th>prior_day-2b</th>\n",
              "      <th>prior_day-3b</th>\n",
              "      <th>prior_day-4b</th>\n",
              "      <th>prior_day-total_b</th>\n",
              "      <th>rolling_close_3</th>\n",
              "      <th>rolling_close_6</th>\n",
              "      <th>rolling_close_9</th>\n",
              "      <th>rolling_close_12</th>\n",
              "      <th>rolling_close_15</th>\n",
              "      <th>rolling_close_18</th>\n",
              "      <th>rolling_close_21</th>\n",
              "      <th>rolling_close_3b</th>\n",
              "      <th>rolling_close_6b</th>\n",
              "      <th>rolling_close_9b</th>\n",
              "      <th>rolling_close_12b</th>\n",
              "      <th>rolling_close_15b</th>\n",
              "      <th>rolling_close_18b</th>\n",
              "      <th>rolling_close_21b</th>\n",
              "      <th>rolling_close_total_b</th>\n",
              "    </tr>\n",
              "  </thead>\n",
              "  <tbody>\n",
              "    <tr>\n",
              "      <th>0</th>\n",
              "      <td>437.5900</td>\n",
              "      <td>2021-08-02</td>\n",
              "      <td>0</td>\n",
              "      <td>214</td>\n",
              "      <td>31</td>\n",
              "      <td>8</td>\n",
              "      <td>3</td>\n",
              "      <td>-0.9200</td>\n",
              "      <td>-3.0600</td>\n",
              "      <td>-1.2400</td>\n",
              "      <td>-1.4200</td>\n",
              "      <td>-3.4300</td>\n",
              "      <td>0</td>\n",
              "      <td>0</td>\n",
              "      <td>0</td>\n",
              "      <td>0</td>\n",
              "      <td>0</td>\n",
              "      <td>0</td>\n",
              "      <td>-0.9200</td>\n",
              "      <td>-2.1400</td>\n",
              "      <td>1.8200</td>\n",
              "      <td>-0.1800</td>\n",
              "      <td>-2.0100</td>\n",
              "      <td>0</td>\n",
              "      <td>0</td>\n",
              "      <td>1</td>\n",
              "      <td>0</td>\n",
              "      <td>0</td>\n",
              "      <td>1</td>\n",
              "      <td>-1.326667</td>\n",
              "      <td>-1.678333</td>\n",
              "      <td>-0.805556</td>\n",
              "      <td>1.512500</td>\n",
              "      <td>1.622667</td>\n",
              "      <td>1.866111</td>\n",
              "      <td>2.154762</td>\n",
              "      <td>0</td>\n",
              "      <td>0</td>\n",
              "      <td>0</td>\n",
              "      <td>1</td>\n",
              "      <td>1</td>\n",
              "      <td>1</td>\n",
              "      <td>1</td>\n",
              "      <td>4</td>\n",
              "    </tr>\n",
              "    <tr>\n",
              "      <th>1</th>\n",
              "      <td>438.5100</td>\n",
              "      <td>2021-07-30</td>\n",
              "      <td>4</td>\n",
              "      <td>211</td>\n",
              "      <td>30</td>\n",
              "      <td>7</td>\n",
              "      <td>3</td>\n",
              "      <td>-2.1400</td>\n",
              "      <td>-0.3200</td>\n",
              "      <td>-0.5000</td>\n",
              "      <td>-2.5100</td>\n",
              "      <td>-1.4300</td>\n",
              "      <td>0</td>\n",
              "      <td>0</td>\n",
              "      <td>0</td>\n",
              "      <td>0</td>\n",
              "      <td>0</td>\n",
              "      <td>0</td>\n",
              "      <td>-2.1400</td>\n",
              "      <td>1.8200</td>\n",
              "      <td>-0.1800</td>\n",
              "      <td>-2.0100</td>\n",
              "      <td>1.0800</td>\n",
              "      <td>0</td>\n",
              "      <td>1</td>\n",
              "      <td>0</td>\n",
              "      <td>0</td>\n",
              "      <td>1</td>\n",
              "      <td>2</td>\n",
              "      <td>-0.820000</td>\n",
              "      <td>-1.150000</td>\n",
              "      <td>0.840000</td>\n",
              "      <td>2.669167</td>\n",
              "      <td>2.576667</td>\n",
              "      <td>2.960000</td>\n",
              "      <td>3.415714</td>\n",
              "      <td>0</td>\n",
              "      <td>0</td>\n",
              "      <td>1</td>\n",
              "      <td>1</td>\n",
              "      <td>1</td>\n",
              "      <td>1</td>\n",
              "      <td>1</td>\n",
              "      <td>5</td>\n",
              "    </tr>\n",
              "    <tr>\n",
              "      <th>2</th>\n",
              "      <td>440.6500</td>\n",
              "      <td>2021-07-29</td>\n",
              "      <td>3</td>\n",
              "      <td>210</td>\n",
              "      <td>30</td>\n",
              "      <td>7</td>\n",
              "      <td>3</td>\n",
              "      <td>1.8200</td>\n",
              "      <td>1.6400</td>\n",
              "      <td>-0.3700</td>\n",
              "      <td>0.7100</td>\n",
              "      <td>5.1900</td>\n",
              "      <td>1</td>\n",
              "      <td>1</td>\n",
              "      <td>0</td>\n",
              "      <td>1</td>\n",
              "      <td>1</td>\n",
              "      <td>4</td>\n",
              "      <td>1.8200</td>\n",
              "      <td>-0.1800</td>\n",
              "      <td>-2.0100</td>\n",
              "      <td>1.0800</td>\n",
              "      <td>4.4800</td>\n",
              "      <td>1</td>\n",
              "      <td>0</td>\n",
              "      <td>0</td>\n",
              "      <td>1</td>\n",
              "      <td>1</td>\n",
              "      <td>3</td>\n",
              "      <td>1.153333</td>\n",
              "      <td>1.498333</td>\n",
              "      <td>4.484444</td>\n",
              "      <td>4.998333</td>\n",
              "      <td>4.916000</td>\n",
              "      <td>5.410000</td>\n",
              "      <td>6.053333</td>\n",
              "      <td>1</td>\n",
              "      <td>1</td>\n",
              "      <td>1</td>\n",
              "      <td>1</td>\n",
              "      <td>1</td>\n",
              "      <td>1</td>\n",
              "      <td>1</td>\n",
              "      <td>7</td>\n",
              "    </tr>\n",
              "    <tr>\n",
              "      <th>3</th>\n",
              "      <td>438.8300</td>\n",
              "      <td>2021-07-28</td>\n",
              "      <td>2</td>\n",
              "      <td>209</td>\n",
              "      <td>30</td>\n",
              "      <td>7</td>\n",
              "      <td>3</td>\n",
              "      <td>-0.1800</td>\n",
              "      <td>-2.1900</td>\n",
              "      <td>-1.1100</td>\n",
              "      <td>3.3700</td>\n",
              "      <td>4.2800</td>\n",
              "      <td>0</td>\n",
              "      <td>0</td>\n",
              "      <td>0</td>\n",
              "      <td>1</td>\n",
              "      <td>1</td>\n",
              "      <td>2</td>\n",
              "      <td>-0.1800</td>\n",
              "      <td>-2.0100</td>\n",
              "      <td>1.0800</td>\n",
              "      <td>4.4800</td>\n",
              "      <td>0.9100</td>\n",
              "      <td>0</td>\n",
              "      <td>0</td>\n",
              "      <td>1</td>\n",
              "      <td>1</td>\n",
              "      <td>1</td>\n",
              "      <td>3</td>\n",
              "      <td>-0.790000</td>\n",
              "      <td>0.695000</td>\n",
              "      <td>3.698889</td>\n",
              "      <td>3.600000</td>\n",
              "      <td>3.744667</td>\n",
              "      <td>3.975000</td>\n",
              "      <td>4.850000</td>\n",
              "      <td>0</td>\n",
              "      <td>1</td>\n",
              "      <td>1</td>\n",
              "      <td>1</td>\n",
              "      <td>1</td>\n",
              "      <td>1</td>\n",
              "      <td>1</td>\n",
              "      <td>6</td>\n",
              "    </tr>\n",
              "    <tr>\n",
              "      <th>4</th>\n",
              "      <td>439.0100</td>\n",
              "      <td>2021-07-27</td>\n",
              "      <td>1</td>\n",
              "      <td>208</td>\n",
              "      <td>30</td>\n",
              "      <td>7</td>\n",
              "      <td>3</td>\n",
              "      <td>-2.0100</td>\n",
              "      <td>-0.9300</td>\n",
              "      <td>3.5500</td>\n",
              "      <td>4.4600</td>\n",
              "      <td>7.9500</td>\n",
              "      <td>0</td>\n",
              "      <td>0</td>\n",
              "      <td>1</td>\n",
              "      <td>1</td>\n",
              "      <td>1</td>\n",
              "      <td>3</td>\n",
              "      <td>-2.0100</td>\n",
              "      <td>1.0800</td>\n",
              "      <td>4.4800</td>\n",
              "      <td>0.9100</td>\n",
              "      <td>3.4900</td>\n",
              "      <td>0</td>\n",
              "      <td>1</td>\n",
              "      <td>1</td>\n",
              "      <td>1</td>\n",
              "      <td>1</td>\n",
              "      <td>4</td>\n",
              "      <td>-0.980000</td>\n",
              "      <td>2.170000</td>\n",
              "      <td>4.332222</td>\n",
              "      <td>3.925833</td>\n",
              "      <td>4.216000</td>\n",
              "      <td>4.621667</td>\n",
              "      <td>5.570952</td>\n",
              "      <td>0</td>\n",
              "      <td>1</td>\n",
              "      <td>1</td>\n",
              "      <td>1</td>\n",
              "      <td>1</td>\n",
              "      <td>1</td>\n",
              "      <td>1</td>\n",
              "      <td>6</td>\n",
              "    </tr>\n",
              "    <tr>\n",
              "      <th>...</th>\n",
              "      <td>...</td>\n",
              "      <td>...</td>\n",
              "      <td>...</td>\n",
              "      <td>...</td>\n",
              "      <td>...</td>\n",
              "      <td>...</td>\n",
              "      <td>...</td>\n",
              "      <td>...</td>\n",
              "      <td>...</td>\n",
              "      <td>...</td>\n",
              "      <td>...</td>\n",
              "      <td>...</td>\n",
              "      <td>...</td>\n",
              "      <td>...</td>\n",
              "      <td>...</td>\n",
              "      <td>...</td>\n",
              "      <td>...</td>\n",
              "      <td>...</td>\n",
              "      <td>...</td>\n",
              "      <td>...</td>\n",
              "      <td>...</td>\n",
              "      <td>...</td>\n",
              "      <td>...</td>\n",
              "      <td>...</td>\n",
              "      <td>...</td>\n",
              "      <td>...</td>\n",
              "      <td>...</td>\n",
              "      <td>...</td>\n",
              "      <td>...</td>\n",
              "      <td>...</td>\n",
              "      <td>...</td>\n",
              "      <td>...</td>\n",
              "      <td>...</td>\n",
              "      <td>...</td>\n",
              "      <td>...</td>\n",
              "      <td>...</td>\n",
              "      <td>...</td>\n",
              "      <td>...</td>\n",
              "      <td>...</td>\n",
              "      <td>...</td>\n",
              "      <td>...</td>\n",
              "      <td>...</td>\n",
              "      <td>...</td>\n",
              "      <td>...</td>\n",
              "    </tr>\n",
              "    <tr>\n",
              "      <th>1395</th>\n",
              "      <td>187.8100</td>\n",
              "      <td>2016-01-15</td>\n",
              "      <td>4</td>\n",
              "      <td>15</td>\n",
              "      <td>2</td>\n",
              "      <td>1</td>\n",
              "      <td>1</td>\n",
              "      <td>-4.1200</td>\n",
              "      <td>-1.0200</td>\n",
              "      <td>-5.8508</td>\n",
              "      <td>-4.3000</td>\n",
              "      <td>-4.1130</td>\n",
              "      <td>0</td>\n",
              "      <td>0</td>\n",
              "      <td>0</td>\n",
              "      <td>0</td>\n",
              "      <td>0</td>\n",
              "      <td>0</td>\n",
              "      <td>-4.1200</td>\n",
              "      <td>3.1000</td>\n",
              "      <td>-4.8308</td>\n",
              "      <td>1.5508</td>\n",
              "      <td>0.1870</td>\n",
              "      <td>0</td>\n",
              "      <td>1</td>\n",
              "      <td>0</td>\n",
              "      <td>1</td>\n",
              "      <td>1</td>\n",
              "      <td>3</td>\n",
              "      <td>-1.713333</td>\n",
              "      <td>-3.233967</td>\n",
              "      <td>-5.578200</td>\n",
              "      <td>NaN</td>\n",
              "      <td>NaN</td>\n",
              "      <td>NaN</td>\n",
              "      <td>NaN</td>\n",
              "      <td>0</td>\n",
              "      <td>0</td>\n",
              "      <td>0</td>\n",
              "      <td>0</td>\n",
              "      <td>0</td>\n",
              "      <td>0</td>\n",
              "      <td>0</td>\n",
              "      <td>0</td>\n",
              "    </tr>\n",
              "    <tr>\n",
              "      <th>1396</th>\n",
              "      <td>191.9300</td>\n",
              "      <td>2016-01-14</td>\n",
              "      <td>3</td>\n",
              "      <td>14</td>\n",
              "      <td>2</td>\n",
              "      <td>1</td>\n",
              "      <td>1</td>\n",
              "      <td>3.1000</td>\n",
              "      <td>-1.7308</td>\n",
              "      <td>-0.1800</td>\n",
              "      <td>0.0070</td>\n",
              "      <td>-2.1200</td>\n",
              "      <td>1</td>\n",
              "      <td>0</td>\n",
              "      <td>0</td>\n",
              "      <td>1</td>\n",
              "      <td>0</td>\n",
              "      <td>2</td>\n",
              "      <td>3.1000</td>\n",
              "      <td>-4.8308</td>\n",
              "      <td>1.5508</td>\n",
              "      <td>0.1870</td>\n",
              "      <td>-2.1270</td>\n",
              "      <td>1</td>\n",
              "      <td>0</td>\n",
              "      <td>1</td>\n",
              "      <td>1</td>\n",
              "      <td>0</td>\n",
              "      <td>3</td>\n",
              "      <td>0.456400</td>\n",
              "      <td>-0.153967</td>\n",
              "      <td>-2.925889</td>\n",
              "      <td>NaN</td>\n",
              "      <td>NaN</td>\n",
              "      <td>NaN</td>\n",
              "      <td>NaN</td>\n",
              "      <td>1</td>\n",
              "      <td>0</td>\n",
              "      <td>0</td>\n",
              "      <td>0</td>\n",
              "      <td>0</td>\n",
              "      <td>0</td>\n",
              "      <td>0</td>\n",
              "      <td>1</td>\n",
              "    </tr>\n",
              "    <tr>\n",
              "      <th>1397</th>\n",
              "      <td>188.8300</td>\n",
              "      <td>2016-01-13</td>\n",
              "      <td>2</td>\n",
              "      <td>13</td>\n",
              "      <td>2</td>\n",
              "      <td>1</td>\n",
              "      <td>1</td>\n",
              "      <td>-4.8308</td>\n",
              "      <td>-3.2800</td>\n",
              "      <td>-3.0930</td>\n",
              "      <td>-5.2200</td>\n",
              "      <td>-9.9900</td>\n",
              "      <td>0</td>\n",
              "      <td>0</td>\n",
              "      <td>0</td>\n",
              "      <td>0</td>\n",
              "      <td>0</td>\n",
              "      <td>0</td>\n",
              "      <td>-4.8308</td>\n",
              "      <td>1.5508</td>\n",
              "      <td>0.1870</td>\n",
              "      <td>-2.1270</td>\n",
              "      <td>-4.7700</td>\n",
              "      <td>0</td>\n",
              "      <td>1</td>\n",
              "      <td>1</td>\n",
              "      <td>0</td>\n",
              "      <td>0</td>\n",
              "      <td>2</td>\n",
              "      <td>-2.703600</td>\n",
              "      <td>-4.402300</td>\n",
              "      <td>NaN</td>\n",
              "      <td>NaN</td>\n",
              "      <td>NaN</td>\n",
              "      <td>NaN</td>\n",
              "      <td>NaN</td>\n",
              "      <td>0</td>\n",
              "      <td>0</td>\n",
              "      <td>0</td>\n",
              "      <td>0</td>\n",
              "      <td>0</td>\n",
              "      <td>0</td>\n",
              "      <td>0</td>\n",
              "      <td>0</td>\n",
              "    </tr>\n",
              "    <tr>\n",
              "      <th>1398</th>\n",
              "      <td>193.6608</td>\n",
              "      <td>2016-01-12</td>\n",
              "      <td>1</td>\n",
              "      <td>12</td>\n",
              "      <td>2</td>\n",
              "      <td>1</td>\n",
              "      <td>1</td>\n",
              "      <td>1.5508</td>\n",
              "      <td>1.7378</td>\n",
              "      <td>-0.3892</td>\n",
              "      <td>-5.1592</td>\n",
              "      <td>-7.6992</td>\n",
              "      <td>1</td>\n",
              "      <td>1</td>\n",
              "      <td>0</td>\n",
              "      <td>0</td>\n",
              "      <td>0</td>\n",
              "      <td>2</td>\n",
              "      <td>1.5508</td>\n",
              "      <td>0.1870</td>\n",
              "      <td>-2.1270</td>\n",
              "      <td>-4.7700</td>\n",
              "      <td>-2.5400</td>\n",
              "      <td>1</td>\n",
              "      <td>1</td>\n",
              "      <td>0</td>\n",
              "      <td>0</td>\n",
              "      <td>0</td>\n",
              "      <td>2</td>\n",
              "      <td>1.096200</td>\n",
              "      <td>-1.659833</td>\n",
              "      <td>NaN</td>\n",
              "      <td>NaN</td>\n",
              "      <td>NaN</td>\n",
              "      <td>NaN</td>\n",
              "      <td>NaN</td>\n",
              "      <td>1</td>\n",
              "      <td>0</td>\n",
              "      <td>0</td>\n",
              "      <td>0</td>\n",
              "      <td>0</td>\n",
              "      <td>0</td>\n",
              "      <td>0</td>\n",
              "      <td>1</td>\n",
              "    </tr>\n",
              "    <tr>\n",
              "      <th>1399</th>\n",
              "      <td>192.1100</td>\n",
              "      <td>2016-01-11</td>\n",
              "      <td>0</td>\n",
              "      <td>11</td>\n",
              "      <td>2</td>\n",
              "      <td>1</td>\n",
              "      <td>1</td>\n",
              "      <td>0.1870</td>\n",
              "      <td>-1.9400</td>\n",
              "      <td>-6.7100</td>\n",
              "      <td>-9.2500</td>\n",
              "      <td>-8.9092</td>\n",
              "      <td>1</td>\n",
              "      <td>0</td>\n",
              "      <td>0</td>\n",
              "      <td>0</td>\n",
              "      <td>0</td>\n",
              "      <td>1</td>\n",
              "      <td>0.1870</td>\n",
              "      <td>-2.1270</td>\n",
              "      <td>-4.7700</td>\n",
              "      <td>-2.5400</td>\n",
              "      <td>0.3408</td>\n",
              "      <td>1</td>\n",
              "      <td>0</td>\n",
              "      <td>0</td>\n",
              "      <td>0</td>\n",
              "      <td>1</td>\n",
              "      <td>2</td>\n",
              "      <td>-0.584333</td>\n",
              "      <td>-4.437033</td>\n",
              "      <td>NaN</td>\n",
              "      <td>NaN</td>\n",
              "      <td>NaN</td>\n",
              "      <td>NaN</td>\n",
              "      <td>NaN</td>\n",
              "      <td>0</td>\n",
              "      <td>0</td>\n",
              "      <td>0</td>\n",
              "      <td>0</td>\n",
              "      <td>0</td>\n",
              "      <td>0</td>\n",
              "      <td>0</td>\n",
              "      <td>0</td>\n",
              "    </tr>\n",
              "  </tbody>\n",
              "</table>\n",
              "<p>1400 rows × 44 columns</p>\n",
              "</div>"
            ],
            "text/plain": [
              "         Close       Date  ...  rolling_close_21b  rolling_close_total_b\n",
              "0     437.5900 2021-08-02  ...                  1                      4\n",
              "1     438.5100 2021-07-30  ...                  1                      5\n",
              "2     440.6500 2021-07-29  ...                  1                      7\n",
              "3     438.8300 2021-07-28  ...                  1                      6\n",
              "4     439.0100 2021-07-27  ...                  1                      6\n",
              "...        ...        ...  ...                ...                    ...\n",
              "1395  187.8100 2016-01-15  ...                  0                      0\n",
              "1396  191.9300 2016-01-14  ...                  0                      1\n",
              "1397  188.8300 2016-01-13  ...                  0                      0\n",
              "1398  193.6608 2016-01-12  ...                  0                      1\n",
              "1399  192.1100 2016-01-11  ...                  0                      0\n",
              "\n",
              "[1400 rows x 44 columns]"
            ]
          },
          "metadata": {
            "tags": []
          },
          "execution_count": 454
        }
      ]
    },
    {
      "cell_type": "markdown",
      "metadata": {
        "id": "Pspu--zThppK"
      },
      "source": [
        "#Create dependant variables (2 dependants)\n",
        "\n",
        "As mentioned earlier, the gain_loss-0 attribute is a dependant variable. It's binary conterpart, gain_loss-0b is also a dependant variable.\n",
        "\n",
        "the dependant variables need shifted down one row. This will adjust all of the independant variable into a position where they are trying to predict the \"day ahead\". Because the data is shifted down one day the last day must be removed.\n",
        "\n",
        "!Note: Due to the organizaiton of this dataset (train and test set being time-based) this adjustment for the dependant variables will create results for next day. \n"
      ]
    },
    {
      "cell_type": "code",
      "metadata": {
        "colab": {
          "base_uri": "https://localhost:8080/"
        },
        "id": "8kbzhhUsjptq",
        "outputId": "098b76c9-6961-43de-a8f6-c2ec1555daa0"
      },
      "source": [
        "y = pd.DataFrame(dataset['gain_loss-0']).reset_index(drop = True)\n",
        "y.loc[-1] = [0]\n",
        "y.index = y.index + 1\n",
        "y = y.sort_index()\n",
        "y.drop(y.tail(1).index, inplace = True)\n",
        "y.rename(columns={'gain_loss-0': 'y'}, inplace=True)\n",
        "y_df = pd.DataFrame(y, columns=['y'])\n",
        "\n",
        "yb = pd.DataFrame(dataset['gain_loss-0b']).reset_index(drop = True)\n",
        "yb.loc[-1] = [0]\n",
        "yb.index = yb.index + 1\n",
        "yb = yb.sort_index()\n",
        "yb.drop(yb.tail(1).index, inplace = True)\n",
        "yb.rename(columns={'gain_loss-0b': 'yb'}, inplace=True)\n",
        "yb_df = pd.DataFrame(yb, columns=['yb'])\n",
        "\n",
        "print(y)\n",
        "print(\"----------------\")\n",
        "print(yb)"
      ],
      "execution_count": 455,
      "outputs": [
        {
          "output_type": "stream",
          "text": [
            "           y\n",
            "0     0.0000\n",
            "1    -0.9200\n",
            "2    -2.1400\n",
            "3     1.8200\n",
            "4    -0.1800\n",
            "...      ...\n",
            "1400  0.1870\n",
            "1401 -2.1270\n",
            "1402 -4.7700\n",
            "1403 -2.5400\n",
            "1404  0.3408\n",
            "\n",
            "[1405 rows x 1 columns]\n",
            "----------------\n",
            "      yb\n",
            "0      0\n",
            "1      0\n",
            "2      0\n",
            "3      1\n",
            "4      0\n",
            "...   ..\n",
            "1400   1\n",
            "1401   0\n",
            "1402   0\n",
            "1403   0\n",
            "1404   1\n",
            "\n",
            "[1405 rows x 1 columns]\n"
          ],
          "name": "stdout"
        }
      ]
    },
    {
      "cell_type": "code",
      "metadata": {
        "colab": {
          "base_uri": "https://localhost:8080/"
        },
        "id": "hq-QdjpnxZwi",
        "outputId": "e46210f8-0b38-461b-9d37-5753a6ce8b7f"
      },
      "source": [
        "a = len(y.index)\n",
        "b = len(yb.index)\n",
        "c = len(dataset.index)\n",
        "d = len(rolling_prior_day_5.index)\n",
        "a1 = len(y_df.index)\n",
        "b1 = len(yb_df.index)\n",
        "\n",
        "print(a)\n",
        "print(b)\n",
        "print(c)\n",
        "print(d)\n",
        "print(a1)\n",
        "print(b1)"
      ],
      "execution_count": 456,
      "outputs": [
        {
          "output_type": "stream",
          "text": [
            "1405\n",
            "1405\n",
            "1405\n",
            "1405\n",
            "1405\n",
            "1405\n"
          ],
          "name": "stdout"
        }
      ]
    },
    {
      "cell_type": "markdown",
      "metadata": {
        "id": "bb-FeVxGgtux"
      },
      "source": [
        "#Create final dataset and review\n",
        "\n",
        "A concat procedure is necessary to create the final dataset.\n",
        "\n",
        "There should be a total of 37 columns"
      ]
    },
    {
      "cell_type": "code",
      "metadata": {
        "colab": {
          "base_uri": "https://localhost:8080/",
          "height": 134
        },
        "id": "QqUDH3p9EA_v",
        "outputId": "b50a6002-3643-44df-fd65-ac2457fb2fc6"
      },
      "source": [
        "dataset_final = pd.concat([dataset,\n",
        "           rolling_prior_day_5, \n",
        "           rolling_prior_day_10, \n",
        "           rolling_prior_day_15, \n",
        "           rolling_prior_day_20, \n",
        "           rolling_prior_day_25, \n",
        "           rolling_prior_day_30,\n",
        "           y_df,\n",
        "           yb_df],\n",
        "           axis = 1)\n",
        "\n",
        "dataset_final.head(1)"
      ],
      "execution_count": 457,
      "outputs": [
        {
          "output_type": "execute_result",
          "data": {
            "text/html": [
              "<div>\n",
              "<style scoped>\n",
              "    .dataframe tbody tr th:only-of-type {\n",
              "        vertical-align: middle;\n",
              "    }\n",
              "\n",
              "    .dataframe tbody tr th {\n",
              "        vertical-align: top;\n",
              "    }\n",
              "\n",
              "    .dataframe thead th {\n",
              "        text-align: right;\n",
              "    }\n",
              "</style>\n",
              "<table border=\"1\" class=\"dataframe\">\n",
              "  <thead>\n",
              "    <tr style=\"text-align: right;\">\n",
              "      <th></th>\n",
              "      <th>Close</th>\n",
              "      <th>Date</th>\n",
              "      <th>DOW</th>\n",
              "      <th>DOY</th>\n",
              "      <th>Week</th>\n",
              "      <th>Month</th>\n",
              "      <th>Quarter</th>\n",
              "      <th>gain_loss-0</th>\n",
              "      <th>gain_loss-1</th>\n",
              "      <th>gain_loss-2</th>\n",
              "      <th>gain_loss-3</th>\n",
              "      <th>gain_loss-4</th>\n",
              "      <th>gain_loss-0b</th>\n",
              "      <th>gain_loss-1b</th>\n",
              "      <th>gain_loss-2b</th>\n",
              "      <th>gain_loss-3b</th>\n",
              "      <th>gain_loss-4b</th>\n",
              "      <th>gain_loss-total_b</th>\n",
              "      <th>prior_day-0</th>\n",
              "      <th>prior_day-1</th>\n",
              "      <th>prior_day-2</th>\n",
              "      <th>prior_day-3</th>\n",
              "      <th>prior_day-4</th>\n",
              "      <th>prior_day-0b</th>\n",
              "      <th>prior_day-1b</th>\n",
              "      <th>prior_day-2b</th>\n",
              "      <th>prior_day-3b</th>\n",
              "      <th>prior_day-4b</th>\n",
              "      <th>prior_day-total_b</th>\n",
              "      <th>rolling_close_3</th>\n",
              "      <th>rolling_close_6</th>\n",
              "      <th>rolling_close_9</th>\n",
              "      <th>rolling_close_12</th>\n",
              "      <th>rolling_close_15</th>\n",
              "      <th>rolling_close_18</th>\n",
              "      <th>rolling_close_21</th>\n",
              "      <th>rolling_close_3b</th>\n",
              "      <th>rolling_close_6b</th>\n",
              "      <th>rolling_close_9b</th>\n",
              "      <th>rolling_close_12b</th>\n",
              "      <th>rolling_close_15b</th>\n",
              "      <th>rolling_close_18b</th>\n",
              "      <th>rolling_close_21b</th>\n",
              "      <th>rolling_close_total_b</th>\n",
              "      <th>prior_day-0</th>\n",
              "      <th>prior_day-0</th>\n",
              "      <th>prior_day-0</th>\n",
              "      <th>prior_day-0</th>\n",
              "      <th>prior_day-0</th>\n",
              "      <th>prior_day-0</th>\n",
              "      <th>y</th>\n",
              "      <th>yb</th>\n",
              "    </tr>\n",
              "  </thead>\n",
              "  <tbody>\n",
              "    <tr>\n",
              "      <th>0</th>\n",
              "      <td>437.59</td>\n",
              "      <td>2021-08-02</td>\n",
              "      <td>0</td>\n",
              "      <td>214</td>\n",
              "      <td>31</td>\n",
              "      <td>8</td>\n",
              "      <td>3</td>\n",
              "      <td>-0.92</td>\n",
              "      <td>-3.06</td>\n",
              "      <td>-1.24</td>\n",
              "      <td>-1.42</td>\n",
              "      <td>-3.43</td>\n",
              "      <td>0</td>\n",
              "      <td>0</td>\n",
              "      <td>0</td>\n",
              "      <td>0</td>\n",
              "      <td>0</td>\n",
              "      <td>0</td>\n",
              "      <td>-0.92</td>\n",
              "      <td>-2.14</td>\n",
              "      <td>1.82</td>\n",
              "      <td>-0.18</td>\n",
              "      <td>-2.01</td>\n",
              "      <td>0</td>\n",
              "      <td>0</td>\n",
              "      <td>1</td>\n",
              "      <td>0</td>\n",
              "      <td>0</td>\n",
              "      <td>1</td>\n",
              "      <td>-1.326667</td>\n",
              "      <td>-1.678333</td>\n",
              "      <td>-0.805556</td>\n",
              "      <td>1.5125</td>\n",
              "      <td>1.622667</td>\n",
              "      <td>1.866111</td>\n",
              "      <td>2.154762</td>\n",
              "      <td>0</td>\n",
              "      <td>0</td>\n",
              "      <td>0</td>\n",
              "      <td>1</td>\n",
              "      <td>1</td>\n",
              "      <td>1</td>\n",
              "      <td>1</td>\n",
              "      <td>4</td>\n",
              "      <td>-0.686</td>\n",
              "      <td>1.262</td>\n",
              "      <td>0.034</td>\n",
              "      <td>0.1935</td>\n",
              "      <td>0.4392</td>\n",
              "      <td>0.755667</td>\n",
              "      <td>0.0</td>\n",
              "      <td>0</td>\n",
              "    </tr>\n",
              "  </tbody>\n",
              "</table>\n",
              "</div>"
            ],
            "text/plain": [
              "    Close       Date  DOW  DOY  ...  prior_day-0  prior_day-0    y  yb\n",
              "0  437.59 2021-08-02    0  214  ...       0.4392     0.755667  0.0   0\n",
              "\n",
              "[1 rows x 52 columns]"
            ]
          },
          "metadata": {
            "tags": []
          },
          "execution_count": 457
        }
      ]
    },
    {
      "cell_type": "markdown",
      "metadata": {
        "id": "R_VdPhY45MJd"
      },
      "source": [
        "#Evaluate dataset for NaN\n",
        "\n",
        "Throught the processes above there should have been some NaN values created at the tail"
      ]
    },
    {
      "cell_type": "code",
      "metadata": {
        "colab": {
          "base_uri": "https://localhost:8080/"
        },
        "id": "d6avhJTi5Wop",
        "outputId": "230eb462-532d-423e-c0bb-fc1f3da57538"
      },
      "source": [
        "dataset_final.dropna(inplace = True)\n",
        "\n",
        "a = len(dataset.index)\n",
        "e = len(dataset_final.index)\n",
        "\n",
        "print(\"rows dropped = {}\".format(a-e))"
      ],
      "execution_count": 458,
      "outputs": [
        {
          "output_type": "stream",
          "text": [
            "rows dropped = 30\n"
          ],
          "name": "stdout"
        }
      ]
    },
    {
      "cell_type": "markdown",
      "metadata": {
        "id": "rifSXtgbhYYt"
      },
      "source": [
        "#Create dataset splitting variable (Train and Pred)\n",
        "\n",
        "Date variables based on today date are required to prevent \"hardcoding\" dates into the model\n",
        "\n",
        "The date_var variable will represent the most current date in the dataset. This allows the solution to be run for any timeframe.\n",
        "\n",
        "The following code can replace the current date_var logic in the case the current method causes issues. Note, this method requires adjustment when back testing \n",
        "\n",
        "date_var = pd.to_datetime(date.today()) \n",
        "\n",
        "use train/pred_minus_days to tune the model for longer or shorter periods of time. Allow for a 30 day overlap where pred will have 30 days"
      ]
    },
    {
      "cell_type": "code",
      "metadata": {
        "colab": {
          "base_uri": "https://localhost:8080/"
        },
        "id": "iF1y7B2r7cVv",
        "outputId": "04349886-b044-4f1c-ed8c-5c8cf232e796"
      },
      "source": [
        "train_minus_days = 75\n",
        "pred_minus_days = 75\n",
        "\n",
        "date_var = dataset_final['Date'].max()\n",
        "train_begin_date = dataset_final['Date'].min()\n",
        "train_end_date = (date_var - pd.to_timedelta(train_minus_days, unit='d'))\n",
        "pred_begin_date = (date_var - pd.to_timedelta(pred_minus_days, unit='d'))\n",
        "pred_end_date = date_var\n",
        "\n",
        "train_begin_date = train_begin_date.to_pydatetime()\n",
        "train_end_date = train_end_date.to_pydatetime()\n",
        "pred_begin_date = pred_begin_date.to_pydatetime()\n",
        "pred_end_date = pred_end_date.to_pydatetime()\n",
        "\n",
        "#train_begin_date = pd.DataFrame([train_begin_date], columns=['train_begin_date'])\n",
        "#train_end_date = pd.DataFrame([train_end_date], columns=['train_end_date'])\n",
        "#pred_begin_date = pd.DataFrame([pred_begin_date], columns=['pred_begin_date'])\n",
        "#pred_end_date = pd.DataFrame([pred_end_date], columns=['pred_end_date'])\n",
        "\n",
        "print(train_begin_date)\n",
        "print(train_end_date)\n",
        "print(pred_begin_date)\n",
        "print(pred_end_date)"
      ],
      "execution_count": 459,
      "outputs": [
        {
          "output_type": "stream",
          "text": [
            "2016-02-17 00:00:00\n",
            "2021-05-19 00:00:00\n",
            "2021-05-19 00:00:00\n",
            "2021-08-02 00:00:00\n"
          ],
          "name": "stdout"
        }
      ]
    },
    {
      "cell_type": "markdown",
      "metadata": {
        "id": "IzgziXsl-SBz"
      },
      "source": [
        "#Split between training and predict data sets\n",
        "\n",
        "The top last 90 periods (rows) will generate the pred data set.\n",
        "\n",
        "All but the top 60 periods (rows) will generate the training data set.\n",
        "\n",
        "The 30 day overlap can provide a measure of the model's degredation over time\n",
        "\n",
        "!Note - The market is closed on weekends and holidays. The count of days in each set will NOT equal the amount of days between begin and end dates."
      ]
    },
    {
      "cell_type": "code",
      "metadata": {
        "colab": {
          "base_uri": "https://localhost:8080/"
        },
        "id": "nOHf760CShq3",
        "outputId": "a6885613-d308-4f68-df41-3818992acae0"
      },
      "source": [
        "#split text and train datasets\n",
        "predset = dataset_final[(dataset_final['Date'] >= pred_begin_date) & \n",
        "                        (dataset_final['Date'] <= pred_end_date)]\n",
        "trainset = dataset_final[(dataset_final['Date'] >= train_begin_date) & \n",
        "                         (dataset_final['Date'] <= train_end_date)]\n",
        "type(predset)"
      ],
      "execution_count": 460,
      "outputs": [
        {
          "output_type": "execute_result",
          "data": {
            "text/plain": [
              "pandas.core.frame.DataFrame"
            ]
          },
          "metadata": {
            "tags": []
          },
          "execution_count": 460
        }
      ]
    },
    {
      "cell_type": "code",
      "metadata": {
        "colab": {
          "base_uri": "https://localhost:8080/"
        },
        "id": "cTZ65w52bsBZ",
        "outputId": "e5603fbe-e3ca-445a-b222-0354ce094cbe"
      },
      "source": [
        "list(dataset.columns)"
      ],
      "execution_count": 461,
      "outputs": [
        {
          "output_type": "execute_result",
          "data": {
            "text/plain": [
              "['Close',\n",
              " 'Date',\n",
              " 'DOW',\n",
              " 'DOY',\n",
              " 'Week',\n",
              " 'Month',\n",
              " 'Quarter',\n",
              " 'gain_loss-0',\n",
              " 'gain_loss-1',\n",
              " 'gain_loss-2',\n",
              " 'gain_loss-3',\n",
              " 'gain_loss-4',\n",
              " 'gain_loss-0b',\n",
              " 'gain_loss-1b',\n",
              " 'gain_loss-2b',\n",
              " 'gain_loss-3b',\n",
              " 'gain_loss-4b',\n",
              " 'gain_loss-total_b',\n",
              " 'prior_day-0',\n",
              " 'prior_day-1',\n",
              " 'prior_day-2',\n",
              " 'prior_day-3',\n",
              " 'prior_day-4',\n",
              " 'prior_day-0b',\n",
              " 'prior_day-1b',\n",
              " 'prior_day-2b',\n",
              " 'prior_day-3b',\n",
              " 'prior_day-4b',\n",
              " 'prior_day-total_b',\n",
              " 'rolling_close_3',\n",
              " 'rolling_close_6',\n",
              " 'rolling_close_9',\n",
              " 'rolling_close_12',\n",
              " 'rolling_close_15',\n",
              " 'rolling_close_18',\n",
              " 'rolling_close_21',\n",
              " 'rolling_close_3b',\n",
              " 'rolling_close_6b',\n",
              " 'rolling_close_9b',\n",
              " 'rolling_close_12b',\n",
              " 'rolling_close_15b',\n",
              " 'rolling_close_18b',\n",
              " 'rolling_close_21b',\n",
              " 'rolling_close_total_b']"
            ]
          },
          "metadata": {
            "tags": []
          },
          "execution_count": 461
        }
      ]
    },
    {
      "cell_type": "markdown",
      "metadata": {
        "id": "50h5EJr9_DZW"
      },
      "source": [
        "#Convert dataset into X and y and refine column membership\n",
        "\n",
        "This process separates the dependant and independant variables\n",
        "\n",
        "X should not contain the y or yb attributes\n",
        "\n",
        "for X, \"Date\" should be removed since it is a time-series value; date attributes will represent time\n",
        "\n",
        "for X, \"Close\" should be removed due to its relationship to the indepenant variable\n",
        "\n",
        "Two models will come out of this model, one for continuous variable y and binary value yb"
      ]
    },
    {
      "cell_type": "code",
      "metadata": {
        "colab": {
          "base_uri": "https://localhost:8080/"
        },
        "id": "Z0cZJQK3ILwd",
        "outputId": "afb8d27b-52b7-4e21-e2e2-bbbe1725c27f"
      },
      "source": [
        "XX = trainset\n",
        "XX.drop(X.tail(31).index, inplace = True)\n",
        "X = XX.drop(['y', 'yb', 'Close', 'Date','Week', 'DOW', 'Month', 'Quarter', 'gain_loss-0b', 'gain_loss-1b', 'gain_loss-2b', 'gain_loss-3b', 'gain_loss-4b', 'prior_day-0b', 'prior_day-1b', 'prior_day-2b', 'prior_day-3b', 'prior_day-4b', 'rolling_close_3b', 'rolling_close_6b', 'rolling_close_9b', 'rolling_close_12b', 'rolling_close_15b', 'rolling_close_18b', 'rolling_close_21b'], axis = 1)\n",
        "Xb = XX.drop(['y', 'yb', 'Close', 'Date','Week', 'gain_loss-0', 'gain_loss-1', 'gain_loss-2', 'gain_loss-3', 'gain_loss-4', 'gain_loss-total_b', 'prior_day-0', 'prior_day-1', 'prior_day-2', 'prior_day-3', 'prior_day-4', 'prior_day-total_b', 'rolling_close_3', 'rolling_close_6', 'rolling_close_9', 'rolling_close_12', 'rolling_close_15', 'rolling_close_18', 'rolling_close_21', 'rolling_close_total_b'], axis = 1)\n",
        "X_all = XX.drop(['y', 'yb', 'Close', 'Date','Week'], axis = 1)\n",
        "y = trainset['y'].values\n",
        "yb = trainset['yb'].values\n",
        "print(X)\n",
        "print(\"-------------------------\")\n",
        "print(y)\n",
        "print(\"-------------------------\")\n",
        "print(yb)"
      ],
      "execution_count": 462,
      "outputs": [
        {
          "output_type": "stream",
          "text": [
            "      DOY  gain_loss-0  gain_loss-1  ...  prior_day-0  prior_day-0  prior_day-0\n",
            "51    139        -1.08        -4.66  ...      -0.2605    -0.023600     0.142333\n",
            "52    138        -3.58        -4.64  ...      -0.0115    -0.036800     0.194000\n",
            "53    137        -1.06         5.24  ...       0.0155     0.155200     0.305333\n",
            "54    134         6.30        11.17  ...      -0.0340     0.203600     0.532333\n",
            "55    133         4.87        -3.93  ...      -0.2795     0.070400     0.465000\n",
            "...   ...          ...          ...  ...          ...          ...          ...\n",
            "1370   54        -2.46         0.32  ...       0.2340     0.180400     0.013233\n",
            "1371   53         2.78         2.69  ...       0.2130     0.114000     0.024333\n",
            "1372   50        -0.09        -0.88  ...       0.2655     0.126800    -0.227333\n",
            "1373   49        -0.79         2.31  ...       0.3220    -0.062832    -0.309000\n",
            "1374   48         3.10         6.25  ...       0.2410     0.030800    -0.271307\n",
            "\n",
            "[1293 rows x 27 columns]\n",
            "-------------------------\n",
            "[ 4.42 -1.08 -3.58 ...  2.78 -0.09 -0.79]\n",
            "-------------------------\n",
            "[1 0 0 ... 1 0 0]\n"
          ],
          "name": "stdout"
        },
        {
          "output_type": "stream",
          "text": [
            "/usr/local/lib/python3.7/dist-packages/pandas/core/frame.py:4174: SettingWithCopyWarning: \n",
            "A value is trying to be set on a copy of a slice from a DataFrame\n",
            "\n",
            "See the caveats in the documentation: https://pandas.pydata.org/pandas-docs/stable/user_guide/indexing.html#returning-a-view-versus-a-copy\n",
            "  errors=errors,\n"
          ],
          "name": "stderr"
        }
      ]
    },
    {
      "cell_type": "code",
      "metadata": {
        "colab": {
          "base_uri": "https://localhost:8080/"
        },
        "id": "jTo9CiOAAbnm",
        "outputId": "b852d381-669d-4064-d7dc-8a5529bb6edb"
      },
      "source": [
        "type(X)"
      ],
      "execution_count": 463,
      "outputs": [
        {
          "output_type": "execute_result",
          "data": {
            "text/plain": [
              "pandas.core.frame.DataFrame"
            ]
          },
          "metadata": {
            "tags": []
          },
          "execution_count": 463
        }
      ]
    },
    {
      "cell_type": "code",
      "metadata": {
        "colab": {
          "base_uri": "https://localhost:8080/"
        },
        "id": "wQNhBiAEN_fx",
        "outputId": "25800c23-2b1a-44db-98b6-2e3d4566aa9f"
      },
      "source": [
        "#Validation of row counts\n",
        "\n",
        "f = len(X)\n",
        "g = len(y)\n",
        "h = len(yb)\n",
        "\n",
        "print(f, g, h)"
      ],
      "execution_count": 464,
      "outputs": [
        {
          "output_type": "stream",
          "text": [
            "1293 1293 1293\n"
          ],
          "name": "stdout"
        }
      ]
    },
    {
      "cell_type": "markdown",
      "metadata": {
        "id": "BgGLmBg2CCjH"
      },
      "source": [
        "#Train the models\n",
        "\n",
        "The model can be extended to use any regression or classificaiton model.\n",
        "\n",
        "Current model inventory:\n",
        "\n",
        "1) Random Forest"
      ]
    },
    {
      "cell_type": "code",
      "metadata": {
        "colab": {
          "base_uri": "https://localhost:8080/"
        },
        "id": "w4xd8XMCH3M2",
        "outputId": "fbe1f2f6-936a-4c50-8e35-807d321ba356"
      },
      "source": [
        "from sklearn.ensemble import RandomForestRegressor\n",
        "\n",
        "regressor = RandomForestRegressor(n_estimators = 120, random_state = 0)\n",
        "\n",
        "regressor.fit(X, y)\n",
        "\n",
        "regressor_b = RandomForestRegressor(n_estimators = 120, random_state = 0)\n",
        "\n",
        "regressor_b.fit(Xb, yb)\n",
        "\n",
        "regressor_all = RandomForestRegressor(n_estimators = 120, random_state = 0)\n",
        "\n",
        "regressor_all.fit(X_all, y)\n",
        "\n",
        "regressor_all_b = RandomForestRegressor(n_estimators = 120, random_state = 0)\n",
        "\n",
        "regressor_all_b.fit(X_all, yb)\n"
      ],
      "execution_count": 465,
      "outputs": [
        {
          "output_type": "execute_result",
          "data": {
            "text/plain": [
              "RandomForestRegressor(bootstrap=True, ccp_alpha=0.0, criterion='mse',\n",
              "                      max_depth=None, max_features='auto', max_leaf_nodes=None,\n",
              "                      max_samples=None, min_impurity_decrease=0.0,\n",
              "                      min_impurity_split=None, min_samples_leaf=1,\n",
              "                      min_samples_split=2, min_weight_fraction_leaf=0.0,\n",
              "                      n_estimators=120, n_jobs=None, oob_score=False,\n",
              "                      random_state=0, verbose=0, warm_start=False)"
            ]
          },
          "metadata": {
            "tags": []
          },
          "execution_count": 465
        }
      ]
    },
    {
      "cell_type": "code",
      "metadata": {
        "colab": {
          "base_uri": "https://localhost:8080/"
        },
        "id": "9h52OCjWASy1",
        "outputId": "1ba18fa5-cd44-4620-d88a-673d5fff56d4"
      },
      "source": [
        "type"
      ],
      "execution_count": 466,
      "outputs": [
        {
          "output_type": "execute_result",
          "data": {
            "text/plain": [
              "type"
            ]
          },
          "metadata": {
            "tags": []
          },
          "execution_count": 466
        }
      ]
    },
    {
      "cell_type": "markdown",
      "metadata": {
        "id": "lMP2XIlOCUTS"
      },
      "source": [
        "#Create predict dataset\n",
        "\n",
        "The predict dataset should match the process used to generate the training dataset"
      ]
    },
    {
      "cell_type": "code",
      "metadata": {
        "colab": {
          "base_uri": "https://localhost:8080/"
        },
        "id": "G0BNR3t8Um8v",
        "outputId": "e20b09f7-bc1a-428b-ea39-3f84f897700d"
      },
      "source": [
        "#Prepare predict set\n",
        "Xpred = predset\n",
        "X_pred = Xpred.drop(['y', 'yb', 'Close', 'Date','Week', 'DOW', 'Month', 'Quarter', 'gain_loss-0b', 'gain_loss-1b', 'gain_loss-2b', 'gain_loss-3b', 'gain_loss-4b', 'prior_day-0b', 'prior_day-1b', 'prior_day-2b', 'prior_day-3b', 'prior_day-4b', 'rolling_close_3b', 'rolling_close_6b', 'rolling_close_9b', 'rolling_close_12b', 'rolling_close_15b', 'rolling_close_18b', 'rolling_close_21b'], axis = 1)\n",
        "Xb_pred = Xpred.drop(['y', 'yb', 'Close', 'Date','Week', 'gain_loss-0', 'gain_loss-1', 'gain_loss-2', 'gain_loss-3', 'gain_loss-4', 'gain_loss-total_b', 'prior_day-0', 'prior_day-1', 'prior_day-2', 'prior_day-3', 'prior_day-4', 'prior_day-total_b', 'rolling_close_3', 'rolling_close_6', 'rolling_close_9', 'rolling_close_12', 'rolling_close_15', 'rolling_close_18', 'rolling_close_21', 'rolling_close_total_b'], axis = 1)\n",
        "X_all_pred = Xpred.drop(['y', 'yb', 'Close', 'Date','Week'], axis = 1)\n",
        "y_actual = predset['y'].values\n",
        "yb_actual = predset['yb'].values\n",
        "print(Xpred)\n",
        "print(\"-------------------------\")\n",
        "print(y_actual)\n",
        "print(\"-------------------------\")\n",
        "print(yb_actual)"
      ],
      "execution_count": 467,
      "outputs": [
        {
          "output_type": "stream",
          "text": [
            "     Close       Date  DOW  DOY  ...  prior_day-0  prior_day-0     y  yb\n",
            "0   437.59 2021-08-02    0  214  ...       0.4392     0.755667  0.00   0\n",
            "1   438.51 2021-07-30    4  211  ...       0.5364     0.551333 -0.92   0\n",
            "2   440.65 2021-07-29    3  210  ...       0.7220     0.618000 -2.14   0\n",
            "3   438.83 2021-07-28    2  209  ...       0.6288     0.478333  1.82   1\n",
            "4   439.01 2021-07-27    1  208  ...       0.7260     0.458333 -0.18   0\n",
            "5   441.02 2021-07-26    0  207  ...       1.0440     0.557000 -2.01   0\n",
            "6   439.94 2021-07-23    4  204  ...       0.7188     0.544333  1.08   1\n",
            "7   435.46 2021-07-22    3  203  ...       0.5340     0.460333  4.48   1\n",
            "8   434.55 2021-07-21    2  202  ...       0.4028     0.409000  0.91   1\n",
            "9   431.06 2021-07-20    1  201  ...       0.2320     0.295667  3.49   1\n",
            "10  424.97 2021-07-19    0  200  ...       0.0264     0.079000  6.09   1\n",
            "11  431.34 2021-07-16    4  197  ...       0.3092     0.419000 -6.37   0\n",
            "12  434.75 2021-07-15    3  196  ...       0.5240     0.480667 -3.41   0\n",
            "13  436.24 2021-07-14    2  195  ...       0.5584     0.552333 -1.49   0\n",
            "14  435.59 2021-07-13    1  194  ...       0.5360     0.518333  0.65   1\n",
            "15  437.08 2021-07-12    0  193  ...       0.5792     0.593000 -1.49   0\n",
            "16  435.52 2021-07-09    4  190  ...       0.6700     0.548333  1.56   1\n",
            "17  430.92 2021-07-08    3  189  ...       0.4236     0.422667  4.60   1\n",
            "18  434.46 2021-07-07    2  188  ...       0.5916     0.509667 -3.54   0\n",
            "19  432.93 2021-07-06    1  187  ...       0.5156     0.599667  1.53   1\n",
            "20  433.72 2021-07-02    4  183  ...       0.5772     0.614667 -0.79   0\n",
            "21  430.43 2021-07-01    3  182  ...       0.4544     0.652333  3.29   1\n",
            "22  428.06 2021-06-30    2  181  ...       0.3928     0.537333  2.37   1\n",
            "23  427.70 2021-06-29    1  180  ...       0.3412     0.406000  0.36   1\n",
            "24  427.47 2021-06-28    0  179  ...       0.5012     0.363000  0.23   1\n",
            "25  426.61 2021-06-25    4  176  ...       0.4532     0.544333  0.86   1\n",
            "26  425.10 2021-06-24    3  175  ...       0.5696     0.656333  1.51   1\n",
            "27  422.60 2021-06-23    2  174  ...       0.4264     0.279667  2.50   1\n",
            "28  423.11 2021-06-22    1  173  ...       0.3036     0.172333 -0.51   0\n",
            "29  420.86 2021-06-21    0  172  ...       0.1712    -0.042000  2.25   1\n",
            "30  414.92 2021-06-18    4  169  ...       0.1856    -0.138333  5.94   1\n",
            "31  421.97 2021-06-17    3  168  ...       0.6624     0.207333 -7.05   0\n",
            "32  422.11 2021-06-16    2  167  ...       0.3160     0.216333 -0.14   0\n",
            "33  424.48 2021-06-15    1  166  ...       0.2616     0.209333 -2.37   0\n",
            "34  425.26 2021-06-14    0  165  ...       0.1256     0.265333 -0.78   0\n",
            "35  424.31 2021-06-11    4  162  ...       0.2096     0.141667  0.95   1\n",
            "36  423.61 2021-06-10    3  161  ...       0.3144     0.207000  0.70   1\n",
            "37  421.65 2021-06-09    2  160  ...       0.2412     0.137667  1.96   1\n",
            "38  422.28 2021-06-08    1  159  ...       0.1632     0.155667 -0.63   0\n",
            "39  422.19 2021-06-07    0  158  ...       0.1956     0.181667  0.09   1\n",
            "40  422.60 2021-06-04    4  155  ...       0.1016     0.344333 -0.41   0\n",
            "41  418.77 2021-06-03    3  154  ...       0.0548     0.090000  3.83   1\n",
            "42  420.33 2021-06-02    2  153  ...       0.1124     0.272000 -1.56   0\n",
            "43  419.67 2021-06-01    1  152  ...       0.0824     0.148667  0.66   1\n",
            "44  420.04 2021-05-28    4  148  ...       0.1320     0.092667 -0.37   0\n",
            "45  419.29 2021-05-27    3  147  ...       0.2808     0.114000  0.75   1\n",
            "46  419.07 2021-05-26    2  146  ...       0.1200     0.254000  0.22   1\n",
            "47  418.24 2021-05-25    1  145  ...       0.2428     0.179333  0.83   1\n",
            "48  419.17 2021-05-24    0  144  ...       0.1584     0.251000 -0.93   0\n",
            "49  414.94 2021-05-21    4  141  ...      -0.0928     0.115000  4.23   1\n",
            "50  415.28 2021-05-20    3  140  ...      -0.0236     0.225333 -0.34   0\n",
            "51  410.86 2021-05-19    2  139  ...      -0.0236     0.142333  4.42   1\n",
            "\n",
            "[52 rows x 52 columns]\n",
            "-------------------------\n",
            "[ 0.   -0.92 -2.14  1.82 -0.18 -2.01  1.08  4.48  0.91  3.49  6.09 -6.37\n",
            " -3.41 -1.49  0.65 -1.49  1.56  4.6  -3.54  1.53 -0.79  3.29  2.37  0.36\n",
            "  0.23  0.86  1.51  2.5  -0.51  2.25  5.94 -7.05 -0.14 -2.37 -0.78  0.95\n",
            "  0.7   1.96 -0.63  0.09 -0.41  3.83 -1.56  0.66 -0.37  0.75  0.22  0.83\n",
            " -0.93  4.23 -0.34  4.42]\n",
            "-------------------------\n",
            "[0 0 0 1 0 0 1 1 1 1 1 0 0 0 1 0 1 1 0 1 0 1 1 1 1 1 1 1 0 1 1 0 0 0 0 1 1\n",
            " 1 0 1 0 1 0 1 0 1 1 1 0 1 0 1]\n"
          ],
          "name": "stdout"
        }
      ]
    },
    {
      "cell_type": "code",
      "metadata": {
        "id": "j2GHt6_yClWW",
        "colab": {
          "base_uri": "https://localhost:8080/"
        },
        "outputId": "f9482a3b-0b69-47a3-db2e-7c1af94a18ff"
      },
      "source": [
        "i = len(Xpred)\n",
        "j = len(y_actual)\n",
        "k = len(yb_actual)\n",
        "\n",
        "print(i, j, k)"
      ],
      "execution_count": 468,
      "outputs": [
        {
          "output_type": "stream",
          "text": [
            "52 52 52\n"
          ],
          "name": "stdout"
        }
      ]
    },
    {
      "cell_type": "markdown",
      "metadata": {
        "id": "agrPLswhEQYf"
      },
      "source": [
        "#Generate predictions\n",
        "\n",
        "Predictions are made for both continuous and binary"
      ]
    },
    {
      "cell_type": "code",
      "metadata": {
        "id": "sJYXf1mKU9t2",
        "colab": {
          "base_uri": "https://localhost:8080/"
        },
        "outputId": "f1344a3d-467f-4d85-c152-b6ab1da334c0"
      },
      "source": [
        "y_pred = regressor.predict(X_pred)\n",
        "\n",
        "yb_pred = regressor_b.predict(Xb_pred)\n",
        "\n",
        "y_all_pred = regressor_all.predict(X_all_pred)\n",
        "\n",
        "y_all_pred_b = regressor_all_b.predict(X_all_pred)\n",
        "\n",
        "np_array = np.concatenate((y_pred.reshape(len(y_pred),1), \n",
        "                           yb_pred.reshape(len(yb_pred),1),\n",
        "                           y_all_pred.reshape(len(y_all_pred),1),\n",
        "                           y_all_pred_b.reshape(len(y_all_pred_b),1),\n",
        "                           y_actual.reshape(len(y_actual),1),\n",
        "                           yb_actual.reshape(len(yb_actual),1),\n",
        "                           ), axis = 1)\n",
        "\n",
        "results = pd.DataFrame(np_array, columns = ['y_pred', 'yb_pred', 'y_all_pred', 'y_all_pred_b', 'y_actual', 'yb_actual'])\n",
        "\n",
        "print(results)\n"
      ],
      "execution_count": 469,
      "outputs": [
        {
          "output_type": "stream",
          "text": [
            "      y_pred   yb_pred  y_all_pred  y_all_pred_b  y_actual  yb_actual\n",
            "0   0.610007  0.591667    0.377597      0.533333      0.00        0.0\n",
            "1   0.486930  0.383333    0.355421      0.633333     -0.92        0.0\n",
            "2  -1.180583  0.500000   -1.235008      0.475000     -2.14        0.0\n",
            "3   1.066793  0.408333    1.031177      0.583333      1.82        1.0\n",
            "4   0.534807  0.391667    0.606777      0.783333     -0.18        0.0\n",
            "5   1.032243  0.441667    0.411750      0.658333     -2.01        0.0\n",
            "6   0.120362  0.416667   -0.131965      0.633333      1.08        1.0\n",
            "7   1.150215  0.250000    0.849715      0.575000      4.48        1.0\n",
            "8   0.433742  0.591667    0.548306      0.583333      0.91        1.0\n",
            "9   0.204419  0.600000    0.019919      0.400000      3.49        1.0\n",
            "10 -0.049098  0.783333    0.402997      0.775000      6.09        1.0\n",
            "11 -2.723345  0.866667   -2.900928      0.641667     -6.37        0.0\n",
            "12 -2.198038  0.508333   -2.433792      0.366667     -3.41        0.0\n",
            "13  0.923000  0.633333    1.013792      0.675000     -1.49        0.0\n",
            "14  0.141110  0.541667    0.087888      0.575000      0.65        1.0\n",
            "15  0.423577  0.883333    0.183653      0.491667     -1.49        0.0\n",
            "16  0.112993  0.800000    0.015667      0.650000      1.56        1.0\n",
            "17  0.234667  0.783333    0.135375      0.408333      4.60        1.0\n",
            "18 -0.792792  0.325000   -0.708167      0.350000     -3.54        0.0\n",
            "19  0.022875  0.633333    0.088708      0.591667      1.53        1.0\n",
            "20 -0.127917  0.416667   -0.085048      0.475000     -0.79        0.0\n",
            "21 -0.213590  0.550000   -0.239173      0.275000      3.29        1.0\n",
            "22 -0.289090  0.400000   -0.231570      0.533333      2.37        1.0\n",
            "23  0.012833  0.558333    0.025750      0.458333      0.36        1.0\n",
            "24  0.361215  0.541667    0.332583      0.658333      0.23        1.0\n",
            "25 -0.895750  0.566667   -0.832083      0.616667      0.86        1.0\n",
            "26  1.493842  0.091667    1.460745      0.641667      1.51        1.0\n",
            "27  0.636243  0.583333    0.567923      0.516667      2.50        1.0\n",
            "28  0.713673  0.558333    0.818035      0.566667     -0.51        0.0\n",
            "29 -0.645000  0.608333   -0.729952      0.391667      2.25        1.0\n",
            "30 -0.900167  0.500000   -1.309502      0.533333      5.94        1.0\n",
            "31  0.246191  0.408333    0.136447      0.533333     -7.05        0.0\n",
            "32 -0.508677  0.433333   -0.439317      0.383333     -0.14        0.0\n",
            "33  0.062333  0.575000    0.112833      0.491667     -2.37        0.0\n",
            "34  0.227840  0.400000    0.241007      0.358333     -0.78        0.0\n",
            "35  0.188445  0.450000    0.191160      0.491667      0.95        1.0\n",
            "36  0.398600  0.416667    0.359330      0.408333      0.70        1.0\n",
            "37  1.205625  0.600000    0.994842      0.725000      1.96        1.0\n",
            "38  0.752882  0.591667    0.695375      0.575000     -0.63        0.0\n",
            "39  0.928402  0.750000    0.697830      0.750000      0.09        1.0\n",
            "40 -0.487250  0.900000   -0.641673      0.525000     -0.41        0.0\n",
            "41  0.451965  0.308333    0.263042      0.533333      3.83        1.0\n",
            "42 -0.045388  0.850000   -0.074103      0.483333     -1.56        0.0\n",
            "43 -0.000382  0.791667   -0.012333      0.566667      0.66        1.0\n",
            "44  0.080437  0.441667    0.135930      0.508333     -0.37        0.0\n",
            "45  1.416437  0.616667    1.363760      0.633333      0.75        1.0\n",
            "46 -0.243450  0.458333   -0.623643      0.550000      0.22        1.0\n",
            "47  1.542167  0.800000    1.555328      0.708333      0.83        1.0\n",
            "48  0.078128  0.666667    0.004803      0.600000     -0.93        0.0\n",
            "49 -0.848485  0.525000   -0.603965      0.533333      4.23        1.0\n",
            "50 -0.007085  0.350000    0.441793      0.483333     -0.34        0.0\n",
            "51  2.599077  0.933333    2.697083      0.833333      4.42        1.0\n"
          ],
          "name": "stdout"
        }
      ]
    },
    {
      "cell_type": "markdown",
      "metadata": {
        "id": "o-3X7j0LFdm3"
      },
      "source": [
        "#Create buy/sell indicator/strategy based on pred\n",
        "\n",
        "1 = Buy next day\n",
        "\n",
        "0 = Sell next day\n",
        "\n",
        "yb_pred_num is a number that can help tune the model. Any number above .5 is less resk adverse (creates more risk)"
      ]
    },
    {
      "cell_type": "code",
      "metadata": {
        "id": "UGmNBoUvD3ee",
        "colab": {
          "base_uri": "https://localhost:8080/"
        },
        "outputId": "fdfc32cf-6426-4c42-ab8c-3eac5e23c88b"
      },
      "source": [
        "yb_pred_num = 0.50\n",
        "\n",
        "results['y_pred_arg'] = np.where(results['y_pred'] > 0, 1, 0)\n",
        "results['yb_pred_arg'] = np.where(results['yb_pred'] > yb_pred_num, 1, 0)\n",
        "results['y_all_pred_arg'] = np.where(results['y_all_pred'] > 0, 1, 0)\n",
        "results['y_all_b_pred_arg'] = np.where(results['y_all_pred_b'] > yb_pred_num, 1, 0)\n",
        "results['y_actual_arg'] = np.where(results['y_actual'] > 0, 1, 0)\n",
        "results['yb_acutal_arg'] = np.where(results['yb_actual'] > 0, 1, 0)\n",
        "results['votes'] = results['y_pred_arg'] + results['yb_pred_arg'] + results['y_all_pred_arg'] + results['y_all_b_pred_arg']\n",
        "\n",
        "print(results)\n"
      ],
      "execution_count": 470,
      "outputs": [
        {
          "output_type": "stream",
          "text": [
            "      y_pred   yb_pred  y_all_pred  ...  y_actual_arg  yb_acutal_arg  votes\n",
            "0   0.610007  0.591667    0.377597  ...             0              0      4\n",
            "1   0.486930  0.383333    0.355421  ...             0              0      3\n",
            "2  -1.180583  0.500000   -1.235008  ...             0              0      0\n",
            "3   1.066793  0.408333    1.031177  ...             1              1      3\n",
            "4   0.534807  0.391667    0.606777  ...             0              0      3\n",
            "5   1.032243  0.441667    0.411750  ...             0              0      3\n",
            "6   0.120362  0.416667   -0.131965  ...             1              1      2\n",
            "7   1.150215  0.250000    0.849715  ...             1              1      3\n",
            "8   0.433742  0.591667    0.548306  ...             1              1      4\n",
            "9   0.204419  0.600000    0.019919  ...             1              1      3\n",
            "10 -0.049098  0.783333    0.402997  ...             1              1      3\n",
            "11 -2.723345  0.866667   -2.900928  ...             0              0      2\n",
            "12 -2.198038  0.508333   -2.433792  ...             0              0      1\n",
            "13  0.923000  0.633333    1.013792  ...             0              0      4\n",
            "14  0.141110  0.541667    0.087888  ...             1              1      4\n",
            "15  0.423577  0.883333    0.183653  ...             0              0      3\n",
            "16  0.112993  0.800000    0.015667  ...             1              1      4\n",
            "17  0.234667  0.783333    0.135375  ...             1              1      3\n",
            "18 -0.792792  0.325000   -0.708167  ...             0              0      0\n",
            "19  0.022875  0.633333    0.088708  ...             1              1      4\n",
            "20 -0.127917  0.416667   -0.085048  ...             0              0      0\n",
            "21 -0.213590  0.550000   -0.239173  ...             1              1      1\n",
            "22 -0.289090  0.400000   -0.231570  ...             1              1      1\n",
            "23  0.012833  0.558333    0.025750  ...             1              1      3\n",
            "24  0.361215  0.541667    0.332583  ...             1              1      4\n",
            "25 -0.895750  0.566667   -0.832083  ...             1              1      2\n",
            "26  1.493842  0.091667    1.460745  ...             1              1      3\n",
            "27  0.636243  0.583333    0.567923  ...             1              1      4\n",
            "28  0.713673  0.558333    0.818035  ...             0              0      4\n",
            "29 -0.645000  0.608333   -0.729952  ...             1              1      1\n",
            "30 -0.900167  0.500000   -1.309502  ...             1              1      1\n",
            "31  0.246191  0.408333    0.136447  ...             0              0      3\n",
            "32 -0.508677  0.433333   -0.439317  ...             0              0      0\n",
            "33  0.062333  0.575000    0.112833  ...             0              0      3\n",
            "34  0.227840  0.400000    0.241007  ...             0              0      2\n",
            "35  0.188445  0.450000    0.191160  ...             1              1      2\n",
            "36  0.398600  0.416667    0.359330  ...             1              1      2\n",
            "37  1.205625  0.600000    0.994842  ...             1              1      4\n",
            "38  0.752882  0.591667    0.695375  ...             0              0      4\n",
            "39  0.928402  0.750000    0.697830  ...             1              1      4\n",
            "40 -0.487250  0.900000   -0.641673  ...             0              0      2\n",
            "41  0.451965  0.308333    0.263042  ...             1              1      3\n",
            "42 -0.045388  0.850000   -0.074103  ...             0              0      1\n",
            "43 -0.000382  0.791667   -0.012333  ...             1              1      2\n",
            "44  0.080437  0.441667    0.135930  ...             0              0      3\n",
            "45  1.416437  0.616667    1.363760  ...             1              1      4\n",
            "46 -0.243450  0.458333   -0.623643  ...             1              1      1\n",
            "47  1.542167  0.800000    1.555328  ...             1              1      4\n",
            "48  0.078128  0.666667    0.004803  ...             0              0      4\n",
            "49 -0.848485  0.525000   -0.603965  ...             1              1      2\n",
            "50 -0.007085  0.350000    0.441793  ...             0              0      1\n",
            "51  2.599077  0.933333    2.697083  ...             1              1      4\n",
            "\n",
            "[52 rows x 13 columns]\n"
          ],
          "name": "stdout"
        }
      ]
    },
    {
      "cell_type": "markdown",
      "metadata": {
        "id": "pqw05ZTyYTRO"
      },
      "source": [
        "#Add in 'short' ticker for same period\n",
        "\n",
        "A short ticker is one that behavies opposite of the selected ticker in this evaluation.\n",
        "\n",
        "The concept of having a short ticker is to trade \"into\" it when trading \"out\" of the primary ticker\n",
        "\n",
        "Note! - This section is not broke out; use hashtag notes as a reference"
      ]
    },
    {
      "cell_type": "code",
      "metadata": {
        "id": "ZfuqoqhppYlx",
        "colab": {
          "base_uri": "https://localhost:8080/"
        },
        "outputId": "e35e885b-afac-4157-b4a0-3f70b28d8b26"
      },
      "source": [
        "#import dataset\n",
        "dataset_short = pd.read_csv('/content/drive/MyDrive/Colab Notebooks/HistoricalPricesHIBS.csv')\n",
        "#rename values with leading white spaces\n",
        "dataset_short.rename({' Close': 'Close'}, axis=1, inplace = True)\n",
        "#create gain loss value for short\n",
        "dataset_short['gain_loss_short-0'] = dataset_short['Close'].diff(-1)\n",
        "#select out values needed for model\n",
        "dataset_short = dataset_short[['Close', 'Date', 'gain_loss_short-0']]\n",
        "#convert date to datetype\n",
        "dataset_short['Date'] = pd.to_datetime(dataset_short['Date'])\n",
        "#select out mating dates to pred dataset\n",
        "pred_short = dataset_short[(dataset_short['Date'] >= pred_begin_date) & \n",
        "                         (dataset_short['Date'] <= pred_end_date)]\n",
        "#move rows down by one\n",
        "y_short = pd.DataFrame(pred_short['gain_loss_short-0']).reset_index(drop = True)\n",
        "y_short.loc[-1] = [0]\n",
        "y_short.index = y_short.index + 1\n",
        "y_short = y_short.sort_index()\n",
        "y_short.drop(y_short.tail(1).index, inplace = True)\n",
        "y_short.rename(columns={'gain_loss_short-0': 'y_short'}, inplace=True)\n",
        "y_short_df = pd.DataFrame(y_short, columns=['y_short'])\n",
        "#add short to results\n",
        "results = pd.concat([results,\n",
        "                    y_short_df],\n",
        "                    axis = 1)\n",
        "#verfity y_short and y_actual are both 0 at row\n",
        "print(results)"
      ],
      "execution_count": 471,
      "outputs": [
        {
          "output_type": "stream",
          "text": [
            "      y_pred   yb_pred  y_all_pred  ...  yb_acutal_arg  votes  y_short\n",
            "0   0.610007  0.591667    0.377597  ...              0      4     0.00\n",
            "1   0.486930  0.383333    0.355421  ...              0      3     0.21\n",
            "2  -1.180583  0.500000   -1.235008  ...              0      0     0.30\n",
            "3   1.066793  0.408333    1.031177  ...              1      3    -0.38\n",
            "4   0.534807  0.391667    0.606777  ...              0      3    -0.32\n",
            "5   1.032243  0.441667    0.411750  ...              0      3     0.43\n",
            "6   0.120362  0.416667   -0.131965  ...              1      2    -0.58\n",
            "7   1.150215  0.250000    0.849715  ...              1      3    -0.02\n",
            "8   0.433742  0.591667    0.548306  ...              1      4     0.39\n",
            "9   0.204419  0.600000    0.019919  ...              1      3    -1.27\n",
            "10 -0.049098  0.783333    0.402997  ...              1      3    -1.60\n",
            "11 -2.723345  0.866667   -2.900928  ...              0      2     1.30\n",
            "12 -2.198038  0.508333   -2.433792  ...              0      1     0.95\n",
            "13  0.923000  0.633333    1.013792  ...              0      4     0.44\n",
            "14  0.141110  0.541667    0.087888  ...              1      4     0.52\n",
            "15  0.423577  0.883333    0.183653  ...              0      3     0.58\n",
            "16  0.112993  0.800000    0.015667  ...              1      4    -0.26\n",
            "17  0.234667  0.783333    0.135375  ...              1      3    -1.08\n",
            "18 -0.792792  0.325000   -0.708167  ...              0      0     0.42\n",
            "19  0.022875  0.633333    0.088708  ...              1      4     0.48\n",
            "20 -0.127917  0.416667   -0.085048  ...              0      0     0.76\n",
            "21 -0.213590  0.550000   -0.239173  ...              1      1     0.11\n",
            "22 -0.289090  0.400000   -0.231570  ...              1      1    -0.32\n",
            "23  0.012833  0.558333    0.025750  ...              1      3    -0.27\n",
            "24  0.361215  0.541667    0.332583  ...              1      4     0.06\n",
            "25 -0.895750  0.566667   -0.832083  ...              1      2     0.56\n",
            "26  1.493842  0.091667    1.460745  ...              1      3    -0.27\n",
            "27  0.636243  0.583333    0.567923  ...              1      4    -0.37\n",
            "28  0.713673  0.558333    0.818035  ...              0      4    -0.15\n",
            "29 -0.645000  0.608333   -0.729952  ...              1      1    -0.05\n",
            "30 -0.900167  0.500000   -1.309502  ...              1      1    -1.17\n",
            "31  0.246191  0.408333    0.136447  ...              0      3     0.84\n",
            "32 -0.508677  0.433333   -0.439317  ...              0      0     0.90\n",
            "33  0.062333  0.575000    0.112833  ...              0      3     0.04\n",
            "34  0.227840  0.400000    0.241007  ...              0      2    -0.08\n",
            "35  0.188445  0.450000    0.191160  ...              1      2     0.30\n",
            "36  0.398600  0.416667    0.359330  ...              1      2    -0.15\n",
            "37  1.205625  0.600000    0.994842  ...              1      4     0.22\n",
            "38  0.752882  0.591667    0.695375  ...              0      4     0.39\n",
            "39  0.928402  0.750000    0.697830  ...              1      4    -0.09\n",
            "40 -0.487250  0.900000   -0.641673  ...              0      2     0.02\n",
            "41  0.451965  0.308333    0.263042  ...              1      3    -0.12\n",
            "42 -0.045388  0.850000   -0.074103  ...              0      1     0.29\n",
            "43 -0.000382  0.791667   -0.012333  ...              1      2    -0.16\n",
            "44  0.080437  0.441667    0.135930  ...              0      3    -0.62\n",
            "45  1.416437  0.616667    1.363760  ...              1      4     0.09\n",
            "46 -0.243450  0.458333   -0.623643  ...              1      1    -0.52\n",
            "47  1.542167  0.800000    1.555328  ...              1      4    -0.43\n",
            "48  0.078128  0.666667    0.004803  ...              0      4     0.24\n",
            "49 -0.848485  0.525000   -0.603965  ...              1      2    -0.56\n",
            "50 -0.007085  0.350000    0.441793  ...              0      1    -0.10\n",
            "51  2.599077  0.933333    2.697083  ...              1      4     0.00\n",
            "\n",
            "[52 rows x 14 columns]\n"
          ],
          "name": "stdout"
        }
      ]
    },
    {
      "cell_type": "code",
      "metadata": {
        "id": "jKAzSnKvr7Tx",
        "colab": {
          "base_uri": "https://localhost:8080/"
        },
        "outputId": "5fe327f6-8e0e-4dcc-ef19-a39aa894ec1e"
      },
      "source": [
        "type(results)"
      ],
      "execution_count": 472,
      "outputs": [
        {
          "output_type": "execute_result",
          "data": {
            "text/plain": [
              "pandas.core.frame.DataFrame"
            ]
          },
          "metadata": {
            "tags": []
          },
          "execution_count": 472
        }
      ]
    },
    {
      "cell_type": "markdown",
      "metadata": {
        "id": "BnXmpVbUKsKD"
      },
      "source": [
        "#Model Performance\n",
        "\n",
        "To account accurately the top row of the \"results\" dataset must be removed\n",
        "\n",
        "Model performanced is based on the buy-sell relationship between the \"..._arg\" columns\n",
        "\n",
        "Each model is measured as well as a various combination of the models."
      ]
    },
    {
      "cell_type": "code",
      "metadata": {
        "id": "x1sxZIZRJrCl"
      },
      "source": [
        "results['y_buy'] = np.where(results['y_pred_arg'] >= 1, results['y_actual'], results['y_short'])\n",
        "results['yb_buy'] = np.where(results['yb_pred_arg'] >= 1, results['y_actual'], results['y_short'])\n",
        "results['yall_buy'] = np.where(results['y_all_pred_arg'] >= 1, results['y_actual'], results['y_short'])\n",
        "results['yallb_buy'] = np.where(results['y_all_b_pred_arg'] >= 1, results['y_actual'], results['y_short'])\n",
        "results['yvote_buy'] = np.where(results['votes']  >= 3, results['y_actual'], results['y_short'])\n"
      ],
      "execution_count": 473,
      "outputs": []
    },
    {
      "cell_type": "markdown",
      "metadata": {
        "id": "5teAplemSXTI"
      },
      "source": [
        "The following section should be turned into a loop"
      ]
    },
    {
      "cell_type": "code",
      "metadata": {
        "id": "vdgmrVfZNHlO",
        "colab": {
          "base_uri": "https://localhost:8080/"
        },
        "outputId": "723477f0-f7be-4f63-9e0d-4971f6adea5f"
      },
      "source": [
        "performance_all = results\n",
        "performance_all = performance_all[1:] #Remove top row since we do not have actual value\n",
        "performance_all = performance_all.sum(axis = 0)\n",
        "print(performance_all)"
      ],
      "execution_count": 474,
      "outputs": [
        {
          "output_type": "stream",
          "text": [
            "y_pred                8.127981\n",
            "yb_pred              28.383333\n",
            "y_all_pred            5.614520\n",
            "y_all_pred_b         28.191667\n",
            "y_actual             26.730000\n",
            "yb_actual            30.000000\n",
            "y_pred_arg           33.000000\n",
            "yb_pred_arg          30.000000\n",
            "y_all_pred_arg       34.000000\n",
            "y_all_b_pred_arg     34.000000\n",
            "y_actual_arg         30.000000\n",
            "yb_acutal_arg        30.000000\n",
            "votes               131.000000\n",
            "y_short              -0.100000\n",
            "y_buy                20.650000\n",
            "yb_buy               21.600000\n",
            "yall_buy             26.440000\n",
            "yallb_buy            29.300000\n",
            "yvote_buy            25.880000\n",
            "dtype: float64\n"
          ],
          "name": "stdout"
        }
      ]
    },
    {
      "cell_type": "code",
      "metadata": {
        "id": "ZyAs4dBWO1jH",
        "colab": {
          "base_uri": "https://localhost:8080/"
        },
        "outputId": "8e251939-ca0b-4bf0-de88-78a85e0fe012"
      },
      "source": [
        "performance_30 = results.head(31)\n",
        "performance_30 = performance_30[1:] #Remove top row since we do not have actual value\n",
        "performance_30 = performance_30.sum(axis = 0)\n",
        "print(performance_30)"
      ],
      "execution_count": 475,
      "outputs": [
        {
          "output_type": "stream",
          "text": [
            "y_pred               0.090171\n",
            "yb_pred             16.116667\n",
            "y_all_pred          -1.881008\n",
            "y_all_pred_b        16.516667\n",
            "y_actual            22.670000\n",
            "yb_actual           19.000000\n",
            "y_pred_arg          19.000000\n",
            "yb_pred_arg         18.000000\n",
            "y_all_pred_arg      19.000000\n",
            "y_all_b_pred_arg    20.000000\n",
            "y_actual_arg        19.000000\n",
            "yb_acutal_arg       19.000000\n",
            "votes               76.000000\n",
            "y_short             -0.600000\n",
            "y_buy               19.380000\n",
            "yb_buy              14.110000\n",
            "yall_buy            25.410000\n",
            "yallb_buy           20.500000\n",
            "yvote_buy           25.410000\n",
            "dtype: float64\n"
          ],
          "name": "stdout"
        }
      ]
    },
    {
      "cell_type": "code",
      "metadata": {
        "id": "0RtKpD35Qe6L",
        "colab": {
          "base_uri": "https://localhost:8080/"
        },
        "outputId": "6c9d97e6-fba5-43ae-8840-225f816166d3"
      },
      "source": [
        "performance_60 = results.head(61)\n",
        "performance_60 = performance_60[1:] #Remove top row since we do not have actual value\n",
        "performance_60 = performance_60.sum(axis = 0)\n",
        "print(performance_60)"
      ],
      "execution_count": 476,
      "outputs": [
        {
          "output_type": "stream",
          "text": [
            "y_pred                8.127981\n",
            "yb_pred              28.383333\n",
            "y_all_pred            5.614520\n",
            "y_all_pred_b         28.191667\n",
            "y_actual             26.730000\n",
            "yb_actual            30.000000\n",
            "y_pred_arg           33.000000\n",
            "yb_pred_arg          30.000000\n",
            "y_all_pred_arg       34.000000\n",
            "y_all_b_pred_arg     34.000000\n",
            "y_actual_arg         30.000000\n",
            "yb_acutal_arg        30.000000\n",
            "votes               131.000000\n",
            "y_short              -0.100000\n",
            "y_buy                20.650000\n",
            "yb_buy               21.600000\n",
            "yall_buy             26.440000\n",
            "yallb_buy            29.300000\n",
            "yvote_buy            25.880000\n",
            "dtype: float64\n"
          ],
          "name": "stdout"
        }
      ]
    },
    {
      "cell_type": "code",
      "metadata": {
        "id": "anaaRxMQR6SG",
        "colab": {
          "base_uri": "https://localhost:8080/"
        },
        "outputId": "4f90e486-424c-48fc-d705-3be21b5621e3"
      },
      "source": [
        "performance_15 = results.head(16)\n",
        "performance_15 = performance_15[1:] #Remove top row since we do not have actual value\n",
        "performance_15 = performance_15.sum(axis = 0)\n",
        "print(performance_15)"
      ],
      "execution_count": 477,
      "outputs": [
        {
          "output_type": "stream",
          "text": [
            "y_pred               0.366134\n",
            "yb_pred              8.200000\n",
            "y_all_pred          -1.190299\n",
            "y_all_pred_b         8.850000\n",
            "y_actual             0.510000\n",
            "yb_actual            7.000000\n",
            "y_pred_arg          11.000000\n",
            "yb_pred_arg          8.000000\n",
            "y_all_pred_arg      11.000000\n",
            "y_all_b_pred_arg    11.000000\n",
            "y_actual_arg         7.000000\n",
            "yb_acutal_arg        7.000000\n",
            "votes               41.000000\n",
            "y_short              0.950000\n",
            "y_buy                7.290000\n",
            "yb_buy              -1.980000\n",
            "yall_buy            13.320000\n",
            "yallb_buy            4.620000\n",
            "yvote_buy           13.320000\n",
            "dtype: float64\n"
          ],
          "name": "stdout"
        }
      ]
    },
    {
      "cell_type": "code",
      "metadata": {
        "id": "d9sQut9GR6dU",
        "colab": {
          "base_uri": "https://localhost:8080/"
        },
        "outputId": "7e523857-058a-47c9-fd3a-1e9567977baf"
      },
      "source": [
        "performance_45 = results.head(46)\n",
        "performance_45 = performance_45[1:] #Remove top row since we do not have actual value\n",
        "performance_45 = performance_45.sum(axis = 0)\n",
        "print(performance_45)"
      ],
      "execution_count": 478,
      "outputs": [
        {
          "output_type": "stream",
          "text": [
            "y_pred                5.007630\n",
            "yb_pred              24.650000\n",
            "y_all_pred            2.143121\n",
            "y_all_pred_b         24.483333\n",
            "y_actual             18.300000\n",
            "yb_actual            26.000000\n",
            "y_pred_arg           30.000000\n",
            "yb_pred_arg          26.000000\n",
            "y_all_pred_arg       30.000000\n",
            "y_all_b_pred_arg     29.000000\n",
            "y_actual_arg         26.000000\n",
            "yb_acutal_arg        26.000000\n",
            "votes               115.000000\n",
            "y_short               1.270000\n",
            "y_buy                17.510000\n",
            "yb_buy               13.670000\n",
            "yall_buy             23.540000\n",
            "yallb_buy            20.630000\n",
            "yvote_buy            22.740000\n",
            "dtype: float64\n"
          ],
          "name": "stdout"
        }
      ]
    },
    {
      "cell_type": "code",
      "metadata": {
        "id": "q8UcXA7hR6mH",
        "colab": {
          "base_uri": "https://localhost:8080/"
        },
        "outputId": "f0b35e39-2d5f-4e4e-edc0-563739588ff6"
      },
      "source": [
        "performance_5 = results.head(6)\n",
        "performance_5 = performance_5[1:] #Remove top row since we do not have actual value\n",
        "performance_5 = performance_5.sum(axis = 0)\n",
        "print(performance_5)"
      ],
      "execution_count": 479,
      "outputs": [
        {
          "output_type": "stream",
          "text": [
            "y_pred               1.940190\n",
            "yb_pred              2.125000\n",
            "y_all_pred           1.170116\n",
            "y_all_pred_b         3.133333\n",
            "y_actual            -3.430000\n",
            "yb_actual            1.000000\n",
            "y_pred_arg           4.000000\n",
            "yb_pred_arg          0.000000\n",
            "y_all_pred_arg       4.000000\n",
            "y_all_b_pred_arg     4.000000\n",
            "y_actual_arg         1.000000\n",
            "yb_acutal_arg        1.000000\n",
            "votes               12.000000\n",
            "y_short              0.240000\n",
            "y_buy               -0.990000\n",
            "yb_buy               0.240000\n",
            "yall_buy            -0.990000\n",
            "yallb_buy           -0.990000\n",
            "yvote_buy           -0.990000\n",
            "dtype: float64\n"
          ],
          "name": "stdout"
        }
      ]
    },
    {
      "cell_type": "code",
      "metadata": {
        "id": "wzYnbajGUsll",
        "colab": {
          "base_uri": "https://localhost:8080/"
        },
        "outputId": "265b31fb-1597-40f3-8d33-e50561d52553"
      },
      "source": [
        "performance_10 = results.head(11)\n",
        "performance_10 = performance_10[1:] #Remove top row since we do not have actual value\n",
        "performance_10 = performance_10.sum(axis = 0)\n",
        "print(performance_10)"
      ],
      "execution_count": 480,
      "outputs": [
        {
          "output_type": "stream",
          "text": [
            "y_pred               3.799830\n",
            "yb_pred              4.766667\n",
            "y_all_pred           2.859088\n",
            "y_all_pred_b         6.100000\n",
            "y_actual            12.620000\n",
            "yb_actual            6.000000\n",
            "y_pred_arg           8.000000\n",
            "yb_pred_arg          3.000000\n",
            "y_all_pred_arg       8.000000\n",
            "y_all_b_pred_arg     8.000000\n",
            "y_actual_arg         6.000000\n",
            "yb_acutal_arg        6.000000\n",
            "votes               27.000000\n",
            "y_short             -2.840000\n",
            "y_buy                7.370000\n",
            "yb_buy              10.130000\n",
            "yall_buy            13.400000\n",
            "yallb_buy           10.300000\n",
            "yvote_buy           13.400000\n",
            "dtype: float64\n"
          ],
          "name": "stdout"
        }
      ]
    },
    {
      "cell_type": "code",
      "metadata": {
        "id": "mhX2q3QOUtFB",
        "colab": {
          "base_uri": "https://localhost:8080/"
        },
        "outputId": "71053b3a-0c2c-4017-e93f-5f2fdb9d1732"
      },
      "source": [
        "performance_20 = results.head(21)\n",
        "performance_20 = performance_20[1:] #Remove top row since we do not have actual value\n",
        "performance_20 = performance_20.sum(axis = 0)\n",
        "print(performance_20)"
      ],
      "execution_count": 481,
      "outputs": [
        {
          "output_type": "stream",
          "text": [
            "y_pred              -0.184039\n",
            "yb_pred             11.158333\n",
            "y_all_pred          -1.743764\n",
            "y_all_pred_b        11.325000\n",
            "y_actual             3.870000\n",
            "yb_actual           10.000000\n",
            "y_pred_arg          14.000000\n",
            "yb_pred_arg         11.000000\n",
            "y_all_pred_arg      14.000000\n",
            "y_all_b_pred_arg    13.000000\n",
            "y_actual_arg        10.000000\n",
            "yb_acutal_arg       10.000000\n",
            "votes               52.000000\n",
            "y_short              1.270000\n",
            "y_buy               16.160000\n",
            "yb_buy               6.890000\n",
            "yall_buy            22.190000\n",
            "yallb_buy            7.810000\n",
            "yvote_buy           22.190000\n",
            "dtype: float64\n"
          ],
          "name": "stdout"
        }
      ]
    },
    {
      "cell_type": "code",
      "metadata": {
        "id": "ki_EiwXnUtP8",
        "colab": {
          "base_uri": "https://localhost:8080/"
        },
        "outputId": "4a695ac0-24c3-403e-b46b-d33b29285d25"
      },
      "source": [
        "performance_25 = results.head(26)\n",
        "performance_25 = performance_25[1:] #Remove top row since we do not have actual value\n",
        "performance_25 = performance_25.sum(axis = 0)\n",
        "print(performance_25)"
      ],
      "execution_count": 482,
      "outputs": [
        {
          "output_type": "stream",
          "text": [
            "y_pred              -1.208421\n",
            "yb_pred             13.775000\n",
            "y_all_pred          -2.688257\n",
            "y_all_pred_b        13.866667\n",
            "y_actual            10.980000\n",
            "yb_actual           15.000000\n",
            "y_pred_arg          16.000000\n",
            "yb_pred_arg         15.000000\n",
            "y_all_pred_arg      16.000000\n",
            "y_all_b_pred_arg    16.000000\n",
            "y_actual_arg        15.000000\n",
            "yb_acutal_arg       15.000000\n",
            "votes               63.000000\n",
            "y_short              1.410000\n",
            "y_buy               17.100000\n",
            "yb_buy              11.310000\n",
            "yall_buy            23.130000\n",
            "yallb_buy           11.110000\n",
            "yvote_buy           23.130000\n",
            "dtype: float64\n"
          ],
          "name": "stdout"
        }
      ]
    },
    {
      "cell_type": "code",
      "metadata": {
        "id": "ldmAemGnUtZF",
        "colab": {
          "base_uri": "https://localhost:8080/"
        },
        "outputId": "0ef8d594-4eb4-466f-f442-191e106a741a"
      },
      "source": [
        "performance_35 = results.head(36)\n",
        "performance_35 = performance_35[1:] #Remove top row since we do not have actual value\n",
        "performance_35 = performance_35.sum(axis = 0)\n",
        "print(performance_35)"
      ],
      "execution_count": 483,
      "outputs": [
        {
          "output_type": "stream",
          "text": [
            "y_pred               0.306303\n",
            "yb_pred             18.383333\n",
            "y_all_pred          -1.638877\n",
            "y_all_pred_b        18.775000\n",
            "y_actual            13.280000\n",
            "yb_actual           20.000000\n",
            "y_pred_arg          23.000000\n",
            "yb_pred_arg         19.000000\n",
            "y_all_pred_arg      23.000000\n",
            "y_all_b_pred_arg    21.000000\n",
            "y_actual_arg        20.000000\n",
            "yb_acutal_arg       20.000000\n",
            "votes               86.000000\n",
            "y_short              1.400000\n",
            "y_buy               11.030000\n",
            "yb_buy              13.700000\n",
            "yall_buy            17.060000\n",
            "yallb_buy           14.610000\n",
            "yvote_buy           17.110000\n",
            "dtype: float64\n"
          ],
          "name": "stdout"
        }
      ]
    },
    {
      "cell_type": "code",
      "metadata": {
        "id": "QMWxREU1VhJX",
        "colab": {
          "base_uri": "https://localhost:8080/"
        },
        "outputId": "1f5f7272-609f-4e63-c7df-c7b09da3adcd"
      },
      "source": [
        "performance_40 = results.head(41)\n",
        "performance_40 = performance_40[1:] #Remove top row since we do not have actual value\n",
        "performance_40 = performance_40.sum(axis = 0)\n",
        "print(performance_40)"
      ],
      "execution_count": 484,
      "outputs": [
        {
          "output_type": "stream",
          "text": [
            "y_pred                3.104561\n",
            "yb_pred              21.641667\n",
            "y_all_pred            0.466826\n",
            "y_all_pred_b         21.758333\n",
            "y_actual             14.990000\n",
            "yb_actual            23.000000\n",
            "y_pred_arg           27.000000\n",
            "yb_pred_arg          23.000000\n",
            "y_all_pred_arg       27.000000\n",
            "y_all_b_pred_arg     25.000000\n",
            "y_actual_arg         23.000000\n",
            "yb_acutal_arg        23.000000\n",
            "votes               102.000000\n",
            "y_short               1.790000\n",
            "y_buy                13.170000\n",
            "yb_buy               14.560000\n",
            "yall_buy             19.200000\n",
            "yallb_buy            15.470000\n",
            "yvote_buy            18.400000\n",
            "dtype: float64\n"
          ],
          "name": "stdout"
        }
      ]
    },
    {
      "cell_type": "code",
      "metadata": {
        "id": "3EnuMXwrV18-",
        "colab": {
          "base_uri": "https://localhost:8080/"
        },
        "outputId": "caadcfd3-6c6a-4908-ab42-dfd3b9cb88c8"
      },
      "source": [
        "performance_50 = results.head(51)\n",
        "performance_50 = performance_50[1:] #Remove top row since we do not have actual value\n",
        "performance_50 = performance_50.sum(axis = 0)\n",
        "print(performance_50)"
      ],
      "execution_count": 485,
      "outputs": [
        {
          "output_type": "stream",
          "text": [
            "y_pred                5.528905\n",
            "yb_pred              27.450000\n",
            "y_all_pred            2.917437\n",
            "y_all_pred_b         27.358333\n",
            "y_actual             22.310000\n",
            "yb_actual            29.000000\n",
            "y_pred_arg           32.000000\n",
            "yb_pred_arg          29.000000\n",
            "y_all_pred_arg       33.000000\n",
            "y_all_b_pred_arg     33.000000\n",
            "y_actual_arg         29.000000\n",
            "yb_acutal_arg        29.000000\n",
            "votes               127.000000\n",
            "y_short              -0.100000\n",
            "y_buy                16.230000\n",
            "yb_buy               17.180000\n",
            "yall_buy             22.020000\n",
            "yallb_buy            24.880000\n",
            "yvote_buy            21.460000\n",
            "dtype: float64\n"
          ],
          "name": "stdout"
        }
      ]
    },
    {
      "cell_type": "code",
      "metadata": {
        "id": "cap9bS6NV2Yq",
        "colab": {
          "base_uri": "https://localhost:8080/"
        },
        "outputId": "66c2fba9-1f1c-4420-cae9-9484a6e388b4"
      },
      "source": [
        "performance_55 = results.head(56)\n",
        "performance_55 = performance_55[1:] #Remove top row since we do not have actual value\n",
        "performance_55 = performance_55.sum(axis = 0)\n",
        "print(performance_55)"
      ],
      "execution_count": 486,
      "outputs": [
        {
          "output_type": "stream",
          "text": [
            "y_pred                8.127981\n",
            "yb_pred              28.383333\n",
            "y_all_pred            5.614520\n",
            "y_all_pred_b         28.191667\n",
            "y_actual             26.730000\n",
            "yb_actual            30.000000\n",
            "y_pred_arg           33.000000\n",
            "yb_pred_arg          30.000000\n",
            "y_all_pred_arg       34.000000\n",
            "y_all_b_pred_arg     34.000000\n",
            "y_actual_arg         30.000000\n",
            "yb_acutal_arg        30.000000\n",
            "votes               131.000000\n",
            "y_short              -0.100000\n",
            "y_buy                20.650000\n",
            "yb_buy               21.600000\n",
            "yall_buy             26.440000\n",
            "yallb_buy            29.300000\n",
            "yvote_buy            25.880000\n",
            "dtype: float64\n"
          ],
          "name": "stdout"
        }
      ]
    },
    {
      "cell_type": "code",
      "metadata": {
        "id": "EwQ017VqQ6Uy",
        "colab": {
          "base_uri": "https://localhost:8080/"
        },
        "outputId": "e6ae615b-3a7b-42b2-f912-7662de7fdeb7"
      },
      "source": [
        "performance = pd.concat([performance_5,\n",
        "                         performance_10,\n",
        "                         performance_15, \n",
        "                         performance_20,\n",
        "                         performance_25,\n",
        "                         performance_30,\n",
        "                         performance_35,\n",
        "                         performance_40, \n",
        "                         performance_45,\n",
        "                         performance_50,\n",
        "                         performance_55,\n",
        "                         performance_60, \n",
        "                         performance_all], axis=1)\n",
        "\n",
        "print(performance)"
      ],
      "execution_count": 487,
      "outputs": [
        {
          "output_type": "stream",
          "text": [
            "                         0          1   ...          11          12\n",
            "y_pred             1.940190   3.799830  ...    8.127981    8.127981\n",
            "yb_pred            2.125000   4.766667  ...   28.383333   28.383333\n",
            "y_all_pred         1.170116   2.859088  ...    5.614520    5.614520\n",
            "y_all_pred_b       3.133333   6.100000  ...   28.191667   28.191667\n",
            "y_actual          -3.430000  12.620000  ...   26.730000   26.730000\n",
            "yb_actual          1.000000   6.000000  ...   30.000000   30.000000\n",
            "y_pred_arg         4.000000   8.000000  ...   33.000000   33.000000\n",
            "yb_pred_arg        0.000000   3.000000  ...   30.000000   30.000000\n",
            "y_all_pred_arg     4.000000   8.000000  ...   34.000000   34.000000\n",
            "y_all_b_pred_arg   4.000000   8.000000  ...   34.000000   34.000000\n",
            "y_actual_arg       1.000000   6.000000  ...   30.000000   30.000000\n",
            "yb_acutal_arg      1.000000   6.000000  ...   30.000000   30.000000\n",
            "votes             12.000000  27.000000  ...  131.000000  131.000000\n",
            "y_short            0.240000  -2.840000  ...   -0.100000   -0.100000\n",
            "y_buy             -0.990000   7.370000  ...   20.650000   20.650000\n",
            "yb_buy             0.240000  10.130000  ...   21.600000   21.600000\n",
            "yall_buy          -0.990000  13.400000  ...   26.440000   26.440000\n",
            "yallb_buy         -0.990000  10.300000  ...   29.300000   29.300000\n",
            "yvote_buy         -0.990000  13.400000  ...   25.880000   25.880000\n",
            "\n",
            "[19 rows x 13 columns]\n"
          ],
          "name": "stdout"
        }
      ]
    },
    {
      "cell_type": "code",
      "metadata": {
        "id": "bKau_JXi94r3",
        "colab": {
          "base_uri": "https://localhost:8080/"
        },
        "outputId": "f6c1c9ad-1c89-469d-a4f9-ff11f26e4a48"
      },
      "source": [
        "df1 = performance.T\n",
        "print(df1)"
      ],
      "execution_count": 488,
      "outputs": [
        {
          "output_type": "stream",
          "text": [
            "      y_pred    yb_pred  y_all_pred  ...  yall_buy  yallb_buy  yvote_buy\n",
            "0   1.940190   2.125000    1.170116  ...     -0.99      -0.99      -0.99\n",
            "1   3.799830   4.766667    2.859088  ...     13.40      10.30      13.40\n",
            "2   0.366134   8.200000   -1.190299  ...     13.32       4.62      13.32\n",
            "3  -0.184039  11.158333   -1.743764  ...     22.19       7.81      22.19\n",
            "4  -1.208421  13.775000   -2.688257  ...     23.13      11.11      23.13\n",
            "5   0.090171  16.116667   -1.881008  ...     25.41      20.50      25.41\n",
            "6   0.306303  18.383333   -1.638877  ...     17.06      14.61      17.11\n",
            "7   3.104561  21.641667    0.466826  ...     19.20      15.47      18.40\n",
            "8   5.007630  24.650000    2.143121  ...     23.54      20.63      22.74\n",
            "9   5.528905  27.450000    2.917437  ...     22.02      24.88      21.46\n",
            "10  8.127981  28.383333    5.614520  ...     26.44      29.30      25.88\n",
            "11  8.127981  28.383333    5.614520  ...     26.44      29.30      25.88\n",
            "12  8.127981  28.383333    5.614520  ...     26.44      29.30      25.88\n",
            "\n",
            "[13 rows x 19 columns]\n"
          ],
          "name": "stdout"
        }
      ]
    },
    {
      "cell_type": "code",
      "metadata": {
        "id": "ptcaYXPj-FvH",
        "colab": {
          "base_uri": "https://localhost:8080/",
          "height": 282
        },
        "outputId": "e0156cdc-000e-472c-e1c9-855b48af8397"
      },
      "source": [
        "plt.plot(df1['y_actual'], color='black')\n",
        "plt.plot(df1['y_buy'], color='blue')\n",
        "plt.plot(df1['yb_buy'], color='red')\n",
        "plt.plot(df1['yall_buy'], color='green')\n",
        "plt.plot(df1['yallb_buy'], color='orange')\n",
        "plt.plot(df1['yvote_buy'], color='brown')"
      ],
      "execution_count": 489,
      "outputs": [
        {
          "output_type": "execute_result",
          "data": {
            "text/plain": [
              "[<matplotlib.lines.Line2D at 0x7fd9eaa38190>]"
            ]
          },
          "metadata": {
            "tags": []
          },
          "execution_count": 489
        },
        {
          "output_type": "display_data",
          "data": {
            "image/png": "[encoded data removed]",
            "text/plain": [
              "<Figure size 432x288 with 1 Axes>"
            ]
          },
          "metadata": {
            "tags": [],
            "needs_background": "light"
          }
        }
      ]
    },
    {
      "cell_type": "code",
      "metadata": {
        "colab": {
          "base_uri": "https://localhost:8080/",
          "height": 282
        },
        "id": "7Ond72uoKLyP",
        "outputId": "674a65a3-1ef2-4f8d-f137-4ab183833b78"
      },
      "source": [
        "plt.plot(df1['y_actual'], color='black')\n",
        "plt.plot(df1['y_buy'], color='blue')\n"
      ],
      "execution_count": 490,
      "outputs": [
        {
          "output_type": "execute_result",
          "data": {
            "text/plain": [
              "[<matplotlib.lines.Line2D at 0x7fd9ea99d9d0>]"
            ]
          },
          "metadata": {
            "tags": []
          },
          "execution_count": 490
        },
        {
          "output_type": "display_data",
          "data": {
            "image/png": "[encoded data removed]",
            "text/plain": [
              "<Figure size 432x288 with 1 Axes>"
            ]
          },
          "metadata": {
            "tags": [],
            "needs_background": "light"
          }
        }
      ]
    },
    {
      "cell_type": "code",
      "metadata": {
        "colab": {
          "base_uri": "https://localhost:8080/",
          "height": 282
        },
        "id": "YnlwI9UrKL5-",
        "outputId": "43266c03-317e-4a62-e796-e15849129595"
      },
      "source": [
        "plt.plot(df1['y_actual'], color='black')\n",
        "plt.plot(df1['yb_buy'], color='red')"
      ],
      "execution_count": 491,
      "outputs": [
        {
          "output_type": "execute_result",
          "data": {
            "text/plain": [
              "[<matplotlib.lines.Line2D at 0x7fd9ea904f50>]"
            ]
          },
          "metadata": {
            "tags": []
          },
          "execution_count": 491
        },
        {
          "output_type": "display_data",
          "data": {
            "image/png": "[encoded data removed]",
            "text/plain": [
              "<Figure size 432x288 with 1 Axes>"
            ]
          },
          "metadata": {
            "tags": [],
            "needs_background": "light"
          }
        }
      ]
    },
    {
      "cell_type": "code",
      "metadata": {
        "colab": {
          "base_uri": "https://localhost:8080/",
          "height": 282
        },
        "id": "EebffbV5KL_t",
        "outputId": "d4da4302-e24b-4aee-cb99-8bb3c62aa9be"
      },
      "source": [
        "plt.plot(df1['y_actual'], color='black')\n",
        "plt.plot(df1['yall_buy'], color='green')"
      ],
      "execution_count": 492,
      "outputs": [
        {
          "output_type": "execute_result",
          "data": {
            "text/plain": [
              "[<matplotlib.lines.Line2D at 0x7fd9ea8f7510>]"
            ]
          },
          "metadata": {
            "tags": []
          },
          "execution_count": 492
        },
        {
          "output_type": "display_data",
          "data": {
            "image/png": "[encoded data removed]",
            "text/plain": [
              "<Figure size 432x288 with 1 Axes>"
            ]
          },
          "metadata": {
            "tags": [],
            "needs_background": "light"
          }
        }
      ]
    },
    {
      "cell_type": "code",
      "metadata": {
        "colab": {
          "base_uri": "https://localhost:8080/",
          "height": 282
        },
        "id": "x2yvMNTWKMD3",
        "outputId": "3a0544bd-f4ee-420d-8ef1-2cbb802f9e14"
      },
      "source": [
        "plt.plot(df1['y_actual'], color='black')\n",
        "plt.plot(df1['yallb_buy'], color='orange')"
      ],
      "execution_count": 493,
      "outputs": [
        {
          "output_type": "execute_result",
          "data": {
            "text/plain": [
              "[<matplotlib.lines.Line2D at 0x7fd9ea864210>]"
            ]
          },
          "metadata": {
            "tags": []
          },
          "execution_count": 493
        },
        {
          "output_type": "display_data",
          "data": {
            "image/png": "[encoded data removed]",
            "text/plain": [
              "<Figure size 432x288 with 1 Axes>"
            ]
          },
          "metadata": {
            "tags": [],
            "needs_background": "light"
          }
        }
      ]
    },
    {
      "cell_type": "code",
      "metadata": {
        "colab": {
          "base_uri": "https://localhost:8080/",
          "height": 282
        },
        "id": "TcxkVMi1KWHm",
        "outputId": "221233a9-996e-4c63-f8ba-b8e4a0e0abaa"
      },
      "source": [
        "plt.plot(df1['y_actual'], color='black')\n",
        "plt.plot(df1['yvote_buy'], color='brown')"
      ],
      "execution_count": 494,
      "outputs": [
        {
          "output_type": "execute_result",
          "data": {
            "text/plain": [
              "[<matplotlib.lines.Line2D at 0x7fd9ea7d1690>]"
            ]
          },
          "metadata": {
            "tags": []
          },
          "execution_count": 494
        },
        {
          "output_type": "display_data",
          "data": {
            "image/png": "[encoded data removed]",
            "text/plain": [
              "<Figure size 432x288 with 1 Axes>"
            ]
          },
          "metadata": {
            "tags": [],
            "needs_background": "light"
          }
        }
      ]
    },
    {
      "cell_type": "code",
      "metadata": {
        "id": "-N1HSPFzYmaf"
      },
      "source": [
        "#results.to_csv('/content/drive/MyDrive/Colab Notebooks/results_sky_hibs_20160101-20210802_.csv')\n",
        "#performance.to_csv('/content/drive/MyDrive/Colab Notebooks/performance_sky_hibs_20190101-20210802_.csv')"
      ],
      "execution_count": 495,
      "outputs": []
    }
  ]
}